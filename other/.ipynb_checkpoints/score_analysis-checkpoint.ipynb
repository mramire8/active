{
 "metadata": {
  "name": ""
 },
 "nbformat": 3,
 "nbformat_minor": 0,
 "worksheets": [
  {
   "cells": [
    {
     "cell_type": "code",
     "collapsed": false,
     "input": [
      "import numpy as np\n",
      "import matplotlib.pyplot as plt\n",
      "import matplotlib as mpl\n",
      "\n",
      "mpl.style.use('bmh')\n",
      "\n",
      "path = \"C:/Users/mramire8/Google Drive/AAL-Experiments/aal_python/sr-oracle-test/results-calibrated/zscores/score-analysis\"\n",
      "trial = \"trial0-student5k.txt\"\n",
      "\n",
      "def load_trial(filename):\n",
      "    data = np.loadtxt(path+\"/\"+filename, skiprows=1)\n",
      "    return data\n",
      "\n",
      "def read_data(filename):\n",
      "    f = open(path+\"/\"+filename)\n",
      "    with f:\n",
      "        lines = f.readlines() \n",
      "    return np.array([l.strip().split(\"\\t\") for l in lines[1:]]), lines[0]\n",
      "\n",
      "t,headers = read_data(trial)\n",
      "t0 = load_trial(trial)    \n",
      "    "
     ],
     "language": "python",
     "metadata": {},
     "outputs": [],
     "prompt_number": 2
    },
    {
     "cell_type": "code",
     "collapsed": false,
     "input": [
      "print \"Number of sentences\", len(t)\n",
      "print \"Number of Documents\", len(np.unique(t[:,1]))\n",
      "print \"Headers\", headers"
     ],
     "language": "python",
     "metadata": {},
     "outputs": [
      {
       "output_type": "stream",
       "stream": "stdout",
       "text": [
        "Number of sentences 3259\n",
        "Number of Documents 250\n",
        "Headers SENTID\tDOCID\tSCORE\tRANK\tCALSCORE\tCALRANK\tORAPRED\t1LABEL\tPy0\tSTUDENTLABEL\tCorrectlyLabeled?\tStudentCorrect?\tRankDiff\n",
        "\n"
       ]
      }
     ],
     "prompt_number": 3
    },
    {
     "cell_type": "code",
     "collapsed": false,
     "input": [
      "def get_doc(data, docid):\n",
      "    return np.array([d for d in data if d[1] == docid])\n",
      "#     return data[data[1]==docid,:]\n",
      "RANK=3\n",
      "CRANK=5\n"
     ],
     "language": "python",
     "metadata": {},
     "outputs": [],
     "prompt_number": 4
    },
    {
     "cell_type": "code",
     "collapsed": false,
     "input": [
      "from scipy.stats import pearsonr\n",
      "def get_pearson_doc(data):\n",
      "    result = dict()\n",
      "    for did in np.unique(data[:,1]):\n",
      "        doc =get_doc(data,did)\n",
      "        result[did]=pearsonr(doc[:,RANK], doc[:,CRANK])[0]\n",
      "    return result"
     ],
     "language": "python",
     "metadata": {},
     "outputs": [],
     "prompt_number": 5
    },
    {
     "cell_type": "code",
     "collapsed": false,
     "input": [
      "corr = sorted(get_pearson_doc(t0).items(),key=lambda x: x[1], reverse=True)\n",
      "\n",
      "print \"\\n\".join([\"docid:{}\\tcorrel:{}\".format(d,p) for d,p in corr[:10]])\n"
     ],
     "language": "python",
     "metadata": {},
     "outputs": [
      {
       "output_type": "stream",
       "stream": "stdout",
       "text": [
        "docid:8198.0\tcorrel:1.0\n",
        "docid:8203.0\tcorrel:1.0\n",
        "docid:4108.0\tcorrel:1.0\n",
        "docid:6744.0\tcorrel:1.0\n",
        "docid:35.0\tcorrel:1.0\n",
        "docid:11300.0\tcorrel:1.0\n",
        "docid:8355.0\tcorrel:1.0\n",
        "docid:3629.0\tcorrel:1.0\n",
        "docid:2610.0\tcorrel:1.0\n",
        "docid:7469.0\tcorrel:1.0\n"
       ]
      },
      {
       "output_type": "stream",
       "stream": "stderr",
       "text": [
        "C:\\Python27\\lib\\site-packages\\scipy\\stats\\stats.py:2436: RuntimeWarning: invalid value encountered in double_scalars\n",
        "  r = r_num / r_den\n",
        "C:\\Python27\\lib\\site-packages\\scipy\\stats\\stats.py:4184: RuntimeWarning: invalid value encountered in less\n",
        "  x = np.where(x < 1.0, x, 1.0)  # if x > 1 then return 1.0\n"
       ]
      }
     ],
     "prompt_number": 6
    },
    {
     "cell_type": "code",
     "collapsed": false,
     "input": [
      "from collections import Counter\n",
      "corr_dist = Counter([c[1] for c in corr])\n",
      "plt.hist(corr_dist.keys(),weights=corr_dist.values(), bins=np.arange(.8,1.001,.01))\n",
      "plt.title(\"Correlation Distribution Ranks - (mean: {0:.3f})\".format(np.mean([c[1] for c in corr])))\n",
      "plt.xlabel(\"Pearson Correlation\")\n",
      "plt.ylabel(\"Frequency\")\n"
     ],
     "language": "python",
     "metadata": {},
     "outputs": [
      {
       "metadata": {},
       "output_type": "pyout",
       "prompt_number": 7,
       "text": [
        "<matplotlib.text.Text at 0xb4381d0>"
       ]
      },
      {
       "metadata": {},
       "output_type": "display_data",
       "png": "[encoded data removed]",
       "text": [
        "<matplotlib.figure.Figure at 0x511a4e0>"
       ]
      }
     ],
     "prompt_number": 7
    },
    {
     "cell_type": "code",
     "collapsed": false,
     "input": [
      "#SENTID\tDOCID\tSCORE\tRANK\tCALSCORE\tCALRANK\tORAPRED\t1LABEL\tPy0\tSTUDENTLABEL\tCorrectlyLabeled?\tStudentCorrect?\tRankDiff\n",
      "# Chek if the sentences picked by the students are correct?\n",
      "SCORRECT = 11 ## correctly labeled by the student\n",
      "OCORRECT = 10 # correctly labeled by the oracle\n",
      "snippets = t0[t0[:,CRANK] == 0]\n",
      "print \"Correctly labeled snippets by student: %s (%s)\" % (len(snippets[snippets[:,SCORRECT]==1]),snippets[:,SCORRECT].sum()/len(snippets))\n",
      "print \"Snippets by student: Correct 0:%s, correct-1:%s\" % (len([s for s in snippets if s[9]==0 and s[SCORRECT]]),len([s for s in snippets if s[9]==1 and s[SCORRECT]]))\n",
      "print \"Correctly labeled snippets by oracle: %s\" % (snippets[:,OCORRECT].sum()/len(snippets))\n"
     ],
     "language": "python",
     "metadata": {},
     "outputs": [
      {
       "output_type": "stream",
       "stream": "stdout",
       "text": [
        "Correctly labeled snippets by student: 189 (0.756)\n",
        "Snippets by student: Correct 0:99, correct-1:90\n",
        "Correctly labeled snippets by oracle: 0.78\n"
       ]
      }
     ],
     "prompt_number": 35
    },
    {
     "cell_type": "code",
     "collapsed": false,
     "input": [
      "print \"Snippets\" \n",
      "from itertools import product\n",
      "\n",
      "def get_selected(snippets, label, student, oracle):\n",
      "    return [s for s in snippets if s[7]==label and s[SCORRECT] == student and s[OCORRECT] == oracle]\n",
      "\n",
      "def get_options_selected(snippets,labels, student, oracle):\n",
      "    options = product(labels, student, oracle)\n",
      "    tot = 0\n",
      "    ans= []\n",
      "    for opt in options:\n",
      "        s = get_selected(snippets, *opt)\n",
      "        print \"label=%s\\tstudent=%s\\toracle=%s\" % opt,\n",
      "        print \"\\t%s\\t%s\" % (len(s), len(s)/250.)\n",
      "        tot += len(s)\n",
      "        ans.append(s)\n",
      "    print \"Total\", tot\n",
      "    return ans\n",
      "\n",
      "\n"
     ],
     "language": "python",
     "metadata": {},
     "outputs": [
      {
       "output_type": "stream",
       "stream": "stdout",
       "text": [
        "Snippets\n"
       ]
      }
     ],
     "prompt_number": 54
    },
    {
     "cell_type": "code",
     "collapsed": false,
     "input": [
      "labels=[0,1]\n",
      "student=[True, False]\n",
      "oracle=[True]\n",
      "\n",
      "print \"Snippets where the oracle is correct\"\n",
      "get_options_selected(snippets, labels,student, oracle)\n"
     ],
     "language": "python",
     "metadata": {},
     "outputs": [
      {
       "output_type": "stream",
       "stream": "stdout",
       "text": [
        "Snippets where the oracle is correct\n",
        "label=0\tstudent=True\toracle=True \t95\t0.38\n",
        "label=0\tstudent=False\toracle=True \t6\t0.024\n",
        "label=1\tstudent=True\toracle=True \t83\t0.332\n",
        "label=1\tstudent=False\toracle=True \t11\t0.044\n",
        "Total 195\n"
       ]
      }
     ],
     "prompt_number": 48
    },
    {
     "cell_type": "code",
     "collapsed": false,
     "input": [
      "labels=[0,1]\n",
      "student=[True]\n",
      "oracle=[True, False]\n",
      "\n",
      "print \"Snippets where the student is correct\"\n",
      "get_options_selected(snippets, labels,student, oracle)\n"
     ],
     "language": "python",
     "metadata": {},
     "outputs": [
      {
       "output_type": "stream",
       "stream": "stdout",
       "text": [
        "Snippets where the student is correct\n",
        "label=0\tstudent=True\toracle=True \t95\t0.38\n",
        "label=0\tstudent=True\toracle=False \t4\t0.016\n",
        "label=1\tstudent=True\toracle=True \t83\t0.332\n",
        "label=1\tstudent=True\toracle=False \t7\t0.028\n",
        "Total 189\n"
       ]
      }
     ],
     "prompt_number": 49
    },
    {
     "cell_type": "code",
     "collapsed": false,
     "input": [
      "# wrong = get_selected(snippets, labels, slabels=[0,1]\n",
      "student=[False]\n",
      "oracle=[False]\n",
      "\n",
      "print \"Snippets where the oracle is correct\"\n",
      "wrong = get_options_selected(snippets, labels,student, oracle)\n",
      "print len(wrong)"
     ],
     "language": "python",
     "metadata": {},
     "outputs": [
      {
       "output_type": "stream",
       "stream": "stdout",
       "text": [
        "Snippets where the oracle is correct\n",
        "label=0\tstudent=False\toracle=False \t18\t0.072\n",
        "label=1\tstudent=False\toracle=False \t26\t0.104\n",
        "Total 44\n",
        "2\n"
       ]
      }
     ],
     "prompt_number": 56
    },
    {
     "cell_type": "code",
     "collapsed": false,
     "input": [
      "wrong_docs= [s[1] for s in wrong[0]]\n",
      "wrong_docs.extend([s[1] for s in wrong[1]])"
     ],
     "language": "python",
     "metadata": {},
     "outputs": [],
     "prompt_number": 61
    },
    {
     "cell_type": "code",
     "collapsed": false,
     "input": [
      "w0=get_doc(t0, wrong_docs[0])\n",
      "\n",
      "print \"Document wrong\", wrong_docs[0]"
     ],
     "language": "python",
     "metadata": {},
     "outputs": [
      {
       "output_type": "stream",
       "stream": "stdout",
       "text": [
        "Document wrong 11235.0\n"
       ]
      }
     ],
     "prompt_number": 69
    },
    {
     "cell_type": "code",
     "collapsed": false,
     "input": [
      "scc_rank = w0[w0[:,CRANK]==1]\n",
      "print \"Sencond ranked in w0\", scc_rank[0]\n",
      "print \"correct?\", scc_rank[0][OCORRECT]"
     ],
     "language": "python",
     "metadata": {},
     "outputs": [
      {
       "output_type": "stream",
       "stream": "stdout",
       "text": [
        " Sencond ranked in w0 [  1.00000000e+00   1.12350000e+04   7.67367050e-01   0.00000000e+00\n",
        "   1.67110300e+00   1.00000000e+00   0.00000000e+00   0.00000000e+00\n",
        "   7.67367050e-01   0.00000000e+00   1.00000000e+00   1.00000000e+00\n",
        "   1.00000000e+00]\n",
        "correct? 1.0\n"
       ]
      }
     ],
     "prompt_number": 73
    },
    {
     "cell_type": "code",
     "collapsed": false,
     "input": [
      "seg_option = []\n",
      "for d in wrong_docs:\n",
      "    sents = get_doc(t0,d)\n",
      "    seg_option.append([d, sents[sents[:,CRANK] ==1][0][OCORRECT]])\n",
      "\n",
      "print \"Numb. of correct sencond choise\", np.array(seg_option)[:,1].sum()"
     ],
     "language": "python",
     "metadata": {},
     "outputs": [
      {
       "output_type": "stream",
       "stream": "stdout",
       "text": [
        "Numb. of correct sencond choise 25.0\n"
       ]
      }
     ],
     "prompt_number": 94
    },
    {
     "cell_type": "code",
     "collapsed": false,
     "input": [
      "len(snippets)"
     ],
     "language": "python",
     "metadata": {},
     "outputs": [
      {
       "metadata": {},
       "output_type": "pyout",
       "prompt_number": 82,
       "text": [
        "250"
       ]
      }
     ],
     "prompt_number": 82
    },
    {
     "cell_type": "code",
     "collapsed": false,
     "input": [
      "bad = snippets[snippets[snippets[:,OCORRECT]==False][:,SCORRECT]==False][:,1]"
     ],
     "language": "python",
     "metadata": {},
     "outputs": [],
     "prompt_number": 85
    },
    {
     "cell_type": "code",
     "collapsed": false,
     "input": [
      "bad==wrong_docs"
     ],
     "language": "python",
     "metadata": {},
     "outputs": [
      {
       "metadata": {},
       "output_type": "pyout",
       "prompt_number": 86,
       "text": [
        "array([ True, False, False, False, False, False, False, False, False,\n",
        "       False, False, False, False, False, False, False, False, False,\n",
        "       False, False, False, False, False, False, False, False, False,\n",
        "       False, False, False, False, False, False, False, False, False,\n",
        "       False, False, False, False, False, False, False, False], dtype=bool)"
       ]
      }
     ],
     "prompt_number": 86
    },
    {
     "cell_type": "code",
     "collapsed": false,
     "input": [
      "len(bad)"
     ],
     "language": "python",
     "metadata": {},
     "outputs": [
      {
       "metadata": {},
       "output_type": "pyout",
       "prompt_number": 88,
       "text": [
        "44"
       ]
      }
     ],
     "prompt_number": 88
    },
    {
     "cell_type": "code",
     "collapsed": false,
     "input": [
      "len(wrong_docs)\n"
     ],
     "language": "python",
     "metadata": {},
     "outputs": [
      {
       "metadata": {},
       "output_type": "pyout",
       "prompt_number": 89,
       "text": [
        "44"
       ]
      }
     ],
     "prompt_number": 89
    },
    {
     "cell_type": "code",
     "collapsed": false,
     "input": [
      "print zip(sorted(bad), sorted(wrong_docs))"
     ],
     "language": "python",
     "metadata": {},
     "outputs": [
      {
       "output_type": "stream",
       "stream": "stdout",
       "text": [
        "[(77.0, 30.0), (790.0, 77.0), (828.0, 284.0), (1263.0, 447.0), (1388.0, 452.0), (1768.0, 604.0), (1844.0, 605.0), (1857.0, 732.0), (1868.0, 790.0), (2193.0, 828.0), (2464.0, 1376.0), (2617.0, 1768.0), (2633.0, 1844.0), (3191.0, 1913.0), (3508.0, 3304.0), (3652.0, 3629.0), (3812.0, 3681.0), (3907.0, 3698.0), (4251.0, 4015.0), (4910.0, 4408.0), (5304.0, 4426.0), (5421.0, 4698.0), (6753.0, 4734.0), (7285.0, 5147.0), (7857.0, 5159.0), (7879.0, 5232.0), (8009.0, 5256.0), (8190.0, 5320.0), (8965.0, 5483.0), (8971.0, 6232.0), (9826.0, 6377.0), (9865.0, 6744.0), (9977.0, 6797.0), (10319.0, 6805.0), (10339.0, 9697.0), (10545.0, 10442.0), (11235.0, 10545.0), (11345.0, 11235.0), (11670.0, 11321.0), (11770.0, 11770.0), (12063.0, 12002.0), (12113.0, 12099.0), (12164.0, 12137.0), (12389.0, 12389.0)]\n"
       ]
      }
     ],
     "prompt_number": 91
    },
    {
     "cell_type": "code",
     "collapsed": false,
     "input": [
      "print sorted(bad)"
     ],
     "language": "python",
     "metadata": {},
     "outputs": [
      {
       "output_type": "stream",
       "stream": "stdout",
       "text": [
        "[77.0, 790.0, 828.0, 1263.0, 1388.0, 1768.0, 1844.0, 1857.0, 1868.0, 2193.0, 2464.0, 2617.0, 2633.0, 3191.0, 3508.0, 3652.0, 3812.0, 3907.0, 4251.0, 4910.0, 5304.0, 5421.0, 6753.0, 7285.0, 7857.0, 7879.0, 8009.0, 8190.0, 8965.0, 8971.0, 9826.0, 9865.0, 9977.0, 10319.0, 10339.0, 10545.0, 11235.0, 11345.0, 11670.0, 11770.0, 12063.0, 12113.0, 12164.0, 12389.0]\n"
       ]
      }
     ],
     "prompt_number": 92
    },
    {
     "cell_type": "code",
     "collapsed": false,
     "input": [
      "print sorted(wrong_docs)"
     ],
     "language": "python",
     "metadata": {},
     "outputs": [
      {
       "output_type": "stream",
       "stream": "stdout",
       "text": [
        "[30.0, 77.0, 284.0, 447.0, 452.0, 604.0, 605.0, 732.0, 790.0, 828.0, 1376.0, 1768.0, 1844.0, 1913.0, 3304.0, 3629.0, 3681.0, 3698.0, 4015.0, 4408.0, 4426.0, 4698.0, 4734.0, 5147.0, 5159.0, 5232.0, 5256.0, 5320.0, 5483.0, 6232.0, 6377.0, 6744.0, 6797.0, 6805.0, 9697.0, 10442.0, 10545.0, 11235.0, 11321.0, 11770.0, 12002.0, 12099.0, 12137.0, 12389.0]\n"
       ]
      }
     ],
     "prompt_number": 93
    },
    {
     "cell_type": "code",
     "collapsed": false,
     "input": [],
     "language": "python",
     "metadata": {},
     "outputs": []
    }
   ],
   "metadata": {}
  }
 ]
}