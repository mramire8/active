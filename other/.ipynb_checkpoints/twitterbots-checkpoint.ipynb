{
 "metadata": {
  "name": ""
 },
 "nbformat": 3,
 "nbformat_minor": 0,
 "worksheets": [
  {
   "cells": [
    {
     "cell_type": "code",
     "collapsed": false,
     "input": [
      "import json\n",
      "import simplejson\n",
      "\n",
      "data_path = 'C:/Users/mramire8/Documents/Datasets/twitter'\n",
      "\n",
      "f = open(data_path + \"/good.json\")\n",
      "\n",
      "i = 0\n",
      "tot = 0\n",
      "for line in f:\n",
      "    user = line.split(\"]][[\")\n",
      "    print user[0]\n",
      "    last = len(user)\n",
      "    print \"Total %s users\" % last\n",
      " \n"
     ],
     "language": "python",
     "metadata": {},
     "outputs": [
      {
       "ename": "ValueError",
       "evalue": "Expecting object: line 1 column 542293 (char 542292)",
       "output_type": "pyerr",
       "traceback": [
        "\u001b[1;31m---------------------------------------------------------------------------\u001b[0m\n\u001b[1;31mValueError\u001b[0m                                Traceback (most recent call last)",
        "\u001b[1;32m<ipython-input-41-a8d4abc7cc8c>\u001b[0m in \u001b[0;36m<module>\u001b[1;34m()\u001b[0m\n\u001b[0;32m     16\u001b[0m \u001b[1;31m#             print tweets[544928-5:544928+5]\u001b[0m\u001b[1;33m\u001b[0m\u001b[1;33m\u001b[0m\u001b[0m\n\u001b[0;32m     17\u001b[0m         \u001b[1;32mif\u001b[0m \u001b[0mi\u001b[0m \u001b[1;33m==\u001b[0m \u001b[1;36m0\u001b[0m\u001b[1;33m:\u001b[0m\u001b[1;33m\u001b[0m\u001b[0m\n\u001b[1;32m---> 18\u001b[1;33m             \u001b[0mt\u001b[0m \u001b[1;33m=\u001b[0m \u001b[0mjson\u001b[0m\u001b[1;33m.\u001b[0m\u001b[0mloads\u001b[0m\u001b[1;33m(\u001b[0m\u001b[0mtweets\u001b[0m\u001b[1;33m[\u001b[0m\u001b[1;36m1\u001b[0m\u001b[1;33m:\u001b[0m\u001b[1;33m]\u001b[0m\u001b[1;33m)\u001b[0m\u001b[1;33m\u001b[0m\u001b[0m\n\u001b[0m\u001b[0;32m     19\u001b[0m         \u001b[1;32melif\u001b[0m \u001b[0mi\u001b[0m \u001b[1;33m==\u001b[0m \u001b[1;33m(\u001b[0m\u001b[0mlast\u001b[0m\u001b[1;33m-\u001b[0m\u001b[1;36m1\u001b[0m\u001b[1;33m)\u001b[0m\u001b[1;33m:\u001b[0m\u001b[1;33m\u001b[0m\u001b[0m\n\u001b[0;32m     20\u001b[0m             \u001b[0mt\u001b[0m \u001b[1;33m=\u001b[0m \u001b[0mjson\u001b[0m\u001b[1;33m.\u001b[0m\u001b[0mloads\u001b[0m\u001b[1;33m(\u001b[0m\u001b[0mtweets\u001b[0m\u001b[1;33m[\u001b[0m\u001b[1;33m:\u001b[0m\u001b[1;33m-\u001b[0m\u001b[1;36m2\u001b[0m\u001b[1;33m]\u001b[0m\u001b[1;33m)\u001b[0m\u001b[1;33m\u001b[0m\u001b[0m\n",
        "\u001b[1;32mC:\\Python27\\lib\\json\\__init__.pyc\u001b[0m in \u001b[0;36mloads\u001b[1;34m(s, encoding, cls, object_hook, parse_float, parse_int, parse_constant, object_pairs_hook, **kw)\u001b[0m\n\u001b[0;32m    336\u001b[0m             \u001b[0mparse_int\u001b[0m \u001b[1;32mis\u001b[0m \u001b[0mNone\u001b[0m \u001b[1;32mand\u001b[0m \u001b[0mparse_float\u001b[0m \u001b[1;32mis\u001b[0m \u001b[0mNone\u001b[0m \u001b[1;32mand\u001b[0m\u001b[1;33m\u001b[0m\u001b[0m\n\u001b[0;32m    337\u001b[0m             parse_constant is None and object_pairs_hook is None and not kw):\n\u001b[1;32m--> 338\u001b[1;33m         \u001b[1;32mreturn\u001b[0m \u001b[0m_default_decoder\u001b[0m\u001b[1;33m.\u001b[0m\u001b[0mdecode\u001b[0m\u001b[1;33m(\u001b[0m\u001b[0ms\u001b[0m\u001b[1;33m)\u001b[0m\u001b[1;33m\u001b[0m\u001b[0m\n\u001b[0m\u001b[0;32m    339\u001b[0m     \u001b[1;32mif\u001b[0m \u001b[0mcls\u001b[0m \u001b[1;32mis\u001b[0m \u001b[0mNone\u001b[0m\u001b[1;33m:\u001b[0m\u001b[1;33m\u001b[0m\u001b[0m\n\u001b[0;32m    340\u001b[0m         \u001b[0mcls\u001b[0m \u001b[1;33m=\u001b[0m \u001b[0mJSONDecoder\u001b[0m\u001b[1;33m\u001b[0m\u001b[0m\n",
        "\u001b[1;32mC:\\Python27\\lib\\json\\decoder.pyc\u001b[0m in \u001b[0;36mdecode\u001b[1;34m(self, s, _w)\u001b[0m\n\u001b[0;32m    364\u001b[0m \u001b[1;33m\u001b[0m\u001b[0m\n\u001b[0;32m    365\u001b[0m         \"\"\"\n\u001b[1;32m--> 366\u001b[1;33m         \u001b[0mobj\u001b[0m\u001b[1;33m,\u001b[0m \u001b[0mend\u001b[0m \u001b[1;33m=\u001b[0m \u001b[0mself\u001b[0m\u001b[1;33m.\u001b[0m\u001b[0mraw_decode\u001b[0m\u001b[1;33m(\u001b[0m\u001b[0ms\u001b[0m\u001b[1;33m,\u001b[0m \u001b[0midx\u001b[0m\u001b[1;33m=\u001b[0m\u001b[0m_w\u001b[0m\u001b[1;33m(\u001b[0m\u001b[0ms\u001b[0m\u001b[1;33m,\u001b[0m \u001b[1;36m0\u001b[0m\u001b[1;33m)\u001b[0m\u001b[1;33m.\u001b[0m\u001b[0mend\u001b[0m\u001b[1;33m(\u001b[0m\u001b[1;33m)\u001b[0m\u001b[1;33m)\u001b[0m\u001b[1;33m\u001b[0m\u001b[0m\n\u001b[0m\u001b[0;32m    367\u001b[0m         \u001b[0mend\u001b[0m \u001b[1;33m=\u001b[0m \u001b[0m_w\u001b[0m\u001b[1;33m(\u001b[0m\u001b[0ms\u001b[0m\u001b[1;33m,\u001b[0m \u001b[0mend\u001b[0m\u001b[1;33m)\u001b[0m\u001b[1;33m.\u001b[0m\u001b[0mend\u001b[0m\u001b[1;33m(\u001b[0m\u001b[1;33m)\u001b[0m\u001b[1;33m\u001b[0m\u001b[0m\n\u001b[0;32m    368\u001b[0m         \u001b[1;32mif\u001b[0m \u001b[0mend\u001b[0m \u001b[1;33m!=\u001b[0m \u001b[0mlen\u001b[0m\u001b[1;33m(\u001b[0m\u001b[0ms\u001b[0m\u001b[1;33m)\u001b[0m\u001b[1;33m:\u001b[0m\u001b[1;33m\u001b[0m\u001b[0m\n",
        "\u001b[1;32mC:\\Python27\\lib\\json\\decoder.pyc\u001b[0m in \u001b[0;36mraw_decode\u001b[1;34m(self, s, idx)\u001b[0m\n\u001b[0;32m    380\u001b[0m         \"\"\"\n\u001b[0;32m    381\u001b[0m         \u001b[1;32mtry\u001b[0m\u001b[1;33m:\u001b[0m\u001b[1;33m\u001b[0m\u001b[0m\n\u001b[1;32m--> 382\u001b[1;33m             \u001b[0mobj\u001b[0m\u001b[1;33m,\u001b[0m \u001b[0mend\u001b[0m \u001b[1;33m=\u001b[0m \u001b[0mself\u001b[0m\u001b[1;33m.\u001b[0m\u001b[0mscan_once\u001b[0m\u001b[1;33m(\u001b[0m\u001b[0ms\u001b[0m\u001b[1;33m,\u001b[0m \u001b[0midx\u001b[0m\u001b[1;33m)\u001b[0m\u001b[1;33m\u001b[0m\u001b[0m\n\u001b[0m\u001b[0;32m    383\u001b[0m         \u001b[1;32mexcept\u001b[0m \u001b[0mStopIteration\u001b[0m\u001b[1;33m:\u001b[0m\u001b[1;33m\u001b[0m\u001b[0m\n\u001b[0;32m    384\u001b[0m             \u001b[1;32mraise\u001b[0m \u001b[0mValueError\u001b[0m\u001b[1;33m(\u001b[0m\u001b[1;34m\"No JSON object could be decoded\"\u001b[0m\u001b[1;33m)\u001b[0m\u001b[1;33m\u001b[0m\u001b[0m\n",
        "\u001b[1;31mValueError\u001b[0m: Expecting object: line 1 column 542293 (char 542292)"
       ]
      },
      {
       "output_type": "stream",
       "stream": "stdout",
       "text": [
        "[[{\"contributors\": null, \"truncated\": false, \"text\": \"And this one comes from the library\\u2026\\n\\nSix hard-cover volumes from the Collected Works of Hugh Nibley and a... http://t.co/XOp6o7MhWL\", \"in_reply_to_status_id\": null, \"id\": 527212032597037056, \"favorite_count\": 0, \"source\": \"<a href=\\\"http://www.facebook.com/twitter\\\" rel=\\\"nofollow\\\">Facebook</a>\", \"retweeted\": false, \"coordinates\": null, \"entities\": {\"symbols\": [], \"user_mentions\": [], \"hashtags\": [], \"urls\": [{\"url\": \"http://t.co/XOp6o7MhWL\", \"indices\": [110, 132], \"expanded_url\": \"http://fb.me/6B2ibP2Wo\", \"display_url\": \"fb.me/6B2ibP2Wo\"}]}, \"in_reply_to_screen_name\": null, \"id_str\": \"527212032597037056\", \"retweet_count\": 0, \"in_reply_to_user_id\": null, \"favorited\": false, \"user\": {\"follow_request_sent\": false, \"profile_use_background_image\": false, \"profile_text_color\": \"666666\", \"default_profile_image\": false, \"id\": 614, \"profile_background_image_url_https\": \"https://abs.twimg.com/images/themes/theme9/bg.gif\", \"verified\": false, \"profile_location\": null, \"profile_image_url_https\": \"https://pbs.twimg.com/profile_images/465965547855679488/ONqxqGvL_normal.jpeg\", \"profile_sidebar_fill_color\": \"252429\", \"entities\": {\"url\": {\"urls\": [{\"url\": \"http://t.co/x5Vr8HWFxj\", \"indices\": [0, 22], \"expanded_url\": \"http://facebook.com/christian.harrison\", \"display_url\": \"facebook.com/christian.harr\\u2026\"}]}, \"description\": {\"urls\": []}}, \"followers_count\": 1377, \"profile_sidebar_border_color\": \"000000\", \"id_str\": \"614\", \"profile_background_color\": \"1A1B1F\", \"listed_count\": 39, \"is_translation_enabled\": false, \"utc_offset\": 12600, \"statuses_count\": 7894, \"description\": \"Urban enthusiast, professional storyteller, man of faith.\", \"friends_count\": 1931, \"location\": \"Salt Lake City, UT\", \"profile_link_color\": \"2FC2EF\", \"profile_image_url\": \"http://pbs.twimg.com/profile_images/465965547855679488/ONqxqGvL_normal.jpeg\", \"following\": false, \"geo_enabled\": true, \"profile_banner_url\": \"https://pbs.twimg.com/profile_banners/614/1365311832\", \"profile_background_image_url\": \"http://abs.twimg.com/images/themes/theme9/bg.gif\", \"name\": \"Christian Harrison\", \"lang\": \"en\", \"profile_background_tile\": false, \"favourites_count\": 83, \"screen_name\": \"dcharrison\", \"notifications\": false, \"url\": \"http://t.co/x5Vr8HWFxj\", \"created_at\": \"Thu Jul 13 20:30:05 +0000 2006\", \"contributors_enabled\": false, \"time_zone\": \"Tehran\", \"protected\": false, \"default_profile\": false, \"is_translator\": false}, \"geo\": null, \"in_reply_to_user_id_str\": null, \"possibly_sensitive\": false, \"lang\": \"en\", \"created_at\": \"Tue Oct 28 21:35:18 +0000 2014\", \"in_reply_to_status_id_str\": null, \"place\": null}, {\"contributors\": null, \"truncated\": false, \"text\": \"Another round of house-cleaning treasure!\\n\\nI have a vintage ceramic Japanese headrest (mid-twentieth century) for... http://t.co/Y9I6Su3m0z\", \"in_reply_to_status_id\": null, \"id\": 527210737530195968, \"favorite_count\": 0, \"source\": \"<a href=\\\"http://www.facebook.com/twitter\\\" rel=\\\"nofollow\\\">Facebook</a>\", \"retweeted\": false, \"coordinates\": null, \"entities\": {\"symbols\": [], \"user_mentions\": [], \"hashtags\": [], \"urls\": [{\"url\": \"http://t.co/Y9I6Su3m0z\", \"indices\": [117, 139], \"expanded_url\": \"http://fb.me/6VPTwWGbo\", \"display_url\": \"fb.me/6VPTwWGbo\"}]}, \"in_reply_to_screen_name\": null, \"id_str\": \"527210737530195968\", \"retweet_count\": 0, \"in_reply_to_user_id\": null, \"favorited\": false, \"user\": {\"follow_request_sent\": false, \"profile_use_background_image\": false, \"profile_text_color\": \"666666\", \"default_profile_image\": false, \"id\": 614, \"profile_background_image_url_https\": \"https://abs.twimg.com/images/themes/theme9/bg.gif\", \"verified\": false, \"profile_location\": null, \"profile_image_url_https\": \"https://pbs.twimg.com/profile_images/465965547855679488/ONqxqGvL_normal.jpeg\", \"profile_sidebar_fill_color\": \"252429\", \"entities\": {\"url\": {\"urls\": [{\"url\": \"http://t.co/x5Vr8HWFxj\", \"indices\": [0, 22], \"expanded_url\": \"http://facebook.com/christian.harrison\", \"display_url\": \"facebook.com/christian.harr\\u2026\"}]}, \"description\": {\"urls\": []}}, \"followers_count\": 1377, \"profile_sidebar_border_color\": \"000000\", \"id_str\": \"614\", \"profile_background_color\": \"1A1B1F\", \"listed_count\": 39, \"is_translation_enabled\": false, \"utc_offset\": 12600, \"statuses_count\": 7894, \"description\": \"Urban enthusiast, professional storyteller, man of faith.\", \"friends_count\": 1931, \"location\": \"Salt Lake City, UT\", \"profile_link_color\": \"2FC2EF\", \"profile_image_url\": \"http://pbs.twimg.com/profile_images/465965547855679488/ONqxqGvL_normal.jpeg\", \"following\": false, \"geo_enabled\": true, \"profile_banner_url\": \"https://pbs.twimg.com/profile_banners/614/1365311832\", \"profile_background_image_url\": \"http://abs.twimg.com/images/themes/theme9/bg.gif\", \"name\": \"Christian Harrison\", \"lang\": \"en\", \"profile_background_tile\": false, \"favourites_count\": 83, \"screen_name\": \"dcharrison\", \"notifications\": false, \"url\": \"http://t.co/x5Vr8HWFxj\", \"created_at\": \"Thu Jul 13 20:30:05 +0000 2006\", \"contributors_enabled\": false, \"time_zone\": \"Tehran\", \"protected\": false, \"default_profile\": false, \"is_translator\": false}, \"geo\": null, \"in_reply_to_user_id_str\": null, \"possibly_sensitive\": false, \"lang\": \"en\", \"created_at\": \"Tue Oct 28 21:30:09 +0000 2014\", \"in_reply_to_status_id_str\": null, \"place\": null}, {\"contributors\": null, \"truncated\": false, \"text\": \"Ah \\u2026 here's the form for online voter registration \\u2014 no excuses now! http://t.co/Ifa6wolngM\", \"in_reply_to_status_id\": null, \"id\": 527207952235892736, \"favorite_count\": 1, \"source\": \"<a href=\\\"http://www.facebook.com/twitter\\\" rel=\\\"nofollow\\\">Facebook</a>\", \"retweeted\": false, \"coordinates\": null, \"entities\": {\"symbols\": [], \"user_mentions\": [], \"hashtags\": [], \"urls\": [{\"url\": \"http://t.co/Ifa6wolngM\", \"indices\": [69, 91], \"expanded_url\": \"http://fb.me/3m4ukMCXh\", \"display_url\": \"fb.me/3m4ukMCXh\"}]}, \"in_reply_to_screen_name\": null, \"id_str\": \"527207952235892736\", \"retweet_count\": 1, \"in_reply_to_user_id\": null, \"favorited\": false, \"user\": {\"follow_request_sent\": false, \"profile_use_background_image\": false, \"profile_text_color\": \"666666\", \"default_profile_image\": false, \"id\": 614, \"profile_background_image_url_https\": \"https://abs.twimg.com/images/themes/theme9/bg.gif\", \"verified\": false, \"profile_location\": null, \"profile_image_url_https\": \"https://pbs.twimg.com/profile_images/465965547855679488/ONqxqGvL_normal.jpeg\", \"profile_sidebar_fill_color\": \"252429\", \"entities\": {\"url\": {\"urls\": [{\"url\": \"http://t.co/x5Vr8HWFxj\", \"indices\": [0, 22], \"expanded_url\": \"http://facebook.com/christian.harrison\", \"display_url\": \"facebook.com/christian.harr\\u2026\"}]}, \"description\": {\"urls\": []}}, \"followers_count\": 1377, \"profile_sidebar_border_color\": \"000000\", \"id_str\": \"614\", \"profile_background_color\": \"1A1B1F\", \"listed_count\": 39, \"is_translation_enabled\": false, \"utc_offset\": 12600, \"statuses_count\": 7894, \"description\": \"Urban enthusiast, professional storyteller, man of faith.\", \"friends_count\": 1931, \"location\": \"Salt Lake City, UT\", \"profile_link_color\": \"2FC2EF\", \"profile_image_url\": \"http://pbs.twimg.com/profile_images/465965547855679488/ONqxqGvL_normal.jpeg\", \"following\": false, \"geo_enabled\": true, \"profile_banner_url\": \"https://pbs.twimg.com/profile_banners/614/1365311832\", \"profile_background_image_url\": \"http://abs.twimg.com/images/themes/theme9/bg.gif\", \"name\": \"Christian Harrison\", \"lang\": \"en\", \"profile_background_tile\": false, \"favourites_count\": 83, \"screen_name\": \"dcharrison\", \"notifications\": false, \"url\": \"http://t.co/x5Vr8HWFxj\", \"created_at\": \"Thu Jul 13 20:30:05 +0000 2006\", \"contributors_enabled\": false, \"time_zone\": \"Tehran\", \"protected\": false, \"default_profile\": false, \"is_translator\": false}, \"geo\": null, \"in_reply_to_user_id_str\": null, \"possibly_sensitive\": false, \"lang\": \"en\", \"created_at\": \"Tue Oct 28 21:19:05 +0000 2014\", \"in_reply_to_status_id_str\": null, \"place\": null}, {\"contributors\": null, \"truncated\": false, \"text\": \"I love #IndianFood. And witty swipes at Google plus. http://t.co/aqcSanC2qd\", \"in_reply_to_status_id\": null, \"id\": 527163459620712448, \"favorite_count\": 0, \"source\": \"<a href=\\\"http://www.facebook.com/twitter\\\" rel=\\\"nofollow\\\">Facebook</a>\", \"retweeted\": false, \"coordinates\": null, \"entities\": {\"symbols\": [], \"user_mentions\": [], \"hashtags\": [{\"indices\": [7, 18], \"text\": \"IndianFood\"}], \"urls\": [{\"url\": \"http://t.co/aqcSanC2qd\", \"indices\": [53, 75], \"expanded_url\": \"http://fb.me/3gQiTpZ4G\", \"display_url\": \"fb.me/3gQiTpZ4G\"}]}, \"in_reply_to_screen_name\": null, \"id_str\": \"527163459620712448\", \"retweet_count\": 0, \"in_reply_to_user_id\": null, \"favorited\": false, \"user\": {\"follow_request_sent\": false, \"profile_use_background_image\": false, \"profile_text_color\": \"666666\", \"default_profile_image\": false, \"id\": 614, \"profile_background_image_url_https\": \"https://abs.twimg.com/images/themes/theme9/bg.gif\", \"verified\": false, \"profile_location\": null, \"profile_image_url_https\": \"https://pbs.twimg.com/profile_images/465965547855679488/ONqxqGvL_normal.jpeg\", \"profile_sidebar_fill_color\": \"252429\", \"entities\": {\"url\": {\"urls\": [{\"url\": \"http://t.co/x5Vr8HWFxj\", \"indices\": [0, 22], \"expanded_url\": \"http://facebook.com/christian.harrison\", \"display_url\": \"facebook.com/christian.harr\\u2026\"}]}, \"description\": {\"urls\": []}}, \"followers_count\": 1377, \"profile_sidebar_border_color\": \"000000\", \"id_str\": \"614\", \"profile_background_color\": \"1A1B1F\", \"listed_count\": 39, \"is_translation_enabled\": false, \"utc_offset\": 12600, \"statuses_count\": 7894, \"description\": \"Urban enthusiast, professional storyteller, man of faith.\", \"friends_count\": 1931, \"location\": \"Salt Lake City, UT\", \"profile_link_color\": \"2FC2EF\", \"profile_image_url\": \"http://pbs.twimg.com/profile_images/465965547855679488/ONqxqGvL_normal.jpeg\", \"following\": false, \"geo_enabled\": true, \"profile_banner_url\": \"https://pbs.twimg.com/profile_banners/614/1365311832\", \"profile_background_image_url\": \"http://abs.twimg.com/images/themes/theme9/bg.gif\", \"name\": \"Christian Harrison\", \"lang\": \"en\", \"profile_background_tile\": false, \"favourites_count\": 83, \"screen_name\": \"dcharrison\", \"notifications\": false, \"url\": \"http://t.co/x5Vr8HWFxj\", \"created_at\": \"Thu Jul 13 20:30:05 +0000 2006\", \"contributors_enabled\": false, \"time_zone\": \"Tehran\", \"protected\": false, \"default_profile\": false, \"is_translator\": false}, \"geo\": null, \"in_reply_to_user_id_str\": null, \"possibly_sensitive\": false, \"lang\": \"en\", \"created_at\": \"Tue Oct 28 18:22:17 +0000 2014\", \"in_reply_to_status_id_str\": null, \"place\": null}, {\"contributors\": null, \"truncated\": false, \"text\": \"I try very hard to post things here that expand the mind, lift the heart, or urge us to action. I do what I can... http://t.co/jyp1vLcY7X\", \"in_reply_to_status_id\": null, \"id\": 526934616847179776, \"favorite_count\": 0, \"source\": \"<a href=\\\"http://www.facebook.com/twitter\\\" rel=\\\"nofollow\\\">Facebook</a>\", \"retweeted\": false, \"coordinates\": null, \"entities\": {\"symbols\": [], \"user_mentions\": [], \"hashtags\": [], \"urls\": [{\"url\": \"http://t.co/jyp1vLcY7X\", \"indices\": [115, 137], \"expanded_url\": \"http://fb.me/2zaagyHbx\", \"display_url\": \"fb.me/2zaagyHbx\"}]}, \"in_reply_to_screen_name\": null, \"id_str\": \"526934616847179776\", \"retweet_count\": 0, \"in_reply_to_user_id\": null, \"favorited\": false, \"user\": {\"follow_request_sent\": false, \"profile_use_background_image\": false, \"profile_text_color\": \"666666\", \"default_profile_image\": false, \"id\": 614, \"profile_background_image_url_https\": \"https://abs.twimg.com/images/themes/theme9/bg.gif\", \"verified\": false, \"profile_location\": null, \"profile_image_url_https\": \"https://pbs.twimg.com/profile_images/465965547855679488/ONqxqGvL_normal.jpeg\", \"profile_sidebar_fill_color\": \"252429\", \"entities\": {\"url\": {\"urls\": [{\"url\": \"http://t.co/x5Vr8HWFxj\", \"indices\": [0, 22], \"expanded_url\": \"http://facebook.com/christian.harrison\", \"display_url\": \"facebook.com/christian.harr\\u2026\"}]}, \"description\": {\"urls\": []}}, \"followers_count\": 1377, \"profile_sidebar_border_color\": \"000000\", \"id_str\": \"614\", \"profile_background_color\": \"1A1B1F\", \"listed_count\": 39, \"is_translation_enabled\": false, \"utc_offset\": 12600, \"statuses_count\": 7894, \"description\": \"Urban enthusiast, professional storyteller, man of faith.\", \"friends_count\": 1931, \"location\": \"Salt Lake City, UT\", \"profile_link_color\": \"2FC2EF\", \"profile_image_url\": \"http://pbs.twimg.com/profile_images/465965547855679488/ONqxqGvL_normal.jpeg\", \"following\": false, \"geo_enabled\": true, \"profile_banner_url\": \"https://pbs.twimg.com/profile_banners/614/1365311832\", \"profile_background_image_url\": \"http://abs.twimg.com/images/themes/theme9/bg.gif\", \"name\": \"Christian Harrison\", \"lang\": \"en\", \"profile_background_tile\": false, \"favourites_count\": 83, \"screen_name\": \"dcharrison\", \"notifications\": false, \"url\": \"http://t.co/x5Vr8HWFxj\", \"created_at\": \"Thu Jul 13 20:30:05 +0000 2006\", \"contributors_enabled\": false, \"time_zone\": \"Tehran\", \"protected\": false, \"default_profile\": false, \"is_translator\": false}, \"geo\": null, \"in_reply_to_user_id_str\": null, \"possibly_sensitive\": false, \"lang\": \"en\", \"created_at\": \"Tue Oct 28 03:12:57 +0000 2014\", \"in_reply_to_status_id_str\": null, \"place\": null}, {\"contributors\": null, \"truncated\": false, \"text\": \"Ignore the link-bait title. Insightful article. Would love to know what my teacher friends think\\u2026 http://t.co/RC1xX2d6NQ\", \"in_reply_to_status_id\": null, \"id\": 526610004875689984, \"favorite_count\": 0, \"source\": \"<a href=\\\"http://www.facebook.com/twitter\\\" rel=\\\"nofollow\\\">Facebook</a>\", \"retweeted\": false, \"coordinates\": null, \"entities\": {\"symbols\": [], \"user_mentions\": [], \"hashtags\": [], \"urls\": [{\"url\": \"http://t.co/RC1xX2d6NQ\", \"indices\": [98, 120], \"expanded_url\": \"http://fb.me/1p3IHE0aJ\", \"display_url\": \"fb.me/1p3IHE0aJ\"}]}, \"in_reply_to_screen_name\": null, \"id_str\": \"526610004875689984\", \"retweet_count\": 0, \"in_reply_to_user_id\": null, \"favorited\": false, \"user\": {\"follow_request_sent\": false, \"profile_use_background_image\": false, \"profile_text_color\": \"666666\", \"default_profile_image\": false, \"id\": 614, \"profile_background_image_url_https\": \"https://abs.twimg.com/images/themes/theme9/bg.gif\", \"verified\": false, \"profile_location\": null, \"profile_image_url_https\": \"https://pbs.twimg.com/profile_images/465965547855679488/ONqxqGvL_normal.jpeg\", \"profile_sidebar_fill_color\": \"252429\", \"entities\": {\"url\": {\"urls\": [{\"url\": \"http://t.co/x5Vr8HWFxj\", \"indices\": [0, 22], \"expanded_url\": \"http://facebook.com/christian.harrison\", \"display_url\": \"facebook.com/christian.harr\\u2026\"}]}, \"description\": {\"urls\": []}}, \"followers_count\": 1377, \"profile_sidebar_border_color\": \"000000\", \"id_str\": \"614\", \"profile_background_color\": \"1A1B1F\", \"listed_count\": 39, \"is_translation_enabled\": false, \"utc_offset\": 12600, \"statuses_count\": 7894, \"description\": \"Urban enthusiast, professional storyteller, man of faith.\", \"friends_count\": 1931, \"location\": \"Salt Lake City, UT\", \"profile_link_color\": \"2FC2EF\", \"profile_image_url\": \"http://pbs.twimg.com/profile_images/465965547855679488/ONqxqGvL_normal.jpeg\", \"following\": false, \"geo_enabled\": true, \"profile_banner_url\": \"https://pbs.twimg.com/profile_banners/614/1365311832\", \"profile_background_image_url\": \"http://abs.twimg.com/images/themes/theme9/bg.gif\", \"name\": \"Christian Harrison\", \"lang\": \"en\", \"profile_background_tile\": false, \"favourites_count\": 83, \"screen_name\": \"dcharrison\", \"notifications\": false, \"url\": \"http://t.co/x5Vr8HWFxj\", \"created_at\": \"Thu Jul 13 20:30:05 +0000 2006\", \"contributors_enabled\": false, \"time_zone\": \"Tehran\", \"protected\": false, \"default_profile\": false, \"is_translator\": false}, \"geo\": null, \"in_reply_to_user_id_str\": null, \"possibly_sensitive\": false, \"lang\": \"en\", \"created_at\": \"Mon Oct 27 05:43:03 +0000 2014\", \"in_reply_to_status_id_str\": null, \"place\": null}, {\"contributors\": null, \"truncated\": false, \"text\": \"A bright omen. http://t.co/TpmWErvmB3\", \"in_reply_to_status_id\": null, \"id\": 526597651584655360, \"favorite_count\": 0, \"source\": \"<a href=\\\"http://www.facebook.com/twitter\\\" rel=\\\"nofollow\\\">Facebook</a>\", \"retweeted\": false, \"coordinates\": null, \"entities\": {\"symbols\": [], \"user_mentions\": [], \"hashtags\": [], \"urls\": [{\"url\": \"http://t.co/TpmWErvmB3\", \"indices\": [15, 37], \"expanded_url\": \"http://fb.me/3eqBj4LSL\", \"display_url\": \"fb.me/3eqBj4LSL\"}]}, \"in_reply_to_screen_name\": null, \"id_str\": \"526597651584655360\", \"retweet_count\": 0, \"in_reply_to_user_id\": null, \"favorited\": false, \"user\": {\"follow_request_sent\": false, \"profile_use_background_image\": false, \"profile_text_color\": \"666666\", \"default_profile_image\": false, \"id\": 614, \"profile_background_image_url_https\": \"https://abs.twimg.com/images/themes/theme9/bg.gif\", \"verified\": false, \"profile_location\": null, \"profile_image_url_https\": \"https://pbs.twimg.com/profile_images/465965547855679488/ONqxqGvL_normal.jpeg\", \"profile_sidebar_fill_color\": \"252429\", \"entities\": {\"url\": {\"urls\": [{\"url\": \"http://t.co/x5Vr8HWFxj\", \"indices\": [0, 22], \"expanded_url\": \"http://facebook.com/christian.harrison\", \"display_url\": \"facebook.com/christian.harr\\u2026\"}]}, \"description\": {\"urls\": []}}, \"followers_count\": 1377, \"profile_sidebar_border_color\": \"000000\", \"id_str\": \"614\", \"profile_background_color\": \"1A1B1F\", \"listed_count\": 39, \"is_translation_enabled\": false, \"utc_offset\": 12600, \"statuses_count\": 7894, \"description\": \"Urban enthusiast, professional storyteller, man of faith.\", \"friends_count\": 1931, \"location\": \"Salt Lake City, UT\", \"profile_link_color\": \"2FC2EF\", \"profile_image_url\": \"http://pbs.twimg.com/profile_images/465965547855679488/ONqxqGvL_normal.jpeg\", \"following\": false, \"geo_enabled\": true, \"profile_banner_url\": \"https://pbs.twimg.com/profile_banners/614/1365311832\", \"profile_background_image_url\": \"http://abs.twimg.com/images/themes/theme9/bg.gif\", \"name\": \"Christian Harrison\", \"lang\": \"en\", \"profile_background_tile\": false, \"favourites_count\": 83, \"screen_name\": \"dcharrison\", \"notifications\": false, \"url\": \"http://t.co/x5Vr8HWFxj\", \"created_at\": \"Thu Jul 13 20:30:05 +0000 2006\", \"contributors_enabled\": false, \"time_zone\": \"Tehran\", \"protected\": false, \"default_profile\": false, \"is_translator\": false}, \"geo\": null, \"in_reply_to_user_id_str\": null, \"possibly_sensitive\": false, \"lang\": \"en\", \"created_at\": \"Mon Oct 27 04:53:58 +0000 2014\", \"in_reply_to_status_id_str\": null, \"place\": null}, {\"contributors\": null, \"truncated\": false, \"text\": \"On my balcony. Ruminating. The weather has turned. I feel frost in the air. Welcome, Fall. I can feel you in my... http://t.co/TEszsnXWkJ\", \"in_reply_to_status_id\": null, \"id\": 526597070682329088, \"favorite_count\": 0, \"source\": \"<a href=\\\"http://www.facebook.com/twitter\\\" rel=\\\"nofollow\\\">Facebook</a>\", \"retweeted\": false, \"coordinates\": null, \"entities\": {\"symbols\": [], \"user_mentions\": [], \"hashtags\": [], \"urls\": [{\"url\": \"http://t.co/TEszsnXWkJ\", \"indices\": [115, 137], \"expanded_url\": \"http://fb.me/2Zocn0WTb\", \"display_url\": \"fb.me/2Zocn0WTb\"}]}, \"in_reply_to_screen_name\": null, \"id_str\": \"526597070682329088\", \"retweet_count\": 0, \"in_reply_to_user_id\": null, \"favorited\": false, \"user\": {\"follow_request_sent\": false, \"profile_use_background_image\": false, \"profile_text_color\": \"666666\", \"default_profile_image\": false, \"id\": 614, \"profile_background_image_url_https\": \"https://abs.twimg.com/images/themes/theme9/bg.gif\", \"verified\": false, \"profile_location\": null, \"profile_image_url_https\": \"https://pbs.twimg.com/profile_images/465965547855679488/ONqxqGvL_normal.jpeg\", \"profile_sidebar_fill_color\": \"252429\", \"entities\": {\"url\": {\"urls\": [{\"url\": \"http://t.co/x5Vr8HWFxj\", \"indices\": [0, 22], \"expanded_url\": \"http://facebook.com/christian.harrison\", \"display_url\": \"facebook.com/christian.harr\\u2026\"}]}, \"description\": {\"urls\": []}}, \"followers_count\": 1377, \"profile_sidebar_border_color\": \"000000\", \"id_str\": \"614\", \"profile_background_color\": \"1A1B1F\", \"listed_count\": 39, \"is_translation_enabled\": false, \"utc_offset\": 12600, \"statuses_count\": 7894, \"description\": \"Urban enthusiast, professional storyteller, man of faith.\", \"friends_count\": 1931, \"location\": \"Salt Lake City, UT\", \"profile_link_color\": \"2FC2EF\", \"profile_image_url\": \"http://pbs.twimg.com/profile_images/465965547855679488/ONqxqGvL_normal.jpeg\", \"following\": false, \"geo_enabled\": true, \"profile_banner_url\": \"https://pbs.twimg.com/profile_banners/614/1365311832\", \"profile_background_image_url\": \"http://abs.twimg.com/images/themes/theme9/bg.gif\", \"name\": \"Christian Harrison\", \"lang\": \"en\", \"profile_background_tile\": false, \"favourites_count\": 83, \"screen_name\": \"dcharrison\", \"notifications\": false, \"url\": \"http://t.co/x5Vr8HWFxj\", \"created_at\": \"Thu Jul 13 20:30:05 +0000 2006\", \"contributors_enabled\": false, \"time_zone\": \"Tehran\", \"protected\": false, \"default_profile\": false, \"is_translator\": false}, \"geo\": null, \"in_reply_to_user_id_str\": null, \"possibly_sensitive\": false, \"lang\": \"en\", \"created_at\": \"Mon Oct 27 04:51:40 +0000 2014\", \"in_reply_to_status_id_str\": null, \"place\": null}, {\"contributors\": null, \"truncated\": false, \"text\": \"A little breakfast, thanks in no small part a gift from Mark Bigelow's family: tomato preserved! Yum! http://t.co/NuR7WGFGcP\", \"in_reply_to_status_id\": null, \"id\": 526421309417193472, \"favorite_count\": 0, \"source\": \"<a href=\\\"http://www.facebook.com/twitter\\\" rel=\\\"nofollow\\\">Facebook</a>\", \"retweeted\": false, \"coordinates\": null, \"entities\": {\"symbols\": [], \"user_mentions\": [], \"hashtags\": [], \"urls\": [{\"url\": \"http://t.co/NuR7WGFGcP\", \"indices\": [102, 124], \"expanded_url\": \"http://fb.me/6YOP3a2C4\", \"display_url\": \"fb.me/6YOP3a2C4\"}]}, \"in_reply_to_screen_name\": null, \"id_str\": \"526421309417193472\", \"retweet_count\": 0, \"in_reply_to_user_id\": null, \"favorited\": false, \"user\": {\"follow_request_sent\": false, \"profile_use_background_image\": false, \"profile_text_color\": \"666666\", \"default_profile_image\": false, \"id\": 614, \"profile_background_image_url_https\": \"https://abs.twimg.com/images/themes/theme9/bg.gif\", \"verified\": false, \"profile_location\": null, \"profile_image_url_https\": \"https://pbs.twimg.com/profile_images/465965547855679488/ONqxqGvL_normal.jpeg\", \"profile_sidebar_fill_color\": \"252429\", \"entities\": {\"url\": {\"urls\": [{\"url\": \"http://t.co/x5Vr8HWFxj\", \"indices\": [0, 22], \"expanded_url\": \"http://facebook.com/christian.harrison\", \"display_url\": \"facebook.com/christian.harr\\u2026\"}]}, \"description\": {\"urls\": []}}, \"followers_count\": 1377, \"profile_sidebar_border_color\": \"000000\", \"id_str\": \"614\", \"profile_background_color\": \"1A1B1F\", \"listed_count\": 39, \"is_translation_enabled\": false, \"utc_offset\": 12600, \"statuses_count\": 7894, \"description\": \"Urban enthusiast, professional storyteller, man of faith.\", \"friends_count\": 1931, \"location\": \"Salt Lake City, UT\", \"profile_link_color\": \"2FC2EF\", \"profile_image_url\": \"http://pbs.twimg.com/profile_images/465965547855679488/ONqxqGvL_normal.jpeg\", \"following\": false, \"geo_enabled\": true, \"profile_banner_url\": \"https://pbs.twimg.com/profile_banners/614/1365311832\", \"profile_background_image_url\": \"http://abs.twimg.com/images/themes/theme9/bg.gif\", \"name\": \"Christian Harrison\", \"lang\": \"en\", \"profile_background_tile\": false, \"favourites_count\": 83, \"screen_name\": \"dcharrison\", \"notifications\": false, \"url\": \"http://t.co/x5Vr8HWFxj\", \"created_at\": \"Thu Jul 13 20:30:05 +0000 2006\", \"contributors_enabled\": false, \"time_zone\": \"Tehran\", \"protected\": false, \"default_profile\": false, \"is_translator\": false}, \"geo\": null, \"in_reply_to_user_id_str\": null, \"possibly_sensitive\": false, \"lang\": \"en\", \"created_at\": \"Sun Oct 26 17:13:15 +0000 2014\", \"in_reply_to_status_id_str\": null, \"place\": null}, {\"contributors\": null, \"truncated\": false, \"text\": \"You're invited - WAVE Commercial Launch Ceremony Oct. 29 http://t.co/KBu4TEkgvF\", \"in_reply_to_status_id\": null, \"id\": 526388737677492225, \"favorite_count\": 1, \"source\": \"<a href=\\\"http://www.facebook.com/twitter\\\" rel=\\\"nofollow\\\">Facebook</a>\", \"retweeted\": false, \"coordinates\": null, \"entities\": {\"symbols\": [], \"user_mentions\": [], \"hashtags\": [], \"urls\": [{\"url\": \"http://t.co/KBu4TEkgvF\", \"indices\": [57, 79], \"expanded_url\": \"http://fb.me/716qlOY33\", \"display_url\": \"fb.me/716qlOY33\"}]}, \"in_reply_to_screen_name\": null, \"id_str\": \"526388737677492225\", \"retweet_count\": 1, \"in_reply_to_user_id\": null, \"favorited\": false, \"user\": {\"follow_request_sent\": false, \"profile_use_background_image\": false, \"profile_text_color\": \"666666\", \"default_profile_image\": false, \"id\": 614, \"profile_background_image_url_https\": \"https://abs.twimg.com/images/themes/theme9/bg.gif\", \"verified\": false, \"profile_location\": null, \"profile_image_url_https\": \"https://pbs.twimg.com/profile_images/465965547855679488/ONqxqGvL_normal.jpeg\", \"profile_sidebar_fill_color\": \"252429\", \"entities\": {\"url\": {\"urls\": [{\"url\": \"http://t.co/x5Vr8HWFxj\", \"indices\": [0, 22], \"expanded_url\": \"http://facebook.com/christian.harrison\", \"display_url\": \"facebook.com/christian.harr\\u2026\"}]}, \"description\": {\"urls\": []}}, \"followers_count\": 1377, \"profile_sidebar_border_color\": \"000000\", \"id_str\": \"614\", \"profile_background_color\": \"1A1B1F\", \"listed_count\": 39, \"is_translation_enabled\": false, \"utc_offset\": 12600, \"statuses_count\": 7894, \"description\": \"Urban enthusiast, professional storyteller, man of faith.\", \"friends_count\": 1931, \"location\": \"Salt Lake City, UT\", \"profile_link_color\": \"2FC2EF\", \"profile_image_url\": \"http://pbs.twimg.com/profile_images/465965547855679488/ONqxqGvL_normal.jpeg\", \"following\": false, \"geo_enabled\": true, \"profile_banner_url\": \"https://pbs.twimg.com/profile_banners/614/1365311832\", \"profile_background_image_url\": \"http://abs.twimg.com/images/themes/theme9/bg.gif\", \"name\": \"Christian Harrison\", \"lang\": \"en\", \"profile_background_tile\": false, \"favourites_count\": 83, \"screen_name\": \"dcharrison\", \"notifications\": false, \"url\": \"http://t.co/x5Vr8HWFxj\", \"created_at\": \"Thu Jul 13 20:30:05 +0000 2006\", \"contributors_enabled\": false, \"time_zone\": \"Tehran\", \"protected\": false, \"default_profile\": false, \"is_translator\": false}, \"geo\": null, \"in_reply_to_user_id_str\": null, \"possibly_sensitive\": false, \"lang\": \"en\", \"created_at\": \"Sun Oct 26 15:03:49 +0000 2014\", \"in_reply_to_status_id_str\": null, \"place\": null}, {\"contributors\": null, \"truncated\": false, \"text\": \"Brian Kershisnik open house. http://t.co/Uu5catGeSp\", \"in_reply_to_status_id\": null, \"id\": 526147684583747584, \"favorite_count\": 0, \"source\": \"<a href=\\\"http://www.facebook.com/twitter\\\" rel=\\\"nofollow\\\">Facebook</a>\", \"retweeted\": false, \"coordinates\": null, \"entities\": {\"symbols\": [], \"user_mentions\": [], \"hashtags\": [], \"urls\": [{\"url\": \"http://t.co/Uu5catGeSp\", \"indices\": [29, 51], \"expanded_url\": \"http://fb.me/2EabiYBao\", \"display_url\": \"fb.me/2EabiYBao\"}]}, \"in_reply_to_screen_name\": null, \"id_str\": \"526147684583747584\", \"retweet_count\": 0, \"in_reply_to_user_id\": null, \"favorited\": false, \"user\": {\"follow_request_sent\": false, \"profile_use_background_image\": false, \"profile_text_color\": \"666666\", \"default_profile_image\": false, \"id\": 614, \"profile_background_image_url_https\": \"https://abs.twimg.com/images/themes/theme9/bg.gif\", \"verified\": false, \"profile_location\": null, \"profile_image_url_https\": \"https://pbs.twimg.com/profile_images/465965547855679488/ONqxqGvL_normal.jpeg\", \"profile_sidebar_fill_color\": \"252429\", \"entities\": {\"url\": {\"urls\": [{\"url\": \"http://t.co/x5Vr8HWFxj\", \"indices\": [0, 22], \"expanded_url\": \"http://facebook.com/christian.harrison\", \"display_url\": \"facebook.com/christian.harr\\u2026\"}]}, \"description\": {\"urls\": []}}, \"followers_count\": 1377, \"profile_sidebar_border_color\": \"000000\", \"id_str\": \"614\", \"profile_background_color\": \"1A1B1F\", \"listed_count\": 39, \"is_translation_enabled\": false, \"utc_offset\": 12600, \"statuses_count\": 7894, \"description\": \"Urban enthusiast, professional storyteller, man of faith.\", \"friends_count\": 1931, \"location\": \"Salt Lake City, UT\", \"profile_link_color\": \"2FC2EF\", \"profile_image_url\": \"http://pbs.twimg.com/profile_images/465965547855679488/ONqxqGvL_normal.jpeg\", \"following\": false, \"geo_enabled\": true, \"profile_banner_url\": \"https://pbs.twimg.com/profile_banners/614/1365311832\", \"profile_background_image_url\": \"http://abs.twimg.com/images/themes/theme9/bg.gif\", \"name\": \"Christian Harrison\", \"lang\": \"en\", \"profile_background_tile\": false, \"favourites_count\": 83, \"screen_name\": \"dcharrison\", \"notifications\": false, \"url\": \"http://t.co/x5Vr8HWFxj\", \"created_at\": \"Thu Jul 13 20:30:05 +0000 2006\", \"contributors_enabled\": false, \"time_zone\": \"Tehran\", \"protected\": false, \"default_profile\": false, \"is_translator\": false}, \"geo\": null, \"in_reply_to_user_id_str\": null, \"possibly_sensitive\": false, \"lang\": \"en\", \"created_at\": \"Sat Oct 25 23:05:58 +0000 2014\", \"in_reply_to_status_id_str\": null, \"place\": null}, {\"contributors\": null, \"truncated\": false, \"text\": \"Time to have the old beast looked at. Wish me luck. http://t.co/iVjEVvmpnZ\", \"in_reply_to_status_id\": null, \"id\": 525739630323191809, \"favorite_count\": 1, \"source\": \"<a href=\\\"http://www.facebook.com/twitter\\\" rel=\\\"nofollow\\\">Facebook</a>\", \"retweeted\": false, \"coordinates\": null, \"entities\": {\"symbols\": [], \"user_mentions\": [], \"hashtags\": [], \"urls\": [{\"url\": \"http://t.co/iVjEVvmpnZ\", \"indices\": [52, 74], \"expanded_url\": \"http://fb.me/2v563oPsh\", \"display_url\": \"fb.me/2v563oPsh\"}]}, \"in_reply_to_screen_name\": null, \"id_str\": \"525739630323191809\", \"retweet_count\": 0, \"in_reply_to_user_id\": null, \"favorited\": false, \"user\": {\"follow_request_sent\": false, \"profile_use_background_image\": false, \"profile_text_color\": \"666666\", \"default_profile_image\": false, \"id\": 614, \"profile_background_image_url_https\": \"https://abs.twimg.com/images/themes/theme9/bg.gif\", \"verified\": false, \"profile_location\": null, \"profile_image_url_https\": \"https://pbs.twimg.com/profile_images/465965547855679488/ONqxqGvL_normal.jpeg\", \"profile_sidebar_fill_color\": \"252429\", \"entities\": {\"url\": {\"urls\": [{\"url\": \"http://t.co/x5Vr8HWFxj\", \"indices\": [0, 22], \"expanded_url\": \"http://facebook.com/christian.harrison\", \"display_url\": \"facebook.com/christian.harr\\u2026\"}]}, \"description\": {\"urls\": []}}, \"followers_count\": 1377, \"profile_sidebar_border_color\": \"000000\", \"id_str\": \"614\", \"profile_background_color\": \"1A1B1F\", \"listed_count\": 39, \"is_translation_enabled\": false, \"utc_offset\": 12600, \"statuses_count\": 7894, \"description\": \"Urban enthusiast, professional storyteller, man of faith.\", \"friends_count\": 1931, \"location\": \"Salt Lake City, UT\", \"profile_link_color\": \"2FC2EF\", \"profile_image_url\": \"http://pbs.twimg.com/profile_images/465965547855679488/ONqxqGvL_normal.jpeg\", \"following\": false, \"geo_enabled\": true, \"profile_banner_url\": \"https://pbs.twimg.com/profile_banners/614/1365311832\", \"profile_background_image_url\": \"http://abs.twimg.com/images/themes/theme9/bg.gif\", \"name\": \"Christian Harrison\", \"lang\": \"en\", \"profile_background_tile\": false, \"favourites_count\": 83, \"screen_name\": \"dcharrison\", \"notifications\": false, \"url\": \"http://t.co/x5Vr8HWFxj\", \"created_at\": \"Thu Jul 13 20:30:05 +0000 2006\", \"contributors_enabled\": false, \"time_zone\": \"Tehran\", \"protected\": false, \"default_profile\": false, \"is_translator\": false}, \"geo\": null, \"in_reply_to_user_id_str\": null, \"possibly_sensitive\": false, \"lang\": \"en\", \"created_at\": \"Fri Oct 24 20:04:30 +0000 2014\", \"in_reply_to_status_id_str\": null, \"place\": null}, {\"contributors\": null, \"truncated\": false, \"text\": \"A little cocoa with Trevor http://t.co/eMElPFYaoL\", \"in_reply_to_status_id\": null, \"id\": 525689776079265792, \"favorite_count\": 0, \"source\": \"<a href=\\\"http://www.facebook.com/twitter\\\" rel=\\\"nofollow\\\">Facebook</a>\", \"retweeted\": false, \"coordinates\": null, \"entities\": {\"symbols\": [], \"user_mentions\": [], \"hashtags\": [], \"urls\": [{\"url\": \"http://t.co/eMElPFYaoL\", \"indices\": [27, 49], \"expanded_url\": \"http://fb.me/6SNQZQJyk\", \"display_url\": \"fb.me/6SNQZQJyk\"}]}, \"in_reply_to_screen_name\": null, \"id_str\": \"525689776079265792\", \"retweet_count\": 0, \"in_reply_to_user_id\": null, \"favorited\": false, \"user\": {\"follow_request_sent\": false, \"profile_use_background_image\": false, \"profile_text_color\": \"666666\", \"default_profile_image\": false, \"id\": 614, \"profile_background_image_url_https\": \"https://abs.twimg.com/images/themes/theme9/bg.gif\", \"verified\": false, \"profile_location\": null, \"profile_image_url_https\": \"https://pbs.twimg.com/profile_images/465965547855679488/ONqxqGvL_normal.jpeg\", \"profile_sidebar_fill_color\": \"252429\", \"entities\": {\"url\": {\"urls\": [{\"url\": \"http://t.co/x5Vr8HWFxj\", \"indices\": [0, 22], \"expanded_url\": \"http://facebook.com/christian.harrison\", \"display_url\": \"facebook.com/christian.harr\\u2026\"}]}, \"description\": {\"urls\": []}}, \"followers_count\": 1377, \"profile_sidebar_border_color\": \"000000\", \"id_str\": \"614\", \"profile_background_color\": \"1A1B1F\", \"listed_count\": 39, \"is_translation_enabled\": false, \"utc_offset\": 12600, \"statuses_count\": 7894, \"description\": \"Urban enthusiast, professional storyteller, man of faith.\", \"friends_count\": 1931, \"location\": \"Salt Lake City, UT\", \"profile_link_color\": \"2FC2EF\", \"profile_image_url\": \"http://pbs.twimg.com/profile_images/465965547855679488/ONqxqGvL_normal.jpeg\", \"following\": false, \"geo_enabled\": true, \"profile_banner_url\": \"https://pbs.twimg.com/profile_banners/614/1365311832\", \"profile_background_image_url\": \"http://abs.twimg.com/images/themes/theme9/bg.gif\", \"name\": \"Christian Harrison\", \"lang\": \"en\", \"profile_background_tile\": false, \"favourites_count\": 83, \"screen_name\": \"dcharrison\", \"notifications\": false, \"url\": \"http://t.co/x5Vr8HWFxj\", \"created_at\": \"Thu Jul 13 20:30:05 +0000 2006\", \"contributors_enabled\": false, \"time_zone\": \"Tehran\", \"protected\": false, \"default_profile\": false, \"is_translator\": false}, \"geo\": null, \"in_reply_to_user_id_str\": null, \"possibly_sensitive\": false, \"lang\": \"en\", \"created_at\": \"Fri Oct 24 16:46:24 +0000 2014\", \"in_reply_to_status_id_str\": null, \"place\": null}, {\"contributors\": null, \"truncated\": false, \"text\": \"Speaking of voting: there's still time to register! http://t.co/UzXUK7sSuV\", \"in_reply_to_status_id\": null, \"id\": 524949252334559233, \"favorite_count\": 0, \"source\": \"<a href=\\\"http://www.facebook.com/twitter\\\" rel=\\\"nofollow\\\">Facebook</a>\", \"retweeted\": false, \"coordinates\": null, \"entities\": {\"symbols\": [], \"user_mentions\": [], \"hashtags\": [], \"urls\": [{\"url\": \"http://t.co/UzXUK7sSuV\", \"indices\": [52, 74], \"expanded_url\": \"http://fb.me/6OxcJLz8T\", \"display_url\": \"fb.me/6OxcJLz8T\"}]}, \"in_reply_to_screen_name\": null, \"id_str\": \"524949252334559233\", \"retweet_count\": 0, \"in_reply_to_user_id\": null, \"favorited\": false, \"user\": {\"follow_request_sent\": false, \"profile_use_background_image\": false, \"profile_text_color\": \"666666\", \"default_profile_image\": false, \"id\": 614, \"profile_background_image_url_https\": \"https://abs.twimg.com/images/themes/theme9/bg.gif\", \"verified\": false, \"profile_location\": null, \"profile_image_url_https\": \"https://pbs.twimg.com/profile_images/465965547855679488/ONqxqGvL_normal.jpeg\", \"profile_sidebar_fill_color\": \"252429\", \"entities\": {\"url\": {\"urls\": [{\"url\": \"http://t.co/x5Vr8HWFxj\", \"indices\": [0, 22], \"expanded_url\": \"http://facebook.com/christian.harrison\", \"display_url\": \"facebook.com/christian.harr\\u2026\"}]}, \"description\": {\"urls\": []}}, \"followers_count\": 1377, \"profile_sidebar_border_color\": \"000000\", \"id_str\": \"614\", \"profile_background_color\": \"1A1B1F\", \"listed_count\": 39, \"is_translation_enabled\": false, \"utc_offset\": 12600, \"statuses_count\": 7894, \"description\": \"Urban enthusiast, professional storyteller, man of faith.\", \"friends_count\": 1931, \"location\": \"Salt Lake City, UT\", \"profile_link_color\": \"2FC2EF\", \"profile_image_url\": \"http://pbs.twimg.com/profile_images/465965547855679488/ONqxqGvL_normal.jpeg\", \"following\": false, \"geo_enabled\": true, \"profile_banner_url\": \"https://pbs.twimg.com/profile_banners/614/1365311832\", \"profile_background_image_url\": \"http://abs.twimg.com/images/themes/theme9/bg.gif\", \"name\": \"Christian Harrison\", \"lang\": \"en\", \"profile_background_tile\": false, \"favourites_count\": 83, \"screen_name\": \"dcharrison\", \"notifications\": false, \"url\": \"http://t.co/x5Vr8HWFxj\", \"created_at\": \"Thu Jul 13 20:30:05 +0000 2006\", \"contributors_enabled\": false, \"time_zone\": \"Tehran\", \"protected\": false, \"default_profile\": false, \"is_translator\": false}, \"geo\": null, \"in_reply_to_user_id_str\": null, \"possibly_sensitive\": false, \"lang\": \"en\", \"created_at\": \"Wed Oct 22 15:43:49 +0000 2014\", \"in_reply_to_status_id_str\": null, \"place\": null}, {\"contributors\": null, \"truncated\": false, \"text\": \"Did you vote by mail (like me!)? You can verify that your ballot was received: http://t.co/moT8pKO9EH\", \"in_reply_to_status_id\": null, \"id\": 524943818445959170, \"favorite_count\": 1, \"source\": \"<a href=\\\"http://www.facebook.com/twitter\\\" rel=\\\"nofollow\\\">Facebook</a>\", \"retweeted\": false, \"coordinates\": null, \"entities\": {\"symbols\": [], \"user_mentions\": [], \"hashtags\": [], \"urls\": [{\"url\": \"http://t.co/moT8pKO9EH\", \"indices\": [79, 101], \"expanded_url\": \"http://fb.me/1CYJZQxqG\", \"display_url\": \"fb.me/1CYJZQxqG\"}]}, \"in_reply_to_screen_name\": null, \"id_str\": \"524943818445959170\", \"retweet_count\": 1, \"in_reply_to_user_id\": null, \"favorited\": false, \"user\": {\"follow_request_sent\": false, \"profile_use_background_image\": false, \"profile_text_color\": \"666666\", \"default_profile_image\": false, \"id\": 614, \"profile_background_image_url_https\": \"https://abs.twimg.com/images/themes/theme9/bg.gif\", \"verified\": false, \"profile_location\": null, \"profile_image_url_https\": \"https://pbs.twimg.com/profile_images/465965547855679488/ONqxqGvL_normal.jpeg\", \"profile_sidebar_fill_color\": \"252429\", \"entities\": {\"url\": {\"urls\": [{\"url\": \"http://t.co/x5Vr8HWFxj\", \"indices\": [0, 22], \"expanded_url\": \"http://facebook.com/christian.harrison\", \"display_url\": \"facebook.com/christian.harr\\u2026\"}]}, \"description\": {\"urls\": []}}, \"followers_count\": 1377, \"profile_sidebar_border_color\": \"000000\", \"id_str\": \"614\", \"profile_background_color\": \"1A1B1F\", \"listed_count\": 39, \"is_translation_enabled\": false, \"utc_offset\": 12600, \"statuses_count\": 7894, \"description\": \"Urban enthusiast, professional storyteller, man of faith.\", \"friends_count\": 1931, \"location\": \"Salt Lake City, UT\", \"profile_link_color\": \"2FC2EF\", \"profile_image_url\": \"http://pbs.twimg.com/profile_images/465965547855679488/ONqxqGvL_normal.jpeg\", \"following\": false, \"geo_enabled\": true, \"profile_banner_url\": \"https://pbs.twimg.com/profile_banners/614/1365311832\", \"profile_background_image_url\": \"http://abs.twimg.com/images/themes/theme9/bg.gif\", \"name\": \"Christian Harrison\", \"lang\": \"en\", \"profile_background_tile\": false, \"favourites_count\": 83, \"screen_name\": \"dcharrison\", \"notifications\": false, \"url\": \"http://t.co/x5Vr8HWFxj\", \"created_at\": \"Thu Jul 13 20:30:05 +0000 2006\", \"contributors_enabled\": false, \"time_zone\": \"Tehran\", \"protected\": false, \"default_profile\": false, \"is_translator\": false}, \"geo\": null, \"in_reply_to_user_id_str\": null, \"possibly_sensitive\": false, \"lang\": \"en\", \"created_at\": \"Wed Oct 22 15:22:13 +0000 2014\", \"in_reply_to_status_id_str\": null, \"place\": null}, {\"contributors\": null, \"truncated\": false, \"text\": \"http://t.co/koRXAu0kRP\", \"in_reply_to_status_id\": null, \"id\": 524807497987530752, \"favorite_count\": 0, \"source\": \"<a href=\\\"http://www.facebook.com/twitter\\\" rel=\\\"nofollow\\\">Facebook</a>\", \"retweeted\": false, \"coordinates\": null, \"entities\": {\"symbols\": [], \"user_mentions\": [], \"hashtags\": [], \"urls\": [{\"url\": \"http://t.co/koRXAu0kRP\", \"indices\": [0, 22], \"expanded_url\": \"http://fb.me/2mVwucfFB\", \"display_url\": \"fb.me/2mVwucfFB\"}]}, \"in_reply_to_screen_name\": null, \"id_str\": \"524807497987530752\", \"retweet_count\": 0, \"in_reply_to_user_id\": null, \"favorited\": false, \"user\": {\"follow_request_sent\": false, \"profile_use_background_image\": false, \"profile_text_color\": \"666666\", \"default_profile_image\": false, \"id\": 614, \"profile_background_image_url_https\": \"https://abs.twimg.com/images/themes/theme9/bg.gif\", \"verified\": false, \"profile_location\": null, \"profile_image_url_https\": \"https://pbs.twimg.com/profile_images/465965547855679488/ONqxqGvL_normal.jpeg\", \"profile_sidebar_fill_color\": \"252429\", \"entities\": {\"url\": {\"urls\": [{\"url\": \"http://t.co/x5Vr8HWFxj\", \"indices\": [0, 22], \"expanded_url\": \"http://facebook.com/christian.harrison\", \"display_url\": \"facebook.com/christian.harr\\u2026\"}]}, \"description\": {\"urls\": []}}, \"followers_count\": 1377, \"profile_sidebar_border_color\": \"000000\", \"id_str\": \"614\", \"profile_background_color\": \"1A1B1F\", \"listed_count\": 39, \"is_translation_enabled\": false, \"utc_offset\": 12600, \"statuses_count\": 7894, \"description\": \"Urban enthusiast, professional storyteller, man of faith.\", \"friends_count\": 1931, \"location\": \"Salt Lake City, UT\", \"profile_link_color\": \"2FC2EF\", \"profile_image_url\": \"http://pbs.twimg.com/profile_images/465965547855679488/ONqxqGvL_normal.jpeg\", \"following\": false, \"geo_enabled\": true, \"profile_banner_url\": \"https://pbs.twimg.com/profile_banners/614/1365311832\", \"profile_background_image_url\": \"http://abs.twimg.com/images/themes/theme9/bg.gif\", \"name\": \"Christian Harrison\", \"lang\": \"en\", \"profile_background_tile\": false, \"favourites_count\": 83, \"screen_name\": \"dcharrison\", \"notifications\": false, \"url\": \"http://t.co/x5Vr8HWFxj\", \"created_at\": \"Thu Jul 13 20:30:05 +0000 2006\", \"contributors_enabled\": false, \"time_zone\": \"Tehran\", \"protected\": false, \"default_profile\": false, \"is_translator\": false}, \"geo\": null, \"in_reply_to_user_id_str\": null, \"possibly_sensitive\": false, \"lang\": \"und\", \"created_at\": \"Wed Oct 22 06:20:32 +0000 2014\", \"in_reply_to_status_id_str\": null, \"place\": null}, {\"contributors\": null, \"truncated\": false, \"text\": \"Truly impressive\\u2026 http://t.co/k9fBKZrPsN\", \"in_reply_to_status_id\": null, \"id\": 524684944074080257, \"favorite_count\": 0, \"source\": \"<a href=\\\"http://www.facebook.com/twitter\\\" rel=\\\"nofollow\\\">Facebook</a>\", \"retweeted\": false, \"coordinates\": null, \"entities\": {\"symbols\": [], \"user_mentions\": [], \"hashtags\": [], \"urls\": [{\"url\": \"http://t.co/k9fBKZrPsN\", \"indices\": [18, 40], \"expanded_url\": \"http://fb.me/6PAlK9TVv\", \"display_url\": \"fb.me/6PAlK9TVv\"}]}, \"in_reply_to_screen_name\": null, \"id_str\": \"524684944074080257\", \"retweet_count\": 0, \"in_reply_to_user_id\": null, \"favorited\": false, \"user\": {\"follow_request_sent\": false, \"profile_use_background_image\": false, \"profile_text_color\": \"666666\", \"default_profile_image\": false, \"id\": 614, \"profile_background_image_url_https\": \"https://abs.twimg.com/images/themes/theme9/bg.gif\", \"verified\": false, \"profile_location\": null, \"profile_image_url_https\": \"https://pbs.twimg.com/profile_images/465965547855679488/ONqxqGvL_normal.jpeg\", \"profile_sidebar_fill_color\": \"252429\", \"entities\": {\"url\": {\"urls\": [{\"url\": \"http://t.co/x5Vr8HWFxj\", \"indices\": [0, 22], \"expanded_url\": \"http://facebook.com/christian.harrison\", \"display_url\": \"facebook.com/christian.harr\\u2026\"}]}, \"description\": {\"urls\": []}}, \"followers_count\": 1377, \"profile_sidebar_border_color\": \"000000\", \"id_str\": \"614\", \"profile_background_color\": \"1A1B1F\", \"listed_count\": 39, \"is_translation_enabled\": false, \"utc_offset\": 12600, \"statuses_count\": 7894, \"description\": \"Urban enthusiast, professional storyteller, man of faith.\", \"friends_count\": 1931, \"location\": \"Salt Lake City, UT\", \"profile_link_color\": \"2FC2EF\", \"profile_image_url\": \"http://pbs.twimg.com/profile_images/465965547855679488/ONqxqGvL_normal.jpeg\", \"following\": false, \"geo_enabled\": true, \"profile_banner_url\": \"https://pbs.twimg.com/profile_banners/614/1365311832\", \"profile_background_image_url\": \"http://abs.twimg.com/images/themes/theme9/bg.gif\", \"name\": \"Christian Harrison\", \"lang\": \"en\", \"profile_background_tile\": false, \"favourites_count\": 83, \"screen_name\": \"dcharrison\", \"notifications\": false, \"url\": \"http://t.co/x5Vr8HWFxj\", \"created_at\": \"Thu Jul 13 20:30:05 +0000 2006\", \"contributors_enabled\": false, \"time_zone\": \"Tehran\", \"protected\": false, \"default_profile\": false, \"is_translator\": false}, \"geo\": null, \"in_reply_to_user_id_str\": null, \"possibly_sensitive\": false, \"lang\": \"en\", \"created_at\": \"Tue Oct 21 22:13:33 +0000 2014\", \"in_reply_to_status_id_str\": null, \"place\": null}, {\"contributors\": null, \"truncated\": false, \"text\": \"The voting me says: Unfit to govern.\\n\\nThe strategist me says: You can spin a bad debate performance (heaven knows... http://t.co/I4piJOD0D7\", \"in_reply_to_status_id\": null, \"id\": 524651703895719936, \"favorite_count\": 0, \"source\": \"<a href=\\\"http://www.facebook.com/twitter\\\" rel=\\\"nofollow\\\">Facebook</a>\", \"retweeted\": false, \"coordinates\": null, \"entities\": {\"symbols\": [], \"user_mentions\": [], \"hashtags\": [], \"urls\": [{\"url\": \"http://t.co/I4piJOD0D7\", \"indices\": [117, 139], \"expanded_url\": \"http://fb.me/3PBjCxi5R\", \"display_url\": \"fb.me/3PBjCxi5R\"}]}, \"in_reply_to_screen_name\": null, \"id_str\": \"524651703895719936\", \"retweet_count\": 0, \"in_reply_to_user_id\": null, \"favorited\": false, \"user\": {\"follow_request_sent\": false, \"profile_use_background_image\": false, \"profile_text_color\": \"666666\", \"default_profile_image\": false, \"id\": 614, \"profile_background_image_url_https\": \"https://abs.twimg.com/images/themes/theme9/bg.gif\", \"verified\": false, \"profile_location\": null, \"profile_image_url_https\": \"https://pbs.twimg.com/profile_images/465965547855679488/ONqxqGvL_normal.jpeg\", \"profile_sidebar_fill_color\": \"252429\", \"entities\": {\"url\": {\"urls\": [{\"url\": \"http://t.co/x5Vr8HWFxj\", \"indices\": [0, 22], \"expanded_url\": \"http://facebook.com/christian.harrison\", \"display_url\": \"facebook.com/christian.harr\\u2026\"}]}, \"description\": {\"urls\": []}}, \"followers_count\": 1377, \"profile_sidebar_border_color\": \"000000\", \"id_str\": \"614\", \"profile_background_color\": \"1A1B1F\", \"listed_count\": 39, \"is_translation_enabled\": false, \"utc_offset\": 12600, \"statuses_count\": 7894, \"description\": \"Urban enthusiast, professional storyteller, man of faith.\", \"friends_count\": 1931, \"location\": \"Salt Lake City, UT\", \"profile_link_color\": \"2FC2EF\", \"profile_image_url\": \"http://pbs.twimg.com/profile_images/465965547855679488/ONqxqGvL_normal.jpeg\", \"following\": false, \"geo_enabled\": true, \"profile_banner_url\": \"https://pbs.twimg.com/profile_banners/614/1365311832\", \"profile_background_image_url\": \"http://abs.twimg.com/images/themes/theme9/bg.gif\", \"name\": \"Christian Harrison\", \"lang\": \"en\", \"profile_background_tile\": false, \"favourites_count\": 83, \"screen_name\": \"dcharrison\", \"notifications\": false, \"url\": \"http://t.co/x5Vr8HWFxj\", \"created_at\": \"Thu Jul 13 20:30:05 +0000 2006\", \"contributors_enabled\": false, \"time_zone\": \"Tehran\", \"protected\": false, \"default_profile\": false, \"is_translator\": false}, \"geo\": null, \"in_reply_to_user_id_str\": null, \"possibly_sensitive\": false, \"lang\": \"en\", \"created_at\": \"Tue Oct 21 20:01:28 +0000 2014\", \"in_reply_to_status_id_str\": null, \"place\": null}, {\"contributors\": null, \"truncated\": false, \"text\": \"A real hoverboard. On Kickstarter\\u2026 http://t.co/Fd6GOJiNVZ\", \"in_reply_to_status_id\": null, \"id\": 524647782791913472, \"favorite_count\": 0, \"source\": \"<a href=\\\"http://www.facebook.com/twitter\\\" rel=\\\"nofollow\\\">Facebook</a>\", \"retweeted\": false, \"coordinates\": null, \"entities\": {\"symbols\": [], \"user_mentions\": [], \"hashtags\": [], \"urls\": [{\"url\": \"http://t.co/Fd6GOJiNVZ\", \"indices\": [35, 57], \"expanded_url\": \"http://fb.me/1sT7N1Bhs\", \"display_url\": \"fb.me/1sT7N1Bhs\"}]}, \"in_reply_to_screen_name\": null, \"id_str\": \"524647782791913472\", \"retweet_count\": 0, \"in_reply_to_user_id\": null, \"favorited\": false, \"user\": {\"follow_request_sent\": false, \"profile_use_background_image\": false, \"profile_text_color\": \"666666\", \"default_profile_image\": false, \"id\": 614, \"profile_background_image_url_https\": \"https://abs.twimg.com/images/themes/theme9/bg.gif\", \"verified\": false, \"profile_location\": null, \"profile_image_url_https\": \"https://pbs.twimg.com/profile_images/465965547855679488/ONqxqGvL_normal.jpeg\", \"profile_sidebar_fill_color\": \"252429\", \"entities\": {\"url\": {\"urls\": [{\"url\": \"http://t.co/x5Vr8HWFxj\", \"indices\": [0, 22], \"expanded_url\": \"http://facebook.com/christian.harrison\", \"display_url\": \"facebook.com/christian.harr\\u2026\"}]}, \"description\": {\"urls\": []}}, \"followers_count\": 1377, \"profile_sidebar_border_color\": \"000000\", \"id_str\": \"614\", \"profile_background_color\": \"1A1B1F\", \"listed_count\": 39, \"is_translation_enabled\": false, \"utc_offset\": 12600, \"statuses_count\": 7894, \"description\": \"Urban enthusiast, professional storyteller, man of faith.\", \"friends_count\": 1931, \"location\": \"Salt Lake City, UT\", \"profile_link_color\": \"2FC2EF\", \"profile_image_url\": \"http://pbs.twimg.com/profile_images/465965547855679488/ONqxqGvL_normal.jpeg\", \"following\": false, \"geo_enabled\": true, \"profile_banner_url\": \"https://pbs.twimg.com/profile_banners/614/1365311832\", \"profile_background_image_url\": \"http://abs.twimg.com/images/themes/theme9/bg.gif\", \"name\": \"Christian Harrison\", \"lang\": \"en\", \"profile_background_tile\": false, \"favourites_count\": 83, \"screen_name\": \"dcharrison\", \"notifications\": false, \"url\": \"http://t.co/x5Vr8HWFxj\", \"created_at\": \"Thu Jul 13 20:30:05 +0000 2006\", \"contributors_enabled\": false, \"time_zone\": \"Tehran\", \"protected\": false, \"default_profile\": false, \"is_translator\": false}, \"geo\": null, \"in_reply_to_user_id_str\": null, \"possibly_sensitive\": false, \"lang\": \"en\", \"created_at\": \"Tue Oct 21 19:45:53 +0000 2014\", \"in_reply_to_status_id_str\": null, \"place\": null}, {\"contributors\": null, \"truncated\": false, \"text\": \"AirBag Recall: 4.7 Million Vehicles Require Immediate Service http://t.co/vD6KdA91HY\", \"in_reply_to_status_id\": null, \"id\": 524597206259470336, \"favorite_count\": 0, \"source\": \"<a href=\\\"http://www.facebook.com/twitter\\\" rel=\\\"nofollow\\\">Facebook</a>\", \"retweeted\": false, \"coordinates\": null, \"entities\": {\"symbols\": [], \"user_mentions\": [], \"hashtags\": [], \"urls\": [{\"url\": \"http://t.co/vD6KdA91HY\", \"indices\": [62, 84], \"expanded_url\": \"http://fb.me/1sjBlAYd6\", \"display_url\": \"fb.me/1sjBlAYd6\"}]}, \"in_reply_to_screen_name\": null, \"id_str\": \"524597206259470336\", \"retweet_count\": 0, \"in_reply_to_user_id\": null, \"favorited\": false, \"user\": {\"follow_request_sent\": false, \"profile_use_background_image\": false, \"profile_text_color\": \"666666\", \"default_profile_image\": false, \"id\": 614, \"profile_background_image_url_https\": \"https://abs.twimg.com/images/themes/theme9/bg.gif\", \"verified\": false, \"profile_location\": null, \"profile_image_url_https\": \"https://pbs.twimg.com/profile_images/465965547855679488/ONqxqGvL_normal.jpeg\", \"profile_sidebar_fill_color\": \"252429\", \"entities\": {\"url\": {\"urls\": [{\"url\": \"http://t.co/x5Vr8HWFxj\", \"indices\": [0, 22], \"expanded_url\": \"http://facebook.com/christian.harrison\", \"display_url\": \"facebook.com/christian.harr\\u2026\"}]}, \"description\": {\"urls\": []}}, \"followers_count\": 1377, \"profile_sidebar_border_color\": \"000000\", \"id_str\": \"614\", \"profile_background_color\": \"1A1B1F\", \"listed_count\": 39, \"is_translation_enabled\": false, \"utc_offset\": 12600, \"statuses_count\": 7894, \"description\": \"Urban enthusiast, professional storyteller, man of faith.\", \"friends_count\": 1931, \"location\": \"Salt Lake City, UT\", \"profile_link_color\": \"2FC2EF\", \"profile_image_url\": \"http://pbs.twimg.com/profile_images/465965547855679488/ONqxqGvL_normal.jpeg\", \"following\": false, \"geo_enabled\": true, \"profile_banner_url\": \"https://pbs.twimg.com/profile_banners/614/1365311832\", \"profile_background_image_url\": \"http://abs.twimg.com/images/themes/theme9/bg.gif\", \"name\": \"Christian Harrison\", \"lang\": \"en\", \"profile_background_tile\": false, \"favourites_count\": 83, \"screen_name\": \"dcharrison\", \"notifications\": false, \"url\": \"http://t.co/x5Vr8HWFxj\", \"created_at\": \"Thu Jul 13 20:30:05 +0000 2006\", \"contributors_enabled\": false, \"time_zone\": \"Tehran\", \"protected\": false, \"default_profile\": false, \"is_translator\": false}, \"geo\": null, \"in_reply_to_user_id_str\": null, \"possibly_sensitive\": false, \"lang\": \"en\", \"created_at\": \"Tue Oct 21 16:24:55 +0000 2014\", \"in_reply_to_status_id_str\": null, \"place\": null}, {\"contributors\": null, \"truncated\": false, \"text\": \"Speaking of voting: for my friends in the Bay Area, please share! http://t.co/ZldjBcT1vX\", \"in_reply_to_status_id\": null, \"id\": 524325576966799364, \"favorite_count\": 0, \"source\": \"<a href=\\\"http://www.facebook.com/twitter\\\" rel=\\\"nofollow\\\">Facebook</a>\", \"retweeted\": false, \"coordinates\": null, \"entities\": {\"symbols\": [], \"user_mentions\": [], \"hashtags\": [], \"urls\": [{\"url\": \"http://t.co/ZldjBcT1vX\", \"indices\": [66, 88], \"expanded_url\": \"http://fb.me/2xEgssCqj\", \"display_url\": \"fb.me/2xEgssCqj\"}]}, \"in_reply_to_screen_name\": null, \"id_str\": \"524325576966799364\", \"retweet_count\": 0, \"in_reply_to_user_id\": null, \"favorited\": false, \"user\": {\"follow_request_sent\": false, \"profile_use_background_image\": false, \"profile_text_color\": \"666666\", \"default_profile_image\": false, \"id\": 614, \"profile_background_image_url_https\": \"https://abs.twimg.com/images/themes/theme9/bg.gif\", \"verified\": false, \"profile_location\": null, \"profile_image_url_https\": \"https://pbs.twimg.com/profile_images/465965547855679488/ONqxqGvL_normal.jpeg\", \"profile_sidebar_fill_color\": \"252429\", \"entities\": {\"url\": {\"urls\": [{\"url\": \"http://t.co/x5Vr8HWFxj\", \"indices\": [0, 22], \"expanded_url\": \"http://facebook.com/christian.harrison\", \"display_url\": \"facebook.com/christian.harr\\u2026\"}]}, \"description\": {\"urls\": []}}, \"followers_count\": 1377, \"profile_sidebar_border_color\": \"000000\", \"id_str\": \"614\", \"profile_background_color\": \"1A1B1F\", \"listed_count\": 39, \"is_translation_enabled\": false, \"utc_offset\": 12600, \"statuses_count\": 7894, \"description\": \"Urban enthusiast, professional storyteller, man of faith.\", \"friends_count\": 1931, \"location\": \"Salt Lake City, UT\", \"profile_link_color\": \"2FC2EF\", \"profile_image_url\": \"http://pbs.twimg.com/profile_images/465965547855679488/ONqxqGvL_normal.jpeg\", \"following\": false, \"geo_enabled\": true, \"profile_banner_url\": \"https://pbs.twimg.com/profile_banners/614/1365311832\", \"profile_background_image_url\": \"http://abs.twimg.com/images/themes/theme9/bg.gif\", \"name\": \"Christian Harrison\", \"lang\": \"en\", \"profile_background_tile\": false, \"favourites_count\": 83, \"screen_name\": \"dcharrison\", \"notifications\": false, \"url\": \"http://t.co/x5Vr8HWFxj\", \"created_at\": \"Thu Jul 13 20:30:05 +0000 2006\", \"contributors_enabled\": false, \"time_zone\": \"Tehran\", \"protected\": false, \"default_profile\": false, \"is_translator\": false}, \"geo\": null, \"in_reply_to_user_id_str\": null, \"possibly_sensitive\": false, \"lang\": \"en\", \"created_at\": \"Mon Oct 20 22:25:33 +0000 2014\", \"in_reply_to_status_id_str\": null, \"place\": null}, {\"contributors\": null, \"truncated\": false, \"text\": \"Sounds like a discussion whose time has come: http://t.co/p2Q2Ml3jMZ\", \"in_reply_to_status_id\": null, \"id\": 524324956755087360, \"favorite_count\": 0, \"source\": \"<a href=\\\"http://www.facebook.com/twitter\\\" rel=\\\"nofollow\\\">Facebook</a>\", \"retweeted\": false, \"coordinates\": null, \"entities\": {\"symbols\": [], \"user_mentions\": [], \"hashtags\": [], \"urls\": [{\"url\": \"http://t.co/p2Q2Ml3jMZ\", \"indices\": [46, 68], \"expanded_url\": \"http://fb.me/3k8ta4FAK\", \"display_url\": \"fb.me/3k8ta4FAK\"}]}, \"in_reply_to_screen_name\": null, \"id_str\": \"524324956755087360\", \"retweet_count\": 0, \"in_reply_to_user_id\": null, \"favorited\": false, \"user\": {\"follow_request_sent\": false, \"profile_use_background_image\": false, \"profile_text_color\": \"666666\", \"default_profile_image\": false, \"id\": 614, \"profile_background_image_url_https\": \"https://abs.twimg.com/images/themes/theme9/bg.gif\", \"verified\": false, \"profile_location\": null, \"profile_image_url_https\": \"https://pbs.twimg.com/profile_images/465965547855679488/ONqxqGvL_normal.jpeg\", \"profile_sidebar_fill_color\": \"252429\", \"entities\": {\"url\": {\"urls\": [{\"url\": \"http://t.co/x5Vr8HWFxj\", \"indices\": [0, 22], \"expanded_url\": \"http://facebook.com/christian.harrison\", \"display_url\": \"facebook.com/christian.harr\\u2026\"}]}, \"description\": {\"urls\": []}}, \"followers_count\": 1377, \"profile_sidebar_border_color\": \"000000\", \"id_str\": \"614\", \"profile_background_color\": \"1A1B1F\", \"listed_count\": 39, \"is_translation_enabled\": false, \"utc_offset\": 12600, \"statuses_count\": 7894, \"description\": \"Urban enthusiast, professional storyteller, man of faith.\", \"friends_count\": 1931, \"location\": \"Salt Lake City, UT\", \"profile_link_color\": \"2FC2EF\", \"profile_image_url\": \"http://pbs.twimg.com/profile_images/465965547855679488/ONqxqGvL_normal.jpeg\", \"following\": false, \"geo_enabled\": true, \"profile_banner_url\": \"https://pbs.twimg.com/profile_banners/614/1365311832\", \"profile_background_image_url\": \"http://abs.twimg.com/images/themes/theme9/bg.gif\", \"name\": \"Christian Harrison\", \"lang\": \"en\", \"profile_background_tile\": false, \"favourites_count\": 83, \"screen_name\": \"dcharrison\", \"notifications\": false, \"url\": \"http://t.co/x5Vr8HWFxj\", \"created_at\": \"Thu Jul 13 20:30:05 +0000 2006\", \"contributors_enabled\": false, \"time_zone\": \"Tehran\", \"protected\": false, \"default_profile\": false, \"is_translator\": false}, \"geo\": null, \"in_reply_to_user_id_str\": null, \"possibly_sensitive\": false, \"lang\": \"en\", \"created_at\": \"Mon Oct 20 22:23:05 +0000 2014\", \"in_reply_to_status_id_str\": null, \"place\": null}, {\"contributors\": null, \"truncated\": false, \"text\": \"Mental health is so critical\\u2026 http://t.co/zxkQzcyHGs\", \"in_reply_to_status_id\": null, \"id\": 524237715647127553, \"favorite_count\": 0, \"source\": \"<a href=\\\"http://www.facebook.com/twitter\\\" rel=\\\"nofollow\\\">Facebook</a>\", \"retweeted\": false, \"coordinates\": null, \"entities\": {\"symbols\": [], \"user_mentions\": [], \"hashtags\": [], \"urls\": [{\"url\": \"http://t.co/zxkQzcyHGs\", \"indices\": [30, 52], \"expanded_url\": \"http://fb.me/32OXxETOP\", \"display_url\": \"fb.me/32OXxETOP\"}]}, \"in_reply_to_screen_name\": null, \"id_str\": \"524237715647127553\", \"retweet_count\": 0, \"in_reply_to_user_id\": null, \"favorited\": false, \"user\": {\"follow_request_sent\": false, \"profile_use_background_image\": false, \"profile_text_color\": \"666666\", \"default_profile_image\": false, \"id\": 614, \"profile_background_image_url_https\": \"https://abs.twimg.com/images/themes/theme9/bg.gif\", \"verified\": false, \"profile_location\": null, \"profile_image_url_https\": \"https://pbs.twimg.com/profile_images/465965547855679488/ONqxqGvL_normal.jpeg\", \"profile_sidebar_fill_color\": \"252429\", \"entities\": {\"url\": {\"urls\": [{\"url\": \"http://t.co/x5Vr8HWFxj\", \"indices\": [0, 22], \"expanded_url\": \"http://facebook.com/christian.harrison\", \"display_url\": \"facebook.com/christian.harr\\u2026\"}]}, \"description\": {\"urls\": []}}, \"followers_count\": 1377, \"profile_sidebar_border_color\": \"000000\", \"id_str\": \"614\", \"profile_background_color\": \"1A1B1F\", \"listed_count\": 39, \"is_translation_enabled\": false, \"utc_offset\": 12600, \"statuses_count\": 7894, \"description\": \"Urban enthusiast, professional storyteller, man of faith.\", \"friends_count\": 1931, \"location\": \"Salt Lake City, UT\", \"profile_link_color\": \"2FC2EF\", \"profile_image_url\": \"http://pbs.twimg.com/profile_images/465965547855679488/ONqxqGvL_normal.jpeg\", \"following\": false, \"geo_enabled\": true, \"profile_banner_url\": \"https://pbs.twimg.com/profile_banners/614/1365311832\", \"profile_background_image_url\": \"http://abs.twimg.com/images/themes/theme9/bg.gif\", \"name\": \"Christian Harrison\", \"lang\": \"en\", \"profile_background_tile\": false, \"favourites_count\": 83, \"screen_name\": \"dcharrison\", \"notifications\": false, \"url\": \"http://t.co/x5Vr8HWFxj\", \"created_at\": \"Thu Jul 13 20:30:05 +0000 2006\", \"contributors_enabled\": false, \"time_zone\": \"Tehran\", \"protected\": false, \"default_profile\": false, \"is_translator\": false}, \"geo\": null, \"in_reply_to_user_id_str\": null, \"possibly_sensitive\": false, \"lang\": \"en\", \"created_at\": \"Mon Oct 20 16:36:25 +0000 2014\", \"in_reply_to_status_id_str\": null, \"place\": null}, {\"contributors\": null, \"truncated\": false, \"text\": \"A reckless embarrassment. http://t.co/xx2omr7ysu\", \"in_reply_to_status_id\": null, \"id\": 524201619278548992, \"favorite_count\": 0, \"source\": \"<a href=\\\"http://www.facebook.com/twitter\\\" rel=\\\"nofollow\\\">Facebook</a>\", \"retweeted\": false, \"coordinates\": null, \"entities\": {\"symbols\": [], \"user_mentions\": [], \"hashtags\": [], \"urls\": [{\"url\": \"http://t.co/xx2omr7ysu\", \"indices\": [26, 48], \"expanded_url\": \"http://fb.me/4nGIdvHqf\", \"display_url\": \"fb.me/4nGIdvHqf\"}]}, \"in_reply_to_screen_name\": null, \"id_str\": \"524201619278548992\", \"retweet_count\": 0, \"in_reply_to_user_id\": null, \"favorited\": false, \"user\": {\"follow_request_sent\": false, \"profile_use_background_image\": false, \"profile_text_color\": \"666666\", \"default_profile_image\": false, \"id\": 614, \"profile_background_image_url_https\": \"https://abs.twimg.com/images/themes/theme9/bg.gif\", \"verified\": false, \"profile_location\": null, \"profile_image_url_https\": \"https://pbs.twimg.com/profile_images/465965547855679488/ONqxqGvL_normal.jpeg\", \"profile_sidebar_fill_color\": \"252429\", \"entities\": {\"url\": {\"urls\": [{\"url\": \"http://t.co/x5Vr8HWFxj\", \"indices\": [0, 22], \"expanded_url\": \"http://facebook.com/christian.harrison\", \"display_url\": \"facebook.com/christian.harr\\u2026\"}]}, \"description\": {\"urls\": []}}, \"followers_count\": 1377, \"profile_sidebar_border_color\": \"000000\", \"id_str\": \"614\", \"profile_background_color\": \"1A1B1F\", \"listed_count\": 39, \"is_translation_enabled\": false, \"utc_offset\": 12600, \"statuses_count\": 7894, \"description\": \"Urban enthusiast, professional storyteller, man of faith.\", \"friends_count\": 1931, \"location\": \"Salt Lake City, UT\", \"profile_link_color\": \"2FC2EF\", \"profile_image_url\": \"http://pbs.twimg.com/profile_images/465965547855679488/ONqxqGvL_normal.jpeg\", \"following\": false, \"geo_enabled\": true, \"profile_banner_url\": \"https://pbs.twimg.com/profile_banners/614/1365311832\", \"profile_background_image_url\": \"http://abs.twimg.com/images/themes/theme9/bg.gif\", \"name\": \"Christian Harrison\", \"lang\": \"en\", \"profile_background_tile\": false, \"favourites_count\": 83, \"screen_name\": \"dcharrison\", \"notifications\": false, \"url\": \"http://t.co/x5Vr8HWFxj\", \"created_at\": \"Thu Jul 13 20:30:05 +0000 2006\", \"contributors_enabled\": false, \"time_zone\": \"Tehran\", \"protected\": false, \"default_profile\": false, \"is_translator\": false}, \"geo\": null, \"in_reply_to_user_id_str\": null, \"possibly_sensitive\": false, \"lang\": \"en\", \"created_at\": \"Mon Oct 20 14:12:59 +0000 2014\", \"in_reply_to_status_id_str\": null, \"place\": null}, {\"contributors\": null, \"truncated\": false, \"text\": \"http://t.co/kiLGuyq1N9\", \"in_reply_to_status_id\": null, \"id\": 524118231020093440, \"favorite_count\": 0, \"source\": \"<a href=\\\"http://www.facebook.com/twitter\\\" rel=\\\"nofollow\\\">Facebook</a>\", \"retweeted\": false, \"coordinates\": null, \"entities\": {\"symbols\": [], \"user_mentions\": [], \"hashtags\": [], \"urls\": [{\"url\": \"http://t.co/kiLGuyq1N9\", \"indices\": [0, 22], \"expanded_url\": \"http://fb.me/2oSjT2QBQ\", \"display_url\": \"fb.me/2oSjT2QBQ\"}]}, \"in_reply_to_screen_name\": null, \"id_str\": \"524118231020093440\", \"retweet_count\": 0, \"in_reply_to_user_id\": null, \"favorited\": false, \"user\": {\"follow_request_sent\": false, \"profile_use_background_image\": false, \"profile_text_color\": \"666666\", \"default_profile_image\": false, \"id\": 614, \"profile_background_image_url_https\": \"https://abs.twimg.com/images/themes/theme9/bg.gif\", \"verified\": false, \"profile_location\": null, \"profile_image_url_https\": \"https://pbs.twimg.com/profile_images/465965547855679488/ONqxqGvL_normal.jpeg\", \"profile_sidebar_fill_color\": \"252429\", \"entities\": {\"url\": {\"urls\": [{\"url\": \"http://t.co/x5Vr8HWFxj\", \"indices\": [0, 22], \"expanded_url\": \"http://facebook.com/christian.harrison\", \"display_url\": \"facebook.com/christian.harr\\u2026\"}]}, \"description\": {\"urls\": []}}, \"followers_count\": 1377, \"profile_sidebar_border_color\": \"000000\", \"id_str\": \"614\", \"profile_background_color\": \"1A1B1F\", \"listed_count\": 39, \"is_translation_enabled\": false, \"utc_offset\": 12600, \"statuses_count\": 7894, \"description\": \"Urban enthusiast, professional storyteller, man of faith.\", \"friends_count\": 1931, \"location\": \"Salt Lake City, UT\", \"profile_link_color\": \"2FC2EF\", \"profile_image_url\": \"http://pbs.twimg.com/profile_images/465965547855679488/ONqxqGvL_normal.jpeg\", \"following\": false, \"geo_enabled\": true, \"profile_banner_url\": \"https://pbs.twimg.com/profile_banners/614/1365311832\", \"profile_background_image_url\": \"http://abs.twimg.com/images/themes/theme9/bg.gif\", \"name\": \"Christian Harrison\", \"lang\": \"en\", \"profile_background_tile\": false, \"favourites_count\": 83, \"screen_name\": \"dcharrison\", \"notifications\": false, \"url\": \"http://t.co/x5Vr8HWFxj\", \"created_at\": \"Thu Jul 13 20:30:05 +0000 2006\", \"contributors_enabled\": false, \"time_zone\": \"Tehran\", \"protected\": false, \"default_profile\": false, \"is_translator\": false}, \"geo\": null, \"in_reply_to_user_id_str\": null, \"possibly_sensitive\": false, \"lang\": \"und\", \"created_at\": \"Mon Oct 20 08:41:38 +0000 2014\", \"in_reply_to_status_id_str\": null, \"place\": null}, {\"contributors\": null, \"truncated\": false, \"text\": \"Hm. May have to give this a try. http://t.co/cVOhNAzrzw\", \"in_reply_to_status_id\": null, \"id\": 524061112828833792, \"favorite_count\": 0, \"source\": \"<a href=\\\"http://www.facebook.com/twitter\\\" rel=\\\"nofollow\\\">Facebook</a>\", \"retweeted\": false, \"coordinates\": null, \"entities\": {\"symbols\": [], \"user_mentions\": [], \"hashtags\": [], \"urls\": [{\"url\": \"http://t.co/cVOhNAzrzw\", \"indices\": [33, 55], \"expanded_url\": \"http://fb.me/71V4e6jrx\", \"display_url\": \"fb.me/71V4e6jrx\"}]}, \"in_reply_to_screen_name\": null, \"id_str\": \"524061112828833792\", \"retweet_count\": 0, \"in_reply_to_user_id\": null, \"favorited\": false, \"user\": {\"follow_request_sent\": false, \"profile_use_background_image\": false, \"profile_text_color\": \"666666\", \"default_profile_image\": false, \"id\": 614, \"profile_background_image_url_https\": \"https://abs.twimg.com/images/themes/theme9/bg.gif\", \"verified\": false, \"profile_location\": null, \"profile_image_url_https\": \"https://pbs.twimg.com/profile_images/465965547855679488/ONqxqGvL_normal.jpeg\", \"profile_sidebar_fill_color\": \"252429\", \"entities\": {\"url\": {\"urls\": [{\"url\": \"http://t.co/x5Vr8HWFxj\", \"indices\": [0, 22], \"expanded_url\": \"http://facebook.com/christian.harrison\", \"display_url\": \"facebook.com/christian.harr\\u2026\"}]}, \"description\": {\"urls\": []}}, \"followers_count\": 1377, \"profile_sidebar_border_color\": \"000000\", \"id_str\": \"614\", \"profile_background_color\": \"1A1B1F\", \"listed_count\": 39, \"is_translation_enabled\": false, \"utc_offset\": 12600, \"statuses_count\": 7894, \"description\": \"Urban enthusiast, professional storyteller, man of faith.\", \"friends_count\": 1931, \"location\": \"Salt Lake City, UT\", \"profile_link_color\": \"2FC2EF\", \"profile_image_url\": \"http://pbs.twimg.com/profile_images/465965547855679488/ONqxqGvL_normal.jpeg\", \"following\": false, \"geo_enabled\": true, \"profile_banner_url\": \"https://pbs.twimg.com/profile_banners/614/1365311832\", \"profile_background_image_url\": \"http://abs.twimg.com/images/themes/theme9/bg.gif\", \"name\": \"Christian Harrison\", \"lang\": \"en\", \"profile_background_tile\": false, \"favourites_count\": 83, \"screen_name\": \"dcharrison\", \"notifications\": false, \"url\": \"http://t.co/x5Vr8HWFxj\", \"created_at\": \"Thu Jul 13 20:30:05 +0000 2006\", \"contributors_enabled\": false, \"time_zone\": \"Tehran\", \"protected\": false, \"default_profile\": false, \"is_translator\": false}, \"geo\": null, \"in_reply_to_user_id_str\": null, \"possibly_sensitive\": false, \"lang\": \"en\", \"created_at\": \"Mon Oct 20 04:54:40 +0000 2014\", \"in_reply_to_status_id_str\": null, \"place\": null}, {\"contributors\": null, \"truncated\": false, \"text\": \"Touching. Very. http://t.co/IPJEknmT6n\", \"in_reply_to_status_id\": null, \"id\": 523934165280894977, \"favorite_count\": 0, \"source\": \"<a href=\\\"http://www.facebook.com/twitter\\\" rel=\\\"nofollow\\\">Facebook</a>\", \"retweeted\": false, \"coordinates\": null, \"entities\": {\"symbols\": [], \"user_mentions\": [], \"hashtags\": [], \"urls\": [{\"url\": \"http://t.co/IPJEknmT6n\", \"indices\": [16, 38], \"expanded_url\": \"http://fb.me/7fKiSiVhn\", \"display_url\": \"fb.me/7fKiSiVhn\"}]}, \"in_reply_to_screen_name\": null, \"id_str\": \"523934165280894977\", \"retweet_count\": 0, \"in_reply_to_user_id\": null, \"favorited\": false, \"user\": {\"follow_request_sent\": false, \"profile_use_background_image\": false, \"profile_text_color\": \"666666\", \"default_profile_image\": false, \"id\": 614, \"profile_background_image_url_https\": \"https://abs.twimg.com/images/themes/theme9/bg.gif\", \"verified\": false, \"profile_location\": null, \"profile_image_url_https\": \"https://pbs.twimg.com/profile_images/465965547855679488/ONqxqGvL_normal.jpeg\", \"profile_sidebar_fill_color\": \"252429\", \"entities\": {\"url\": {\"urls\": [{\"url\": \"http://t.co/x5Vr8HWFxj\", \"indices\": [0, 22], \"expanded_url\": \"http://facebook.com/christian.harrison\", \"display_url\": \"facebook.com/christian.harr\\u2026\"}]}, \"description\": {\"urls\": []}}, \"followers_count\": 1377, \"profile_sidebar_border_color\": \"000000\", \"id_str\": \"614\", \"profile_background_color\": \"1A1B1F\", \"listed_count\": 39, \"is_translation_enabled\": false, \"utc_offset\": 12600, \"statuses_count\": 7894, \"description\": \"Urban enthusiast, professional storyteller, man of faith.\", \"friends_count\": 1931, \"location\": \"Salt Lake City, UT\", \"profile_link_color\": \"2FC2EF\", \"profile_image_url\": \"http://pbs.twimg.com/profile_images/465965547855679488/ONqxqGvL_normal.jpeg\", \"following\": false, \"geo_enabled\": true, \"profile_banner_url\": \"https://pbs.twimg.com/profile_banners/614/1365311832\", \"profile_background_image_url\": \"http://abs.twimg.com/images/themes/theme9/bg.gif\", \"name\": \"Christian Harrison\", \"lang\": \"en\", \"profile_background_tile\": false, \"favourites_count\": 83, \"screen_name\": \"dcharrison\", \"notifications\": false, \"url\": \"http://t.co/x5Vr8HWFxj\", \"created_at\": \"Thu Jul 13 20:30:05 +0000 2006\", \"contributors_enabled\": false, \"time_zone\": \"Tehran\", \"protected\": false, \"default_profile\": false, \"is_translator\": false}, \"geo\": null, \"in_reply_to_user_id_str\": null, \"possibly_sensitive\": false, \"lang\": \"en\", \"created_at\": \"Sun Oct 19 20:30:13 +0000 2014\", \"in_reply_to_status_id_str\": null, \"place\": null}, {\"contributors\": null, \"truncated\": false, \"text\": \"http://t.co/gnx63zSdat\", \"in_reply_to_status_id\": null, \"id\": 523903129998209025, \"favorite_count\": 0, \"source\": \"<a href=\\\"http://www.facebook.com/twitter\\\" rel=\\\"nofollow\\\">Facebook</a>\", \"retweeted\": false, \"coordinates\": null, \"entities\": {\"symbols\": [], \"user_mentions\": [], \"hashtags\": [], \"urls\": [{\"url\": \"http://t.co/gnx63zSdat\", \"indices\": [0, 22], \"expanded_url\": \"http://fb.me/6NdD9Jqa2\", \"display_url\": \"fb.me/6NdD9Jqa2\"}]}, \"in_reply_to_screen_name\": null, \"id_str\": \"523903129998209025\", \"retweet_count\": 0, \"in_reply_to_user_id\": null, \"favorited\": false, \"user\": {\"follow_request_sent\": false, \"profile_use_background_image\": false, \"profile_text_color\": \"666666\", \"default_profile_image\": false, \"id\": 614, \"profile_background_image_url_https\": \"https://abs.twimg.com/images/themes/theme9/bg.gif\", \"verified\": false, \"profile_location\": null, \"profile_image_url_https\": \"https://pbs.twimg.com/profile_images/465965547855679488/ONqxqGvL_normal.jpeg\", \"profile_sidebar_fill_color\": \"252429\", \"entities\": {\"url\": {\"urls\": [{\"url\": \"http://t.co/x5Vr8HWFxj\", \"indices\": [0, 22], \"expanded_url\": \"http://facebook.com/christian.harrison\", \"display_url\": \"facebook.com/christian.harr\\u2026\"}]}, \"description\": {\"urls\": []}}, \"followers_count\": 1377, \"profile_sidebar_border_color\": \"000000\", \"id_str\": \"614\", \"profile_background_color\": \"1A1B1F\", \"listed_count\": 39, \"is_translation_enabled\": false, \"utc_offset\": 12600, \"statuses_count\": 7894, \"description\": \"Urban enthusiast, professional storyteller, man of faith.\", \"friends_count\": 1931, \"location\": \"Salt Lake City, UT\", \"profile_link_color\": \"2FC2EF\", \"profile_image_url\": \"http://pbs.twimg.com/profile_images/465965547855679488/ONqxqGvL_normal.jpeg\", \"following\": false, \"geo_enabled\": true, \"profile_banner_url\": \"https://pbs.twimg.com/profile_banners/614/1365311832\", \"profile_background_image_url\": \"http://abs.twimg.com/images/themes/theme9/bg.gif\", \"name\": \"Christian Harrison\", \"lang\": \"en\", \"profile_background_tile\": false, \"favourites_count\": 83, \"screen_name\": \"dcharrison\", \"notifications\": false, \"url\": \"http://t.co/x5Vr8HWFxj\", \"created_at\": \"Thu Jul 13 20:30:05 +0000 2006\", \"contributors_enabled\": false, \"time_zone\": \"Tehran\", \"protected\": false, \"default_profile\": false, \"is_translator\": false}, \"geo\": null, \"in_reply_to_user_id_str\": null, \"possibly_sensitive\": false, \"lang\": \"und\", \"created_at\": \"Sun Oct 19 18:26:54 +0000 2014\", \"in_reply_to_status_id_str\": null, \"place\": null}, {\"contributors\": null, \"truncated\": false, \"text\": \"A beautiful description of something so central to the Mormon experience: http://t.co/NCYEQhuV1K\", \"in_reply_to_status_id\": null, \"id\": 523613174260453376, \"favorite_count\": 1, \"source\": \"<a href=\\\"http://www.facebook.com/twitter\\\" rel=\\\"nofollow\\\">Facebook</a>\", \"retweeted\": false, \"coordinates\": null, \"entities\": {\"symbols\": [], \"user_mentions\": [], \"hashtags\": [], \"urls\": [{\"url\": \"http://t.co/NCYEQhuV1K\", \"indices\": [74, 96], \"expanded_url\": \"http://fb.me/1mtBHirvf\", \"display_url\": \"fb.me/1mtBHirvf\"}]}, \"in_reply_to_screen_name\": null, \"id_str\": \"523613174260453376\", \"retweet_count\": 0, \"in_reply_to_user_id\": null, \"favorited\": false, \"user\": {\"follow_request_sent\": false, \"profile_use_background_image\": false, \"profile_text_color\": \"666666\", \"default_profile_image\": false, \"id\": 614, \"profile_background_image_url_https\": \"https://abs.twimg.com/images/themes/theme9/bg.gif\", \"verified\": false, \"profile_location\": null, \"profile_image_url_https\": \"https://pbs.twimg.com/profile_images/465965547855679488/ONqxqGvL_normal.jpeg\", \"profile_sidebar_fill_color\": \"252429\", \"entities\": {\"url\": {\"urls\": [{\"url\": \"http://t.co/x5Vr8HWFxj\", \"indices\": [0, 22], \"expanded_url\": \"http://facebook.com/christian.harrison\", \"display_url\": \"facebook.com/christian.harr\\u2026\"}]}, \"description\": {\"urls\": []}}, \"followers_count\": 1377, \"profile_sidebar_border_color\": \"000000\", \"id_str\": \"614\", \"profile_background_color\": \"1A1B1F\", \"listed_count\": 39, \"is_translation_enabled\": false, \"utc_offset\": 12600, \"statuses_count\": 7894, \"description\": \"Urban enthusiast, professional storyteller, man of faith.\", \"friends_count\": 1931, \"location\": \"Salt Lake City, UT\", \"profile_link_color\": \"2FC2EF\", \"profile_image_url\": \"http://pbs.twimg.com/profile_images/465965547855679488/ONqxqGvL_normal.jpeg\", \"following\": false, \"geo_enabled\": true, \"profile_banner_url\": \"https://pbs.twimg.com/profile_banners/614/1365311832\", \"profile_background_image_url\": \"http://abs.twimg.com/images/themes/theme9/bg.gif\", \"name\": \"Christian Harrison\", \"lang\": \"en\", \"profile_background_tile\": false, \"favourites_count\": 83, \"screen_name\": \"dcharrison\", \"notifications\": false, \"url\": \"http://t.co/x5Vr8HWFxj\", \"created_at\": \"Thu Jul 13 20:30:05 +0000 2006\", \"contributors_enabled\": false, \"time_zone\": \"Tehran\", \"protected\": false, \"default_profile\": false, \"is_translator\": false}, \"geo\": null, \"in_reply_to_user_id_str\": null, \"possibly_sensitive\": false, \"lang\": \"en\", \"created_at\": \"Sat Oct 18 23:14:43 +0000 2014\", \"in_reply_to_status_id_str\": null, \"place\": null}, {\"contributors\": null, \"truncated\": false, \"text\": \"Tea with Archer http://t.co/o60sxXMTg7\", \"in_reply_to_status_id\": null, \"id\": 523523504172707840, \"favorite_count\": 0, \"source\": \"<a href=\\\"http://www.facebook.com/twitter\\\" rel=\\\"nofollow\\\">Facebook</a>\", \"retweeted\": false, \"coordinates\": null, \"entities\": {\"symbols\": [], \"user_mentions\": [], \"hashtags\": [], \"urls\": [{\"url\": \"http://t.co/o60sxXMTg7\", \"indices\": [16, 38], \"expanded_url\": \"http://fb.me/1mwEPfBRk\", \"display_url\": \"fb.me/1mwEPfBRk\"}]}, \"in_reply_to_screen_name\": null, \"id_str\": \"523523504172707840\", \"retweet_count\": 0, \"in_reply_to_user_id\": null, \"favorited\": false, \"user\": {\"follow_request_sent\": false, \"profile_use_background_image\": false, \"profile_text_color\": \"666666\", \"default_profile_image\": false, \"id\": 614, \"profile_background_image_url_https\": \"https://abs.twimg.com/images/themes/theme9/bg.gif\", \"verified\": false, \"profile_location\": null, \"profile_image_url_https\": \"https://pbs.twimg.com/profile_images/465965547855679488/ONqxqGvL_normal.jpeg\", \"profile_sidebar_fill_color\": \"252429\", \"entities\": {\"url\": {\"urls\": [{\"url\": \"http://t.co/x5Vr8HWFxj\", \"indices\": [0, 22], \"expanded_url\": \"http://facebook.com/christian.harrison\", \"display_url\": \"facebook.com/christian.harr\\u2026\"}]}, \"description\": {\"urls\": []}}, \"followers_count\": 1377, \"profile_sidebar_border_color\": \"000000\", \"id_str\": \"614\", \"profile_background_color\": \"1A1B1F\", \"listed_count\": 39, \"is_translation_enabled\": false, \"utc_offset\": 12600, \"statuses_count\": 7894, \"description\": \"Urban enthusiast, professional storyteller, man of faith.\", \"friends_count\": 1931, \"location\": \"Salt Lake City, UT\", \"profile_link_color\": \"2FC2EF\", \"profile_image_url\": \"http://pbs.twimg.com/profile_images/465965547855679488/ONqxqGvL_normal.jpeg\", \"following\": false, \"geo_enabled\": true, \"profile_banner_url\": \"https://pbs.twimg.com/profile_banners/614/1365311832\", \"profile_background_image_url\": \"http://abs.twimg.com/images/themes/theme9/bg.gif\", \"name\": \"Christian Harrison\", \"lang\": \"en\", \"profile_background_tile\": false, \"favourites_count\": 83, \"screen_name\": \"dcharrison\", \"notifications\": false, \"url\": \"http://t.co/x5Vr8HWFxj\", \"created_at\": \"Thu Jul 13 20:30:05 +0000 2006\", \"contributors_enabled\": false, \"time_zone\": \"Tehran\", \"protected\": false, \"default_profile\": false, \"is_translator\": false}, \"geo\": null, \"in_reply_to_user_id_str\": null, \"possibly_sensitive\": false, \"lang\": \"en\", \"created_at\": \"Sat Oct 18 17:18:24 +0000 2014\", \"in_reply_to_status_id_str\": null, \"place\": null}, {\"contributors\": null, \"truncated\": false, \"text\": \"http://t.co/khkNwJfKEz\", \"in_reply_to_status_id\": null, \"id\": 523145437784457216, \"favorite_count\": 0, \"source\": \"<a href=\\\"http://www.facebook.com/twitter\\\" rel=\\\"nofollow\\\">Facebook</a>\", \"retweeted\": false, \"coordinates\": null, \"entities\": {\"symbols\": [], \"user_mentions\": [], \"hashtags\": [], \"urls\": [{\"url\": \"http://t.co/khkNwJfKEz\", \"indices\": [0, 22], \"expanded_url\": \"http://fb.me/1xcE4NxZd\", \"display_url\": \"fb.me/1xcE4NxZd\"}]}, \"in_reply_to_screen_name\": null, \"id_str\": \"523145437784457216\", \"retweet_count\": 0, \"in_reply_to_user_id\": null, \"favorited\": false, \"user\": {\"follow_request_sent\": false, \"profile_use_background_image\": false, \"profile_text_color\": \"666666\", \"default_profile_image\": false, \"id\": 614, \"profile_background_image_url_https\": \"https://abs.twimg.com/images/themes/theme9/bg.gif\", \"verified\": false, \"profile_location\": null, \"profile_image_url_https\": \"https://pbs.twimg.com/profile_images/465965547855679488/ONqxqGvL_normal.jpeg\", \"profile_sidebar_fill_color\": \"252429\", \"entities\": {\"url\": {\"urls\": [{\"url\": \"http://t.co/x5Vr8HWFxj\", \"indices\": [0, 22], \"expanded_url\": \"http://facebook.com/christian.harrison\", \"display_url\": \"facebook.com/christian.harr\\u2026\"}]}, \"description\": {\"urls\": []}}, \"followers_count\": 1377, \"profile_sidebar_border_color\": \"000000\", \"id_str\": \"614\", \"profile_background_color\": \"1A1B1F\", \"listed_count\": 39, \"is_translation_enabled\": false, \"utc_offset\": 12600, \"statuses_count\": 7894, \"description\": \"Urban enthusiast, professional storyteller, man of faith.\", \"friends_count\": 1931, \"location\": \"Salt Lake City, UT\", \"profile_link_color\": \"2FC2EF\", \"profile_image_url\": \"http://pbs.twimg.com/profile_images/465965547855679488/ONqxqGvL_normal.jpeg\", \"following\": false, \"geo_enabled\": true, \"profile_banner_url\": \"https://pbs.twimg.com/profile_banners/614/1365311832\", \"profile_background_image_url\": \"http://abs.twimg.com/images/themes/theme9/bg.gif\", \"name\": \"Christian Harrison\", \"lang\": \"en\", \"profile_background_tile\": false, \"favourites_count\": 83, \"screen_name\": \"dcharrison\", \"notifications\": false, \"url\": \"http://t.co/x5Vr8HWFxj\", \"created_at\": \"Thu Jul 13 20:30:05 +0000 2006\", \"contributors_enabled\": false, \"time_zone\": \"Tehran\", \"protected\": false, \"default_profile\": false, \"is_translator\": false}, \"geo\": null, \"in_reply_to_user_id_str\": null, \"possibly_sensitive\": false, \"lang\": \"und\", \"created_at\": \"Fri Oct 17 16:16:06 +0000 2014\", \"in_reply_to_status_id_str\": null, \"place\": null}, {\"contributors\": null, \"truncated\": false, \"text\": \"It's wrong\\u2026 but it's funny! http://t.co/geRyeGGaaW\", \"in_reply_to_status_id\": null, \"id\": 522863382806798336, \"favorite_count\": 0, \"source\": \"<a href=\\\"http://www.facebook.com/twitter\\\" rel=\\\"nofollow\\\">Facebook</a>\", \"retweeted\": false, \"coordinates\": null, \"entities\": {\"symbols\": [], \"user_mentions\": [], \"hashtags\": [], \"urls\": [{\"url\": \"http://t.co/geRyeGGaaW\", \"indices\": [28, 50], \"expanded_url\": \"http://fb.me/6PG2r6nDc\", \"display_url\": \"fb.me/6PG2r6nDc\"}]}, \"in_reply_to_screen_name\": null, \"id_str\": \"522863382806798336\", \"retweet_count\": 0, \"in_reply_to_user_id\": null, \"favorited\": false, \"user\": {\"follow_request_sent\": false, \"profile_use_background_image\": false, \"profile_text_color\": \"666666\", \"default_profile_image\": false, \"id\": 614, \"profile_background_image_url_https\": \"https://abs.twimg.com/images/themes/theme9/bg.gif\", \"verified\": false, \"profile_location\": null, \"profile_image_url_https\": \"https://pbs.twimg.com/profile_images/465965547855679488/ONqxqGvL_normal.jpeg\", \"profile_sidebar_fill_color\": \"252429\", \"entities\": {\"url\": {\"urls\": [{\"url\": \"http://t.co/x5Vr8HWFxj\", \"indices\": [0, 22], \"expanded_url\": \"http://facebook.com/christian.harrison\", \"display_url\": \"facebook.com/christian.harr\\u2026\"}]}, \"description\": {\"urls\": []}}, \"followers_count\": 1377, \"profile_sidebar_border_color\": \"000000\", \"id_str\": \"614\", \"profile_background_color\": \"1A1B1F\", \"listed_count\": 39, \"is_translation_enabled\": false, \"utc_offset\": 12600, \"statuses_count\": 7894, \"description\": \"Urban enthusiast, professional storyteller, man of faith.\", \"friends_count\": 1931, \"location\": \"Salt Lake City, UT\", \"profile_link_color\": \"2FC2EF\", \"profile_image_url\": \"http://pbs.twimg.com/profile_images/465965547855679488/ONqxqGvL_normal.jpeg\", \"following\": false, \"geo_enabled\": true, \"profile_banner_url\": \"https://pbs.twimg.com/profile_banners/614/1365311832\", \"profile_background_image_url\": \"http://abs.twimg.com/images/themes/theme9/bg.gif\", \"name\": \"Christian Harrison\", \"lang\": \"en\", \"profile_background_tile\": false, \"favourites_count\": 83, \"screen_name\": \"dcharrison\", \"notifications\": false, \"url\": \"http://t.co/x5Vr8HWFxj\", \"created_at\": \"Thu Jul 13 20:30:05 +0000 2006\", \"contributors_enabled\": false, \"time_zone\": \"Tehran\", \"protected\": false, \"default_profile\": false, \"is_translator\": false}, \"geo\": null, \"in_reply_to_user_id_str\": null, \"possibly_sensitive\": false, \"lang\": \"en\", \"created_at\": \"Thu Oct 16 21:35:19 +0000 2014\", \"in_reply_to_status_id_str\": null, \"place\": null}, {\"contributors\": null, \"truncated\": false, \"text\": \"I really am very fortunate to work with such an amazing crew \\u2014 and under such caring leadership. http://t.co/s6KSX3mtku\", \"in_reply_to_status_id\": null, \"id\": 522857186762825728, \"favorite_count\": 0, \"source\": \"<a href=\\\"http://www.facebook.com/twitter\\\" rel=\\\"nofollow\\\">Facebook</a>\", \"retweeted\": false, \"coordinates\": null, \"entities\": {\"symbols\": [], \"user_mentions\": [], \"hashtags\": [], \"urls\": [{\"url\": \"http://t.co/s6KSX3mtku\", \"indices\": [97, 119], \"expanded_url\": \"http://fb.me/1IzaSePcL\", \"display_url\": \"fb.me/1IzaSePcL\"}]}, \"in_reply_to_screen_name\": null, \"id_str\": \"522857186762825728\", \"retweet_count\": 0, \"in_reply_to_user_id\": null, \"favorited\": false, \"user\": {\"follow_request_sent\": false, \"profile_use_background_image\": false, \"profile_text_color\": \"666666\", \"default_profile_image\": false, \"id\": 614, \"profile_background_image_url_https\": \"https://abs.twimg.com/images/themes/theme9/bg.gif\", \"verified\": false, \"profile_location\": null, \"profile_image_url_https\": \"https://pbs.twimg.com/profile_images/465965547855679488/ONqxqGvL_normal.jpeg\", \"profile_sidebar_fill_color\": \"252429\", \"entities\": {\"url\": {\"urls\": [{\"url\": \"http://t.co/x5Vr8HWFxj\", \"indices\": [0, 22], \"expanded_url\": \"http://facebook.com/christian.harrison\", \"display_url\": \"facebook.com/christian.harr\\u2026\"}]}, \"description\": {\"urls\": []}}, \"followers_count\": 1377, \"profile_sidebar_border_color\": \"000000\", \"id_str\": \"614\", \"profile_background_color\": \"1A1B1F\", \"listed_count\": 39, \"is_translation_enabled\": false, \"utc_offset\": 12600, \"statuses_count\": 7894, \"description\": \"Urban enthusiast, professional storyteller, man of faith.\", \"friends_count\": 1931, \"location\": \"Salt Lake City, UT\", \"profile_link_color\": \"2FC2EF\", \"profile_image_url\": \"http://pbs.twimg.com/profile_images/465965547855679488/ONqxqGvL_normal.jpeg\", \"following\": false, \"geo_enabled\": true, \"profile_banner_url\": \"https://pbs.twimg.com/profile_banners/614/1365311832\", \"profile_background_image_url\": \"http://abs.twimg.com/images/themes/theme9/bg.gif\", \"name\": \"Christian Harrison\", \"lang\": \"en\", \"profile_background_tile\": false, \"favourites_count\": 83, \"screen_name\": \"dcharrison\", \"notifications\": false, \"url\": \"http://t.co/x5Vr8HWFxj\", \"created_at\": \"Thu Jul 13 20:30:05 +0000 2006\", \"contributors_enabled\": false, \"time_zone\": \"Tehran\", \"protected\": false, \"default_profile\": false, \"is_translator\": false}, \"geo\": null, \"in_reply_to_user_id_str\": null, \"possibly_sensitive\": false, \"lang\": \"en\", \"created_at\": \"Thu Oct 16 21:10:42 +0000 2014\", \"in_reply_to_status_id_str\": null, \"place\": null}, {\"contributors\": null, \"truncated\": false, \"text\": \"Are you upgrading to Yosemite? You should read this\\u2026 http://t.co/z9DbpfSy3n\", \"in_reply_to_status_id\": null, \"id\": 522850265167187968, \"favorite_count\": 0, \"source\": \"<a href=\\\"http://www.facebook.com/twitter\\\" rel=\\\"nofollow\\\">Facebook</a>\", \"retweeted\": false, \"coordinates\": null, \"entities\": {\"symbols\": [], \"user_mentions\": [], \"hashtags\": [], \"urls\": [{\"url\": \"http://t.co/z9DbpfSy3n\", \"indices\": [53, 75], \"expanded_url\": \"http://fb.me/2WWVPWb5Y\", \"display_url\": \"fb.me/2WWVPWb5Y\"}]}, \"in_reply_to_screen_name\": null, \"id_str\": \"522850265167187968\", \"retweet_count\": 0, \"in_reply_to_user_id\": null, \"favorited\": false, \"user\": {\"follow_request_sent\": false, \"profile_use_background_image\": false, \"profile_text_color\": \"666666\", \"default_profile_image\": false, \"id\": 614, \"profile_background_image_url_https\": \"https://abs.twimg.com/images/themes/theme9/bg.gif\", \"verified\": false, \"profile_location\": null, \"profile_image_url_https\": \"https://pbs.twimg.com/profile_images/465965547855679488/ONqxqGvL_normal.jpeg\", \"profile_sidebar_fill_color\": \"252429\", \"entities\": {\"url\": {\"urls\": [{\"url\": \"http://t.co/x5Vr8HWFxj\", \"indices\": [0, 22], \"expanded_url\": \"http://facebook.com/christian.harrison\", \"display_url\": \"facebook.com/christian.harr\\u2026\"}]}, \"description\": {\"urls\": []}}, \"followers_count\": 1377, \"profile_sidebar_border_color\": \"000000\", \"id_str\": \"614\", \"profile_background_color\": \"1A1B1F\", \"listed_count\": 39, \"is_translation_enabled\": false, \"utc_offset\": 12600, \"statuses_count\": 7894, \"description\": \"Urban enthusiast, professional storyteller, man of faith.\", \"friends_count\": 1931, \"location\": \"Salt Lake City, UT\", \"profile_link_color\": \"2FC2EF\", \"profile_image_url\": \"http://pbs.twimg.com/profile_images/465965547855679488/ONqxqGvL_normal.jpeg\", \"following\": false, \"geo_enabled\": true, \"profile_banner_url\": \"https://pbs.twimg.com/profile_banners/614/1365311832\", \"profile_background_image_url\": \"http://abs.twimg.com/images/themes/theme9/bg.gif\", \"name\": \"Christian Harrison\", \"lang\": \"en\", \"profile_background_tile\": false, \"favourites_count\": 83, \"screen_name\": \"dcharrison\", \"notifications\": false, \"url\": \"http://t.co/x5Vr8HWFxj\", \"created_at\": \"Thu Jul 13 20:30:05 +0000 2006\", \"contributors_enabled\": false, \"time_zone\": \"Tehran\", \"protected\": false, \"default_profile\": false, \"is_translator\": false}, \"geo\": null, \"in_reply_to_user_id_str\": null, \"possibly_sensitive\": false, \"lang\": \"en\", \"created_at\": \"Thu Oct 16 20:43:11 +0000 2014\", \"in_reply_to_status_id_str\": null, \"place\": null}, {\"contributors\": null, \"truncated\": false, \"text\": \"For future reference:\\n\\n\\u201cLet me never fall into the vulgar mistake of dreaming that I am persecuted whenever I am... http://t.co/1DraO4sxqa\", \"in_reply_to_status_id\": null, \"id\": 522834810138800128, \"favorite_count\": 0, \"source\": \"<a href=\\\"http://www.facebook.com/twitter\\\" rel=\\\"nofollow\\\">Facebook</a>\", \"retweeted\": false, \"coordinates\": null, \"entities\": {\"symbols\": [], \"user_mentions\": [], \"hashtags\": [], \"urls\": [{\"url\": \"http://t.co/1DraO4sxqa\", \"indices\": [116, 138], \"expanded_url\": \"http://fb.me/2vy6OwEvs\", \"display_url\": \"fb.me/2vy6OwEvs\"}]}, \"in_reply_to_screen_name\": null, \"id_str\": \"522834810138800128\", \"retweet_count\": 0, \"in_reply_to_user_id\": null, \"favorited\": false, \"user\": {\"follow_request_sent\": false, \"profile_use_background_image\": false, \"profile_text_color\": \"666666\", \"default_profile_image\": false, \"id\": 614, \"profile_background_image_url_https\": \"https://abs.twimg.com/images/themes/theme9/bg.gif\", \"verified\": false, \"profile_location\": null, \"profile_image_url_https\": \"https://pbs.twimg.com/profile_images/465965547855679488/ONqxqGvL_normal.jpeg\", \"profile_sidebar_fill_color\": \"252429\", \"entities\": {\"url\": {\"urls\": [{\"url\": \"http://t.co/x5Vr8HWFxj\", \"indices\": [0, 22], \"expanded_url\": \"http://facebook.com/christian.harrison\", \"display_url\": \"facebook.com/christian.harr\\u2026\"}]}, \"description\": {\"urls\": []}}, \"followers_count\": 1377, \"profile_sidebar_border_color\": \"000000\", \"id_str\": \"614\", \"profile_background_color\": \"1A1B1F\", \"listed_count\": 39, \"is_translation_enabled\": false, \"utc_offset\": 12600, \"statuses_count\": 7894, \"description\": \"Urban enthusiast, professional storyteller, man of faith.\", \"friends_count\": 1931, \"location\": \"Salt Lake City, UT\", \"profile_link_color\": \"2FC2EF\", \"profile_image_url\": \"http://pbs.twimg.com/profile_images/465965547855679488/ONqxqGvL_normal.jpeg\", \"following\": false, \"geo_enabled\": true, \"profile_banner_url\": \"https://pbs.twimg.com/profile_banners/614/1365311832\", \"profile_background_image_url\": \"http://abs.twimg.com/images/themes/theme9/bg.gif\", \"name\": \"Christian Harrison\", \"lang\": \"en\", \"profile_background_tile\": false, \"favourites_count\": 83, \"screen_name\": \"dcharrison\", \"notifications\": false, \"url\": \"http://t.co/x5Vr8HWFxj\", \"created_at\": \"Thu Jul 13 20:30:05 +0000 2006\", \"contributors_enabled\": false, \"time_zone\": \"Tehran\", \"protected\": false, \"default_profile\": false, \"is_translator\": false}, \"geo\": null, \"in_reply_to_user_id_str\": null, \"possibly_sensitive\": false, \"lang\": \"en\", \"created_at\": \"Thu Oct 16 19:41:47 +0000 2014\", \"in_reply_to_status_id_str\": null, \"place\": null}, {\"contributors\": null, \"truncated\": false, \"text\": \"For future reference:\\n\\n\\u201cLet me never fall into the vulgar mistake of dreaming that I am persecuted whenever I am... http://t.co/aI0FKVoC6s\", \"in_reply_to_status_id\": null, \"id\": 522833797927038977, \"favorite_count\": 0, \"source\": \"<a href=\\\"http://www.facebook.com/twitter\\\" rel=\\\"nofollow\\\">Facebook</a>\", \"retweeted\": false, \"coordinates\": null, \"entities\": {\"symbols\": [], \"user_mentions\": [], \"hashtags\": [], \"urls\": [{\"url\": \"http://t.co/aI0FKVoC6s\", \"indices\": [116, 138], \"expanded_url\": \"http://fb.me/1yX2HnAoc\", \"display_url\": \"fb.me/1yX2HnAoc\"}]}, \"in_reply_to_screen_name\": null, \"id_str\": \"522833797927038977\", \"retweet_count\": 0, \"in_reply_to_user_id\": null, \"favorited\": false, \"user\": {\"follow_request_sent\": false, \"profile_use_background_image\": false, \"profile_text_color\": \"666666\", \"default_profile_image\": false, \"id\": 614, \"profile_background_image_url_https\": \"https://abs.twimg.com/images/themes/theme9/bg.gif\", \"verified\": false, \"profile_location\": null, \"profile_image_url_https\": \"https://pbs.twimg.com/profile_images/465965547855679488/ONqxqGvL_normal.jpeg\", \"profile_sidebar_fill_color\": \"252429\", \"entities\": {\"url\": {\"urls\": [{\"url\": \"http://t.co/x5Vr8HWFxj\", \"indices\": [0, 22], \"expanded_url\": \"http://facebook.com/christian.harrison\", \"display_url\": \"facebook.com/christian.harr\\u2026\"}]}, \"description\": {\"urls\": []}}, \"followers_count\": 1377, \"profile_sidebar_border_color\": \"000000\", \"id_str\": \"614\", \"profile_background_color\": \"1A1B1F\", \"listed_count\": 39, \"is_translation_enabled\": false, \"utc_offset\": 12600, \"statuses_count\": 7894, \"description\": \"Urban enthusiast, professional storyteller, man of faith.\", \"friends_count\": 1931, \"location\": \"Salt Lake City, UT\", \"profile_link_color\": \"2FC2EF\", \"profile_image_url\": \"http://pbs.twimg.com/profile_images/465965547855679488/ONqxqGvL_normal.jpeg\", \"following\": false, \"geo_enabled\": true, \"profile_banner_url\": \"https://pbs.twimg.com/profile_banners/614/1365311832\", \"profile_background_image_url\": \"http://abs.twimg.com/images/themes/theme9/bg.gif\", \"name\": \"Christian Harrison\", \"lang\": \"en\", \"profile_background_tile\": false, \"favourites_count\": 83, \"screen_name\": \"dcharrison\", \"notifications\": false, \"url\": \"http://t.co/x5Vr8HWFxj\", \"created_at\": \"Thu Jul 13 20:30:05 +0000 2006\", \"contributors_enabled\": false, \"time_zone\": \"Tehran\", \"protected\": false, \"default_profile\": false, \"is_translator\": false}, \"geo\": null, \"in_reply_to_user_id_str\": null, \"possibly_sensitive\": false, \"lang\": \"en\", \"created_at\": \"Thu Oct 16 19:37:45 +0000 2014\", \"in_reply_to_status_id_str\": null, \"place\": null}, {\"contributors\": null, \"truncated\": false, \"text\": \"I love this. http://t.co/U6DpS6l3rx\", \"in_reply_to_status_id\": null, \"id\": 522812398424850433, \"favorite_count\": 0, \"source\": \"<a href=\\\"http://www.facebook.com/twitter\\\" rel=\\\"nofollow\\\">Facebook</a>\", \"retweeted\": false, \"coordinates\": null, \"entities\": {\"symbols\": [], \"user_mentions\": [], \"hashtags\": [], \"urls\": [{\"url\": \"http://t.co/U6DpS6l3rx\", \"indices\": [13, 35], \"expanded_url\": \"http://fb.me/2xZoca87n\", \"display_url\": \"fb.me/2xZoca87n\"}]}, \"in_reply_to_screen_name\": null, \"id_str\": \"522812398424850433\", \"retweet_count\": 0, \"in_reply_to_user_id\": null, \"favorited\": false, \"user\": {\"follow_request_sent\": false, \"profile_use_background_image\": false, \"profile_text_color\": \"666666\", \"default_profile_image\": false, \"id\": 614, \"profile_background_image_url_https\": \"https://abs.twimg.com/images/themes/theme9/bg.gif\", \"verified\": false, \"profile_location\": null, \"profile_image_url_https\": \"https://pbs.twimg.com/profile_images/465965547855679488/ONqxqGvL_normal.jpeg\", \"profile_sidebar_fill_color\": \"252429\", \"entities\": {\"url\": {\"urls\": [{\"url\": \"http://t.co/x5Vr8HWFxj\", \"indices\": [0, 22], \"expanded_url\": \"http://facebook.com/christian.harrison\", \"display_url\": \"facebook.com/christian.harr\\u2026\"}]}, \"description\": {\"urls\": []}}, \"followers_count\": 1377, \"profile_sidebar_border_color\": \"000000\", \"id_str\": \"614\", \"profile_background_color\": \"1A1B1F\", \"listed_count\": 39, \"is_translation_enabled\": false, \"utc_offset\": 12600, \"statuses_count\": 7894, \"description\": \"Urban enthusiast, professional storyteller, man of faith.\", \"friends_count\": 1931, \"location\": \"Salt Lake City, UT\", \"profile_link_color\": \"2FC2EF\", \"profile_image_url\": \"http://pbs.twimg.com/profile_images/465965547855679488/ONqxqGvL_normal.jpeg\", \"following\": false, \"geo_enabled\": true, \"profile_banner_url\": \"https://pbs.twimg.com/profile_banners/614/1365311832\", \"profile_background_image_url\": \"http://abs.twimg.com/images/themes/theme9/bg.gif\", \"name\": \"Christian Harrison\", \"lang\": \"en\", \"profile_background_tile\": false, \"favourites_count\": 83, \"screen_name\": \"dcharrison\", \"notifications\": false, \"url\": \"http://t.co/x5Vr8HWFxj\", \"created_at\": \"Thu Jul 13 20:30:05 +0000 2006\", \"contributors_enabled\": false, \"time_zone\": \"Tehran\", \"protected\": false, \"default_profile\": false, \"is_translator\": false}, \"geo\": null, \"in_reply_to_user_id_str\": null, \"possibly_sensitive\": false, \"lang\": \"en\", \"created_at\": \"Thu Oct 16 18:12:43 +0000 2014\", \"in_reply_to_status_id_str\": null, \"place\": null}, {\"contributors\": null, \"truncated\": false, \"text\": \"Do you have amazing stories of how UBER or LYFT have made a difference in how you get around town?\\n\\nShare them... http://t.co/wEMlyxgp0l\", \"in_reply_to_status_id\": null, \"id\": 522795047087915009, \"favorite_count\": 0, \"source\": \"<a href=\\\"http://www.facebook.com/twitter\\\" rel=\\\"nofollow\\\">Facebook</a>\", \"retweeted\": false, \"coordinates\": null, \"entities\": {\"symbols\": [], \"user_mentions\": [], \"hashtags\": [], \"urls\": [{\"url\": \"http://t.co/wEMlyxgp0l\", \"indices\": [114, 136], \"expanded_url\": \"http://fb.me/6QVdxUyO6\", \"display_url\": \"fb.me/6QVdxUyO6\"}]}, \"in_reply_to_screen_name\": null, \"id_str\": \"522795047087915009\", \"retweet_count\": 0, \"in_reply_to_user_id\": null, \"favorited\": false, \"user\": {\"follow_request_sent\": false, \"profile_use_background_image\": false, \"profile_text_color\": \"666666\", \"default_profile_image\": false, \"id\": 614, \"profile_background_image_url_https\": \"https://abs.twimg.com/images/themes/theme9/bg.gif\", \"verified\": false, \"profile_location\": null, \"profile_image_url_https\": \"https://pbs.twimg.com/profile_images/465965547855679488/ONqxqGvL_normal.jpeg\", \"profile_sidebar_fill_color\": \"252429\", \"entities\": {\"url\": {\"urls\": [{\"url\": \"http://t.co/x5Vr8HWFxj\", \"indices\": [0, 22], \"expanded_url\": \"http://facebook.com/christian.harrison\", \"display_url\": \"facebook.com/christian.harr\\u2026\"}]}, \"description\": {\"urls\": []}}, \"followers_count\": 1377, \"profile_sidebar_border_color\": \"000000\", \"id_str\": \"614\", \"profile_background_color\": \"1A1B1F\", \"listed_count\": 39, \"is_translation_enabled\": false, \"utc_offset\": 12600, \"statuses_count\": 7894, \"description\": \"Urban enthusiast, professional storyteller, man of faith.\", \"friends_count\": 1931, \"location\": \"Salt Lake City, UT\", \"profile_link_color\": \"2FC2EF\", \"profile_image_url\": \"http://pbs.twimg.com/profile_images/465965547855679488/ONqxqGvL_normal.jpeg\", \"following\": false, \"geo_enabled\": true, \"profile_banner_url\": \"https://pbs.twimg.com/profile_banners/614/1365311832\", \"profile_background_image_url\": \"http://abs.twimg.com/images/themes/theme9/bg.gif\", \"name\": \"Christian Harrison\", \"lang\": \"en\", \"profile_background_tile\": false, \"favourites_count\": 83, \"screen_name\": \"dcharrison\", \"notifications\": false, \"url\": \"http://t.co/x5Vr8HWFxj\", \"created_at\": \"Thu Jul 13 20:30:05 +0000 2006\", \"contributors_enabled\": false, \"time_zone\": \"Tehran\", \"protected\": false, \"default_profile\": false, \"is_translator\": false}, \"geo\": null, \"in_reply_to_user_id_str\": null, \"possibly_sensitive\": false, \"lang\": \"en\", \"created_at\": \"Thu Oct 16 17:03:46 +0000 2014\", \"in_reply_to_status_id_str\": null, \"place\": null}, {\"contributors\": null, \"truncated\": false, \"text\": \"Deeper, better service\\u2026 http://t.co/EA6kvBgZZK\", \"in_reply_to_status_id\": null, \"id\": 522793382402224128, \"favorite_count\": 0, \"source\": \"<a href=\\\"http://www.facebook.com/twitter\\\" rel=\\\"nofollow\\\">Facebook</a>\", \"retweeted\": false, \"coordinates\": null, \"entities\": {\"symbols\": [], \"user_mentions\": [], \"hashtags\": [], \"urls\": [{\"url\": \"http://t.co/EA6kvBgZZK\", \"indices\": [24, 46], \"expanded_url\": \"http://fb.me/30tWFb4vU\", \"display_url\": \"fb.me/30tWFb4vU\"}]}, \"in_reply_to_screen_name\": null, \"id_str\": \"522793382402224128\", \"retweet_count\": 0, \"in_reply_to_user_id\": null, \"favorited\": false, \"user\": {\"follow_request_sent\": false, \"profile_use_background_image\": false, \"profile_text_color\": \"666666\", \"default_profile_image\": false, \"id\": 614, \"profile_background_image_url_https\": \"https://abs.twimg.com/images/themes/theme9/bg.gif\", \"verified\": false, \"profile_location\": null, \"profile_image_url_https\": \"https://pbs.twimg.com/profile_images/465965547855679488/ONqxqGvL_normal.jpeg\", \"profile_sidebar_fill_color\": \"252429\", \"entities\": {\"url\": {\"urls\": [{\"url\": \"http://t.co/x5Vr8HWFxj\", \"indices\": [0, 22], \"expanded_url\": \"http://facebook.com/christian.harrison\", \"display_url\": \"facebook.com/christian.harr\\u2026\"}]}, \"description\": {\"urls\": []}}, \"followers_count\": 1377, \"profile_sidebar_border_color\": \"000000\", \"id_str\": \"614\", \"profile_background_color\": \"1A1B1F\", \"listed_count\": 39, \"is_translation_enabled\": false, \"utc_offset\": 12600, \"statuses_count\": 7894, \"description\": \"Urban enthusiast, professional storyteller, man of faith.\", \"friends_count\": 1931, \"location\": \"Salt Lake City, UT\", \"profile_link_color\": \"2FC2EF\", \"profile_image_url\": \"http://pbs.twimg.com/profile_images/465965547855679488/ONqxqGvL_normal.jpeg\", \"following\": false, \"geo_enabled\": true, \"profile_banner_url\": \"https://pbs.twimg.com/profile_banners/614/1365311832\", \"profile_background_image_url\": \"http://abs.twimg.com/images/themes/theme9/bg.gif\", \"name\": \"Christian Harrison\", \"lang\": \"en\", \"profile_background_tile\": false, \"favourites_count\": 83, \"screen_name\": \"dcharrison\", \"notifications\": false, \"url\": \"http://t.co/x5Vr8HWFxj\", \"created_at\": \"Thu Jul 13 20:30:05 +0000 2006\", \"contributors_enabled\": false, \"time_zone\": \"Tehran\", \"protected\": false, \"default_profile\": false, \"is_translator\": false}, \"geo\": null, \"in_reply_to_user_id_str\": null, \"possibly_sensitive\": false, \"lang\": \"en\", \"created_at\": \"Thu Oct 16 16:57:10 +0000 2014\", \"in_reply_to_status_id_str\": null, \"place\": null}, {\"contributors\": null, \"truncated\": false, \"text\": \"Love this spotlight on a most unlikely of celebrities\\u2026 http://t.co/bd1irrmnTJ\", \"in_reply_to_status_id\": null, \"id\": 522776325560758272, \"favorite_count\": 0, \"source\": \"<a href=\\\"http://www.facebook.com/twitter\\\" rel=\\\"nofollow\\\">Facebook</a>\", \"retweeted\": false, \"coordinates\": null, \"entities\": {\"symbols\": [], \"user_mentions\": [], \"hashtags\": [], \"urls\": [{\"url\": \"http://t.co/bd1irrmnTJ\", \"indices\": [55, 77], \"expanded_url\": \"http://fb.me/6TjteVyhU\", \"display_url\": \"fb.me/6TjteVyhU\"}]}, \"in_reply_to_screen_name\": null, \"id_str\": \"522776325560758272\", \"retweet_count\": 0, \"in_reply_to_user_id\": null, \"favorited\": false, \"user\": {\"follow_request_sent\": false, \"profile_use_background_image\": false, \"profile_text_color\": \"666666\", \"default_profile_image\": false, \"id\": 614, \"profile_background_image_url_https\": \"https://abs.twimg.com/images/themes/theme9/bg.gif\", \"verified\": false, \"profile_location\": null, \"profile_image_url_https\": \"https://pbs.twimg.com/profile_images/465965547855679488/ONqxqGvL_normal.jpeg\", \"profile_sidebar_fill_color\": \"252429\", \"entities\": {\"url\": {\"urls\": [{\"url\": \"http://t.co/x5Vr8HWFxj\", \"indices\": [0, 22], \"expanded_url\": \"http://facebook.com/christian.harrison\", \"display_url\": \"facebook.com/christian.harr\\u2026\"}]}, \"description\": {\"urls\": []}}, \"followers_count\": 1377, \"profile_sidebar_border_color\": \"000000\", \"id_str\": \"614\", \"profile_background_color\": \"1A1B1F\", \"listed_count\": 39, \"is_translation_enabled\": false, \"utc_offset\": 12600, \"statuses_count\": 7894, \"description\": \"Urban enthusiast, professional storyteller, man of faith.\", \"friends_count\": 1931, \"location\": \"Salt Lake City, UT\", \"profile_link_color\": \"2FC2EF\", \"profile_image_url\": \"http://pbs.twimg.com/profile_images/465965547855679488/ONqxqGvL_normal.jpeg\", \"following\": false, \"geo_enabled\": true, \"profile_banner_url\": \"https://pbs.twimg.com/profile_banners/614/1365311832\", \"profile_background_image_url\": \"http://abs.twimg.com/images/themes/theme9/bg.gif\", \"name\": \"Christian Harrison\", \"lang\": \"en\", \"profile_background_tile\": false, \"favourites_count\": 83, \"screen_name\": \"dcharrison\", \"notifications\": false, \"url\": \"http://t.co/x5Vr8HWFxj\", \"created_at\": \"Thu Jul 13 20:30:05 +0000 2006\", \"contributors_enabled\": false, \"time_zone\": \"Tehran\", \"protected\": false, \"default_profile\": false, \"is_translator\": false}, \"geo\": null, \"in_reply_to_user_id_str\": null, \"possibly_sensitive\": false, \"lang\": \"en\", \"created_at\": \"Thu Oct 16 15:49:23 +0000 2014\", \"in_reply_to_status_id_str\": null, \"place\": null}, {\"contributors\": null, \"truncated\": false, \"text\": \"A small gesture\\u2026 please sign. http://t.co/HXdlrMyH59\", \"in_reply_to_status_id\": null, \"id\": 522770593272176641, \"favorite_count\": 0, \"source\": \"<a href=\\\"http://www.facebook.com/twitter\\\" rel=\\\"nofollow\\\">Facebook</a>\", \"retweeted\": false, \"coordinates\": null, \"entities\": {\"symbols\": [], \"user_mentions\": [], \"hashtags\": [], \"urls\": [{\"url\": \"http://t.co/HXdlrMyH59\", \"indices\": [30, 52], \"expanded_url\": \"http://fb.me/1nqXghD6N\", \"display_url\": \"fb.me/1nqXghD6N\"}]}, \"in_reply_to_screen_name\": null, \"id_str\": \"522770593272176641\", \"retweet_count\": 0, \"in_reply_to_user_id\": null, \"favorited\": false, \"user\": {\"follow_request_sent\": false, \"profile_use_background_image\": false, \"profile_text_color\": \"666666\", \"default_profile_image\": false, \"id\": 614, \"profile_background_image_url_https\": \"https://abs.twimg.com/images/themes/theme9/bg.gif\", \"verified\": false, \"profile_location\": null, \"profile_image_url_https\": \"https://pbs.twimg.com/profile_images/465965547855679488/ONqxqGvL_normal.jpeg\", \"profile_sidebar_fill_color\": \"252429\", \"entities\": {\"url\": {\"urls\": [{\"url\": \"http://t.co/x5Vr8HWFxj\", \"indices\": [0, 22], \"expanded_url\": \"http://facebook.com/christian.harrison\", \"display_url\": \"facebook.com/christian.harr\\u2026\"}]}, \"description\": {\"urls\": []}}, \"followers_count\": 1377, \"profile_sidebar_border_color\": \"000000\", \"id_str\": \"614\", \"profile_background_color\": \"1A1B1F\", \"listed_count\": 39, \"is_translation_enabled\": false, \"utc_offset\": 12600, \"statuses_count\": 7894, \"description\": \"Urban enthusiast, professional storyteller, man of faith.\", \"friends_count\": 1931, \"location\": \"Salt Lake City, UT\", \"profile_link_color\": \"2FC2EF\", \"profile_image_url\": \"http://pbs.twimg.com/profile_images/465965547855679488/ONqxqGvL_normal.jpeg\", \"following\": false, \"geo_enabled\": true, \"profile_banner_url\": \"https://pbs.twimg.com/profile_banners/614/1365311832\", \"profile_background_image_url\": \"http://abs.twimg.com/images/themes/theme9/bg.gif\", \"name\": \"Christian Harrison\", \"lang\": \"en\", \"profile_background_tile\": false, \"favourites_count\": 83, \"screen_name\": \"dcharrison\", \"notifications\": false, \"url\": \"http://t.co/x5Vr8HWFxj\", \"created_at\": \"Thu Jul 13 20:30:05 +0000 2006\", \"contributors_enabled\": false, \"time_zone\": \"Tehran\", \"protected\": false, \"default_profile\": false, \"is_translator\": false}, \"geo\": null, \"in_reply_to_user_id_str\": null, \"possibly_sensitive\": false, \"lang\": \"en\", \"created_at\": \"Thu Oct 16 15:26:36 +0000 2014\", \"in_reply_to_status_id_str\": null, \"place\": null}, {\"contributors\": null, \"truncated\": false, \"text\": \"Man, I love maps\\u2026 http://t.co/S7uxP34b9Y\", \"in_reply_to_status_id\": null, \"id\": 522432988442017792, \"favorite_count\": 0, \"source\": \"<a href=\\\"http://www.facebook.com/twitter\\\" rel=\\\"nofollow\\\">Facebook</a>\", \"retweeted\": false, \"coordinates\": null, \"entities\": {\"symbols\": [], \"user_mentions\": [], \"hashtags\": [], \"urls\": [{\"url\": \"http://t.co/S7uxP34b9Y\", \"indices\": [18, 40], \"expanded_url\": \"http://fb.me/6PmLjzZa6\", \"display_url\": \"fb.me/6PmLjzZa6\"}]}, \"in_reply_to_screen_name\": null, \"id_str\": \"522432988442017792\", \"retweet_count\": 0, \"in_reply_to_user_id\": null, \"favorited\": false, \"user\": {\"follow_request_sent\": false, \"profile_use_background_image\": false, \"profile_text_color\": \"666666\", \"default_profile_image\": false, \"id\": 614, \"profile_background_image_url_https\": \"https://abs.twimg.com/images/themes/theme9/bg.gif\", \"verified\": false, \"profile_location\": null, \"profile_image_url_https\": \"https://pbs.twimg.com/profile_images/465965547855679488/ONqxqGvL_normal.jpeg\", \"profile_sidebar_fill_color\": \"252429\", \"entities\": {\"url\": {\"urls\": [{\"url\": \"http://t.co/x5Vr8HWFxj\", \"indices\": [0, 22], \"expanded_url\": \"http://facebook.com/christian.harrison\", \"display_url\": \"facebook.com/christian.harr\\u2026\"}]}, \"description\": {\"urls\": []}}, \"followers_count\": 1377, \"profile_sidebar_border_color\": \"000000\", \"id_str\": \"614\", \"profile_background_color\": \"1A1B1F\", \"listed_count\": 39, \"is_translation_enabled\": false, \"utc_offset\": 12600, \"statuses_count\": 7894, \"description\": \"Urban enthusiast, professional storyteller, man of faith.\", \"friends_count\": 1931, \"location\": \"Salt Lake City, UT\", \"profile_link_color\": \"2FC2EF\", \"profile_image_url\": \"http://pbs.twimg.com/profile_images/465965547855679488/ONqxqGvL_normal.jpeg\", \"following\": false, \"geo_enabled\": true, \"profile_banner_url\": \"https://pbs.twimg.com/profile_banners/614/1365311832\", \"profile_background_image_url\": \"http://abs.twimg.com/images/themes/theme9/bg.gif\", \"name\": \"Christian Harrison\", \"lang\": \"en\", \"profile_background_tile\": false, \"favourites_count\": 83, \"screen_name\": \"dcharrison\", \"notifications\": false, \"url\": \"http://t.co/x5Vr8HWFxj\", \"created_at\": \"Thu Jul 13 20:30:05 +0000 2006\", \"contributors_enabled\": false, \"time_zone\": \"Tehran\", \"protected\": false, \"default_profile\": false, \"is_translator\": false}, \"geo\": null, \"in_reply_to_user_id_str\": null, \"possibly_sensitive\": false, \"lang\": \"en\", \"created_at\": \"Wed Oct 15 17:05:05 +0000 2014\", \"in_reply_to_status_id_str\": null, \"place\": null}, {\"contributors\": null, \"truncated\": false, \"text\": \"Discuss \\u2026 http://t.co/9vLLYITWjr\", \"in_reply_to_status_id\": null, \"id\": 522227354303610880, \"favorite_count\": 0, \"source\": \"<a href=\\\"http://www.facebook.com/twitter\\\" rel=\\\"nofollow\\\">Facebook</a>\", \"retweeted\": false, \"coordinates\": null, \"entities\": {\"symbols\": [], \"user_mentions\": [], \"hashtags\": [], \"urls\": [{\"url\": \"http://t.co/9vLLYITWjr\", \"indices\": [10, 32], \"expanded_url\": \"http://fb.me/3SCGDVgxv\", \"display_url\": \"fb.me/3SCGDVgxv\"}]}, \"in_reply_to_screen_name\": null, \"id_str\": \"522227354303610880\", \"retweet_count\": 0, \"in_reply_to_user_id\": null, \"favorited\": false, \"user\": {\"follow_request_sent\": false, \"profile_use_background_image\": false, \"profile_text_color\": \"666666\", \"default_profile_image\": false, \"id\": 614, \"profile_background_image_url_https\": \"https://abs.twimg.com/images/themes/theme9/bg.gif\", \"verified\": false, \"profile_location\": null, \"profile_image_url_https\": \"https://pbs.twimg.com/profile_images/465965547855679488/ONqxqGvL_normal.jpeg\", \"profile_sidebar_fill_color\": \"252429\", \"entities\": {\"url\": {\"urls\": [{\"url\": \"http://t.co/x5Vr8HWFxj\", \"indices\": [0, 22], \"expanded_url\": \"http://facebook.com/christian.harrison\", \"display_url\": \"facebook.com/christian.harr\\u2026\"}]}, \"description\": {\"urls\": []}}, \"followers_count\": 1377, \"profile_sidebar_border_color\": \"000000\", \"id_str\": \"614\", \"profile_background_color\": \"1A1B1F\", \"listed_count\": 39, \"is_translation_enabled\": false, \"utc_offset\": 12600, \"statuses_count\": 7894, \"description\": \"Urban enthusiast, professional storyteller, man of faith.\", \"friends_count\": 1931, \"location\": \"Salt Lake City, UT\", \"profile_link_color\": \"2FC2EF\", \"profile_image_url\": \"http://pbs.twimg.com/profile_images/465965547855679488/ONqxqGvL_normal.jpeg\", \"following\": false, \"geo_enabled\": true, \"profile_banner_url\": \"https://pbs.twimg.com/profile_banners/614/1365311832\", \"profile_background_image_url\": \"http://abs.twimg.com/images/themes/theme9/bg.gif\", \"name\": \"Christian Harrison\", \"lang\": \"en\", \"profile_background_tile\": false, \"favourites_count\": 83, \"screen_name\": \"dcharrison\", \"notifications\": false, \"url\": \"http://t.co/x5Vr8HWFxj\", \"created_at\": \"Thu Jul 13 20:30:05 +0000 2006\", \"contributors_enabled\": false, \"time_zone\": \"Tehran\", \"protected\": false, \"default_profile\": false, \"is_translator\": false}, \"geo\": null, \"in_reply_to_user_id_str\": null, \"possibly_sensitive\": false, \"lang\": \"en\", \"created_at\": \"Wed Oct 15 03:27:58 +0000 2014\", \"in_reply_to_status_id_str\": null, \"place\": null}, {\"contributors\": null, \"truncated\": false, \"text\": \"A very very soft opening \\u2026 jazz included. Delightful new venture from the man behind Cucina Toscana http://t.co/eZPYCSH31l\", \"in_reply_to_status_id\": null, \"id\": 522218399569428480, \"favorite_count\": 0, \"source\": \"<a href=\\\"http://www.facebook.com/twitter\\\" rel=\\\"nofollow\\\">Facebook</a>\", \"retweeted\": false, \"coordinates\": null, \"entities\": {\"symbols\": [], \"user_mentions\": [], \"hashtags\": [], \"urls\": [{\"url\": \"http://t.co/eZPYCSH31l\", \"indices\": [100, 122], \"expanded_url\": \"http://fb.me/1dBYe59qq\", \"display_url\": \"fb.me/1dBYe59qq\"}]}, \"in_reply_to_screen_name\": null, \"id_str\": \"522218399569428480\", \"retweet_count\": 0, \"in_reply_to_user_id\": null, \"favorited\": false, \"user\": {\"follow_request_sent\": false, \"profile_use_background_image\": false, \"profile_text_color\": \"666666\", \"default_profile_image\": false, \"id\": 614, \"profile_background_image_url_https\": \"https://abs.twimg.com/images/themes/theme9/bg.gif\", \"verified\": false, \"profile_location\": null, \"profile_image_url_https\": \"https://pbs.twimg.com/profile_images/465965547855679488/ONqxqGvL_normal.jpeg\", \"profile_sidebar_fill_color\": \"252429\", \"entities\": {\"url\": {\"urls\": [{\"url\": \"http://t.co/x5Vr8HWFxj\", \"indices\": [0, 22], \"expanded_url\": \"http://facebook.com/christian.harrison\", \"display_url\": \"facebook.com/christian.harr\\u2026\"}]}, \"description\": {\"urls\": []}}, \"followers_count\": 1377, \"profile_sidebar_border_color\": \"000000\", \"id_str\": \"614\", \"profile_background_color\": \"1A1B1F\", \"listed_count\": 39, \"is_translation_enabled\": false, \"utc_offset\": 12600, \"statuses_count\": 7894, \"description\": \"Urban enthusiast, professional storyteller, man of faith.\", \"friends_count\": 1931, \"location\": \"Salt Lake City, UT\", \"profile_link_color\": \"2FC2EF\", \"profile_image_url\": \"http://pbs.twimg.com/profile_images/465965547855679488/ONqxqGvL_normal.jpeg\", \"following\": false, \"geo_enabled\": true, \"profile_banner_url\": \"https://pbs.twimg.com/profile_banners/614/1365311832\", \"profile_background_image_url\": \"http://abs.twimg.com/images/themes/theme9/bg.gif\", \"name\": \"Christian Harrison\", \"lang\": \"en\", \"profile_background_tile\": false, \"favourites_count\": 83, \"screen_name\": \"dcharrison\", \"notifications\": false, \"url\": \"http://t.co/x5Vr8HWFxj\", \"created_at\": \"Thu Jul 13 20:30:05 +0000 2006\", \"contributors_enabled\": false, \"time_zone\": \"Tehran\", \"protected\": false, \"default_profile\": false, \"is_translator\": false}, \"geo\": null, \"in_reply_to_user_id_str\": null, \"possibly_sensitive\": false, \"lang\": \"en\", \"created_at\": \"Wed Oct 15 02:52:23 +0000 2014\", \"in_reply_to_status_id_str\": null, \"place\": null}, {\"contributors\": null, \"truncated\": false, \"text\": \"The Love/Owens debate is going on RIGHT NOW! If this is your district, you have a duty to be an informed voter.... http://t.co/TubWLgadeZ\", \"in_reply_to_status_id\": null, \"id\": 522179142536921089, \"favorite_count\": 1, \"source\": \"<a href=\\\"http://www.facebook.com/twitter\\\" rel=\\\"nofollow\\\">Facebook</a>\", \"retweeted\": false, \"coordinates\": null, \"entities\": {\"symbols\": [], \"user_mentions\": [], \"hashtags\": [], \"urls\": [{\"url\": \"http://t.co/TubWLgadeZ\", \"indices\": [115, 137], \"expanded_url\": \"http://fb.me/3gbi4SBWy\", \"display_url\": \"fb.me/3gbi4SBWy\"}]}, \"in_reply_to_screen_name\": null, \"id_str\": \"522179142536921089\", \"retweet_count\": 0, \"in_reply_to_user_id\": null, \"favorited\": false, \"user\": {\"follow_request_sent\": false, \"profile_use_background_image\": false, \"profile_text_color\": \"666666\", \"default_profile_image\": false, \"id\": 614, \"profile_background_image_url_https\": \"https://abs.twimg.com/images/themes/theme9/bg.gif\", \"verified\": false, \"profile_location\": null, \"profile_image_url_https\": \"https://pbs.twimg.com/profile_images/465965547855679488/ONqxqGvL_normal.jpeg\", \"profile_sidebar_fill_color\": \"252429\", \"entities\": {\"url\": {\"urls\": [{\"url\": \"http://t.co/x5Vr8HWFxj\", \"indices\": [0, 22], \"expanded_url\": \"http://facebook.com/christian.harrison\", \"display_url\": \"facebook.com/christian.harr\\u2026\"}]}, \"description\": {\"urls\": []}}, \"followers_count\": 1377, \"profile_sidebar_border_color\": \"000000\", \"id_str\": \"614\", \"profile_background_color\": \"1A1B1F\", \"listed_count\": 39, \"is_translation_enabled\": false, \"utc_offset\": 12600, \"statuses_count\": 7894, \"description\": \"Urban enthusiast, professional storyteller, man of faith.\", \"friends_count\": 1931, \"location\": \"Salt Lake City, UT\", \"profile_link_color\": \"2FC2EF\", \"profile_image_url\": \"http://pbs.twimg.com/profile_images/465965547855679488/ONqxqGvL_normal.jpeg\", \"following\": false, \"geo_enabled\": true, \"profile_banner_url\": \"https://pbs.twimg.com/profile_banners/614/1365311832\", \"profile_background_image_url\": \"http://abs.twimg.com/images/themes/theme9/bg.gif\", \"name\": \"Christian Harrison\", \"lang\": \"en\", \"profile_background_tile\": false, \"favourites_count\": 83, \"screen_name\": \"dcharrison\", \"notifications\": false, \"url\": \"http://t.co/x5Vr8HWFxj\", \"created_at\": \"Thu Jul 13 20:30:05 +0000 2006\", \"contributors_enabled\": false, \"time_zone\": \"Tehran\", \"protected\": false, \"default_profile\": false, \"is_translator\": false}, \"geo\": null, \"in_reply_to_user_id_str\": null, \"possibly_sensitive\": false, \"lang\": \"en\", \"created_at\": \"Wed Oct 15 00:16:23 +0000 2014\", \"in_reply_to_status_id_str\": null, \"place\": null}, {\"contributors\": null, \"truncated\": false, \"text\": \"To everyone who is interested in the LYFT/UBER drama, here in Salt Lake City \\u2014 I just got word that tonight the... http://t.co/gclS5tMjlN\", \"in_reply_to_status_id\": null, \"id\": 522162811817177088, \"favorite_count\": 3, \"source\": \"<a href=\\\"http://www.facebook.com/twitter\\\" rel=\\\"nofollow\\\">Facebook</a>\", \"retweeted\": false, \"coordinates\": null, \"entities\": {\"symbols\": [], \"user_mentions\": [], \"hashtags\": [], \"urls\": [{\"url\": \"http://t.co/gclS5tMjlN\", \"indices\": [115, 137], \"expanded_url\": \"http://fb.me/28uq834U1\", \"display_url\": \"fb.me/28uq834U1\"}]}, \"in_reply_to_screen_name\": null, \"id_str\": \"522162811817177088\", \"retweet_count\": 1, \"in_reply_to_user_id\": null, \"favorited\": false, \"user\": {\"follow_request_sent\": false, \"profile_use_background_image\": false, \"profile_text_color\": \"666666\", \"default_profile_image\": false, \"id\": 614, \"profile_background_image_url_https\": \"https://abs.twimg.com/images/themes/theme9/bg.gif\", \"verified\": false, \"profile_location\": null, \"profile_image_url_https\": \"https://pbs.twimg.com/profile_images/465965547855679488/ONqxqGvL_normal.jpeg\", \"profile_sidebar_fill_color\": \"252429\", \"entities\": {\"url\": {\"urls\": [{\"url\": \"http://t.co/x5Vr8HWFxj\", \"indices\": [0, 22], \"expanded_url\": \"http://facebook.com/christian.harrison\", \"display_url\": \"facebook.com/christian.harr\\u2026\"}]}, \"description\": {\"urls\": []}}, \"followers_count\": 1377, \"profile_sidebar_border_color\": \"000000\", \"id_str\": \"614\", \"profile_background_color\": \"1A1B1F\", \"listed_count\": 39, \"is_translation_enabled\": false, \"utc_offset\": 12600, \"statuses_count\": 7894, \"description\": \"Urban enthusiast, professional storyteller, man of faith.\", \"friends_count\": 1931, \"location\": \"Salt Lake City, UT\", \"profile_link_color\": \"2FC2EF\", \"profile_image_url\": \"http://pbs.twimg.com/profile_images/465965547855679488/ONqxqGvL_normal.jpeg\", \"following\": false, \"geo_enabled\": true, \"profile_banner_url\": \"https://pbs.twimg.com/profile_banners/614/1365311832\", \"profile_background_image_url\": \"http://abs.twimg.com/images/themes/theme9/bg.gif\", \"name\": \"Christian Harrison\", \"lang\": \"en\", \"profile_background_tile\": false, \"favourites_count\": 83, \"screen_name\": \"dcharrison\", \"notifications\": false, \"url\": \"http://t.co/x5Vr8HWFxj\", \"created_at\": \"Thu Jul 13 20:30:05 +0000 2006\", \"contributors_enabled\": false, \"time_zone\": \"Tehran\", \"protected\": false, \"default_profile\": false, \"is_translator\": false}, \"geo\": null, \"in_reply_to_user_id_str\": null, \"possibly_sensitive\": false, \"lang\": \"en\", \"created_at\": \"Tue Oct 14 23:11:30 +0000 2014\", \"in_reply_to_status_id_str\": null, \"place\": null}, {\"contributors\": null, \"truncated\": false, \"text\": \"Yeah. http://t.co/FjH42Lzbpj\", \"in_reply_to_status_id\": null, \"id\": 522130575042179072, \"favorite_count\": 0, \"source\": \"<a href=\\\"http://www.facebook.com/twitter\\\" rel=\\\"nofollow\\\">Facebook</a>\", \"retweeted\": false, \"coordinates\": null, \"entities\": {\"symbols\": [], \"user_mentions\": [], \"hashtags\": [], \"urls\": [{\"url\": \"http://t.co/FjH42Lzbpj\", \"indices\": [6, 28], \"expanded_url\": \"http://fb.me/75QGSANIj\", \"display_url\": \"fb.me/75QGSANIj\"}]}, \"in_reply_to_screen_name\": null, \"id_str\": \"522130575042179072\", \"retweet_count\": 0, \"in_reply_to_user_id\": null, \"favorited\": false, \"user\": {\"follow_request_sent\": false, \"profile_use_background_image\": false, \"profile_text_color\": \"666666\", \"default_profile_image\": false, \"id\": 614, \"profile_background_image_url_https\": \"https://abs.twimg.com/images/themes/theme9/bg.gif\", \"verified\": false, \"profile_location\": null, \"profile_image_url_https\": \"https://pbs.twimg.com/profile_images/465965547855679488/ONqxqGvL_normal.jpeg\", \"profile_sidebar_fill_color\": \"252429\", \"entities\": {\"url\": {\"urls\": [{\"url\": \"http://t.co/x5Vr8HWFxj\", \"indices\": [0, 22], \"expanded_url\": \"http://facebook.com/christian.harrison\", \"display_url\": \"facebook.com/christian.harr\\u2026\"}]}, \"description\": {\"urls\": []}}, \"followers_count\": 1377, \"profile_sidebar_border_color\": \"000000\", \"id_str\": \"614\", \"profile_background_color\": \"1A1B1F\", \"listed_count\": 39, \"is_translation_enabled\": false, \"utc_offset\": 12600, \"statuses_count\": 7894, \"description\": \"Urban enthusiast, professional storyteller, man of faith.\", \"friends_count\": 1931, \"location\": \"Salt Lake City, UT\", \"profile_link_color\": \"2FC2EF\", \"profile_image_url\": \"http://pbs.twimg.com/profile_images/465965547855679488/ONqxqGvL_normal.jpeg\", \"following\": false, \"geo_enabled\": true, \"profile_banner_url\": \"https://pbs.twimg.com/profile_banners/614/1365311832\", \"profile_background_image_url\": \"http://abs.twimg.com/images/themes/theme9/bg.gif\", \"name\": \"Christian Harrison\", \"lang\": \"en\", \"profile_background_tile\": false, \"favourites_count\": 83, \"screen_name\": \"dcharrison\", \"notifications\": false, \"url\": \"http://t.co/x5Vr8HWFxj\", \"created_at\": \"Thu Jul 13 20:30:05 +0000 2006\", \"contributors_enabled\": false, \"time_zone\": \"Tehran\", \"protected\": false, \"default_profile\": false, \"is_translator\": false}, \"geo\": null, \"in_reply_to_user_id_str\": null, \"possibly_sensitive\": false, \"lang\": \"en\", \"created_at\": \"Tue Oct 14 21:03:24 +0000 2014\", \"in_reply_to_status_id_str\": null, \"place\": null}, {\"contributors\": null, \"truncated\": false, \"text\": \"For my friends in Utah Co \\u2026 http://t.co/sAsrkKIbXK\", \"in_reply_to_status_id\": null, \"id\": 522055036403064832, \"favorite_count\": 0, \"source\": \"<a href=\\\"http://www.facebook.com/twitter\\\" rel=\\\"nofollow\\\">Facebook</a>\", \"retweeted\": false, \"coordinates\": null, \"entities\": {\"symbols\": [], \"user_mentions\": [], \"hashtags\": [], \"urls\": [{\"url\": \"http://t.co/sAsrkKIbXK\", \"indices\": [28, 50], \"expanded_url\": \"http://fb.me/1toY5xx7D\", \"display_url\": \"fb.me/1toY5xx7D\"}]}, \"in_reply_to_screen_name\": null, \"id_str\": \"522055036403064832\", \"retweet_count\": 0, \"in_reply_to_user_id\": null, \"favorited\": false, \"user\": {\"follow_request_sent\": false, \"profile_use_background_image\": false, \"profile_text_color\": \"666666\", \"default_profile_image\": false, \"id\": 614, \"profile_background_image_url_https\": \"https://abs.twimg.com/images/themes/theme9/bg.gif\", \"verified\": false, \"profile_location\": null, \"profile_image_url_https\": \"https://pbs.twimg.com/profile_images/465965547855679488/ONqxqGvL_normal.jpeg\", \"profile_sidebar_fill_color\": \"252429\", \"entities\": {\"url\": {\"urls\": [{\"url\": \"http://t.co/x5Vr8HWFxj\", \"indices\": [0, 22], \"expanded_url\": \"http://facebook.com/christian.harrison\", \"display_url\": \"facebook.com/christian.harr\\u2026\"}]}, \"description\": {\"urls\": []}}, \"followers_count\": 1377, \"profile_sidebar_border_color\": \"000000\", \"id_str\": \"614\", \"profile_background_color\": \"1A1B1F\", \"listed_count\": 39, \"is_translation_enabled\": false, \"utc_offset\": 12600, \"statuses_count\": 7894, \"description\": \"Urban enthusiast, professional storyteller, man of faith.\", \"friends_count\": 1931, \"location\": \"Salt Lake City, UT\", \"profile_link_color\": \"2FC2EF\", \"profile_image_url\": \"http://pbs.twimg.com/profile_images/465965547855679488/ONqxqGvL_normal.jpeg\", \"following\": false, \"geo_enabled\": true, \"profile_banner_url\": \"https://pbs.twimg.com/profile_banners/614/1365311832\", \"profile_background_image_url\": \"http://abs.twimg.com/images/themes/theme9/bg.gif\", \"name\": \"Christian Harrison\", \"lang\": \"en\", \"profile_background_tile\": false, \"favourites_count\": 83, \"screen_name\": \"dcharrison\", \"notifications\": false, \"url\": \"http://t.co/x5Vr8HWFxj\", \"created_at\": \"Thu Jul 13 20:30:05 +0000 2006\", \"contributors_enabled\": false, \"time_zone\": \"Tehran\", \"protected\": false, \"default_profile\": false, \"is_translator\": false}, \"geo\": null, \"in_reply_to_user_id_str\": null, \"possibly_sensitive\": false, \"lang\": \"en\", \"created_at\": \"Tue Oct 14 16:03:14 +0000 2014\", \"in_reply_to_status_id_str\": null, \"place\": null}, {\"contributors\": null, \"truncated\": false, \"text\": \"Fascinating\\u2026 http://t.co/lY5jo35MGX\", \"in_reply_to_status_id\": null, \"id\": 521780515838238720, \"favorite_count\": 0, \"source\": \"<a href=\\\"http://www.facebook.com/twitter\\\" rel=\\\"nofollow\\\">Facebook</a>\", \"retweeted\": false, \"coordinates\": null, \"entities\": {\"symbols\": [], \"user_mentions\": [], \"hashtags\": [], \"urls\": [{\"url\": \"http://t.co/lY5jo35MGX\", \"indices\": [13, 35], \"expanded_url\": \"http://fb.me/3h4288K3b\", \"display_url\": \"fb.me/3h4288K3b\"}]}, \"in_reply_to_screen_name\": null, \"id_str\": \"521780515838238720\", \"retweet_count\": 0, \"in_reply_to_user_id\": null, \"favorited\": false, \"user\": {\"follow_request_sent\": false, \"profile_use_background_image\": false, \"profile_text_color\": \"666666\", \"default_profile_image\": false, \"id\": 614, \"profile_background_image_url_https\": \"https://abs.twimg.com/images/themes/theme9/bg.gif\", \"verified\": false, \"profile_location\": null, \"profile_image_url_https\": \"https://pbs.twimg.com/profile_images/465965547855679488/ONqxqGvL_normal.jpeg\", \"profile_sidebar_fill_color\": \"252429\", \"entities\": {\"url\": {\"urls\": [{\"url\": \"http://t.co/x5Vr8HWFxj\", \"indices\": [0, 22], \"expanded_url\": \"http://facebook.com/christian.harrison\", \"display_url\": \"facebook.com/christian.harr\\u2026\"}]}, \"description\": {\"urls\": []}}, \"followers_count\": 1377, \"profile_sidebar_border_color\": \"000000\", \"id_str\": \"614\", \"profile_background_color\": \"1A1B1F\", \"listed_count\": 39, \"is_translation_enabled\": false, \"utc_offset\": 12600, \"statuses_count\": 7894, \"description\": \"Urban enthusiast, professional storyteller, man of faith.\", \"friends_count\": 1931, \"location\": \"Salt Lake City, UT\", \"profile_link_color\": \"2FC2EF\", \"profile_image_url\": \"http://pbs.twimg.com/profile_images/465965547855679488/ONqxqGvL_normal.jpeg\", \"following\": false, \"geo_enabled\": true, \"profile_banner_url\": \"https://pbs.twimg.com/profile_banners/614/1365311832\", \"profile_background_image_url\": \"http://abs.twimg.com/images/themes/theme9/bg.gif\", \"name\": \"Christian Harrison\", \"lang\": \"en\", \"profile_background_tile\": false, \"favourites_count\": 83, \"screen_name\": \"dcharrison\", \"notifications\": false, \"url\": \"http://t.co/x5Vr8HWFxj\", \"created_at\": \"Thu Jul 13 20:30:05 +0000 2006\", \"contributors_enabled\": false, \"time_zone\": \"Tehran\", \"protected\": false, \"default_profile\": false, \"is_translator\": false}, \"geo\": null, \"in_reply_to_user_id_str\": null, \"possibly_sensitive\": false, \"lang\": \"en\", \"created_at\": \"Mon Oct 13 21:52:23 +0000 2014\", \"in_reply_to_status_id_str\": null, \"place\": null}, {\"contributors\": null, \"truncated\": false, \"text\": \"Poetic. Prophetic. http://t.co/tgRHBDGuim\", \"in_reply_to_status_id\": null, \"id\": 521524817380401152, \"favorite_count\": 0, \"source\": \"<a href=\\\"http://www.facebook.com/twitter\\\" rel=\\\"nofollow\\\">Facebook</a>\", \"retweeted\": false, \"coordinates\": null, \"entities\": {\"symbols\": [], \"user_mentions\": [], \"hashtags\": [], \"urls\": [{\"url\": \"http://t.co/tgRHBDGuim\", \"indices\": [19, 41], \"expanded_url\": \"http://fb.me/1H7QiqnYe\", \"display_url\": \"fb.me/1H7QiqnYe\"}]}, \"in_reply_to_screen_name\": null, \"id_str\": \"521524817380401152\", \"retweet_count\": 0, \"in_reply_to_user_id\": null, \"favorited\": false, \"user\": {\"follow_request_sent\": false, \"profile_use_background_image\": false, \"profile_text_color\": \"666666\", \"default_profile_image\": false, \"id\": 614, \"profile_background_image_url_https\": \"https://abs.twimg.com/images/themes/theme9/bg.gif\", \"verified\": false, \"profile_location\": null, \"profile_image_url_https\": \"https://pbs.twimg.com/profile_images/465965547855679488/ONqxqGvL_normal.jpeg\", \"profile_sidebar_fill_color\": \"252429\", \"entities\": {\"url\": {\"urls\": [{\"url\": \"http://t.co/x5Vr8HWFxj\", \"indices\": [0, 22], \"expanded_url\": \"http://facebook.com/christian.harrison\", \"display_url\": \"facebook.com/christian.harr\\u2026\"}]}, \"description\": {\"urls\": []}}, \"followers_count\": 1377, \"profile_sidebar_border_color\": \"000000\", \"id_str\": \"614\", \"profile_background_color\": \"1A1B1F\", \"listed_count\": 39, \"is_translation_enabled\": false, \"utc_offset\": 12600, \"statuses_count\": 7894, \"description\": \"Urban enthusiast, professional storyteller, man of faith.\", \"friends_count\": 1931, \"location\": \"Salt Lake City, UT\", \"profile_link_color\": \"2FC2EF\", \"profile_image_url\": \"http://pbs.twimg.com/profile_images/465965547855679488/ONqxqGvL_normal.jpeg\", \"following\": false, \"geo_enabled\": true, \"profile_banner_url\": \"https://pbs.twimg.com/profile_banners/614/1365311832\", \"profile_background_image_url\": \"http://abs.twimg.com/images/themes/theme9/bg.gif\", \"name\": \"Christian Harrison\", \"lang\": \"en\", \"profile_background_tile\": false, \"favourites_count\": 83, \"screen_name\": \"dcharrison\", \"notifications\": false, \"url\": \"http://t.co/x5Vr8HWFxj\", \"created_at\": \"Thu Jul 13 20:30:05 +0000 2006\", \"contributors_enabled\": false, \"time_zone\": \"Tehran\", \"protected\": false, \"default_profile\": false, \"is_translator\": false}, \"geo\": null, \"in_reply_to_user_id_str\": null, \"possibly_sensitive\": false, \"lang\": \"ro\", \"created_at\": \"Mon Oct 13 04:56:20 +0000 2014\", \"in_reply_to_status_id_str\": null, \"place\": null}, {\"contributors\": null, \"truncated\": false, \"text\": \"Sometimes. Just sometimes. Southeast Idaho is gorgeous. http://t.co/k9Na7iafZn\", \"in_reply_to_status_id\": null, \"id\": 521458947367403520, \"favorite_count\": 1, \"source\": \"<a href=\\\"http://www.facebook.com/twitter\\\" rel=\\\"nofollow\\\">Facebook</a>\", \"retweeted\": false, \"coordinates\": null, \"entities\": {\"symbols\": [], \"user_mentions\": [], \"hashtags\": [], \"urls\": [{\"url\": \"http://t.co/k9Na7iafZn\", \"indices\": [56, 78], \"expanded_url\": \"http://fb.me/4jYNaeeDO\", \"display_url\": \"fb.me/4jYNaeeDO\"}]}, \"in_reply_to_screen_name\": null, \"id_str\": \"521458947367403520\", \"retweet_count\": 1, \"in_reply_to_user_id\": null, \"favorited\": false, \"user\": {\"follow_request_sent\": false, \"profile_use_background_image\": false, \"profile_text_color\": \"666666\", \"default_profile_image\": false, \"id\": 614, \"profile_background_image_url_https\": \"https://abs.twimg.com/images/themes/theme9/bg.gif\", \"verified\": false, \"profile_location\": null, \"profile_image_url_https\": \"https://pbs.twimg.com/profile_images/465965547855679488/ONqxqGvL_normal.jpeg\", \"profile_sidebar_fill_color\": \"252429\", \"entities\": {\"url\": {\"urls\": [{\"url\": \"http://t.co/x5Vr8HWFxj\", \"indices\": [0, 22], \"expanded_url\": \"http://facebook.com/christian.harrison\", \"display_url\": \"facebook.com/christian.harr\\u2026\"}]}, \"description\": {\"urls\": []}}, \"followers_count\": 1377, \"profile_sidebar_border_color\": \"000000\", \"id_str\": \"614\", \"profile_background_color\": \"1A1B1F\", \"listed_count\": 39, \"is_translation_enabled\": false, \"utc_offset\": 12600, \"statuses_count\": 7894, \"description\": \"Urban enthusiast, professional storyteller, man of faith.\", \"friends_count\": 1931, \"location\": \"Salt Lake City, UT\", \"profile_link_color\": \"2FC2EF\", \"profile_image_url\": \"http://pbs.twimg.com/profile_images/465965547855679488/ONqxqGvL_normal.jpeg\", \"following\": false, \"geo_enabled\": true, \"profile_banner_url\": \"https://pbs.twimg.com/profile_banners/614/1365311832\", \"profile_background_image_url\": \"http://abs.twimg.com/images/themes/theme9/bg.gif\", \"name\": \"Christian Harrison\", \"lang\": \"en\", \"profile_background_tile\": false, \"favourites_count\": 83, \"screen_name\": \"dcharrison\", \"notifications\": false, \"url\": \"http://t.co/x5Vr8HWFxj\", \"created_at\": \"Thu Jul 13 20:30:05 +0000 2006\", \"contributors_enabled\": false, \"time_zone\": \"Tehran\", \"protected\": false, \"default_profile\": false, \"is_translator\": false}, \"geo\": null, \"in_reply_to_user_id_str\": null, \"possibly_sensitive\": false, \"lang\": \"en\", \"created_at\": \"Mon Oct 13 00:34:35 +0000 2014\", \"in_reply_to_status_id_str\": null, \"place\": null}, {\"contributors\": null, \"truncated\": false, \"text\": \"State issues first foster parent license to gay spouses http://t.co/DLrSQX0TH5\", \"in_reply_to_status_id\": null, \"id\": 521150716639842304, \"favorite_count\": 0, \"source\": \"<a href=\\\"http://www.facebook.com/twitter\\\" rel=\\\"nofollow\\\">Facebook</a>\", \"retweeted\": false, \"coordinates\": null, \"entities\": {\"symbols\": [], \"user_mentions\": [], \"hashtags\": [], \"urls\": [{\"url\": \"http://t.co/DLrSQX0TH5\", \"indices\": [56, 78], \"expanded_url\": \"http://fb.me/2ORyWPUIm\", \"display_url\": \"fb.me/2ORyWPUIm\"}]}, \"in_reply_to_screen_name\": null, \"id_str\": \"521150716639842304\", \"retweet_count\": 0, \"in_reply_to_user_id\": null, \"favorited\": false, \"user\": {\"follow_request_sent\": false, \"profile_use_background_image\": false, \"profile_text_color\": \"666666\", \"default_profile_image\": false, \"id\": 614, \"profile_background_image_url_https\": \"https://abs.twimg.com/images/themes/theme9/bg.gif\", \"verified\": false, \"profile_location\": null, \"profile_image_url_https\": \"https://pbs.twimg.com/profile_images/465965547855679488/ONqxqGvL_normal.jpeg\", \"profile_sidebar_fill_color\": \"252429\", \"entities\": {\"url\": {\"urls\": [{\"url\": \"http://t.co/x5Vr8HWFxj\", \"indices\": [0, 22], \"expanded_url\": \"http://facebook.com/christian.harrison\", \"display_url\": \"facebook.com/christian.harr\\u2026\"}]}, \"description\": {\"urls\": []}}, \"followers_count\": 1377, \"profile_sidebar_border_color\": \"000000\", \"id_str\": \"614\", \"profile_background_color\": \"1A1B1F\", \"listed_count\": 39, \"is_translation_enabled\": false, \"utc_offset\": 12600, \"statuses_count\": 7894, \"description\": \"Urban enthusiast, professional storyteller, man of faith.\", \"friends_count\": 1931, \"location\": \"Salt Lake City, UT\", \"profile_link_color\": \"2FC2EF\", \"profile_image_url\": \"http://pbs.twimg.com/profile_images/465965547855679488/ONqxqGvL_normal.jpeg\", \"following\": false, \"geo_enabled\": true, \"profile_banner_url\": \"https://pbs.twimg.com/profile_banners/614/1365311832\", \"profile_background_image_url\": \"http://abs.twimg.com/images/themes/theme9/bg.gif\", \"name\": \"Christian Harrison\", \"lang\": \"en\", \"profile_background_tile\": false, \"favourites_count\": 83, \"screen_name\": \"dcharrison\", \"notifications\": false, \"url\": \"http://t.co/x5Vr8HWFxj\", \"created_at\": \"Thu Jul 13 20:30:05 +0000 2006\", \"contributors_enabled\": false, \"time_zone\": \"Tehran\", \"protected\": false, \"default_profile\": false, \"is_translator\": false}, \"geo\": null, \"in_reply_to_user_id_str\": null, \"possibly_sensitive\": false, \"lang\": \"en\", \"created_at\": \"Sun Oct 12 04:09:48 +0000 2014\", \"in_reply_to_status_id_str\": null, \"place\": null}, {\"contributors\": null, \"truncated\": false, \"text\": \"They got the memo. Fall is here http://t.co/j2Hfw2DlRH\", \"in_reply_to_status_id\": null, \"id\": 520993461650993152, \"favorite_count\": 0, \"source\": \"<a href=\\\"http://www.facebook.com/twitter\\\" rel=\\\"nofollow\\\">Facebook</a>\", \"retweeted\": false, \"coordinates\": null, \"entities\": {\"symbols\": [], \"user_mentions\": [], \"hashtags\": [], \"urls\": [{\"url\": \"http://t.co/j2Hfw2DlRH\", \"indices\": [32, 54], \"expanded_url\": \"http://fb.me/2jeHmPgfb\", \"display_url\": \"fb.me/2jeHmPgfb\"}]}, \"in_reply_to_screen_name\": null, \"id_str\": \"520993461650993152\", \"retweet_count\": 0, \"in_reply_to_user_id\": null, \"favorited\": false, \"user\": {\"follow_request_sent\": false, \"profile_use_background_image\": false, \"profile_text_color\": \"666666\", \"default_profile_image\": false, \"id\": 614, \"profile_background_image_url_https\": \"https://abs.twimg.com/images/themes/theme9/bg.gif\", \"verified\": false, \"profile_location\": null, \"profile_image_url_https\": \"https://pbs.twimg.com/profile_images/465965547855679488/ONqxqGvL_normal.jpeg\", \"profile_sidebar_fill_color\": \"252429\", \"entities\": {\"url\": {\"urls\": [{\"url\": \"http://t.co/x5Vr8HWFxj\", \"indices\": [0, 22], \"expanded_url\": \"http://facebook.com/christian.harrison\", \"display_url\": \"facebook.com/christian.harr\\u2026\"}]}, \"description\": {\"urls\": []}}, \"followers_count\": 1377, \"profile_sidebar_border_color\": \"000000\", \"id_str\": \"614\", \"profile_background_color\": \"1A1B1F\", \"listed_count\": 39, \"is_translation_enabled\": false, \"utc_offset\": 12600, \"statuses_count\": 7894, \"description\": \"Urban enthusiast, professional storyteller, man of faith.\", \"friends_count\": 1931, \"location\": \"Salt Lake City, UT\", \"profile_link_color\": \"2FC2EF\", \"profile_image_url\": \"http://pbs.twimg.com/profile_images/465965547855679488/ONqxqGvL_normal.jpeg\", \"following\": false, \"geo_enabled\": true, \"profile_banner_url\": \"https://pbs.twimg.com/profile_banners/614/1365311832\", \"profile_background_image_url\": \"http://abs.twimg.com/images/themes/theme9/bg.gif\", \"name\": \"Christian Harrison\", \"lang\": \"en\", \"profile_background_tile\": false, \"favourites_count\": 83, \"screen_name\": \"dcharrison\", \"notifications\": false, \"url\": \"http://t.co/x5Vr8HWFxj\", \"created_at\": \"Thu Jul 13 20:30:05 +0000 2006\", \"contributors_enabled\": false, \"time_zone\": \"Tehran\", \"protected\": false, \"default_profile\": false, \"is_translator\": false}, \"geo\": null, \"in_reply_to_user_id_str\": null, \"possibly_sensitive\": false, \"lang\": \"en\", \"created_at\": \"Sat Oct 11 17:44:55 +0000 2014\", \"in_reply_to_status_id_str\": null, \"place\": null}, {\"contributors\": null, \"truncated\": false, \"text\": \"Speaking of resisting the urge to splurge http://t.co/9T1W1P7Bzj\", \"in_reply_to_status_id\": null, \"id\": 520984362397876225, \"favorite_count\": 0, \"source\": \"<a href=\\\"http://www.facebook.com/twitter\\\" rel=\\\"nofollow\\\">Facebook</a>\", \"retweeted\": false, \"coordinates\": null, \"entities\": {\"symbols\": [], \"user_mentions\": [], \"hashtags\": [], \"urls\": [{\"url\": \"http://t.co/9T1W1P7Bzj\", \"indices\": [42, 64], \"expanded_url\": \"http://fb.me/7aOTHIxxC\", \"display_url\": \"fb.me/7aOTHIxxC\"}]}, \"in_reply_to_screen_name\": null, \"id_str\": \"520984362397876225\", \"retweet_count\": 0, \"in_reply_to_user_id\": null, \"favorited\": false, \"user\": {\"follow_request_sent\": false, \"profile_use_background_image\": false, \"profile_text_color\": \"666666\", \"default_profile_image\": false, \"id\": 614, \"profile_background_image_url_https\": \"https://abs.twimg.com/images/themes/theme9/bg.gif\", \"verified\": false, \"profile_location\": null, \"profile_image_url_https\": \"https://pbs.twimg.com/profile_images/465965547855679488/ONqxqGvL_normal.jpeg\", \"profile_sidebar_fill_color\": \"252429\", \"entities\": {\"url\": {\"urls\": [{\"url\": \"http://t.co/x5Vr8HWFxj\", \"indices\": [0, 22], \"expanded_url\": \"http://facebook.com/christian.harrison\", \"display_url\": \"facebook.com/christian.harr\\u2026\"}]}, \"description\": {\"urls\": []}}, \"followers_count\": 1377, \"profile_sidebar_border_color\": \"000000\", \"id_str\": \"614\", \"profile_background_color\": \"1A1B1F\", \"listed_count\": 39, \"is_translation_enabled\": false, \"utc_offset\": 12600, \"statuses_count\": 7894, \"description\": \"Urban enthusiast, professional storyteller, man of faith.\", \"friends_count\": 1931, \"location\": \"Salt Lake City, UT\", \"profile_link_color\": \"2FC2EF\", \"profile_image_url\": \"http://pbs.twimg.com/profile_images/465965547855679488/ONqxqGvL_normal.jpeg\", \"following\": false, \"geo_enabled\": true, \"profile_banner_url\": \"https://pbs.twimg.com/profile_banners/614/1365311832\", \"profile_background_image_url\": \"http://abs.twimg.com/images/themes/theme9/bg.gif\", \"name\": \"Christian Harrison\", \"lang\": \"en\", \"profile_background_tile\": false, \"favourites_count\": 83, \"screen_name\": \"dcharrison\", \"notifications\": false, \"url\": \"http://t.co/x5Vr8HWFxj\", \"created_at\": \"Thu Jul 13 20:30:05 +0000 2006\", \"contributors_enabled\": false, \"time_zone\": \"Tehran\", \"protected\": false, \"default_profile\": false, \"is_translator\": false}, \"geo\": null, \"in_reply_to_user_id_str\": null, \"possibly_sensitive\": false, \"lang\": \"en\", \"created_at\": \"Sat Oct 11 17:08:46 +0000 2014\", \"in_reply_to_status_id_str\": null, \"place\": null}, {\"contributors\": null, \"truncated\": false, \"text\": \"Black teens are 21 times more likely to be shot by cops than white teens http://t.co/ySV18yWKWp\", \"in_reply_to_status_id\": null, \"id\": 520979789109157889, \"favorite_count\": 0, \"source\": \"<a href=\\\"http://www.facebook.com/twitter\\\" rel=\\\"nofollow\\\">Facebook</a>\", \"retweeted\": false, \"coordinates\": null, \"entities\": {\"symbols\": [], \"user_mentions\": [], \"hashtags\": [], \"urls\": [{\"url\": \"http://t.co/ySV18yWKWp\", \"indices\": [73, 95], \"expanded_url\": \"http://fb.me/1BtxbIS7m\", \"display_url\": \"fb.me/1BtxbIS7m\"}]}, \"in_reply_to_screen_name\": null, \"id_str\": \"520979789109157889\", \"retweet_count\": 0, \"in_reply_to_user_id\": null, \"favorited\": false, \"user\": {\"follow_request_sent\": false, \"profile_use_background_image\": false, \"profile_text_color\": \"666666\", \"default_profile_image\": false, \"id\": 614, \"profile_background_image_url_https\": \"https://abs.twimg.com/images/themes/theme9/bg.gif\", \"verified\": false, \"profile_location\": null, \"profile_image_url_https\": \"https://pbs.twimg.com/profile_images/465965547855679488/ONqxqGvL_normal.jpeg\", \"profile_sidebar_fill_color\": \"252429\", \"entities\": {\"url\": {\"urls\": [{\"url\": \"http://t.co/x5Vr8HWFxj\", \"indices\": [0, 22], \"expanded_url\": \"http://facebook.com/christian.harrison\", \"display_url\": \"facebook.com/christian.harr\\u2026\"}]}, \"description\": {\"urls\": []}}, \"followers_count\": 1377, \"profile_sidebar_border_color\": \"000000\", \"id_str\": \"614\", \"profile_background_color\": \"1A1B1F\", \"listed_count\": 39, \"is_translation_enabled\": false, \"utc_offset\": 12600, \"statuses_count\": 7894, \"description\": \"Urban enthusiast, professional storyteller, man of faith.\", \"friends_count\": 1931, \"location\": \"Salt Lake City, UT\", \"profile_link_color\": \"2FC2EF\", \"profile_image_url\": \"http://pbs.twimg.com/profile_images/465965547855679488/ONqxqGvL_normal.jpeg\", \"following\": false, \"geo_enabled\": true, \"profile_banner_url\": \"https://pbs.twimg.com/profile_banners/614/1365311832\", \"profile_background_image_url\": \"http://abs.twimg.com/images/themes/theme9/bg.gif\", \"name\": \"Christian Harrison\", \"lang\": \"en\", \"profile_background_tile\": false, \"favourites_count\": 83, \"screen_name\": \"dcharrison\", \"notifications\": false, \"url\": \"http://t.co/x5Vr8HWFxj\", \"created_at\": \"Thu Jul 13 20:30:05 +0000 2006\", \"contributors_enabled\": false, \"time_zone\": \"Tehran\", \"protected\": false, \"default_profile\": false, \"is_translator\": false}, \"geo\": null, \"in_reply_to_user_id_str\": null, \"possibly_sensitive\": false, \"lang\": \"en\", \"created_at\": \"Sat Oct 11 16:50:35 +0000 2014\", \"in_reply_to_status_id_str\": null, \"place\": null}, {\"contributors\": null, \"truncated\": false, \"text\": \"A fascinating portrait of a man and his cause\\u2026 http://t.co/QEEbRQbXSL\", \"in_reply_to_status_id\": null, \"id\": 520944008973934593, \"favorite_count\": 0, \"source\": \"<a href=\\\"http://www.facebook.com/twitter\\\" rel=\\\"nofollow\\\">Facebook</a>\", \"retweeted\": false, \"coordinates\": null, \"entities\": {\"symbols\": [], \"user_mentions\": [], \"hashtags\": [], \"urls\": [{\"url\": \"http://t.co/QEEbRQbXSL\", \"indices\": [47, 69], \"expanded_url\": \"http://fb.me/34K8ilQxo\", \"display_url\": \"fb.me/34K8ilQxo\"}]}, \"in_reply_to_screen_name\": null, \"id_str\": \"520944008973934593\", \"retweet_count\": 0, \"in_reply_to_user_id\": null, \"favorited\": false, \"user\": {\"follow_request_sent\": false, \"profile_use_background_image\": false, \"profile_text_color\": \"666666\", \"default_profile_image\": false, \"id\": 614, \"profile_background_image_url_https\": \"https://abs.twimg.com/images/themes/theme9/bg.gif\", \"verified\": false, \"profile_location\": null, \"profile_image_url_https\": \"https://pbs.twimg.com/profile_images/465965547855679488/ONqxqGvL_normal.jpeg\", \"profile_sidebar_fill_color\": \"252429\", \"entities\": {\"url\": {\"urls\": [{\"url\": \"http://t.co/x5Vr8HWFxj\", \"indices\": [0, 22], \"expanded_url\": \"http://facebook.com/christian.harrison\", \"display_url\": \"facebook.com/christian.harr\\u2026\"}]}, \"description\": {\"urls\": []}}, \"followers_count\": 1377, \"profile_sidebar_border_color\": \"000000\", \"id_str\": \"614\", \"profile_background_color\": \"1A1B1F\", \"listed_count\": 39, \"is_translation_enabled\": false, \"utc_offset\": 12600, \"statuses_count\": 7894, \"description\": \"Urban enthusiast, professional storyteller, man of faith.\", \"friends_count\": 1931, \"location\": \"Salt Lake City, UT\", \"profile_link_color\": \"2FC2EF\", \"profile_image_url\": \"http://pbs.twimg.com/profile_images/465965547855679488/ONqxqGvL_normal.jpeg\", \"following\": false, \"geo_enabled\": true, \"profile_banner_url\": \"https://pbs.twimg.com/profile_banners/614/1365311832\", \"profile_background_image_url\": \"http://abs.twimg.com/images/themes/theme9/bg.gif\", \"name\": \"Christian Harrison\", \"lang\": \"en\", \"profile_background_tile\": false, \"favourites_count\": 83, \"screen_name\": \"dcharrison\", \"notifications\": false, \"url\": \"http://t.co/x5Vr8HWFxj\", \"created_at\": \"Thu Jul 13 20:30:05 +0000 2006\", \"contributors_enabled\": false, \"time_zone\": \"Tehran\", \"protected\": false, \"default_profile\": false, \"is_translator\": false}, \"geo\": null, \"in_reply_to_user_id_str\": null, \"possibly_sensitive\": false, \"lang\": \"en\", \"created_at\": \"Sat Oct 11 14:28:25 +0000 2014\", \"in_reply_to_status_id_str\": null, \"place\": null}, {\"contributors\": null, \"truncated\": false, \"text\": \"It's time to upgrade your New Testament study. http://t.co/x1MttNDB84\", \"in_reply_to_status_id\": null, \"id\": 520796085762007040, \"favorite_count\": 1, \"source\": \"<a href=\\\"http://www.facebook.com/twitter\\\" rel=\\\"nofollow\\\">Facebook</a>\", \"retweeted\": false, \"coordinates\": null, \"entities\": {\"symbols\": [], \"user_mentions\": [], \"hashtags\": [], \"urls\": [{\"url\": \"http://t.co/x1MttNDB84\", \"indices\": [47, 69], \"expanded_url\": \"http://fb.me/3aZg9Q8er\", \"display_url\": \"fb.me/3aZg9Q8er\"}]}, \"in_reply_to_screen_name\": null, \"id_str\": \"520796085762007040\", \"retweet_count\": 0, \"in_reply_to_user_id\": null, \"favorited\": false, \"user\": {\"follow_request_sent\": false, \"profile_use_background_image\": false, \"profile_text_color\": \"666666\", \"default_profile_image\": false, \"id\": 614, \"profile_background_image_url_https\": \"https://abs.twimg.com/images/themes/theme9/bg.gif\", \"verified\": false, \"profile_location\": null, \"profile_image_url_https\": \"https://pbs.twimg.com/profile_images/465965547855679488/ONqxqGvL_normal.jpeg\", \"profile_sidebar_fill_color\": \"252429\", \"entities\": {\"url\": {\"urls\": [{\"url\": \"http://t.co/x5Vr8HWFxj\", \"indices\": [0, 22], \"expanded_url\": \"http://facebook.com/christian.harrison\", \"display_url\": \"facebook.com/christian.harr\\u2026\"}]}, \"description\": {\"urls\": []}}, \"followers_count\": 1377, \"profile_sidebar_border_color\": \"000000\", \"id_str\": \"614\", \"profile_background_color\": \"1A1B1F\", \"listed_count\": 39, \"is_translation_enabled\": false, \"utc_offset\": 12600, \"statuses_count\": 7894, \"description\": \"Urban enthusiast, professional storyteller, man of faith.\", \"friends_count\": 1931, \"location\": \"Salt Lake City, UT\", \"profile_link_color\": \"2FC2EF\", \"profile_image_url\": \"http://pbs.twimg.com/profile_images/465965547855679488/ONqxqGvL_normal.jpeg\", \"following\": false, \"geo_enabled\": true, \"profile_banner_url\": \"https://pbs.twimg.com/profile_banners/614/1365311832\", \"profile_background_image_url\": \"http://abs.twimg.com/images/themes/theme9/bg.gif\", \"name\": \"Christian Harrison\", \"lang\": \"en\", \"profile_background_tile\": false, \"favourites_count\": 83, \"screen_name\": \"dcharrison\", \"notifications\": false, \"url\": \"http://t.co/x5Vr8HWFxj\", \"created_at\": \"Thu Jul 13 20:30:05 +0000 2006\", \"contributors_enabled\": false, \"time_zone\": \"Tehran\", \"protected\": false, \"default_profile\": false, \"is_translator\": false}, \"geo\": null, \"in_reply_to_user_id_str\": null, \"possibly_sensitive\": false, \"lang\": \"en\", \"created_at\": \"Sat Oct 11 04:40:37 +0000 2014\", \"in_reply_to_status_id_str\": null, \"place\": null}, {\"contributors\": null, \"truncated\": false, \"text\": \"Huckleberry shake http://t.co/rh5fOdcsPv\", \"in_reply_to_status_id\": null, \"id\": 520742377376346113, \"favorite_count\": 0, \"source\": \"<a href=\\\"http://www.facebook.com/twitter\\\" rel=\\\"nofollow\\\">Facebook</a>\", \"retweeted\": false, \"coordinates\": null, \"entities\": {\"symbols\": [], \"user_mentions\": [], \"hashtags\": [], \"urls\": [{\"url\": \"http://t.co/rh5fOdcsPv\", \"indices\": [18, 40], \"expanded_url\": \"http://fb.me/2GZBohdve\", \"display_url\": \"fb.me/2GZBohdve\"}]}, \"in_reply_to_screen_name\": null, \"id_str\": \"520742377376346113\", \"retweet_count\": 0, \"in_reply_to_user_id\": null, \"favorited\": false, \"user\": {\"follow_request_sent\": false, \"profile_use_background_image\": false, \"profile_text_color\": \"666666\", \"default_profile_image\": false, \"id\": 614, \"profile_background_image_url_https\": \"https://abs.twimg.com/images/themes/theme9/bg.gif\", \"verified\": false, \"profile_location\": null, \"profile_image_url_https\": \"https://pbs.twimg.com/profile_images/465965547855679488/ONqxqGvL_normal.jpeg\", \"profile_sidebar_fill_color\": \"252429\", \"entities\": {\"url\": {\"urls\": [{\"url\": \"http://t.co/x5Vr8HWFxj\", \"indices\": [0, 22], \"expanded_url\": \"http://facebook.com/christian.harrison\", \"display_url\": \"facebook.com/christian.harr\\u2026\"}]}, \"description\": {\"urls\": []}}, \"followers_count\": 1377, \"profile_sidebar_border_color\": \"000000\", \"id_str\": \"614\", \"profile_background_color\": \"1A1B1F\", \"listed_count\": 39, \"is_translation_enabled\": false, \"utc_offset\": 12600, \"statuses_count\": 7894, \"description\": \"Urban enthusiast, professional storyteller, man of faith.\", \"friends_count\": 1931, \"location\": \"Salt Lake City, UT\", \"profile_link_color\": \"2FC2EF\", \"profile_image_url\": \"http://pbs.twimg.com/profile_images/465965547855679488/ONqxqGvL_normal.jpeg\", \"following\": false, \"geo_enabled\": true, \"profile_banner_url\": \"https://pbs.twimg.com/profile_banners/614/1365311832\", \"profile_background_image_url\": \"http://abs.twimg.com/images/themes/theme9/bg.gif\", \"name\": \"Christian Harrison\", \"lang\": \"en\", \"profile_background_tile\": false, \"favourites_count\": 83, \"screen_name\": \"dcharrison\", \"notifications\": false, \"url\": \"http://t.co/x5Vr8HWFxj\", \"created_at\": \"Thu Jul 13 20:30:05 +0000 2006\", \"contributors_enabled\": false, \"time_zone\": \"Tehran\", \"protected\": false, \"default_profile\": false, \"is_translator\": false}, \"geo\": null, \"in_reply_to_user_id_str\": null, \"possibly_sensitive\": false, \"lang\": \"en\", \"created_at\": \"Sat Oct 11 01:07:12 +0000 2014\", \"in_reply_to_status_id_str\": null, \"place\": null}, {\"contributors\": null, \"truncated\": false, \"text\": \"\\\"If you had set out to find one petty, bureaucratic, and completely meaningless way of being sure that Mormon... http://t.co/NcU2IwvhTA\", \"in_reply_to_status_id\": null, \"id\": 520323637463629824, \"favorite_count\": 0, \"source\": \"<a href=\\\"http://www.facebook.com/twitter\\\" rel=\\\"nofollow\\\">Facebook</a>\", \"retweeted\": false, \"coordinates\": null, \"entities\": {\"symbols\": [], \"user_mentions\": [], \"hashtags\": [], \"urls\": [{\"url\": \"http://t.co/NcU2IwvhTA\", \"indices\": [113, 135], \"expanded_url\": \"http://fb.me/6Q7zZUNWT\", \"display_url\": \"fb.me/6Q7zZUNWT\"}]}, \"in_reply_to_screen_name\": null, \"id_str\": \"520323637463629824\", \"retweet_count\": 0, \"in_reply_to_user_id\": null, \"favorited\": false, \"user\": {\"follow_request_sent\": false, \"profile_use_background_image\": false, \"profile_text_color\": \"666666\", \"default_profile_image\": false, \"id\": 614, \"profile_background_image_url_https\": \"https://abs.twimg.com/images/themes/theme9/bg.gif\", \"verified\": false, \"profile_location\": null, \"profile_image_url_https\": \"https://pbs.twimg.com/profile_images/465965547855679488/ONqxqGvL_normal.jpeg\", \"profile_sidebar_fill_color\": \"252429\", \"entities\": {\"url\": {\"urls\": [{\"url\": \"http://t.co/x5Vr8HWFxj\", \"indices\": [0, 22], \"expanded_url\": \"http://facebook.com/christian.harrison\", \"display_url\": \"facebook.com/christian.harr\\u2026\"}]}, \"description\": {\"urls\": []}}, \"followers_count\": 1377, \"profile_sidebar_border_color\": \"000000\", \"id_str\": \"614\", \"profile_background_color\": \"1A1B1F\", \"listed_count\": 39, \"is_translation_enabled\": false, \"utc_offset\": 12600, \"statuses_count\": 7894, \"description\": \"Urban enthusiast, professional storyteller, man of faith.\", \"friends_count\": 1931, \"location\": \"Salt Lake City, UT\", \"profile_link_color\": \"2FC2EF\", \"profile_image_url\": \"http://pbs.twimg.com/profile_images/465965547855679488/ONqxqGvL_normal.jpeg\", \"following\": false, \"geo_enabled\": true, \"profile_banner_url\": \"https://pbs.twimg.com/profile_banners/614/1365311832\", \"profile_background_image_url\": \"http://abs.twimg.com/images/themes/theme9/bg.gif\", \"name\": \"Christian Harrison\", \"lang\": \"en\", \"profile_background_tile\": false, \"favourites_count\": 83, \"screen_name\": \"dcharrison\", \"notifications\": false, \"url\": \"http://t.co/x5Vr8HWFxj\", \"created_at\": \"Thu Jul 13 20:30:05 +0000 2006\", \"contributors_enabled\": false, \"time_zone\": \"Tehran\", \"protected\": false, \"default_profile\": false, \"is_translator\": false}, \"geo\": null, \"in_reply_to_user_id_str\": null, \"possibly_sensitive\": false, \"lang\": \"en\", \"created_at\": \"Thu Oct 09 21:23:16 +0000 2014\", \"in_reply_to_status_id_str\": null, \"place\": null}, {\"contributors\": null, \"truncated\": false, \"text\": \"I can't wait for Bartolom\\u00e9 Day this year! http://t.co/GGD8ZPzeRE\", \"in_reply_to_status_id\": null, \"id\": 519977896299880448, \"favorite_count\": 0, \"source\": \"<a href=\\\"http://www.facebook.com/twitter\\\" rel=\\\"nofollow\\\">Facebook</a>\", \"retweeted\": false, \"coordinates\": null, \"entities\": {\"symbols\": [], \"user_mentions\": [], \"hashtags\": [], \"urls\": [{\"url\": \"http://t.co/GGD8ZPzeRE\", \"indices\": [42, 64], \"expanded_url\": \"http://fb.me/6UpjCIMRB\", \"display_url\": \"fb.me/6UpjCIMRB\"}]}, \"in_reply_to_screen_name\": null, \"id_str\": \"519977896299880448\", \"retweet_count\": 0, \"in_reply_to_user_id\": null, \"favorited\": false, \"user\": {\"follow_request_sent\": false, \"profile_use_background_image\": false, \"profile_text_color\": \"666666\", \"default_profile_image\": false, \"id\": 614, \"profile_background_image_url_https\": \"https://abs.twimg.com/images/themes/theme9/bg.gif\", \"verified\": false, \"profile_location\": null, \"profile_image_url_https\": \"https://pbs.twimg.com/profile_images/465965547855679488/ONqxqGvL_normal.jpeg\", \"profile_sidebar_fill_color\": \"252429\", \"entities\": {\"url\": {\"urls\": [{\"url\": \"http://t.co/x5Vr8HWFxj\", \"indices\": [0, 22], \"expanded_url\": \"http://facebook.com/christian.harrison\", \"display_url\": \"facebook.com/christian.harr\\u2026\"}]}, \"description\": {\"urls\": []}}, \"followers_count\": 1377, \"profile_sidebar_border_color\": \"000000\", \"id_str\": \"614\", \"profile_background_color\": \"1A1B1F\", \"listed_count\": 39, \"is_translation_enabled\": false, \"utc_offset\": 12600, \"statuses_count\": 7894, \"description\": \"Urban enthusiast, professional storyteller, man of faith.\", \"friends_count\": 1931, \"location\": \"Salt Lake City, UT\", \"profile_link_color\": \"2FC2EF\", \"profile_image_url\": \"http://pbs.twimg.com/profile_images/465965547855679488/ONqxqGvL_normal.jpeg\", \"following\": false, \"geo_enabled\": true, \"profile_banner_url\": \"https://pbs.twimg.com/profile_banners/614/1365311832\", \"profile_background_image_url\": \"http://abs.twimg.com/images/themes/theme9/bg.gif\", \"name\": \"Christian Harrison\", \"lang\": \"en\", \"profile_background_tile\": false, \"favourites_count\": 83, \"screen_name\": \"dcharrison\", \"notifications\": false, \"url\": \"http://t.co/x5Vr8HWFxj\", \"created_at\": \"Thu Jul 13 20:30:05 +0000 2006\", \"contributors_enabled\": false, \"time_zone\": \"Tehran\", \"protected\": false, \"default_profile\": false, \"is_translator\": false}, \"geo\": null, \"in_reply_to_user_id_str\": null, \"possibly_sensitive\": false, \"lang\": \"en\", \"created_at\": \"Wed Oct 08 22:29:25 +0000 2014\", \"in_reply_to_status_id_str\": null, \"place\": null}, {\"contributors\": null, \"truncated\": false, \"text\": \"Vote-by-mail fail: I have to pay postage! Almost dropped it in the box without a stamp. Grr. \\n\\nI wonder how many... http://t.co/TOuucViTXz\", \"in_reply_to_status_id\": null, \"id\": 519898655894286336, \"favorite_count\": 1, \"source\": \"<a href=\\\"http://www.facebook.com/twitter\\\" rel=\\\"nofollow\\\">Facebook</a>\", \"retweeted\": false, \"coordinates\": null, \"entities\": {\"symbols\": [], \"user_mentions\": [], \"hashtags\": [], \"urls\": [{\"url\": \"http://t.co/TOuucViTXz\", \"indices\": [116, 138], \"expanded_url\": \"http://fb.me/1DDh0PSjX\", \"display_url\": \"fb.me/1DDh0PSjX\"}]}, \"in_reply_to_screen_name\": null, \"id_str\": \"519898655894286336\", \"retweet_count\": 0, \"in_reply_to_user_id\": null, \"favorited\": false, \"user\": {\"follow_request_sent\": false, \"profile_use_background_image\": false, \"profile_text_color\": \"666666\", \"default_profile_image\": false, \"id\": 614, \"profile_background_image_url_https\": \"https://abs.twimg.com/images/themes/theme9/bg.gif\", \"verified\": false, \"profile_location\": null, \"profile_image_url_https\": \"https://pbs.twimg.com/profile_images/465965547855679488/ONqxqGvL_normal.jpeg\", \"profile_sidebar_fill_color\": \"252429\", \"entities\": {\"url\": {\"urls\": [{\"url\": \"http://t.co/x5Vr8HWFxj\", \"indices\": [0, 22], \"expanded_url\": \"http://facebook.com/christian.harrison\", \"display_url\": \"facebook.com/christian.harr\\u2026\"}]}, \"description\": {\"urls\": []}}, \"followers_count\": 1377, \"profile_sidebar_border_color\": \"000000\", \"id_str\": \"614\", \"profile_background_color\": \"1A1B1F\", \"listed_count\": 39, \"is_translation_enabled\": false, \"utc_offset\": 12600, \"statuses_count\": 7894, \"description\": \"Urban enthusiast, professional storyteller, man of faith.\", \"friends_count\": 1931, \"location\": \"Salt Lake City, UT\", \"profile_link_color\": \"2FC2EF\", \"profile_image_url\": \"http://pbs.twimg.com/profile_images/465965547855679488/ONqxqGvL_normal.jpeg\", \"following\": false, \"geo_enabled\": true, \"profile_banner_url\": \"https://pbs.twimg.com/profile_banners/614/1365311832\", \"profile_background_image_url\": \"http://abs.twimg.com/images/themes/theme9/bg.gif\", \"name\": \"Christian Harrison\", \"lang\": \"en\", \"profile_background_tile\": false, \"favourites_count\": 83, \"screen_name\": \"dcharrison\", \"notifications\": false, \"url\": \"http://t.co/x5Vr8HWFxj\", \"created_at\": \"Thu Jul 13 20:30:05 +0000 2006\", \"contributors_enabled\": false, \"time_zone\": \"Tehran\", \"protected\": false, \"default_profile\": false, \"is_translator\": false}, \"geo\": null, \"in_reply_to_user_id_str\": null, \"possibly_sensitive\": false, \"lang\": \"en\", \"created_at\": \"Wed Oct 08 17:14:33 +0000 2014\", \"in_reply_to_status_id_str\": null, \"place\": null}, {\"contributors\": null, \"truncated\": false, \"text\": \"Voting by mail today \\u2026 and I'm flummoxed on just one item: \\n\\nConstitutional Amendment B.\\n\\nDoes anyone have any... http://t.co/l3jWbGaQy3\", \"in_reply_to_status_id\": null, \"id\": 519878541107023872, \"favorite_count\": 0, \"source\": \"<a href=\\\"http://www.facebook.com/twitter\\\" rel=\\\"nofollow\\\">Facebook</a>\", \"retweeted\": false, \"coordinates\": null, \"entities\": {\"symbols\": [], \"user_mentions\": [], \"hashtags\": [], \"urls\": [{\"url\": \"http://t.co/l3jWbGaQy3\", \"indices\": [114, 136], \"expanded_url\": \"http://fb.me/3fGsziAEQ\", \"display_url\": \"fb.me/3fGsziAEQ\"}]}, \"in_reply_to_screen_name\": null, \"id_str\": \"519878541107023872\", \"retweet_count\": 0, \"in_reply_to_user_id\": null, \"favorited\": false, \"user\": {\"follow_request_sent\": false, \"profile_use_background_image\": false, \"profile_text_color\": \"666666\", \"default_profile_image\": false, \"id\": 614, \"profile_background_image_url_https\": \"https://abs.twimg.com/images/themes/theme9/bg.gif\", \"verified\": false, \"profile_location\": null, \"profile_image_url_https\": \"https://pbs.twimg.com/profile_images/465965547855679488/ONqxqGvL_normal.jpeg\", \"profile_sidebar_fill_color\": \"252429\", \"entities\": {\"url\": {\"urls\": [{\"url\": \"http://t.co/x5Vr8HWFxj\", \"indices\": [0, 22], \"expanded_url\": \"http://facebook.com/christian.harrison\", \"display_url\": \"facebook.com/christian.harr\\u2026\"}]}, \"description\": {\"urls\": []}}, \"followers_count\": 1377, \"profile_sidebar_border_color\": \"000000\", \"id_str\": \"614\", \"profile_background_color\": \"1A1B1F\", \"listed_count\": 39, \"is_translation_enabled\": false, \"utc_offset\": 12600, \"statuses_count\": 7894, \"description\": \"Urban enthusiast, professional storyteller, man of faith.\", \"friends_count\": 1931, \"location\": \"Salt Lake City, UT\", \"profile_link_color\": \"2FC2EF\", \"profile_image_url\": \"http://pbs.twimg.com/profile_images/465965547855679488/ONqxqGvL_normal.jpeg\", \"following\": false, \"geo_enabled\": true, \"profile_banner_url\": \"https://pbs.twimg.com/profile_banners/614/1365311832\", \"profile_background_image_url\": \"http://abs.twimg.com/images/themes/theme9/bg.gif\", \"name\": \"Christian Harrison\", \"lang\": \"en\", \"profile_background_tile\": false, \"favourites_count\": 83, \"screen_name\": \"dcharrison\", \"notifications\": false, \"url\": \"http://t.co/x5Vr8HWFxj\", \"created_at\": \"Thu Jul 13 20:30:05 +0000 2006\", \"contributors_enabled\": false, \"time_zone\": \"Tehran\", \"protected\": false, \"default_profile\": false, \"is_translator\": false}, \"geo\": null, \"in_reply_to_user_id_str\": null, \"possibly_sensitive\": false, \"lang\": \"en\", \"created_at\": \"Wed Oct 08 15:54:37 +0000 2014\", \"in_reply_to_status_id_str\": null, \"place\": null}, {\"contributors\": null, \"truncated\": false, \"text\": \"The amazing work of Mayor Ralph Becker and his team are paying off. Congratulations to all my friends at the City! http://t.co/GZkUNRrqoN\", \"in_reply_to_status_id\": null, \"id\": 519873796501536768, \"favorite_count\": 0, \"source\": \"<a href=\\\"http://www.facebook.com/twitter\\\" rel=\\\"nofollow\\\">Facebook</a>\", \"retweeted\": false, \"coordinates\": null, \"entities\": {\"symbols\": [], \"user_mentions\": [], \"hashtags\": [], \"urls\": [{\"url\": \"http://t.co/GZkUNRrqoN\", \"indices\": [115, 137], \"expanded_url\": \"http://fb.me/7avqYNKB4\", \"display_url\": \"fb.me/7avqYNKB4\"}]}, \"in_reply_to_screen_name\": null, \"id_str\": \"519873796501536768\", \"retweet_count\": 0, \"in_reply_to_user_id\": null, \"favorited\": false, \"user\": {\"follow_request_sent\": false, \"profile_use_background_image\": false, \"profile_text_color\": \"666666\", \"default_profile_image\": false, \"id\": 614, \"profile_background_image_url_https\": \"https://abs.twimg.com/images/themes/theme9/bg.gif\", \"verified\": false, \"profile_location\": null, \"profile_image_url_https\": \"https://pbs.twimg.com/profile_images/465965547855679488/ONqxqGvL_normal.jpeg\", \"profile_sidebar_fill_color\": \"252429\", \"entities\": {\"url\": {\"urls\": [{\"url\": \"http://t.co/x5Vr8HWFxj\", \"indices\": [0, 22], \"expanded_url\": \"http://facebook.com/christian.harrison\", \"display_url\": \"facebook.com/christian.harr\\u2026\"}]}, \"description\": {\"urls\": []}}, \"followers_count\": 1377, \"profile_sidebar_border_color\": \"000000\", \"id_str\": \"614\", \"profile_background_color\": \"1A1B1F\", \"listed_count\": 39, \"is_translation_enabled\": false, \"utc_offset\": 12600, \"statuses_count\": 7894, \"description\": \"Urban enthusiast, professional storyteller, man of faith.\", \"friends_count\": 1931, \"location\": \"Salt Lake City, UT\", \"profile_link_color\": \"2FC2EF\", \"profile_image_url\": \"http://pbs.twimg.com/profile_images/465965547855679488/ONqxqGvL_normal.jpeg\", \"following\": false, \"geo_enabled\": true, \"profile_banner_url\": \"https://pbs.twimg.com/profile_banners/614/1365311832\", \"profile_background_image_url\": \"http://abs.twimg.com/images/themes/theme9/bg.gif\", \"name\": \"Christian Harrison\", \"lang\": \"en\", \"profile_background_tile\": false, \"favourites_count\": 83, \"screen_name\": \"dcharrison\", \"notifications\": false, \"url\": \"http://t.co/x5Vr8HWFxj\", \"created_at\": \"Thu Jul 13 20:30:05 +0000 2006\", \"contributors_enabled\": false, \"time_zone\": \"Tehran\", \"protected\": false, \"default_profile\": false, \"is_translator\": false}, \"geo\": null, \"in_reply_to_user_id_str\": null, \"possibly_sensitive\": false, \"lang\": \"en\", \"created_at\": \"Wed Oct 08 15:35:46 +0000 2014\", \"in_reply_to_status_id_str\": null, \"place\": null}, {\"contributors\": null, \"truncated\": false, \"text\": \"Oh! This looks wonderful! http://t.co/VnFS2kHWpw\", \"in_reply_to_status_id\": null, \"id\": 519690493173575681, \"favorite_count\": 0, \"source\": \"<a href=\\\"http://www.facebook.com/twitter\\\" rel=\\\"nofollow\\\">Facebook</a>\", \"retweeted\": false, \"coordinates\": null, \"entities\": {\"symbols\": [], \"user_mentions\": [], \"hashtags\": [], \"urls\": [{\"url\": \"http://t.co/VnFS2kHWpw\", \"indices\": [26, 48], \"expanded_url\": \"http://fb.me/6Lqn0mCL2\", \"display_url\": \"fb.me/6Lqn0mCL2\"}]}, \"in_reply_to_screen_name\": null, \"id_str\": \"519690493173575681\", \"retweet_count\": 0, \"in_reply_to_user_id\": null, \"favorited\": false, \"user\": {\"follow_request_sent\": false, \"profile_use_background_image\": false, \"profile_text_color\": \"666666\", \"default_profile_image\": false, \"id\": 614, \"profile_background_image_url_https\": \"https://abs.twimg.com/images/themes/theme9/bg.gif\", \"verified\": false, \"profile_location\": null, \"profile_image_url_https\": \"https://pbs.twimg.com/profile_images/465965547855679488/ONqxqGvL_normal.jpeg\", \"profile_sidebar_fill_color\": \"252429\", \"entities\": {\"url\": {\"urls\": [{\"url\": \"http://t.co/x5Vr8HWFxj\", \"indices\": [0, 22], \"expanded_url\": \"http://facebook.com/christian.harrison\", \"display_url\": \"facebook.com/christian.harr\\u2026\"}]}, \"description\": {\"urls\": []}}, \"followers_count\": 1377, \"profile_sidebar_border_color\": \"000000\", \"id_str\": \"614\", \"profile_background_color\": \"1A1B1F\", \"listed_count\": 39, \"is_translation_enabled\": false, \"utc_offset\": 12600, \"statuses_count\": 7894, \"description\": \"Urban enthusiast, professional storyteller, man of faith.\", \"friends_count\": 1931, \"location\": \"Salt Lake City, UT\", \"profile_link_color\": \"2FC2EF\", \"profile_image_url\": \"http://pbs.twimg.com/profile_images/465965547855679488/ONqxqGvL_normal.jpeg\", \"following\": false, \"geo_enabled\": true, \"profile_banner_url\": \"https://pbs.twimg.com/profile_banners/614/1365311832\", \"profile_background_image_url\": \"http://abs.twimg.com/images/themes/theme9/bg.gif\", \"name\": \"Christian Harrison\", \"lang\": \"en\", \"profile_background_tile\": false, \"favourites_count\": 83, \"screen_name\": \"dcharrison\", \"notifications\": false, \"url\": \"http://t.co/x5Vr8HWFxj\", \"created_at\": \"Thu Jul 13 20:30:05 +0000 2006\", \"contributors_enabled\": false, \"time_zone\": \"Tehran\", \"protected\": false, \"default_profile\": false, \"is_translator\": false}, \"geo\": null, \"in_reply_to_user_id_str\": null, \"possibly_sensitive\": false, \"lang\": \"en\", \"created_at\": \"Wed Oct 08 03:27:23 +0000 2014\", \"in_reply_to_status_id_str\": null, \"place\": null}, {\"contributors\": null, \"truncated\": false, \"text\": \"Well that was fast\\u2026 http://t.co/g4rPzwPNXO\", \"in_reply_to_status_id\": null, \"id\": 519581873681362946, \"favorite_count\": 0, \"source\": \"<a href=\\\"http://www.facebook.com/twitter\\\" rel=\\\"nofollow\\\">Facebook</a>\", \"retweeted\": false, \"coordinates\": null, \"entities\": {\"symbols\": [], \"user_mentions\": [], \"hashtags\": [], \"urls\": [{\"url\": \"http://t.co/g4rPzwPNXO\", \"indices\": [20, 42], \"expanded_url\": \"http://fb.me/2RvKbHrMM\", \"display_url\": \"fb.me/2RvKbHrMM\"}]}, \"in_reply_to_screen_name\": null, \"id_str\": \"519581873681362946\", \"retweet_count\": 0, \"in_reply_to_user_id\": null, \"favorited\": false, \"user\": {\"follow_request_sent\": false, \"profile_use_background_image\": false, \"profile_text_color\": \"666666\", \"default_profile_image\": false, \"id\": 614, \"profile_background_image_url_https\": \"https://abs.twimg.com/images/themes/theme9/bg.gif\", \"verified\": false, \"profile_location\": null, \"profile_image_url_https\": \"https://pbs.twimg.com/profile_images/465965547855679488/ONqxqGvL_normal.jpeg\", \"profile_sidebar_fill_color\": \"252429\", \"entities\": {\"url\": {\"urls\": [{\"url\": \"http://t.co/x5Vr8HWFxj\", \"indices\": [0, 22], \"expanded_url\": \"http://facebook.com/christian.harrison\", \"display_url\": \"facebook.com/christian.harr\\u2026\"}]}, \"description\": {\"urls\": []}}, \"followers_count\": 1377, \"profile_sidebar_border_color\": \"000000\", \"id_str\": \"614\", \"profile_background_color\": \"1A1B1F\", \"listed_count\": 39, \"is_translation_enabled\": false, \"utc_offset\": 12600, \"statuses_count\": 7894, \"description\": \"Urban enthusiast, professional storyteller, man of faith.\", \"friends_count\": 1931, \"location\": \"Salt Lake City, UT\", \"profile_link_color\": \"2FC2EF\", \"profile_image_url\": \"http://pbs.twimg.com/profile_images/465965547855679488/ONqxqGvL_normal.jpeg\", \"following\": false, \"geo_enabled\": true, \"profile_banner_url\": \"https://pbs.twimg.com/profile_banners/614/1365311832\", \"profile_background_image_url\": \"http://abs.twimg.com/images/themes/theme9/bg.gif\", \"name\": \"Christian Harrison\", \"lang\": \"en\", \"profile_background_tile\": false, \"favourites_count\": 83, \"screen_name\": \"dcharrison\", \"notifications\": false, \"url\": \"http://t.co/x5Vr8HWFxj\", \"created_at\": \"Thu Jul 13 20:30:05 +0000 2006\", \"contributors_enabled\": false, \"time_zone\": \"Tehran\", \"protected\": false, \"default_profile\": false, \"is_translator\": false}, \"geo\": null, \"in_reply_to_user_id_str\": null, \"possibly_sensitive\": false, \"lang\": \"en\", \"created_at\": \"Tue Oct 07 20:15:46 +0000 2014\", \"in_reply_to_status_id_str\": null, \"place\": null}, {\"contributors\": null, \"truncated\": false, \"text\": \"The City wants to hear from you! Take this quick survey about housing and neighborhood development in Salt Lake City\\u2026 http://t.co/NRmKIL6Cnn\", \"in_reply_to_status_id\": null, \"id\": 519552752255385601, \"favorite_count\": 0, \"source\": \"<a href=\\\"http://www.facebook.com/twitter\\\" rel=\\\"nofollow\\\">Facebook</a>\", \"retweeted\": false, \"coordinates\": null, \"entities\": {\"symbols\": [], \"user_mentions\": [], \"hashtags\": [], \"urls\": [{\"url\": \"http://t.co/NRmKIL6Cnn\", \"indices\": [118, 140], \"expanded_url\": \"http://fb.me/3eGbI2KTc\", \"display_url\": \"fb.me/3eGbI2KTc\"}]}, \"in_reply_to_screen_name\": null, \"id_str\": \"519552752255385601\", \"retweet_count\": 0, \"in_reply_to_user_id\": null, \"favorited\": false, \"user\": {\"follow_request_sent\": false, \"profile_use_background_image\": false, \"profile_text_color\": \"666666\", \"default_profile_image\": false, \"id\": 614, \"profile_background_image_url_https\": \"https://abs.twimg.com/images/themes/theme9/bg.gif\", \"verified\": false, \"profile_location\": null, \"profile_image_url_https\": \"https://pbs.twimg.com/profile_images/465965547855679488/ONqxqGvL_normal.jpeg\", \"profile_sidebar_fill_color\": \"252429\", \"entities\": {\"url\": {\"urls\": [{\"url\": \"http://t.co/x5Vr8HWFxj\", \"indices\": [0, 22], \"expanded_url\": \"http://facebook.com/christian.harrison\", \"display_url\": \"facebook.com/christian.harr\\u2026\"}]}, \"description\": {\"urls\": []}}, \"followers_count\": 1377, \"profile_sidebar_border_color\": \"000000\", \"id_str\": \"614\", \"profile_background_color\": \"1A1B1F\", \"listed_count\": 39, \"is_translation_enabled\": false, \"utc_offset\": 12600, \"statuses_count\": 7894, \"description\": \"Urban enthusiast, professional storyteller, man of faith.\", \"friends_count\": 1931, \"location\": \"Salt Lake City, UT\", \"profile_link_color\": \"2FC2EF\", \"profile_image_url\": \"http://pbs.twimg.com/profile_images/465965547855679488/ONqxqGvL_normal.jpeg\", \"following\": false, \"geo_enabled\": true, \"profile_banner_url\": \"https://pbs.twimg.com/profile_banners/614/1365311832\", \"profile_background_image_url\": \"http://abs.twimg.com/images/themes/theme9/bg.gif\", \"name\": \"Christian Harrison\", \"lang\": \"en\", \"profile_background_tile\": false, \"favourites_count\": 83, \"screen_name\": \"dcharrison\", \"notifications\": false, \"url\": \"http://t.co/x5Vr8HWFxj\", \"created_at\": \"Thu Jul 13 20:30:05 +0000 2006\", \"contributors_enabled\": false, \"time_zone\": \"Tehran\", \"protected\": false, \"default_profile\": false, \"is_translator\": false}, \"geo\": null, \"in_reply_to_user_id_str\": null, \"possibly_sensitive\": false, \"lang\": \"en\", \"created_at\": \"Tue Oct 07 18:20:03 +0000 2014\", \"in_reply_to_status_id_str\": null, \"place\": null}, {\"contributors\": null, \"truncated\": false, \"text\": \"* snort * http://t.co/hZcyTAYwKX\", \"in_reply_to_status_id\": null, \"id\": 519536478074834945, \"favorite_count\": 0, \"source\": \"<a href=\\\"http://www.facebook.com/twitter\\\" rel=\\\"nofollow\\\">Facebook</a>\", \"retweeted\": false, \"coordinates\": null, \"entities\": {\"symbols\": [], \"user_mentions\": [], \"hashtags\": [], \"urls\": [{\"url\": \"http://t.co/hZcyTAYwKX\", \"indices\": [10, 32], \"expanded_url\": \"http://fb.me/3yRWhpYOS\", \"display_url\": \"fb.me/3yRWhpYOS\"}]}, \"in_reply_to_screen_name\": null, \"id_str\": \"519536478074834945\", \"retweet_count\": 0, \"in_reply_to_user_id\": null, \"favorited\": false, \"user\": {\"follow_request_sent\": false, \"profile_use_background_image\": false, \"profile_text_color\": \"666666\", \"default_profile_image\": false, \"id\": 614, \"profile_background_image_url_https\": \"https://abs.twimg.com/images/themes/theme9/bg.gif\", \"verified\": false, \"profile_location\": null, \"profile_image_url_https\": \"https://pbs.twimg.com/profile_images/465965547855679488/ONqxqGvL_normal.jpeg\", \"profile_sidebar_fill_color\": \"252429\", \"entities\": {\"url\": {\"urls\": [{\"url\": \"http://t.co/x5Vr8HWFxj\", \"indices\": [0, 22], \"expanded_url\": \"http://facebook.com/christian.harrison\", \"display_url\": \"facebook.com/christian.harr\\u2026\"}]}, \"description\": {\"urls\": []}}, \"followers_count\": 1377, \"profile_sidebar_border_color\": \"000000\", \"id_str\": \"614\", \"profile_background_color\": \"1A1B1F\", \"listed_count\": 39, \"is_translation_enabled\": false, \"utc_offset\": 12600, \"statuses_count\": 7894, \"description\": \"Urban enthusiast, professional storyteller, man of faith.\", \"friends_count\": 1931, \"location\": \"Salt Lake City, UT\", \"profile_link_color\": \"2FC2EF\", \"profile_image_url\": \"http://pbs.twimg.com/profile_images/465965547855679488/ONqxqGvL_normal.jpeg\", \"following\": false, \"geo_enabled\": true, \"profile_banner_url\": \"https://pbs.twimg.com/profile_banners/614/1365311832\", \"profile_background_image_url\": \"http://abs.twimg.com/images/themes/theme9/bg.gif\", \"name\": \"Christian Harrison\", \"lang\": \"en\", \"profile_background_tile\": false, \"favourites_count\": 83, \"screen_name\": \"dcharrison\", \"notifications\": false, \"url\": \"http://t.co/x5Vr8HWFxj\", \"created_at\": \"Thu Jul 13 20:30:05 +0000 2006\", \"contributors_enabled\": false, \"time_zone\": \"Tehran\", \"protected\": false, \"default_profile\": false, \"is_translator\": false}, \"geo\": null, \"in_reply_to_user_id_str\": null, \"possibly_sensitive\": false, \"lang\": \"sv\", \"created_at\": \"Tue Oct 07 17:15:23 +0000 2014\", \"in_reply_to_status_id_str\": null, \"place\": null}, {\"contributors\": null, \"truncated\": false, \"text\": \"@RobTmanJr \\u2026 my pleasure! Tell Cindy \\\"hi\\\"!\", \"in_reply_to_status_id\": 519175835945664512, \"id\": 519230514306109442, \"favorite_count\": 1, \"source\": \"<a href=\\\"http://twitter.com/download/iphone\\\" rel=\\\"nofollow\\\">Twitter for iPhone</a>\", \"retweeted\": false, \"coordinates\": null, \"entities\": {\"symbols\": [], \"user_mentions\": [{\"id\": 73252408, \"indices\": [0, 10], \"id_str\": \"73252408\", \"screen_name\": \"RobTmanJr\", \"name\": \"Robert Trishman\"}], \"hashtags\": [], \"urls\": []}, \"in_reply_to_screen_name\": \"RobTmanJr\", \"id_str\": \"519230514306109442\", \"retweet_count\": 0, \"in_reply_to_user_id\": 73252408, \"favorited\": false, \"user\": {\"follow_request_sent\": false, \"profile_use_background_image\": false, \"profile_text_color\": \"666666\", \"default_profile_image\": false, \"id\": 614, \"profile_background_image_url_https\": \"https://abs.twimg.com/images/themes/theme9/bg.gif\", \"verified\": false, \"profile_location\": null, \"profile_image_url_https\": \"https://pbs.twimg.com/profile_images/465965547855679488/ONqxqGvL_normal.jpeg\", \"profile_sidebar_fill_color\": \"252429\", \"entities\": {\"url\": {\"urls\": [{\"url\": \"http://t.co/x5Vr8HWFxj\", \"indices\": [0, 22], \"expanded_url\": \"http://facebook.com/christian.harrison\", \"display_url\": \"facebook.com/christian.harr\\u2026\"}]}, \"description\": {\"urls\": []}}, \"followers_count\": 1377, \"profile_sidebar_border_color\": \"000000\", \"id_str\": \"614\", \"profile_background_color\": \"1A1B1F\", \"listed_count\": 39, \"is_translation_enabled\": false, \"utc_offset\": 12600, \"statuses_count\": 7894, \"description\": \"Urban enthusiast, professional storyteller, man of faith.\", \"friends_count\": 1931, \"location\": \"Salt Lake City, UT\", \"profile_link_color\": \"2FC2EF\", \"profile_image_url\": \"http://pbs.twimg.com/profile_images/465965547855679488/ONqxqGvL_normal.jpeg\", \"following\": false, \"geo_enabled\": true, \"profile_banner_url\": \"https://pbs.twimg.com/profile_banners/614/1365311832\", \"profile_background_image_url\": \"http://abs.twimg.com/images/themes/theme9/bg.gif\", \"name\": \"Christian Harrison\", \"lang\": \"en\", \"profile_background_tile\": false, \"favourites_count\": 83, \"screen_name\": \"dcharrison\", \"notifications\": false, \"url\": \"http://t.co/x5Vr8HWFxj\", \"created_at\": \"Thu Jul 13 20:30:05 +0000 2006\", \"contributors_enabled\": false, \"time_zone\": \"Tehran\", \"protected\": false, \"default_profile\": false, \"is_translator\": false}, \"geo\": null, \"in_reply_to_user_id_str\": \"73252408\", \"lang\": \"en\", \"created_at\": \"Mon Oct 06 20:59:36 +0000 2014\", \"in_reply_to_status_id_str\": \"519175835945664512\", \"place\": null}, {\"contributors\": null, \"truncated\": false, \"text\": \"I was born gay \\u2026 and I chose to be Mormon. And being Mormon is a choice I make every day. It's not a http://t.co/jyGj2m3Jis\", \"in_reply_to_status_id\": null, \"id\": 519172787165200384, \"favorite_count\": 4, \"source\": \"<a href=\\\"http://pinterest.com\\\" rel=\\\"nofollow\\\">Pinterest</a>\", \"retweeted\": false, \"coordinates\": null, \"entities\": {\"symbols\": [], \"user_mentions\": [], \"hashtags\": [], \"urls\": [{\"url\": \"http://t.co/jyGj2m3Jis\", \"indices\": [101, 123], \"expanded_url\": \"http://pinterest.com/pin/165648092519849662/\", \"display_url\": \"pinterest.com/pin/1656480925\\u2026\"}]}, \"in_reply_to_screen_name\": null, \"id_str\": \"519172787165200384\", \"retweet_count\": 1, \"in_reply_to_user_id\": null, \"favorited\": false, \"user\": {\"follow_request_sent\": false, \"profile_use_background_image\": false, \"profile_text_color\": \"666666\", \"default_profile_image\": false, \"id\": 614, \"profile_background_image_url_https\": \"https://abs.twimg.com/images/themes/theme9/bg.gif\", \"verified\": false, \"profile_location\": null, \"profile_image_url_https\": \"https://pbs.twimg.com/profile_images/465965547855679488/ONqxqGvL_normal.jpeg\", \"profile_sidebar_fill_color\": \"252429\", \"entities\": {\"url\": {\"urls\": [{\"url\": \"http://t.co/x5Vr8HWFxj\", \"indices\": [0, 22], \"expanded_url\": \"http://facebook.com/christian.harrison\", \"display_url\": \"facebook.com/christian.harr\\u2026\"}]}, \"description\": {\"urls\": []}}, \"followers_count\": 1377, \"profile_sidebar_border_color\": \"000000\", \"id_str\": \"614\", \"profile_background_color\": \"1A1B1F\", \"listed_count\": 39, \"is_translation_enabled\": false, \"utc_offset\": 12600, \"statuses_count\": 7894, \"description\": \"Urban enthusiast, professional storyteller, man of faith.\", \"friends_count\": 1931, \"location\": \"Salt Lake City, UT\", \"profile_link_color\": \"2FC2EF\", \"profile_image_url\": \"http://pbs.twimg.com/profile_images/465965547855679488/ONqxqGvL_normal.jpeg\", \"following\": false, \"geo_enabled\": true, \"profile_banner_url\": \"https://pbs.twimg.com/profile_banners/614/1365311832\", \"profile_background_image_url\": \"http://abs.twimg.com/images/themes/theme9/bg.gif\", \"name\": \"Christian Harrison\", \"lang\": \"en\", \"profile_background_tile\": false, \"favourites_count\": 83, \"screen_name\": \"dcharrison\", \"notifications\": false, \"url\": \"http://t.co/x5Vr8HWFxj\", \"created_at\": \"Thu Jul 13 20:30:05 +0000 2006\", \"contributors_enabled\": false, \"time_zone\": \"Tehran\", \"protected\": false, \"default_profile\": false, \"is_translator\": false}, \"geo\": null, \"in_reply_to_user_id_str\": null, \"possibly_sensitive\": false, \"lang\": \"en\", \"created_at\": \"Mon Oct 06 17:10:12 +0000 2014\", \"in_reply_to_status_id_str\": null, \"place\": null}, {\"contributors\": null, \"truncated\": false, \"text\": \"Here's how it stands\\u2026 http://t.co/3f2Xtwv9CS\", \"in_reply_to_status_id\": null, \"id\": 519164219456225281, \"favorite_count\": 0, \"source\": \"<a href=\\\"http://www.facebook.com/twitter\\\" rel=\\\"nofollow\\\">Facebook</a>\", \"retweeted\": false, \"coordinates\": null, \"entities\": {\"symbols\": [], \"user_mentions\": [], \"hashtags\": [], \"urls\": [{\"url\": \"http://t.co/3f2Xtwv9CS\", \"indices\": [22, 44], \"expanded_url\": \"http://fb.me/3VPaEVNpz\", \"display_url\": \"fb.me/3VPaEVNpz\"}]}, \"in_reply_to_screen_name\": null, \"id_str\": \"519164219456225281\", \"retweet_count\": 0, \"in_reply_to_user_id\": null, \"favorited\": false, \"user\": {\"follow_request_sent\": false, \"profile_use_background_image\": false, \"profile_text_color\": \"666666\", \"default_profile_image\": false, \"id\": 614, \"profile_background_image_url_https\": \"https://abs.twimg.com/images/themes/theme9/bg.gif\", \"verified\": false, \"profile_location\": null, \"profile_image_url_https\": \"https://pbs.twimg.com/profile_images/465965547855679488/ONqxqGvL_normal.jpeg\", \"profile_sidebar_fill_color\": \"252429\", \"entities\": {\"url\": {\"urls\": [{\"url\": \"http://t.co/x5Vr8HWFxj\", \"indices\": [0, 22], \"expanded_url\": \"http://facebook.com/christian.harrison\", \"display_url\": \"facebook.com/christian.harr\\u2026\"}]}, \"description\": {\"urls\": []}}, \"followers_count\": 1377, \"profile_sidebar_border_color\": \"000000\", \"id_str\": \"614\", \"profile_background_color\": \"1A1B1F\", \"listed_count\": 39, \"is_translation_enabled\": false, \"utc_offset\": 12600, \"statuses_count\": 7894, \"description\": \"Urban enthusiast, professional storyteller, man of faith.\", \"friends_count\": 1931, \"location\": \"Salt Lake City, UT\", \"profile_link_color\": \"2FC2EF\", \"profile_image_url\": \"http://pbs.twimg.com/profile_images/465965547855679488/ONqxqGvL_normal.jpeg\", \"following\": false, \"geo_enabled\": true, \"profile_banner_url\": \"https://pbs.twimg.com/profile_banners/614/1365311832\", \"profile_background_image_url\": \"http://abs.twimg.com/images/themes/theme9/bg.gif\", \"name\": \"Christian Harrison\", \"lang\": \"en\", \"profile_background_tile\": false, \"favourites_count\": 83, \"screen_name\": \"dcharrison\", \"notifications\": false, \"url\": \"http://t.co/x5Vr8HWFxj\", \"created_at\": \"Thu Jul 13 20:30:05 +0000 2006\", \"contributors_enabled\": false, \"time_zone\": \"Tehran\", \"protected\": false, \"default_profile\": false, \"is_translator\": false}, \"geo\": null, \"in_reply_to_user_id_str\": null, \"possibly_sensitive\": false, \"lang\": \"en\", \"created_at\": \"Mon Oct 06 16:36:10 +0000 2014\", \"in_reply_to_status_id_str\": null, \"place\": null}, {\"contributors\": null, \"truncated\": false, \"text\": \"Here we go! http://t.co/GMvIgMTO3t\", \"in_reply_to_status_id\": null, \"id\": 519163071386763265, \"favorite_count\": 1, \"source\": \"<a href=\\\"http://www.facebook.com/twitter\\\" rel=\\\"nofollow\\\">Facebook</a>\", \"retweeted\": false, \"coordinates\": null, \"entities\": {\"symbols\": [], \"user_mentions\": [], \"hashtags\": [], \"urls\": [{\"url\": \"http://t.co/GMvIgMTO3t\", \"indices\": [12, 34], \"expanded_url\": \"http://fb.me/3MxdX1fPL\", \"display_url\": \"fb.me/3MxdX1fPL\"}]}, \"in_reply_to_screen_name\": null, \"id_str\": \"519163071386763265\", \"retweet_count\": 0, \"in_reply_to_user_id\": null, \"favorited\": false, \"user\": {\"follow_request_sent\": false, \"profile_use_background_image\": false, \"profile_text_color\": \"666666\", \"default_profile_image\": false, \"id\": 614, \"profile_background_image_url_https\": \"https://abs.twimg.com/images/themes/theme9/bg.gif\", \"verified\": false, \"profile_location\": null, \"profile_image_url_https\": \"https://pbs.twimg.com/profile_images/465965547855679488/ONqxqGvL_normal.jpeg\", \"profile_sidebar_fill_color\": \"252429\", \"entities\": {\"url\": {\"urls\": [{\"url\": \"http://t.co/x5Vr8HWFxj\", \"indices\": [0, 22], \"expanded_url\": \"http://facebook.com/christian.harrison\", \"display_url\": \"facebook.com/christian.harr\\u2026\"}]}, \"description\": {\"urls\": []}}, \"followers_count\": 1377, \"profile_sidebar_border_color\": \"000000\", \"id_str\": \"614\", \"profile_background_color\": \"1A1B1F\", \"listed_count\": 39, \"is_translation_enabled\": false, \"utc_offset\": 12600, \"statuses_count\": 7894, \"description\": \"Urban enthusiast, professional storyteller, man of faith.\", \"friends_count\": 1931, \"location\": \"Salt Lake City, UT\", \"profile_link_color\": \"2FC2EF\", \"profile_image_url\": \"http://pbs.twimg.com/profile_images/465965547855679488/ONqxqGvL_normal.jpeg\", \"following\": false, \"geo_enabled\": true, \"profile_banner_url\": \"https://pbs.twimg.com/profile_banners/614/1365311832\", \"profile_background_image_url\": \"http://abs.twimg.com/images/themes/theme9/bg.gif\", \"name\": \"Christian Harrison\", \"lang\": \"en\", \"profile_background_tile\": false, \"favourites_count\": 83, \"screen_name\": \"dcharrison\", \"notifications\": false, \"url\": \"http://t.co/x5Vr8HWFxj\", \"created_at\": \"Thu Jul 13 20:30:05 +0000 2006\", \"contributors_enabled\": false, \"time_zone\": \"Tehran\", \"protected\": false, \"default_profile\": false, \"is_translator\": false}, \"geo\": null, \"in_reply_to_user_id_str\": null, \"possibly_sensitive\": false, \"lang\": \"en\", \"created_at\": \"Mon Oct 06 16:31:36 +0000 2014\", \"in_reply_to_status_id_str\": null, \"place\": null}, {\"contributors\": null, \"truncated\": false, \"text\": \"Final appeal of Kitchen v Herbert will not be heard by SCOTUS. Gay marriage is now law of the land in Utah.... http://t.co/4rBA9ZdEfi\", \"in_reply_to_status_id\": null, \"id\": 519131912674099201, \"favorite_count\": 1, \"source\": \"<a href=\\\"http://www.facebook.com/twitter\\\" rel=\\\"nofollow\\\">Facebook</a>\", \"retweeted\": false, \"coordinates\": null, \"entities\": {\"symbols\": [], \"user_mentions\": [], \"hashtags\": [], \"urls\": [{\"url\": \"http://t.co/4rBA9ZdEfi\", \"indices\": [111, 133], \"expanded_url\": \"http://fb.me/1whtS3GII\", \"display_url\": \"fb.me/1whtS3GII\"}]}, \"in_reply_to_screen_name\": null, \"id_str\": \"519131912674099201\", \"retweet_count\": 0, \"in_reply_to_user_id\": null, \"favorited\": false, \"user\": {\"follow_request_sent\": false, \"profile_use_background_image\": false, \"profile_text_color\": \"666666\", \"default_profile_image\": false, \"id\": 614, \"profile_background_image_url_https\": \"https://abs.twimg.com/images/themes/theme9/bg.gif\", \"verified\": false, \"profile_location\": null, \"profile_image_url_https\": \"https://pbs.twimg.com/profile_images/465965547855679488/ONqxqGvL_normal.jpeg\", \"profile_sidebar_fill_color\": \"252429\", \"entities\": {\"url\": {\"urls\": [{\"url\": \"http://t.co/x5Vr8HWFxj\", \"indices\": [0, 22], \"expanded_url\": \"http://facebook.com/christian.harrison\", \"display_url\": \"facebook.com/christian.harr\\u2026\"}]}, \"description\": {\"urls\": []}}, \"followers_count\": 1377, \"profile_sidebar_border_color\": \"000000\", \"id_str\": \"614\", \"profile_background_color\": \"1A1B1F\", \"listed_count\": 39, \"is_translation_enabled\": false, \"utc_offset\": 12600, \"statuses_count\": 7894, \"description\": \"Urban enthusiast, professional storyteller, man of faith.\", \"friends_count\": 1931, \"location\": \"Salt Lake City, UT\", \"profile_link_color\": \"2FC2EF\", \"profile_image_url\": \"http://pbs.twimg.com/profile_images/465965547855679488/ONqxqGvL_normal.jpeg\", \"following\": false, \"geo_enabled\": true, \"profile_banner_url\": \"https://pbs.twimg.com/profile_banners/614/1365311832\", \"profile_background_image_url\": \"http://abs.twimg.com/images/themes/theme9/bg.gif\", \"name\": \"Christian Harrison\", \"lang\": \"en\", \"profile_background_tile\": false, \"favourites_count\": 83, \"screen_name\": \"dcharrison\", \"notifications\": false, \"url\": \"http://t.co/x5Vr8HWFxj\", \"created_at\": \"Thu Jul 13 20:30:05 +0000 2006\", \"contributors_enabled\": false, \"time_zone\": \"Tehran\", \"protected\": false, \"default_profile\": false, \"is_translator\": false}, \"geo\": null, \"in_reply_to_user_id_str\": null, \"possibly_sensitive\": false, \"lang\": \"en\", \"created_at\": \"Mon Oct 06 14:27:47 +0000 2014\", \"in_reply_to_status_id_str\": null, \"place\": null}, {\"contributors\": null, \"truncated\": false, \"text\": \"A thought experiment about transportation\\u2026 http://t.co/Wh2CFWn6SY\", \"in_reply_to_status_id\": null, \"id\": 518997798142742529, \"favorite_count\": 1, \"source\": \"<a href=\\\"http://www.facebook.com/twitter\\\" rel=\\\"nofollow\\\">Facebook</a>\", \"retweeted\": false, \"coordinates\": null, \"entities\": {\"symbols\": [], \"user_mentions\": [], \"hashtags\": [], \"urls\": [{\"url\": \"http://t.co/Wh2CFWn6SY\", \"indices\": [43, 65], \"expanded_url\": \"http://fb.me/1FR0JlfmX\", \"display_url\": \"fb.me/1FR0JlfmX\"}]}, \"in_reply_to_screen_name\": null, \"id_str\": \"518997798142742529\", \"retweet_count\": 0, \"in_reply_to_user_id\": null, \"favorited\": false, \"user\": {\"follow_request_sent\": false, \"profile_use_background_image\": false, \"profile_text_color\": \"666666\", \"default_profile_image\": false, \"id\": 614, \"profile_background_image_url_https\": \"https://abs.twimg.com/images/themes/theme9/bg.gif\", \"verified\": false, \"profile_location\": null, \"profile_image_url_https\": \"https://pbs.twimg.com/profile_images/465965547855679488/ONqxqGvL_normal.jpeg\", \"profile_sidebar_fill_color\": \"252429\", \"entities\": {\"url\": {\"urls\": [{\"url\": \"http://t.co/x5Vr8HWFxj\", \"indices\": [0, 22], \"expanded_url\": \"http://facebook.com/christian.harrison\", \"display_url\": \"facebook.com/christian.harr\\u2026\"}]}, \"description\": {\"urls\": []}}, \"followers_count\": 1377, \"profile_sidebar_border_color\": \"000000\", \"id_str\": \"614\", \"profile_background_color\": \"1A1B1F\", \"listed_count\": 39, \"is_translation_enabled\": false, \"utc_offset\": 12600, \"statuses_count\": 7894, \"description\": \"Urban enthusiast, professional storyteller, man of faith.\", \"friends_count\": 1931, \"location\": \"Salt Lake City, UT\", \"profile_link_color\": \"2FC2EF\", \"profile_image_url\": \"http://pbs.twimg.com/profile_images/465965547855679488/ONqxqGvL_normal.jpeg\", \"following\": false, \"geo_enabled\": true, \"profile_banner_url\": \"https://pbs.twimg.com/profile_banners/614/1365311832\", \"profile_background_image_url\": \"http://abs.twimg.com/images/themes/theme9/bg.gif\", \"name\": \"Christian Harrison\", \"lang\": \"en\", \"profile_background_tile\": false, \"favourites_count\": 83, \"screen_name\": \"dcharrison\", \"notifications\": false, \"url\": \"http://t.co/x5Vr8HWFxj\", \"created_at\": \"Thu Jul 13 20:30:05 +0000 2006\", \"contributors_enabled\": false, \"time_zone\": \"Tehran\", \"protected\": false, \"default_profile\": false, \"is_translator\": false}, \"geo\": null, \"in_reply_to_user_id_str\": null, \"possibly_sensitive\": false, \"lang\": \"en\", \"created_at\": \"Mon Oct 06 05:34:52 +0000 2014\", \"in_reply_to_status_id_str\": null, \"place\": null}, {\"contributors\": null, \"truncated\": false, \"text\": \"For my friends in the Bay Area\\u2026 http://t.co/OU3QYNO6h7\", \"in_reply_to_status_id\": null, \"id\": 518841077626056705, \"favorite_count\": 0, \"source\": \"<a href=\\\"http://www.facebook.com/twitter\\\" rel=\\\"nofollow\\\">Facebook</a>\", \"retweeted\": false, \"coordinates\": null, \"entities\": {\"symbols\": [], \"user_mentions\": [], \"hashtags\": [], \"urls\": [{\"url\": \"http://t.co/OU3QYNO6h7\", \"indices\": [32, 54], \"expanded_url\": \"http://fb.me/79lGuiqiu\", \"display_url\": \"fb.me/79lGuiqiu\"}]}, \"in_reply_to_screen_name\": null, \"id_str\": \"518841077626056705\", \"retweet_count\": 0, \"in_reply_to_user_id\": null, \"favorited\": false, \"user\": {\"follow_request_sent\": false, \"profile_use_background_image\": false, \"profile_text_color\": \"666666\", \"default_profile_image\": false, \"id\": 614, \"profile_background_image_url_https\": \"https://abs.twimg.com/images/themes/theme9/bg.gif\", \"verified\": false, \"profile_location\": null, \"profile_image_url_https\": \"https://pbs.twimg.com/profile_images/465965547855679488/ONqxqGvL_normal.jpeg\", \"profile_sidebar_fill_color\": \"252429\", \"entities\": {\"url\": {\"urls\": [{\"url\": \"http://t.co/x5Vr8HWFxj\", \"indices\": [0, 22], \"expanded_url\": \"http://facebook.com/christian.harrison\", \"display_url\": \"facebook.com/christian.harr\\u2026\"}]}, \"description\": {\"urls\": []}}, \"followers_count\": 1377, \"profile_sidebar_border_color\": \"000000\", \"id_str\": \"614\", \"profile_background_color\": \"1A1B1F\", \"listed_count\": 39, \"is_translation_enabled\": false, \"utc_offset\": 12600, \"statuses_count\": 7894, \"description\": \"Urban enthusiast, professional storyteller, man of faith.\", \"friends_count\": 1931, \"location\": \"Salt Lake City, UT\", \"profile_link_color\": \"2FC2EF\", \"profile_image_url\": \"http://pbs.twimg.com/profile_images/465965547855679488/ONqxqGvL_normal.jpeg\", \"following\": false, \"geo_enabled\": true, \"profile_banner_url\": \"https://pbs.twimg.com/profile_banners/614/1365311832\", \"profile_background_image_url\": \"http://abs.twimg.com/images/themes/theme9/bg.gif\", \"name\": \"Christian Harrison\", \"lang\": \"en\", \"profile_background_tile\": false, \"favourites_count\": 83, \"screen_name\": \"dcharrison\", \"notifications\": false, \"url\": \"http://t.co/x5Vr8HWFxj\", \"created_at\": \"Thu Jul 13 20:30:05 +0000 2006\", \"contributors_enabled\": false, \"time_zone\": \"Tehran\", \"protected\": false, \"default_profile\": false, \"is_translator\": false}, \"geo\": null, \"in_reply_to_user_id_str\": null, \"possibly_sensitive\": false, \"lang\": \"en\", \"created_at\": \"Sun Oct 05 19:12:07 +0000 2014\", \"in_reply_to_status_id_str\": null, \"place\": null}, {\"contributors\": null, \"truncated\": false, \"text\": \"Goose bumps! http://t.co/0xFCH8pS8e\", \"in_reply_to_status_id\": null, \"id\": 518833205752123392, \"favorite_count\": 0, \"source\": \"<a href=\\\"http://www.facebook.com/twitter\\\" rel=\\\"nofollow\\\">Facebook</a>\", \"retweeted\": false, \"coordinates\": null, \"entities\": {\"symbols\": [], \"user_mentions\": [], \"hashtags\": [], \"urls\": [{\"url\": \"http://t.co/0xFCH8pS8e\", \"indices\": [13, 35], \"expanded_url\": \"http://fb.me/3h6Blki9s\", \"display_url\": \"fb.me/3h6Blki9s\"}]}, \"in_reply_to_screen_name\": null, \"id_str\": \"518833205752123392\", \"retweet_count\": 0, \"in_reply_to_user_id\": null, \"favorited\": false, \"user\": {\"follow_request_sent\": false, \"profile_use_background_image\": false, \"profile_text_color\": \"666666\", \"default_profile_image\": false, \"id\": 614, \"profile_background_image_url_https\": \"https://abs.twimg.com/images/themes/theme9/bg.gif\", \"verified\": false, \"profile_location\": null, \"profile_image_url_https\": \"https://pbs.twimg.com/profile_images/465965547855679488/ONqxqGvL_normal.jpeg\", \"profile_sidebar_fill_color\": \"252429\", \"entities\": {\"url\": {\"urls\": [{\"url\": \"http://t.co/x5Vr8HWFxj\", \"indices\": [0, 22], \"expanded_url\": \"http://facebook.com/christian.harrison\", \"display_url\": \"facebook.com/christian.harr\\u2026\"}]}, \"description\": {\"urls\": []}}, \"followers_count\": 1377, \"profile_sidebar_border_color\": \"000000\", \"id_str\": \"614\", \"profile_background_color\": \"1A1B1F\", \"listed_count\": 39, \"is_translation_enabled\": false, \"utc_offset\": 12600, \"statuses_count\": 7894, \"description\": \"Urban enthusiast, professional storyteller, man of faith.\", \"friends_count\": 1931, \"location\": \"Salt Lake City, UT\", \"profile_link_color\": \"2FC2EF\", \"profile_image_url\": \"http://pbs.twimg.com/profile_images/465965547855679488/ONqxqGvL_normal.jpeg\", \"following\": false, \"geo_enabled\": true, \"profile_banner_url\": \"https://pbs.twimg.com/profile_banners/614/1365311832\", \"profile_background_image_url\": \"http://abs.twimg.com/images/themes/theme9/bg.gif\", \"name\": \"Christian Harrison\", \"lang\": \"en\", \"profile_background_tile\": false, \"favourites_count\": 83, \"screen_name\": \"dcharrison\", \"notifications\": false, \"url\": \"http://t.co/x5Vr8HWFxj\", \"created_at\": \"Thu Jul 13 20:30:05 +0000 2006\", \"contributors_enabled\": false, \"time_zone\": \"Tehran\", \"protected\": false, \"default_profile\": false, \"is_translator\": false}, \"geo\": null, \"in_reply_to_user_id_str\": null, \"possibly_sensitive\": false, \"lang\": \"en\", \"created_at\": \"Sun Oct 05 18:40:50 +0000 2014\", \"in_reply_to_status_id_str\": null, \"place\": null}, {\"contributors\": null, \"truncated\": false, \"text\": \"A PSA for my cooking friends\\u2026 http://t.co/Kzp68ZWg7I\", \"in_reply_to_status_id\": null, \"id\": 518761108971483136, \"favorite_count\": 0, \"source\": \"<a href=\\\"http://www.facebook.com/twitter\\\" rel=\\\"nofollow\\\">Facebook</a>\", \"retweeted\": false, \"coordinates\": null, \"entities\": {\"symbols\": [], \"user_mentions\": [], \"hashtags\": [], \"urls\": [{\"url\": \"http://t.co/Kzp68ZWg7I\", \"indices\": [30, 52], \"expanded_url\": \"http://fb.me/1tEGS1YR6\", \"display_url\": \"fb.me/1tEGS1YR6\"}]}, \"in_reply_to_screen_name\": null, \"id_str\": \"518761108971483136\", \"retweet_count\": 0, \"in_reply_to_user_id\": null, \"favorited\": false, \"user\": {\"follow_request_sent\": false, \"profile_use_background_image\": false, \"profile_text_color\": \"666666\", \"default_profile_image\": false, \"id\": 614, \"profile_background_image_url_https\": \"https://abs.twimg.com/images/themes/theme9/bg.gif\", \"verified\": false, \"profile_location\": null, \"profile_image_url_https\": \"https://pbs.twimg.com/profile_images/465965547855679488/ONqxqGvL_normal.jpeg\", \"profile_sidebar_fill_color\": \"252429\", \"entities\": {\"url\": {\"urls\": [{\"url\": \"http://t.co/x5Vr8HWFxj\", \"indices\": [0, 22], \"expanded_url\": \"http://facebook.com/christian.harrison\", \"display_url\": \"facebook.com/christian.harr\\u2026\"}]}, \"description\": {\"urls\": []}}, \"followers_count\": 1377, \"profile_sidebar_border_color\": \"000000\", \"id_str\": \"614\", \"profile_background_color\": \"1A1B1F\", \"listed_count\": 39, \"is_translation_enabled\": false, \"utc_offset\": 12600, \"statuses_count\": 7894, \"description\": \"Urban enthusiast, professional storyteller, man of faith.\", \"friends_count\": 1931, \"location\": \"Salt Lake City, UT\", \"profile_link_color\": \"2FC2EF\", \"profile_image_url\": \"http://pbs.twimg.com/profile_images/465965547855679488/ONqxqGvL_normal.jpeg\", \"following\": false, \"geo_enabled\": true, \"profile_banner_url\": \"https://pbs.twimg.com/profile_banners/614/1365311832\", \"profile_background_image_url\": \"http://abs.twimg.com/images/themes/theme9/bg.gif\", \"name\": \"Christian Harrison\", \"lang\": \"en\", \"profile_background_tile\": false, \"favourites_count\": 83, \"screen_name\": \"dcharrison\", \"notifications\": false, \"url\": \"http://t.co/x5Vr8HWFxj\", \"created_at\": \"Thu Jul 13 20:30:05 +0000 2006\", \"contributors_enabled\": false, \"time_zone\": \"Tehran\", \"protected\": false, \"default_profile\": false, \"is_translator\": false}, \"geo\": null, \"in_reply_to_user_id_str\": null, \"possibly_sensitive\": false, \"lang\": \"en\", \"created_at\": \"Sun Oct 05 13:54:21 +0000 2014\", \"in_reply_to_status_id_str\": null, \"place\": null}, {\"contributors\": null, \"truncated\": false, \"text\": \"Amen. http://t.co/RPmEV77NO3\", \"in_reply_to_status_id\": null, \"id\": 518497766042271745, \"favorite_count\": 1, \"source\": \"<a href=\\\"http://www.facebook.com/twitter\\\" rel=\\\"nofollow\\\">Facebook</a>\", \"retweeted\": false, \"coordinates\": null, \"entities\": {\"symbols\": [], \"user_mentions\": [], \"hashtags\": [], \"urls\": [{\"url\": \"http://t.co/RPmEV77NO3\", \"indices\": [6, 28], \"expanded_url\": \"http://fb.me/3sq0j89NZ\", \"display_url\": \"fb.me/3sq0j89NZ\"}]}, \"in_reply_to_screen_name\": null, \"id_str\": \"518497766042271745\", \"retweet_count\": 0, \"in_reply_to_user_id\": null, \"favorited\": false, \"user\": {\"follow_request_sent\": false, \"profile_use_background_image\": false, \"profile_text_color\": \"666666\", \"default_profile_image\": false, \"id\": 614, \"profile_background_image_url_https\": \"https://abs.twimg.com/images/themes/theme9/bg.gif\", \"verified\": false, \"profile_location\": null, \"profile_image_url_https\": \"https://pbs.twimg.com/profile_images/465965547855679488/ONqxqGvL_normal.jpeg\", \"profile_sidebar_fill_color\": \"252429\", \"entities\": {\"url\": {\"urls\": [{\"url\": \"http://t.co/x5Vr8HWFxj\", \"indices\": [0, 22], \"expanded_url\": \"http://facebook.com/christian.harrison\", \"display_url\": \"facebook.com/christian.harr\\u2026\"}]}, \"description\": {\"urls\": []}}, \"followers_count\": 1377, \"profile_sidebar_border_color\": \"000000\", \"id_str\": \"614\", \"profile_background_color\": \"1A1B1F\", \"listed_count\": 39, \"is_translation_enabled\": false, \"utc_offset\": 12600, \"statuses_count\": 7894, \"description\": \"Urban enthusiast, professional storyteller, man of faith.\", \"friends_count\": 1931, \"location\": \"Salt Lake City, UT\", \"profile_link_color\": \"2FC2EF\", \"profile_image_url\": \"http://pbs.twimg.com/profile_images/465965547855679488/ONqxqGvL_normal.jpeg\", \"following\": false, \"geo_enabled\": true, \"profile_banner_url\": \"https://pbs.twimg.com/profile_banners/614/1365311832\", \"profile_background_image_url\": \"http://abs.twimg.com/images/themes/theme9/bg.gif\", \"name\": \"Christian Harrison\", \"lang\": \"en\", \"profile_background_tile\": false, \"favourites_count\": 83, \"screen_name\": \"dcharrison\", \"notifications\": false, \"url\": \"http://t.co/x5Vr8HWFxj\", \"created_at\": \"Thu Jul 13 20:30:05 +0000 2006\", \"contributors_enabled\": false, \"time_zone\": \"Tehran\", \"protected\": false, \"default_profile\": false, \"is_translator\": false}, \"geo\": null, \"in_reply_to_user_id_str\": null, \"possibly_sensitive\": false, \"lang\": \"en\", \"created_at\": \"Sat Oct 04 20:27:55 +0000 2014\", \"in_reply_to_status_id_str\": null, \"place\": null}, {\"contributors\": null, \"truncated\": false, \"text\": \"Don't Obey These Silly, Outdated Grammar Rules Anymore http://t.co/yI1LT8XyN2\", \"in_reply_to_status_id\": null, \"id\": 518452121767645184, \"favorite_count\": 2, \"source\": \"<a href=\\\"http://www.facebook.com/twitter\\\" rel=\\\"nofollow\\\">Facebook</a>\", \"retweeted\": false, \"coordinates\": null, \"entities\": {\"symbols\": [], \"user_mentions\": [], \"hashtags\": [], \"urls\": [{\"url\": \"http://t.co/yI1LT8XyN2\", \"indices\": [55, 77], \"expanded_url\": \"http://fb.me/6tjmDpNky\", \"display_url\": \"fb.me/6tjmDpNky\"}]}, \"in_reply_to_screen_name\": null, \"id_str\": \"518452121767645184\", \"retweet_count\": 0, \"in_reply_to_user_id\": null, \"favorited\": false, \"user\": {\"follow_request_sent\": false, \"profile_use_background_image\": false, \"profile_text_color\": \"666666\", \"default_profile_image\": false, \"id\": 614, \"profile_background_image_url_https\": \"https://abs.twimg.com/images/themes/theme9/bg.gif\", \"verified\": false, \"profile_location\": null, \"profile_image_url_https\": \"https://pbs.twimg.com/profile_images/465965547855679488/ONqxqGvL_normal.jpeg\", \"profile_sidebar_fill_color\": \"252429\", \"entities\": {\"url\": {\"urls\": [{\"url\": \"http://t.co/x5Vr8HWFxj\", \"indices\": [0, 22], \"expanded_url\": \"http://facebook.com/christian.harrison\", \"display_url\": \"facebook.com/christian.harr\\u2026\"}]}, \"description\": {\"urls\": []}}, \"followers_count\": 1377, \"profile_sidebar_border_color\": \"000000\", \"id_str\": \"614\", \"profile_background_color\": \"1A1B1F\", \"listed_count\": 39, \"is_translation_enabled\": false, \"utc_offset\": 12600, \"statuses_count\": 7894, \"description\": \"Urban enthusiast, professional storyteller, man of faith.\", \"friends_count\": 1931, \"location\": \"Salt Lake City, UT\", \"profile_link_color\": \"2FC2EF\", \"profile_image_url\": \"http://pbs.twimg.com/profile_images/465965547855679488/ONqxqGvL_normal.jpeg\", \"following\": false, \"geo_enabled\": true, \"profile_banner_url\": \"https://pbs.twimg.com/profile_banners/614/1365311832\", \"profile_background_image_url\": \"http://abs.twimg.com/images/themes/theme9/bg.gif\", \"name\": \"Christian Harrison\", \"lang\": \"en\", \"profile_background_tile\": false, \"favourites_count\": 83, \"screen_name\": \"dcharrison\", \"notifications\": false, \"url\": \"http://t.co/x5Vr8HWFxj\", \"created_at\": \"Thu Jul 13 20:30:05 +0000 2006\", \"contributors_enabled\": false, \"time_zone\": \"Tehran\", \"protected\": false, \"default_profile\": false, \"is_translator\": false}, \"geo\": null, \"in_reply_to_user_id_str\": null, \"possibly_sensitive\": false, \"lang\": \"en\", \"created_at\": \"Sat Oct 04 17:26:32 +0000 2014\", \"in_reply_to_status_id_str\": null, \"place\": null}, {\"contributors\": null, \"truncated\": false, \"text\": \"Something in this really resonated with me.\\n\\nNow to just find a husband to test it with. http://t.co/3Ib8vDBdPh\", \"in_reply_to_status_id\": null, \"id\": 518171295620419584, \"favorite_count\": 0, \"source\": \"<a href=\\\"http://www.facebook.com/twitter\\\" rel=\\\"nofollow\\\">Facebook</a>\", \"retweeted\": false, \"coordinates\": null, \"entities\": {\"symbols\": [], \"user_mentions\": [], \"hashtags\": [], \"urls\": [{\"url\": \"http://t.co/3Ib8vDBdPh\", \"indices\": [89, 111], \"expanded_url\": \"http://fb.me/3toHnZxW0\", \"display_url\": \"fb.me/3toHnZxW0\"}]}, \"in_reply_to_screen_name\": null, \"id_str\": \"518171295620419584\", \"retweet_count\": 0, \"in_reply_to_user_id\": null, \"favorited\": false, \"user\": {\"follow_request_sent\": false, \"profile_use_background_image\": false, \"profile_text_color\": \"666666\", \"default_profile_image\": false, \"id\": 614, \"profile_background_image_url_https\": \"https://abs.twimg.com/images/themes/theme9/bg.gif\", \"verified\": false, \"profile_location\": null, \"profile_image_url_https\": \"https://pbs.twimg.com/profile_images/465965547855679488/ONqxqGvL_normal.jpeg\", \"profile_sidebar_fill_color\": \"252429\", \"entities\": {\"url\": {\"urls\": [{\"url\": \"http://t.co/x5Vr8HWFxj\", \"indices\": [0, 22], \"expanded_url\": \"http://facebook.com/christian.harrison\", \"display_url\": \"facebook.com/christian.harr\\u2026\"}]}, \"description\": {\"urls\": []}}, \"followers_count\": 1377, \"profile_sidebar_border_color\": \"000000\", \"id_str\": \"614\", \"profile_background_color\": \"1A1B1F\", \"listed_count\": 39, \"is_translation_enabled\": false, \"utc_offset\": 12600, \"statuses_count\": 7894, \"description\": \"Urban enthusiast, professional storyteller, man of faith.\", \"friends_count\": 1931, \"location\": \"Salt Lake City, UT\", \"profile_link_color\": \"2FC2EF\", \"profile_image_url\": \"http://pbs.twimg.com/profile_images/465965547855679488/ONqxqGvL_normal.jpeg\", \"following\": false, \"geo_enabled\": true, \"profile_banner_url\": \"https://pbs.twimg.com/profile_banners/614/1365311832\", \"profile_background_image_url\": \"http://abs.twimg.com/images/themes/theme9/bg.gif\", \"name\": \"Christian Harrison\", \"lang\": \"en\", \"profile_background_tile\": false, \"favourites_count\": 83, \"screen_name\": \"dcharrison\", \"notifications\": false, \"url\": \"http://t.co/x5Vr8HWFxj\", \"created_at\": \"Thu Jul 13 20:30:05 +0000 2006\", \"contributors_enabled\": false, \"time_zone\": \"Tehran\", \"protected\": false, \"default_profile\": false, \"is_translator\": false}, \"geo\": null, \"in_reply_to_user_id_str\": null, \"possibly_sensitive\": false, \"lang\": \"en\", \"created_at\": \"Fri Oct 03 22:50:38 +0000 2014\", \"in_reply_to_status_id_str\": null, \"place\": null}, {\"contributors\": null, \"truncated\": false, \"text\": \"Are you interested in adoption or in fostering children in crisis?\\n\\nNext Wednesday evening at 7pm, we'll be... http://t.co/h0vFnbvWz3\", \"in_reply_to_status_id\": null, \"id\": 518113351294271488, \"favorite_count\": 1, \"source\": \"<a href=\\\"http://www.facebook.com/twitter\\\" rel=\\\"nofollow\\\">Facebook</a>\", \"retweeted\": false, \"coordinates\": null, \"entities\": {\"symbols\": [], \"user_mentions\": [], \"hashtags\": [], \"urls\": [{\"url\": \"http://t.co/h0vFnbvWz3\", \"indices\": [111, 133], \"expanded_url\": \"http://fb.me/3isk3Mch9\", \"display_url\": \"fb.me/3isk3Mch9\"}]}, \"in_reply_to_screen_name\": null, \"id_str\": \"518113351294271488\", \"retweet_count\": 0, \"in_reply_to_user_id\": null, \"favorited\": false, \"user\": {\"follow_request_sent\": false, \"profile_use_background_image\": false, \"profile_text_color\": \"666666\", \"default_profile_image\": false, \"id\": 614, \"profile_background_image_url_https\": \"https://abs.twimg.com/images/themes/theme9/bg.gif\", \"verified\": false, \"profile_location\": null, \"profile_image_url_https\": \"https://pbs.twimg.com/profile_images/465965547855679488/ONqxqGvL_normal.jpeg\", \"profile_sidebar_fill_color\": \"252429\", \"entities\": {\"url\": {\"urls\": [{\"url\": \"http://t.co/x5Vr8HWFxj\", \"indices\": [0, 22], \"expanded_url\": \"http://facebook.com/christian.harrison\", \"display_url\": \"facebook.com/christian.harr\\u2026\"}]}, \"description\": {\"urls\": []}}, \"followers_count\": 1377, \"profile_sidebar_border_color\": \"000000\", \"id_str\": \"614\", \"profile_background_color\": \"1A1B1F\", \"listed_count\": 39, \"is_translation_enabled\": false, \"utc_offset\": 12600, \"statuses_count\": 7894, \"description\": \"Urban enthusiast, professional storyteller, man of faith.\", \"friends_count\": 1931, \"location\": \"Salt Lake City, UT\", \"profile_link_color\": \"2FC2EF\", \"profile_image_url\": \"http://pbs.twimg.com/profile_images/465965547855679488/ONqxqGvL_normal.jpeg\", \"following\": false, \"geo_enabled\": true, \"profile_banner_url\": \"https://pbs.twimg.com/profile_banners/614/1365311832\", \"profile_background_image_url\": \"http://abs.twimg.com/images/themes/theme9/bg.gif\", \"name\": \"Christian Harrison\", \"lang\": \"en\", \"profile_background_tile\": false, \"favourites_count\": 83, \"screen_name\": \"dcharrison\", \"notifications\": false, \"url\": \"http://t.co/x5Vr8HWFxj\", \"created_at\": \"Thu Jul 13 20:30:05 +0000 2006\", \"contributors_enabled\": false, \"time_zone\": \"Tehran\", \"protected\": false, \"default_profile\": false, \"is_translator\": false}, \"geo\": null, \"in_reply_to_user_id_str\": null, \"possibly_sensitive\": false, \"lang\": \"en\", \"created_at\": \"Fri Oct 03 19:00:23 +0000 2014\", \"in_reply_to_status_id_str\": null, \"place\": null}, {\"contributors\": null, \"truncated\": false, \"text\": \"Worth careful consideration\\u2026 http://t.co/fh7pd33imh\", \"in_reply_to_status_id\": null, \"id\": 518073109573038081, \"favorite_count\": 0, \"source\": \"<a href=\\\"http://www.facebook.com/twitter\\\" rel=\\\"nofollow\\\">Facebook</a>\", \"retweeted\": false, \"coordinates\": null, \"entities\": {\"symbols\": [], \"user_mentions\": [], \"hashtags\": [], \"urls\": [{\"url\": \"http://t.co/fh7pd33imh\", \"indices\": [29, 51], \"expanded_url\": \"http://fb.me/6m4rO5xQ3\", \"display_url\": \"fb.me/6m4rO5xQ3\"}]}, \"in_reply_to_screen_name\": null, \"id_str\": \"518073109573038081\", \"retweet_count\": 0, \"in_reply_to_user_id\": null, \"favorited\": false, \"user\": {\"follow_request_sent\": false, \"profile_use_background_image\": false, \"profile_text_color\": \"666666\", \"default_profile_image\": false, \"id\": 614, \"profile_background_image_url_https\": \"https://abs.twimg.com/images/themes/theme9/bg.gif\", \"verified\": false, \"profile_location\": null, \"profile_image_url_https\": \"https://pbs.twimg.com/profile_images/465965547855679488/ONqxqGvL_normal.jpeg\", \"profile_sidebar_fill_color\": \"252429\", \"entities\": {\"url\": {\"urls\": [{\"url\": \"http://t.co/x5Vr8HWFxj\", \"indices\": [0, 22], \"expanded_url\": \"http://facebook.com/christian.harrison\", \"display_url\": \"facebook.com/christian.harr\\u2026\"}]}, \"description\": {\"urls\": []}}, \"followers_count\": 1377, \"profile_sidebar_border_color\": \"000000\", \"id_str\": \"614\", \"profile_background_color\": \"1A1B1F\", \"listed_count\": 39, \"is_translation_enabled\": false, \"utc_offset\": 12600, \"statuses_count\": 7894, \"description\": \"Urban enthusiast, professional storyteller, man of faith.\", \"friends_count\": 1931, \"location\": \"Salt Lake City, UT\", \"profile_link_color\": \"2FC2EF\", \"profile_image_url\": \"http://pbs.twimg.com/profile_images/465965547855679488/ONqxqGvL_normal.jpeg\", \"following\": false, \"geo_enabled\": true, \"profile_banner_url\": \"https://pbs.twimg.com/profile_banners/614/1365311832\", \"profile_background_image_url\": \"http://abs.twimg.com/images/themes/theme9/bg.gif\", \"name\": \"Christian Harrison\", \"lang\": \"en\", \"profile_background_tile\": false, \"favourites_count\": 83, \"screen_name\": \"dcharrison\", \"notifications\": false, \"url\": \"http://t.co/x5Vr8HWFxj\", \"created_at\": \"Thu Jul 13 20:30:05 +0000 2006\", \"contributors_enabled\": false, \"time_zone\": \"Tehran\", \"protected\": false, \"default_profile\": false, \"is_translator\": false}, \"geo\": null, \"in_reply_to_user_id_str\": null, \"possibly_sensitive\": false, \"lang\": \"en\", \"created_at\": \"Fri Oct 03 16:20:29 +0000 2014\", \"in_reply_to_status_id_str\": null, \"place\": null}, {\"contributors\": null, \"truncated\": false, \"text\": \"Better than the original.\\n\\nhttps://t.co/rs2bHYd2WR http://t.co/rHFuKF4t2c\", \"in_reply_to_status_id\": null, \"id\": 517872725785067521, \"favorite_count\": 0, \"source\": \"<a href=\\\"http://www.facebook.com/twitter\\\" rel=\\\"nofollow\\\">Facebook</a>\", \"retweeted\": false, \"coordinates\": null, \"entities\": {\"symbols\": [], \"user_mentions\": [], \"hashtags\": [], \"urls\": [{\"url\": \"https://t.co/rs2bHYd2WR\", \"indices\": [27, 50], \"expanded_url\": \"https://www.youtube.com/watch?v=iyTTX6Wlf1Y#t=220\", \"display_url\": \"youtube.com/watch?v=iyTTX6\\u2026\"}, {\"url\": \"http://t.co/rHFuKF4t2c\", \"indices\": [51, 73], \"expanded_url\": \"http://fb.me/3yrm26xLP\", \"display_url\": \"fb.me/3yrm26xLP\"}]}, \"in_reply_to_screen_name\": null, \"id_str\": \"517872725785067521\", \"retweet_count\": 0, \"in_reply_to_user_id\": null, \"favorited\": false, \"user\": {\"follow_request_sent\": false, \"profile_use_background_image\": false, \"profile_text_color\": \"666666\", \"default_profile_image\": false, \"id\": 614, \"profile_background_image_url_https\": \"https://abs.twimg.com/images/themes/theme9/bg.gif\", \"verified\": false, \"profile_location\": null, \"profile_image_url_https\": \"https://pbs.twimg.com/profile_images/465965547855679488/ONqxqGvL_normal.jpeg\", \"profile_sidebar_fill_color\": \"252429\", \"entities\": {\"url\": {\"urls\": [{\"url\": \"http://t.co/x5Vr8HWFxj\", \"indices\": [0, 22], \"expanded_url\": \"http://facebook.com/christian.harrison\", \"display_url\": \"facebook.com/christian.harr\\u2026\"}]}, \"description\": {\"urls\": []}}, \"followers_count\": 1377, \"profile_sidebar_border_color\": \"000000\", \"id_str\": \"614\", \"profile_background_color\": \"1A1B1F\", \"listed_count\": 39, \"is_translation_enabled\": false, \"utc_offset\": 12600, \"statuses_count\": 7894, \"description\": \"Urban enthusiast, professional storyteller, man of faith.\", \"friends_count\": 1931, \"location\": \"Salt Lake City, UT\", \"profile_link_color\": \"2FC2EF\", \"profile_image_url\": \"http://pbs.twimg.com/profile_images/465965547855679488/ONqxqGvL_normal.jpeg\", \"following\": false, \"geo_enabled\": true, \"profile_banner_url\": \"https://pbs.twimg.com/profile_banners/614/1365311832\", \"profile_background_image_url\": \"http://abs.twimg.com/images/themes/theme9/bg.gif\", \"name\": \"Christian Harrison\", \"lang\": \"en\", \"profile_background_tile\": false, \"favourites_count\": 83, \"screen_name\": \"dcharrison\", \"notifications\": false, \"url\": \"http://t.co/x5Vr8HWFxj\", \"created_at\": \"Thu Jul 13 20:30:05 +0000 2006\", \"contributors_enabled\": false, \"time_zone\": \"Tehran\", \"protected\": false, \"default_profile\": false, \"is_translator\": false}, \"geo\": null, \"in_reply_to_user_id_str\": null, \"possibly_sensitive\": false, \"lang\": \"en\", \"created_at\": \"Fri Oct 03 03:04:14 +0000 2014\", \"in_reply_to_status_id_str\": null, \"place\": null}, {\"contributors\": null, \"truncated\": false, \"text\": \"Duke got shivved. http://t.co/dkW86nK7Ik\", \"in_reply_to_status_id\": null, \"id\": 517846306036129792, \"favorite_count\": 0, \"source\": \"<a href=\\\"http://www.facebook.com/twitter\\\" rel=\\\"nofollow\\\">Facebook</a>\", \"retweeted\": false, \"coordinates\": null, \"entities\": {\"symbols\": [], \"user_mentions\": [], \"hashtags\": [], \"urls\": [{\"url\": \"http://t.co/dkW86nK7Ik\", \"indices\": [18, 40], \"expanded_url\": \"http://fb.me/12wfPRXCO\", \"display_url\": \"fb.me/12wfPRXCO\"}]}, \"in_reply_to_screen_name\": null, \"id_str\": \"517846306036129792\", \"retweet_count\": 0, \"in_reply_to_user_id\": null, \"favorited\": false, \"user\": {\"follow_request_sent\": false, \"profile_use_background_image\": false, \"profile_text_color\": \"666666\", \"default_profile_image\": false, \"id\": 614, \"profile_background_image_url_https\": \"https://abs.twimg.com/images/themes/theme9/bg.gif\", \"verified\": false, \"profile_location\": null, \"profile_image_url_https\": \"https://pbs.twimg.com/profile_images/465965547855679488/ONqxqGvL_normal.jpeg\", \"profile_sidebar_fill_color\": \"252429\", \"entities\": {\"url\": {\"urls\": [{\"url\": \"http://t.co/x5Vr8HWFxj\", \"indices\": [0, 22], \"expanded_url\": \"http://facebook.com/christian.harrison\", \"display_url\": \"facebook.com/christian.harr\\u2026\"}]}, \"description\": {\"urls\": []}}, \"followers_count\": 1377, \"profile_sidebar_border_color\": \"000000\", \"id_str\": \"614\", \"profile_background_color\": \"1A1B1F\", \"listed_count\": 39, \"is_translation_enabled\": false, \"utc_offset\": 12600, \"statuses_count\": 7894, \"description\": \"Urban enthusiast, professional storyteller, man of faith.\", \"friends_count\": 1931, \"location\": \"Salt Lake City, UT\", \"profile_link_color\": \"2FC2EF\", \"profile_image_url\": \"http://pbs.twimg.com/profile_images/465965547855679488/ONqxqGvL_normal.jpeg\", \"following\": false, \"geo_enabled\": true, \"profile_banner_url\": \"https://pbs.twimg.com/profile_banners/614/1365311832\", \"profile_background_image_url\": \"http://abs.twimg.com/images/themes/theme9/bg.gif\", \"name\": \"Christian Harrison\", \"lang\": \"en\", \"profile_background_tile\": false, \"favourites_count\": 83, \"screen_name\": \"dcharrison\", \"notifications\": false, \"url\": \"http://t.co/x5Vr8HWFxj\", \"created_at\": \"Thu Jul 13 20:30:05 +0000 2006\", \"contributors_enabled\": false, \"time_zone\": \"Tehran\", \"protected\": false, \"default_profile\": false, \"is_translator\": false}, \"geo\": null, \"in_reply_to_user_id_str\": null, \"possibly_sensitive\": false, \"lang\": \"no\", \"created_at\": \"Fri Oct 03 01:19:15 +0000 2014\", \"in_reply_to_status_id_str\": null, \"place\": null}, {\"contributors\": null, \"truncated\": false, \"text\": \"Well this looks interesting\\u2026 http://t.co/1UOU02Nscf\", \"in_reply_to_status_id\": null, \"id\": 517754934939226112, \"favorite_count\": 0, \"source\": \"<a href=\\\"http://www.facebook.com/twitter\\\" rel=\\\"nofollow\\\">Facebook</a>\", \"retweeted\": false, \"coordinates\": null, \"entities\": {\"symbols\": [], \"user_mentions\": [], \"hashtags\": [], \"urls\": [{\"url\": \"http://t.co/1UOU02Nscf\", \"indices\": [29, 51], \"expanded_url\": \"http://fb.me/3jSCTkakN\", \"display_url\": \"fb.me/3jSCTkakN\"}]}, \"in_reply_to_screen_name\": null, \"id_str\": \"517754934939226112\", \"retweet_count\": 0, \"in_reply_to_user_id\": null, \"favorited\": false, \"user\": {\"follow_request_sent\": false, \"profile_use_background_image\": false, \"profile_text_color\": \"666666\", \"default_profile_image\": false, \"id\": 614, \"profile_background_image_url_https\": \"https://abs.twimg.com/images/themes/theme9/bg.gif\", \"verified\": false, \"profile_location\": null, \"profile_image_url_https\": \"https://pbs.twimg.com/profile_images/465965547855679488/ONqxqGvL_normal.jpeg\", \"profile_sidebar_fill_color\": \"252429\", \"entities\": {\"url\": {\"urls\": [{\"url\": \"http://t.co/x5Vr8HWFxj\", \"indices\": [0, 22], \"expanded_url\": \"http://facebook.com/christian.harrison\", \"display_url\": \"facebook.com/christian.harr\\u2026\"}]}, \"description\": {\"urls\": []}}, \"followers_count\": 1377, \"profile_sidebar_border_color\": \"000000\", \"id_str\": \"614\", \"profile_background_color\": \"1A1B1F\", \"listed_count\": 39, \"is_translation_enabled\": false, \"utc_offset\": 12600, \"statuses_count\": 7894, \"description\": \"Urban enthusiast, professional storyteller, man of faith.\", \"friends_count\": 1931, \"location\": \"Salt Lake City, UT\", \"profile_link_color\": \"2FC2EF\", \"profile_image_url\": \"http://pbs.twimg.com/profile_images/465965547855679488/ONqxqGvL_normal.jpeg\", \"following\": false, \"geo_enabled\": true, \"profile_banner_url\": \"https://pbs.twimg.com/profile_banners/614/1365311832\", \"profile_background_image_url\": \"http://abs.twimg.com/images/themes/theme9/bg.gif\", \"name\": \"Christian Harrison\", \"lang\": \"en\", \"profile_background_tile\": false, \"favourites_count\": 83, \"screen_name\": \"dcharrison\", \"notifications\": false, \"url\": \"http://t.co/x5Vr8HWFxj\", \"created_at\": \"Thu Jul 13 20:30:05 +0000 2006\", \"contributors_enabled\": false, \"time_zone\": \"Tehran\", \"protected\": false, \"default_profile\": false, \"is_translator\": false}, \"geo\": null, \"in_reply_to_user_id_str\": null, \"possibly_sensitive\": false, \"lang\": \"en\", \"created_at\": \"Thu Oct 02 19:16:10 +0000 2014\", \"in_reply_to_status_id_str\": null, \"place\": null}, {\"contributors\": null, \"truncated\": false, \"text\": \"Another reason to only have one partner\\u2026 ;-) http://t.co/7359emaArq\", \"in_reply_to_status_id\": null, \"id\": 517682459966967808, \"favorite_count\": 0, \"source\": \"<a href=\\\"http://www.facebook.com/twitter\\\" rel=\\\"nofollow\\\">Facebook</a>\", \"retweeted\": false, \"coordinates\": null, \"entities\": {\"symbols\": [], \"user_mentions\": [], \"hashtags\": [], \"urls\": [{\"url\": \"http://t.co/7359emaArq\", \"indices\": [45, 67], \"expanded_url\": \"http://fb.me/3o79hWRlO\", \"display_url\": \"fb.me/3o79hWRlO\"}]}, \"in_reply_to_screen_name\": null, \"id_str\": \"517682459966967808\", \"retweet_count\": 0, \"in_reply_to_user_id\": null, \"favorited\": false, \"user\": {\"follow_request_sent\": false, \"profile_use_background_image\": false, \"profile_text_color\": \"666666\", \"default_profile_image\": false, \"id\": 614, \"profile_background_image_url_https\": \"https://abs.twimg.com/images/themes/theme9/bg.gif\", \"verified\": false, \"profile_location\": null, \"profile_image_url_https\": \"https://pbs.twimg.com/profile_images/465965547855679488/ONqxqGvL_normal.jpeg\", \"profile_sidebar_fill_color\": \"252429\", \"entities\": {\"url\": {\"urls\": [{\"url\": \"http://t.co/x5Vr8HWFxj\", \"indices\": [0, 22], \"expanded_url\": \"http://facebook.com/christian.harrison\", \"display_url\": \"facebook.com/christian.harr\\u2026\"}]}, \"description\": {\"urls\": []}}, \"followers_count\": 1377, \"profile_sidebar_border_color\": \"000000\", \"id_str\": \"614\", \"profile_background_color\": \"1A1B1F\", \"listed_count\": 39, \"is_translation_enabled\": false, \"utc_offset\": 12600, \"statuses_count\": 7894, \"description\": \"Urban enthusiast, professional storyteller, man of faith.\", \"friends_count\": 1931, \"location\": \"Salt Lake City, UT\", \"profile_link_color\": \"2FC2EF\", \"profile_image_url\": \"http://pbs.twimg.com/profile_images/465965547855679488/ONqxqGvL_normal.jpeg\", \"following\": false, \"geo_enabled\": true, \"profile_banner_url\": \"https://pbs.twimg.com/profile_banners/614/1365311832\", \"profile_background_image_url\": \"http://abs.twimg.com/images/themes/theme9/bg.gif\", \"name\": \"Christian Harrison\", \"lang\": \"en\", \"profile_background_tile\": false, \"favourites_count\": 83, \"screen_name\": \"dcharrison\", \"notifications\": false, \"url\": \"http://t.co/x5Vr8HWFxj\", \"created_at\": \"Thu Jul 13 20:30:05 +0000 2006\", \"contributors_enabled\": false, \"time_zone\": \"Tehran\", \"protected\": false, \"default_profile\": false, \"is_translator\": false}, \"geo\": null, \"in_reply_to_user_id_str\": null, \"possibly_sensitive\": false, \"lang\": \"en\", \"created_at\": \"Thu Oct 02 14:28:11 +0000 2014\", \"in_reply_to_status_id_str\": null, \"place\": null}, {\"contributors\": null, \"truncated\": false, \"text\": \"For Rosalynde Frandsen Welch, with love. http://t.co/7EWi6y9SKc\", \"in_reply_to_status_id\": null, \"id\": 517488618428841984, \"favorite_count\": 0, \"source\": \"<a href=\\\"http://www.facebook.com/twitter\\\" rel=\\\"nofollow\\\">Facebook</a>\", \"retweeted\": false, \"coordinates\": null, \"entities\": {\"symbols\": [], \"user_mentions\": [], \"hashtags\": [], \"urls\": [{\"url\": \"http://t.co/7EWi6y9SKc\", \"indices\": [41, 63], \"expanded_url\": \"http://fb.me/1GIlrRDxs\", \"display_url\": \"fb.me/1GIlrRDxs\"}]}, \"in_reply_to_screen_name\": null, \"id_str\": \"517488618428841984\", \"retweet_count\": 0, \"in_reply_to_user_id\": null, \"favorited\": false, \"user\": {\"follow_request_sent\": false, \"profile_use_background_image\": false, \"profile_text_color\": \"666666\", \"default_profile_image\": false, \"id\": 614, \"profile_background_image_url_https\": \"https://abs.twimg.com/images/themes/theme9/bg.gif\", \"verified\": false, \"profile_location\": null, \"profile_image_url_https\": \"https://pbs.twimg.com/profile_images/465965547855679488/ONqxqGvL_normal.jpeg\", \"profile_sidebar_fill_color\": \"252429\", \"entities\": {\"url\": {\"urls\": [{\"url\": \"http://t.co/x5Vr8HWFxj\", \"indices\": [0, 22], \"expanded_url\": \"http://facebook.com/christian.harrison\", \"display_url\": \"facebook.com/christian.harr\\u2026\"}]}, \"description\": {\"urls\": []}}, \"followers_count\": 1377, \"profile_sidebar_border_color\": \"000000\", \"id_str\": \"614\", \"profile_background_color\": \"1A1B1F\", \"listed_count\": 39, \"is_translation_enabled\": false, \"utc_offset\": 12600, \"statuses_count\": 7894, \"description\": \"Urban enthusiast, professional storyteller, man of faith.\", \"friends_count\": 1931, \"location\": \"Salt Lake City, UT\", \"profile_link_color\": \"2FC2EF\", \"profile_image_url\": \"http://pbs.twimg.com/profile_images/465965547855679488/ONqxqGvL_normal.jpeg\", \"following\": false, \"geo_enabled\": true, \"profile_banner_url\": \"https://pbs.twimg.com/profile_banners/614/1365311832\", \"profile_background_image_url\": \"http://abs.twimg.com/images/themes/theme9/bg.gif\", \"name\": \"Christian Harrison\", \"lang\": \"en\", \"profile_background_tile\": false, \"favourites_count\": 83, \"screen_name\": \"dcharrison\", \"notifications\": false, \"url\": \"http://t.co/x5Vr8HWFxj\", \"created_at\": \"Thu Jul 13 20:30:05 +0000 2006\", \"contributors_enabled\": false, \"time_zone\": \"Tehran\", \"protected\": false, \"default_profile\": false, \"is_translator\": false}, \"geo\": null, \"in_reply_to_user_id_str\": null, \"possibly_sensitive\": false, \"lang\": \"en\", \"created_at\": \"Thu Oct 02 01:37:55 +0000 2014\", \"in_reply_to_status_id_str\": null, \"place\": null}, {\"contributors\": null, \"truncated\": false, \"text\": \"Brave young man. I pray his gambit pays. http://t.co/5EFNVesyUZ\", \"in_reply_to_status_id\": null, \"id\": 517479635836104704, \"favorite_count\": 0, \"source\": \"<a href=\\\"http://www.facebook.com/twitter\\\" rel=\\\"nofollow\\\">Facebook</a>\", \"retweeted\": false, \"coordinates\": null, \"entities\": {\"symbols\": [], \"user_mentions\": [], \"hashtags\": [], \"urls\": [{\"url\": \"http://t.co/5EFNVesyUZ\", \"indices\": [41, 63], \"expanded_url\": \"http://fb.me/77tcPbpP3\", \"display_url\": \"fb.me/77tcPbpP3\"}]}, \"in_reply_to_screen_name\": null, \"id_str\": \"517479635836104704\", \"retweet_count\": 0, \"in_reply_to_user_id\": null, \"favorited\": false, \"user\": {\"follow_request_sent\": false, \"profile_use_background_image\": false, \"profile_text_color\": \"666666\", \"default_profile_image\": false, \"id\": 614, \"profile_background_image_url_https\": \"https://abs.twimg.com/images/themes/theme9/bg.gif\", \"verified\": false, \"profile_location\": null, \"profile_image_url_https\": \"https://pbs.twimg.com/profile_images/465965547855679488/ONqxqGvL_normal.jpeg\", \"profile_sidebar_fill_color\": \"252429\", \"entities\": {\"url\": {\"urls\": [{\"url\": \"http://t.co/x5Vr8HWFxj\", \"indices\": [0, 22], \"expanded_url\": \"http://facebook.com/christian.harrison\", \"display_url\": \"facebook.com/christian.harr\\u2026\"}]}, \"description\": {\"urls\": []}}, \"followers_count\": 1377, \"profile_sidebar_border_color\": \"000000\", \"id_str\": \"614\", \"profile_background_color\": \"1A1B1F\", \"listed_count\": 39, \"is_translation_enabled\": false, \"utc_offset\": 12600, \"statuses_count\": 7894, \"description\": \"Urban enthusiast, professional storyteller, man of faith.\", \"friends_count\": 1931, \"location\": \"Salt Lake City, UT\", \"profile_link_color\": \"2FC2EF\", \"profile_image_url\": \"http://pbs.twimg.com/profile_images/465965547855679488/ONqxqGvL_normal.jpeg\", \"following\": false, \"geo_enabled\": true, \"profile_banner_url\": \"https://pbs.twimg.com/profile_banners/614/1365311832\", \"profile_background_image_url\": \"http://abs.twimg.com/images/themes/theme9/bg.gif\", \"name\": \"Christian Harrison\", \"lang\": \"en\", \"profile_background_tile\": false, \"favourites_count\": 83, \"screen_name\": \"dcharrison\", \"notifications\": false, \"url\": \"http://t.co/x5Vr8HWFxj\", \"created_at\": \"Thu Jul 13 20:30:05 +0000 2006\", \"contributors_enabled\": false, \"time_zone\": \"Tehran\", \"protected\": false, \"default_profile\": false, \"is_translator\": false}, \"geo\": null, \"in_reply_to_user_id_str\": null, \"possibly_sensitive\": false, \"lang\": \"en\", \"created_at\": \"Thu Oct 02 01:02:14 +0000 2014\", \"in_reply_to_status_id_str\": null, \"place\": null}, {\"contributors\": null, \"truncated\": false, \"text\": \"My buddy, Kendal Liddle is launching a new line of high-craft leather accessories and I'm thinking more than a... http://t.co/YgHxgJtRUd\", \"in_reply_to_status_id\": null, \"id\": 517400809089150976, \"favorite_count\": 1, \"source\": \"<a href=\\\"http://www.facebook.com/twitter\\\" rel=\\\"nofollow\\\">Facebook</a>\", \"retweeted\": false, \"coordinates\": null, \"entities\": {\"symbols\": [], \"user_mentions\": [], \"hashtags\": [], \"urls\": [{\"url\": \"http://t.co/YgHxgJtRUd\", \"indices\": [114, 136], \"expanded_url\": \"http://fb.me/3Uqh8LJyU\", \"display_url\": \"fb.me/3Uqh8LJyU\"}]}, \"in_reply_to_screen_name\": null, \"id_str\": \"517400809089150976\", \"retweet_count\": 0, \"in_reply_to_user_id\": null, \"favorited\": false, \"user\": {\"follow_request_sent\": false, \"profile_use_background_image\": false, \"profile_text_color\": \"666666\", \"default_profile_image\": false, \"id\": 614, \"profile_background_image_url_https\": \"https://abs.twimg.com/images/themes/theme9/bg.gif\", \"verified\": false, \"profile_location\": null, \"profile_image_url_https\": \"https://pbs.twimg.com/profile_images/465965547855679488/ONqxqGvL_normal.jpeg\", \"profile_sidebar_fill_color\": \"252429\", \"entities\": {\"url\": {\"urls\": [{\"url\": \"http://t.co/x5Vr8HWFxj\", \"indices\": [0, 22], \"expanded_url\": \"http://facebook.com/christian.harrison\", \"display_url\": \"facebook.com/christian.harr\\u2026\"}]}, \"description\": {\"urls\": []}}, \"followers_count\": 1377, \"profile_sidebar_border_color\": \"000000\", \"id_str\": \"614\", \"profile_background_color\": \"1A1B1F\", \"listed_count\": 39, \"is_translation_enabled\": false, \"utc_offset\": 12600, \"statuses_count\": 7894, \"description\": \"Urban enthusiast, professional storyteller, man of faith.\", \"friends_count\": 1931, \"location\": \"Salt Lake City, UT\", \"profile_link_color\": \"2FC2EF\", \"profile_image_url\": \"http://pbs.twimg.com/profile_images/465965547855679488/ONqxqGvL_normal.jpeg\", \"following\": false, \"geo_enabled\": true, \"profile_banner_url\": \"https://pbs.twimg.com/profile_banners/614/1365311832\", \"profile_background_image_url\": \"http://abs.twimg.com/images/themes/theme9/bg.gif\", \"name\": \"Christian Harrison\", \"lang\": \"en\", \"profile_background_tile\": false, \"favourites_count\": 83, \"screen_name\": \"dcharrison\", \"notifications\": false, \"url\": \"http://t.co/x5Vr8HWFxj\", \"created_at\": \"Thu Jul 13 20:30:05 +0000 2006\", \"contributors_enabled\": false, \"time_zone\": \"Tehran\", \"protected\": false, \"default_profile\": false, \"is_translator\": false}, \"geo\": null, \"in_reply_to_user_id_str\": null, \"possibly_sensitive\": false, \"lang\": \"en\", \"created_at\": \"Wed Oct 01 19:49:00 +0000 2014\", \"in_reply_to_status_id_str\": null, \"place\": null}, {\"contributors\": null, \"truncated\": false, \"text\": \"A super-secret recording (shhh) from The National Parks \\u2014 disappears this evening\\u2026 http://t.co/N4vHYhJiCw\", \"in_reply_to_status_id\": null, \"id\": 517013678089322497, \"favorite_count\": 1, \"source\": \"<a href=\\\"http://www.facebook.com/twitter\\\" rel=\\\"nofollow\\\">Facebook</a>\", \"retweeted\": false, \"coordinates\": null, \"entities\": {\"symbols\": [], \"user_mentions\": [], \"hashtags\": [], \"urls\": [{\"url\": \"http://t.co/N4vHYhJiCw\", \"indices\": [83, 105], \"expanded_url\": \"http://fb.me/6Oz22XMdd\", \"display_url\": \"fb.me/6Oz22XMdd\"}]}, \"in_reply_to_screen_name\": null, \"id_str\": \"517013678089322497\", \"retweet_count\": 0, \"in_reply_to_user_id\": null, \"favorited\": false, \"user\": {\"follow_request_sent\": false, \"profile_use_background_image\": false, \"profile_text_color\": \"666666\", \"default_profile_image\": false, \"id\": 614, \"profile_background_image_url_https\": \"https://abs.twimg.com/images/themes/theme9/bg.gif\", \"verified\": false, \"profile_location\": null, \"profile_image_url_https\": \"https://pbs.twimg.com/profile_images/465965547855679488/ONqxqGvL_normal.jpeg\", \"profile_sidebar_fill_color\": \"252429\", \"entities\": {\"url\": {\"urls\": [{\"url\": \"http://t.co/x5Vr8HWFxj\", \"indices\": [0, 22], \"expanded_url\": \"http://facebook.com/christian.harrison\", \"display_url\": \"facebook.com/christian.harr\\u2026\"}]}, \"description\": {\"urls\": []}}, \"followers_count\": 1377, \"profile_sidebar_border_color\": \"000000\", \"id_str\": \"614\", \"profile_background_color\": \"1A1B1F\", \"listed_count\": 39, \"is_translation_enabled\": false, \"utc_offset\": 12600, \"statuses_count\": 7894, \"description\": \"Urban enthusiast, professional storyteller, man of faith.\", \"friends_count\": 1931, \"location\": \"Salt Lake City, UT\", \"profile_link_color\": \"2FC2EF\", \"profile_image_url\": \"http://pbs.twimg.com/profile_images/465965547855679488/ONqxqGvL_normal.jpeg\", \"following\": false, \"geo_enabled\": true, \"profile_banner_url\": \"https://pbs.twimg.com/profile_banners/614/1365311832\", \"profile_background_image_url\": \"http://abs.twimg.com/images/themes/theme9/bg.gif\", \"name\": \"Christian Harrison\", \"lang\": \"en\", \"profile_background_tile\": false, \"favourites_count\": 83, \"screen_name\": \"dcharrison\", \"notifications\": false, \"url\": \"http://t.co/x5Vr8HWFxj\", \"created_at\": \"Thu Jul 13 20:30:05 +0000 2006\", \"contributors_enabled\": false, \"time_zone\": \"Tehran\", \"protected\": false, \"default_profile\": false, \"is_translator\": false}, \"geo\": null, \"in_reply_to_user_id_str\": null, \"possibly_sensitive\": false, \"lang\": \"en\", \"created_at\": \"Tue Sep 30 18:10:41 +0000 2014\", \"in_reply_to_status_id_str\": null, \"place\": null}, {\"contributors\": null, \"truncated\": false, \"text\": \"The HivePass ending \\u2014 and I'm sad. But YOU can still sign up for a year until today (Tuesday) at 5PM! http://t.co/LPCOqaIAG3\", \"in_reply_to_status_id\": null, \"id\": 517009291296124931, \"favorite_count\": 1, \"source\": \"<a href=\\\"http://www.facebook.com/twitter\\\" rel=\\\"nofollow\\\">Facebook</a>\", \"retweeted\": false, \"coordinates\": null, \"entities\": {\"symbols\": [], \"user_mentions\": [], \"hashtags\": [], \"urls\": [{\"url\": \"http://t.co/LPCOqaIAG3\", \"indices\": [102, 124], \"expanded_url\": \"http://fb.me/3skEvhaz9\", \"display_url\": \"fb.me/3skEvhaz9\"}]}, \"in_reply_to_screen_name\": null, \"id_str\": \"517009291296124931\", \"retweet_count\": 2, \"in_reply_to_user_id\": null, \"favorited\": false, \"user\": {\"follow_request_sent\": false, \"profile_use_background_image\": false, \"profile_text_color\": \"666666\", \"default_profile_image\": false, \"id\": 614, \"profile_background_image_url_https\": \"https://abs.twimg.com/images/themes/theme9/bg.gif\", \"verified\": false, \"profile_location\": null, \"profile_image_url_https\": \"https://pbs.twimg.com/profile_images/465965547855679488/ONqxqGvL_normal.jpeg\", \"profile_sidebar_fill_color\": \"252429\", \"entities\": {\"url\": {\"urls\": [{\"url\": \"http://t.co/x5Vr8HWFxj\", \"indices\": [0, 22], \"expanded_url\": \"http://facebook.com/christian.harrison\", \"display_url\": \"facebook.com/christian.harr\\u2026\"}]}, \"description\": {\"urls\": []}}, \"followers_count\": 1377, \"profile_sidebar_border_color\": \"000000\", \"id_str\": \"614\", \"profile_background_color\": \"1A1B1F\", \"listed_count\": 39, \"is_translation_enabled\": false, \"utc_offset\": 12600, \"statuses_count\": 7894, \"description\": \"Urban enthusiast, professional storyteller, man of faith.\", \"friends_count\": 1931, \"location\": \"Salt Lake City, UT\", \"profile_link_color\": \"2FC2EF\", \"profile_image_url\": \"http://pbs.twimg.com/profile_images/465965547855679488/ONqxqGvL_normal.jpeg\", \"following\": false, \"geo_enabled\": true, \"profile_banner_url\": \"https://pbs.twimg.com/profile_banners/614/1365311832\", \"profile_background_image_url\": \"http://abs.twimg.com/images/themes/theme9/bg.gif\", \"name\": \"Christian Harrison\", \"lang\": \"en\", \"profile_background_tile\": false, \"favourites_count\": 83, \"screen_name\": \"dcharrison\", \"notifications\": false, \"url\": \"http://t.co/x5Vr8HWFxj\", \"created_at\": \"Thu Jul 13 20:30:05 +0000 2006\", \"contributors_enabled\": false, \"time_zone\": \"Tehran\", \"protected\": false, \"default_profile\": false, \"is_translator\": false}, \"geo\": null, \"in_reply_to_user_id_str\": null, \"possibly_sensitive\": false, \"lang\": \"en\", \"created_at\": \"Tue Sep 30 17:53:15 +0000 2014\", \"in_reply_to_status_id_str\": null, \"place\": null}, {\"contributors\": null, \"truncated\": false, \"text\": \"Reminds me of the \\\"Pink Moon\\\" Volkswagen ad from the 90s. Hits similar notes\\u2026 http://t.co/TchMv3v2Y2\", \"in_reply_to_status_id\": null, \"id\": 516998582663000064, \"favorite_count\": 0, \"source\": \"<a href=\\\"http://www.facebook.com/twitter\\\" rel=\\\"nofollow\\\">Facebook</a>\", \"retweeted\": false, \"coordinates\": null, \"entities\": {\"symbols\": [], \"user_mentions\": [], \"hashtags\": [], \"urls\": [{\"url\": \"http://t.co/TchMv3v2Y2\", \"indices\": [78, 100], \"expanded_url\": \"http://fb.me/6FxYHYypL\", \"display_url\": \"fb.me/6FxYHYypL\"}]}, \"in_reply_to_screen_name\": null, \"id_str\": \"516998582663000064\", \"retweet_count\": 0, \"in_reply_to_user_id\": null, \"favorited\": false, \"user\": {\"follow_request_sent\": false, \"profile_use_background_image\": false, \"profile_text_color\": \"666666\", \"default_profile_image\": false, \"id\": 614, \"profile_background_image_url_https\": \"https://abs.twimg.com/images/themes/theme9/bg.gif\", \"verified\": false, \"profile_location\": null, \"profile_image_url_https\": \"https://pbs.twimg.com/profile_images/465965547855679488/ONqxqGvL_normal.jpeg\", \"profile_sidebar_fill_color\": \"252429\", \"entities\": {\"url\": {\"urls\": [{\"url\": \"http://t.co/x5Vr8HWFxj\", \"indices\": [0, 22], \"expanded_url\": \"http://facebook.com/christian.harrison\", \"display_url\": \"facebook.com/christian.harr\\u2026\"}]}, \"description\": {\"urls\": []}}, \"followers_count\": 1377, \"profile_sidebar_border_color\": \"000000\", \"id_str\": \"614\", \"profile_background_color\": \"1A1B1F\", \"listed_count\": 39, \"is_translation_enabled\": false, \"utc_offset\": 12600, \"statuses_count\": 7894, \"description\": \"Urban enthusiast, professional storyteller, man of faith.\", \"friends_count\": 1931, \"location\": \"Salt Lake City, UT\", \"profile_link_color\": \"2FC2EF\", \"profile_image_url\": \"http://pbs.twimg.com/profile_images/465965547855679488/ONqxqGvL_normal.jpeg\", \"following\": false, \"geo_enabled\": true, \"profile_banner_url\": \"https://pbs.twimg.com/profile_banners/614/1365311832\", \"profile_background_image_url\": \"http://abs.twimg.com/images/themes/theme9/bg.gif\", \"name\": \"Christian Harrison\", \"lang\": \"en\", \"profile_background_tile\": false, \"favourites_count\": 83, \"screen_name\": \"dcharrison\", \"notifications\": false, \"url\": \"http://t.co/x5Vr8HWFxj\", \"created_at\": \"Thu Jul 13 20:30:05 +0000 2006\", \"contributors_enabled\": false, \"time_zone\": \"Tehran\", \"protected\": false, \"default_profile\": false, \"is_translator\": false}, \"geo\": null, \"in_reply_to_user_id_str\": null, \"possibly_sensitive\": false, \"lang\": \"en\", \"created_at\": \"Tue Sep 30 17:10:42 +0000 2014\", \"in_reply_to_status_id_str\": null, \"place\": null}, {\"contributors\": null, \"truncated\": false, \"text\": \"For my friends up in Ogden and Logan \\u2026 http://t.co/X4uEZTcM1c\", \"in_reply_to_status_id\": null, \"id\": 516967466309025792, \"favorite_count\": 0, \"source\": \"<a href=\\\"http://www.facebook.com/twitter\\\" rel=\\\"nofollow\\\">Facebook</a>\", \"retweeted\": false, \"coordinates\": null, \"entities\": {\"symbols\": [], \"user_mentions\": [], \"hashtags\": [], \"urls\": [{\"url\": \"http://t.co/X4uEZTcM1c\", \"indices\": [39, 61], \"expanded_url\": \"http://fb.me/2E3ZkTErE\", \"display_url\": \"fb.me/2E3ZkTErE\"}]}, \"in_reply_to_screen_name\": null, \"id_str\": \"516967466309025792\", \"retweet_count\": 0, \"in_reply_to_user_id\": null, \"favorited\": false, \"user\": {\"follow_request_sent\": false, \"profile_use_background_image\": false, \"profile_text_color\": \"666666\", \"default_profile_image\": false, \"id\": 614, \"profile_background_image_url_https\": \"https://abs.twimg.com/images/themes/theme9/bg.gif\", \"verified\": false, \"profile_location\": null, \"profile_image_url_https\": \"https://pbs.twimg.com/profile_images/465965547855679488/ONqxqGvL_normal.jpeg\", \"profile_sidebar_fill_color\": \"252429\", \"entities\": {\"url\": {\"urls\": [{\"url\": \"http://t.co/x5Vr8HWFxj\", \"indices\": [0, 22], \"expanded_url\": \"http://facebook.com/christian.harrison\", \"display_url\": \"facebook.com/christian.harr\\u2026\"}]}, \"description\": {\"urls\": []}}, \"followers_count\": 1377, \"profile_sidebar_border_color\": \"000000\", \"id_str\": \"614\", \"profile_background_color\": \"1A1B1F\", \"listed_count\": 39, \"is_translation_enabled\": false, \"utc_offset\": 12600, \"statuses_count\": 7894, \"description\": \"Urban enthusiast, professional storyteller, man of faith.\", \"friends_count\": 1931, \"location\": \"Salt Lake City, UT\", \"profile_link_color\": \"2FC2EF\", \"profile_image_url\": \"http://pbs.twimg.com/profile_images/465965547855679488/ONqxqGvL_normal.jpeg\", \"following\": false, \"geo_enabled\": true, \"profile_banner_url\": \"https://pbs.twimg.com/profile_banners/614/1365311832\", \"profile_background_image_url\": \"http://abs.twimg.com/images/themes/theme9/bg.gif\", \"name\": \"Christian Harrison\", \"lang\": \"en\", \"profile_background_tile\": false, \"favourites_count\": 83, \"screen_name\": \"dcharrison\", \"notifications\": false, \"url\": \"http://t.co/x5Vr8HWFxj\", \"created_at\": \"Thu Jul 13 20:30:05 +0000 2006\", \"contributors_enabled\": false, \"time_zone\": \"Tehran\", \"protected\": false, \"default_profile\": false, \"is_translator\": false}, \"geo\": null, \"in_reply_to_user_id_str\": null, \"possibly_sensitive\": false, \"lang\": \"en\", \"created_at\": \"Tue Sep 30 15:07:03 +0000 2014\", \"in_reply_to_status_id_str\": null, \"place\": null}, {\"contributors\": null, \"truncated\": false, \"text\": \"The National Parks KILLED it! Way to go! http://t.co/u25r1q8dBG\", \"in_reply_to_status_id\": null, \"id\": 516806017217073152, \"favorite_count\": 0, \"source\": \"<a href=\\\"http://www.facebook.com/twitter\\\" rel=\\\"nofollow\\\">Facebook</a>\", \"retweeted\": false, \"coordinates\": null, \"entities\": {\"symbols\": [], \"user_mentions\": [], \"hashtags\": [], \"urls\": [{\"url\": \"http://t.co/u25r1q8dBG\", \"indices\": [41, 63], \"expanded_url\": \"http://fb.me/77QLokcCJ\", \"display_url\": \"fb.me/77QLokcCJ\"}]}, \"in_reply_to_screen_name\": null, \"id_str\": \"516806017217073152\", \"retweet_count\": 0, \"in_reply_to_user_id\": null, \"favorited\": false, \"user\": {\"follow_request_sent\": false, \"profile_use_background_image\": false, \"profile_text_color\": \"666666\", \"default_profile_image\": false, \"id\": 614, \"profile_background_image_url_https\": \"https://abs.twimg.com/images/themes/theme9/bg.gif\", \"verified\": false, \"profile_location\": null, \"profile_image_url_https\": \"https://pbs.twimg.com/profile_images/465965547855679488/ONqxqGvL_normal.jpeg\", \"profile_sidebar_fill_color\": \"252429\", \"entities\": {\"url\": {\"urls\": [{\"url\": \"http://t.co/x5Vr8HWFxj\", \"indices\": [0, 22], \"expanded_url\": \"http://facebook.com/christian.harrison\", \"display_url\": \"facebook.com/christian.harr\\u2026\"}]}, \"description\": {\"urls\": []}}, \"followers_count\": 1377, \"profile_sidebar_border_color\": \"000000\", \"id_str\": \"614\", \"profile_background_color\": \"1A1B1F\", \"listed_count\": 39, \"is_translation_enabled\": false, \"utc_offset\": 12600, \"statuses_count\": 7894, \"description\": \"Urban enthusiast, professional storyteller, man of faith.\", \"friends_count\": 1931, \"location\": \"Salt Lake City, UT\", \"profile_link_color\": \"2FC2EF\", \"profile_image_url\": \"http://pbs.twimg.com/profile_images/465965547855679488/ONqxqGvL_normal.jpeg\", \"following\": false, \"geo_enabled\": true, \"profile_banner_url\": \"https://pbs.twimg.com/profile_banners/614/1365311832\", \"profile_background_image_url\": \"http://abs.twimg.com/images/themes/theme9/bg.gif\", \"name\": \"Christian Harrison\", \"lang\": \"en\", \"profile_background_tile\": false, \"favourites_count\": 83, \"screen_name\": \"dcharrison\", \"notifications\": false, \"url\": \"http://t.co/x5Vr8HWFxj\", \"created_at\": \"Thu Jul 13 20:30:05 +0000 2006\", \"contributors_enabled\": false, \"time_zone\": \"Tehran\", \"protected\": false, \"default_profile\": false, \"is_translator\": false}, \"geo\": null, \"in_reply_to_user_id_str\": null, \"possibly_sensitive\": false, \"lang\": \"en\", \"created_at\": \"Tue Sep 30 04:25:30 +0000 2014\", \"in_reply_to_status_id_str\": null, \"place\": null}, {\"contributors\": null, \"truncated\": false, \"text\": \"RKDN, the opener was wonderful! http://t.co/TnS3NIG5na\", \"in_reply_to_status_id\": null, \"id\": 516786286347427840, \"favorite_count\": 0, \"source\": \"<a href=\\\"http://www.facebook.com/twitter\\\" rel=\\\"nofollow\\\">Facebook</a>\", \"retweeted\": false, \"coordinates\": null, \"entities\": {\"symbols\": [], \"user_mentions\": [], \"hashtags\": [], \"urls\": [{\"url\": \"http://t.co/TnS3NIG5na\", \"indices\": [32, 54], \"expanded_url\": \"http://fb.me/1CLnCVNVI\", \"display_url\": \"fb.me/1CLnCVNVI\"}]}, \"in_reply_to_screen_name\": null, \"id_str\": \"516786286347427840\", \"retweet_count\": 0, \"in_reply_to_user_id\": null, \"favorited\": false, \"user\": {\"follow_request_sent\": false, \"profile_use_background_image\": false, \"profile_text_color\": \"666666\", \"default_profile_image\": false, \"id\": 614, \"profile_background_image_url_https\": \"https://abs.twimg.com/images/themes/theme9/bg.gif\", \"verified\": false, \"profile_location\": null, \"profile_image_url_https\": \"https://pbs.twimg.com/profile_images/465965547855679488/ONqxqGvL_normal.jpeg\", \"profile_sidebar_fill_color\": \"252429\", \"entities\": {\"url\": {\"urls\": [{\"url\": \"http://t.co/x5Vr8HWFxj\", \"indices\": [0, 22], \"expanded_url\": \"http://facebook.com/christian.harrison\", \"display_url\": \"facebook.com/christian.harr\\u2026\"}]}, \"description\": {\"urls\": []}}, \"followers_count\": 1377, \"profile_sidebar_border_color\": \"000000\", \"id_str\": \"614\", \"profile_background_color\": \"1A1B1F\", \"listed_count\": 39, \"is_translation_enabled\": false, \"utc_offset\": 12600, \"statuses_count\": 7894, \"description\": \"Urban enthusiast, professional storyteller, man of faith.\", \"friends_count\": 1931, \"location\": \"Salt Lake City, UT\", \"profile_link_color\": \"2FC2EF\", \"profile_image_url\": \"http://pbs.twimg.com/profile_images/465965547855679488/ONqxqGvL_normal.jpeg\", \"following\": false, \"geo_enabled\": true, \"profile_banner_url\": \"https://pbs.twimg.com/profile_banners/614/1365311832\", \"profile_background_image_url\": \"http://abs.twimg.com/images/themes/theme9/bg.gif\", \"name\": \"Christian Harrison\", \"lang\": \"en\", \"profile_background_tile\": false, \"favourites_count\": 83, \"screen_name\": \"dcharrison\", \"notifications\": false, \"url\": \"http://t.co/x5Vr8HWFxj\", \"created_at\": \"Thu Jul 13 20:30:05 +0000 2006\", \"contributors_enabled\": false, \"time_zone\": \"Tehran\", \"protected\": false, \"default_profile\": false, \"is_translator\": false}, \"geo\": null, \"in_reply_to_user_id_str\": null, \"possibly_sensitive\": false, \"lang\": \"en\", \"created_at\": \"Tue Sep 30 03:07:06 +0000 2014\", \"in_reply_to_status_id_str\": null, \"place\": null}, {\"contributors\": null, \"truncated\": false, \"text\": \"I see a British Federation in the cards\\u2026 http://t.co/AHUKyUmE3t\", \"in_reply_to_status_id\": null, \"id\": 516715032487665664, \"favorite_count\": 0, \"source\": \"<a href=\\\"http://www.facebook.com/twitter\\\" rel=\\\"nofollow\\\">Facebook</a>\", \"retweeted\": false, \"coordinates\": null, \"entities\": {\"symbols\": [], \"user_mentions\": [], \"hashtags\": [], \"urls\": [{\"url\": \"http://t.co/AHUKyUmE3t\", \"indices\": [41, 63], \"expanded_url\": \"http://fb.me/4aHvAMUSU\", \"display_url\": \"fb.me/4aHvAMUSU\"}]}, \"in_reply_to_screen_name\": null, \"id_str\": \"516715032487665664\", \"retweet_count\": 0, \"in_reply_to_user_id\": null, \"favorited\": false, \"user\": {\"follow_request_sent\": false, \"profile_use_background_image\": false, \"profile_text_color\": \"666666\", \"default_profile_image\": false, \"id\": 614, \"profile_background_image_url_https\": \"https://abs.twimg.com/images/themes/theme9/bg.gif\", \"verified\": false, \"profile_location\": null, \"profile_image_url_https\": \"https://pbs.twimg.com/profile_images/465965547855679488/ONqxqGvL_normal.jpeg\", \"profile_sidebar_fill_color\": \"252429\", \"entities\": {\"url\": {\"urls\": [{\"url\": \"http://t.co/x5Vr8HWFxj\", \"indices\": [0, 22], \"expanded_url\": \"http://facebook.com/christian.harrison\", \"display_url\": \"facebook.com/christian.harr\\u2026\"}]}, \"description\": {\"urls\": []}}, \"followers_count\": 1377, \"profile_sidebar_border_color\": \"000000\", \"id_str\": \"614\", \"profile_background_color\": \"1A1B1F\", \"listed_count\": 39, \"is_translation_enabled\": false, \"utc_offset\": 12600, \"statuses_count\": 7894, \"description\": \"Urban enthusiast, professional storyteller, man of faith.\", \"friends_count\": 1931, \"location\": \"Salt Lake City, UT\", \"profile_link_color\": \"2FC2EF\", \"profile_image_url\": \"http://pbs.twimg.com/profile_images/465965547855679488/ONqxqGvL_normal.jpeg\", \"following\": false, \"geo_enabled\": true, \"profile_banner_url\": \"https://pbs.twimg.com/profile_banners/614/1365311832\", \"profile_background_image_url\": \"http://abs.twimg.com/images/themes/theme9/bg.gif\", \"name\": \"Christian Harrison\", \"lang\": \"en\", \"profile_background_tile\": false, \"favourites_count\": 83, \"screen_name\": \"dcharrison\", \"notifications\": false, \"url\": \"http://t.co/x5Vr8HWFxj\", \"created_at\": \"Thu Jul 13 20:30:05 +0000 2006\", \"contributors_enabled\": false, \"time_zone\": \"Tehran\", \"protected\": false, \"default_profile\": false, \"is_translator\": false}, \"geo\": null, \"in_reply_to_user_id_str\": null, \"possibly_sensitive\": false, \"lang\": \"en\", \"created_at\": \"Mon Sep 29 22:23:58 +0000 2014\", \"in_reply_to_status_id_str\": null, \"place\": null}, {\"contributors\": null, \"truncated\": false, \"text\": \"A little science for my coffee (and tea) drinking friends\\u2026 http://t.co/YkKmoK0IJu\", \"in_reply_to_status_id\": null, \"id\": 516613080994697218, \"favorite_count\": 0, \"source\": \"<a href=\\\"http://www.facebook.com/twitter\\\" rel=\\\"nofollow\\\">Facebook</a>\", \"retweeted\": false, \"coordinates\": null, \"entities\": {\"symbols\": [], \"user_mentions\": [], \"hashtags\": [], \"urls\": [{\"url\": \"http://t.co/YkKmoK0IJu\", \"indices\": [59, 81], \"expanded_url\": \"http://fb.me/3987HqqI0\", \"display_url\": \"fb.me/3987HqqI0\"}]}, \"in_reply_to_screen_name\": null, \"id_str\": \"516613080994697218\", \"retweet_count\": 0, \"in_reply_to_user_id\": null, \"favorited\": false, \"user\": {\"follow_request_sent\": false, \"profile_use_background_image\": false, \"profile_text_color\": \"666666\", \"default_profile_image\": false, \"id\": 614, \"profile_background_image_url_https\": \"https://abs.twimg.com/images/themes/theme9/bg.gif\", \"verified\": false, \"profile_location\": null, \"profile_image_url_https\": \"https://pbs.twimg.com/profile_images/465965547855679488/ONqxqGvL_normal.jpeg\", \"profile_sidebar_fill_color\": \"252429\", \"entities\": {\"url\": {\"urls\": [{\"url\": \"http://t.co/x5Vr8HWFxj\", \"indices\": [0, 22], \"expanded_url\": \"http://facebook.com/christian.harrison\", \"display_url\": \"facebook.com/christian.harr\\u2026\"}]}, \"description\": {\"urls\": []}}, \"followers_count\": 1377, \"profile_sidebar_border_color\": \"000000\", \"id_str\": \"614\", \"profile_background_color\": \"1A1B1F\", \"listed_count\": 39, \"is_translation_enabled\": false, \"utc_offset\": 12600, \"statuses_count\": 7894, \"description\": \"Urban enthusiast, professional storyteller, man of faith.\", \"friends_count\": 1931, \"location\": \"Salt Lake City, UT\", \"profile_link_color\": \"2FC2EF\", \"profile_image_url\": \"http://pbs.twimg.com/profile_images/465965547855679488/ONqxqGvL_normal.jpeg\", \"following\": false, \"geo_enabled\": true, \"profile_banner_url\": \"https://pbs.twimg.com/profile_banners/614/1365311832\", \"profile_background_image_url\": \"http://abs.twimg.com/images/themes/theme9/bg.gif\", \"name\": \"Christian Harrison\", \"lang\": \"en\", \"profile_background_tile\": false, \"favourites_count\": 83, \"screen_name\": \"dcharrison\", \"notifications\": false, \"url\": \"http://t.co/x5Vr8HWFxj\", \"created_at\": \"Thu Jul 13 20:30:05 +0000 2006\", \"contributors_enabled\": false, \"time_zone\": \"Tehran\", \"protected\": false, \"default_profile\": false, \"is_translator\": false}, \"geo\": null, \"in_reply_to_user_id_str\": null, \"possibly_sensitive\": false, \"lang\": \"en\", \"created_at\": \"Mon Sep 29 15:38:51 +0000 2014\", \"in_reply_to_status_id_str\": null, \"place\": null}, {\"contributors\": null, \"truncated\": false, \"text\": \"I wonder what is going through this dog's mind. http://t.co/x1PZ6p8Zef\", \"in_reply_to_status_id\": null, \"id\": 516421875162181633, \"favorite_count\": 1, \"source\": \"<a href=\\\"http://www.facebook.com/twitter\\\" rel=\\\"nofollow\\\">Facebook</a>\", \"retweeted\": false, \"coordinates\": null, \"entities\": {\"symbols\": [], \"user_mentions\": [], \"hashtags\": [], \"urls\": [{\"url\": \"http://t.co/x1PZ6p8Zef\", \"indices\": [48, 70], \"expanded_url\": \"http://fb.me/3dfKn4HTC\", \"display_url\": \"fb.me/3dfKn4HTC\"}]}, \"in_reply_to_screen_name\": null, \"id_str\": \"516421875162181633\", \"retweet_count\": 0, \"in_reply_to_user_id\": null, \"favorited\": false, \"user\": {\"follow_request_sent\": false, \"profile_use_background_image\": false, \"profile_text_color\": \"666666\", \"default_profile_image\": false, \"id\": 614, \"profile_background_image_url_https\": \"https://abs.twimg.com/images/themes/theme9/bg.gif\", \"verified\": false, \"profile_location\": null, \"profile_image_url_https\": \"https://pbs.twimg.com/profile_images/465965547855679488/ONqxqGvL_normal.jpeg\", \"profile_sidebar_fill_color\": \"252429\", \"entities\": {\"url\": {\"urls\": [{\"url\": \"http://t.co/x5Vr8HWFxj\", \"indices\": [0, 22], \"expanded_url\": \"http://facebook.com/christian.harrison\", \"display_url\": \"facebook.com/christian.harr\\u2026\"}]}, \"description\": {\"urls\": []}}, \"followers_count\": 1377, \"profile_sidebar_border_color\": \"000000\", \"id_str\": \"614\", \"profile_background_color\": \"1A1B1F\", \"listed_count\": 39, \"is_translation_enabled\": false, \"utc_offset\": 12600, \"statuses_count\": 7894, \"description\": \"Urban enthusiast, professional storyteller, man of faith.\", \"friends_count\": 1931, \"location\": \"Salt Lake City, UT\", \"profile_link_color\": \"2FC2EF\", \"profile_image_url\": \"http://pbs.twimg.com/profile_images/465965547855679488/ONqxqGvL_normal.jpeg\", \"following\": false, \"geo_enabled\": true, \"profile_banner_url\": \"https://pbs.twimg.com/profile_banners/614/1365311832\", \"profile_background_image_url\": \"http://abs.twimg.com/images/themes/theme9/bg.gif\", \"name\": \"Christian Harrison\", \"lang\": \"en\", \"profile_background_tile\": false, \"favourites_count\": 83, \"screen_name\": \"dcharrison\", \"notifications\": false, \"url\": \"http://t.co/x5Vr8HWFxj\", \"created_at\": \"Thu Jul 13 20:30:05 +0000 2006\", \"contributors_enabled\": false, \"time_zone\": \"Tehran\", \"protected\": false, \"default_profile\": false, \"is_translator\": false}, \"geo\": null, \"in_reply_to_user_id_str\": null, \"possibly_sensitive\": false, \"lang\": \"en\", \"created_at\": \"Mon Sep 29 02:59:04 +0000 2014\", \"in_reply_to_status_id_str\": null, \"place\": null}, {\"contributors\": null, \"truncated\": false, \"text\": \"I wish I had a Gay Mafia signal. But this'll have to do\\u2026 http://t.co/4YPJ0urxoa\", \"in_reply_to_status_id\": null, \"id\": 514958455074226177, \"favorite_count\": 0, \"source\": \"<a href=\\\"http://www.facebook.com/twitter\\\" rel=\\\"nofollow\\\">Facebook</a>\", \"retweeted\": false, \"coordinates\": null, \"entities\": {\"symbols\": [], \"user_mentions\": [], \"hashtags\": [], \"urls\": [{\"url\": \"http://t.co/4YPJ0urxoa\", \"indices\": [57, 79], \"expanded_url\": \"http://fb.me/3uLm63fYC\", \"display_url\": \"fb.me/3uLm63fYC\"}]}, \"in_reply_to_screen_name\": null, \"id_str\": \"514958455074226177\", \"retweet_count\": 0, \"in_reply_to_user_id\": null, \"favorited\": false, \"user\": {\"follow_request_sent\": false, \"profile_use_background_image\": false, \"profile_text_color\": \"666666\", \"default_profile_image\": false, \"id\": 614, \"profile_background_image_url_https\": \"https://abs.twimg.com/images/themes/theme9/bg.gif\", \"verified\": false, \"profile_location\": null, \"profile_image_url_https\": \"https://pbs.twimg.com/profile_images/465965547855679488/ONqxqGvL_normal.jpeg\", \"profile_sidebar_fill_color\": \"252429\", \"entities\": {\"url\": {\"urls\": [{\"url\": \"http://t.co/x5Vr8HWFxj\", \"indices\": [0, 22], \"expanded_url\": \"http://facebook.com/christian.harrison\", \"display_url\": \"facebook.com/christian.harr\\u2026\"}]}, \"description\": {\"urls\": []}}, \"followers_count\": 1377, \"profile_sidebar_border_color\": \"000000\", \"id_str\": \"614\", \"profile_background_color\": \"1A1B1F\", \"listed_count\": 39, \"is_translation_enabled\": false, \"utc_offset\": 12600, \"statuses_count\": 7894, \"description\": \"Urban enthusiast, professional storyteller, man of faith.\", \"friends_count\": 1931, \"location\": \"Salt Lake City, UT\", \"profile_link_color\": \"2FC2EF\", \"profile_image_url\": \"http://pbs.twimg.com/profile_images/465965547855679488/ONqxqGvL_normal.jpeg\", \"following\": false, \"geo_enabled\": true, \"profile_banner_url\": \"https://pbs.twimg.com/profile_banners/614/1365311832\", \"profile_background_image_url\": \"http://abs.twimg.com/images/themes/theme9/bg.gif\", \"name\": \"Christian Harrison\", \"lang\": \"en\", \"profile_background_tile\": false, \"favourites_count\": 83, \"screen_name\": \"dcharrison\", \"notifications\": false, \"url\": \"http://t.co/x5Vr8HWFxj\", \"created_at\": \"Thu Jul 13 20:30:05 +0000 2006\", \"contributors_enabled\": false, \"time_zone\": \"Tehran\", \"protected\": false, \"default_profile\": false, \"is_translator\": false}, \"geo\": null, \"in_reply_to_user_id_str\": null, \"possibly_sensitive\": false, \"lang\": \"en\", \"created_at\": \"Thu Sep 25 02:03:57 +0000 2014\", \"in_reply_to_status_id_str\": null, \"place\": null}, {\"contributors\": null, \"truncated\": false, \"text\": \"It's happened again. http://t.co/yvC4fxYNN0\", \"in_reply_to_status_id\": null, \"id\": 514899299881086976, \"favorite_count\": 0, \"source\": \"<a href=\\\"http://www.facebook.com/twitter\\\" rel=\\\"nofollow\\\">Facebook</a>\", \"retweeted\": false, \"coordinates\": null, \"entities\": {\"symbols\": [], \"user_mentions\": [], \"hashtags\": [], \"urls\": [{\"url\": \"http://t.co/yvC4fxYNN0\", \"indices\": [21, 43], \"expanded_url\": \"http://fb.me/1nTP2dco4\", \"display_url\": \"fb.me/1nTP2dco4\"}]}, \"in_reply_to_screen_name\": null, \"id_str\": \"514899299881086976\", \"retweet_count\": 0, \"in_reply_to_user_id\": null, \"favorited\": false, \"user\": {\"follow_request_sent\": false, \"profile_use_background_image\": false, \"profile_text_color\": \"666666\", \"default_profile_image\": false, \"id\": 614, \"profile_background_image_url_https\": \"https://abs.twimg.com/images/themes/theme9/bg.gif\", \"verified\": false, \"profile_location\": null, \"profile_image_url_https\": \"https://pbs.twimg.com/profile_images/465965547855679488/ONqxqGvL_normal.jpeg\", \"profile_sidebar_fill_color\": \"252429\", \"entities\": {\"url\": {\"urls\": [{\"url\": \"http://t.co/x5Vr8HWFxj\", \"indices\": [0, 22], \"expanded_url\": \"http://facebook.com/christian.harrison\", \"display_url\": \"facebook.com/christian.harr\\u2026\"}]}, \"description\": {\"urls\": []}}, \"followers_count\": 1377, \"profile_sidebar_border_color\": \"000000\", \"id_str\": \"614\", \"profile_background_color\": \"1A1B1F\", \"listed_count\": 39, \"is_translation_enabled\": false, \"utc_offset\": 12600, \"statuses_count\": 7894, \"description\": \"Urban enthusiast, professional storyteller, man of faith.\", \"friends_count\": 1931, \"location\": \"Salt Lake City, UT\", \"profile_link_color\": \"2FC2EF\", \"profile_image_url\": \"http://pbs.twimg.com/profile_images/465965547855679488/ONqxqGvL_normal.jpeg\", \"following\": false, \"geo_enabled\": true, \"profile_banner_url\": \"https://pbs.twimg.com/profile_banners/614/1365311832\", \"profile_background_image_url\": \"http://abs.twimg.com/images/themes/theme9/bg.gif\", \"name\": \"Christian Harrison\", \"lang\": \"en\", \"profile_background_tile\": false, \"favourites_count\": 83, \"screen_name\": \"dcharrison\", \"notifications\": false, \"url\": \"http://t.co/x5Vr8HWFxj\", \"created_at\": \"Thu Jul 13 20:30:05 +0000 2006\", \"contributors_enabled\": false, \"time_zone\": \"Tehran\", \"protected\": false, \"default_profile\": false, \"is_translator\": false}, \"geo\": null, \"in_reply_to_user_id_str\": null, \"possibly_sensitive\": false, \"lang\": \"en\", \"created_at\": \"Wed Sep 24 22:08:54 +0000 2014\", \"in_reply_to_status_id_str\": null, \"place\": null}, {\"contributors\": null, \"truncated\": false, \"text\": \"For my friends in the Bay Area \\u2014 please share! http://t.co/agg24ZUZ6W\", \"in_reply_to_status_id\": null, \"id\": 514803943159779328, \"favorite_count\": 0, \"source\": \"<a href=\\\"http://www.facebook.com/twitter\\\" rel=\\\"nofollow\\\">Facebook</a>\", \"retweeted\": false, \"coordinates\": null, \"entities\": {\"symbols\": [], \"user_mentions\": [], \"hashtags\": [], \"urls\": [{\"url\": \"http://t.co/agg24ZUZ6W\", \"indices\": [47, 69], \"expanded_url\": \"http://fb.me/1ybHYx2au\", \"display_url\": \"fb.me/1ybHYx2au\"}]}, \"in_reply_to_screen_name\": null, \"id_str\": \"514803943159779328\", \"retweet_count\": 0, \"in_reply_to_user_id\": null, \"favorited\": false, \"user\": {\"follow_request_sent\": false, \"profile_use_background_image\": false, \"profile_text_color\": \"666666\", \"default_profile_image\": false, \"id\": 614, \"profile_background_image_url_https\": \"https://abs.twimg.com/images/themes/theme9/bg.gif\", \"verified\": false, \"profile_location\": null, \"profile_image_url_https\": \"https://pbs.twimg.com/profile_images/465965547855679488/ONqxqGvL_normal.jpeg\", \"profile_sidebar_fill_color\": \"252429\", \"entities\": {\"url\": {\"urls\": [{\"url\": \"http://t.co/x5Vr8HWFxj\", \"indices\": [0, 22], \"expanded_url\": \"http://facebook.com/christian.harrison\", \"display_url\": \"facebook.com/christian.harr\\u2026\"}]}, \"description\": {\"urls\": []}}, \"followers_count\": 1377, \"profile_sidebar_border_color\": \"000000\", \"id_str\": \"614\", \"profile_background_color\": \"1A1B1F\", \"listed_count\": 39, \"is_translation_enabled\": false, \"utc_offset\": 12600, \"statuses_count\": 7894, \"description\": \"Urban enthusiast, professional storyteller, man of faith.\", \"friends_count\": 1931, \"location\": \"Salt Lake City, UT\", \"profile_link_color\": \"2FC2EF\", \"profile_image_url\": \"http://pbs.twimg.com/profile_images/465965547855679488/ONqxqGvL_normal.jpeg\", \"following\": false, \"geo_enabled\": true, \"profile_banner_url\": \"https://pbs.twimg.com/profile_banners/614/1365311832\", \"profile_background_image_url\": \"http://abs.twimg.com/images/themes/theme9/bg.gif\", \"name\": \"Christian Harrison\", \"lang\": \"en\", \"profile_background_tile\": false, \"favourites_count\": 83, \"screen_name\": \"dcharrison\", \"notifications\": false, \"url\": \"http://t.co/x5Vr8HWFxj\", \"created_at\": \"Thu Jul 13 20:30:05 +0000 2006\", \"contributors_enabled\": false, \"time_zone\": \"Tehran\", \"protected\": false, \"default_profile\": false, \"is_translator\": false}, \"geo\": null, \"in_reply_to_user_id_str\": null, \"possibly_sensitive\": false, \"lang\": \"en\", \"created_at\": \"Wed Sep 24 15:49:59 +0000 2014\", \"in_reply_to_status_id_str\": null, \"place\": null}, {\"contributors\": null, \"truncated\": false, \"text\": \"Some good stuff I here. http://t.co/s6lAU8mNZm\", \"in_reply_to_status_id\": null, \"id\": 514781863127556096, \"favorite_count\": 0, \"source\": \"<a href=\\\"http://www.facebook.com/twitter\\\" rel=\\\"nofollow\\\">Facebook</a>\", \"retweeted\": false, \"coordinates\": null, \"entities\": {\"symbols\": [], \"user_mentions\": [], \"hashtags\": [], \"urls\": [{\"url\": \"http://t.co/s6lAU8mNZm\", \"indices\": [24, 46], \"expanded_url\": \"http://fb.me/3gYzQ49fn\", \"display_url\": \"fb.me/3gYzQ49fn\"}]}, \"in_reply_to_screen_name\": null, \"id_str\": \"514781863127556096\", \"retweet_count\": 0, \"in_reply_to_user_id\": null, \"favorited\": false, \"user\": {\"follow_request_sent\": false, \"profile_use_background_image\": false, \"profile_text_color\": \"666666\", \"default_profile_image\": false, \"id\": 614, \"profile_background_image_url_https\": \"https://abs.twimg.com/images/themes/theme9/bg.gif\", \"verified\": false, \"profile_location\": null, \"profile_image_url_https\": \"https://pbs.twimg.com/profile_images/465965547855679488/ONqxqGvL_normal.jpeg\", \"profile_sidebar_fill_color\": \"252429\", \"entities\": {\"url\": {\"urls\": [{\"url\": \"http://t.co/x5Vr8HWFxj\", \"indices\": [0, 22], \"expanded_url\": \"http://facebook.com/christian.harrison\", \"display_url\": \"facebook.com/christian.harr\\u2026\"}]}, \"description\": {\"urls\": []}}, \"followers_count\": 1377, \"profile_sidebar_border_color\": \"000000\", \"id_str\": \"614\", \"profile_background_color\": \"1A1B1F\", \"listed_count\": 39, \"is_translation_enabled\": false, \"utc_offset\": 12600, \"statuses_count\": 7894, \"description\": \"Urban enthusiast, professional storyteller, man of faith.\", \"friends_count\": 1931, \"location\": \"Salt Lake City, UT\", \"profile_link_color\": \"2FC2EF\", \"profile_image_url\": \"http://pbs.twimg.com/profile_images/465965547855679488/ONqxqGvL_normal.jpeg\", \"following\": false, \"geo_enabled\": true, \"profile_banner_url\": \"https://pbs.twimg.com/profile_banners/614/1365311832\", \"profile_background_image_url\": \"http://abs.twimg.com/images/themes/theme9/bg.gif\", \"name\": \"Christian Harrison\", \"lang\": \"en\", \"profile_background_tile\": false, \"favourites_count\": 83, \"screen_name\": \"dcharrison\", \"notifications\": false, \"url\": \"http://t.co/x5Vr8HWFxj\", \"created_at\": \"Thu Jul 13 20:30:05 +0000 2006\", \"contributors_enabled\": false, \"time_zone\": \"Tehran\", \"protected\": false, \"default_profile\": false, \"is_translator\": false}, \"geo\": null, \"in_reply_to_user_id_str\": null, \"possibly_sensitive\": false, \"lang\": \"en\", \"created_at\": \"Wed Sep 24 14:22:15 +0000 2014\", \"in_reply_to_status_id_str\": null, \"place\": null}, {\"contributors\": null, \"truncated\": false, \"text\": \"Oh. This is awesome. http://t.co/ETHvlPLVAm\", \"in_reply_to_status_id\": null, \"id\": 514771026383601664, \"favorite_count\": 0, \"source\": \"<a href=\\\"http://www.facebook.com/twitter\\\" rel=\\\"nofollow\\\">Facebook</a>\", \"retweeted\": false, \"coordinates\": null, \"entities\": {\"symbols\": [], \"user_mentions\": [], \"hashtags\": [], \"urls\": [{\"url\": \"http://t.co/ETHvlPLVAm\", \"indices\": [21, 43], \"expanded_url\": \"http://fb.me/3fib3Iz95\", \"display_url\": \"fb.me/3fib3Iz95\"}]}, \"in_reply_to_screen_name\": null, \"id_str\": \"514771026383601664\", \"retweet_count\": 0, \"in_reply_to_user_id\": null, \"favorited\": false, \"user\": {\"follow_request_sent\": false, \"profile_use_background_image\": false, \"profile_text_color\": \"666666\", \"default_profile_image\": false, \"id\": 614, \"profile_background_image_url_https\": \"https://abs.twimg.com/images/themes/theme9/bg.gif\", \"verified\": false, \"profile_location\": null, \"profile_image_url_https\": \"https://pbs.twimg.com/profile_images/465965547855679488/ONqxqGvL_normal.jpeg\", \"profile_sidebar_fill_color\": \"252429\", \"entities\": {\"url\": {\"urls\": [{\"url\": \"http://t.co/x5Vr8HWFxj\", \"indices\": [0, 22], \"expanded_url\": \"http://facebook.com/christian.harrison\", \"display_url\": \"facebook.com/christian.harr\\u2026\"}]}, \"description\": {\"urls\": []}}, \"followers_count\": 1377, \"profile_sidebar_border_color\": \"000000\", \"id_str\": \"614\", \"profile_background_color\": \"1A1B1F\", \"listed_count\": 39, \"is_translation_enabled\": false, \"utc_offset\": 12600, \"statuses_count\": 7894, \"description\": \"Urban enthusiast, professional storyteller, man of faith.\", \"friends_count\": 1931, \"location\": \"Salt Lake City, UT\", \"profile_link_color\": \"2FC2EF\", \"profile_image_url\": \"http://pbs.twimg.com/profile_images/465965547855679488/ONqxqGvL_normal.jpeg\", \"following\": false, \"geo_enabled\": true, \"profile_banner_url\": \"https://pbs.twimg.com/profile_banners/614/1365311832\", \"profile_background_image_url\": \"http://abs.twimg.com/images/themes/theme9/bg.gif\", \"name\": \"Christian Harrison\", \"lang\": \"en\", \"profile_background_tile\": false, \"favourites_count\": 83, \"screen_name\": \"dcharrison\", \"notifications\": false, \"url\": \"http://t.co/x5Vr8HWFxj\", \"created_at\": \"Thu Jul 13 20:30:05 +0000 2006\", \"contributors_enabled\": false, \"time_zone\": \"Tehran\", \"protected\": false, \"default_profile\": false, \"is_translator\": false}, \"geo\": null, \"in_reply_to_user_id_str\": null, \"possibly_sensitive\": false, \"lang\": \"en\", \"created_at\": \"Wed Sep 24 13:39:11 +0000 2014\", \"in_reply_to_status_id_str\": null, \"place\": null}, {\"contributors\": null, \"truncated\": false, \"text\": \"For my film friends \\u2026 http://t.co/xGBH7ZqRFI\", \"in_reply_to_status_id\": null, \"id\": 514524326012284929, \"favorite_count\": 0, \"source\": \"<a href=\\\"http://www.facebook.com/twitter\\\" rel=\\\"nofollow\\\">Facebook</a>\", \"retweeted\": false, \"coordinates\": null, \"entities\": {\"symbols\": [], \"user_mentions\": [], \"hashtags\": [], \"urls\": [{\"url\": \"http://t.co/xGBH7ZqRFI\", \"indices\": [22, 44], \"expanded_url\": \"http://fb.me/6TKrHvYfj\", \"display_url\": \"fb.me/6TKrHvYfj\"}]}, \"in_reply_to_screen_name\": null, \"id_str\": \"514524326012284929\", \"retweet_count\": 0, \"in_reply_to_user_id\": null, \"favorited\": false, \"user\": {\"follow_request_sent\": false, \"profile_use_background_image\": false, \"profile_text_color\": \"666666\", \"default_profile_image\": false, \"id\": 614, \"profile_background_image_url_https\": \"https://abs.twimg.com/images/themes/theme9/bg.gif\", \"verified\": false, \"profile_location\": null, \"profile_image_url_https\": \"https://pbs.twimg.com/profile_images/465965547855679488/ONqxqGvL_normal.jpeg\", \"profile_sidebar_fill_color\": \"252429\", \"entities\": {\"url\": {\"urls\": [{\"url\": \"http://t.co/x5Vr8HWFxj\", \"indices\": [0, 22], \"expanded_url\": \"http://facebook.com/christian.harrison\", \"display_url\": \"facebook.com/christian.harr\\u2026\"}]}, \"description\": {\"urls\": []}}, \"followers_count\": 1377, \"profile_sidebar_border_color\": \"000000\", \"id_str\": \"614\", \"profile_background_color\": \"1A1B1F\", \"listed_count\": 39, \"is_translation_enabled\": false, \"utc_offset\": 12600, \"statuses_count\": 7894, \"description\": \"Urban enthusiast, professional storyteller, man of faith.\", \"friends_count\": 1931, \"location\": \"Salt Lake City, UT\", \"profile_link_color\": \"2FC2EF\", \"profile_image_url\": \"http://pbs.twimg.com/profile_images/465965547855679488/ONqxqGvL_normal.jpeg\", \"following\": false, \"geo_enabled\": true, \"profile_banner_url\": \"https://pbs.twimg.com/profile_banners/614/1365311832\", \"profile_background_image_url\": \"http://abs.twimg.com/images/themes/theme9/bg.gif\", \"name\": \"Christian Harrison\", \"lang\": \"en\", \"profile_background_tile\": false, \"favourites_count\": 83, \"screen_name\": \"dcharrison\", \"notifications\": false, \"url\": \"http://t.co/x5Vr8HWFxj\", \"created_at\": \"Thu Jul 13 20:30:05 +0000 2006\", \"contributors_enabled\": false, \"time_zone\": \"Tehran\", \"protected\": false, \"default_profile\": false, \"is_translator\": false}, \"geo\": null, \"in_reply_to_user_id_str\": null, \"possibly_sensitive\": false, \"lang\": \"en\", \"created_at\": \"Tue Sep 23 21:18:53 +0000 2014\", \"in_reply_to_status_id_str\": null, \"place\": null}, {\"contributors\": null, \"truncated\": false, \"text\": \"Oh. I'm in tears! This is funny stuff. http://t.co/zNEnP11DWh\", \"in_reply_to_status_id\": null, \"id\": 514510002300923905, \"favorite_count\": 0, \"source\": \"<a href=\\\"http://www.facebook.com/twitter\\\" rel=\\\"nofollow\\\">Facebook</a>\", \"retweeted\": false, \"coordinates\": null, \"entities\": {\"symbols\": [], \"user_mentions\": [], \"hashtags\": [], \"urls\": [{\"url\": \"http://t.co/zNEnP11DWh\", \"indices\": [39, 61], \"expanded_url\": \"http://fb.me/2P8Lxxifz\", \"display_url\": \"fb.me/2P8Lxxifz\"}]}, \"in_reply_to_screen_name\": null, \"id_str\": \"514510002300923905\", \"retweet_count\": 0, \"in_reply_to_user_id\": null, \"favorited\": false, \"user\": {\"follow_request_sent\": false, \"profile_use_background_image\": false, \"profile_text_color\": \"666666\", \"default_profile_image\": false, \"id\": 614, \"profile_background_image_url_https\": \"https://abs.twimg.com/images/themes/theme9/bg.gif\", \"verified\": false, \"profile_location\": null, \"profile_image_url_https\": \"https://pbs.twimg.com/profile_images/465965547855679488/ONqxqGvL_normal.jpeg\", \"profile_sidebar_fill_color\": \"252429\", \"entities\": {\"url\": {\"urls\": [{\"url\": \"http://t.co/x5Vr8HWFxj\", \"indices\": [0, 22], \"expanded_url\": \"http://facebook.com/christian.harrison\", \"display_url\": \"facebook.com/christian.harr\\u2026\"}]}, \"description\": {\"urls\": []}}, \"followers_count\": 1377, \"profile_sidebar_border_color\": \"000000\", \"id_str\": \"614\", \"profile_background_color\": \"1A1B1F\", \"listed_count\": 39, \"is_translation_enabled\": false, \"utc_offset\": 12600, \"statuses_count\": 7894, \"description\": \"Urban enthusiast, professional storyteller, man of faith.\", \"friends_count\": 1931, \"location\": \"Salt Lake City, UT\", \"profile_link_color\": \"2FC2EF\", \"profile_image_url\": \"http://pbs.twimg.com/profile_images/465965547855679488/ONqxqGvL_normal.jpeg\", \"following\": false, \"geo_enabled\": true, \"profile_banner_url\": \"https://pbs.twimg.com/profile_banners/614/1365311832\", \"profile_background_image_url\": \"http://abs.twimg.com/images/themes/theme9/bg.gif\", \"name\": \"Christian Harrison\", \"lang\": \"en\", \"profile_background_tile\": false, \"favourites_count\": 83, \"screen_name\": \"dcharrison\", \"notifications\": false, \"url\": \"http://t.co/x5Vr8HWFxj\", \"created_at\": \"Thu Jul 13 20:30:05 +0000 2006\", \"contributors_enabled\": false, \"time_zone\": \"Tehran\", \"protected\": false, \"default_profile\": false, \"is_translator\": false}, \"geo\": null, \"in_reply_to_user_id_str\": null, \"possibly_sensitive\": false, \"lang\": \"en\", \"created_at\": \"Tue Sep 23 20:21:58 +0000 2014\", \"in_reply_to_status_id_str\": null, \"place\": null}, {\"contributors\": null, \"truncated\": false, \"text\": \"Dear Pinterest\\u2026 I love you. I spend time with you very day. I've been there from the beginning (and have... http://t.co/sX7FKSmMzB\", \"in_reply_to_status_id\": null, \"id\": 514279138836770818, \"favorite_count\": 1, \"source\": \"<a href=\\\"http://www.facebook.com/twitter\\\" rel=\\\"nofollow\\\">Facebook</a>\", \"retweeted\": false, \"coordinates\": null, \"entities\": {\"symbols\": [], \"user_mentions\": [], \"hashtags\": [], \"urls\": [{\"url\": \"http://t.co/sX7FKSmMzB\", \"indices\": [108, 130], \"expanded_url\": \"http://fb.me/3HrsKTHkk\", \"display_url\": \"fb.me/3HrsKTHkk\"}]}, \"in_reply_to_screen_name\": null, \"id_str\": \"514279138836770818\", \"retweet_count\": 0, \"in_reply_to_user_id\": null, \"favorited\": false, \"user\": {\"follow_request_sent\": false, \"profile_use_background_image\": false, \"profile_text_color\": \"666666\", \"default_profile_image\": false, \"id\": 614, \"profile_background_image_url_https\": \"https://abs.twimg.com/images/themes/theme9/bg.gif\", \"verified\": false, \"profile_location\": null, \"profile_image_url_https\": \"https://pbs.twimg.com/profile_images/465965547855679488/ONqxqGvL_normal.jpeg\", \"profile_sidebar_fill_color\": \"252429\", \"entities\": {\"url\": {\"urls\": [{\"url\": \"http://t.co/x5Vr8HWFxj\", \"indices\": [0, 22], \"expanded_url\": \"http://facebook.com/christian.harrison\", \"display_url\": \"facebook.com/christian.harr\\u2026\"}]}, \"description\": {\"urls\": []}}, \"followers_count\": 1377, \"profile_sidebar_border_color\": \"000000\", \"id_str\": \"614\", \"profile_background_color\": \"1A1B1F\", \"listed_count\": 39, \"is_translation_enabled\": false, \"utc_offset\": 12600, \"statuses_count\": 7894, \"description\": \"Urban enthusiast, professional storyteller, man of faith.\", \"friends_count\": 1931, \"location\": \"Salt Lake City, UT\", \"profile_link_color\": \"2FC2EF\", \"profile_image_url\": \"http://pbs.twimg.com/profile_images/465965547855679488/ONqxqGvL_normal.jpeg\", \"following\": false, \"geo_enabled\": true, \"profile_banner_url\": \"https://pbs.twimg.com/profile_banners/614/1365311832\", \"profile_background_image_url\": \"http://abs.twimg.com/images/themes/theme9/bg.gif\", \"name\": \"Christian Harrison\", \"lang\": \"en\", \"profile_background_tile\": false, \"favourites_count\": 83, \"screen_name\": \"dcharrison\", \"notifications\": false, \"url\": \"http://t.co/x5Vr8HWFxj\", \"created_at\": \"Thu Jul 13 20:30:05 +0000 2006\", \"contributors_enabled\": false, \"time_zone\": \"Tehran\", \"protected\": false, \"default_profile\": false, \"is_translator\": false}, \"geo\": null, \"in_reply_to_user_id_str\": null, \"possibly_sensitive\": false, \"lang\": \"en\", \"created_at\": \"Tue Sep 23 05:04:36 +0000 2014\", \"in_reply_to_status_id_str\": null, \"place\": null}, {\"contributors\": null, \"truncated\": false, \"text\": \"As disgusting as this is, I'd wage that they're paving the way to single payer. http://t.co/4DvongmcuG\", \"in_reply_to_status_id\": null, \"id\": 514231011044241408, \"favorite_count\": 0, \"source\": \"<a href=\\\"http://www.facebook.com/twitter\\\" rel=\\\"nofollow\\\">Facebook</a>\", \"retweeted\": false, \"coordinates\": null, \"entities\": {\"symbols\": [], \"user_mentions\": [], \"hashtags\": [], \"urls\": [{\"url\": \"http://t.co/4DvongmcuG\", \"indices\": [80, 102], \"expanded_url\": \"http://fb.me/3pIntVkH9\", \"display_url\": \"fb.me/3pIntVkH9\"}]}, \"in_reply_to_screen_name\": null, \"id_str\": \"514231011044241408\", \"retweet_count\": 0, \"in_reply_to_user_id\": null, \"favorited\": false, \"user\": {\"follow_request_sent\": false, \"profile_use_background_image\": false, \"profile_text_color\": \"666666\", \"default_profile_image\": false, \"id\": 614, \"profile_background_image_url_https\": \"https://abs.twimg.com/images/themes/theme9/bg.gif\", \"verified\": false, \"profile_location\": null, \"profile_image_url_https\": \"https://pbs.twimg.com/profile_images/465965547855679488/ONqxqGvL_normal.jpeg\", \"profile_sidebar_fill_color\": \"252429\", \"entities\": {\"url\": {\"urls\": [{\"url\": \"http://t.co/x5Vr8HWFxj\", \"indices\": [0, 22], \"expanded_url\": \"http://facebook.com/christian.harrison\", \"display_url\": \"facebook.com/christian.harr\\u2026\"}]}, \"description\": {\"urls\": []}}, \"followers_count\": 1377, \"profile_sidebar_border_color\": \"000000\", \"id_str\": \"614\", \"profile_background_color\": \"1A1B1F\", \"listed_count\": 39, \"is_translation_enabled\": false, \"utc_offset\": 12600, \"statuses_count\": 7894, \"description\": \"Urban enthusiast, professional storyteller, man of faith.\", \"friends_count\": 1931, \"location\": \"Salt Lake City, UT\", \"profile_link_color\": \"2FC2EF\", \"profile_image_url\": \"http://pbs.twimg.com/profile_images/465965547855679488/ONqxqGvL_normal.jpeg\", \"following\": false, \"geo_enabled\": true, \"profile_banner_url\": \"https://pbs.twimg.com/profile_banners/614/1365311832\", \"profile_background_image_url\": \"http://abs.twimg.com/images/themes/theme9/bg.gif\", \"name\": \"Christian Harrison\", \"lang\": \"en\", \"profile_background_tile\": false, \"favourites_count\": 83, \"screen_name\": \"dcharrison\", \"notifications\": false, \"url\": \"http://t.co/x5Vr8HWFxj\", \"created_at\": \"Thu Jul 13 20:30:05 +0000 2006\", \"contributors_enabled\": false, \"time_zone\": \"Tehran\", \"protected\": false, \"default_profile\": false, \"is_translator\": false}, \"geo\": null, \"in_reply_to_user_id_str\": null, \"possibly_sensitive\": false, \"lang\": \"en\", \"created_at\": \"Tue Sep 23 01:53:21 +0000 2014\", \"in_reply_to_status_id_str\": null, \"place\": null}, {\"contributors\": null, \"truncated\": false, \"text\": \"For all my artsy fartsy friends: #Inktober is just a week away \\u2014 are you ready? My friend Jake Parker has laid... http://t.co/joS5g5A99Z\", \"in_reply_to_status_id\": null, \"id\": 514126690184740864, \"favorite_count\": 0, \"source\": \"<a href=\\\"http://www.facebook.com/twitter\\\" rel=\\\"nofollow\\\">Facebook</a>\", \"retweeted\": false, \"coordinates\": null, \"entities\": {\"symbols\": [], \"user_mentions\": [], \"hashtags\": [{\"indices\": [33, 42], \"text\": \"Inktober\"}], \"urls\": [{\"url\": \"http://t.co/joS5g5A99Z\", \"indices\": [114, 136], \"expanded_url\": \"http://fb.me/6NZA8oau0\", \"display_url\": \"fb.me/6NZA8oau0\"}]}, \"in_reply_to_screen_name\": null, \"id_str\": \"514126690184740864\", \"retweet_count\": 0, \"in_reply_to_user_id\": null, \"favorited\": false, \"user\": {\"follow_request_sent\": false, \"profile_use_background_image\": false, \"profile_text_color\": \"666666\", \"default_profile_image\": false, \"id\": 614, \"profile_background_image_url_https\": \"https://abs.twimg.com/images/themes/theme9/bg.gif\", \"verified\": false, \"profile_location\": null, \"profile_image_url_https\": \"https://pbs.twimg.com/profile_images/465965547855679488/ONqxqGvL_normal.jpeg\", \"profile_sidebar_fill_color\": \"252429\", \"entities\": {\"url\": {\"urls\": [{\"url\": \"http://t.co/x5Vr8HWFxj\", \"indices\": [0, 22], \"expanded_url\": \"http://facebook.com/christian.harrison\", \"display_url\": \"facebook.com/christian.harr\\u2026\"}]}, \"description\": {\"urls\": []}}, \"followers_count\": 1377, \"profile_sidebar_border_color\": \"000000\", \"id_str\": \"614\", \"profile_background_color\": \"1A1B1F\", \"listed_count\": 39, \"is_translation_enabled\": false, \"utc_offset\": 12600, \"statuses_count\": 7894, \"description\": \"Urban enthusiast, professional storyteller, man of faith.\", \"friends_count\": 1931, \"location\": \"Salt Lake City, UT\", \"profile_link_color\": \"2FC2EF\", \"profile_image_url\": \"http://pbs.twimg.com/profile_images/465965547855679488/ONqxqGvL_normal.jpeg\", \"following\": false, \"geo_enabled\": true, \"profile_banner_url\": \"https://pbs.twimg.com/profile_banners/614/1365311832\", \"profile_background_image_url\": \"http://abs.twimg.com/images/themes/theme9/bg.gif\", \"name\": \"Christian Harrison\", \"lang\": \"en\", \"profile_background_tile\": false, \"favourites_count\": 83, \"screen_name\": \"dcharrison\", \"notifications\": false, \"url\": \"http://t.co/x5Vr8HWFxj\", \"created_at\": \"Thu Jul 13 20:30:05 +0000 2006\", \"contributors_enabled\": false, \"time_zone\": \"Tehran\", \"protected\": false, \"default_profile\": false, \"is_translator\": false}, \"geo\": null, \"in_reply_to_user_id_str\": null, \"possibly_sensitive\": false, \"lang\": \"en\", \"created_at\": \"Mon Sep 22 18:58:49 +0000 2014\", \"in_reply_to_status_id_str\": null, \"place\": null}, {\"contributors\": null, \"truncated\": false, \"text\": \"\\\"The Iowa campaign speech that wasn\\u2019t a campaign speech (delivered at a \\\"steak fry\\\" that wasn\\u2019t a steak fry\\u2014the... http://t.co/lbkCRtmHke\", \"in_reply_to_status_id\": null, \"id\": 514067655972499456, \"favorite_count\": 0, \"source\": \"<a href=\\\"http://www.facebook.com/twitter\\\" rel=\\\"nofollow\\\">Facebook</a>\", \"retweeted\": false, \"coordinates\": null, \"entities\": {\"symbols\": [], \"user_mentions\": [], \"hashtags\": [], \"urls\": [{\"url\": \"http://t.co/lbkCRtmHke\", \"indices\": [115, 137], \"expanded_url\": \"http://fb.me/3XI8CuU9A\", \"display_url\": \"fb.me/3XI8CuU9A\"}]}, \"in_reply_to_screen_name\": null, \"id_str\": \"514067655972499456\", \"retweet_count\": 0, \"in_reply_to_user_id\": null, \"favorited\": false, \"user\": {\"follow_request_sent\": false, \"profile_use_background_image\": false, \"profile_text_color\": \"666666\", \"default_profile_image\": false, \"id\": 614, \"profile_background_image_url_https\": \"https://abs.twimg.com/images/themes/theme9/bg.gif\", \"verified\": false, \"profile_location\": null, \"profile_image_url_https\": \"https://pbs.twimg.com/profile_images/465965547855679488/ONqxqGvL_normal.jpeg\", \"profile_sidebar_fill_color\": \"252429\", \"entities\": {\"url\": {\"urls\": [{\"url\": \"http://t.co/x5Vr8HWFxj\", \"indices\": [0, 22], \"expanded_url\": \"http://facebook.com/christian.harrison\", \"display_url\": \"facebook.com/christian.harr\\u2026\"}]}, \"description\": {\"urls\": []}}, \"followers_count\": 1377, \"profile_sidebar_border_color\": \"000000\", \"id_str\": \"614\", \"profile_background_color\": \"1A1B1F\", \"listed_count\": 39, \"is_translation_enabled\": false, \"utc_offset\": 12600, \"statuses_count\": 7894, \"description\": \"Urban enthusiast, professional storyteller, man of faith.\", \"friends_count\": 1931, \"location\": \"Salt Lake City, UT\", \"profile_link_color\": \"2FC2EF\", \"profile_image_url\": \"http://pbs.twimg.com/profile_images/465965547855679488/ONqxqGvL_normal.jpeg\", \"following\": false, \"geo_enabled\": true, \"profile_banner_url\": \"https://pbs.twimg.com/profile_banners/614/1365311832\", \"profile_background_image_url\": \"http://abs.twimg.com/images/themes/theme9/bg.gif\", \"name\": \"Christian Harrison\", \"lang\": \"en\", \"profile_background_tile\": false, \"favourites_count\": 83, \"screen_name\": \"dcharrison\", \"notifications\": false, \"url\": \"http://t.co/x5Vr8HWFxj\", \"created_at\": \"Thu Jul 13 20:30:05 +0000 2006\", \"contributors_enabled\": false, \"time_zone\": \"Tehran\", \"protected\": false, \"default_profile\": false, \"is_translator\": false}, \"geo\": null, \"in_reply_to_user_id_str\": null, \"possibly_sensitive\": false, \"lang\": \"en\", \"created_at\": \"Mon Sep 22 15:04:14 +0000 2014\", \"in_reply_to_status_id_str\": null, \"place\": null}, {\"contributors\": null, \"truncated\": false, \"text\": \"http://t.co/nsMNzWakhF\", \"in_reply_to_status_id\": null, \"id\": 514058199096242176, \"favorite_count\": 0, \"source\": \"<a href=\\\"http://www.facebook.com/twitter\\\" rel=\\\"nofollow\\\">Facebook</a>\", \"retweeted\": false, \"coordinates\": null, \"entities\": {\"symbols\": [], \"user_mentions\": [], \"hashtags\": [], \"urls\": [{\"url\": \"http://t.co/nsMNzWakhF\", \"indices\": [0, 22], \"expanded_url\": \"http://fb.me/3wlDDma8t\", \"display_url\": \"fb.me/3wlDDma8t\"}]}, \"in_reply_to_screen_name\": null, \"id_str\": \"514058199096242176\", \"retweet_count\": 0, \"in_reply_to_user_id\": null, \"favorited\": false, \"user\": {\"follow_request_sent\": false, \"profile_use_background_image\": false, \"profile_text_color\": \"666666\", \"default_profile_image\": false, \"id\": 614, \"profile_background_image_url_https\": \"https://abs.twimg.com/images/themes/theme9/bg.gif\", \"verified\": false, \"profile_location\": null, \"profile_image_url_https\": \"https://pbs.twimg.com/profile_images/465965547855679488/ONqxqGvL_normal.jpeg\", \"profile_sidebar_fill_color\": \"252429\", \"entities\": {\"url\": {\"urls\": [{\"url\": \"http://t.co/x5Vr8HWFxj\", \"indices\": [0, 22], \"expanded_url\": \"http://facebook.com/christian.harrison\", \"display_url\": \"facebook.com/christian.harr\\u2026\"}]}, \"description\": {\"urls\": []}}, \"followers_count\": 1377, \"profile_sidebar_border_color\": \"000000\", \"id_str\": \"614\", \"profile_background_color\": \"1A1B1F\", \"listed_count\": 39, \"is_translation_enabled\": false, \"utc_offset\": 12600, \"statuses_count\": 7894, \"description\": \"Urban enthusiast, professional storyteller, man of faith.\", \"friends_count\": 1931, \"location\": \"Salt Lake City, UT\", \"profile_link_color\": \"2FC2EF\", \"profile_image_url\": \"http://pbs.twimg.com/profile_images/465965547855679488/ONqxqGvL_normal.jpeg\", \"following\": false, \"geo_enabled\": true, \"profile_banner_url\": \"https://pbs.twimg.com/profile_banners/614/1365311832\", \"profile_background_image_url\": \"http://abs.twimg.com/images/themes/theme9/bg.gif\", \"name\": \"Christian Harrison\", \"lang\": \"en\", \"profile_background_tile\": false, \"favourites_count\": 83, \"screen_name\": \"dcharrison\", \"notifications\": false, \"url\": \"http://t.co/x5Vr8HWFxj\", \"created_at\": \"Thu Jul 13 20:30:05 +0000 2006\", \"contributors_enabled\": false, \"time_zone\": \"Tehran\", \"protected\": false, \"default_profile\": false, \"is_translator\": false}, \"geo\": null, \"in_reply_to_user_id_str\": null, \"possibly_sensitive\": false, \"lang\": \"und\", \"created_at\": \"Mon Sep 22 14:26:40 +0000 2014\", \"in_reply_to_status_id_str\": null, \"place\": null}, {\"contributors\": null, \"truncated\": false, \"text\": \"http://t.co/ceb5U9tV8R\", \"in_reply_to_status_id\": null, \"id\": 513933972657545216, \"favorite_count\": 0, \"source\": \"<a href=\\\"http://www.facebook.com/twitter\\\" rel=\\\"nofollow\\\">Facebook</a>\", \"retweeted\": false, \"coordinates\": null, \"entities\": {\"symbols\": [], \"user_mentions\": [], \"hashtags\": [], \"urls\": [{\"url\": \"http://t.co/ceb5U9tV8R\", \"indices\": [0, 22], \"expanded_url\": \"http://fb.me/6Xx34worq\", \"display_url\": \"fb.me/6Xx34worq\"}]}, \"in_reply_to_screen_name\": null, \"id_str\": \"513933972657545216\", \"retweet_count\": 0, \"in_reply_to_user_id\": null, \"favorited\": false, \"user\": {\"follow_request_sent\": false, \"profile_use_background_image\": false, \"profile_text_color\": \"666666\", \"default_profile_image\": false, \"id\": 614, \"profile_background_image_url_https\": \"https://abs.twimg.com/images/themes/theme9/bg.gif\", \"verified\": false, \"profile_location\": null, \"profile_image_url_https\": \"https://pbs.twimg.com/profile_images/465965547855679488/ONqxqGvL_normal.jpeg\", \"profile_sidebar_fill_color\": \"252429\", \"entities\": {\"url\": {\"urls\": [{\"url\": \"http://t.co/x5Vr8HWFxj\", \"indices\": [0, 22], \"expanded_url\": \"http://facebook.com/christian.harrison\", \"display_url\": \"facebook.com/christian.harr\\u2026\"}]}, \"description\": {\"urls\": []}}, \"followers_count\": 1377, \"profile_sidebar_border_color\": \"000000\", \"id_str\": \"614\", \"profile_background_color\": \"1A1B1F\", \"listed_count\": 39, \"is_translation_enabled\": false, \"utc_offset\": 12600, \"statuses_count\": 7894, \"description\": \"Urban enthusiast, professional storyteller, man of faith.\", \"friends_count\": 1931, \"location\": \"Salt Lake City, UT\", \"profile_link_color\": \"2FC2EF\", \"profile_image_url\": \"http://pbs.twimg.com/profile_images/465965547855679488/ONqxqGvL_normal.jpeg\", \"following\": false, \"geo_enabled\": true, \"profile_banner_url\": \"https://pbs.twimg.com/profile_banners/614/1365311832\", \"profile_background_image_url\": \"http://abs.twimg.com/images/themes/theme9/bg.gif\", \"name\": \"Christian Harrison\", \"lang\": \"en\", \"profile_background_tile\": false, \"favourites_count\": 83, \"screen_name\": \"dcharrison\", \"notifications\": false, \"url\": \"http://t.co/x5Vr8HWFxj\", \"created_at\": \"Thu Jul 13 20:30:05 +0000 2006\", \"contributors_enabled\": false, \"time_zone\": \"Tehran\", \"protected\": false, \"default_profile\": false, \"is_translator\": false}, \"geo\": null, \"in_reply_to_user_id_str\": null, \"possibly_sensitive\": false, \"lang\": \"und\", \"created_at\": \"Mon Sep 22 06:13:02 +0000 2014\", \"in_reply_to_status_id_str\": null, \"place\": null}, {\"contributors\": null, \"truncated\": false, \"text\": \"Ha! Aaron C. Brown's quote is priceless. http://t.co/P6LZBwt1WT\", \"in_reply_to_status_id\": null, \"id\": 513409892376649728, \"favorite_count\": 0, \"source\": \"<a href=\\\"http://www.facebook.com/twitter\\\" rel=\\\"nofollow\\\">Facebook</a>\", \"retweeted\": false, \"coordinates\": null, \"entities\": {\"symbols\": [], \"user_mentions\": [], \"hashtags\": [], \"urls\": [{\"url\": \"http://t.co/P6LZBwt1WT\", \"indices\": [41, 63], \"expanded_url\": \"http://fb.me/3an7h7YGE\", \"display_url\": \"fb.me/3an7h7YGE\"}]}, \"in_reply_to_screen_name\": null, \"id_str\": \"513409892376649728\", \"retweet_count\": 0, \"in_reply_to_user_id\": null, \"favorited\": false, \"user\": {\"follow_request_sent\": false, \"profile_use_background_image\": false, \"profile_text_color\": \"666666\", \"default_profile_image\": false, \"id\": 614, \"profile_background_image_url_https\": \"https://abs.twimg.com/images/themes/theme9/bg.gif\", \"verified\": false, \"profile_location\": null, \"profile_image_url_https\": \"https://pbs.twimg.com/profile_images/465965547855679488/ONqxqGvL_normal.jpeg\", \"profile_sidebar_fill_color\": \"252429\", \"entities\": {\"url\": {\"urls\": [{\"url\": \"http://t.co/x5Vr8HWFxj\", \"indices\": [0, 22], \"expanded_url\": \"http://facebook.com/christian.harrison\", \"display_url\": \"facebook.com/christian.harr\\u2026\"}]}, \"description\": {\"urls\": []}}, \"followers_count\": 1377, \"profile_sidebar_border_color\": \"000000\", \"id_str\": \"614\", \"profile_background_color\": \"1A1B1F\", \"listed_count\": 39, \"is_translation_enabled\": false, \"utc_offset\": 12600, \"statuses_count\": 7894, \"description\": \"Urban enthusiast, professional storyteller, man of faith.\", \"friends_count\": 1931, \"location\": \"Salt Lake City, UT\", \"profile_link_color\": \"2FC2EF\", \"profile_image_url\": \"http://pbs.twimg.com/profile_images/465965547855679488/ONqxqGvL_normal.jpeg\", \"following\": false, \"geo_enabled\": true, \"profile_banner_url\": \"https://pbs.twimg.com/profile_banners/614/1365311832\", \"profile_background_image_url\": \"http://abs.twimg.com/images/themes/theme9/bg.gif\", \"name\": \"Christian Harrison\", \"lang\": \"en\", \"profile_background_tile\": false, \"favourites_count\": 83, \"screen_name\": \"dcharrison\", \"notifications\": false, \"url\": \"http://t.co/x5Vr8HWFxj\", \"created_at\": \"Thu Jul 13 20:30:05 +0000 2006\", \"contributors_enabled\": false, \"time_zone\": \"Tehran\", \"protected\": false, \"default_profile\": false, \"is_translator\": false}, \"geo\": null, \"in_reply_to_user_id_str\": null, \"possibly_sensitive\": false, \"lang\": \"en\", \"created_at\": \"Sat Sep 20 19:30:31 +0000 2014\", \"in_reply_to_status_id_str\": null, \"place\": null}, {\"contributors\": null, \"truncated\": false, \"text\": \"http://t.co/U4pN2TBEvz\", \"in_reply_to_status_id\": null, \"id\": 513211403013210112, \"favorite_count\": 0, \"source\": \"<a href=\\\"http://www.facebook.com/twitter\\\" rel=\\\"nofollow\\\">Facebook</a>\", \"retweeted\": false, \"coordinates\": null, \"entities\": {\"symbols\": [], \"user_mentions\": [], \"hashtags\": [], \"urls\": [{\"url\": \"http://t.co/U4pN2TBEvz\", \"indices\": [0, 22], \"expanded_url\": \"http://fb.me/37EZj89nY\", \"display_url\": \"fb.me/37EZj89nY\"}]}, \"in_reply_to_screen_name\": null, \"id_str\": \"513211403013210112\", \"retweet_count\": 0, \"in_reply_to_user_id\": null, \"favorited\": false, \"user\": {\"follow_request_sent\": false, \"profile_use_background_image\": false, \"profile_text_color\": \"666666\", \"default_profile_image\": false, \"id\": 614, \"profile_background_image_url_https\": \"https://abs.twimg.com/images/themes/theme9/bg.gif\", \"verified\": false, \"profile_location\": null, \"profile_image_url_https\": \"https://pbs.twimg.com/profile_images/465965547855679488/ONqxqGvL_normal.jpeg\", \"profile_sidebar_fill_color\": \"252429\", \"entities\": {\"url\": {\"urls\": [{\"url\": \"http://t.co/x5Vr8HWFxj\", \"indices\": [0, 22], \"expanded_url\": \"http://facebook.com/christian.harrison\", \"display_url\": \"facebook.com/christian.harr\\u2026\"}]}, \"description\": {\"urls\": []}}, \"followers_count\": 1377, \"profile_sidebar_border_color\": \"000000\", \"id_str\": \"614\", \"profile_background_color\": \"1A1B1F\", \"listed_count\": 39, \"is_translation_enabled\": false, \"utc_offset\": 12600, \"statuses_count\": 7894, \"description\": \"Urban enthusiast, professional storyteller, man of faith.\", \"friends_count\": 1931, \"location\": \"Salt Lake City, UT\", \"profile_link_color\": \"2FC2EF\", \"profile_image_url\": \"http://pbs.twimg.com/profile_images/465965547855679488/ONqxqGvL_normal.jpeg\", \"following\": false, \"geo_enabled\": true, \"profile_banner_url\": \"https://pbs.twimg.com/profile_banners/614/1365311832\", \"profile_background_image_url\": \"http://abs.twimg.com/images/themes/theme9/bg.gif\", \"name\": \"Christian Harrison\", \"lang\": \"en\", \"profile_background_tile\": false, \"favourites_count\": 83, \"screen_name\": \"dcharrison\", \"notifications\": false, \"url\": \"http://t.co/x5Vr8HWFxj\", \"created_at\": \"Thu Jul 13 20:30:05 +0000 2006\", \"contributors_enabled\": false, \"time_zone\": \"Tehran\", \"protected\": false, \"default_profile\": false, \"is_translator\": false}, \"geo\": null, \"in_reply_to_user_id_str\": null, \"possibly_sensitive\": false, \"lang\": \"und\", \"created_at\": \"Sat Sep 20 06:21:48 +0000 2014\", \"in_reply_to_status_id_str\": null, \"place\": null}, {\"contributors\": null, \"truncated\": false, \"text\": \"http://t.co/HHADvui6mZ\", \"in_reply_to_status_id\": null, \"id\": 513190775220236288, \"favorite_count\": 0, \"source\": \"<a href=\\\"http://www.facebook.com/twitter\\\" rel=\\\"nofollow\\\">Facebook</a>\", \"retweeted\": false, \"coordinates\": null, \"entities\": {\"symbols\": [], \"user_mentions\": [], \"hashtags\": [], \"urls\": [{\"url\": \"http://t.co/HHADvui6mZ\", \"indices\": [0, 22], \"expanded_url\": \"http://fb.me/2Bz0FvC4O\", \"display_url\": \"fb.me/2Bz0FvC4O\"}]}, \"in_reply_to_screen_name\": null, \"id_str\": \"513190775220236288\", \"retweet_count\": 0, \"in_reply_to_user_id\": null, \"favorited\": false, \"user\": {\"follow_request_sent\": false, \"profile_use_background_image\": false, \"profile_text_color\": \"666666\", \"default_profile_image\": false, \"id\": 614, \"profile_background_image_url_https\": \"https://abs.twimg.com/images/themes/theme9/bg.gif\", \"verified\": false, \"profile_location\": null, \"profile_image_url_https\": \"https://pbs.twimg.com/profile_images/465965547855679488/ONqxqGvL_normal.jpeg\", \"profile_sidebar_fill_color\": \"252429\", \"entities\": {\"url\": {\"urls\": [{\"url\": \"http://t.co/x5Vr8HWFxj\", \"indices\": [0, 22], \"expanded_url\": \"http://facebook.com/christian.harrison\", \"display_url\": \"facebook.com/christian.harr\\u2026\"}]}, \"description\": {\"urls\": []}}, \"followers_count\": 1377, \"profile_sidebar_border_color\": \"000000\", \"id_str\": \"614\", \"profile_background_color\": \"1A1B1F\", \"listed_count\": 39, \"is_translation_enabled\": false, \"utc_offset\": 12600, \"statuses_count\": 7894, \"description\": \"Urban enthusiast, professional storyteller, man of faith.\", \"friends_count\": 1931, \"location\": \"Salt Lake City, UT\", \"profile_link_color\": \"2FC2EF\", \"profile_image_url\": \"http://pbs.twimg.com/profile_images/465965547855679488/ONqxqGvL_normal.jpeg\", \"following\": false, \"geo_enabled\": true, \"profile_banner_url\": \"https://pbs.twimg.com/profile_banners/614/1365311832\", \"profile_background_image_url\": \"http://abs.twimg.com/images/themes/theme9/bg.gif\", \"name\": \"Christian Harrison\", \"lang\": \"en\", \"profile_background_tile\": false, \"favourites_count\": 83, \"screen_name\": \"dcharrison\", \"notifications\": false, \"url\": \"http://t.co/x5Vr8HWFxj\", \"created_at\": \"Thu Jul 13 20:30:05 +0000 2006\", \"contributors_enabled\": false, \"time_zone\": \"Tehran\", \"protected\": false, \"default_profile\": false, \"is_translator\": false}, \"geo\": null, \"in_reply_to_user_id_str\": null, \"possibly_sensitive\": false, \"lang\": \"und\", \"created_at\": \"Sat Sep 20 04:59:50 +0000 2014\", \"in_reply_to_status_id_str\": null, \"place\": null}, {\"contributors\": null, \"truncated\": false, \"text\": \"And for his birthday, @andrewheiss have himself the gift that keeps on giving: my Twitter stream. Wise choice, Andrew.\", \"in_reply_to_status_id\": null, \"id\": 513107093016940544, \"favorite_count\": 1, \"source\": \"<a href=\\\"http://twitter.com/download/iphone\\\" rel=\\\"nofollow\\\">Twitter for iPhone</a>\", \"retweeted\": false, \"coordinates\": null, \"entities\": {\"symbols\": [], \"user_mentions\": [{\"id\": 16741059, \"indices\": [22, 34], \"id_str\": \"16741059\", \"screen_name\": \"andrewheiss\", \"name\": \"Andrew Heiss\"}], \"hashtags\": [], \"urls\": []}, \"in_reply_to_screen_name\": null, \"id_str\": \"513107093016940544\", \"retweet_count\": 0, \"in_reply_to_user_id\": null, \"favorited\": false, \"user\": {\"follow_request_sent\": false, \"profile_use_background_image\": false, \"profile_text_color\": \"666666\", \"default_profile_image\": false, \"id\": 614, \"profile_background_image_url_https\": \"https://abs.twimg.com/images/themes/theme9/bg.gif\", \"verified\": false, \"profile_location\": null, \"profile_image_url_https\": \"https://pbs.twimg.com/profile_images/465965547855679488/ONqxqGvL_normal.jpeg\", \"profile_sidebar_fill_color\": \"252429\", \"entities\": {\"url\": {\"urls\": [{\"url\": \"http://t.co/x5Vr8HWFxj\", \"indices\": [0, 22], \"expanded_url\": \"http://facebook.com/christian.harrison\", \"display_url\": \"facebook.com/christian.harr\\u2026\"}]}, \"description\": {\"urls\": []}}, \"followers_count\": 1377, \"profile_sidebar_border_color\": \"000000\", \"id_str\": \"614\", \"profile_background_color\": \"1A1B1F\", \"listed_count\": 39, \"is_translation_enabled\": false, \"utc_offset\": 12600, \"statuses_count\": 7894, \"description\": \"Urban enthusiast, professional storyteller, man of faith.\", \"friends_count\": 1931, \"location\": \"Salt Lake City, UT\", \"profile_link_color\": \"2FC2EF\", \"profile_image_url\": \"http://pbs.twimg.com/profile_images/465965547855679488/ONqxqGvL_normal.jpeg\", \"following\": false, \"geo_enabled\": true, \"profile_banner_url\": \"https://pbs.twimg.com/profile_banners/614/1365311832\", \"profile_background_image_url\": \"http://abs.twimg.com/images/themes/theme9/bg.gif\", \"name\": \"Christian Harrison\", \"lang\": \"en\", \"profile_background_tile\": false, \"favourites_count\": 83, \"screen_name\": \"dcharrison\", \"notifications\": false, \"url\": \"http://t.co/x5Vr8HWFxj\", \"created_at\": \"Thu Jul 13 20:30:05 +0000 2006\", \"contributors_enabled\": false, \"time_zone\": \"Tehran\", \"protected\": false, \"default_profile\": false, \"is_translator\": false}, \"geo\": null, \"in_reply_to_user_id_str\": null, \"lang\": \"en\", \"created_at\": \"Fri Sep 19 23:27:18 +0000 2014\", \"in_reply_to_status_id_str\": null, \"place\": null}, {\"contributors\": null, \"truncated\": false, \"text\": \"To my friends in Cache Valley: http://t.co/rPn735qXKs\", \"in_reply_to_status_id\": null, \"id\": 513100946923331584, \"favorite_count\": 0, \"source\": \"<a href=\\\"http://www.facebook.com/twitter\\\" rel=\\\"nofollow\\\">Facebook</a>\", \"retweeted\": false, \"coordinates\": null, \"entities\": {\"symbols\": [], \"user_mentions\": [], \"hashtags\": [], \"urls\": [{\"url\": \"http://t.co/rPn735qXKs\", \"indices\": [31, 53], \"expanded_url\": \"http://fb.me/72JtRFmsU\", \"display_url\": \"fb.me/72JtRFmsU\"}]}, \"in_reply_to_screen_name\": null, \"id_str\": \"513100946923331584\", \"retweet_count\": 0, \"in_reply_to_user_id\": null, \"favorited\": false, \"user\": {\"follow_request_sent\": false, \"profile_use_background_image\": false, \"profile_text_color\": \"666666\", \"default_profile_image\": false, \"id\": 614, \"profile_background_image_url_https\": \"https://abs.twimg.com/images/themes/theme9/bg.gif\", \"verified\": false, \"profile_location\": null, \"profile_image_url_https\": \"https://pbs.twimg.com/profile_images/465965547855679488/ONqxqGvL_normal.jpeg\", \"profile_sidebar_fill_color\": \"252429\", \"entities\": {\"url\": {\"urls\": [{\"url\": \"http://t.co/x5Vr8HWFxj\", \"indices\": [0, 22], \"expanded_url\": \"http://facebook.com/christian.harrison\", \"display_url\": \"facebook.com/christian.harr\\u2026\"}]}, \"description\": {\"urls\": []}}, \"followers_count\": 1377, \"profile_sidebar_border_color\": \"000000\", \"id_str\": \"614\", \"profile_background_color\": \"1A1B1F\", \"listed_count\": 39, \"is_translation_enabled\": false, \"utc_offset\": 12600, \"statuses_count\": 7894, \"description\": \"Urban enthusiast, professional storyteller, man of faith.\", \"friends_count\": 1931, \"location\": \"Salt Lake City, UT\", \"profile_link_color\": \"2FC2EF\", \"profile_image_url\": \"http://pbs.twimg.com/profile_images/465965547855679488/ONqxqGvL_normal.jpeg\", \"following\": false, \"geo_enabled\": true, \"profile_banner_url\": \"https://pbs.twimg.com/profile_banners/614/1365311832\", \"profile_background_image_url\": \"http://abs.twimg.com/images/themes/theme9/bg.gif\", \"name\": \"Christian Harrison\", \"lang\": \"en\", \"profile_background_tile\": false, \"favourites_count\": 83, \"screen_name\": \"dcharrison\", \"notifications\": false, \"url\": \"http://t.co/x5Vr8HWFxj\", \"created_at\": \"Thu Jul 13 20:30:05 +0000 2006\", \"contributors_enabled\": false, \"time_zone\": \"Tehran\", \"protected\": false, \"default_profile\": false, \"is_translator\": false}, \"geo\": null, \"in_reply_to_user_id_str\": null, \"possibly_sensitive\": false, \"lang\": \"en\", \"created_at\": \"Fri Sep 19 23:02:53 +0000 2014\", \"in_reply_to_status_id_str\": null, \"place\": null}, {\"contributors\": null, \"truncated\": false, \"text\": \"I'll be staffing the Affirmation booth at Provo Pride tomorrow, from 15-18:00.... http://t.co/CppPVIsD9k\", \"in_reply_to_status_id\": null, \"id\": 513052998562361345, \"favorite_count\": 0, \"source\": \"<a href=\\\"http://www.facebook.com/twitter\\\" rel=\\\"nofollow\\\">Facebook</a>\", \"retweeted\": false, \"coordinates\": null, \"entities\": {\"symbols\": [], \"user_mentions\": [], \"hashtags\": [], \"urls\": [{\"url\": \"http://t.co/CppPVIsD9k\", \"indices\": [82, 104], \"expanded_url\": \"http://fb.me/1mAnZQSVv\", \"display_url\": \"fb.me/1mAnZQSVv\"}]}, \"in_reply_to_screen_name\": null, \"id_str\": \"513052998562361345\", \"retweet_count\": 0, \"in_reply_to_user_id\": null, \"favorited\": false, \"user\": {\"follow_request_sent\": false, \"profile_use_background_image\": false, \"profile_text_color\": \"666666\", \"default_profile_image\": false, \"id\": 614, \"profile_background_image_url_https\": \"https://abs.twimg.com/images/themes/theme9/bg.gif\", \"verified\": false, \"profile_location\": null, \"profile_image_url_https\": \"https://pbs.twimg.com/profile_images/465965547855679488/ONqxqGvL_normal.jpeg\", \"profile_sidebar_fill_color\": \"252429\", \"entities\": {\"url\": {\"urls\": [{\"url\": \"http://t.co/x5Vr8HWFxj\", \"indices\": [0, 22], \"expanded_url\": \"http://facebook.com/christian.harrison\", \"display_url\": \"facebook.com/christian.harr\\u2026\"}]}, \"description\": {\"urls\": []}}, \"followers_count\": 1377, \"profile_sidebar_border_color\": \"000000\", \"id_str\": \"614\", \"profile_background_color\": \"1A1B1F\", \"listed_count\": 39, \"is_translation_enabled\": false, \"utc_offset\": 12600, \"statuses_count\": 7894, \"description\": \"Urban enthusiast, professional storyteller, man of faith.\", \"friends_count\": 1931, \"location\": \"Salt Lake City, UT\", \"profile_link_color\": \"2FC2EF\", \"profile_image_url\": \"http://pbs.twimg.com/profile_images/465965547855679488/ONqxqGvL_normal.jpeg\", \"following\": false, \"geo_enabled\": true, \"profile_banner_url\": \"https://pbs.twimg.com/profile_banners/614/1365311832\", \"profile_background_image_url\": \"http://abs.twimg.com/images/themes/theme9/bg.gif\", \"name\": \"Christian Harrison\", \"lang\": \"en\", \"profile_background_tile\": false, \"favourites_count\": 83, \"screen_name\": \"dcharrison\", \"notifications\": false, \"url\": \"http://t.co/x5Vr8HWFxj\", \"created_at\": \"Thu Jul 13 20:30:05 +0000 2006\", \"contributors_enabled\": false, \"time_zone\": \"Tehran\", \"protected\": false, \"default_profile\": false, \"is_translator\": false}, \"geo\": null, \"in_reply_to_user_id_str\": null, \"possibly_sensitive\": false, \"lang\": \"en\", \"created_at\": \"Fri Sep 19 19:52:21 +0000 2014\", \"in_reply_to_status_id_str\": null, \"place\": null}, {\"contributors\": null, \"truncated\": false, \"text\": \"A smart move. http://t.co/f4yXOlGhEc\", \"in_reply_to_status_id\": null, \"id\": 513016779627851776, \"favorite_count\": 0, \"source\": \"<a href=\\\"http://www.facebook.com/twitter\\\" rel=\\\"nofollow\\\">Facebook</a>\", \"retweeted\": false, \"coordinates\": null, \"entities\": {\"symbols\": [], \"user_mentions\": [], \"hashtags\": [], \"urls\": [{\"url\": \"http://t.co/f4yXOlGhEc\", \"indices\": [14, 36], \"expanded_url\": \"http://fb.me/2KPASbZEh\", \"display_url\": \"fb.me/2KPASbZEh\"}]}, \"in_reply_to_screen_name\": null, \"id_str\": \"513016779627851776\", \"retweet_count\": 0, \"in_reply_to_user_id\": null, \"favorited\": false, \"user\": {\"follow_request_sent\": false, \"profile_use_background_image\": false, \"profile_text_color\": \"666666\", \"default_profile_image\": false, \"id\": 614, \"profile_background_image_url_https\": \"https://abs.twimg.com/images/themes/theme9/bg.gif\", \"verified\": false, \"profile_location\": null, \"profile_image_url_https\": \"https://pbs.twimg.com/profile_images/465965547855679488/ONqxqGvL_normal.jpeg\", \"profile_sidebar_fill_color\": \"252429\", \"entities\": {\"url\": {\"urls\": [{\"url\": \"http://t.co/x5Vr8HWFxj\", \"indices\": [0, 22], \"expanded_url\": \"http://facebook.com/christian.harrison\", \"display_url\": \"facebook.com/christian.harr\\u2026\"}]}, \"description\": {\"urls\": []}}, \"followers_count\": 1377, \"profile_sidebar_border_color\": \"000000\", \"id_str\": \"614\", \"profile_background_color\": \"1A1B1F\", \"listed_count\": 39, \"is_translation_enabled\": false, \"utc_offset\": 12600, \"statuses_count\": 7894, \"description\": \"Urban enthusiast, professional storyteller, man of faith.\", \"friends_count\": 1931, \"location\": \"Salt Lake City, UT\", \"profile_link_color\": \"2FC2EF\", \"profile_image_url\": \"http://pbs.twimg.com/profile_images/465965547855679488/ONqxqGvL_normal.jpeg\", \"following\": false, \"geo_enabled\": true, \"profile_banner_url\": \"https://pbs.twimg.com/profile_banners/614/1365311832\", \"profile_background_image_url\": \"http://abs.twimg.com/images/themes/theme9/bg.gif\", \"name\": \"Christian Harrison\", \"lang\": \"en\", \"profile_background_tile\": false, \"favourites_count\": 83, \"screen_name\": \"dcharrison\", \"notifications\": false, \"url\": \"http://t.co/x5Vr8HWFxj\", \"created_at\": \"Thu Jul 13 20:30:05 +0000 2006\", \"contributors_enabled\": false, \"time_zone\": \"Tehran\", \"protected\": false, \"default_profile\": false, \"is_translator\": false}, \"geo\": null, \"in_reply_to_user_id_str\": null, \"possibly_sensitive\": false, \"lang\": \"en\", \"created_at\": \"Fri Sep 19 17:28:26 +0000 2014\", \"in_reply_to_status_id_str\": null, \"place\": null}, {\"contributors\": null, \"truncated\": false, \"text\": \"The Kingdom remains United!... http://t.co/9JMPArpYsG\", \"in_reply_to_status_id\": null, \"id\": 512865635970187266, \"favorite_count\": 0, \"source\": \"<a href=\\\"http://www.facebook.com/twitter\\\" rel=\\\"nofollow\\\">Facebook</a>\", \"retweeted\": false, \"coordinates\": null, \"entities\": {\"symbols\": [], \"user_mentions\": [], \"hashtags\": [], \"urls\": [{\"url\": \"http://t.co/9JMPArpYsG\", \"indices\": [31, 53], \"expanded_url\": \"http://fb.me/6LXWznpEM\", \"display_url\": \"fb.me/6LXWznpEM\"}]}, \"in_reply_to_screen_name\": null, \"id_str\": \"512865635970187266\", \"retweet_count\": 0, \"in_reply_to_user_id\": null, \"favorited\": false, \"user\": {\"follow_request_sent\": false, \"profile_use_background_image\": false, \"profile_text_color\": \"666666\", \"default_profile_image\": false, \"id\": 614, \"profile_background_image_url_https\": \"https://abs.twimg.com/images/themes/theme9/bg.gif\", \"verified\": false, \"profile_location\": null, \"profile_image_url_https\": \"https://pbs.twimg.com/profile_images/465965547855679488/ONqxqGvL_normal.jpeg\", \"profile_sidebar_fill_color\": \"252429\", \"entities\": {\"url\": {\"urls\": [{\"url\": \"http://t.co/x5Vr8HWFxj\", \"indices\": [0, 22], \"expanded_url\": \"http://facebook.com/christian.harrison\", \"display_url\": \"facebook.com/christian.harr\\u2026\"}]}, \"description\": {\"urls\": []}}, \"followers_count\": 1377, \"profile_sidebar_border_color\": \"000000\", \"id_str\": \"614\", \"profile_background_color\": \"1A1B1F\", \"listed_count\": 39, \"is_translation_enabled\": false, \"utc_offset\": 12600, \"statuses_count\": 7894, \"description\": \"Urban enthusiast, professional storyteller, man of faith.\", \"friends_count\": 1931, \"location\": \"Salt Lake City, UT\", \"profile_link_color\": \"2FC2EF\", \"profile_image_url\": \"http://pbs.twimg.com/profile_images/465965547855679488/ONqxqGvL_normal.jpeg\", \"following\": false, \"geo_enabled\": true, \"profile_banner_url\": \"https://pbs.twimg.com/profile_banners/614/1365311832\", \"profile_background_image_url\": \"http://abs.twimg.com/images/themes/theme9/bg.gif\", \"name\": \"Christian Harrison\", \"lang\": \"en\", \"profile_background_tile\": false, \"favourites_count\": 83, \"screen_name\": \"dcharrison\", \"notifications\": false, \"url\": \"http://t.co/x5Vr8HWFxj\", \"created_at\": \"Thu Jul 13 20:30:05 +0000 2006\", \"contributors_enabled\": false, \"time_zone\": \"Tehran\", \"protected\": false, \"default_profile\": false, \"is_translator\": false}, \"geo\": null, \"in_reply_to_user_id_str\": null, \"possibly_sensitive\": false, \"lang\": \"en\", \"created_at\": \"Fri Sep 19 07:27:50 +0000 2014\", \"in_reply_to_status_id_str\": null, \"place\": null}, {\"contributors\": null, \"truncated\": false, \"text\": \"Scotland remains British!... http://t.co/h8W9iWHNrh\", \"in_reply_to_status_id\": null, \"id\": 512859739995115520, \"favorite_count\": 0, \"source\": \"<a href=\\\"http://www.facebook.com/twitter\\\" rel=\\\"nofollow\\\">Facebook</a>\", \"retweeted\": false, \"coordinates\": null, \"entities\": {\"symbols\": [], \"user_mentions\": [], \"hashtags\": [], \"urls\": [{\"url\": \"http://t.co/h8W9iWHNrh\", \"indices\": [29, 51], \"expanded_url\": \"http://fb.me/2SnFWsFr9\", \"display_url\": \"fb.me/2SnFWsFr9\"}]}, \"in_reply_to_screen_name\": null, \"id_str\": \"512859739995115520\", \"retweet_count\": 0, \"in_reply_to_user_id\": null, \"favorited\": false, \"user\": {\"follow_request_sent\": false, \"profile_use_background_image\": false, \"profile_text_color\": \"666666\", \"default_profile_image\": false, \"id\": 614, \"profile_background_image_url_https\": \"https://abs.twimg.com/images/themes/theme9/bg.gif\", \"verified\": false, \"profile_location\": null, \"profile_image_url_https\": \"https://pbs.twimg.com/profile_images/465965547855679488/ONqxqGvL_normal.jpeg\", \"profile_sidebar_fill_color\": \"252429\", \"entities\": {\"url\": {\"urls\": [{\"url\": \"http://t.co/x5Vr8HWFxj\", \"indices\": [0, 22], \"expanded_url\": \"http://facebook.com/christian.harrison\", \"display_url\": \"facebook.com/christian.harr\\u2026\"}]}, \"description\": {\"urls\": []}}, \"followers_count\": 1377, \"profile_sidebar_border_color\": \"000000\", \"id_str\": \"614\", \"profile_background_color\": \"1A1B1F\", \"listed_count\": 39, \"is_translation_enabled\": false, \"utc_offset\": 12600, \"statuses_count\": 7894, \"description\": \"Urban enthusiast, professional storyteller, man of faith.\", \"friends_count\": 1931, \"location\": \"Salt Lake City, UT\", \"profile_link_color\": \"2FC2EF\", \"profile_image_url\": \"http://pbs.twimg.com/profile_images/465965547855679488/ONqxqGvL_normal.jpeg\", \"following\": false, \"geo_enabled\": true, \"profile_banner_url\": \"https://pbs.twimg.com/profile_banners/614/1365311832\", \"profile_background_image_url\": \"http://abs.twimg.com/images/themes/theme9/bg.gif\", \"name\": \"Christian Harrison\", \"lang\": \"en\", \"profile_background_tile\": false, \"favourites_count\": 83, \"screen_name\": \"dcharrison\", \"notifications\": false, \"url\": \"http://t.co/x5Vr8HWFxj\", \"created_at\": \"Thu Jul 13 20:30:05 +0000 2006\", \"contributors_enabled\": false, \"time_zone\": \"Tehran\", \"protected\": false, \"default_profile\": false, \"is_translator\": false}, \"geo\": null, \"in_reply_to_user_id_str\": null, \"possibly_sensitive\": false, \"lang\": \"en\", \"created_at\": \"Fri Sep 19 07:04:25 +0000 2014\", \"in_reply_to_status_id_str\": null, \"place\": null}, {\"contributors\": null, \"truncated\": false, \"text\": \"@ByCommonConsent \\u2026 so frustrating. When will @BYUID stop being an embarrassment to the faith? #WhitedSepulcher\", \"in_reply_to_status_id\": 512723106465468417, \"id\": 512794204934635520, \"favorite_count\": 0, \"source\": \"<a href=\\\"http://twitter.com/download/iphone\\\" rel=\\\"nofollow\\\">Twitter for iPhone</a>\", \"retweeted\": false, \"coordinates\": null, \"entities\": {\"symbols\": [], \"user_mentions\": [{\"id\": 19545064, \"indices\": [0, 16], \"id_str\": \"19545064\", \"screen_name\": \"ByCommonConsent\", \"name\": \"By Haunted Consent\"}, {\"id\": 353273181, \"indices\": [45, 51], \"id_str\": \"353273181\", \"screen_name\": \"BYUID\", \"name\": \"BYU-Idaho\"}], \"hashtags\": [{\"indices\": [94, 110], \"text\": \"WhitedSepulcher\"}], \"urls\": []}, \"in_reply_to_screen_name\": \"ByCommonConsent\", \"id_str\": \"512794204934635520\", \"retweet_count\": 0, \"in_reply_to_user_id\": 19545064, \"favorited\": false, \"user\": {\"follow_request_sent\": false, \"profile_use_background_image\": false, \"profile_text_color\": \"666666\", \"default_profile_image\": false, \"id\": 614, \"profile_background_image_url_https\": \"https://abs.twimg.com/images/themes/theme9/bg.gif\", \"verified\": false, \"profile_location\": null, \"profile_image_url_https\": \"https://pbs.twimg.com/profile_images/465965547855679488/ONqxqGvL_normal.jpeg\", \"profile_sidebar_fill_color\": \"252429\", \"entities\": {\"url\": {\"urls\": [{\"url\": \"http://t.co/x5Vr8HWFxj\", \"indices\": [0, 22], \"expanded_url\": \"http://facebook.com/christian.harrison\", \"display_url\": \"facebook.com/christian.harr\\u2026\"}]}, \"description\": {\"urls\": []}}, \"followers_count\": 1377, \"profile_sidebar_border_color\": \"000000\", \"id_str\": \"614\", \"profile_background_color\": \"1A1B1F\", \"listed_count\": 39, \"is_translation_enabled\": false, \"utc_offset\": 12600, \"statuses_count\": 7894, \"description\": \"Urban enthusiast, professional storyteller, man of faith.\", \"friends_count\": 1931, \"location\": \"Salt Lake City, UT\", \"profile_link_color\": \"2FC2EF\", \"profile_image_url\": \"http://pbs.twimg.com/profile_images/465965547855679488/ONqxqGvL_normal.jpeg\", \"following\": false, \"geo_enabled\": true, \"profile_banner_url\": \"https://pbs.twimg.com/profile_banners/614/1365311832\", \"profile_background_image_url\": \"http://abs.twimg.com/images/themes/theme9/bg.gif\", \"name\": \"Christian Harrison\", \"lang\": \"en\", \"profile_background_tile\": false, \"favourites_count\": 83, \"screen_name\": \"dcharrison\", \"notifications\": false, \"url\": \"http://t.co/x5Vr8HWFxj\", \"created_at\": \"Thu Jul 13 20:30:05 +0000 2006\", \"contributors_enabled\": false, \"time_zone\": \"Tehran\", \"protected\": false, \"default_profile\": false, \"is_translator\": false}, \"geo\": null, \"in_reply_to_user_id_str\": \"19545064\", \"lang\": \"en\", \"created_at\": \"Fri Sep 19 02:44:00 +0000 2014\", \"in_reply_to_status_id_str\": \"512723106465468417\", \"place\": null}, {\"contributors\": null, \"truncated\": false, \"text\": \"And with this, @ByCommonConsent reminds us that PETTY is still in fashion at BYU Jr\\u2014@BYUID, will you ever learn? http://t.co/3VsY2y0wjn\", \"in_reply_to_status_id\": null, \"id\": 512792622499250176, \"favorite_count\": 2, \"source\": \"<a href=\\\"http://twitter.com/download/iphone\\\" rel=\\\"nofollow\\\">Twitter for iPhone</a>\", \"retweeted\": false, \"coordinates\": null, \"entities\": {\"symbols\": [], \"user_mentions\": [{\"id\": 19545064, \"indices\": [15, 31], \"id_str\": \"19545064\", \"screen_name\": \"ByCommonConsent\", \"name\": \"By Haunted Consent\"}, {\"id\": 353273181, \"indices\": [84, 90], \"id_str\": \"353273181\", \"screen_name\": \"BYUID\", \"name\": \"BYU-Idaho\"}], \"hashtags\": [], \"urls\": [], \"media\": [{\"expanded_url\": \"http://twitter.com/dcharrison/status/512792622499250176/photo/1\", \"display_url\": \"pic.twitter.com/3VsY2y0wjn\", \"url\": \"http://t.co/3VsY2y0wjn\", \"media_url_https\": \"https://pbs.twimg.com/media/Bx3OLB5CUAA68Tp.jpg\", \"id_str\": \"512792621471649792\", \"sizes\": {\"small\": {\"h\": 301, \"resize\": \"fit\", \"w\": 340}, \"large\": {\"h\": 436, \"resize\": \"fit\", \"w\": 492}, \"medium\": {\"h\": 436, \"resize\": \"fit\", \"w\": 492}, \"thumb\": {\"h\": 150, \"resize\": \"crop\", \"w\": 150}}, \"indices\": [113, 135], \"type\": \"photo\", \"id\": 512792621471649792, \"media_url\": \"http://pbs.twimg.com/media/Bx3OLB5CUAA68Tp.jpg\"}]}, \"in_reply_to_screen_name\": null, \"id_str\": \"512792622499250176\", \"retweet_count\": 1, \"in_reply_to_user_id\": null, \"favorited\": false, \"user\": {\"follow_request_sent\": false, \"profile_use_background_image\": false, \"profile_text_color\": \"666666\", \"default_profile_image\": false, \"id\": 614, \"profile_background_image_url_https\": \"https://abs.twimg.com/images/themes/theme9/bg.gif\", \"verified\": false, \"profile_location\": null, \"profile_image_url_https\": \"https://pbs.twimg.com/profile_images/465965547855679488/ONqxqGvL_normal.jpeg\", \"profile_sidebar_fill_color\": \"252429\", \"entities\": {\"url\": {\"urls\": [{\"url\": \"http://t.co/x5Vr8HWFxj\", \"indices\": [0, 22], \"expanded_url\": \"http://facebook.com/christian.harrison\", \"display_url\": \"facebook.com/christian.harr\\u2026\"}]}, \"description\": {\"urls\": []}}, \"followers_count\": 1377, \"profile_sidebar_border_color\": \"000000\", \"id_str\": \"614\", \"profile_background_color\": \"1A1B1F\", \"listed_count\": 39, \"is_translation_enabled\": false, \"utc_offset\": 12600, \"statuses_count\": 7894, \"description\": \"Urban enthusiast, professional storyteller, man of faith.\", \"friends_count\": 1931, \"location\": \"Salt Lake City, UT\", \"profile_link_color\": \"2FC2EF\", \"profile_image_url\": \"http://pbs.twimg.com/profile_images/465965547855679488/ONqxqGvL_normal.jpeg\", \"following\": false, \"geo_enabled\": true, \"profile_banner_url\": \"https://pbs.twimg.com/profile_banners/614/1365311832\", \"profile_background_image_url\": \"http://abs.twimg.com/images/themes/theme9/bg.gif\", \"name\": \"Christian Harrison\", \"lang\": \"en\", \"profile_background_tile\": false, \"favourites_count\": 83, \"screen_name\": \"dcharrison\", \"notifications\": false, \"url\": \"http://t.co/x5Vr8HWFxj\", \"created_at\": \"Thu Jul 13 20:30:05 +0000 2006\", \"contributors_enabled\": false, \"time_zone\": \"Tehran\", \"protected\": false, \"default_profile\": false, \"is_translator\": false}, \"geo\": null, \"in_reply_to_user_id_str\": null, \"possibly_sensitive\": false, \"lang\": \"en\", \"created_at\": \"Fri Sep 19 02:37:43 +0000 2014\", \"in_reply_to_status_id_str\": null, \"place\": null, \"extended_entities\": {\"media\": [{\"expanded_url\": \"http://twitter.com/dcharrison/status/512792622499250176/photo/1\", \"display_url\": \"pic.twitter.com/3VsY2y0wjn\", \"url\": \"http://t.co/3VsY2y0wjn\", \"media_url_https\": \"https://pbs.twimg.com/media/Bx3OLB5CUAA68Tp.jpg\", \"id_str\": \"512792621471649792\", \"sizes\": {\"small\": {\"h\": 301, \"resize\": \"fit\", \"w\": 340}, \"large\": {\"h\": 436, \"resize\": \"fit\", \"w\": 492}, \"medium\": {\"h\": 436, \"resize\": \"fit\", \"w\": 492}, \"thumb\": {\"h\": 150, \"resize\": \"crop\", \"w\": 150}}, \"indices\": [113, 135], \"type\": \"photo\", \"id\": 512792621471649792, \"media_url\": \"http://pbs.twimg.com/media/Bx3OLB5CUAA68Tp.jpg\"}]}}, {\"contributors\": null, \"truncated\": false, \"text\": \"This is disturbing\\u2026 http://t.co/aGm4mFoWMO\", \"in_reply_to_status_id\": null, \"id\": 512670621395079168, \"favorite_count\": 0, \"source\": \"<a href=\\\"http://www.facebook.com/twitter\\\" rel=\\\"nofollow\\\">Facebook</a>\", \"retweeted\": false, \"coordinates\": null, \"entities\": {\"symbols\": [], \"user_mentions\": [], \"hashtags\": [], \"urls\": [{\"url\": \"http://t.co/aGm4mFoWMO\", \"indices\": [20, 42], \"expanded_url\": \"http://fb.me/6HuCRakCn\", \"display_url\": \"fb.me/6HuCRakCn\"}]}, \"in_reply_to_screen_name\": null, \"id_str\": \"512670621395079168\", \"retweet_count\": 0, \"in_reply_to_user_id\": null, \"favorited\": false, \"user\": {\"follow_request_sent\": false, \"profile_use_background_image\": false, \"profile_text_color\": \"666666\", \"default_profile_image\": false, \"id\": 614, \"profile_background_image_url_https\": \"https://abs.twimg.com/images/themes/theme9/bg.gif\", \"verified\": false, \"profile_location\": null, \"profile_image_url_https\": \"https://pbs.twimg.com/profile_images/465965547855679488/ONqxqGvL_normal.jpeg\", \"profile_sidebar_fill_color\": \"252429\", \"entities\": {\"url\": {\"urls\": [{\"url\": \"http://t.co/x5Vr8HWFxj\", \"indices\": [0, 22], \"expanded_url\": \"http://facebook.com/christian.harrison\", \"display_url\": \"facebook.com/christian.harr\\u2026\"}]}, \"description\": {\"urls\": []}}, \"followers_count\": 1377, \"profile_sidebar_border_color\": \"000000\", \"id_str\": \"614\", \"profile_background_color\": \"1A1B1F\", \"listed_count\": 39, \"is_translation_enabled\": false, \"utc_offset\": 12600, \"statuses_count\": 7894, \"description\": \"Urban enthusiast, professional storyteller, man of faith.\", \"friends_count\": 1931, \"location\": \"Salt Lake City, UT\", \"profile_link_color\": \"2FC2EF\", \"profile_image_url\": \"http://pbs.twimg.com/profile_images/465965547855679488/ONqxqGvL_normal.jpeg\", \"following\": false, \"geo_enabled\": true, \"profile_banner_url\": \"https://pbs.twimg.com/profile_banners/614/1365311832\", \"profile_background_image_url\": \"http://abs.twimg.com/images/themes/theme9/bg.gif\", \"name\": \"Christian Harrison\", \"lang\": \"en\", \"profile_background_tile\": false, \"favourites_count\": 83, \"screen_name\": \"dcharrison\", \"notifications\": false, \"url\": \"http://t.co/x5Vr8HWFxj\", \"created_at\": \"Thu Jul 13 20:30:05 +0000 2006\", \"contributors_enabled\": false, \"time_zone\": \"Tehran\", \"protected\": false, \"default_profile\": false, \"is_translator\": false}, \"geo\": null, \"in_reply_to_user_id_str\": null, \"possibly_sensitive\": false, \"lang\": \"en\", \"created_at\": \"Thu Sep 18 18:32:55 +0000 2014\", \"in_reply_to_status_id_str\": null, \"place\": null}, {\"contributors\": null, \"truncated\": false, \"text\": \"We challenged the UTA Board to use their own system: for 7 days, to use transit for all their transportation... http://t.co/4Lq0Oi8oZ7\", \"in_reply_to_status_id\": null, \"id\": 511975097897201664, \"favorite_count\": 0, \"source\": \"<a href=\\\"http://www.facebook.com/twitter\\\" rel=\\\"nofollow\\\">Facebook</a>\", \"retweeted\": false, \"coordinates\": null, \"entities\": {\"symbols\": [], \"user_mentions\": [], \"hashtags\": [], \"urls\": [{\"url\": \"http://t.co/4Lq0Oi8oZ7\", \"indices\": [112, 134], \"expanded_url\": \"http://fb.me/2Qianm1YG\", \"display_url\": \"fb.me/2Qianm1YG\"}]}, \"in_reply_to_screen_name\": null, \"id_str\": \"511975097897201664\", \"retweet_count\": 0, \"in_reply_to_user_id\": null, \"favorited\": false, \"user\": {\"follow_request_sent\": false, \"profile_use_background_image\": false, \"profile_text_color\": \"666666\", \"default_profile_image\": false, \"id\": 614, \"profile_background_image_url_https\": \"https://abs.twimg.com/images/themes/theme9/bg.gif\", \"verified\": false, \"profile_location\": null, \"profile_image_url_https\": \"https://pbs.twimg.com/profile_images/465965547855679488/ONqxqGvL_normal.jpeg\", \"profile_sidebar_fill_color\": \"252429\", \"entities\": {\"url\": {\"urls\": [{\"url\": \"http://t.co/x5Vr8HWFxj\", \"indices\": [0, 22], \"expanded_url\": \"http://facebook.com/christian.harrison\", \"display_url\": \"facebook.com/christian.harr\\u2026\"}]}, \"description\": {\"urls\": []}}, \"followers_count\": 1377, \"profile_sidebar_border_color\": \"000000\", \"id_str\": \"614\", \"profile_background_color\": \"1A1B1F\", \"listed_count\": 39, \"is_translation_enabled\": false, \"utc_offset\": 12600, \"statuses_count\": 7894, \"description\": \"Urban enthusiast, professional storyteller, man of faith.\", \"friends_count\": 1931, \"location\": \"Salt Lake City, UT\", \"profile_link_color\": \"2FC2EF\", \"profile_image_url\": \"http://pbs.twimg.com/profile_images/465965547855679488/ONqxqGvL_normal.jpeg\", \"following\": false, \"geo_enabled\": true, \"profile_banner_url\": \"https://pbs.twimg.com/profile_banners/614/1365311832\", \"profile_background_image_url\": \"http://abs.twimg.com/images/themes/theme9/bg.gif\", \"name\": \"Christian Harrison\", \"lang\": \"en\", \"profile_background_tile\": false, \"favourites_count\": 83, \"screen_name\": \"dcharrison\", \"notifications\": false, \"url\": \"http://t.co/x5Vr8HWFxj\", \"created_at\": \"Thu Jul 13 20:30:05 +0000 2006\", \"contributors_enabled\": false, \"time_zone\": \"Tehran\", \"protected\": false, \"default_profile\": false, \"is_translator\": false}, \"geo\": null, \"in_reply_to_user_id_str\": null, \"possibly_sensitive\": false, \"lang\": \"en\", \"created_at\": \"Tue Sep 16 20:29:10 +0000 2014\", \"in_reply_to_status_id_str\": null, \"place\": null}, {\"contributors\": null, \"truncated\": false, \"text\": \"I'm privileged to personally know most of those involved in this matter \\u2014 and I know, respect, and honestly adore... http://t.co/ZlUEoOiKOr\", \"in_reply_to_status_id\": null, \"id\": 511907152840368128, \"favorite_count\": 0, \"source\": \"<a href=\\\"http://www.facebook.com/twitter\\\" rel=\\\"nofollow\\\">Facebook</a>\", \"retweeted\": false, \"coordinates\": null, \"entities\": {\"symbols\": [], \"user_mentions\": [], \"hashtags\": [], \"urls\": [{\"url\": \"http://t.co/ZlUEoOiKOr\", \"indices\": [117, 139], \"expanded_url\": \"http://fb.me/6LH057zFg\", \"display_url\": \"fb.me/6LH057zFg\"}]}, \"in_reply_to_screen_name\": null, \"id_str\": \"511907152840368128\", \"retweet_count\": 0, \"in_reply_to_user_id\": null, \"favorited\": false, \"user\": {\"follow_request_sent\": false, \"profile_use_background_image\": false, \"profile_text_color\": \"666666\", \"default_profile_image\": false, \"id\": 614, \"profile_background_image_url_https\": \"https://abs.twimg.com/images/themes/theme9/bg.gif\", \"verified\": false, \"profile_location\": null, \"profile_image_url_https\": \"https://pbs.twimg.com/profile_images/465965547855679488/ONqxqGvL_normal.jpeg\", \"profile_sidebar_fill_color\": \"252429\", \"entities\": {\"url\": {\"urls\": [{\"url\": \"http://t.co/x5Vr8HWFxj\", \"indices\": [0, 22], \"expanded_url\": \"http://facebook.com/christian.harrison\", \"display_url\": \"facebook.com/christian.harr\\u2026\"}]}, \"description\": {\"urls\": []}}, \"followers_count\": 1377, \"profile_sidebar_border_color\": \"000000\", \"id_str\": \"614\", \"profile_background_color\": \"1A1B1F\", \"listed_count\": 39, \"is_translation_enabled\": false, \"utc_offset\": 12600, \"statuses_count\": 7894, \"description\": \"Urban enthusiast, professional storyteller, man of faith.\", \"friends_count\": 1931, \"location\": \"Salt Lake City, UT\", \"profile_link_color\": \"2FC2EF\", \"profile_image_url\": \"http://pbs.twimg.com/profile_images/465965547855679488/ONqxqGvL_normal.jpeg\", \"following\": false, \"geo_enabled\": true, \"profile_banner_url\": \"https://pbs.twimg.com/profile_banners/614/1365311832\", \"profile_background_image_url\": \"http://abs.twimg.com/images/themes/theme9/bg.gif\", \"name\": \"Christian Harrison\", \"lang\": \"en\", \"profile_background_tile\": false, \"favourites_count\": 83, \"screen_name\": \"dcharrison\", \"notifications\": false, \"url\": \"http://t.co/x5Vr8HWFxj\", \"created_at\": \"Thu Jul 13 20:30:05 +0000 2006\", \"contributors_enabled\": false, \"time_zone\": \"Tehran\", \"protected\": false, \"default_profile\": false, \"is_translator\": false}, \"geo\": null, \"in_reply_to_user_id_str\": null, \"possibly_sensitive\": false, \"lang\": \"en\", \"created_at\": \"Tue Sep 16 15:59:10 +0000 2014\", \"in_reply_to_status_id_str\": null, \"place\": null}, {\"contributors\": null, \"truncated\": false, \"text\": \"Ha! http://t.co/kLqD33x2iq\", \"in_reply_to_status_id\": null, \"id\": 511709409211609089, \"favorite_count\": 0, \"source\": \"<a href=\\\"http://www.facebook.com/twitter\\\" rel=\\\"nofollow\\\">Facebook</a>\", \"retweeted\": false, \"coordinates\": null, \"entities\": {\"symbols\": [], \"user_mentions\": [], \"hashtags\": [], \"urls\": [{\"url\": \"http://t.co/kLqD33x2iq\", \"indices\": [4, 26], \"expanded_url\": \"http://fb.me/75gIKemqP\", \"display_url\": \"fb.me/75gIKemqP\"}]}, \"in_reply_to_screen_name\": null, \"id_str\": \"511709409211609089\", \"retweet_count\": 0, \"in_reply_to_user_id\": null, \"favorited\": false, \"user\": {\"follow_request_sent\": false, \"profile_use_background_image\": false, \"profile_text_color\": \"666666\", \"default_profile_image\": false, \"id\": 614, \"profile_background_image_url_https\": \"https://abs.twimg.com/images/themes/theme9/bg.gif\", \"verified\": false, \"profile_location\": null, \"profile_image_url_https\": \"https://pbs.twimg.com/profile_images/465965547855679488/ONqxqGvL_normal.jpeg\", \"profile_sidebar_fill_color\": \"252429\", \"entities\": {\"url\": {\"urls\": [{\"url\": \"http://t.co/x5Vr8HWFxj\", \"indices\": [0, 22], \"expanded_url\": \"http://facebook.com/christian.harrison\", \"display_url\": \"facebook.com/christian.harr\\u2026\"}]}, \"description\": {\"urls\": []}}, \"followers_count\": 1377, \"profile_sidebar_border_color\": \"000000\", \"id_str\": \"614\", \"profile_background_color\": \"1A1B1F\", \"listed_count\": 39, \"is_translation_enabled\": false, \"utc_offset\": 12600, \"statuses_count\": 7894, \"description\": \"Urban enthusiast, professional storyteller, man of faith.\", \"friends_count\": 1931, \"location\": \"Salt Lake City, UT\", \"profile_link_color\": \"2FC2EF\", \"profile_image_url\": \"http://pbs.twimg.com/profile_images/465965547855679488/ONqxqGvL_normal.jpeg\", \"following\": false, \"geo_enabled\": true, \"profile_banner_url\": \"https://pbs.twimg.com/profile_banners/614/1365311832\", \"profile_background_image_url\": \"http://abs.twimg.com/images/themes/theme9/bg.gif\", \"name\": \"Christian Harrison\", \"lang\": \"en\", \"profile_background_tile\": false, \"favourites_count\": 83, \"screen_name\": \"dcharrison\", \"notifications\": false, \"url\": \"http://t.co/x5Vr8HWFxj\", \"created_at\": \"Thu Jul 13 20:30:05 +0000 2006\", \"contributors_enabled\": false, \"time_zone\": \"Tehran\", \"protected\": false, \"default_profile\": false, \"is_translator\": false}, \"geo\": null, \"in_reply_to_user_id_str\": null, \"possibly_sensitive\": false, \"lang\": \"und\", \"created_at\": \"Tue Sep 16 02:53:24 +0000 2014\", \"in_reply_to_status_id_str\": null, \"place\": null}, {\"contributors\": null, \"truncated\": false, \"text\": \"And yet more on one of my perennial favorite topics: tipping. http://t.co/OdFZJVK4dw\", \"in_reply_to_status_id\": null, \"id\": 511566512558460928, \"favorite_count\": 0, \"source\": \"<a href=\\\"http://www.facebook.com/twitter\\\" rel=\\\"nofollow\\\">Facebook</a>\", \"retweeted\": false, \"coordinates\": null, \"entities\": {\"symbols\": [], \"user_mentions\": [], \"hashtags\": [], \"urls\": [{\"url\": \"http://t.co/OdFZJVK4dw\", \"indices\": [62, 84], \"expanded_url\": \"http://fb.me/3Oi9KgyUz\", \"display_url\": \"fb.me/3Oi9KgyUz\"}]}, \"in_reply_to_screen_name\": null, \"id_str\": \"511566512558460928\", \"retweet_count\": 0, \"in_reply_to_user_id\": null, \"favorited\": false, \"user\": {\"follow_request_sent\": false, \"profile_use_background_image\": false, \"profile_text_color\": \"666666\", \"default_profile_image\": false, \"id\": 614, \"profile_background_image_url_https\": \"https://abs.twimg.com/images/themes/theme9/bg.gif\", \"verified\": false, \"profile_location\": null, \"profile_image_url_https\": \"https://pbs.twimg.com/profile_images/465965547855679488/ONqxqGvL_normal.jpeg\", \"profile_sidebar_fill_color\": \"252429\", \"entities\": {\"url\": {\"urls\": [{\"url\": \"http://t.co/x5Vr8HWFxj\", \"indices\": [0, 22], \"expanded_url\": \"http://facebook.com/christian.harrison\", \"display_url\": \"facebook.com/christian.harr\\u2026\"}]}, \"description\": {\"urls\": []}}, \"followers_count\": 1377, \"profile_sidebar_border_color\": \"000000\", \"id_str\": \"614\", \"profile_background_color\": \"1A1B1F\", \"listed_count\": 39, \"is_translation_enabled\": false, \"utc_offset\": 12600, \"statuses_count\": 7894, \"description\": \"Urban enthusiast, professional storyteller, man of faith.\", \"friends_count\": 1931, \"location\": \"Salt Lake City, UT\", \"profile_link_color\": \"2FC2EF\", \"profile_image_url\": \"http://pbs.twimg.com/profile_images/465965547855679488/ONqxqGvL_normal.jpeg\", \"following\": false, \"geo_enabled\": true, \"profile_banner_url\": \"https://pbs.twimg.com/profile_banners/614/1365311832\", \"profile_background_image_url\": \"http://abs.twimg.com/images/themes/theme9/bg.gif\", \"name\": \"Christian Harrison\", \"lang\": \"en\", \"profile_background_tile\": false, \"favourites_count\": 83, \"screen_name\": \"dcharrison\", \"notifications\": false, \"url\": \"http://t.co/x5Vr8HWFxj\", \"created_at\": \"Thu Jul 13 20:30:05 +0000 2006\", \"contributors_enabled\": false, \"time_zone\": \"Tehran\", \"protected\": false, \"default_profile\": false, \"is_translator\": false}, \"geo\": null, \"in_reply_to_user_id_str\": null, \"possibly_sensitive\": false, \"lang\": \"en\", \"created_at\": \"Mon Sep 15 17:25:35 +0000 2014\", \"in_reply_to_status_id_str\": null, \"place\": null}, {\"contributors\": null, \"truncated\": false, \"text\": \"\\\"An American citizen was gunned down, shot in the back,\\\" Herb Flowers said. \\\"Obviously we\\u2019re not... http://t.co/fx2A7cvnyZ\", \"in_reply_to_status_id\": null, \"id\": 511515844514676736, \"favorite_count\": 0, \"source\": \"<a href=\\\"http://www.facebook.com/twitter\\\" rel=\\\"nofollow\\\">Facebook</a>\", \"retweeted\": false, \"coordinates\": null, \"entities\": {\"symbols\": [], \"user_mentions\": [], \"hashtags\": [], \"urls\": [{\"url\": \"http://t.co/fx2A7cvnyZ\", \"indices\": [100, 122], \"expanded_url\": \"http://fb.me/74LQXEPkJ\", \"display_url\": \"fb.me/74LQXEPkJ\"}]}, \"in_reply_to_screen_name\": null, \"id_str\": \"511515844514676736\", \"retweet_count\": 0, \"in_reply_to_user_id\": null, \"favorited\": false, \"user\": {\"follow_request_sent\": false, \"profile_use_background_image\": false, \"profile_text_color\": \"666666\", \"default_profile_image\": false, \"id\": 614, \"profile_background_image_url_https\": \"https://abs.twimg.com/images/themes/theme9/bg.gif\", \"verified\": false, \"profile_location\": null, \"profile_image_url_https\": \"https://pbs.twimg.com/profile_images/465965547855679488/ONqxqGvL_normal.jpeg\", \"profile_sidebar_fill_color\": \"252429\", \"entities\": {\"url\": {\"urls\": [{\"url\": \"http://t.co/x5Vr8HWFxj\", \"indices\": [0, 22], \"expanded_url\": \"http://facebook.com/christian.harrison\", \"display_url\": \"facebook.com/christian.harr\\u2026\"}]}, \"description\": {\"urls\": []}}, \"followers_count\": 1377, \"profile_sidebar_border_color\": \"000000\", \"id_str\": \"614\", \"profile_background_color\": \"1A1B1F\", \"listed_count\": 39, \"is_translation_enabled\": false, \"utc_offset\": 12600, \"statuses_count\": 7894, \"description\": \"Urban enthusiast, professional storyteller, man of faith.\", \"friends_count\": 1931, \"location\": \"Salt Lake City, UT\", \"profile_link_color\": \"2FC2EF\", \"profile_image_url\": \"http://pbs.twimg.com/profile_images/465965547855679488/ONqxqGvL_normal.jpeg\", \"following\": false, \"geo_enabled\": true, \"profile_banner_url\": \"https://pbs.twimg.com/profile_banners/614/1365311832\", \"profile_background_image_url\": \"http://abs.twimg.com/images/themes/theme9/bg.gif\", \"name\": \"Christian Harrison\", \"lang\": \"en\", \"profile_background_tile\": false, \"favourites_count\": 83, \"screen_name\": \"dcharrison\", \"notifications\": false, \"url\": \"http://t.co/x5Vr8HWFxj\", \"created_at\": \"Thu Jul 13 20:30:05 +0000 2006\", \"contributors_enabled\": false, \"time_zone\": \"Tehran\", \"protected\": false, \"default_profile\": false, \"is_translator\": false}, \"geo\": null, \"in_reply_to_user_id_str\": null, \"possibly_sensitive\": false, \"lang\": \"en\", \"created_at\": \"Mon Sep 15 14:04:15 +0000 2014\", \"in_reply_to_status_id_str\": null, \"place\": null}, {\"contributors\": null, \"truncated\": false, \"text\": \"Sobering. http://t.co/xvONjNec87\", \"in_reply_to_status_id\": null, \"id\": 511368145698033664, \"favorite_count\": 0, \"source\": \"<a href=\\\"http://www.facebook.com/twitter\\\" rel=\\\"nofollow\\\">Facebook</a>\", \"retweeted\": false, \"coordinates\": null, \"entities\": {\"symbols\": [], \"user_mentions\": [], \"hashtags\": [], \"urls\": [{\"url\": \"http://t.co/xvONjNec87\", \"indices\": [10, 32], \"expanded_url\": \"http://fb.me/3EkWQugvy\", \"display_url\": \"fb.me/3EkWQugvy\"}]}, \"in_reply_to_screen_name\": null, \"id_str\": \"511368145698033664\", \"retweet_count\": 0, \"in_reply_to_user_id\": null, \"favorited\": false, \"user\": {\"follow_request_sent\": false, \"profile_use_background_image\": false, \"profile_text_color\": \"666666\", \"default_profile_image\": false, \"id\": 614, \"profile_background_image_url_https\": \"https://abs.twimg.com/images/themes/theme9/bg.gif\", \"verified\": false, \"profile_location\": null, \"profile_image_url_https\": \"https://pbs.twimg.com/profile_images/465965547855679488/ONqxqGvL_normal.jpeg\", \"profile_sidebar_fill_color\": \"252429\", \"entities\": {\"url\": {\"urls\": [{\"url\": \"http://t.co/x5Vr8HWFxj\", \"indices\": [0, 22], \"expanded_url\": \"http://facebook.com/christian.harrison\", \"display_url\": \"facebook.com/christian.harr\\u2026\"}]}, \"description\": {\"urls\": []}}, \"followers_count\": 1377, \"profile_sidebar_border_color\": \"000000\", \"id_str\": \"614\", \"profile_background_color\": \"1A1B1F\", \"listed_count\": 39, \"is_translation_enabled\": false, \"utc_offset\": 12600, \"statuses_count\": 7894, \"description\": \"Urban enthusiast, professional storyteller, man of faith.\", \"friends_count\": 1931, \"location\": \"Salt Lake City, UT\", \"profile_link_color\": \"2FC2EF\", \"profile_image_url\": \"http://pbs.twimg.com/profile_images/465965547855679488/ONqxqGvL_normal.jpeg\", \"following\": false, \"geo_enabled\": true, \"profile_banner_url\": \"https://pbs.twimg.com/profile_banners/614/1365311832\", \"profile_background_image_url\": \"http://abs.twimg.com/images/themes/theme9/bg.gif\", \"name\": \"Christian Harrison\", \"lang\": \"en\", \"profile_background_tile\": false, \"favourites_count\": 83, \"screen_name\": \"dcharrison\", \"notifications\": false, \"url\": \"http://t.co/x5Vr8HWFxj\", \"created_at\": \"Thu Jul 13 20:30:05 +0000 2006\", \"contributors_enabled\": false, \"time_zone\": \"Tehran\", \"protected\": false, \"default_profile\": false, \"is_translator\": false}, \"geo\": null, \"in_reply_to_user_id_str\": null, \"possibly_sensitive\": false, \"lang\": \"en\", \"created_at\": \"Mon Sep 15 04:17:21 +0000 2014\", \"in_reply_to_status_id_str\": null, \"place\": null}, {\"contributors\": null, \"truncated\": false, \"text\": \"\\\"In closed prisons we keep them locked up for some years and then let them back out, not having had any real... http://t.co/asno31ZCla\", \"in_reply_to_status_id\": null, \"id\": 510914904916627456, \"favorite_count\": 0, \"source\": \"<a href=\\\"http://www.facebook.com/twitter\\\" rel=\\\"nofollow\\\">Facebook</a>\", \"retweeted\": false, \"coordinates\": null, \"entities\": {\"symbols\": [], \"user_mentions\": [], \"hashtags\": [], \"urls\": [{\"url\": \"http://t.co/asno31ZCla\", \"indices\": [112, 134], \"expanded_url\": \"http://fb.me/3F1ReBP4Z\", \"display_url\": \"fb.me/3F1ReBP4Z\"}]}, \"in_reply_to_screen_name\": null, \"id_str\": \"510914904916627456\", \"retweet_count\": 0, \"in_reply_to_user_id\": null, \"favorited\": false, \"user\": {\"follow_request_sent\": false, \"profile_use_background_image\": false, \"profile_text_color\": \"666666\", \"default_profile_image\": false, \"id\": 614, \"profile_background_image_url_https\": \"https://abs.twimg.com/images/themes/theme9/bg.gif\", \"verified\": false, \"profile_location\": null, \"profile_image_url_https\": \"https://pbs.twimg.com/profile_images/465965547855679488/ONqxqGvL_normal.jpeg\", \"profile_sidebar_fill_color\": \"252429\", \"entities\": {\"url\": {\"urls\": [{\"url\": \"http://t.co/x5Vr8HWFxj\", \"indices\": [0, 22], \"expanded_url\": \"http://facebook.com/christian.harrison\", \"display_url\": \"facebook.com/christian.harr\\u2026\"}]}, \"description\": {\"urls\": []}}, \"followers_count\": 1377, \"profile_sidebar_border_color\": \"000000\", \"id_str\": \"614\", \"profile_background_color\": \"1A1B1F\", \"listed_count\": 39, \"is_translation_enabled\": false, \"utc_offset\": 12600, \"statuses_count\": 7894, \"description\": \"Urban enthusiast, professional storyteller, man of faith.\", \"friends_count\": 1931, \"location\": \"Salt Lake City, UT\", \"profile_link_color\": \"2FC2EF\", \"profile_image_url\": \"http://pbs.twimg.com/profile_images/465965547855679488/ONqxqGvL_normal.jpeg\", \"following\": false, \"geo_enabled\": true, \"profile_banner_url\": \"https://pbs.twimg.com/profile_banners/614/1365311832\", \"profile_background_image_url\": \"http://abs.twimg.com/images/themes/theme9/bg.gif\", \"name\": \"Christian Harrison\", \"lang\": \"en\", \"profile_background_tile\": false, \"favourites_count\": 83, \"screen_name\": \"dcharrison\", \"notifications\": false, \"url\": \"http://t.co/x5Vr8HWFxj\", \"created_at\": \"Thu Jul 13 20:30:05 +0000 2006\", \"contributors_enabled\": false, \"time_zone\": \"Tehran\", \"protected\": false, \"default_profile\": false, \"is_translator\": false}, \"geo\": null, \"in_reply_to_user_id_str\": null, \"possibly_sensitive\": false, \"lang\": \"en\", \"created_at\": \"Sat Sep 13 22:16:20 +0000 2014\", \"in_reply_to_status_id_str\": null, \"place\": null}, {\"contributors\": null, \"truncated\": false, \"text\": \"Despicable. http://t.co/2ftf1RoDKH\", \"in_reply_to_status_id\": null, \"id\": 509814197945769984, \"favorite_count\": 0, \"source\": \"<a href=\\\"http://www.facebook.com/twitter\\\" rel=\\\"nofollow\\\">Facebook</a>\", \"retweeted\": false, \"coordinates\": null, \"entities\": {\"symbols\": [], \"user_mentions\": [], \"hashtags\": [], \"urls\": [{\"url\": \"http://t.co/2ftf1RoDKH\", \"indices\": [12, 34], \"expanded_url\": \"http://fb.me/6Mr7c47f4\", \"display_url\": \"fb.me/6Mr7c47f4\"}]}, \"in_reply_to_screen_name\": null, \"id_str\": \"509814197945769984\", \"retweet_count\": 0, \"in_reply_to_user_id\": null, \"favorited\": false, \"user\": {\"follow_request_sent\": false, \"profile_use_background_image\": false, \"profile_text_color\": \"666666\", \"default_profile_image\": false, \"id\": 614, \"profile_background_image_url_https\": \"https://abs.twimg.com/images/themes/theme9/bg.gif\", \"verified\": false, \"profile_location\": null, \"profile_image_url_https\": \"https://pbs.twimg.com/profile_images/465965547855679488/ONqxqGvL_normal.jpeg\", \"profile_sidebar_fill_color\": \"252429\", \"entities\": {\"url\": {\"urls\": [{\"url\": \"http://t.co/x5Vr8HWFxj\", \"indices\": [0, 22], \"expanded_url\": \"http://facebook.com/christian.harrison\", \"display_url\": \"facebook.com/christian.harr\\u2026\"}]}, \"description\": {\"urls\": []}}, \"followers_count\": 1377, \"profile_sidebar_border_color\": \"000000\", \"id_str\": \"614\", \"profile_background_color\": \"1A1B1F\", \"listed_count\": 39, \"is_translation_enabled\": false, \"utc_offset\": 12600, \"statuses_count\": 7894, \"description\": \"Urban enthusiast, professional storyteller, man of faith.\", \"friends_count\": 1931, \"location\": \"Salt Lake City, UT\", \"profile_link_color\": \"2FC2EF\", \"profile_image_url\": \"http://pbs.twimg.com/profile_images/465965547855679488/ONqxqGvL_normal.jpeg\", \"following\": false, \"geo_enabled\": true, \"profile_banner_url\": \"https://pbs.twimg.com/profile_banners/614/1365311832\", \"profile_background_image_url\": \"http://abs.twimg.com/images/themes/theme9/bg.gif\", \"name\": \"Christian Harrison\", \"lang\": \"en\", \"profile_background_tile\": false, \"favourites_count\": 83, \"screen_name\": \"dcharrison\", \"notifications\": false, \"url\": \"http://t.co/x5Vr8HWFxj\", \"created_at\": \"Thu Jul 13 20:30:05 +0000 2006\", \"contributors_enabled\": false, \"time_zone\": \"Tehran\", \"protected\": false, \"default_profile\": false, \"is_translator\": false}, \"geo\": null, \"in_reply_to_user_id_str\": null, \"possibly_sensitive\": false, \"lang\": \"es\", \"created_at\": \"Wed Sep 10 21:22:31 +0000 2014\", \"in_reply_to_status_id_str\": null, \"place\": null}, {\"contributors\": null, \"truncated\": false, \"text\": \"Amen. http://t.co/SNpSITivwY\", \"in_reply_to_status_id\": null, \"id\": 509738929713446912, \"favorite_count\": 0, \"source\": \"<a href=\\\"http://www.facebook.com/twitter\\\" rel=\\\"nofollow\\\">Facebook</a>\", \"retweeted\": false, \"coordinates\": null, \"entities\": {\"symbols\": [], \"user_mentions\": [], \"hashtags\": [], \"urls\": [{\"url\": \"http://t.co/SNpSITivwY\", \"indices\": [6, 28], \"expanded_url\": \"http://fb.me/4cvYVFb7B\", \"display_url\": \"fb.me/4cvYVFb7B\"}]}, \"in_reply_to_screen_name\": null, \"id_str\": \"509738929713446912\", \"retweet_count\": 0, \"in_reply_to_user_id\": null, \"favorited\": false, \"user\": {\"follow_request_sent\": false, \"profile_use_background_image\": false, \"profile_text_color\": \"666666\", \"default_profile_image\": false, \"id\": 614, \"profile_background_image_url_https\": \"https://abs.twimg.com/images/themes/theme9/bg.gif\", \"verified\": false, \"profile_location\": null, \"profile_image_url_https\": \"https://pbs.twimg.com/profile_images/465965547855679488/ONqxqGvL_normal.jpeg\", \"profile_sidebar_fill_color\": \"252429\", \"entities\": {\"url\": {\"urls\": [{\"url\": \"http://t.co/x5Vr8HWFxj\", \"indices\": [0, 22], \"expanded_url\": \"http://facebook.com/christian.harrison\", \"display_url\": \"facebook.com/christian.harr\\u2026\"}]}, \"description\": {\"urls\": []}}, \"followers_count\": 1377, \"profile_sidebar_border_color\": \"000000\", \"id_str\": \"614\", \"profile_background_color\": \"1A1B1F\", \"listed_count\": 39, \"is_translation_enabled\": false, \"utc_offset\": 12600, \"statuses_count\": 7894, \"description\": \"Urban enthusiast, professional storyteller, man of faith.\", \"friends_count\": 1931, \"location\": \"Salt Lake City, UT\", \"profile_link_color\": \"2FC2EF\", \"profile_image_url\": \"http://pbs.twimg.com/profile_images/465965547855679488/ONqxqGvL_normal.jpeg\", \"following\": false, \"geo_enabled\": true, \"profile_banner_url\": \"https://pbs.twimg.com/profile_banners/614/1365311832\", \"profile_background_image_url\": \"http://abs.twimg.com/images/themes/theme9/bg.gif\", \"name\": \"Christian Harrison\", \"lang\": \"en\", \"profile_background_tile\": false, \"favourites_count\": 83, \"screen_name\": \"dcharrison\", \"notifications\": false, \"url\": \"http://t.co/x5Vr8HWFxj\", \"created_at\": \"Thu Jul 13 20:30:05 +0000 2006\", \"contributors_enabled\": false, \"time_zone\": \"Tehran\", \"protected\": false, \"default_profile\": false, \"is_translator\": false}, \"geo\": null, \"in_reply_to_user_id_str\": null, \"possibly_sensitive\": false, \"lang\": \"en\", \"created_at\": \"Wed Sep 10 16:23:25 +0000 2014\", \"in_reply_to_status_id_str\": null, \"place\": null}, {\"contributors\": null, \"truncated\": false, \"text\": \"My heart aches. http://t.co/xzn29Ae9yE\", \"in_reply_to_status_id\": null, \"id\": 509585738057654272, \"favorite_count\": 0, \"source\": \"<a href=\\\"http://www.facebook.com/twitter\\\" rel=\\\"nofollow\\\">Facebook</a>\", \"retweeted\": false, \"coordinates\": null, \"entities\": {\"symbols\": [], \"user_mentions\": [], \"hashtags\": [], \"urls\": [{\"url\": \"http://t.co/xzn29Ae9yE\", \"indices\": [16, 38], \"expanded_url\": \"http://fb.me/1mvMFbekh\", \"display_url\": \"fb.me/1mvMFbekh\"}]}, \"in_reply_to_screen_name\": null, \"id_str\": \"509585738057654272\", \"retweet_count\": 0, \"in_reply_to_user_id\": null, \"favorited\": false, \"user\": {\"follow_request_sent\": false, \"profile_use_background_image\": false, \"profile_text_color\": \"666666\", \"default_profile_image\": false, \"id\": 614, \"profile_background_image_url_https\": \"https://abs.twimg.com/images/themes/theme9/bg.gif\", \"verified\": false, \"profile_location\": null, \"profile_image_url_https\": \"https://pbs.twimg.com/profile_images/465965547855679488/ONqxqGvL_normal.jpeg\", \"profile_sidebar_fill_color\": \"252429\", \"entities\": {\"url\": {\"urls\": [{\"url\": \"http://t.co/x5Vr8HWFxj\", \"indices\": [0, 22], \"expanded_url\": \"http://facebook.com/christian.harrison\", \"display_url\": \"facebook.com/christian.harr\\u2026\"}]}, \"description\": {\"urls\": []}}, \"followers_count\": 1377, \"profile_sidebar_border_color\": \"000000\", \"id_str\": \"614\", \"profile_background_color\": \"1A1B1F\", \"listed_count\": 39, \"is_translation_enabled\": false, \"utc_offset\": 12600, \"statuses_count\": 7894, \"description\": \"Urban enthusiast, professional storyteller, man of faith.\", \"friends_count\": 1931, \"location\": \"Salt Lake City, UT\", \"profile_link_color\": \"2FC2EF\", \"profile_image_url\": \"http://pbs.twimg.com/profile_images/465965547855679488/ONqxqGvL_normal.jpeg\", \"following\": false, \"geo_enabled\": true, \"profile_banner_url\": \"https://pbs.twimg.com/profile_banners/614/1365311832\", \"profile_background_image_url\": \"http://abs.twimg.com/images/themes/theme9/bg.gif\", \"name\": \"Christian Harrison\", \"lang\": \"en\", \"profile_background_tile\": false, \"favourites_count\": 83, \"screen_name\": \"dcharrison\", \"notifications\": false, \"url\": \"http://t.co/x5Vr8HWFxj\", \"created_at\": \"Thu Jul 13 20:30:05 +0000 2006\", \"contributors_enabled\": false, \"time_zone\": \"Tehran\", \"protected\": false, \"default_profile\": false, \"is_translator\": false}, \"geo\": null, \"in_reply_to_user_id_str\": null, \"possibly_sensitive\": false, \"lang\": \"en\", \"created_at\": \"Wed Sep 10 06:14:42 +0000 2014\", \"in_reply_to_status_id_str\": null, \"place\": null}, {\"contributors\": null, \"truncated\": false, \"text\": \"Ooh \\u2026 an excuse to get freekeh \\u2026 http://t.co/pd34XS7fGd\", \"in_reply_to_status_id\": null, \"id\": 509549062253592576, \"favorite_count\": 0, \"source\": \"<a href=\\\"http://www.facebook.com/twitter\\\" rel=\\\"nofollow\\\">Facebook</a>\", \"retweeted\": false, \"coordinates\": null, \"entities\": {\"symbols\": [], \"user_mentions\": [], \"hashtags\": [], \"urls\": [{\"url\": \"http://t.co/pd34XS7fGd\", \"indices\": [33, 55], \"expanded_url\": \"http://fb.me/3143JA3yd\", \"display_url\": \"fb.me/3143JA3yd\"}]}, \"in_reply_to_screen_name\": null, \"id_str\": \"509549062253592576\", \"retweet_count\": 0, \"in_reply_to_user_id\": null, \"favorited\": false, \"user\": {\"follow_request_sent\": false, \"profile_use_background_image\": false, \"profile_text_color\": \"666666\", \"default_profile_image\": false, \"id\": 614, \"profile_background_image_url_https\": \"https://abs.twimg.com/images/themes/theme9/bg.gif\", \"verified\": false, \"profile_location\": null, \"profile_image_url_https\": \"https://pbs.twimg.com/profile_images/465965547855679488/ONqxqGvL_normal.jpeg\", \"profile_sidebar_fill_color\": \"252429\", \"entities\": {\"url\": {\"urls\": [{\"url\": \"http://t.co/x5Vr8HWFxj\", \"indices\": [0, 22], \"expanded_url\": \"http://facebook.com/christian.harrison\", \"display_url\": \"facebook.com/christian.harr\\u2026\"}]}, \"description\": {\"urls\": []}}, \"followers_count\": 1377, \"profile_sidebar_border_color\": \"000000\", \"id_str\": \"614\", \"profile_background_color\": \"1A1B1F\", \"listed_count\": 39, \"is_translation_enabled\": false, \"utc_offset\": 12600, \"statuses_count\": 7894, \"description\": \"Urban enthusiast, professional storyteller, man of faith.\", \"friends_count\": 1931, \"location\": \"Salt Lake City, UT\", \"profile_link_color\": \"2FC2EF\", \"profile_image_url\": \"http://pbs.twimg.com/profile_images/465965547855679488/ONqxqGvL_normal.jpeg\", \"following\": false, \"geo_enabled\": true, \"profile_banner_url\": \"https://pbs.twimg.com/profile_banners/614/1365311832\", \"profile_background_image_url\": \"http://abs.twimg.com/images/themes/theme9/bg.gif\", \"name\": \"Christian Harrison\", \"lang\": \"en\", \"profile_background_tile\": false, \"favourites_count\": 83, \"screen_name\": \"dcharrison\", \"notifications\": false, \"url\": \"http://t.co/x5Vr8HWFxj\", \"created_at\": \"Thu Jul 13 20:30:05 +0000 2006\", \"contributors_enabled\": false, \"time_zone\": \"Tehran\", \"protected\": false, \"default_profile\": false, \"is_translator\": false}, \"geo\": null, \"in_reply_to_user_id_str\": null, \"possibly_sensitive\": false, \"lang\": \"en\", \"created_at\": \"Wed Sep 10 03:48:58 +0000 2014\", \"in_reply_to_status_id_str\": null, \"place\": null}, {\"contributors\": null, \"truncated\": false, \"text\": \"A little more fodder for the flood-o-philes\\u2026 http://t.co/tdgU7DMJeB\", \"in_reply_to_status_id\": null, \"id\": 509546607956996096, \"favorite_count\": 0, \"source\": \"<a href=\\\"http://www.facebook.com/twitter\\\" rel=\\\"nofollow\\\">Facebook</a>\", \"retweeted\": false, \"coordinates\": null, \"entities\": {\"symbols\": [], \"user_mentions\": [], \"hashtags\": [], \"urls\": [{\"url\": \"http://t.co/tdgU7DMJeB\", \"indices\": [45, 67], \"expanded_url\": \"http://fb.me/2uERsLSFh\", \"display_url\": \"fb.me/2uERsLSFh\"}]}, \"in_reply_to_screen_name\": null, \"id_str\": \"509546607956996096\", \"retweet_count\": 0, \"in_reply_to_user_id\": null, \"favorited\": false, \"user\": {\"follow_request_sent\": false, \"profile_use_background_image\": false, \"profile_text_color\": \"666666\", \"default_profile_image\": false, \"id\": 614, \"profile_background_image_url_https\": \"https://abs.twimg.com/images/themes/theme9/bg.gif\", \"verified\": false, \"profile_location\": null, \"profile_image_url_https\": \"https://pbs.twimg.com/profile_images/465965547855679488/ONqxqGvL_normal.jpeg\", \"profile_sidebar_fill_color\": \"252429\", \"entities\": {\"url\": {\"urls\": [{\"url\": \"http://t.co/x5Vr8HWFxj\", \"indices\": [0, 22], \"expanded_url\": \"http://facebook.com/christian.harrison\", \"display_url\": \"facebook.com/christian.harr\\u2026\"}]}, \"description\": {\"urls\": []}}, \"followers_count\": 1377, \"profile_sidebar_border_color\": \"000000\", \"id_str\": \"614\", \"profile_background_color\": \"1A1B1F\", \"listed_count\": 39, \"is_translation_enabled\": false, \"utc_offset\": 12600, \"statuses_count\": 7894, \"description\": \"Urban enthusiast, professional storyteller, man of faith.\", \"friends_count\": 1931, \"location\": \"Salt Lake City, UT\", \"profile_link_color\": \"2FC2EF\", \"profile_image_url\": \"http://pbs.twimg.com/profile_images/465965547855679488/ONqxqGvL_normal.jpeg\", \"following\": false, \"geo_enabled\": true, \"profile_banner_url\": \"https://pbs.twimg.com/profile_banners/614/1365311832\", \"profile_background_image_url\": \"http://abs.twimg.com/images/themes/theme9/bg.gif\", \"name\": \"Christian Harrison\", \"lang\": \"en\", \"profile_background_tile\": false, \"favourites_count\": 83, \"screen_name\": \"dcharrison\", \"notifications\": false, \"url\": \"http://t.co/x5Vr8HWFxj\", \"created_at\": \"Thu Jul 13 20:30:05 +0000 2006\", \"contributors_enabled\": false, \"time_zone\": \"Tehran\", \"protected\": false, \"default_profile\": false, \"is_translator\": false}, \"geo\": null, \"in_reply_to_user_id_str\": null, \"possibly_sensitive\": false, \"lang\": \"en\", \"created_at\": \"Wed Sep 10 03:39:12 +0000 2014\", \"in_reply_to_status_id_str\": null, \"place\": null}, {\"contributors\": null, \"truncated\": false, \"text\": \"Anyone have a little room in their home? http://t.co/GAKoCH666L\", \"in_reply_to_status_id\": null, \"id\": 509473302243336193, \"favorite_count\": 0, \"source\": \"<a href=\\\"http://www.facebook.com/twitter\\\" rel=\\\"nofollow\\\">Facebook</a>\", \"retweeted\": false, \"coordinates\": null, \"entities\": {\"symbols\": [], \"user_mentions\": [], \"hashtags\": [], \"urls\": [{\"url\": \"http://t.co/GAKoCH666L\", \"indices\": [41, 63], \"expanded_url\": \"http://fb.me/3FamdljjA\", \"display_url\": \"fb.me/3FamdljjA\"}]}, \"in_reply_to_screen_name\": null, \"id_str\": \"509473302243336193\", \"retweet_count\": 0, \"in_reply_to_user_id\": null, \"favorited\": false, \"user\": {\"follow_request_sent\": false, \"profile_use_background_image\": false, \"profile_text_color\": \"666666\", \"default_profile_image\": false, \"id\": 614, \"profile_background_image_url_https\": \"https://abs.twimg.com/images/themes/theme9/bg.gif\", \"verified\": false, \"profile_location\": null, \"profile_image_url_https\": \"https://pbs.twimg.com/profile_images/465965547855679488/ONqxqGvL_normal.jpeg\", \"profile_sidebar_fill_color\": \"252429\", \"entities\": {\"url\": {\"urls\": [{\"url\": \"http://t.co/x5Vr8HWFxj\", \"indices\": [0, 22], \"expanded_url\": \"http://facebook.com/christian.harrison\", \"display_url\": \"facebook.com/christian.harr\\u2026\"}]}, \"description\": {\"urls\": []}}, \"followers_count\": 1377, \"profile_sidebar_border_color\": \"000000\", \"id_str\": \"614\", \"profile_background_color\": \"1A1B1F\", \"listed_count\": 39, \"is_translation_enabled\": false, \"utc_offset\": 12600, \"statuses_count\": 7894, \"description\": \"Urban enthusiast, professional storyteller, man of faith.\", \"friends_count\": 1931, \"location\": \"Salt Lake City, UT\", \"profile_link_color\": \"2FC2EF\", \"profile_image_url\": \"http://pbs.twimg.com/profile_images/465965547855679488/ONqxqGvL_normal.jpeg\", \"following\": false, \"geo_enabled\": true, \"profile_banner_url\": \"https://pbs.twimg.com/profile_banners/614/1365311832\", \"profile_background_image_url\": \"http://abs.twimg.com/images/themes/theme9/bg.gif\", \"name\": \"Christian Harrison\", \"lang\": \"en\", \"profile_background_tile\": false, \"favourites_count\": 83, \"screen_name\": \"dcharrison\", \"notifications\": false, \"url\": \"http://t.co/x5Vr8HWFxj\", \"created_at\": \"Thu Jul 13 20:30:05 +0000 2006\", \"contributors_enabled\": false, \"time_zone\": \"Tehran\", \"protected\": false, \"default_profile\": false, \"is_translator\": false}, \"geo\": null, \"in_reply_to_user_id_str\": null, \"possibly_sensitive\": false, \"lang\": \"en\", \"created_at\": \"Tue Sep 09 22:47:55 +0000 2014\", \"in_reply_to_status_id_str\": null, \"place\": null}, {\"contributors\": null, \"truncated\": false, \"text\": \"3! That's both awesome and crappy. It's 3 more than I expected\\u2026 and 12 fewer than required. http://t.co/jgG0HPMqwV\", \"in_reply_to_status_id\": null, \"id\": 509420858536779776, \"favorite_count\": 0, \"source\": \"<a href=\\\"http://www.facebook.com/twitter\\\" rel=\\\"nofollow\\\">Facebook</a>\", \"retweeted\": false, \"coordinates\": null, \"entities\": {\"symbols\": [], \"user_mentions\": [], \"hashtags\": [], \"urls\": [{\"url\": \"http://t.co/jgG0HPMqwV\", \"indices\": [92, 114], \"expanded_url\": \"http://fb.me/3wzXwbeh6\", \"display_url\": \"fb.me/3wzXwbeh6\"}]}, \"in_reply_to_screen_name\": null, \"id_str\": \"509420858536779776\", \"retweet_count\": 0, \"in_reply_to_user_id\": null, \"favorited\": false, \"user\": {\"follow_request_sent\": false, \"profile_use_background_image\": false, \"profile_text_color\": \"666666\", \"default_profile_image\": false, \"id\": 614, \"profile_background_image_url_https\": \"https://abs.twimg.com/images/themes/theme9/bg.gif\", \"verified\": false, \"profile_location\": null, \"profile_image_url_https\": \"https://pbs.twimg.com/profile_images/465965547855679488/ONqxqGvL_normal.jpeg\", \"profile_sidebar_fill_color\": \"252429\", \"entities\": {\"url\": {\"urls\": [{\"url\": \"http://t.co/x5Vr8HWFxj\", \"indices\": [0, 22], \"expanded_url\": \"http://facebook.com/christian.harrison\", \"display_url\": \"facebook.com/christian.harr\\u2026\"}]}, \"description\": {\"urls\": []}}, \"followers_count\": 1377, \"profile_sidebar_border_color\": \"000000\", \"id_str\": \"614\", \"profile_background_color\": \"1A1B1F\", \"listed_count\": 39, \"is_translation_enabled\": false, \"utc_offset\": 12600, \"statuses_count\": 7894, \"description\": \"Urban enthusiast, professional storyteller, man of faith.\", \"friends_count\": 1931, \"location\": \"Salt Lake City, UT\", \"profile_link_color\": \"2FC2EF\", \"profile_image_url\": \"http://pbs.twimg.com/profile_images/465965547855679488/ONqxqGvL_normal.jpeg\", \"following\": false, \"geo_enabled\": true, \"profile_banner_url\": \"https://pbs.twimg.com/profile_banners/614/1365311832\", \"profile_background_image_url\": \"http://abs.twimg.com/images/themes/theme9/bg.gif\", \"name\": \"Christian Harrison\", \"lang\": \"en\", \"profile_background_tile\": false, \"favourites_count\": 83, \"screen_name\": \"dcharrison\", \"notifications\": false, \"url\": \"http://t.co/x5Vr8HWFxj\", \"created_at\": \"Thu Jul 13 20:30:05 +0000 2006\", \"contributors_enabled\": false, \"time_zone\": \"Tehran\", \"protected\": false, \"default_profile\": false, \"is_translator\": false}, \"geo\": null, \"in_reply_to_user_id_str\": null, \"possibly_sensitive\": false, \"lang\": \"en\", \"created_at\": \"Tue Sep 09 19:19:31 +0000 2014\", \"in_reply_to_status_id_str\": null, \"place\": null}, {\"contributors\": null, \"truncated\": false, \"text\": \"\\u201cWe hold our players to the highest standards both as professional athletes and as people, so any violence toward... http://t.co/Asl229wVHH\", \"in_reply_to_status_id\": null, \"id\": 509398550023647233, \"favorite_count\": 0, \"source\": \"<a href=\\\"http://www.facebook.com/twitter\\\" rel=\\\"nofollow\\\">Facebook</a>\", \"retweeted\": false, \"coordinates\": null, \"entities\": {\"symbols\": [], \"user_mentions\": [], \"hashtags\": [], \"urls\": [{\"url\": \"http://t.co/Asl229wVHH\", \"indices\": [117, 139], \"expanded_url\": \"http://fb.me/2Tg8nT3RE\", \"display_url\": \"fb.me/2Tg8nT3RE\"}]}, \"in_reply_to_screen_name\": null, \"id_str\": \"509398550023647233\", \"retweet_count\": 0, \"in_reply_to_user_id\": null, \"favorited\": false, \"user\": {\"follow_request_sent\": false, \"profile_use_background_image\": false, \"profile_text_color\": \"666666\", \"default_profile_image\": false, \"id\": 614, \"profile_background_image_url_https\": \"https://abs.twimg.com/images/themes/theme9/bg.gif\", \"verified\": false, \"profile_location\": null, \"profile_image_url_https\": \"https://pbs.twimg.com/profile_images/465965547855679488/ONqxqGvL_normal.jpeg\", \"profile_sidebar_fill_color\": \"252429\", \"entities\": {\"url\": {\"urls\": [{\"url\": \"http://t.co/x5Vr8HWFxj\", \"indices\": [0, 22], \"expanded_url\": \"http://facebook.com/christian.harrison\", \"display_url\": \"facebook.com/christian.harr\\u2026\"}]}, \"description\": {\"urls\": []}}, \"followers_count\": 1377, \"profile_sidebar_border_color\": \"000000\", \"id_str\": \"614\", \"profile_background_color\": \"1A1B1F\", \"listed_count\": 39, \"is_translation_enabled\": false, \"utc_offset\": 12600, \"statuses_count\": 7894, \"description\": \"Urban enthusiast, professional storyteller, man of faith.\", \"friends_count\": 1931, \"location\": \"Salt Lake City, UT\", \"profile_link_color\": \"2FC2EF\", \"profile_image_url\": \"http://pbs.twimg.com/profile_images/465965547855679488/ONqxqGvL_normal.jpeg\", \"following\": false, \"geo_enabled\": true, \"profile_banner_url\": \"https://pbs.twimg.com/profile_banners/614/1365311832\", \"profile_background_image_url\": \"http://abs.twimg.com/images/themes/theme9/bg.gif\", \"name\": \"Christian Harrison\", \"lang\": \"en\", \"profile_background_tile\": false, \"favourites_count\": 83, \"screen_name\": \"dcharrison\", \"notifications\": false, \"url\": \"http://t.co/x5Vr8HWFxj\", \"created_at\": \"Thu Jul 13 20:30:05 +0000 2006\", \"contributors_enabled\": false, \"time_zone\": \"Tehran\", \"protected\": false, \"default_profile\": false, \"is_translator\": false}, \"geo\": null, \"in_reply_to_user_id_str\": null, \"possibly_sensitive\": false, \"lang\": \"en\", \"created_at\": \"Tue Sep 09 17:50:53 +0000 2014\", \"in_reply_to_status_id_str\": null, \"place\": null}, {\"contributors\": null, \"truncated\": false, \"text\": \"Can you see me now? http://t.co/XheQvSbCkn\", \"in_reply_to_status_id\": null, \"id\": 508996341285277696, \"favorite_count\": 0, \"source\": \"<a href=\\\"http://www.facebook.com/twitter\\\" rel=\\\"nofollow\\\">Facebook</a>\", \"retweeted\": false, \"coordinates\": null, \"entities\": {\"symbols\": [], \"user_mentions\": [], \"hashtags\": [], \"urls\": [{\"url\": \"http://t.co/XheQvSbCkn\", \"indices\": [20, 42], \"expanded_url\": \"http://fb.me/2yk6qvJZz\", \"display_url\": \"fb.me/2yk6qvJZz\"}]}, \"in_reply_to_screen_name\": null, \"id_str\": \"508996341285277696\", \"retweet_count\": 0, \"in_reply_to_user_id\": null, \"favorited\": false, \"user\": {\"follow_request_sent\": false, \"profile_use_background_image\": false, \"profile_text_color\": \"666666\", \"default_profile_image\": false, \"id\": 614, \"profile_background_image_url_https\": \"https://abs.twimg.com/images/themes/theme9/bg.gif\", \"verified\": false, \"profile_location\": null, \"profile_image_url_https\": \"https://pbs.twimg.com/profile_images/465965547855679488/ONqxqGvL_normal.jpeg\", \"profile_sidebar_fill_color\": \"252429\", \"entities\": {\"url\": {\"urls\": [{\"url\": \"http://t.co/x5Vr8HWFxj\", \"indices\": [0, 22], \"expanded_url\": \"http://facebook.com/christian.harrison\", \"display_url\": \"facebook.com/christian.harr\\u2026\"}]}, \"description\": {\"urls\": []}}, \"followers_count\": 1377, \"profile_sidebar_border_color\": \"000000\", \"id_str\": \"614\", \"profile_background_color\": \"1A1B1F\", \"listed_count\": 39, \"is_translation_enabled\": false, \"utc_offset\": 12600, \"statuses_count\": 7894, \"description\": \"Urban enthusiast, professional storyteller, man of faith.\", \"friends_count\": 1931, \"location\": \"Salt Lake City, UT\", \"profile_link_color\": \"2FC2EF\", \"profile_image_url\": \"http://pbs.twimg.com/profile_images/465965547855679488/ONqxqGvL_normal.jpeg\", \"following\": false, \"geo_enabled\": true, \"profile_banner_url\": \"https://pbs.twimg.com/profile_banners/614/1365311832\", \"profile_background_image_url\": \"http://abs.twimg.com/images/themes/theme9/bg.gif\", \"name\": \"Christian Harrison\", \"lang\": \"en\", \"profile_background_tile\": false, \"favourites_count\": 83, \"screen_name\": \"dcharrison\", \"notifications\": false, \"url\": \"http://t.co/x5Vr8HWFxj\", \"created_at\": \"Thu Jul 13 20:30:05 +0000 2006\", \"contributors_enabled\": false, \"time_zone\": \"Tehran\", \"protected\": false, \"default_profile\": false, \"is_translator\": false}, \"geo\": null, \"in_reply_to_user_id_str\": null, \"possibly_sensitive\": false, \"lang\": \"en\", \"created_at\": \"Mon Sep 08 15:12:39 +0000 2014\", \"in_reply_to_status_id_str\": null, \"place\": null}, {\"contributors\": null, \"truncated\": false, \"text\": \"I assume you're tracking this, Michael Austin, Russell Arben Fox, Rosalynde Frandsen Welch \\u2026 http://t.co/uGp43LsMSX\", \"in_reply_to_status_id\": null, \"id\": 508971809144725506, \"favorite_count\": 0, \"source\": \"<a href=\\\"http://www.facebook.com/twitter\\\" rel=\\\"nofollow\\\">Facebook</a>\", \"retweeted\": false, \"coordinates\": null, \"entities\": {\"symbols\": [], \"user_mentions\": [], \"hashtags\": [], \"urls\": [{\"url\": \"http://t.co/uGp43LsMSX\", \"indices\": [93, 115], \"expanded_url\": \"http://fb.me/6JddtxfvP\", \"display_url\": \"fb.me/6JddtxfvP\"}]}, \"in_reply_to_screen_name\": null, \"id_str\": \"508971809144725506\", \"retweet_count\": 0, \"in_reply_to_user_id\": null, \"favorited\": false, \"user\": {\"follow_request_sent\": false, \"profile_use_background_image\": false, \"profile_text_color\": \"666666\", \"default_profile_image\": false, \"id\": 614, \"profile_background_image_url_https\": \"https://abs.twimg.com/images/themes/theme9/bg.gif\", \"verified\": false, \"profile_location\": null, \"profile_image_url_https\": \"https://pbs.twimg.com/profile_images/465965547855679488/ONqxqGvL_normal.jpeg\", \"profile_sidebar_fill_color\": \"252429\", \"entities\": {\"url\": {\"urls\": [{\"url\": \"http://t.co/x5Vr8HWFxj\", \"indices\": [0, 22], \"expanded_url\": \"http://facebook.com/christian.harrison\", \"display_url\": \"facebook.com/christian.harr\\u2026\"}]}, \"description\": {\"urls\": []}}, \"followers_count\": 1377, \"profile_sidebar_border_color\": \"000000\", \"id_str\": \"614\", \"profile_background_color\": \"1A1B1F\", \"listed_count\": 39, \"is_translation_enabled\": false, \"utc_offset\": 12600, \"statuses_count\": 7894, \"description\": \"Urban enthusiast, professional storyteller, man of faith.\", \"friends_count\": 1931, \"location\": \"Salt Lake City, UT\", \"profile_link_color\": \"2FC2EF\", \"profile_image_url\": \"http://pbs.twimg.com/profile_images/465965547855679488/ONqxqGvL_normal.jpeg\", \"following\": false, \"geo_enabled\": true, \"profile_banner_url\": \"https://pbs.twimg.com/profile_banners/614/1365311832\", \"profile_background_image_url\": \"http://abs.twimg.com/images/themes/theme9/bg.gif\", \"name\": \"Christian Harrison\", \"lang\": \"en\", \"profile_background_tile\": false, \"favourites_count\": 83, \"screen_name\": \"dcharrison\", \"notifications\": false, \"url\": \"http://t.co/x5Vr8HWFxj\", \"created_at\": \"Thu Jul 13 20:30:05 +0000 2006\", \"contributors_enabled\": false, \"time_zone\": \"Tehran\", \"protected\": false, \"default_profile\": false, \"is_translator\": false}, \"geo\": null, \"in_reply_to_user_id_str\": null, \"possibly_sensitive\": false, \"lang\": \"en\", \"created_at\": \"Mon Sep 08 13:35:10 +0000 2014\", \"in_reply_to_status_id_str\": null, \"place\": null}, {\"contributors\": null, \"truncated\": false, \"text\": \"Above the fray. http://t.co/qUcM6qIgnX\", \"in_reply_to_status_id\": null, \"id\": 508805215944839168, \"favorite_count\": 0, \"source\": \"<a href=\\\"http://www.facebook.com/twitter\\\" rel=\\\"nofollow\\\">Facebook</a>\", \"retweeted\": false, \"coordinates\": null, \"entities\": {\"symbols\": [], \"user_mentions\": [], \"hashtags\": [], \"urls\": [{\"url\": \"http://t.co/qUcM6qIgnX\", \"indices\": [16, 38], \"expanded_url\": \"http://fb.me/4oXtdg5JE\", \"display_url\": \"fb.me/4oXtdg5JE\"}]}, \"in_reply_to_screen_name\": null, \"id_str\": \"508805215944839168\", \"retweet_count\": 0, \"in_reply_to_user_id\": null, \"favorited\": false, \"user\": {\"follow_request_sent\": false, \"profile_use_background_image\": false, \"profile_text_color\": \"666666\", \"default_profile_image\": false, \"id\": 614, \"profile_background_image_url_https\": \"https://abs.twimg.com/images/themes/theme9/bg.gif\", \"verified\": false, \"profile_location\": null, \"profile_image_url_https\": \"https://pbs.twimg.com/profile_images/465965547855679488/ONqxqGvL_normal.jpeg\", \"profile_sidebar_fill_color\": \"252429\", \"entities\": {\"url\": {\"urls\": [{\"url\": \"http://t.co/x5Vr8HWFxj\", \"indices\": [0, 22], \"expanded_url\": \"http://facebook.com/christian.harrison\", \"display_url\": \"facebook.com/christian.harr\\u2026\"}]}, \"description\": {\"urls\": []}}, \"followers_count\": 1377, \"profile_sidebar_border_color\": \"000000\", \"id_str\": \"614\", \"profile_background_color\": \"1A1B1F\", \"listed_count\": 39, \"is_translation_enabled\": false, \"utc_offset\": 12600, \"statuses_count\": 7894, \"description\": \"Urban enthusiast, professional storyteller, man of faith.\", \"friends_count\": 1931, \"location\": \"Salt Lake City, UT\", \"profile_link_color\": \"2FC2EF\", \"profile_image_url\": \"http://pbs.twimg.com/profile_images/465965547855679488/ONqxqGvL_normal.jpeg\", \"following\": false, \"geo_enabled\": true, \"profile_banner_url\": \"https://pbs.twimg.com/profile_banners/614/1365311832\", \"profile_background_image_url\": \"http://abs.twimg.com/images/themes/theme9/bg.gif\", \"name\": \"Christian Harrison\", \"lang\": \"en\", \"profile_background_tile\": false, \"favourites_count\": 83, \"screen_name\": \"dcharrison\", \"notifications\": false, \"url\": \"http://t.co/x5Vr8HWFxj\", \"created_at\": \"Thu Jul 13 20:30:05 +0000 2006\", \"contributors_enabled\": false, \"time_zone\": \"Tehran\", \"protected\": false, \"default_profile\": false, \"is_translator\": false}, \"geo\": null, \"in_reply_to_user_id_str\": null, \"possibly_sensitive\": false, \"lang\": \"en\", \"created_at\": \"Mon Sep 08 02:33:11 +0000 2014\", \"in_reply_to_status_id_str\": null, \"place\": null}, {\"contributors\": null, \"truncated\": false, \"text\": \"A twilight ride with the top down. http://t.co/i5H3DLbNTL\", \"in_reply_to_status_id\": null, \"id\": 508802701430652928, \"favorite_count\": 0, \"source\": \"<a href=\\\"http://www.facebook.com/twitter\\\" rel=\\\"nofollow\\\">Facebook</a>\", \"retweeted\": false, \"coordinates\": null, \"entities\": {\"symbols\": [], \"user_mentions\": [], \"hashtags\": [], \"urls\": [{\"url\": \"http://t.co/i5H3DLbNTL\", \"indices\": [35, 57], \"expanded_url\": \"http://fb.me/6UAlKXCyt\", \"display_url\": \"fb.me/6UAlKXCyt\"}]}, \"in_reply_to_screen_name\": null, \"id_str\": \"508802701430652928\", \"retweet_count\": 0, \"in_reply_to_user_id\": null, \"favorited\": false, \"user\": {\"follow_request_sent\": false, \"profile_use_background_image\": false, \"profile_text_color\": \"666666\", \"default_profile_image\": false, \"id\": 614, \"profile_background_image_url_https\": \"https://abs.twimg.com/images/themes/theme9/bg.gif\", \"verified\": false, \"profile_location\": null, \"profile_image_url_https\": \"https://pbs.twimg.com/profile_images/465965547855679488/ONqxqGvL_normal.jpeg\", \"profile_sidebar_fill_color\": \"252429\", \"entities\": {\"url\": {\"urls\": [{\"url\": \"http://t.co/x5Vr8HWFxj\", \"indices\": [0, 22], \"expanded_url\": \"http://facebook.com/christian.harrison\", \"display_url\": \"facebook.com/christian.harr\\u2026\"}]}, \"description\": {\"urls\": []}}, \"followers_count\": 1377, \"profile_sidebar_border_color\": \"000000\", \"id_str\": \"614\", \"profile_background_color\": \"1A1B1F\", \"listed_count\": 39, \"is_translation_enabled\": false, \"utc_offset\": 12600, \"statuses_count\": 7894, \"description\": \"Urban enthusiast, professional storyteller, man of faith.\", \"friends_count\": 1931, \"location\": \"Salt Lake City, UT\", \"profile_link_color\": \"2FC2EF\", \"profile_image_url\": \"http://pbs.twimg.com/profile_images/465965547855679488/ONqxqGvL_normal.jpeg\", \"following\": false, \"geo_enabled\": true, \"profile_banner_url\": \"https://pbs.twimg.com/profile_banners/614/1365311832\", \"profile_background_image_url\": \"http://abs.twimg.com/images/themes/theme9/bg.gif\", \"name\": \"Christian Harrison\", \"lang\": \"en\", \"profile_background_tile\": false, \"favourites_count\": 83, \"screen_name\": \"dcharrison\", \"notifications\": false, \"url\": \"http://t.co/x5Vr8HWFxj\", \"created_at\": \"Thu Jul 13 20:30:05 +0000 2006\", \"contributors_enabled\": false, \"time_zone\": \"Tehran\", \"protected\": false, \"default_profile\": false, \"is_translator\": false}, \"geo\": null, \"in_reply_to_user_id_str\": null, \"possibly_sensitive\": false, \"lang\": \"en\", \"created_at\": \"Mon Sep 08 02:23:11 +0000 2014\", \"in_reply_to_status_id_str\": null, \"place\": null}, {\"contributors\": null, \"truncated\": false, \"text\": \"I love the idea of expanding our food selection\\u2026 http://t.co/jJmh5v2cb2\", \"in_reply_to_status_id\": null, \"id\": 508716367130796032, \"favorite_count\": 1, \"source\": \"<a href=\\\"http://www.facebook.com/twitter\\\" rel=\\\"nofollow\\\">Facebook</a>\", \"retweeted\": false, \"coordinates\": null, \"entities\": {\"symbols\": [], \"user_mentions\": [], \"hashtags\": [], \"urls\": [{\"url\": \"http://t.co/jJmh5v2cb2\", \"indices\": [49, 71], \"expanded_url\": \"http://fb.me/75lycQRdJ\", \"display_url\": \"fb.me/75lycQRdJ\"}]}, \"in_reply_to_screen_name\": null, \"id_str\": \"508716367130796032\", \"retweet_count\": 0, \"in_reply_to_user_id\": null, \"favorited\": false, \"user\": {\"follow_request_sent\": false, \"profile_use_background_image\": false, \"profile_text_color\": \"666666\", \"default_profile_image\": false, \"id\": 614, \"profile_background_image_url_https\": \"https://abs.twimg.com/images/themes/theme9/bg.gif\", \"verified\": false, \"profile_location\": null, \"profile_image_url_https\": \"https://pbs.twimg.com/profile_images/465965547855679488/ONqxqGvL_normal.jpeg\", \"profile_sidebar_fill_color\": \"252429\", \"entities\": {\"url\": {\"urls\": [{\"url\": \"http://t.co/x5Vr8HWFxj\", \"indices\": [0, 22], \"expanded_url\": \"http://facebook.com/christian.harrison\", \"display_url\": \"facebook.com/christian.harr\\u2026\"}]}, \"description\": {\"urls\": []}}, \"followers_count\": 1377, \"profile_sidebar_border_color\": \"000000\", \"id_str\": \"614\", \"profile_background_color\": \"1A1B1F\", \"listed_count\": 39, \"is_translation_enabled\": false, \"utc_offset\": 12600, \"statuses_count\": 7894, \"description\": \"Urban enthusiast, professional storyteller, man of faith.\", \"friends_count\": 1931, \"location\": \"Salt Lake City, UT\", \"profile_link_color\": \"2FC2EF\", \"profile_image_url\": \"http://pbs.twimg.com/profile_images/465965547855679488/ONqxqGvL_normal.jpeg\", \"following\": false, \"geo_enabled\": true, \"profile_banner_url\": \"https://pbs.twimg.com/profile_banners/614/1365311832\", \"profile_background_image_url\": \"http://abs.twimg.com/images/themes/theme9/bg.gif\", \"name\": \"Christian Harrison\", \"lang\": \"en\", \"profile_background_tile\": false, \"favourites_count\": 83, \"screen_name\": \"dcharrison\", \"notifications\": false, \"url\": \"http://t.co/x5Vr8HWFxj\", \"created_at\": \"Thu Jul 13 20:30:05 +0000 2006\", \"contributors_enabled\": false, \"time_zone\": \"Tehran\", \"protected\": false, \"default_profile\": false, \"is_translator\": false}, \"geo\": null, \"in_reply_to_user_id_str\": null, \"possibly_sensitive\": false, \"lang\": \"en\", \"created_at\": \"Sun Sep 07 20:40:08 +0000 2014\", \"in_reply_to_status_id_str\": null, \"place\": null}, {\"contributors\": null, \"truncated\": false, \"text\": \"I've seen photos like this one around Facebook since the housing bubble burst. They feed on our outrage at such... http://t.co/TvbaIXGIYd\", \"in_reply_to_status_id\": null, \"id\": 508662551778168832, \"favorite_count\": 0, \"source\": \"<a href=\\\"http://www.facebook.com/twitter\\\" rel=\\\"nofollow\\\">Facebook</a>\", \"retweeted\": false, \"coordinates\": null, \"entities\": {\"symbols\": [], \"user_mentions\": [], \"hashtags\": [], \"urls\": [{\"url\": \"http://t.co/TvbaIXGIYd\", \"indices\": [115, 137], \"expanded_url\": \"http://fb.me/1Y7702w84\", \"display_url\": \"fb.me/1Y7702w84\"}]}, \"in_reply_to_screen_name\": null, \"id_str\": \"508662551778168832\", \"retweet_count\": 0, \"in_reply_to_user_id\": null, \"favorited\": false, \"user\": {\"follow_request_sent\": false, \"profile_use_background_image\": false, \"profile_text_color\": \"666666\", \"default_profile_image\": false, \"id\": 614, \"profile_background_image_url_https\": \"https://abs.twimg.com/images/themes/theme9/bg.gif\", \"verified\": false, \"profile_location\": null, \"profile_image_url_https\": \"https://pbs.twimg.com/profile_images/465965547855679488/ONqxqGvL_normal.jpeg\", \"profile_sidebar_fill_color\": \"252429\", \"entities\": {\"url\": {\"urls\": [{\"url\": \"http://t.co/x5Vr8HWFxj\", \"indices\": [0, 22], \"expanded_url\": \"http://facebook.com/christian.harrison\", \"display_url\": \"facebook.com/christian.harr\\u2026\"}]}, \"description\": {\"urls\": []}}, \"followers_count\": 1377, \"profile_sidebar_border_color\": \"000000\", \"id_str\": \"614\", \"profile_background_color\": \"1A1B1F\", \"listed_count\": 39, \"is_translation_enabled\": false, \"utc_offset\": 12600, \"statuses_count\": 7894, \"description\": \"Urban enthusiast, professional storyteller, man of faith.\", \"friends_count\": 1931, \"location\": \"Salt Lake City, UT\", \"profile_link_color\": \"2FC2EF\", \"profile_image_url\": \"http://pbs.twimg.com/profile_images/465965547855679488/ONqxqGvL_normal.jpeg\", \"following\": false, \"geo_enabled\": true, \"profile_banner_url\": \"https://pbs.twimg.com/profile_banners/614/1365311832\", \"profile_background_image_url\": \"http://abs.twimg.com/images/themes/theme9/bg.gif\", \"name\": \"Christian Harrison\", \"lang\": \"en\", \"profile_background_tile\": false, \"favourites_count\": 83, \"screen_name\": \"dcharrison\", \"notifications\": false, \"url\": \"http://t.co/x5Vr8HWFxj\", \"created_at\": \"Thu Jul 13 20:30:05 +0000 2006\", \"contributors_enabled\": false, \"time_zone\": \"Tehran\", \"protected\": false, \"default_profile\": false, \"is_translator\": false}, \"geo\": null, \"in_reply_to_user_id_str\": null, \"possibly_sensitive\": false, \"lang\": \"en\", \"created_at\": \"Sun Sep 07 17:06:17 +0000 2014\", \"in_reply_to_status_id_str\": null, \"place\": null}, {\"contributors\": null, \"truncated\": false, \"text\": \"Oh! One of my favorite places on the planet just extended their hours! http://t.co/8E5W0jEo5d\", \"in_reply_to_status_id\": null, \"id\": 508630487850835968, \"favorite_count\": 0, \"source\": \"<a href=\\\"http://www.facebook.com/twitter\\\" rel=\\\"nofollow\\\">Facebook</a>\", \"retweeted\": false, \"coordinates\": null, \"entities\": {\"symbols\": [], \"user_mentions\": [], \"hashtags\": [], \"urls\": [{\"url\": \"http://t.co/8E5W0jEo5d\", \"indices\": [71, 93], \"expanded_url\": \"http://fb.me/1gI4M9Y1f\", \"display_url\": \"fb.me/1gI4M9Y1f\"}]}, \"in_reply_to_screen_name\": null, \"id_str\": \"508630487850835968\", \"retweet_count\": 0, \"in_reply_to_user_id\": null, \"favorited\": false, \"user\": {\"follow_request_sent\": false, \"profile_use_background_image\": false, \"profile_text_color\": \"666666\", \"default_profile_image\": false, \"id\": 614, \"profile_background_image_url_https\": \"https://abs.twimg.com/images/themes/theme9/bg.gif\", \"verified\": false, \"profile_location\": null, \"profile_image_url_https\": \"https://pbs.twimg.com/profile_images/465965547855679488/ONqxqGvL_normal.jpeg\", \"profile_sidebar_fill_color\": \"252429\", \"entities\": {\"url\": {\"urls\": [{\"url\": \"http://t.co/x5Vr8HWFxj\", \"indices\": [0, 22], \"expanded_url\": \"http://facebook.com/christian.harrison\", \"display_url\": \"facebook.com/christian.harr\\u2026\"}]}, \"description\": {\"urls\": []}}, \"followers_count\": 1377, \"profile_sidebar_border_color\": \"000000\", \"id_str\": \"614\", \"profile_background_color\": \"1A1B1F\", \"listed_count\": 39, \"is_translation_enabled\": false, \"utc_offset\": 12600, \"statuses_count\": 7894, \"description\": \"Urban enthusiast, professional storyteller, man of faith.\", \"friends_count\": 1931, \"location\": \"Salt Lake City, UT\", \"profile_link_color\": \"2FC2EF\", \"profile_image_url\": \"http://pbs.twimg.com/profile_images/465965547855679488/ONqxqGvL_normal.jpeg\", \"following\": false, \"geo_enabled\": true, \"profile_banner_url\": \"https://pbs.twimg.com/profile_banners/614/1365311832\", \"profile_background_image_url\": \"http://abs.twimg.com/images/themes/theme9/bg.gif\", \"name\": \"Christian Harrison\", \"lang\": \"en\", \"profile_background_tile\": false, \"favourites_count\": 83, \"screen_name\": \"dcharrison\", \"notifications\": false, \"url\": \"http://t.co/x5Vr8HWFxj\", \"created_at\": \"Thu Jul 13 20:30:05 +0000 2006\", \"contributors_enabled\": false, \"time_zone\": \"Tehran\", \"protected\": false, \"default_profile\": false, \"is_translator\": false}, \"geo\": null, \"in_reply_to_user_id_str\": null, \"possibly_sensitive\": false, \"lang\": \"en\", \"created_at\": \"Sun Sep 07 14:58:52 +0000 2014\", \"in_reply_to_status_id_str\": null, \"place\": null}, {\"contributors\": null, \"truncated\": false, \"text\": \"The money quote: \\u201cTo a reporter, \\u2018officer-involved shooting\\u2019 should sound as grating to the ear as \\u2018bear-involved... http://t.co/gDTEfs1Gyl\", \"in_reply_to_status_id\": null, \"id\": 508429095030366208, \"favorite_count\": 1, \"source\": \"<a href=\\\"http://www.facebook.com/twitter\\\" rel=\\\"nofollow\\\">Facebook</a>\", \"retweeted\": false, \"coordinates\": null, \"entities\": {\"symbols\": [], \"user_mentions\": [], \"hashtags\": [], \"urls\": [{\"url\": \"http://t.co/gDTEfs1Gyl\", \"indices\": [117, 139], \"expanded_url\": \"http://fb.me/6n9D0HmG8\", \"display_url\": \"fb.me/6n9D0HmG8\"}]}, \"in_reply_to_screen_name\": null, \"id_str\": \"508429095030366208\", \"retweet_count\": 0, \"in_reply_to_user_id\": null, \"favorited\": false, \"user\": {\"follow_request_sent\": false, \"profile_use_background_image\": false, \"profile_text_color\": \"666666\", \"default_profile_image\": false, \"id\": 614, \"profile_background_image_url_https\": \"https://abs.twimg.com/images/themes/theme9/bg.gif\", \"verified\": false, \"profile_location\": null, \"profile_image_url_https\": \"https://pbs.twimg.com/profile_images/465965547855679488/ONqxqGvL_normal.jpeg\", \"profile_sidebar_fill_color\": \"252429\", \"entities\": {\"url\": {\"urls\": [{\"url\": \"http://t.co/x5Vr8HWFxj\", \"indices\": [0, 22], \"expanded_url\": \"http://facebook.com/christian.harrison\", \"display_url\": \"facebook.com/christian.harr\\u2026\"}]}, \"description\": {\"urls\": []}}, \"followers_count\": 1377, \"profile_sidebar_border_color\": \"000000\", \"id_str\": \"614\", \"profile_background_color\": \"1A1B1F\", \"listed_count\": 39, \"is_translation_enabled\": false, \"utc_offset\": 12600, \"statuses_count\": 7894, \"description\": \"Urban enthusiast, professional storyteller, man of faith.\", \"friends_count\": 1931, \"location\": \"Salt Lake City, UT\", \"profile_link_color\": \"2FC2EF\", \"profile_image_url\": \"http://pbs.twimg.com/profile_images/465965547855679488/ONqxqGvL_normal.jpeg\", \"following\": false, \"geo_enabled\": true, \"profile_banner_url\": \"https://pbs.twimg.com/profile_banners/614/1365311832\", \"profile_background_image_url\": \"http://abs.twimg.com/images/themes/theme9/bg.gif\", \"name\": \"Christian Harrison\", \"lang\": \"en\", \"profile_background_tile\": false, \"favourites_count\": 83, \"screen_name\": \"dcharrison\", \"notifications\": false, \"url\": \"http://t.co/x5Vr8HWFxj\", \"created_at\": \"Thu Jul 13 20:30:05 +0000 2006\", \"contributors_enabled\": false, \"time_zone\": \"Tehran\", \"protected\": false, \"default_profile\": false, \"is_translator\": false}, \"geo\": null, \"in_reply_to_user_id_str\": null, \"possibly_sensitive\": false, \"lang\": \"en\", \"created_at\": \"Sun Sep 07 01:38:37 +0000 2014\", \"in_reply_to_status_id_str\": null, \"place\": null}, {\"contributors\": null, \"truncated\": false, \"text\": \"A dip at Crystal Hot Springs followed a meal fit for kings. http://t.co/fiST6phqFH\", \"in_reply_to_status_id\": null, \"id\": 508109919384371200, \"favorite_count\": 1, \"source\": \"<a href=\\\"http://www.facebook.com/twitter\\\" rel=\\\"nofollow\\\">Facebook</a>\", \"retweeted\": false, \"coordinates\": null, \"entities\": {\"symbols\": [], \"user_mentions\": [], \"hashtags\": [], \"urls\": [{\"url\": \"http://t.co/fiST6phqFH\", \"indices\": [60, 82], \"expanded_url\": \"http://fb.me/3kqJQZxeu\", \"display_url\": \"fb.me/3kqJQZxeu\"}]}, \"in_reply_to_screen_name\": null, \"id_str\": \"508109919384371200\", \"retweet_count\": 0, \"in_reply_to_user_id\": null, \"favorited\": false, \"user\": {\"follow_request_sent\": false, \"profile_use_background_image\": false, \"profile_text_color\": \"666666\", \"default_profile_image\": false, \"id\": 614, \"profile_background_image_url_https\": \"https://abs.twimg.com/images/themes/theme9/bg.gif\", \"verified\": false, \"profile_location\": null, \"profile_image_url_https\": \"https://pbs.twimg.com/profile_images/465965547855679488/ONqxqGvL_normal.jpeg\", \"profile_sidebar_fill_color\": \"252429\", \"entities\": {\"url\": {\"urls\": [{\"url\": \"http://t.co/x5Vr8HWFxj\", \"indices\": [0, 22], \"expanded_url\": \"http://facebook.com/christian.harrison\", \"display_url\": \"facebook.com/christian.harr\\u2026\"}]}, \"description\": {\"urls\": []}}, \"followers_count\": 1377, \"profile_sidebar_border_color\": \"000000\", \"id_str\": \"614\", \"profile_background_color\": \"1A1B1F\", \"listed_count\": 39, \"is_translation_enabled\": false, \"utc_offset\": 12600, \"statuses_count\": 7894, \"description\": \"Urban enthusiast, professional storyteller, man of faith.\", \"friends_count\": 1931, \"location\": \"Salt Lake City, UT\", \"profile_link_color\": \"2FC2EF\", \"profile_image_url\": \"http://pbs.twimg.com/profile_images/465965547855679488/ONqxqGvL_normal.jpeg\", \"following\": false, \"geo_enabled\": true, \"profile_banner_url\": \"https://pbs.twimg.com/profile_banners/614/1365311832\", \"profile_background_image_url\": \"http://abs.twimg.com/images/themes/theme9/bg.gif\", \"name\": \"Christian Harrison\", \"lang\": \"en\", \"profile_background_tile\": false, \"favourites_count\": 83, \"screen_name\": \"dcharrison\", \"notifications\": false, \"url\": \"http://t.co/x5Vr8HWFxj\", \"created_at\": \"Thu Jul 13 20:30:05 +0000 2006\", \"contributors_enabled\": false, \"time_zone\": \"Tehran\", \"protected\": false, \"default_profile\": false, \"is_translator\": false}, \"geo\": null, \"in_reply_to_user_id_str\": null, \"possibly_sensitive\": false, \"lang\": \"en\", \"created_at\": \"Sat Sep 06 04:30:19 +0000 2014\", \"in_reply_to_status_id_str\": null, \"place\": null}, {\"contributors\": null, \"truncated\": false, \"text\": \"RT @CJaneKendrick: Wow Provo! What a night! Thanks to everyone who came! Giant group hug! #rooftopconcerts http://t.co/WpXQzysoBl\", \"in_reply_to_status_id\": null, \"id\": 508107423798677504, \"favorite_count\": 0, \"source\": \"<a href=\\\"http://twitter.com/download/iphone\\\" rel=\\\"nofollow\\\">Twitter for iPhone</a>\", \"retweeted\": false, \"coordinates\": null, \"entities\": {\"symbols\": [], \"user_mentions\": [{\"id\": 306192102, \"indices\": [3, 17], \"id_str\": \"306192102\", \"screen_name\": \"CJaneKendrick\", \"name\": \"C. Jane Kendrick\"}], \"hashtags\": [{\"indices\": [90, 106], \"text\": \"rooftopconcerts\"}], \"urls\": [], \"media\": [{\"source_status_id_str\": \"508107123654291456\", \"expanded_url\": \"http://twitter.com/CJaneKendrick/status/508107123654291456/photo/1\", \"display_url\": \"pic.twitter.com/WpXQzysoBl\", \"url\": \"http://t.co/WpXQzysoBl\", \"media_url_https\": \"https://pbs.twimg.com/media/Bw0ovDCCUAA_kYV.jpg\", \"source_status_id\": 508107123654291456, \"id_str\": \"508107121695543296\", \"sizes\": {\"small\": {\"h\": 255, \"resize\": \"fit\", \"w\": 340}, \"large\": {\"h\": 768, \"resize\": \"fit\", \"w\": 1024}, \"medium\": {\"h\": 450, \"resize\": \"fit\", \"w\": 600}, \"thumb\": {\"h\": 150, \"resize\": \"crop\", \"w\": 150}}, \"indices\": [107, 129], \"type\": \"photo\", \"id\": 508107121695543296, \"media_url\": \"http://pbs.twimg.com/media/Bw0ovDCCUAA_kYV.jpg\"}]}, \"in_reply_to_screen_name\": null, \"id_str\": \"508107423798677504\", \"retweet_count\": 1, \"in_reply_to_user_id\": null, \"favorited\": false, \"retweeted_status\": {\"contributors\": null, \"truncated\": false, \"text\": \"Wow Provo! What a night! Thanks to everyone who came! Giant group hug! #rooftopconcerts http://t.co/WpXQzysoBl\", \"in_reply_to_status_id\": null, \"id\": 508107123654291456, \"favorite_count\": 10, \"source\": \"<a href=\\\"http://twitter.com/download/iphone\\\" rel=\\\"nofollow\\\">Twitter for iPhone</a>\", \"retweeted\": false, \"coordinates\": null, \"entities\": {\"symbols\": [], \"user_mentions\": [], \"hashtags\": [{\"indices\": [71, 87], \"text\": \"rooftopconcerts\"}], \"urls\": [], \"media\": [{\"expanded_url\": \"http://twitter.com/CJaneKendrick/status/508107123654291456/photo/1\", \"display_url\": \"pic.twitter.com/WpXQzysoBl\", \"url\": \"http://t.co/WpXQzysoBl\", \"media_url_https\": \"https://pbs.twimg.com/media/Bw0ovDCCUAA_kYV.jpg\", \"id_str\": \"508107121695543296\", \"sizes\": {\"small\": {\"h\": 255, \"resize\": \"fit\", \"w\": 340}, \"large\": {\"h\": 768, \"resize\": \"fit\", \"w\": 1024}, \"medium\": {\"h\": 450, \"resize\": \"fit\", \"w\": 600}, \"thumb\": {\"h\": 150, \"resize\": \"crop\", \"w\": 150}}, \"indices\": [88, 110], \"type\": \"photo\", \"id\": 508107121695543296, \"media_url\": \"http://pbs.twimg.com/media/Bw0ovDCCUAA_kYV.jpg\"}]}, \"in_reply_to_screen_name\": null, \"id_str\": \"508107123654291456\", \"retweet_count\": 1, \"in_reply_to_user_id\": null, \"favorited\": false, \"user\": {\"follow_request_sent\": false, \"profile_use_background_image\": true, \"profile_text_color\": \"333333\", \"default_profile_image\": false, \"id\": 306192102, \"profile_background_image_url_https\": \"https://pbs.twimg.com/profile_background_images/455396313/cjktwitter.JPG\", \"verified\": false, \"profile_location\": null, \"profile_image_url_https\": \"https://pbs.twimg.com/profile_images/517882095792689152/-LYokSBQ_normal.png\", \"profile_sidebar_fill_color\": \"EFEFEF\", \"entities\": {\"url\": {\"urls\": [{\"url\": \"http://t.co/l9XRwN9D2W\", \"indices\": [0, 22], \"expanded_url\": \"http://www.cjanekendrick.com/\", \"display_url\": \"cjanekendrick.com\"}]}, \"description\": {\"urls\": []}}, \"followers_count\": 6141, \"profile_sidebar_border_color\": \"EEEEEE\", \"id_str\": \"306192102\", \"profile_background_color\": \"FFFFFF\", \"listed_count\": 105, \"is_translation_enabled\": false, \"utc_offset\": null, \"statuses_count\": 9790, \"description\": \"C. Jane Kendrick, writer, blogger, shape-shifter, columnist, Rooftop Concert Series co-founder, vlogger, wife, mother & advocate for fellow lispers.\", \"friends_count\": 612, \"location\": \"Provo, Utah\", \"profile_link_color\": \"009999\", \"profile_image_url\": \"http://pbs.twimg.com/profile_images/517882095792689152/-LYokSBQ_normal.png\", \"following\": false, \"geo_enabled\": true, \"profile_banner_url\": \"https://pbs.twimg.com/profile_banners/306192102/1412693786\", \"profile_background_image_url\": \"http://pbs.twimg.com/profile_background_images/455396313/cjktwitter.JPG\", \"name\": \"C. Jane Kendrick\", \"lang\": \"en\", \"profile_background_tile\": false, \"favourites_count\": 5599, \"screen_name\": \"CJaneKendrick\", \"notifications\": false, \"url\": \"http://t.co/l9XRwN9D2W\", \"created_at\": \"Fri May 27 13:08:29 +0000 2011\", \"contributors_enabled\": false, \"time_zone\": null, \"protected\": false, \"default_profile\": false, \"is_translator\": false}, \"geo\": null, \"in_reply_to_user_id_str\": null, \"possibly_sensitive\": false, \"lang\": \"en\", \"created_at\": \"Sat Sep 06 04:19:13 +0000 2014\", \"in_reply_to_status_id_str\": null, \"place\": null, \"extended_entities\": {\"media\": [{\"expanded_url\": \"http://twitter.com/CJaneKendrick/status/508107123654291456/photo/1\", \"display_url\": \"pic.twitter.com/WpXQzysoBl\", \"url\": \"http://t.co/WpXQzysoBl\", \"media_url_https\": \"https://pbs.twimg.com/media/Bw0ovDCCUAA_kYV.jpg\", \"id_str\": \"508107121695543296\", \"sizes\": {\"small\": {\"h\": 255, \"resize\": \"fit\", \"w\": 340}, \"large\": {\"h\": 768, \"resize\": \"fit\", \"w\": 1024}, \"medium\": {\"h\": 450, \"resize\": \"fit\", \"w\": 600}, \"thumb\": {\"h\": 150, \"resize\": \"crop\", \"w\": 150}}, \"indices\": [88, 110], \"type\": \"photo\", \"id\": 508107121695543296, \"media_url\": \"http://pbs.twimg.com/media/Bw0ovDCCUAA_kYV.jpg\"}]}}, \"user\": {\"follow_request_sent\": false, \"profile_use_background_image\": false, \"profile_text_color\": \"666666\", \"default_profile_image\": false, \"id\": 614, \"profile_background_image_url_https\": \"https://abs.twimg.com/images/themes/theme9/bg.gif\", \"verified\": false, \"profile_location\": null, \"profile_image_url_https\": \"https://pbs.twimg.com/profile_images/465965547855679488/ONqxqGvL_normal.jpeg\", \"profile_sidebar_fill_color\": \"252429\", \"entities\": {\"url\": {\"urls\": [{\"url\": \"http://t.co/x5Vr8HWFxj\", \"indices\": [0, 22], \"expanded_url\": \"http://facebook.com/christian.harrison\", \"display_url\": \"facebook.com/christian.harr\\u2026\"}]}, \"description\": {\"urls\": []}}, \"followers_count\": 1377, \"profile_sidebar_border_color\": \"000000\", \"id_str\": \"614\", \"profile_background_color\": \"1A1B1F\", \"listed_count\": 39, \"is_translation_enabled\": false, \"utc_offset\": 12600, \"statuses_count\": 7894, \"description\": \"Urban enthusiast, professional storyteller, man of faith.\", \"friends_count\": 1931, \"location\": \"Salt Lake City, UT\", \"profile_link_color\": \"2FC2EF\", \"profile_image_url\": \"http://pbs.twimg.com/profile_images/465965547855679488/ONqxqGvL_normal.jpeg\", \"following\": false, \"geo_enabled\": true, \"profile_banner_url\": \"https://pbs.twimg.com/profile_banners/614/1365311832\", \"profile_background_image_url\": \"http://abs.twimg.com/images/themes/theme9/bg.gif\", \"name\": \"Christian Harrison\", \"lang\": \"en\", \"profile_background_tile\": false, \"favourites_count\": 83, \"screen_name\": \"dcharrison\", \"notifications\": false, \"url\": \"http://t.co/x5Vr8HWFxj\", \"created_at\": \"Thu Jul 13 20:30:05 +0000 2006\", \"contributors_enabled\": false, \"time_zone\": \"Tehran\", \"protected\": false, \"default_profile\": false, \"is_translator\": false}, \"geo\": null, \"in_reply_to_user_id_str\": null, \"possibly_sensitive\": false, \"lang\": \"en\", \"created_at\": \"Sat Sep 06 04:20:24 +0000 2014\", \"in_reply_to_status_id_str\": null, \"place\": null, \"extended_entities\": {\"media\": [{\"source_status_id_str\": \"508107123654291456\", \"expanded_url\": \"http://twitter.com/CJaneKendrick/status/508107123654291456/photo/1\", \"display_url\": \"pic.twitter.com/WpXQzysoBl\", \"url\": \"http://t.co/WpXQzysoBl\", \"media_url_https\": \"https://pbs.twimg.com/media/Bw0ovDCCUAA_kYV.jpg\", \"source_status_id\": 508107123654291456, \"id_str\": \"508107121695543296\", \"sizes\": {\"small\": {\"h\": 255, \"resize\": \"fit\", \"w\": 340}, \"large\": {\"h\": 768, \"resize\": \"fit\", \"w\": 1024}, \"medium\": {\"h\": 450, \"resize\": \"fit\", \"w\": 600}, \"thumb\": {\"h\": 150, \"resize\": \"crop\", \"w\": 150}}, \"indices\": [107, 129], \"type\": \"photo\", \"id\": 508107121695543296, \"media_url\": \"http://pbs.twimg.com/media/Bw0ovDCCUAA_kYV.jpg\"}]}}, {\"contributors\": null, \"truncated\": false, \"text\": \"Yet another reminder to never live in Florida. http://t.co/RcaGeLXbsJ\", \"in_reply_to_status_id\": null, \"id\": 508023378301554688, \"favorite_count\": 0, \"source\": \"<a href=\\\"http://www.facebook.com/twitter\\\" rel=\\\"nofollow\\\">Facebook</a>\", \"retweeted\": false, \"coordinates\": null, \"entities\": {\"symbols\": [], \"user_mentions\": [], \"hashtags\": [], \"urls\": [{\"url\": \"http://t.co/RcaGeLXbsJ\", \"indices\": [47, 69], \"expanded_url\": \"http://fb.me/3MDmAsFvm\", \"display_url\": \"fb.me/3MDmAsFvm\"}]}, \"in_reply_to_screen_name\": null, \"id_str\": \"508023378301554688\", \"retweet_count\": 0, \"in_reply_to_user_id\": null, \"favorited\": false, \"user\": {\"follow_request_sent\": false, \"profile_use_background_image\": false, \"profile_text_color\": \"666666\", \"default_profile_image\": false, \"id\": 614, \"profile_background_image_url_https\": \"https://abs.twimg.com/images/themes/theme9/bg.gif\", \"verified\": false, \"profile_location\": null, \"profile_image_url_https\": \"https://pbs.twimg.com/profile_images/465965547855679488/ONqxqGvL_normal.jpeg\", \"profile_sidebar_fill_color\": \"252429\", \"entities\": {\"url\": {\"urls\": [{\"url\": \"http://t.co/x5Vr8HWFxj\", \"indices\": [0, 22], \"expanded_url\": \"http://facebook.com/christian.harrison\", \"display_url\": \"facebook.com/christian.harr\\u2026\"}]}, \"description\": {\"urls\": []}}, \"followers_count\": 1377, \"profile_sidebar_border_color\": \"000000\", \"id_str\": \"614\", \"profile_background_color\": \"1A1B1F\", \"listed_count\": 39, \"is_translation_enabled\": false, \"utc_offset\": 12600, \"statuses_count\": 7894, \"description\": \"Urban enthusiast, professional storyteller, man of faith.\", \"friends_count\": 1931, \"location\": \"Salt Lake City, UT\", \"profile_link_color\": \"2FC2EF\", \"profile_image_url\": \"http://pbs.twimg.com/profile_images/465965547855679488/ONqxqGvL_normal.jpeg\", \"following\": false, \"geo_enabled\": true, \"profile_banner_url\": \"https://pbs.twimg.com/profile_banners/614/1365311832\", \"profile_background_image_url\": \"http://abs.twimg.com/images/themes/theme9/bg.gif\", \"name\": \"Christian Harrison\", \"lang\": \"en\", \"profile_background_tile\": false, \"favourites_count\": 83, \"screen_name\": \"dcharrison\", \"notifications\": false, \"url\": \"http://t.co/x5Vr8HWFxj\", \"created_at\": \"Thu Jul 13 20:30:05 +0000 2006\", \"contributors_enabled\": false, \"time_zone\": \"Tehran\", \"protected\": false, \"default_profile\": false, \"is_translator\": false}, \"geo\": null, \"in_reply_to_user_id_str\": null, \"possibly_sensitive\": false, \"lang\": \"en\", \"created_at\": \"Fri Sep 05 22:46:26 +0000 2014\", \"in_reply_to_status_id_str\": null, \"place\": null}, {\"contributors\": null, \"truncated\": false, \"text\": \"More on living wages\\u2026 http://t.co/sMgVMLTojw\", \"in_reply_to_status_id\": null, \"id\": 507931534901264385, \"favorite_count\": 0, \"source\": \"<a href=\\\"http://www.facebook.com/twitter\\\" rel=\\\"nofollow\\\">Facebook</a>\", \"retweeted\": false, \"coordinates\": null, \"entities\": {\"symbols\": [], \"user_mentions\": [], \"hashtags\": [], \"urls\": [{\"url\": \"http://t.co/sMgVMLTojw\", \"indices\": [22, 44], \"expanded_url\": \"http://fb.me/3p2lMAfzy\", \"display_url\": \"fb.me/3p2lMAfzy\"}]}, \"in_reply_to_screen_name\": null, \"id_str\": \"507931534901264385\", \"retweet_count\": 0, \"in_reply_to_user_id\": null, \"favorited\": false, \"user\": {\"follow_request_sent\": false, \"profile_use_background_image\": false, \"profile_text_color\": \"666666\", \"default_profile_image\": false, \"id\": 614, \"profile_background_image_url_https\": \"https://abs.twimg.com/images/themes/theme9/bg.gif\", \"verified\": false, \"profile_location\": null, \"profile_image_url_https\": \"https://pbs.twimg.com/profile_images/465965547855679488/ONqxqGvL_normal.jpeg\", \"profile_sidebar_fill_color\": \"252429\", \"entities\": {\"url\": {\"urls\": [{\"url\": \"http://t.co/x5Vr8HWFxj\", \"indices\": [0, 22], \"expanded_url\": \"http://facebook.com/christian.harrison\", \"display_url\": \"facebook.com/christian.harr\\u2026\"}]}, \"description\": {\"urls\": []}}, \"followers_count\": 1377, \"profile_sidebar_border_color\": \"000000\", \"id_str\": \"614\", \"profile_background_color\": \"1A1B1F\", \"listed_count\": 39, \"is_translation_enabled\": false, \"utc_offset\": 12600, \"statuses_count\": 7894, \"description\": \"Urban enthusiast, professional storyteller, man of faith.\", \"friends_count\": 1931, \"location\": \"Salt Lake City, UT\", \"profile_link_color\": \"2FC2EF\", \"profile_image_url\": \"http://pbs.twimg.com/profile_images/465965547855679488/ONqxqGvL_normal.jpeg\", \"following\": false, \"geo_enabled\": true, \"profile_banner_url\": \"https://pbs.twimg.com/profile_banners/614/1365311832\", \"profile_background_image_url\": \"http://abs.twimg.com/images/themes/theme9/bg.gif\", \"name\": \"Christian Harrison\", \"lang\": \"en\", \"profile_background_tile\": false, \"favourites_count\": 83, \"screen_name\": \"dcharrison\", \"notifications\": false, \"url\": \"http://t.co/x5Vr8HWFxj\", \"created_at\": \"Thu Jul 13 20:30:05 +0000 2006\", \"contributors_enabled\": false, \"time_zone\": \"Tehran\", \"protected\": false, \"default_profile\": false, \"is_translator\": false}, \"geo\": null, \"in_reply_to_user_id_str\": null, \"possibly_sensitive\": false, \"lang\": \"en\", \"created_at\": \"Fri Sep 05 16:41:29 +0000 2014\", \"in_reply_to_status_id_str\": null, \"place\": null}, {\"contributors\": null, \"truncated\": false, \"text\": \"How Bicycles Bring Business http://t.co/UJl8llkoJ9\", \"in_reply_to_status_id\": null, \"id\": 507928910265589760, \"favorite_count\": 0, \"source\": \"<a href=\\\"http://www.facebook.com/twitter\\\" rel=\\\"nofollow\\\">Facebook</a>\", \"retweeted\": false, \"coordinates\": null, \"entities\": {\"symbols\": [], \"user_mentions\": [], \"hashtags\": [], \"urls\": [{\"url\": \"http://t.co/UJl8llkoJ9\", \"indices\": [28, 50], \"expanded_url\": \"http://fb.me/3OYUNx5om\", \"display_url\": \"fb.me/3OYUNx5om\"}]}, \"in_reply_to_screen_name\": null, \"id_str\": \"507928910265589760\", \"retweet_count\": 1, \"in_reply_to_user_id\": null, \"favorited\": false, \"user\": {\"follow_request_sent\": false, \"profile_use_background_image\": false, \"profile_text_color\": \"666666\", \"default_profile_image\": false, \"id\": 614, \"profile_background_image_url_https\": \"https://abs.twimg.com/images/themes/theme9/bg.gif\", \"verified\": false, \"profile_location\": null, \"profile_image_url_https\": \"https://pbs.twimg.com/profile_images/465965547855679488/ONqxqGvL_normal.jpeg\", \"profile_sidebar_fill_color\": \"252429\", \"entities\": {\"url\": {\"urls\": [{\"url\": \"http://t.co/x5Vr8HWFxj\", \"indices\": [0, 22], \"expanded_url\": \"http://facebook.com/christian.harrison\", \"display_url\": \"facebook.com/christian.harr\\u2026\"}]}, \"description\": {\"urls\": []}}, \"followers_count\": 1377, \"profile_sidebar_border_color\": \"000000\", \"id_str\": \"614\", \"profile_background_color\": \"1A1B1F\", \"listed_count\": 39, \"is_translation_enabled\": false, \"utc_offset\": 12600, \"statuses_count\": 7894, \"description\": \"Urban enthusiast, professional storyteller, man of faith.\", \"friends_count\": 1931, \"location\": \"Salt Lake City, UT\", \"profile_link_color\": \"2FC2EF\", \"profile_image_url\": \"http://pbs.twimg.com/profile_images/465965547855679488/ONqxqGvL_normal.jpeg\", \"following\": false, \"geo_enabled\": true, \"profile_banner_url\": \"https://pbs.twimg.com/profile_banners/614/1365311832\", \"profile_background_image_url\": \"http://abs.twimg.com/images/themes/theme9/bg.gif\", \"name\": \"Christian Harrison\", \"lang\": \"en\", \"profile_background_tile\": false, \"favourites_count\": 83, \"screen_name\": \"dcharrison\", \"notifications\": false, \"url\": \"http://t.co/x5Vr8HWFxj\", \"created_at\": \"Thu Jul 13 20:30:05 +0000 2006\", \"contributors_enabled\": false, \"time_zone\": \"Tehran\", \"protected\": false, \"default_profile\": false, \"is_translator\": false}, \"geo\": null, \"in_reply_to_user_id_str\": null, \"possibly_sensitive\": false, \"lang\": \"en\", \"created_at\": \"Fri Sep 05 16:31:03 +0000 2014\", \"in_reply_to_status_id_str\": null, \"place\": null}, {\"contributors\": null, \"truncated\": false, \"text\": \"Oh I hope this family framed this shot. It's priceless. http://t.co/9Jg6XFd2M4\", \"in_reply_to_status_id\": null, \"id\": 507674344487522304, \"favorite_count\": 1, \"source\": \"<a href=\\\"http://www.facebook.com/twitter\\\" rel=\\\"nofollow\\\">Facebook</a>\", \"retweeted\": false, \"coordinates\": null, \"entities\": {\"symbols\": [], \"user_mentions\": [], \"hashtags\": [], \"urls\": [{\"url\": \"http://t.co/9Jg6XFd2M4\", \"indices\": [56, 78], \"expanded_url\": \"http://fb.me/3bcGC5pVS\", \"display_url\": \"fb.me/3bcGC5pVS\"}]}, \"in_reply_to_screen_name\": null, \"id_str\": \"507674344487522304\", \"retweet_count\": 0, \"in_reply_to_user_id\": null, \"favorited\": false, \"user\": {\"follow_request_sent\": false, \"profile_use_background_image\": false, \"profile_text_color\": \"666666\", \"default_profile_image\": false, \"id\": 614, \"profile_background_image_url_https\": \"https://abs.twimg.com/images/themes/theme9/bg.gif\", \"verified\": false, \"profile_location\": null, \"profile_image_url_https\": \"https://pbs.twimg.com/profile_images/465965547855679488/ONqxqGvL_normal.jpeg\", \"profile_sidebar_fill_color\": \"252429\", \"entities\": {\"url\": {\"urls\": [{\"url\": \"http://t.co/x5Vr8HWFxj\", \"indices\": [0, 22], \"expanded_url\": \"http://facebook.com/christian.harrison\", \"display_url\": \"facebook.com/christian.harr\\u2026\"}]}, \"description\": {\"urls\": []}}, \"followers_count\": 1377, \"profile_sidebar_border_color\": \"000000\", \"id_str\": \"614\", \"profile_background_color\": \"1A1B1F\", \"listed_count\": 39, \"is_translation_enabled\": false, \"utc_offset\": 12600, \"statuses_count\": 7894, \"description\": \"Urban enthusiast, professional storyteller, man of faith.\", \"friends_count\": 1931, \"location\": \"Salt Lake City, UT\", \"profile_link_color\": \"2FC2EF\", \"profile_image_url\": \"http://pbs.twimg.com/profile_images/465965547855679488/ONqxqGvL_normal.jpeg\", \"following\": false, \"geo_enabled\": true, \"profile_banner_url\": \"https://pbs.twimg.com/profile_banners/614/1365311832\", \"profile_background_image_url\": \"http://abs.twimg.com/images/themes/theme9/bg.gif\", \"name\": \"Christian Harrison\", \"lang\": \"en\", \"profile_background_tile\": false, \"favourites_count\": 83, \"screen_name\": \"dcharrison\", \"notifications\": false, \"url\": \"http://t.co/x5Vr8HWFxj\", \"created_at\": \"Thu Jul 13 20:30:05 +0000 2006\", \"contributors_enabled\": false, \"time_zone\": \"Tehran\", \"protected\": false, \"default_profile\": false, \"is_translator\": false}, \"geo\": null, \"in_reply_to_user_id_str\": null, \"possibly_sensitive\": false, \"lang\": \"en\", \"created_at\": \"Thu Sep 04 23:39:30 +0000 2014\", \"in_reply_to_status_id_str\": null, \"place\": null}, {\"contributors\": null, \"truncated\": false, \"text\": \"More love for my friend Abraham Taylor's kickstarter project! What?! You haven't pledged? http://t.co/Wei3ox0o3F\", \"in_reply_to_status_id\": null, \"id\": 507562256284917760, \"favorite_count\": 1, \"source\": \"<a href=\\\"http://www.facebook.com/twitter\\\" rel=\\\"nofollow\\\">Facebook</a>\", \"retweeted\": false, \"coordinates\": null, \"entities\": {\"symbols\": [], \"user_mentions\": [], \"hashtags\": [], \"urls\": [{\"url\": \"http://t.co/Wei3ox0o3F\", \"indices\": [90, 112], \"expanded_url\": \"http://fb.me/1HEtdTEtN\", \"display_url\": \"fb.me/1HEtdTEtN\"}]}, \"in_reply_to_screen_name\": null, \"id_str\": \"507562256284917760\", \"retweet_count\": 0, \"in_reply_to_user_id\": null, \"favorited\": false, \"user\": {\"follow_request_sent\": false, \"profile_use_background_image\": false, \"profile_text_color\": \"666666\", \"default_profile_image\": false, \"id\": 614, \"profile_background_image_url_https\": \"https://abs.twimg.com/images/themes/theme9/bg.gif\", \"verified\": false, \"profile_location\": null, \"profile_image_url_https\": \"https://pbs.twimg.com/profile_images/465965547855679488/ONqxqGvL_normal.jpeg\", \"profile_sidebar_fill_color\": \"252429\", \"entities\": {\"url\": {\"urls\": [{\"url\": \"http://t.co/x5Vr8HWFxj\", \"indices\": [0, 22], \"expanded_url\": \"http://facebook.com/christian.harrison\", \"display_url\": \"facebook.com/christian.harr\\u2026\"}]}, \"description\": {\"urls\": []}}, \"followers_count\": 1377, \"profile_sidebar_border_color\": \"000000\", \"id_str\": \"614\", \"profile_background_color\": \"1A1B1F\", \"listed_count\": 39, \"is_translation_enabled\": false, \"utc_offset\": 12600, \"statuses_count\": 7894, \"description\": \"Urban enthusiast, professional storyteller, man of faith.\", \"friends_count\": 1931, \"location\": \"Salt Lake City, UT\", \"profile_link_color\": \"2FC2EF\", \"profile_image_url\": \"http://pbs.twimg.com/profile_images/465965547855679488/ONqxqGvL_normal.jpeg\", \"following\": false, \"geo_enabled\": true, \"profile_banner_url\": \"https://pbs.twimg.com/profile_banners/614/1365311832\", \"profile_background_image_url\": \"http://abs.twimg.com/images/themes/theme9/bg.gif\", \"name\": \"Christian Harrison\", \"lang\": \"en\", \"profile_background_tile\": false, \"favourites_count\": 83, \"screen_name\": \"dcharrison\", \"notifications\": false, \"url\": \"http://t.co/x5Vr8HWFxj\", \"created_at\": \"Thu Jul 13 20:30:05 +0000 2006\", \"contributors_enabled\": false, \"time_zone\": \"Tehran\", \"protected\": false, \"default_profile\": false, \"is_translator\": false}, \"geo\": null, \"in_reply_to_user_id_str\": null, \"possibly_sensitive\": false, \"lang\": \"en\", \"created_at\": \"Thu Sep 04 16:14:06 +0000 2014\", \"in_reply_to_status_id_str\": null, \"place\": null}, {\"contributors\": null, \"truncated\": false, \"text\": \"Interesting thoughts. Reminds me of discussions a year or so back about neighborhood pubs. http://t.co/8uz8UtHt3e\", \"in_reply_to_status_id\": null, \"id\": 507444163168985088, \"favorite_count\": 0, \"source\": \"<a href=\\\"http://www.facebook.com/twitter\\\" rel=\\\"nofollow\\\">Facebook</a>\", \"retweeted\": false, \"coordinates\": null, \"entities\": {\"symbols\": [], \"user_mentions\": [], \"hashtags\": [], \"urls\": [{\"url\": \"http://t.co/8uz8UtHt3e\", \"indices\": [91, 113], \"expanded_url\": \"http://fb.me/1vWIcZ395\", \"display_url\": \"fb.me/1vWIcZ395\"}]}, \"in_reply_to_screen_name\": null, \"id_str\": \"507444163168985088\", \"retweet_count\": 0, \"in_reply_to_user_id\": null, \"favorited\": false, \"user\": {\"follow_request_sent\": false, \"profile_use_background_image\": false, \"profile_text_color\": \"666666\", \"default_profile_image\": false, \"id\": 614, \"profile_background_image_url_https\": \"https://abs.twimg.com/images/themes/theme9/bg.gif\", \"verified\": false, \"profile_location\": null, \"profile_image_url_https\": \"https://pbs.twimg.com/profile_images/465965547855679488/ONqxqGvL_normal.jpeg\", \"profile_sidebar_fill_color\": \"252429\", \"entities\": {\"url\": {\"urls\": [{\"url\": \"http://t.co/x5Vr8HWFxj\", \"indices\": [0, 22], \"expanded_url\": \"http://facebook.com/christian.harrison\", \"display_url\": \"facebook.com/christian.harr\\u2026\"}]}, \"description\": {\"urls\": []}}, \"followers_count\": 1377, \"profile_sidebar_border_color\": \"000000\", \"id_str\": \"614\", \"profile_background_color\": \"1A1B1F\", \"listed_count\": 39, \"is_translation_enabled\": false, \"utc_offset\": 12600, \"statuses_count\": 7894, \"description\": \"Urban enthusiast, professional storyteller, man of faith.\", \"friends_count\": 1931, \"location\": \"Salt Lake City, UT\", \"profile_link_color\": \"2FC2EF\", \"profile_image_url\": \"http://pbs.twimg.com/profile_images/465965547855679488/ONqxqGvL_normal.jpeg\", \"following\": false, \"geo_enabled\": true, \"profile_banner_url\": \"https://pbs.twimg.com/profile_banners/614/1365311832\", \"profile_background_image_url\": \"http://abs.twimg.com/images/themes/theme9/bg.gif\", \"name\": \"Christian Harrison\", \"lang\": \"en\", \"profile_background_tile\": false, \"favourites_count\": 83, \"screen_name\": \"dcharrison\", \"notifications\": false, \"url\": \"http://t.co/x5Vr8HWFxj\", \"created_at\": \"Thu Jul 13 20:30:05 +0000 2006\", \"contributors_enabled\": false, \"time_zone\": \"Tehran\", \"protected\": false, \"default_profile\": false, \"is_translator\": false}, \"geo\": null, \"in_reply_to_user_id_str\": null, \"possibly_sensitive\": false, \"lang\": \"en\", \"created_at\": \"Thu Sep 04 08:24:51 +0000 2014\", \"in_reply_to_status_id_str\": null, \"place\": null}, {\"contributors\": null, \"truncated\": false, \"text\": \"Arm yourself with the facts\\u2026 http://t.co/sXMkLxStqZ\", \"in_reply_to_status_id\": null, \"id\": 506914780133601280, \"favorite_count\": 0, \"source\": \"<a href=\\\"http://www.facebook.com/twitter\\\" rel=\\\"nofollow\\\">Facebook</a>\", \"retweeted\": false, \"coordinates\": null, \"entities\": {\"symbols\": [], \"user_mentions\": [], \"hashtags\": [], \"urls\": [{\"url\": \"http://t.co/sXMkLxStqZ\", \"indices\": [29, 51], \"expanded_url\": \"http://fb.me/1BhjddxjW\", \"display_url\": \"fb.me/1BhjddxjW\"}]}, \"in_reply_to_screen_name\": null, \"id_str\": \"506914780133601280\", \"retweet_count\": 0, \"in_reply_to_user_id\": null, \"favorited\": false, \"user\": {\"follow_request_sent\": false, \"profile_use_background_image\": false, \"profile_text_color\": \"666666\", \"default_profile_image\": false, \"id\": 614, \"profile_background_image_url_https\": \"https://abs.twimg.com/images/themes/theme9/bg.gif\", \"verified\": false, \"profile_location\": null, \"profile_image_url_https\": \"https://pbs.twimg.com/profile_images/465965547855679488/ONqxqGvL_normal.jpeg\", \"profile_sidebar_fill_color\": \"252429\", \"entities\": {\"url\": {\"urls\": [{\"url\": \"http://t.co/x5Vr8HWFxj\", \"indices\": [0, 22], \"expanded_url\": \"http://facebook.com/christian.harrison\", \"display_url\": \"facebook.com/christian.harr\\u2026\"}]}, \"description\": {\"urls\": []}}, \"followers_count\": 1377, \"profile_sidebar_border_color\": \"000000\", \"id_str\": \"614\", \"profile_background_color\": \"1A1B1F\", \"listed_count\": 39, \"is_translation_enabled\": false, \"utc_offset\": 12600, \"statuses_count\": 7894, \"description\": \"Urban enthusiast, professional storyteller, man of faith.\", \"friends_count\": 1931, \"location\": \"Salt Lake City, UT\", \"profile_link_color\": \"2FC2EF\", \"profile_image_url\": \"http://pbs.twimg.com/profile_images/465965547855679488/ONqxqGvL_normal.jpeg\", \"following\": false, \"geo_enabled\": true, \"profile_banner_url\": \"https://pbs.twimg.com/profile_banners/614/1365311832\", \"profile_background_image_url\": \"http://abs.twimg.com/images/themes/theme9/bg.gif\", \"name\": \"Christian Harrison\", \"lang\": \"en\", \"profile_background_tile\": false, \"favourites_count\": 83, \"screen_name\": \"dcharrison\", \"notifications\": false, \"url\": \"http://t.co/x5Vr8HWFxj\", \"created_at\": \"Thu Jul 13 20:30:05 +0000 2006\", \"contributors_enabled\": false, \"time_zone\": \"Tehran\", \"protected\": false, \"default_profile\": false, \"is_translator\": false}, \"geo\": null, \"in_reply_to_user_id_str\": null, \"possibly_sensitive\": false, \"lang\": \"en\", \"created_at\": \"Tue Sep 02 21:21:16 +0000 2014\", \"in_reply_to_status_id_str\": null, \"place\": null}, {\"contributors\": null, \"truncated\": false, \"text\": \"Good things are happening! http://t.co/Guovh2uzqF\", \"in_reply_to_status_id\": null, \"id\": 506887931936911360, \"favorite_count\": 0, \"source\": \"<a href=\\\"http://www.facebook.com/twitter\\\" rel=\\\"nofollow\\\">Facebook</a>\", \"retweeted\": false, \"coordinates\": null, \"entities\": {\"symbols\": [], \"user_mentions\": [], \"hashtags\": [], \"urls\": [{\"url\": \"http://t.co/Guovh2uzqF\", \"indices\": [27, 49], \"expanded_url\": \"http://fb.me/1GweXQbc7\", \"display_url\": \"fb.me/1GweXQbc7\"}]}, \"in_reply_to_screen_name\": null, \"id_str\": \"506887931936911360\", \"retweet_count\": 0, \"in_reply_to_user_id\": null, \"favorited\": false, \"user\": {\"follow_request_sent\": false, \"profile_use_background_image\": false, \"profile_text_color\": \"666666\", \"default_profile_image\": false, \"id\": 614, \"profile_background_image_url_https\": \"https://abs.twimg.com/images/themes/theme9/bg.gif\", \"verified\": false, \"profile_location\": null, \"profile_image_url_https\": \"https://pbs.twimg.com/profile_images/465965547855679488/ONqxqGvL_normal.jpeg\", \"profile_sidebar_fill_color\": \"252429\", \"entities\": {\"url\": {\"urls\": [{\"url\": \"http://t.co/x5Vr8HWFxj\", \"indices\": [0, 22], \"expanded_url\": \"http://facebook.com/christian.harrison\", \"display_url\": \"facebook.com/christian.harr\\u2026\"}]}, \"description\": {\"urls\": []}}, \"followers_count\": 1377, \"profile_sidebar_border_color\": \"000000\", \"id_str\": \"614\", \"profile_background_color\": \"1A1B1F\", \"listed_count\": 39, \"is_translation_enabled\": false, \"utc_offset\": 12600, \"statuses_count\": 7894, \"description\": \"Urban enthusiast, professional storyteller, man of faith.\", \"friends_count\": 1931, \"location\": \"Salt Lake City, UT\", \"profile_link_color\": \"2FC2EF\", \"profile_image_url\": \"http://pbs.twimg.com/profile_images/465965547855679488/ONqxqGvL_normal.jpeg\", \"following\": false, \"geo_enabled\": true, \"profile_banner_url\": \"https://pbs.twimg.com/profile_banners/614/1365311832\", \"profile_background_image_url\": \"http://abs.twimg.com/images/themes/theme9/bg.gif\", \"name\": \"Christian Harrison\", \"lang\": \"en\", \"profile_background_tile\": false, \"favourites_count\": 83, \"screen_name\": \"dcharrison\", \"notifications\": false, \"url\": \"http://t.co/x5Vr8HWFxj\", \"created_at\": \"Thu Jul 13 20:30:05 +0000 2006\", \"contributors_enabled\": false, \"time_zone\": \"Tehran\", \"protected\": false, \"default_profile\": false, \"is_translator\": false}, \"geo\": null, \"in_reply_to_user_id_str\": null, \"possibly_sensitive\": false, \"lang\": \"en\", \"created_at\": \"Tue Sep 02 19:34:35 +0000 2014\", \"in_reply_to_status_id_str\": null, \"place\": null}, {\"contributors\": null, \"truncated\": false, \"text\": \"Hey Utah: instead of investing in 50-year old technology that relies on water we don't have, let's put our world... http://t.co/uLCzMsBnZI\", \"in_reply_to_status_id\": null, \"id\": 506668255310647296, \"favorite_count\": 0, \"source\": \"<a href=\\\"http://www.facebook.com/twitter\\\" rel=\\\"nofollow\\\">Facebook</a>\", \"retweeted\": false, \"coordinates\": null, \"entities\": {\"symbols\": [], \"user_mentions\": [], \"hashtags\": [], \"urls\": [{\"url\": \"http://t.co/uLCzMsBnZI\", \"indices\": [116, 138], \"expanded_url\": \"http://fb.me/75yFpYzbe\", \"display_url\": \"fb.me/75yFpYzbe\"}]}, \"in_reply_to_screen_name\": null, \"id_str\": \"506668255310647296\", \"retweet_count\": 0, \"in_reply_to_user_id\": null, \"favorited\": false, \"user\": {\"follow_request_sent\": false, \"profile_use_background_image\": false, \"profile_text_color\": \"666666\", \"default_profile_image\": false, \"id\": 614, \"profile_background_image_url_https\": \"https://abs.twimg.com/images/themes/theme9/bg.gif\", \"verified\": false, \"profile_location\": null, \"profile_image_url_https\": \"https://pbs.twimg.com/profile_images/465965547855679488/ONqxqGvL_normal.jpeg\", \"profile_sidebar_fill_color\": \"252429\", \"entities\": {\"url\": {\"urls\": [{\"url\": \"http://t.co/x5Vr8HWFxj\", \"indices\": [0, 22], \"expanded_url\": \"http://facebook.com/christian.harrison\", \"display_url\": \"facebook.com/christian.harr\\u2026\"}]}, \"description\": {\"urls\": []}}, \"followers_count\": 1377, \"profile_sidebar_border_color\": \"000000\", \"id_str\": \"614\", \"profile_background_color\": \"1A1B1F\", \"listed_count\": 39, \"is_translation_enabled\": false, \"utc_offset\": 12600, \"statuses_count\": 7894, \"description\": \"Urban enthusiast, professional storyteller, man of faith.\", \"friends_count\": 1931, \"location\": \"Salt Lake City, UT\", \"profile_link_color\": \"2FC2EF\", \"profile_image_url\": \"http://pbs.twimg.com/profile_images/465965547855679488/ONqxqGvL_normal.jpeg\", \"following\": false, \"geo_enabled\": true, \"profile_banner_url\": \"https://pbs.twimg.com/profile_banners/614/1365311832\", \"profile_background_image_url\": \"http://abs.twimg.com/images/themes/theme9/bg.gif\", \"name\": \"Christian Harrison\", \"lang\": \"en\", \"profile_background_tile\": false, \"favourites_count\": 83, \"screen_name\": \"dcharrison\", \"notifications\": false, \"url\": \"http://t.co/x5Vr8HWFxj\", \"created_at\": \"Thu Jul 13 20:30:05 +0000 2006\", \"contributors_enabled\": false, \"time_zone\": \"Tehran\", \"protected\": false, \"default_profile\": false, \"is_translator\": false}, \"geo\": null, \"in_reply_to_user_id_str\": null, \"possibly_sensitive\": false, \"lang\": \"en\", \"created_at\": \"Tue Sep 02 05:01:40 +0000 2014\", \"in_reply_to_status_id_str\": null, \"place\": null}, {\"contributors\": null, \"truncated\": false, \"text\": \"@hipstercat_ \\u2026 my understanding is that the program is structured to be zero cost (aside from the nominal cost of admin).\", \"in_reply_to_status_id\": 504812369977950208, \"id\": 506638919748706305, \"favorite_count\": 0, \"source\": \"<a href=\\\"http://twitter.com/download/iphone\\\" rel=\\\"nofollow\\\">Twitter for iPhone</a>\", \"retweeted\": false, \"coordinates\": null, \"entities\": {\"symbols\": [], \"user_mentions\": [{\"id\": 307738550, \"indices\": [0, 12], \"id_str\": \"307738550\", \"screen_name\": \"hipstercat_\", \"name\": \"Hamilton Hipster Cat\"}], \"hashtags\": [], \"urls\": []}, \"in_reply_to_screen_name\": \"hipstercat_\", \"id_str\": \"506638919748706305\", \"retweet_count\": 0, \"in_reply_to_user_id\": 307738550, \"favorited\": false, \"user\": {\"follow_request_sent\": false, \"profile_use_background_image\": false, \"profile_text_color\": \"666666\", \"default_profile_image\": false, \"id\": 614, \"profile_background_image_url_https\": \"https://abs.twimg.com/images/themes/theme9/bg.gif\", \"verified\": false, \"profile_location\": null, \"profile_image_url_https\": \"https://pbs.twimg.com/profile_images/465965547855679488/ONqxqGvL_normal.jpeg\", \"profile_sidebar_fill_color\": \"252429\", \"entities\": {\"url\": {\"urls\": [{\"url\": \"http://t.co/x5Vr8HWFxj\", \"indices\": [0, 22], \"expanded_url\": \"http://facebook.com/christian.harrison\", \"display_url\": \"facebook.com/christian.harr\\u2026\"}]}, \"description\": {\"urls\": []}}, \"followers_count\": 1377, \"profile_sidebar_border_color\": \"000000\", \"id_str\": \"614\", \"profile_background_color\": \"1A1B1F\", \"listed_count\": 39, \"is_translation_enabled\": false, \"utc_offset\": 12600, \"statuses_count\": 7894, \"description\": \"Urban enthusiast, professional storyteller, man of faith.\", \"friends_count\": 1931, \"location\": \"Salt Lake City, UT\", \"profile_link_color\": \"2FC2EF\", \"profile_image_url\": \"http://pbs.twimg.com/profile_images/465965547855679488/ONqxqGvL_normal.jpeg\", \"following\": false, \"geo_enabled\": true, \"profile_banner_url\": \"https://pbs.twimg.com/profile_banners/614/1365311832\", \"profile_background_image_url\": \"http://abs.twimg.com/images/themes/theme9/bg.gif\", \"name\": \"Christian Harrison\", \"lang\": \"en\", \"profile_background_tile\": false, \"favourites_count\": 83, \"screen_name\": \"dcharrison\", \"notifications\": false, \"url\": \"http://t.co/x5Vr8HWFxj\", \"created_at\": \"Thu Jul 13 20:30:05 +0000 2006\", \"contributors_enabled\": false, \"time_zone\": \"Tehran\", \"protected\": false, \"default_profile\": false, \"is_translator\": false}, \"geo\": null, \"in_reply_to_user_id_str\": \"307738550\", \"lang\": \"en\", \"created_at\": \"Tue Sep 02 03:05:06 +0000 2014\", \"in_reply_to_status_id_str\": \"504812369977950208\", \"place\": null}, {\"contributors\": null, \"truncated\": false, \"text\": \"Jennifer Lawrence Nude Photo Leak Isn't A \\\"Scandal.\\\" It's A Sex Crime. http://t.co/Zm6QFCTL4f\", \"in_reply_to_status_id\": null, \"id\": 506636871137771520, \"favorite_count\": 1, \"source\": \"<a href=\\\"http://www.facebook.com/twitter\\\" rel=\\\"nofollow\\\">Facebook</a>\", \"retweeted\": false, \"coordinates\": null, \"entities\": {\"symbols\": [], \"user_mentions\": [], \"hashtags\": [], \"urls\": [{\"url\": \"http://t.co/Zm6QFCTL4f\", \"indices\": [71, 93], \"expanded_url\": \"http://fb.me/1tkyydvzw\", \"display_url\": \"fb.me/1tkyydvzw\"}]}, \"in_reply_to_screen_name\": null, \"id_str\": \"506636871137771520\", \"retweet_count\": 0, \"in_reply_to_user_id\": null, \"favorited\": false, \"user\": {\"follow_request_sent\": false, \"profile_use_background_image\": false, \"profile_text_color\": \"666666\", \"default_profile_image\": false, \"id\": 614, \"profile_background_image_url_https\": \"https://abs.twimg.com/images/themes/theme9/bg.gif\", \"verified\": false, \"profile_location\": null, \"profile_image_url_https\": \"https://pbs.twimg.com/profile_images/465965547855679488/ONqxqGvL_normal.jpeg\", \"profile_sidebar_fill_color\": \"252429\", \"entities\": {\"url\": {\"urls\": [{\"url\": \"http://t.co/x5Vr8HWFxj\", \"indices\": [0, 22], \"expanded_url\": \"http://facebook.com/christian.harrison\", \"display_url\": \"facebook.com/christian.harr\\u2026\"}]}, \"description\": {\"urls\": []}}, \"followers_count\": 1377, \"profile_sidebar_border_color\": \"000000\", \"id_str\": \"614\", \"profile_background_color\": \"1A1B1F\", \"listed_count\": 39, \"is_translation_enabled\": false, \"utc_offset\": 12600, \"statuses_count\": 7894, \"description\": \"Urban enthusiast, professional storyteller, man of faith.\", \"friends_count\": 1931, \"location\": \"Salt Lake City, UT\", \"profile_link_color\": \"2FC2EF\", \"profile_image_url\": \"http://pbs.twimg.com/profile_images/465965547855679488/ONqxqGvL_normal.jpeg\", \"following\": false, \"geo_enabled\": true, \"profile_banner_url\": \"https://pbs.twimg.com/profile_banners/614/1365311832\", \"profile_background_image_url\": \"http://abs.twimg.com/images/themes/theme9/bg.gif\", \"name\": \"Christian Harrison\", \"lang\": \"en\", \"profile_background_tile\": false, \"favourites_count\": 83, \"screen_name\": \"dcharrison\", \"notifications\": false, \"url\": \"http://t.co/x5Vr8HWFxj\", \"created_at\": \"Thu Jul 13 20:30:05 +0000 2006\", \"contributors_enabled\": false, \"time_zone\": \"Tehran\", \"protected\": false, \"default_profile\": false, \"is_translator\": false}, \"geo\": null, \"in_reply_to_user_id_str\": null, \"possibly_sensitive\": false, \"lang\": \"en\", \"created_at\": \"Tue Sep 02 02:56:57 +0000 2014\", \"in_reply_to_status_id_str\": null, \"place\": null}, {\"contributors\": null, \"truncated\": false, \"text\": \"As Michael Fife said:\\n\\n\\\"It seems like the Republican legislators are the only people in Utah that don't support... http://t.co/4ZwYi2jDv3\", \"in_reply_to_status_id\": null, \"id\": 506534369184317440, \"favorite_count\": 0, \"source\": \"<a href=\\\"http://www.facebook.com/twitter\\\" rel=\\\"nofollow\\\">Facebook</a>\", \"retweeted\": false, \"coordinates\": null, \"entities\": {\"symbols\": [], \"user_mentions\": [], \"hashtags\": [], \"urls\": [{\"url\": \"http://t.co/4ZwYi2jDv3\", \"indices\": [115, 137], \"expanded_url\": \"http://fb.me/1F100QB9p\", \"display_url\": \"fb.me/1F100QB9p\"}]}, \"in_reply_to_screen_name\": null, \"id_str\": \"506534369184317440\", \"retweet_count\": 0, \"in_reply_to_user_id\": null, \"favorited\": false, \"user\": {\"follow_request_sent\": false, \"profile_use_background_image\": false, \"profile_text_color\": \"666666\", \"default_profile_image\": false, \"id\": 614, \"profile_background_image_url_https\": \"https://abs.twimg.com/images/themes/theme9/bg.gif\", \"verified\": false, \"profile_location\": null, \"profile_image_url_https\": \"https://pbs.twimg.com/profile_images/465965547855679488/ONqxqGvL_normal.jpeg\", \"profile_sidebar_fill_color\": \"252429\", \"entities\": {\"url\": {\"urls\": [{\"url\": \"http://t.co/x5Vr8HWFxj\", \"indices\": [0, 22], \"expanded_url\": \"http://facebook.com/christian.harrison\", \"display_url\": \"facebook.com/christian.harr\\u2026\"}]}, \"description\": {\"urls\": []}}, \"followers_count\": 1377, \"profile_sidebar_border_color\": \"000000\", \"id_str\": \"614\", \"profile_background_color\": \"1A1B1F\", \"listed_count\": 39, \"is_translation_enabled\": false, \"utc_offset\": 12600, \"statuses_count\": 7894, \"description\": \"Urban enthusiast, professional storyteller, man of faith.\", \"friends_count\": 1931, \"location\": \"Salt Lake City, UT\", \"profile_link_color\": \"2FC2EF\", \"profile_image_url\": \"http://pbs.twimg.com/profile_images/465965547855679488/ONqxqGvL_normal.jpeg\", \"following\": false, \"geo_enabled\": true, \"profile_banner_url\": \"https://pbs.twimg.com/profile_banners/614/1365311832\", \"profile_background_image_url\": \"http://abs.twimg.com/images/themes/theme9/bg.gif\", \"name\": \"Christian Harrison\", \"lang\": \"en\", \"profile_background_tile\": false, \"favourites_count\": 83, \"screen_name\": \"dcharrison\", \"notifications\": false, \"url\": \"http://t.co/x5Vr8HWFxj\", \"created_at\": \"Thu Jul 13 20:30:05 +0000 2006\", \"contributors_enabled\": false, \"time_zone\": \"Tehran\", \"protected\": false, \"default_profile\": false, \"is_translator\": false}, \"geo\": null, \"in_reply_to_user_id_str\": null, \"possibly_sensitive\": false, \"lang\": \"en\", \"created_at\": \"Mon Sep 01 20:09:39 +0000 2014\", \"in_reply_to_status_id_str\": null, \"place\": null}, {\"contributors\": null, \"truncated\": false, \"text\": \"\\\"Generally speaking people visit the dentist more frequently than they do their doctors, according to Pollack\\u2019s... http://t.co/uOFVgXragz\", \"in_reply_to_status_id\": null, \"id\": 506492231755108353, \"favorite_count\": 0, \"source\": \"<a href=\\\"http://www.facebook.com/twitter\\\" rel=\\\"nofollow\\\">Facebook</a>\", \"retweeted\": false, \"coordinates\": null, \"entities\": {\"symbols\": [], \"user_mentions\": [], \"hashtags\": [], \"urls\": [{\"url\": \"http://t.co/uOFVgXragz\", \"indices\": [115, 137], \"expanded_url\": \"http://fb.me/3jd19Ltpj\", \"display_url\": \"fb.me/3jd19Ltpj\"}]}, \"in_reply_to_screen_name\": null, \"id_str\": \"506492231755108353\", \"retweet_count\": 0, \"in_reply_to_user_id\": null, \"favorited\": false, \"user\": {\"follow_request_sent\": false, \"profile_use_background_image\": false, \"profile_text_color\": \"666666\", \"default_profile_image\": false, \"id\": 614, \"profile_background_image_url_https\": \"https://abs.twimg.com/images/themes/theme9/bg.gif\", \"verified\": false, \"profile_location\": null, \"profile_image_url_https\": \"https://pbs.twimg.com/profile_images/465965547855679488/ONqxqGvL_normal.jpeg\", \"profile_sidebar_fill_color\": \"252429\", \"entities\": {\"url\": {\"urls\": [{\"url\": \"http://t.co/x5Vr8HWFxj\", \"indices\": [0, 22], \"expanded_url\": \"http://facebook.com/christian.harrison\", \"display_url\": \"facebook.com/christian.harr\\u2026\"}]}, \"description\": {\"urls\": []}}, \"followers_count\": 1377, \"profile_sidebar_border_color\": \"000000\", \"id_str\": \"614\", \"profile_background_color\": \"1A1B1F\", \"listed_count\": 39, \"is_translation_enabled\": false, \"utc_offset\": 12600, \"statuses_count\": 7894, \"description\": \"Urban enthusiast, professional storyteller, man of faith.\", \"friends_count\": 1931, \"location\": \"Salt Lake City, UT\", \"profile_link_color\": \"2FC2EF\", \"profile_image_url\": \"http://pbs.twimg.com/profile_images/465965547855679488/ONqxqGvL_normal.jpeg\", \"following\": false, \"geo_enabled\": true, \"profile_banner_url\": \"https://pbs.twimg.com/profile_banners/614/1365311832\", \"profile_background_image_url\": \"http://abs.twimg.com/images/themes/theme9/bg.gif\", \"name\": \"Christian Harrison\", \"lang\": \"en\", \"profile_background_tile\": false, \"favourites_count\": 83, \"screen_name\": \"dcharrison\", \"notifications\": false, \"url\": \"http://t.co/x5Vr8HWFxj\", \"created_at\": \"Thu Jul 13 20:30:05 +0000 2006\", \"contributors_enabled\": false, \"time_zone\": \"Tehran\", \"protected\": false, \"default_profile\": false, \"is_translator\": false}, \"geo\": null, \"in_reply_to_user_id_str\": null, \"possibly_sensitive\": false, \"lang\": \"en\", \"created_at\": \"Mon Sep 01 17:22:12 +0000 2014\", \"in_reply_to_status_id_str\": null, \"place\": null}, {\"contributors\": null, \"truncated\": false, \"text\": \"For my friends who love to knit: Blazing Needles is hosting a Labor Day BBQ this afternoon to usher in sweater... http://t.co/AKHr1IYLyM\", \"in_reply_to_status_id\": null, \"id\": 506470166817824768, \"favorite_count\": 0, \"source\": \"<a href=\\\"http://www.facebook.com/twitter\\\" rel=\\\"nofollow\\\">Facebook</a>\", \"retweeted\": false, \"coordinates\": null, \"entities\": {\"symbols\": [], \"user_mentions\": [], \"hashtags\": [], \"urls\": [{\"url\": \"http://t.co/AKHr1IYLyM\", \"indices\": [114, 136], \"expanded_url\": \"http://fb.me/3ONiTyFU0\", \"display_url\": \"fb.me/3ONiTyFU0\"}]}, \"in_reply_to_screen_name\": null, \"id_str\": \"506470166817824768\", \"retweet_count\": 0, \"in_reply_to_user_id\": null, \"favorited\": false, \"user\": {\"follow_request_sent\": false, \"profile_use_background_image\": false, \"profile_text_color\": \"666666\", \"default_profile_image\": false, \"id\": 614, \"profile_background_image_url_https\": \"https://abs.twimg.com/images/themes/theme9/bg.gif\", \"verified\": false, \"profile_location\": null, \"profile_image_url_https\": \"https://pbs.twimg.com/profile_images/465965547855679488/ONqxqGvL_normal.jpeg\", \"profile_sidebar_fill_color\": \"252429\", \"entities\": {\"url\": {\"urls\": [{\"url\": \"http://t.co/x5Vr8HWFxj\", \"indices\": [0, 22], \"expanded_url\": \"http://facebook.com/christian.harrison\", \"display_url\": \"facebook.com/christian.harr\\u2026\"}]}, \"description\": {\"urls\": []}}, \"followers_count\": 1377, \"profile_sidebar_border_color\": \"000000\", \"id_str\": \"614\", \"profile_background_color\": \"1A1B1F\", \"listed_count\": 39, \"is_translation_enabled\": false, \"utc_offset\": 12600, \"statuses_count\": 7894, \"description\": \"Urban enthusiast, professional storyteller, man of faith.\", \"friends_count\": 1931, \"location\": \"Salt Lake City, UT\", \"profile_link_color\": \"2FC2EF\", \"profile_image_url\": \"http://pbs.twimg.com/profile_images/465965547855679488/ONqxqGvL_normal.jpeg\", \"following\": false, \"geo_enabled\": true, \"profile_banner_url\": \"https://pbs.twimg.com/profile_banners/614/1365311832\", \"profile_background_image_url\": \"http://abs.twimg.com/images/themes/theme9/bg.gif\", \"name\": \"Christian Harrison\", \"lang\": \"en\", \"profile_background_tile\": false, \"favourites_count\": 83, \"screen_name\": \"dcharrison\", \"notifications\": false, \"url\": \"http://t.co/x5Vr8HWFxj\", \"created_at\": \"Thu Jul 13 20:30:05 +0000 2006\", \"contributors_enabled\": false, \"time_zone\": \"Tehran\", \"protected\": false, \"default_profile\": false, \"is_translator\": false}, \"geo\": null, \"in_reply_to_user_id_str\": null, \"possibly_sensitive\": false, \"lang\": \"en\", \"created_at\": \"Mon Sep 01 15:54:32 +0000 2014\", \"in_reply_to_status_id_str\": null, \"place\": null}, {\"contributors\": null, \"truncated\": false, \"text\": \"Rickets returns as poor families find healthy diets unaffordable http://t.co/XvYCFwm8eR\", \"in_reply_to_status_id\": null, \"id\": 506081350563024897, \"favorite_count\": 0, \"source\": \"<a href=\\\"http://www.facebook.com/twitter\\\" rel=\\\"nofollow\\\">Facebook</a>\", \"retweeted\": false, \"coordinates\": null, \"entities\": {\"symbols\": [], \"user_mentions\": [], \"hashtags\": [], \"urls\": [{\"url\": \"http://t.co/XvYCFwm8eR\", \"indices\": [65, 87], \"expanded_url\": \"http://fb.me/6RaH5qg4W\", \"display_url\": \"fb.me/6RaH5qg4W\"}]}, \"in_reply_to_screen_name\": null, \"id_str\": \"506081350563024897\", \"retweet_count\": 0, \"in_reply_to_user_id\": null, \"favorited\": false, \"user\": {\"follow_request_sent\": false, \"profile_use_background_image\": false, \"profile_text_color\": \"666666\", \"default_profile_image\": false, \"id\": 614, \"profile_background_image_url_https\": \"https://abs.twimg.com/images/themes/theme9/bg.gif\", \"verified\": false, \"profile_location\": null, \"profile_image_url_https\": \"https://pbs.twimg.com/profile_images/465965547855679488/ONqxqGvL_normal.jpeg\", \"profile_sidebar_fill_color\": \"252429\", \"entities\": {\"url\": {\"urls\": [{\"url\": \"http://t.co/x5Vr8HWFxj\", \"indices\": [0, 22], \"expanded_url\": \"http://facebook.com/christian.harrison\", \"display_url\": \"facebook.com/christian.harr\\u2026\"}]}, \"description\": {\"urls\": []}}, \"followers_count\": 1377, \"profile_sidebar_border_color\": \"000000\", \"id_str\": \"614\", \"profile_background_color\": \"1A1B1F\", \"listed_count\": 39, \"is_translation_enabled\": false, \"utc_offset\": 12600, \"statuses_count\": 7894, \"description\": \"Urban enthusiast, professional storyteller, man of faith.\", \"friends_count\": 1931, \"location\": \"Salt Lake City, UT\", \"profile_link_color\": \"2FC2EF\", \"profile_image_url\": \"http://pbs.twimg.com/profile_images/465965547855679488/ONqxqGvL_normal.jpeg\", \"following\": false, \"geo_enabled\": true, \"profile_banner_url\": \"https://pbs.twimg.com/profile_banners/614/1365311832\", \"profile_background_image_url\": \"http://abs.twimg.com/images/themes/theme9/bg.gif\", \"name\": \"Christian Harrison\", \"lang\": \"en\", \"profile_background_tile\": false, \"favourites_count\": 83, \"screen_name\": \"dcharrison\", \"notifications\": false, \"url\": \"http://t.co/x5Vr8HWFxj\", \"created_at\": \"Thu Jul 13 20:30:05 +0000 2006\", \"contributors_enabled\": false, \"time_zone\": \"Tehran\", \"protected\": false, \"default_profile\": false, \"is_translator\": false}, \"geo\": null, \"in_reply_to_user_id_str\": null, \"possibly_sensitive\": false, \"lang\": \"en\", \"created_at\": \"Sun Aug 31 14:09:31 +0000 2014\", \"in_reply_to_status_id_str\": null, \"place\": null}, {\"contributors\": null, \"truncated\": false, \"text\": \"http://t.co/2KcbKxtzsq\", \"in_reply_to_status_id\": null, \"id\": 505964268987359232, \"favorite_count\": 0, \"source\": \"<a href=\\\"http://www.facebook.com/twitter\\\" rel=\\\"nofollow\\\">Facebook</a>\", \"retweeted\": false, \"coordinates\": null, \"entities\": {\"symbols\": [], \"user_mentions\": [], \"hashtags\": [], \"urls\": [{\"url\": \"http://t.co/2KcbKxtzsq\", \"indices\": [0, 22], \"expanded_url\": \"http://fb.me/3wBQHCNps\", \"display_url\": \"fb.me/3wBQHCNps\"}]}, \"in_reply_to_screen_name\": null, \"id_str\": \"505964268987359232\", \"retweet_count\": 0, \"in_reply_to_user_id\": null, \"favorited\": false, \"user\": {\"follow_request_sent\": false, \"profile_use_background_image\": false, \"profile_text_color\": \"666666\", \"default_profile_image\": false, \"id\": 614, \"profile_background_image_url_https\": \"https://abs.twimg.com/images/themes/theme9/bg.gif\", \"verified\": false, \"profile_location\": null, \"profile_image_url_https\": \"https://pbs.twimg.com/profile_images/465965547855679488/ONqxqGvL_normal.jpeg\", \"profile_sidebar_fill_color\": \"252429\", \"entities\": {\"url\": {\"urls\": [{\"url\": \"http://t.co/x5Vr8HWFxj\", \"indices\": [0, 22], \"expanded_url\": \"http://facebook.com/christian.harrison\", \"display_url\": \"facebook.com/christian.harr\\u2026\"}]}, \"description\": {\"urls\": []}}, \"followers_count\": 1377, \"profile_sidebar_border_color\": \"000000\", \"id_str\": \"614\", \"profile_background_color\": \"1A1B1F\", \"listed_count\": 39, \"is_translation_enabled\": false, \"utc_offset\": 12600, \"statuses_count\": 7894, \"description\": \"Urban enthusiast, professional storyteller, man of faith.\", \"friends_count\": 1931, \"location\": \"Salt Lake City, UT\", \"profile_link_color\": \"2FC2EF\", \"profile_image_url\": \"http://pbs.twimg.com/profile_images/465965547855679488/ONqxqGvL_normal.jpeg\", \"following\": false, \"geo_enabled\": true, \"profile_banner_url\": \"https://pbs.twimg.com/profile_banners/614/1365311832\", \"profile_background_image_url\": \"http://abs.twimg.com/images/themes/theme9/bg.gif\", \"name\": \"Christian Harrison\", \"lang\": \"en\", \"profile_background_tile\": false, \"favourites_count\": 83, \"screen_name\": \"dcharrison\", \"notifications\": false, \"url\": \"http://t.co/x5Vr8HWFxj\", \"created_at\": \"Thu Jul 13 20:30:05 +0000 2006\", \"contributors_enabled\": false, \"time_zone\": \"Tehran\", \"protected\": false, \"default_profile\": false, \"is_translator\": false}, \"geo\": null, \"in_reply_to_user_id_str\": null, \"possibly_sensitive\": false, \"lang\": \"und\", \"created_at\": \"Sun Aug 31 06:24:16 +0000 2014\", \"in_reply_to_status_id_str\": null, \"place\": null}, {\"contributors\": null, \"truncated\": false, \"text\": \"Artist Don Kenn opens a window to a different world when he draws monsters on post-it notes\\u2026 http://t.co/PctGkVrwFc\", \"in_reply_to_status_id\": null, \"id\": 505942960228564992, \"favorite_count\": 0, \"source\": \"<a href=\\\"http://www.facebook.com/twitter\\\" rel=\\\"nofollow\\\">Facebook</a>\", \"retweeted\": false, \"coordinates\": null, \"entities\": {\"symbols\": [], \"user_mentions\": [], \"hashtags\": [], \"urls\": [{\"url\": \"http://t.co/PctGkVrwFc\", \"indices\": [93, 115], \"expanded_url\": \"http://fb.me/3mgWHHO4E\", \"display_url\": \"fb.me/3mgWHHO4E\"}]}, \"in_reply_to_screen_name\": null, \"id_str\": \"505942960228564992\", \"retweet_count\": 0, \"in_reply_to_user_id\": null, \"favorited\": false, \"user\": {\"follow_request_sent\": false, \"profile_use_background_image\": false, \"profile_text_color\": \"666666\", \"default_profile_image\": false, \"id\": 614, \"profile_background_image_url_https\": \"https://abs.twimg.com/images/themes/theme9/bg.gif\", \"verified\": false, \"profile_location\": null, \"profile_image_url_https\": \"https://pbs.twimg.com/profile_images/465965547855679488/ONqxqGvL_normal.jpeg\", \"profile_sidebar_fill_color\": \"252429\", \"entities\": {\"url\": {\"urls\": [{\"url\": \"http://t.co/x5Vr8HWFxj\", \"indices\": [0, 22], \"expanded_url\": \"http://facebook.com/christian.harrison\", \"display_url\": \"facebook.com/christian.harr\\u2026\"}]}, \"description\": {\"urls\": []}}, \"followers_count\": 1377, \"profile_sidebar_border_color\": \"000000\", \"id_str\": \"614\", \"profile_background_color\": \"1A1B1F\", \"listed_count\": 39, \"is_translation_enabled\": false, \"utc_offset\": 12600, \"statuses_count\": 7894, \"description\": \"Urban enthusiast, professional storyteller, man of faith.\", \"friends_count\": 1931, \"location\": \"Salt Lake City, UT\", \"profile_link_color\": \"2FC2EF\", \"profile_image_url\": \"http://pbs.twimg.com/profile_images/465965547855679488/ONqxqGvL_normal.jpeg\", \"following\": false, \"geo_enabled\": true, \"profile_banner_url\": \"https://pbs.twimg.com/profile_banners/614/1365311832\", \"profile_background_image_url\": \"http://abs.twimg.com/images/themes/theme9/bg.gif\", \"name\": \"Christian Harrison\", \"lang\": \"en\", \"profile_background_tile\": false, \"favourites_count\": 83, \"screen_name\": \"dcharrison\", \"notifications\": false, \"url\": \"http://t.co/x5Vr8HWFxj\", \"created_at\": \"Thu Jul 13 20:30:05 +0000 2006\", \"contributors_enabled\": false, \"time_zone\": \"Tehran\", \"protected\": false, \"default_profile\": false, \"is_translator\": false}, \"geo\": null, \"in_reply_to_user_id_str\": null, \"possibly_sensitive\": false, \"lang\": \"en\", \"created_at\": \"Sun Aug 31 04:59:36 +0000 2014\", \"in_reply_to_status_id_str\": null, \"place\": null}, {\"contributors\": null, \"truncated\": false, \"text\": \"Such dedication\\u2026 http://t.co/E1LIwAticG\", \"in_reply_to_status_id\": null, \"id\": 505739725613719552, \"favorite_count\": 0, \"source\": \"<a href=\\\"http://www.facebook.com/twitter\\\" rel=\\\"nofollow\\\">Facebook</a>\", \"retweeted\": false, \"coordinates\": null, \"entities\": {\"symbols\": [], \"user_mentions\": [], \"hashtags\": [], \"urls\": [{\"url\": \"http://t.co/E1LIwAticG\", \"indices\": [17, 39], \"expanded_url\": \"http://fb.me/6ES9VHbf8\", \"display_url\": \"fb.me/6ES9VHbf8\"}]}, \"in_reply_to_screen_name\": null, \"id_str\": \"505739725613719552\", \"retweet_count\": 0, \"in_reply_to_user_id\": null, \"favorited\": false, \"user\": {\"follow_request_sent\": false, \"profile_use_background_image\": false, \"profile_text_color\": \"666666\", \"default_profile_image\": false, \"id\": 614, \"profile_background_image_url_https\": \"https://abs.twimg.com/images/themes/theme9/bg.gif\", \"verified\": false, \"profile_location\": null, \"profile_image_url_https\": \"https://pbs.twimg.com/profile_images/465965547855679488/ONqxqGvL_normal.jpeg\", \"profile_sidebar_fill_color\": \"252429\", \"entities\": {\"url\": {\"urls\": [{\"url\": \"http://t.co/x5Vr8HWFxj\", \"indices\": [0, 22], \"expanded_url\": \"http://facebook.com/christian.harrison\", \"display_url\": \"facebook.com/christian.harr\\u2026\"}]}, \"description\": {\"urls\": []}}, \"followers_count\": 1377, \"profile_sidebar_border_color\": \"000000\", \"id_str\": \"614\", \"profile_background_color\": \"1A1B1F\", \"listed_count\": 39, \"is_translation_enabled\": false, \"utc_offset\": 12600, \"statuses_count\": 7894, \"description\": \"Urban enthusiast, professional storyteller, man of faith.\", \"friends_count\": 1931, \"location\": \"Salt Lake City, UT\", \"profile_link_color\": \"2FC2EF\", \"profile_image_url\": \"http://pbs.twimg.com/profile_images/465965547855679488/ONqxqGvL_normal.jpeg\", \"following\": false, \"geo_enabled\": true, \"profile_banner_url\": \"https://pbs.twimg.com/profile_banners/614/1365311832\", \"profile_background_image_url\": \"http://abs.twimg.com/images/themes/theme9/bg.gif\", \"name\": \"Christian Harrison\", \"lang\": \"en\", \"profile_background_tile\": false, \"favourites_count\": 83, \"screen_name\": \"dcharrison\", \"notifications\": false, \"url\": \"http://t.co/x5Vr8HWFxj\", \"created_at\": \"Thu Jul 13 20:30:05 +0000 2006\", \"contributors_enabled\": false, \"time_zone\": \"Tehran\", \"protected\": false, \"default_profile\": false, \"is_translator\": false}, \"geo\": null, \"in_reply_to_user_id_str\": null, \"possibly_sensitive\": false, \"lang\": \"en\", \"created_at\": \"Sat Aug 30 15:32:01 +0000 2014\", \"in_reply_to_status_id_str\": null, \"place\": null}, {\"contributors\": null, \"truncated\": false, \"text\": \"To my friends in priesthood leadership positions (or for the spouses of priesthood leaders too shy to be on... http://t.co/Gfa9MosIYh\", \"in_reply_to_status_id\": null, \"id\": 505593690320949248, \"favorite_count\": 0, \"source\": \"<a href=\\\"http://www.facebook.com/twitter\\\" rel=\\\"nofollow\\\">Facebook</a>\", \"retweeted\": false, \"coordinates\": null, \"entities\": {\"symbols\": [], \"user_mentions\": [], \"hashtags\": [], \"urls\": [{\"url\": \"http://t.co/Gfa9MosIYh\", \"indices\": [111, 133], \"expanded_url\": \"http://fb.me/1wVAzBX7m\", \"display_url\": \"fb.me/1wVAzBX7m\"}]}, \"in_reply_to_screen_name\": null, \"id_str\": \"505593690320949248\", \"retweet_count\": 0, \"in_reply_to_user_id\": null, \"favorited\": false, \"user\": {\"follow_request_sent\": false, \"profile_use_background_image\": false, \"profile_text_color\": \"666666\", \"default_profile_image\": false, \"id\": 614, \"profile_background_image_url_https\": \"https://abs.twimg.com/images/themes/theme9/bg.gif\", \"verified\": false, \"profile_location\": null, \"profile_image_url_https\": \"https://pbs.twimg.com/profile_images/465965547855679488/ONqxqGvL_normal.jpeg\", \"profile_sidebar_fill_color\": \"252429\", \"entities\": {\"url\": {\"urls\": [{\"url\": \"http://t.co/x5Vr8HWFxj\", \"indices\": [0, 22], \"expanded_url\": \"http://facebook.com/christian.harrison\", \"display_url\": \"facebook.com/christian.harr\\u2026\"}]}, \"description\": {\"urls\": []}}, \"followers_count\": 1377, \"profile_sidebar_border_color\": \"000000\", \"id_str\": \"614\", \"profile_background_color\": \"1A1B1F\", \"listed_count\": 39, \"is_translation_enabled\": false, \"utc_offset\": 12600, \"statuses_count\": 7894, \"description\": \"Urban enthusiast, professional storyteller, man of faith.\", \"friends_count\": 1931, \"location\": \"Salt Lake City, UT\", \"profile_link_color\": \"2FC2EF\", \"profile_image_url\": \"http://pbs.twimg.com/profile_images/465965547855679488/ONqxqGvL_normal.jpeg\", \"following\": false, \"geo_enabled\": true, \"profile_banner_url\": \"https://pbs.twimg.com/profile_banners/614/1365311832\", \"profile_background_image_url\": \"http://abs.twimg.com/images/themes/theme9/bg.gif\", \"name\": \"Christian Harrison\", \"lang\": \"en\", \"profile_background_tile\": false, \"favourites_count\": 83, \"screen_name\": \"dcharrison\", \"notifications\": false, \"url\": \"http://t.co/x5Vr8HWFxj\", \"created_at\": \"Thu Jul 13 20:30:05 +0000 2006\", \"contributors_enabled\": false, \"time_zone\": \"Tehran\", \"protected\": false, \"default_profile\": false, \"is_translator\": false}, \"geo\": null, \"in_reply_to_user_id_str\": null, \"possibly_sensitive\": false, \"lang\": \"en\", \"created_at\": \"Sat Aug 30 05:51:43 +0000 2014\", \"in_reply_to_status_id_str\": null, \"place\": null}, {\"contributors\": null, \"truncated\": false, \"text\": \"Fascinating idea. http://t.co/6MEj3OlkpL\", \"in_reply_to_status_id\": null, \"id\": 505442090235752449, \"favorite_count\": 0, \"source\": \"<a href=\\\"http://www.facebook.com/twitter\\\" rel=\\\"nofollow\\\">Facebook</a>\", \"retweeted\": false, \"coordinates\": null, \"entities\": {\"symbols\": [], \"user_mentions\": [], \"hashtags\": [], \"urls\": [{\"url\": \"http://t.co/6MEj3OlkpL\", \"indices\": [18, 40], \"expanded_url\": \"http://fb.me/44Epqs5Tc\", \"display_url\": \"fb.me/44Epqs5Tc\"}]}, \"in_reply_to_screen_name\": null, \"id_str\": \"505442090235752449\", \"retweet_count\": 0, \"in_reply_to_user_id\": null, \"favorited\": false, \"user\": {\"follow_request_sent\": false, \"profile_use_background_image\": false, \"profile_text_color\": \"666666\", \"default_profile_image\": false, \"id\": 614, \"profile_background_image_url_https\": \"https://abs.twimg.com/images/themes/theme9/bg.gif\", \"verified\": false, \"profile_location\": null, \"profile_image_url_https\": \"https://pbs.twimg.com/profile_images/465965547855679488/ONqxqGvL_normal.jpeg\", \"profile_sidebar_fill_color\": \"252429\", \"entities\": {\"url\": {\"urls\": [{\"url\": \"http://t.co/x5Vr8HWFxj\", \"indices\": [0, 22], \"expanded_url\": \"http://facebook.com/christian.harrison\", \"display_url\": \"facebook.com/christian.harr\\u2026\"}]}, \"description\": {\"urls\": []}}, \"followers_count\": 1377, \"profile_sidebar_border_color\": \"000000\", \"id_str\": \"614\", \"profile_background_color\": \"1A1B1F\", \"listed_count\": 39, \"is_translation_enabled\": false, \"utc_offset\": 12600, \"statuses_count\": 7894, \"description\": \"Urban enthusiast, professional storyteller, man of faith.\", \"friends_count\": 1931, \"location\": \"Salt Lake City, UT\", \"profile_link_color\": \"2FC2EF\", \"profile_image_url\": \"http://pbs.twimg.com/profile_images/465965547855679488/ONqxqGvL_normal.jpeg\", \"following\": false, \"geo_enabled\": true, \"profile_banner_url\": \"https://pbs.twimg.com/profile_banners/614/1365311832\", \"profile_background_image_url\": \"http://abs.twimg.com/images/themes/theme9/bg.gif\", \"name\": \"Christian Harrison\", \"lang\": \"en\", \"profile_background_tile\": false, \"favourites_count\": 83, \"screen_name\": \"dcharrison\", \"notifications\": false, \"url\": \"http://t.co/x5Vr8HWFxj\", \"created_at\": \"Thu Jul 13 20:30:05 +0000 2006\", \"contributors_enabled\": false, \"time_zone\": \"Tehran\", \"protected\": false, \"default_profile\": false, \"is_translator\": false}, \"geo\": null, \"in_reply_to_user_id_str\": null, \"possibly_sensitive\": false, \"lang\": \"en\", \"created_at\": \"Fri Aug 29 19:49:19 +0000 2014\", \"in_reply_to_status_id_str\": null, \"place\": null}, {\"contributors\": null, \"truncated\": false, \"text\": \"Moving. http://t.co/bmIlDt0mAq\", \"in_reply_to_status_id\": null, \"id\": 504857186208464896, \"favorite_count\": 0, \"source\": \"<a href=\\\"http://www.facebook.com/twitter\\\" rel=\\\"nofollow\\\">Facebook</a>\", \"retweeted\": false, \"coordinates\": null, \"entities\": {\"symbols\": [], \"user_mentions\": [], \"hashtags\": [], \"urls\": [{\"url\": \"http://t.co/bmIlDt0mAq\", \"indices\": [8, 30], \"expanded_url\": \"http://fb.me/6GW7zGfvl\", \"display_url\": \"fb.me/6GW7zGfvl\"}]}, \"in_reply_to_screen_name\": null, \"id_str\": \"504857186208464896\", \"retweet_count\": 0, \"in_reply_to_user_id\": null, \"favorited\": false, \"user\": {\"follow_request_sent\": false, \"profile_use_background_image\": false, \"profile_text_color\": \"666666\", \"default_profile_image\": false, \"id\": 614, \"profile_background_image_url_https\": \"https://abs.twimg.com/images/themes/theme9/bg.gif\", \"verified\": false, \"profile_location\": null, \"profile_image_url_https\": \"https://pbs.twimg.com/profile_images/465965547855679488/ONqxqGvL_normal.jpeg\", \"profile_sidebar_fill_color\": \"252429\", \"entities\": {\"url\": {\"urls\": [{\"url\": \"http://t.co/x5Vr8HWFxj\", \"indices\": [0, 22], \"expanded_url\": \"http://facebook.com/christian.harrison\", \"display_url\": \"facebook.com/christian.harr\\u2026\"}]}, \"description\": {\"urls\": []}}, \"followers_count\": 1377, \"profile_sidebar_border_color\": \"000000\", \"id_str\": \"614\", \"profile_background_color\": \"1A1B1F\", \"listed_count\": 39, \"is_translation_enabled\": false, \"utc_offset\": 12600, \"statuses_count\": 7894, \"description\": \"Urban enthusiast, professional storyteller, man of faith.\", \"friends_count\": 1931, \"location\": \"Salt Lake City, UT\", \"profile_link_color\": \"2FC2EF\", \"profile_image_url\": \"http://pbs.twimg.com/profile_images/465965547855679488/ONqxqGvL_normal.jpeg\", \"following\": false, \"geo_enabled\": true, \"profile_banner_url\": \"https://pbs.twimg.com/profile_banners/614/1365311832\", \"profile_background_image_url\": \"http://abs.twimg.com/images/themes/theme9/bg.gif\", \"name\": \"Christian Harrison\", \"lang\": \"en\", \"profile_background_tile\": false, \"favourites_count\": 83, \"screen_name\": \"dcharrison\", \"notifications\": false, \"url\": \"http://t.co/x5Vr8HWFxj\", \"created_at\": \"Thu Jul 13 20:30:05 +0000 2006\", \"contributors_enabled\": false, \"time_zone\": \"Tehran\", \"protected\": false, \"default_profile\": false, \"is_translator\": false}, \"geo\": null, \"in_reply_to_user_id_str\": null, \"possibly_sensitive\": false, \"lang\": \"en\", \"created_at\": \"Thu Aug 28 05:05:07 +0000 2014\", \"in_reply_to_status_id_str\": null, \"place\": null}, {\"contributors\": null, \"truncated\": false, \"text\": \"Calling all my financially-savvy executive type friends: the American Alpine Club is hiring a new Operations... http://t.co/MEwjmchy4V\", \"in_reply_to_status_id\": null, \"id\": 504697976527519745, \"favorite_count\": 0, \"source\": \"<a href=\\\"http://www.facebook.com/twitter\\\" rel=\\\"nofollow\\\">Facebook</a>\", \"retweeted\": false, \"coordinates\": null, \"entities\": {\"symbols\": [], \"user_mentions\": [], \"hashtags\": [], \"urls\": [{\"url\": \"http://t.co/MEwjmchy4V\", \"indices\": [112, 134], \"expanded_url\": \"http://fb.me/32S7uOnKt\", \"display_url\": \"fb.me/32S7uOnKt\"}]}, \"in_reply_to_screen_name\": null, \"id_str\": \"504697976527519745\", \"retweet_count\": 0, \"in_reply_to_user_id\": null, \"favorited\": false, \"user\": {\"follow_request_sent\": false, \"profile_use_background_image\": false, \"profile_text_color\": \"666666\", \"default_profile_image\": false, \"id\": 614, \"profile_background_image_url_https\": \"https://abs.twimg.com/images/themes/theme9/bg.gif\", \"verified\": false, \"profile_location\": null, \"profile_image_url_https\": \"https://pbs.twimg.com/profile_images/465965547855679488/ONqxqGvL_normal.jpeg\", \"profile_sidebar_fill_color\": \"252429\", \"entities\": {\"url\": {\"urls\": [{\"url\": \"http://t.co/x5Vr8HWFxj\", \"indices\": [0, 22], \"expanded_url\": \"http://facebook.com/christian.harrison\", \"display_url\": \"facebook.com/christian.harr\\u2026\"}]}, \"description\": {\"urls\": []}}, \"followers_count\": 1377, \"profile_sidebar_border_color\": \"000000\", \"id_str\": \"614\", \"profile_background_color\": \"1A1B1F\", \"listed_count\": 39, \"is_translation_enabled\": false, \"utc_offset\": 12600, \"statuses_count\": 7894, \"description\": \"Urban enthusiast, professional storyteller, man of faith.\", \"friends_count\": 1931, \"location\": \"Salt Lake City, UT\", \"profile_link_color\": \"2FC2EF\", \"profile_image_url\": \"http://pbs.twimg.com/profile_images/465965547855679488/ONqxqGvL_normal.jpeg\", \"following\": false, \"geo_enabled\": true, \"profile_banner_url\": \"https://pbs.twimg.com/profile_banners/614/1365311832\", \"profile_background_image_url\": \"http://abs.twimg.com/images/themes/theme9/bg.gif\", \"name\": \"Christian Harrison\", \"lang\": \"en\", \"profile_background_tile\": false, \"favourites_count\": 83, \"screen_name\": \"dcharrison\", \"notifications\": false, \"url\": \"http://t.co/x5Vr8HWFxj\", \"created_at\": \"Thu Jul 13 20:30:05 +0000 2006\", \"contributors_enabled\": false, \"time_zone\": \"Tehran\", \"protected\": false, \"default_profile\": false, \"is_translator\": false}, \"geo\": null, \"in_reply_to_user_id_str\": null, \"possibly_sensitive\": false, \"lang\": \"en\", \"created_at\": \"Wed Aug 27 18:32:29 +0000 2014\", \"in_reply_to_status_id_str\": null, \"place\": null}, {\"contributors\": null, \"truncated\": false, \"text\": \"For my friends who love The Sopranos. And art. http://t.co/veA0B8d48p\", \"in_reply_to_status_id\": null, \"id\": 504628483692048384, \"favorite_count\": 0, \"source\": \"<a href=\\\"http://www.facebook.com/twitter\\\" rel=\\\"nofollow\\\">Facebook</a>\", \"retweeted\": false, \"coordinates\": null, \"entities\": {\"symbols\": [], \"user_mentions\": [], \"hashtags\": [], \"urls\": [{\"url\": \"http://t.co/veA0B8d48p\", \"indices\": [47, 69], \"expanded_url\": \"http://fb.me/1rIDgR6Vp\", \"display_url\": \"fb.me/1rIDgR6Vp\"}]}, \"in_reply_to_screen_name\": null, \"id_str\": \"504628483692048384\", \"retweet_count\": 0, \"in_reply_to_user_id\": null, \"favorited\": false, \"user\": {\"follow_request_sent\": false, \"profile_use_background_image\": false, \"profile_text_color\": \"666666\", \"default_profile_image\": false, \"id\": 614, \"profile_background_image_url_https\": \"https://abs.twimg.com/images/themes/theme9/bg.gif\", \"verified\": false, \"profile_location\": null, \"profile_image_url_https\": \"https://pbs.twimg.com/profile_images/465965547855679488/ONqxqGvL_normal.jpeg\", \"profile_sidebar_fill_color\": \"252429\", \"entities\": {\"url\": {\"urls\": [{\"url\": \"http://t.co/x5Vr8HWFxj\", \"indices\": [0, 22], \"expanded_url\": \"http://facebook.com/christian.harrison\", \"display_url\": \"facebook.com/christian.harr\\u2026\"}]}, \"description\": {\"urls\": []}}, \"followers_count\": 1377, \"profile_sidebar_border_color\": \"000000\", \"id_str\": \"614\", \"profile_background_color\": \"1A1B1F\", \"listed_count\": 39, \"is_translation_enabled\": false, \"utc_offset\": 12600, \"statuses_count\": 7894, \"description\": \"Urban enthusiast, professional storyteller, man of faith.\", \"friends_count\": 1931, \"location\": \"Salt Lake City, UT\", \"profile_link_color\": \"2FC2EF\", \"profile_image_url\": \"http://pbs.twimg.com/profile_images/465965547855679488/ONqxqGvL_normal.jpeg\", \"following\": false, \"geo_enabled\": true, \"profile_banner_url\": \"https://pbs.twimg.com/profile_banners/614/1365311832\", \"profile_background_image_url\": \"http://abs.twimg.com/images/themes/theme9/bg.gif\", \"name\": \"Christian Harrison\", \"lang\": \"en\", \"profile_background_tile\": false, \"favourites_count\": 83, \"screen_name\": \"dcharrison\", \"notifications\": false, \"url\": \"http://t.co/x5Vr8HWFxj\", \"created_at\": \"Thu Jul 13 20:30:05 +0000 2006\", \"contributors_enabled\": false, \"time_zone\": \"Tehran\", \"protected\": false, \"default_profile\": false, \"is_translator\": false}, \"geo\": null, \"in_reply_to_user_id_str\": null, \"possibly_sensitive\": false, \"lang\": \"en\", \"created_at\": \"Wed Aug 27 13:56:20 +0000 2014\", \"in_reply_to_status_id_str\": null, \"place\": null}, {\"contributors\": null, \"truncated\": false, \"text\": \"More on the basic income guarantee\\u2026 http://t.co/KOAy461Q4t\", \"in_reply_to_status_id\": null, \"id\": 504430352262496256, \"favorite_count\": 1, \"source\": \"<a href=\\\"http://www.facebook.com/twitter\\\" rel=\\\"nofollow\\\">Facebook</a>\", \"retweeted\": false, \"coordinates\": null, \"entities\": {\"symbols\": [], \"user_mentions\": [], \"hashtags\": [], \"urls\": [{\"url\": \"http://t.co/KOAy461Q4t\", \"indices\": [36, 58], \"expanded_url\": \"http://fb.me/2Ulx9HZw0\", \"display_url\": \"fb.me/2Ulx9HZw0\"}]}, \"in_reply_to_screen_name\": null, \"id_str\": \"504430352262496256\", \"retweet_count\": 0, \"in_reply_to_user_id\": null, \"favorited\": false, \"user\": {\"follow_request_sent\": false, \"profile_use_background_image\": false, \"profile_text_color\": \"666666\", \"default_profile_image\": false, \"id\": 614, \"profile_background_image_url_https\": \"https://abs.twimg.com/images/themes/theme9/bg.gif\", \"verified\": false, \"profile_location\": null, \"profile_image_url_https\": \"https://pbs.twimg.com/profile_images/465965547855679488/ONqxqGvL_normal.jpeg\", \"profile_sidebar_fill_color\": \"252429\", \"entities\": {\"url\": {\"urls\": [{\"url\": \"http://t.co/x5Vr8HWFxj\", \"indices\": [0, 22], \"expanded_url\": \"http://facebook.com/christian.harrison\", \"display_url\": \"facebook.com/christian.harr\\u2026\"}]}, \"description\": {\"urls\": []}}, \"followers_count\": 1377, \"profile_sidebar_border_color\": \"000000\", \"id_str\": \"614\", \"profile_background_color\": \"1A1B1F\", \"listed_count\": 39, \"is_translation_enabled\": false, \"utc_offset\": 12600, \"statuses_count\": 7894, \"description\": \"Urban enthusiast, professional storyteller, man of faith.\", \"friends_count\": 1931, \"location\": \"Salt Lake City, UT\", \"profile_link_color\": \"2FC2EF\", \"profile_image_url\": \"http://pbs.twimg.com/profile_images/465965547855679488/ONqxqGvL_normal.jpeg\", \"following\": false, \"geo_enabled\": true, \"profile_banner_url\": \"https://pbs.twimg.com/profile_banners/614/1365311832\", \"profile_background_image_url\": \"http://abs.twimg.com/images/themes/theme9/bg.gif\", \"name\": \"Christian Harrison\", \"lang\": \"en\", \"profile_background_tile\": false, \"favourites_count\": 83, \"screen_name\": \"dcharrison\", \"notifications\": false, \"url\": \"http://t.co/x5Vr8HWFxj\", \"created_at\": \"Thu Jul 13 20:30:05 +0000 2006\", \"contributors_enabled\": false, \"time_zone\": \"Tehran\", \"protected\": false, \"default_profile\": false, \"is_translator\": false}, \"geo\": null, \"in_reply_to_user_id_str\": null, \"possibly_sensitive\": false, \"lang\": \"en\", \"created_at\": \"Wed Aug 27 00:49:02 +0000 2014\", \"in_reply_to_status_id_str\": null, \"place\": null}, {\"contributors\": null, \"truncated\": false, \"text\": \"If you are around and have time, you should support my friend Alex Cragun as he presents his case to the UTA... http://t.co/GPDut5eCaz\", \"in_reply_to_status_id\": null, \"id\": 504397070090780672, \"favorite_count\": 0, \"source\": \"<a href=\\\"http://www.facebook.com/twitter\\\" rel=\\\"nofollow\\\">Facebook</a>\", \"retweeted\": false, \"coordinates\": null, \"entities\": {\"symbols\": [], \"user_mentions\": [], \"hashtags\": [], \"urls\": [{\"url\": \"http://t.co/GPDut5eCaz\", \"indices\": [112, 134], \"expanded_url\": \"http://fb.me/3DoUROsH6\", \"display_url\": \"fb.me/3DoUROsH6\"}]}, \"in_reply_to_screen_name\": null, \"id_str\": \"504397070090780672\", \"retweet_count\": 0, \"in_reply_to_user_id\": null, \"favorited\": false, \"user\": {\"follow_request_sent\": false, \"profile_use_background_image\": false, \"profile_text_color\": \"666666\", \"default_profile_image\": false, \"id\": 614, \"profile_background_image_url_https\": \"https://abs.twimg.com/images/themes/theme9/bg.gif\", \"verified\": false, \"profile_location\": null, \"profile_image_url_https\": \"https://pbs.twimg.com/profile_images/465965547855679488/ONqxqGvL_normal.jpeg\", \"profile_sidebar_fill_color\": \"252429\", \"entities\": {\"url\": {\"urls\": [{\"url\": \"http://t.co/x5Vr8HWFxj\", \"indices\": [0, 22], \"expanded_url\": \"http://facebook.com/christian.harrison\", \"display_url\": \"facebook.com/christian.harr\\u2026\"}]}, \"description\": {\"urls\": []}}, \"followers_count\": 1377, \"profile_sidebar_border_color\": \"000000\", \"id_str\": \"614\", \"profile_background_color\": \"1A1B1F\", \"listed_count\": 39, \"is_translation_enabled\": false, \"utc_offset\": 12600, \"statuses_count\": 7894, \"description\": \"Urban enthusiast, professional storyteller, man of faith.\", \"friends_count\": 1931, \"location\": \"Salt Lake City, UT\", \"profile_link_color\": \"2FC2EF\", \"profile_image_url\": \"http://pbs.twimg.com/profile_images/465965547855679488/ONqxqGvL_normal.jpeg\", \"following\": false, \"geo_enabled\": true, \"profile_banner_url\": \"https://pbs.twimg.com/profile_banners/614/1365311832\", \"profile_background_image_url\": \"http://abs.twimg.com/images/themes/theme9/bg.gif\", \"name\": \"Christian Harrison\", \"lang\": \"en\", \"profile_background_tile\": false, \"favourites_count\": 83, \"screen_name\": \"dcharrison\", \"notifications\": false, \"url\": \"http://t.co/x5Vr8HWFxj\", \"created_at\": \"Thu Jul 13 20:30:05 +0000 2006\", \"contributors_enabled\": false, \"time_zone\": \"Tehran\", \"protected\": false, \"default_profile\": false, \"is_translator\": false}, \"geo\": null, \"in_reply_to_user_id_str\": null, \"possibly_sensitive\": false, \"lang\": \"en\", \"created_at\": \"Tue Aug 26 22:36:47 +0000 2014\", \"in_reply_to_status_id_str\": null, \"place\": null}, {\"contributors\": null, \"truncated\": false, \"text\": \"I've been watching with some interest the efforts to divide California into six states \\u2026 and one of the enduring... http://t.co/LdsA1jjzzG\", \"in_reply_to_status_id\": null, \"id\": 504386633152868352, \"favorite_count\": 0, \"source\": \"<a href=\\\"http://www.facebook.com/twitter\\\" rel=\\\"nofollow\\\">Facebook</a>\", \"retweeted\": false, \"coordinates\": null, \"entities\": {\"symbols\": [], \"user_mentions\": [], \"hashtags\": [], \"urls\": [{\"url\": \"http://t.co/LdsA1jjzzG\", \"indices\": [116, 138], \"expanded_url\": \"http://fb.me/3uP8evnx7\", \"display_url\": \"fb.me/3uP8evnx7\"}]}, \"in_reply_to_screen_name\": null, \"id_str\": \"504386633152868352\", \"retweet_count\": 1, \"in_reply_to_user_id\": null, \"favorited\": false, \"user\": {\"follow_request_sent\": false, \"profile_use_background_image\": false, \"profile_text_color\": \"666666\", \"default_profile_image\": false, \"id\": 614, \"profile_background_image_url_https\": \"https://abs.twimg.com/images/themes/theme9/bg.gif\", \"verified\": false, \"profile_location\": null, \"profile_image_url_https\": \"https://pbs.twimg.com/profile_images/465965547855679488/ONqxqGvL_normal.jpeg\", \"profile_sidebar_fill_color\": \"252429\", \"entities\": {\"url\": {\"urls\": [{\"url\": \"http://t.co/x5Vr8HWFxj\", \"indices\": [0, 22], \"expanded_url\": \"http://facebook.com/christian.harrison\", \"display_url\": \"facebook.com/christian.harr\\u2026\"}]}, \"description\": {\"urls\": []}}, \"followers_count\": 1377, \"profile_sidebar_border_color\": \"000000\", \"id_str\": \"614\", \"profile_background_color\": \"1A1B1F\", \"listed_count\": 39, \"is_translation_enabled\": false, \"utc_offset\": 12600, \"statuses_count\": 7894, \"description\": \"Urban enthusiast, professional storyteller, man of faith.\", \"friends_count\": 1931, \"location\": \"Salt Lake City, UT\", \"profile_link_color\": \"2FC2EF\", \"profile_image_url\": \"http://pbs.twimg.com/profile_images/465965547855679488/ONqxqGvL_normal.jpeg\", \"following\": false, \"geo_enabled\": true, \"profile_banner_url\": \"https://pbs.twimg.com/profile_banners/614/1365311832\", \"profile_background_image_url\": \"http://abs.twimg.com/images/themes/theme9/bg.gif\", \"name\": \"Christian Harrison\", \"lang\": \"en\", \"profile_background_tile\": false, \"favourites_count\": 83, \"screen_name\": \"dcharrison\", \"notifications\": false, \"url\": \"http://t.co/x5Vr8HWFxj\", \"created_at\": \"Thu Jul 13 20:30:05 +0000 2006\", \"contributors_enabled\": false, \"time_zone\": \"Tehran\", \"protected\": false, \"default_profile\": false, \"is_translator\": false}, \"geo\": null, \"in_reply_to_user_id_str\": null, \"possibly_sensitive\": false, \"lang\": \"en\", \"created_at\": \"Tue Aug 26 21:55:19 +0000 2014\", \"in_reply_to_status_id_str\": null, \"place\": null}, {\"contributors\": null, \"truncated\": false, \"text\": \"To all my film-maker friends: here's your chance to support a veteran market-maker for indie films \\u2014... http://t.co/b1bbVukFxi\", \"in_reply_to_status_id\": null, \"id\": 504288961305403392, \"favorite_count\": 1, \"source\": \"<a href=\\\"http://www.facebook.com/twitter\\\" rel=\\\"nofollow\\\">Facebook</a>\", \"retweeted\": false, \"coordinates\": null, \"entities\": {\"symbols\": [], \"user_mentions\": [], \"hashtags\": [], \"urls\": [{\"url\": \"http://t.co/b1bbVukFxi\", \"indices\": [104, 126], \"expanded_url\": \"http://fb.me/3NROS3kC6\", \"display_url\": \"fb.me/3NROS3kC6\"}]}, \"in_reply_to_screen_name\": null, \"id_str\": \"504288961305403392\", \"retweet_count\": 0, \"in_reply_to_user_id\": null, \"favorited\": false, \"user\": {\"follow_request_sent\": false, \"profile_use_background_image\": false, \"profile_text_color\": \"666666\", \"default_profile_image\": false, \"id\": 614, \"profile_background_image_url_https\": \"https://abs.twimg.com/images/themes/theme9/bg.gif\", \"verified\": false, \"profile_location\": null, \"profile_image_url_https\": \"https://pbs.twimg.com/profile_images/465965547855679488/ONqxqGvL_normal.jpeg\", \"profile_sidebar_fill_color\": \"252429\", \"entities\": {\"url\": {\"urls\": [{\"url\": \"http://t.co/x5Vr8HWFxj\", \"indices\": [0, 22], \"expanded_url\": \"http://facebook.com/christian.harrison\", \"display_url\": \"facebook.com/christian.harr\\u2026\"}]}, \"description\": {\"urls\": []}}, \"followers_count\": 1377, \"profile_sidebar_border_color\": \"000000\", \"id_str\": \"614\", \"profile_background_color\": \"1A1B1F\", \"listed_count\": 39, \"is_translation_enabled\": false, \"utc_offset\": 12600, \"statuses_count\": 7894, \"description\": \"Urban enthusiast, professional storyteller, man of faith.\", \"friends_count\": 1931, \"location\": \"Salt Lake City, UT\", \"profile_link_color\": \"2FC2EF\", \"profile_image_url\": \"http://pbs.twimg.com/profile_images/465965547855679488/ONqxqGvL_normal.jpeg\", \"following\": false, \"geo_enabled\": true, \"profile_banner_url\": \"https://pbs.twimg.com/profile_banners/614/1365311832\", \"profile_background_image_url\": \"http://abs.twimg.com/images/themes/theme9/bg.gif\", \"name\": \"Christian Harrison\", \"lang\": \"en\", \"profile_background_tile\": false, \"favourites_count\": 83, \"screen_name\": \"dcharrison\", \"notifications\": false, \"url\": \"http://t.co/x5Vr8HWFxj\", \"created_at\": \"Thu Jul 13 20:30:05 +0000 2006\", \"contributors_enabled\": false, \"time_zone\": \"Tehran\", \"protected\": false, \"default_profile\": false, \"is_translator\": false}, \"geo\": null, \"in_reply_to_user_id_str\": null, \"possibly_sensitive\": false, \"lang\": \"en\", \"created_at\": \"Tue Aug 26 15:27:12 +0000 2014\", \"in_reply_to_status_id_str\": null, \"place\": null}, {\"contributors\": null, \"truncated\": false, \"text\": \"And it's NOT hard to fix: the letters on the keyboard should visual reflect what you're typing \\u2014 uppercase when... http://t.co/mPulHEjqkP\", \"in_reply_to_status_id\": null, \"id\": 504271695146778624, \"favorite_count\": 1, \"source\": \"<a href=\\\"http://www.facebook.com/twitter\\\" rel=\\\"nofollow\\\">Facebook</a>\", \"retweeted\": false, \"coordinates\": null, \"entities\": {\"symbols\": [], \"user_mentions\": [], \"hashtags\": [], \"urls\": [{\"url\": \"http://t.co/mPulHEjqkP\", \"indices\": [115, 137], \"expanded_url\": \"http://fb.me/1ucp30w2w\", \"display_url\": \"fb.me/1ucp30w2w\"}]}, \"in_reply_to_screen_name\": null, \"id_str\": \"504271695146778624\", \"retweet_count\": 0, \"in_reply_to_user_id\": null, \"favorited\": false, \"user\": {\"follow_request_sent\": false, \"profile_use_background_image\": false, \"profile_text_color\": \"666666\", \"default_profile_image\": false, \"id\": 614, \"profile_background_image_url_https\": \"https://abs.twimg.com/images/themes/theme9/bg.gif\", \"verified\": false, \"profile_location\": null, \"profile_image_url_https\": \"https://pbs.twimg.com/profile_images/465965547855679488/ONqxqGvL_normal.jpeg\", \"profile_sidebar_fill_color\": \"252429\", \"entities\": {\"url\": {\"urls\": [{\"url\": \"http://t.co/x5Vr8HWFxj\", \"indices\": [0, 22], \"expanded_url\": \"http://facebook.com/christian.harrison\", \"display_url\": \"facebook.com/christian.harr\\u2026\"}]}, \"description\": {\"urls\": []}}, \"followers_count\": 1377, \"profile_sidebar_border_color\": \"000000\", \"id_str\": \"614\", \"profile_background_color\": \"1A1B1F\", \"listed_count\": 39, \"is_translation_enabled\": false, \"utc_offset\": 12600, \"statuses_count\": 7894, \"description\": \"Urban enthusiast, professional storyteller, man of faith.\", \"friends_count\": 1931, \"location\": \"Salt Lake City, UT\", \"profile_link_color\": \"2FC2EF\", \"profile_image_url\": \"http://pbs.twimg.com/profile_images/465965547855679488/ONqxqGvL_normal.jpeg\", \"following\": false, \"geo_enabled\": true, \"profile_banner_url\": \"https://pbs.twimg.com/profile_banners/614/1365311832\", \"profile_background_image_url\": \"http://abs.twimg.com/images/themes/theme9/bg.gif\", \"name\": \"Christian Harrison\", \"lang\": \"en\", \"profile_background_tile\": false, \"favourites_count\": 83, \"screen_name\": \"dcharrison\", \"notifications\": false, \"url\": \"http://t.co/x5Vr8HWFxj\", \"created_at\": \"Thu Jul 13 20:30:05 +0000 2006\", \"contributors_enabled\": false, \"time_zone\": \"Tehran\", \"protected\": false, \"default_profile\": false, \"is_translator\": false}, \"geo\": null, \"in_reply_to_user_id_str\": null, \"possibly_sensitive\": false, \"lang\": \"en\", \"created_at\": \"Tue Aug 26 14:18:35 +0000 2014\", \"in_reply_to_status_id_str\": null, \"place\": null}, {\"contributors\": null, \"truncated\": false, \"text\": \"I love my vinyl! http://t.co/VBLgtzSdq0\", \"in_reply_to_status_id\": null, \"id\": 504122577699098624, \"favorite_count\": 0, \"source\": \"<a href=\\\"http://www.facebook.com/twitter\\\" rel=\\\"nofollow\\\">Facebook</a>\", \"retweeted\": false, \"coordinates\": null, \"entities\": {\"symbols\": [], \"user_mentions\": [], \"hashtags\": [], \"urls\": [{\"url\": \"http://t.co/VBLgtzSdq0\", \"indices\": [17, 39], \"expanded_url\": \"http://fb.me/6JTouBkpF\", \"display_url\": \"fb.me/6JTouBkpF\"}]}, \"in_reply_to_screen_name\": null, \"id_str\": \"504122577699098624\", \"retweet_count\": 0, \"in_reply_to_user_id\": null, \"favorited\": false, \"user\": {\"follow_request_sent\": false, \"profile_use_background_image\": false, \"profile_text_color\": \"666666\", \"default_profile_image\": false, \"id\": 614, \"profile_background_image_url_https\": \"https://abs.twimg.com/images/themes/theme9/bg.gif\", \"verified\": false, \"profile_location\": null, \"profile_image_url_https\": \"https://pbs.twimg.com/profile_images/465965547855679488/ONqxqGvL_normal.jpeg\", \"profile_sidebar_fill_color\": \"252429\", \"entities\": {\"url\": {\"urls\": [{\"url\": \"http://t.co/x5Vr8HWFxj\", \"indices\": [0, 22], \"expanded_url\": \"http://facebook.com/christian.harrison\", \"display_url\": \"facebook.com/christian.harr\\u2026\"}]}, \"description\": {\"urls\": []}}, \"followers_count\": 1377, \"profile_sidebar_border_color\": \"000000\", \"id_str\": \"614\", \"profile_background_color\": \"1A1B1F\", \"listed_count\": 39, \"is_translation_enabled\": false, \"utc_offset\": 12600, \"statuses_count\": 7894, \"description\": \"Urban enthusiast, professional storyteller, man of faith.\", \"friends_count\": 1931, \"location\": \"Salt Lake City, UT\", \"profile_link_color\": \"2FC2EF\", \"profile_image_url\": \"http://pbs.twimg.com/profile_images/465965547855679488/ONqxqGvL_normal.jpeg\", \"following\": false, \"geo_enabled\": true, \"profile_banner_url\": \"https://pbs.twimg.com/profile_banners/614/1365311832\", \"profile_background_image_url\": \"http://abs.twimg.com/images/themes/theme9/bg.gif\", \"name\": \"Christian Harrison\", \"lang\": \"en\", \"profile_background_tile\": false, \"favourites_count\": 83, \"screen_name\": \"dcharrison\", \"notifications\": false, \"url\": \"http://t.co/x5Vr8HWFxj\", \"created_at\": \"Thu Jul 13 20:30:05 +0000 2006\", \"contributors_enabled\": false, \"time_zone\": \"Tehran\", \"protected\": false, \"default_profile\": false, \"is_translator\": false}, \"geo\": null, \"in_reply_to_user_id_str\": null, \"possibly_sensitive\": false, \"lang\": \"en\", \"created_at\": \"Tue Aug 26 04:26:03 +0000 2014\", \"in_reply_to_status_id_str\": null, \"place\": null}, {\"contributors\": null, \"truncated\": false, \"text\": \"Mm\\u2026 Cahnbread. http://t.co/R9wpJm5sJK\", \"in_reply_to_status_id\": null, \"id\": 504075218726293504, \"favorite_count\": 0, \"source\": \"<a href=\\\"http://www.facebook.com/twitter\\\" rel=\\\"nofollow\\\">Facebook</a>\", \"retweeted\": false, \"coordinates\": null, \"entities\": {\"symbols\": [], \"user_mentions\": [], \"hashtags\": [], \"urls\": [{\"url\": \"http://t.co/R9wpJm5sJK\", \"indices\": [15, 37], \"expanded_url\": \"http://fb.me/3hb3G7K1y\", \"display_url\": \"fb.me/3hb3G7K1y\"}]}, \"in_reply_to_screen_name\": null, \"id_str\": \"504075218726293504\", \"retweet_count\": 0, \"in_reply_to_user_id\": null, \"favorited\": false, \"user\": {\"follow_request_sent\": false, \"profile_use_background_image\": false, \"profile_text_color\": \"666666\", \"default_profile_image\": false, \"id\": 614, \"profile_background_image_url_https\": \"https://abs.twimg.com/images/themes/theme9/bg.gif\", \"verified\": false, \"profile_location\": null, \"profile_image_url_https\": \"https://pbs.twimg.com/profile_images/465965547855679488/ONqxqGvL_normal.jpeg\", \"profile_sidebar_fill_color\": \"252429\", \"entities\": {\"url\": {\"urls\": [{\"url\": \"http://t.co/x5Vr8HWFxj\", \"indices\": [0, 22], \"expanded_url\": \"http://facebook.com/christian.harrison\", \"display_url\": \"facebook.com/christian.harr\\u2026\"}]}, \"description\": {\"urls\": []}}, \"followers_count\": 1377, \"profile_sidebar_border_color\": \"000000\", \"id_str\": \"614\", \"profile_background_color\": \"1A1B1F\", \"listed_count\": 39, \"is_translation_enabled\": false, \"utc_offset\": 12600, \"statuses_count\": 7894, \"description\": \"Urban enthusiast, professional storyteller, man of faith.\", \"friends_count\": 1931, \"location\": \"Salt Lake City, UT\", \"profile_link_color\": \"2FC2EF\", \"profile_image_url\": \"http://pbs.twimg.com/profile_images/465965547855679488/ONqxqGvL_normal.jpeg\", \"following\": false, \"geo_enabled\": true, \"profile_banner_url\": \"https://pbs.twimg.com/profile_banners/614/1365311832\", \"profile_background_image_url\": \"http://abs.twimg.com/images/themes/theme9/bg.gif\", \"name\": \"Christian Harrison\", \"lang\": \"en\", \"profile_background_tile\": false, \"favourites_count\": 83, \"screen_name\": \"dcharrison\", \"notifications\": false, \"url\": \"http://t.co/x5Vr8HWFxj\", \"created_at\": \"Thu Jul 13 20:30:05 +0000 2006\", \"contributors_enabled\": false, \"time_zone\": \"Tehran\", \"protected\": false, \"default_profile\": false, \"is_translator\": false}, \"geo\": null, \"in_reply_to_user_id_str\": null, \"possibly_sensitive\": false, \"lang\": \"de\", \"created_at\": \"Tue Aug 26 01:17:52 +0000 2014\", \"in_reply_to_status_id_str\": null, \"place\": null}, {\"contributors\": null, \"truncated\": false, \"text\": \"Beautiful. http://t.co/oVdeWwmLXy\", \"in_reply_to_status_id\": null, \"id\": 503724833264250881, \"favorite_count\": 0, \"source\": \"<a href=\\\"http://www.facebook.com/twitter\\\" rel=\\\"nofollow\\\">Facebook</a>\", \"retweeted\": false, \"coordinates\": null, \"entities\": {\"symbols\": [], \"user_mentions\": [], \"hashtags\": [], \"urls\": [{\"url\": \"http://t.co/oVdeWwmLXy\", \"indices\": [11, 33], \"expanded_url\": \"http://fb.me/1uoULtayH\", \"display_url\": \"fb.me/1uoULtayH\"}]}, \"in_reply_to_screen_name\": null, \"id_str\": \"503724833264250881\", \"retweet_count\": 0, \"in_reply_to_user_id\": null, \"favorited\": false, \"user\": {\"follow_request_sent\": false, \"profile_use_background_image\": false, \"profile_text_color\": \"666666\", \"default_profile_image\": false, \"id\": 614, \"profile_background_image_url_https\": \"https://abs.twimg.com/images/themes/theme9/bg.gif\", \"verified\": false, \"profile_location\": null, \"profile_image_url_https\": \"https://pbs.twimg.com/profile_images/465965547855679488/ONqxqGvL_normal.jpeg\", \"profile_sidebar_fill_color\": \"252429\", \"entities\": {\"url\": {\"urls\": [{\"url\": \"http://t.co/x5Vr8HWFxj\", \"indices\": [0, 22], \"expanded_url\": \"http://facebook.com/christian.harrison\", \"display_url\": \"facebook.com/christian.harr\\u2026\"}]}, \"description\": {\"urls\": []}}, \"followers_count\": 1377, \"profile_sidebar_border_color\": \"000000\", \"id_str\": \"614\", \"profile_background_color\": \"1A1B1F\", \"listed_count\": 39, \"is_translation_enabled\": false, \"utc_offset\": 12600, \"statuses_count\": 7894, \"description\": \"Urban enthusiast, professional storyteller, man of faith.\", \"friends_count\": 1931, \"location\": \"Salt Lake City, UT\", \"profile_link_color\": \"2FC2EF\", \"profile_image_url\": \"http://pbs.twimg.com/profile_images/465965547855679488/ONqxqGvL_normal.jpeg\", \"following\": false, \"geo_enabled\": true, \"profile_banner_url\": \"https://pbs.twimg.com/profile_banners/614/1365311832\", \"profile_background_image_url\": \"http://abs.twimg.com/images/themes/theme9/bg.gif\", \"name\": \"Christian Harrison\", \"lang\": \"en\", \"profile_background_tile\": false, \"favourites_count\": 83, \"screen_name\": \"dcharrison\", \"notifications\": false, \"url\": \"http://t.co/x5Vr8HWFxj\", \"created_at\": \"Thu Jul 13 20:30:05 +0000 2006\", \"contributors_enabled\": false, \"time_zone\": \"Tehran\", \"protected\": false, \"default_profile\": false, \"is_translator\": false}, \"geo\": null, \"in_reply_to_user_id_str\": null, \"possibly_sensitive\": false, \"lang\": \"en\", \"created_at\": \"Mon Aug 25 02:05:33 +0000 2014\", \"in_reply_to_status_id_str\": null, \"place\": null}, {\"contributors\": null, \"truncated\": false, \"text\": \"Second up: #TheBlueAces http://t.co/oGBnViVf0b\", \"in_reply_to_status_id\": null, \"id\": 503355611376275456, \"favorite_count\": 0, \"source\": \"<a href=\\\"http://www.facebook.com/twitter\\\" rel=\\\"nofollow\\\">Facebook</a>\", \"retweeted\": false, \"coordinates\": null, \"entities\": {\"symbols\": [], \"user_mentions\": [], \"hashtags\": [{\"indices\": [11, 23], \"text\": \"TheBlueAces\"}], \"urls\": [{\"url\": \"http://t.co/oGBnViVf0b\", \"indices\": [24, 46], \"expanded_url\": \"http://fb.me/6CJHh6DiQ\", \"display_url\": \"fb.me/6CJHh6DiQ\"}]}, \"in_reply_to_screen_name\": null, \"id_str\": \"503355611376275456\", \"retweet_count\": 0, \"in_reply_to_user_id\": null, \"favorited\": false, \"user\": {\"follow_request_sent\": false, \"profile_use_background_image\": false, \"profile_text_color\": \"666666\", \"default_profile_image\": false, \"id\": 614, \"profile_background_image_url_https\": \"https://abs.twimg.com/images/themes/theme9/bg.gif\", \"verified\": false, \"profile_location\": null, \"profile_image_url_https\": \"https://pbs.twimg.com/profile_images/465965547855679488/ONqxqGvL_normal.jpeg\", \"profile_sidebar_fill_color\": \"252429\", \"entities\": {\"url\": {\"urls\": [{\"url\": \"http://t.co/x5Vr8HWFxj\", \"indices\": [0, 22], \"expanded_url\": \"http://facebook.com/christian.harrison\", \"display_url\": \"facebook.com/christian.harr\\u2026\"}]}, \"description\": {\"urls\": []}}, \"followers_count\": 1377, \"profile_sidebar_border_color\": \"000000\", \"id_str\": \"614\", \"profile_background_color\": \"1A1B1F\", \"listed_count\": 39, \"is_translation_enabled\": false, \"utc_offset\": 12600, \"statuses_count\": 7894, \"description\": \"Urban enthusiast, professional storyteller, man of faith.\", \"friends_count\": 1931, \"location\": \"Salt Lake City, UT\", \"profile_link_color\": \"2FC2EF\", \"profile_image_url\": \"http://pbs.twimg.com/profile_images/465965547855679488/ONqxqGvL_normal.jpeg\", \"following\": false, \"geo_enabled\": true, \"profile_banner_url\": \"https://pbs.twimg.com/profile_banners/614/1365311832\", \"profile_background_image_url\": \"http://abs.twimg.com/images/themes/theme9/bg.gif\", \"name\": \"Christian Harrison\", \"lang\": \"en\", \"profile_background_tile\": false, \"favourites_count\": 83, \"screen_name\": \"dcharrison\", \"notifications\": false, \"url\": \"http://t.co/x5Vr8HWFxj\", \"created_at\": \"Thu Jul 13 20:30:05 +0000 2006\", \"contributors_enabled\": false, \"time_zone\": \"Tehran\", \"protected\": false, \"default_profile\": false, \"is_translator\": false}, \"geo\": null, \"in_reply_to_user_id_str\": null, \"possibly_sensitive\": false, \"lang\": \"en\", \"created_at\": \"Sun Aug 24 01:38:24 +0000 2014\", \"in_reply_to_status_id_str\": null, \"place\": null}, {\"contributors\": null, \"truncated\": false, \"text\": \"First up: #CoinInTheSea http://t.co/jgRfknFATF\", \"in_reply_to_status_id\": null, \"id\": 503340242280390656, \"favorite_count\": 0, \"source\": \"<a href=\\\"http://www.facebook.com/twitter\\\" rel=\\\"nofollow\\\">Facebook</a>\", \"retweeted\": false, \"coordinates\": null, \"entities\": {\"symbols\": [], \"user_mentions\": [], \"hashtags\": [{\"indices\": [10, 23], \"text\": \"CoinInTheSea\"}], \"urls\": [{\"url\": \"http://t.co/jgRfknFATF\", \"indices\": [24, 46], \"expanded_url\": \"http://fb.me/39kuqUP7o\", \"display_url\": \"fb.me/39kuqUP7o\"}]}, \"in_reply_to_screen_name\": null, \"id_str\": \"503340242280390656\", \"retweet_count\": 0, \"in_reply_to_user_id\": null, \"favorited\": false, \"user\": {\"follow_request_sent\": false, \"profile_use_background_image\": false, \"profile_text_color\": \"666666\", \"default_profile_image\": false, \"id\": 614, \"profile_background_image_url_https\": \"https://abs.twimg.com/images/themes/theme9/bg.gif\", \"verified\": false, \"profile_location\": null, \"profile_image_url_https\": \"https://pbs.twimg.com/profile_images/465965547855679488/ONqxqGvL_normal.jpeg\", \"profile_sidebar_fill_color\": \"252429\", \"entities\": {\"url\": {\"urls\": [{\"url\": \"http://t.co/x5Vr8HWFxj\", \"indices\": [0, 22], \"expanded_url\": \"http://facebook.com/christian.harrison\", \"display_url\": \"facebook.com/christian.harr\\u2026\"}]}, \"description\": {\"urls\": []}}, \"followers_count\": 1377, \"profile_sidebar_border_color\": \"000000\", \"id_str\": \"614\", \"profile_background_color\": \"1A1B1F\", \"listed_count\": 39, \"is_translation_enabled\": false, \"utc_offset\": 12600, \"statuses_count\": 7894, \"description\": \"Urban enthusiast, professional storyteller, man of faith.\", \"friends_count\": 1931, \"location\": \"Salt Lake City, UT\", \"profile_link_color\": \"2FC2EF\", \"profile_image_url\": \"http://pbs.twimg.com/profile_images/465965547855679488/ONqxqGvL_normal.jpeg\", \"following\": false, \"geo_enabled\": true, \"profile_banner_url\": \"https://pbs.twimg.com/profile_banners/614/1365311832\", \"profile_background_image_url\": \"http://abs.twimg.com/images/themes/theme9/bg.gif\", \"name\": \"Christian Harrison\", \"lang\": \"en\", \"profile_background_tile\": false, \"favourites_count\": 83, \"screen_name\": \"dcharrison\", \"notifications\": false, \"url\": \"http://t.co/x5Vr8HWFxj\", \"created_at\": \"Thu Jul 13 20:30:05 +0000 2006\", \"contributors_enabled\": false, \"time_zone\": \"Tehran\", \"protected\": false, \"default_profile\": false, \"is_translator\": false}, \"geo\": null, \"in_reply_to_user_id_str\": null, \"possibly_sensitive\": false, \"lang\": \"en\", \"created_at\": \"Sun Aug 24 00:37:20 +0000 2014\", \"in_reply_to_status_id_str\": null, \"place\": null}, {\"contributors\": null, \"truncated\": false, \"text\": \"It's begun. #GranaryDot http://t.co/NuoUuxgpBp\", \"in_reply_to_status_id\": null, \"id\": 503335306842882048, \"favorite_count\": 0, \"source\": \"<a href=\\\"http://www.facebook.com/twitter\\\" rel=\\\"nofollow\\\">Facebook</a>\", \"retweeted\": false, \"coordinates\": null, \"entities\": {\"symbols\": [], \"user_mentions\": [], \"hashtags\": [{\"indices\": [12, 23], \"text\": \"GranaryDot\"}], \"urls\": [{\"url\": \"http://t.co/NuoUuxgpBp\", \"indices\": [24, 46], \"expanded_url\": \"http://fb.me/2SkLvSLbp\", \"display_url\": \"fb.me/2SkLvSLbp\"}]}, \"in_reply_to_screen_name\": null, \"id_str\": \"503335306842882048\", \"retweet_count\": 0, \"in_reply_to_user_id\": null, \"favorited\": false, \"user\": {\"follow_request_sent\": false, \"profile_use_background_image\": false, \"profile_text_color\": \"666666\", \"default_profile_image\": false, \"id\": 614, \"profile_background_image_url_https\": \"https://abs.twimg.com/images/themes/theme9/bg.gif\", \"verified\": false, \"profile_location\": null, \"profile_image_url_https\": \"https://pbs.twimg.com/profile_images/465965547855679488/ONqxqGvL_normal.jpeg\", \"profile_sidebar_fill_color\": \"252429\", \"entities\": {\"url\": {\"urls\": [{\"url\": \"http://t.co/x5Vr8HWFxj\", \"indices\": [0, 22], \"expanded_url\": \"http://facebook.com/christian.harrison\", \"display_url\": \"facebook.com/christian.harr\\u2026\"}]}, \"description\": {\"urls\": []}}, \"followers_count\": 1377, \"profile_sidebar_border_color\": \"000000\", \"id_str\": \"614\", \"profile_background_color\": \"1A1B1F\", \"listed_count\": 39, \"is_translation_enabled\": false, \"utc_offset\": 12600, \"statuses_count\": 7894, \"description\": \"Urban enthusiast, professional storyteller, man of faith.\", \"friends_count\": 1931, \"location\": \"Salt Lake City, UT\", \"profile_link_color\": \"2FC2EF\", \"profile_image_url\": \"http://pbs.twimg.com/profile_images/465965547855679488/ONqxqGvL_normal.jpeg\", \"following\": false, \"geo_enabled\": true, \"profile_banner_url\": \"https://pbs.twimg.com/profile_banners/614/1365311832\", \"profile_background_image_url\": \"http://abs.twimg.com/images/themes/theme9/bg.gif\", \"name\": \"Christian Harrison\", \"lang\": \"en\", \"profile_background_tile\": false, \"favourites_count\": 83, \"screen_name\": \"dcharrison\", \"notifications\": false, \"url\": \"http://t.co/x5Vr8HWFxj\", \"created_at\": \"Thu Jul 13 20:30:05 +0000 2006\", \"contributors_enabled\": false, \"time_zone\": \"Tehran\", \"protected\": false, \"default_profile\": false, \"is_translator\": false}, \"geo\": null, \"in_reply_to_user_id_str\": null, \"possibly_sensitive\": false, \"lang\": \"en\", \"created_at\": \"Sun Aug 24 00:17:43 +0000 2014\", \"in_reply_to_status_id_str\": null, \"place\": null}, {\"contributors\": null, \"truncated\": false, \"text\": \"Vaccinating our children is an act of civic faith \\u2014 profoundly essential and yet beguiling in its simplicity. http://t.co/QkjYcIaHQB\", \"in_reply_to_status_id\": null, \"id\": 503295497231007744, \"favorite_count\": 0, \"source\": \"<a href=\\\"http://www.facebook.com/twitter\\\" rel=\\\"nofollow\\\">Facebook</a>\", \"retweeted\": false, \"coordinates\": null, \"entities\": {\"symbols\": [], \"user_mentions\": [], \"hashtags\": [], \"urls\": [{\"url\": \"http://t.co/QkjYcIaHQB\", \"indices\": [110, 132], \"expanded_url\": \"http://fb.me/3gvYGa3Av\", \"display_url\": \"fb.me/3gvYGa3Av\"}]}, \"in_reply_to_screen_name\": null, \"id_str\": \"503295497231007744\", \"retweet_count\": 0, \"in_reply_to_user_id\": null, \"favorited\": false, \"user\": {\"follow_request_sent\": false, \"profile_use_background_image\": false, \"profile_text_color\": \"666666\", \"default_profile_image\": false, \"id\": 614, \"profile_background_image_url_https\": \"https://abs.twimg.com/images/themes/theme9/bg.gif\", \"verified\": false, \"profile_location\": null, \"profile_image_url_https\": \"https://pbs.twimg.com/profile_images/465965547855679488/ONqxqGvL_normal.jpeg\", \"profile_sidebar_fill_color\": \"252429\", \"entities\": {\"url\": {\"urls\": [{\"url\": \"http://t.co/x5Vr8HWFxj\", \"indices\": [0, 22], \"expanded_url\": \"http://facebook.com/christian.harrison\", \"display_url\": \"facebook.com/christian.harr\\u2026\"}]}, \"description\": {\"urls\": []}}, \"followers_count\": 1377, \"profile_sidebar_border_color\": \"000000\", \"id_str\": \"614\", \"profile_background_color\": \"1A1B1F\", \"listed_count\": 39, \"is_translation_enabled\": false, \"utc_offset\": 12600, \"statuses_count\": 7894, \"description\": \"Urban enthusiast, professional storyteller, man of faith.\", \"friends_count\": 1931, \"location\": \"Salt Lake City, UT\", \"profile_link_color\": \"2FC2EF\", \"profile_image_url\": \"http://pbs.twimg.com/profile_images/465965547855679488/ONqxqGvL_normal.jpeg\", \"following\": false, \"geo_enabled\": true, \"profile_banner_url\": \"https://pbs.twimg.com/profile_banners/614/1365311832\", \"profile_background_image_url\": \"http://abs.twimg.com/images/themes/theme9/bg.gif\", \"name\": \"Christian Harrison\", \"lang\": \"en\", \"profile_background_tile\": false, \"favourites_count\": 83, \"screen_name\": \"dcharrison\", \"notifications\": false, \"url\": \"http://t.co/x5Vr8HWFxj\", \"created_at\": \"Thu Jul 13 20:30:05 +0000 2006\", \"contributors_enabled\": false, \"time_zone\": \"Tehran\", \"protected\": false, \"default_profile\": false, \"is_translator\": false}, \"geo\": null, \"in_reply_to_user_id_str\": null, \"possibly_sensitive\": false, \"lang\": \"en\", \"created_at\": \"Sat Aug 23 21:39:31 +0000 2014\", \"in_reply_to_status_id_str\": null, \"place\": null}, {\"contributors\": null, \"truncated\": false, \"text\": \"Inspiring. http://t.co/ZBwg9CBRpB\", \"in_reply_to_status_id\": null, \"id\": 502879547109675008, \"favorite_count\": 0, \"source\": \"<a href=\\\"http://www.facebook.com/twitter\\\" rel=\\\"nofollow\\\">Facebook</a>\", \"retweeted\": false, \"coordinates\": null, \"entities\": {\"symbols\": [], \"user_mentions\": [], \"hashtags\": [], \"urls\": [{\"url\": \"http://t.co/ZBwg9CBRpB\", \"indices\": [11, 33], \"expanded_url\": \"http://fb.me/6OvpX7RBs\", \"display_url\": \"fb.me/6OvpX7RBs\"}]}, \"in_reply_to_screen_name\": null, \"id_str\": \"502879547109675008\", \"retweet_count\": 0, \"in_reply_to_user_id\": null, \"favorited\": false, \"user\": {\"follow_request_sent\": false, \"profile_use_background_image\": false, \"profile_text_color\": \"666666\", \"default_profile_image\": false, \"id\": 614, \"profile_background_image_url_https\": \"https://abs.twimg.com/images/themes/theme9/bg.gif\", \"verified\": false, \"profile_location\": null, \"profile_image_url_https\": \"https://pbs.twimg.com/profile_images/465965547855679488/ONqxqGvL_normal.jpeg\", \"profile_sidebar_fill_color\": \"252429\", \"entities\": {\"url\": {\"urls\": [{\"url\": \"http://t.co/x5Vr8HWFxj\", \"indices\": [0, 22], \"expanded_url\": \"http://facebook.com/christian.harrison\", \"display_url\": \"facebook.com/christian.harr\\u2026\"}]}, \"description\": {\"urls\": []}}, \"followers_count\": 1377, \"profile_sidebar_border_color\": \"000000\", \"id_str\": \"614\", \"profile_background_color\": \"1A1B1F\", \"listed_count\": 39, \"is_translation_enabled\": false, \"utc_offset\": 12600, \"statuses_count\": 7894, \"description\": \"Urban enthusiast, professional storyteller, man of faith.\", \"friends_count\": 1931, \"location\": \"Salt Lake City, UT\", \"profile_link_color\": \"2FC2EF\", \"profile_image_url\": \"http://pbs.twimg.com/profile_images/465965547855679488/ONqxqGvL_normal.jpeg\", \"following\": false, \"geo_enabled\": true, \"profile_banner_url\": \"https://pbs.twimg.com/profile_banners/614/1365311832\", \"profile_background_image_url\": \"http://abs.twimg.com/images/themes/theme9/bg.gif\", \"name\": \"Christian Harrison\", \"lang\": \"en\", \"profile_background_tile\": false, \"favourites_count\": 83, \"screen_name\": \"dcharrison\", \"notifications\": false, \"url\": \"http://t.co/x5Vr8HWFxj\", \"created_at\": \"Thu Jul 13 20:30:05 +0000 2006\", \"contributors_enabled\": false, \"time_zone\": \"Tehran\", \"protected\": false, \"default_profile\": false, \"is_translator\": false}, \"geo\": null, \"in_reply_to_user_id_str\": null, \"possibly_sensitive\": false, \"lang\": \"en\", \"created_at\": \"Fri Aug 22 18:06:41 +0000 2014\", \"in_reply_to_status_id_str\": null, \"place\": null}, {\"contributors\": null, \"truncated\": false, \"text\": \"What a wild week!\\n\\nAnd it's going out with a bang, too \\u2014 as I co-host the fourth annual GRANARY DISTRICT BLOCK... http://t.co/eYv5Xkm07s\", \"in_reply_to_status_id\": null, \"id\": 502643733876060160, \"favorite_count\": 0, \"source\": \"<a href=\\\"http://www.facebook.com/twitter\\\" rel=\\\"nofollow\\\">Facebook</a>\", \"retweeted\": false, \"coordinates\": null, \"entities\": {\"symbols\": [], \"user_mentions\": [], \"hashtags\": [], \"urls\": [{\"url\": \"http://t.co/eYv5Xkm07s\", \"indices\": [114, 136], \"expanded_url\": \"http://fb.me/3aFRDfxhq\", \"display_url\": \"fb.me/3aFRDfxhq\"}]}, \"in_reply_to_screen_name\": null, \"id_str\": \"502643733876060160\", \"retweet_count\": 0, \"in_reply_to_user_id\": null, \"favorited\": false, \"user\": {\"follow_request_sent\": false, \"profile_use_background_image\": false, \"profile_text_color\": \"666666\", \"default_profile_image\": false, \"id\": 614, \"profile_background_image_url_https\": \"https://abs.twimg.com/images/themes/theme9/bg.gif\", \"verified\": false, \"profile_location\": null, \"profile_image_url_https\": \"https://pbs.twimg.com/profile_images/465965547855679488/ONqxqGvL_normal.jpeg\", \"profile_sidebar_fill_color\": \"252429\", \"entities\": {\"url\": {\"urls\": [{\"url\": \"http://t.co/x5Vr8HWFxj\", \"indices\": [0, 22], \"expanded_url\": \"http://facebook.com/christian.harrison\", \"display_url\": \"facebook.com/christian.harr\\u2026\"}]}, \"description\": {\"urls\": []}}, \"followers_count\": 1377, \"profile_sidebar_border_color\": \"000000\", \"id_str\": \"614\", \"profile_background_color\": \"1A1B1F\", \"listed_count\": 39, \"is_translation_enabled\": false, \"utc_offset\": 12600, \"statuses_count\": 7894, \"description\": \"Urban enthusiast, professional storyteller, man of faith.\", \"friends_count\": 1931, \"location\": \"Salt Lake City, UT\", \"profile_link_color\": \"2FC2EF\", \"profile_image_url\": \"http://pbs.twimg.com/profile_images/465965547855679488/ONqxqGvL_normal.jpeg\", \"following\": false, \"geo_enabled\": true, \"profile_banner_url\": \"https://pbs.twimg.com/profile_banners/614/1365311832\", \"profile_background_image_url\": \"http://abs.twimg.com/images/themes/theme9/bg.gif\", \"name\": \"Christian Harrison\", \"lang\": \"en\", \"profile_background_tile\": false, \"favourites_count\": 83, \"screen_name\": \"dcharrison\", \"notifications\": false, \"url\": \"http://t.co/x5Vr8HWFxj\", \"created_at\": \"Thu Jul 13 20:30:05 +0000 2006\", \"contributors_enabled\": false, \"time_zone\": \"Tehran\", \"protected\": false, \"default_profile\": false, \"is_translator\": false}, \"geo\": null, \"in_reply_to_user_id_str\": null, \"possibly_sensitive\": false, \"lang\": \"en\", \"created_at\": \"Fri Aug 22 02:29:39 +0000 2014\", \"in_reply_to_status_id_str\": null, \"place\": null}, {\"contributors\": null, \"truncated\": false, \"text\": \"RT @GranaryRow: \\ud83c\\udf7aThe Biergarten returns! Join us for the Fourth Annual Granary District Block party \\u2014 featuring a\\u2026 http://t.co/AKn870kEDx\", \"in_reply_to_status_id\": null, \"id\": 500436251942854656, \"favorite_count\": 0, \"source\": \"<a href=\\\"http://twitter.com/download/iphone\\\" rel=\\\"nofollow\\\">Twitter for iPhone</a>\", \"retweeted\": false, \"coordinates\": null, \"entities\": {\"symbols\": [], \"user_mentions\": [{\"id\": 993842395, \"indices\": [3, 14], \"id_str\": \"993842395\", \"screen_name\": \"GranaryRow\", \"name\": \"GranaryRow\"}], \"hashtags\": [], \"urls\": [{\"url\": \"http://t.co/AKn870kEDx\", \"indices\": [115, 137], \"expanded_url\": \"http://instagram.com/p/rr4wYHmc58/\", \"display_url\": \"instagram.com/p/rr4wYHmc58/\"}]}, \"in_reply_to_screen_name\": null, \"id_str\": \"500436251942854656\", \"retweet_count\": 3, \"in_reply_to_user_id\": null, \"favorited\": false, \"retweeted_status\": {\"contributors\": null, \"truncated\": false, \"text\": \"\\ud83c\\udf7aThe Biergarten returns! Join us for the Fourth Annual Granary District Block party \\u2014 featuring a\\u2026 http://t.co/AKn870kEDx\", \"in_reply_to_status_id\": null, \"id\": 499958693791035393, \"favorite_count\": 4, \"source\": \"<a href=\\\"http://instagram.com\\\" rel=\\\"nofollow\\\">Instagram</a>\", \"retweeted\": false, \"coordinates\": null, \"entities\": {\"symbols\": [], \"user_mentions\": [], \"hashtags\": [], \"urls\": [{\"url\": \"http://t.co/AKn870kEDx\", \"indices\": [99, 121], \"expanded_url\": \"http://instagram.com/p/rr4wYHmc58/\", \"display_url\": \"instagram.com/p/rr4wYHmc58/\"}]}, \"in_reply_to_screen_name\": null, \"id_str\": \"499958693791035393\", \"retweet_count\": 3, \"in_reply_to_user_id\": null, \"favorited\": false, \"user\": {\"follow_request_sent\": false, \"profile_use_background_image\": true, \"profile_text_color\": \"333333\", \"default_profile_image\": false, \"id\": 993842395, \"profile_background_image_url_https\": \"https://abs.twimg.com/images/themes/theme1/bg.png\", \"verified\": false, \"profile_location\": null, \"profile_image_url_https\": \"https://pbs.twimg.com/profile_images/469705997368721408/ltqLUPhM_normal.jpeg\", \"profile_sidebar_fill_color\": \"DDEEF6\", \"entities\": {\"url\": {\"urls\": [{\"url\": \"http://t.co/BqwneiqdSr\", \"indices\": [0, 22], \"expanded_url\": \"http://granaryrow.org\", \"display_url\": \"granaryrow.org\"}]}, \"description\": {\"urls\": []}}, \"followers_count\": 198, \"profile_sidebar_border_color\": \"C0DEED\", \"id_str\": \"993842395\", \"profile_background_color\": \"C0DEED\", \"listed_count\": 7, \"is_translation_enabled\": false, \"utc_offset\": -25200, \"statuses_count\": 129, \"description\": \"Temporary fun, food and friends - and shipping containers! - all in the middle of the street!\", \"friends_count\": 33, \"location\": \"The Granary District, SLC\", \"profile_link_color\": \"0084B4\", \"profile_image_url\": \"http://pbs.twimg.com/profile_images/469705997368721408/ltqLUPhM_normal.jpeg\", \"following\": false, \"geo_enabled\": false, \"profile_banner_url\": \"https://pbs.twimg.com/profile_banners/993842395/1400821644\", \"profile_background_image_url\": \"http://abs.twimg.com/images/themes/theme1/bg.png\", \"name\": \"GranaryRow\", \"lang\": \"en\", \"profile_background_tile\": false, \"favourites_count\": 1, \"screen_name\": \"GranaryRow\", \"notifications\": false, \"url\": \"http://t.co/BqwneiqdSr\", \"created_at\": \"Thu Dec 06 21:09:42 +0000 2012\", \"contributors_enabled\": false, \"time_zone\": \"Arizona\", \"protected\": false, \"default_profile\": true, \"is_translator\": false}, \"geo\": null, \"in_reply_to_user_id_str\": null, \"possibly_sensitive\": false, \"lang\": \"en\", \"created_at\": \"Thu Aug 14 16:40:16 +0000 2014\", \"in_reply_to_status_id_str\": null, \"place\": null}, \"user\": {\"follow_request_sent\": false, \"profile_use_background_image\": false, \"profile_text_color\": \"666666\", \"default_profile_image\": false, \"id\": 614, \"profile_background_image_url_https\": \"https://abs.twimg.com/images/themes/theme9/bg.gif\", \"verified\": false, \"profile_location\": null, \"profile_image_url_https\": \"https://pbs.twimg.com/profile_images/465965547855679488/ONqxqGvL_normal.jpeg\", \"profile_sidebar_fill_color\": \"252429\", \"entities\": {\"url\": {\"urls\": [{\"url\": \"http://t.co/x5Vr8HWFxj\", \"indices\": [0, 22], \"expanded_url\": \"http://facebook.com/christian.harrison\", \"display_url\": \"facebook.com/christian.harr\\u2026\"}]}, \"description\": {\"urls\": []}}, \"followers_count\": 1377, \"profile_sidebar_border_color\": \"000000\", \"id_str\": \"614\", \"profile_background_color\": \"1A1B1F\", \"listed_count\": 39, \"is_translation_enabled\": false, \"utc_offset\": 12600, \"statuses_count\": 7894, \"description\": \"Urban enthusiast, professional storyteller, man of faith.\", \"friends_count\": 1931, \"location\": \"Salt Lake City, UT\", \"profile_link_color\": \"2FC2EF\", \"profile_image_url\": \"http://pbs.twimg.com/profile_images/465965547855679488/ONqxqGvL_normal.jpeg\", \"following\": false, \"geo_enabled\": true, \"profile_banner_url\": \"https://pbs.twimg.com/profile_banners/614/1365311832\", \"profile_background_image_url\": \"http://abs.twimg.com/images/themes/theme9/bg.gif\", \"name\": \"Christian Harrison\", \"lang\": \"en\", \"profile_background_tile\": false, \"favourites_count\": 83, \"screen_name\": \"dcharrison\", \"notifications\": false, \"url\": \"http://t.co/x5Vr8HWFxj\", \"created_at\": \"Thu Jul 13 20:30:05 +0000 2006\", \"contributors_enabled\": false, \"time_zone\": \"Tehran\", \"protected\": false, \"default_profile\": false, \"is_translator\": false}, \"geo\": null, \"in_reply_to_user_id_str\": null, \"possibly_sensitive\": false, \"lang\": \"en\", \"created_at\": \"Sat Aug 16 00:17:54 +0000 2014\", \"in_reply_to_status_id_str\": null, \"place\": null}, {\"contributors\": null, \"truncated\": false, \"text\": \"RT @UtahData: The 2013 Utah Property Tax Statistical Report has been published http://t.co/RPhjh3SOM2 http://t.co/DnnBolzuLQ\", \"in_reply_to_status_id\": null, \"id\": 499545390669369344, \"favorite_count\": 0, \"source\": \"<a href=\\\"http://twitter.com/download/iphone\\\" rel=\\\"nofollow\\\">Twitter for iPhone</a>\", \"retweeted\": false, \"coordinates\": null, \"entities\": {\"symbols\": [], \"user_mentions\": [{\"id\": 36528406, \"indices\": [3, 12], \"id_str\": \"36528406\", \"screen_name\": \"UtahData\", \"name\": \"Utah Data\"}], \"hashtags\": [], \"urls\": [{\"url\": \"http://t.co/RPhjh3SOM2\", \"indices\": [79, 101], \"expanded_url\": \"http://www.propertytax.utah.gov/library/pdf/statistics/yearendreports/2013annual.pdf\", \"display_url\": \"propertytax.utah.gov/library/pdf/st\\u2026\"}], \"media\": [{\"source_status_id_str\": \"499539406777102336\", \"expanded_url\": \"http://twitter.com/UtahData/status/499539406777102336/photo/1\", \"display_url\": \"pic.twitter.com/DnnBolzuLQ\", \"url\": \"http://t.co/DnnBolzuLQ\", \"media_url_https\": \"https://pbs.twimg.com/media/Bu64cXCIAAAAdTk.png\", \"source_status_id\": 499539406777102336, \"id_str\": \"499539406043480064\", \"sizes\": {\"small\": {\"h\": 417, \"resize\": \"fit\", \"w\": 340}, \"large\": {\"h\": 828, \"resize\": \"fit\", \"w\": 675}, \"medium\": {\"h\": 736, \"resize\": \"fit\", \"w\": 600}, \"thumb\": {\"h\": 150, \"resize\": \"crop\", \"w\": 150}}, \"indices\": [102, 124], \"type\": \"photo\", \"id\": 499539406043480064, \"media_url\": \"http://pbs.twimg.com/media/Bu64cXCIAAAAdTk.png\"}]}, \"in_reply_to_screen_name\": null, \"id_str\": \"499545390669369344\", \"retweet_count\": 4, \"in_reply_to_user_id\": null, \"favorited\": false, \"retweeted_status\": {\"contributors\": null, \"truncated\": false, \"text\": \"The 2013 Utah Property Tax Statistical Report has been published http://t.co/RPhjh3SOM2 http://t.co/DnnBolzuLQ\", \"in_reply_to_status_id\": null, \"id\": 499539406777102336, \"favorite_count\": 0, \"source\": \"<a href=\\\"https://about.twitter.com/products/tweetdeck\\\" rel=\\\"nofollow\\\">TweetDeck</a>\", \"retweeted\": false, \"coordinates\": null, \"entities\": {\"symbols\": [], \"user_mentions\": [], \"hashtags\": [], \"urls\": [{\"url\": \"http://t.co/RPhjh3SOM2\", \"indices\": [65, 87], \"expanded_url\": \"http://www.propertytax.utah.gov/library/pdf/statistics/yearendreports/2013annual.pdf\", \"display_url\": \"propertytax.utah.gov/library/pdf/st\\u2026\"}], \"media\": [{\"expanded_url\": \"http://twitter.com/UtahData/status/499539406777102336/photo/1\", \"display_url\": \"pic.twitter.com/DnnBolzuLQ\", \"url\": \"http://t.co/DnnBolzuLQ\", \"media_url_https\": \"https://pbs.twimg.com/media/Bu64cXCIAAAAdTk.png\", \"id_str\": \"499539406043480064\", \"sizes\": {\"small\": {\"h\": 417, \"resize\": \"fit\", \"w\": 340}, \"large\": {\"h\": 828, \"resize\": \"fit\", \"w\": 675}, \"medium\": {\"h\": 736, \"resize\": \"fit\", \"w\": 600}, \"thumb\": {\"h\": 150, \"resize\": \"crop\", \"w\": 150}}, \"indices\": [88, 110], \"type\": \"photo\", \"id\": 499539406043480064, \"media_url\": \"http://pbs.twimg.com/media/Bu64cXCIAAAAdTk.png\"}]}, \"in_reply_to_screen_name\": null, \"id_str\": \"499539406777102336\", \"retweet_count\": 4, \"in_reply_to_user_id\": null, \"favorited\": false, \"user\": {\"follow_request_sent\": false, \"profile_use_background_image\": true, \"profile_text_color\": \"D1220D\", \"default_profile_image\": false, \"id\": 36528406, \"profile_background_image_url_https\": \"https://pbs.twimg.com/profile_background_images/378800000051538287/530305ee54dcd37a33244a09f7f62844.jpeg\", \"verified\": false, \"profile_location\": null, \"profile_image_url_https\": \"https://pbs.twimg.com/profile_images/265665213/twitter-icon-blue-data_normal.png\", \"profile_sidebar_fill_color\": \"FF9130\", \"entities\": {\"url\": {\"urls\": [{\"url\": \"http://t.co/TafdWg6CPu\", \"indices\": [0, 22], \"expanded_url\": \"http://data.utah.gov\", \"display_url\": \"data.utah.gov\"}]}, \"description\": {\"urls\": [{\"url\": \"http://t.co/fZHFHp9S\", \"indices\": [61, 81], \"expanded_url\": \"http://data.utah.gov\", \"display_url\": \"data.utah.gov\"}]}}, \"followers_count\": 464, \"profile_sidebar_border_color\": \"98DBE2\", \"id_str\": \"36528406\", \"profile_background_color\": \"010101\", \"listed_count\": 30, \"is_translation_enabled\": false, \"utc_offset\": -21600, \"statuses_count\": 885, \"description\": \"Government data from Utah shared with the world, visit us at http://t.co/fZHFHp9S.\", \"friends_count\": 230, \"location\": \"Utah\", \"profile_link_color\": \"8D141B\", \"profile_image_url\": \"http://pbs.twimg.com/profile_images/265665213/twitter-icon-blue-data_normal.png\", \"following\": false, \"geo_enabled\": false, \"profile_banner_url\": \"https://pbs.twimg.com/profile_banners/36528406/1353419017\", \"profile_background_image_url\": \"http://pbs.twimg.com/profile_background_images/378800000051538287/530305ee54dcd37a33244a09f7f62844.jpeg\", \"name\": \"Utah Data\", \"lang\": \"en\", \"profile_background_tile\": false, \"favourites_count\": 4, \"screen_name\": \"UtahData\", \"notifications\": false, \"url\": \"http://t.co/TafdWg6CPu\", \"created_at\": \"Thu Apr 30 00:02:07 +0000 2009\", \"contributors_enabled\": false, \"time_zone\": \"Mountain Time (US & Canada)\", \"protected\": false, \"default_profile\": false, \"is_translator\": false}, \"geo\": null, \"in_reply_to_user_id_str\": null, \"possibly_sensitive\": false, \"lang\": \"en\", \"created_at\": \"Wed Aug 13 12:54:10 +0000 2014\", \"in_reply_to_status_id_str\": null, \"place\": null, \"extended_entities\": {\"media\": [{\"expanded_url\": \"http://twitter.com/UtahData/status/499539406777102336/photo/1\", \"display_url\": \"pic.twitter.com/DnnBolzuLQ\", \"url\": \"http://t.co/DnnBolzuLQ\", \"media_url_https\": \"https://pbs.twimg.com/media/Bu64cXCIAAAAdTk.png\", \"id_str\": \"499539406043480064\", \"sizes\": {\"small\": {\"h\": 417, \"resize\": \"fit\", \"w\": 340}, \"large\": {\"h\": 828, \"resize\": \"fit\", \"w\": 675}, \"medium\": {\"h\": 736, \"resize\": \"fit\", \"w\": 600}, \"thumb\": {\"h\": 150, \"resize\": \"crop\", \"w\": 150}}, \"indices\": [88, 110], \"type\": \"photo\", \"id\": 499539406043480064, \"media_url\": \"http://pbs.twimg.com/media/Bu64cXCIAAAAdTk.png\"}]}}, \"user\": {\"follow_request_sent\": false, \"profile_use_background_image\": false, \"profile_text_color\": \"666666\", \"default_profile_image\": false, \"id\": 614, \"profile_background_image_url_https\": \"https://abs.twimg.com/images/themes/theme9/bg.gif\", \"verified\": false, \"profile_location\": null, \"profile_image_url_https\": \"https://pbs.twimg.com/profile_images/465965547855679488/ONqxqGvL_normal.jpeg\", \"profile_sidebar_fill_color\": \"252429\", \"entities\": {\"url\": {\"urls\": [{\"url\": \"http://t.co/x5Vr8HWFxj\", \"indices\": [0, 22], \"expanded_url\": \"http://facebook.com/christian.harrison\", \"display_url\": \"facebook.com/christian.harr\\u2026\"}]}, \"description\": {\"urls\": []}}, \"followers_count\": 1377, \"profile_sidebar_border_color\": \"000000\", \"id_str\": \"614\", \"profile_background_color\": \"1A1B1F\", \"listed_count\": 39, \"is_translation_enabled\": false, \"utc_offset\": 12600, \"statuses_count\": 7894, \"description\": \"Urban enthusiast, professional storyteller, man of faith.\", \"friends_count\": 1931, \"location\": \"Salt Lake City, UT\", \"profile_link_color\": \"2FC2EF\", \"profile_image_url\": \"http://pbs.twimg.com/profile_images/465965547855679488/ONqxqGvL_normal.jpeg\", \"following\": false, \"geo_enabled\": true, \"profile_banner_url\": \"https://pbs.twimg.com/profile_banners/614/1365311832\", \"profile_background_image_url\": \"http://abs.twimg.com/images/themes/theme9/bg.gif\", \"name\": \"Christian Harrison\", \"lang\": \"en\", \"profile_background_tile\": false, \"favourites_count\": 83, \"screen_name\": \"dcharrison\", \"notifications\": false, \"url\": \"http://t.co/x5Vr8HWFxj\", \"created_at\": \"Thu Jul 13 20:30:05 +0000 2006\", \"contributors_enabled\": false, \"time_zone\": \"Tehran\", \"protected\": false, \"default_profile\": false, \"is_translator\": false}, \"geo\": null, \"in_reply_to_user_id_str\": null, \"possibly_sensitive\": false, \"lang\": \"en\", \"created_at\": \"Wed Aug 13 13:17:56 +0000 2014\", \"in_reply_to_status_id_str\": null, \"place\": null, \"extended_entities\": {\"media\": [{\"source_status_id_str\": \"499539406777102336\", \"expanded_url\": \"http://twitter.com/UtahData/status/499539406777102336/photo/1\", \"display_url\": \"pic.twitter.com/DnnBolzuLQ\", \"url\": \"http://t.co/DnnBolzuLQ\", \"media_url_https\": \"https://pbs.twimg.com/media/Bu64cXCIAAAAdTk.png\", \"source_status_id\": 499539406777102336, \"id_str\": \"499539406043480064\", \"sizes\": {\"small\": {\"h\": 417, \"resize\": \"fit\", \"w\": 340}, \"large\": {\"h\": 828, \"resize\": \"fit\", \"w\": 675}, \"medium\": {\"h\": 736, \"resize\": \"fit\", \"w\": 600}, \"thumb\": {\"h\": 150, \"resize\": \"crop\", \"w\": 150}}, \"indices\": [102, 124], \"type\": \"photo\", \"id\": 499539406043480064, \"media_url\": \"http://pbs.twimg.com/media/Bu64cXCIAAAAdTk.png\"}]}}, {\"contributors\": null, \"truncated\": false, \"text\": \"Time to show our pride! http://t.co/ZuvY0HGRgf\", \"in_reply_to_status_id\": null, \"id\": 499241003744624641, \"favorite_count\": 0, \"source\": \"<a href=\\\"http://www.facebook.com/twitter\\\" rel=\\\"nofollow\\\">Facebook</a>\", \"retweeted\": false, \"coordinates\": null, \"entities\": {\"symbols\": [], \"user_mentions\": [], \"hashtags\": [], \"urls\": [{\"url\": \"http://t.co/ZuvY0HGRgf\", \"indices\": [24, 46], \"expanded_url\": \"http://fb.me/47cn4CP3p\", \"display_url\": \"fb.me/47cn4CP3p\"}]}, \"in_reply_to_screen_name\": null, \"id_str\": \"499241003744624641\", \"retweet_count\": 0, \"in_reply_to_user_id\": null, \"favorited\": false, \"user\": {\"follow_request_sent\": false, \"profile_use_background_image\": false, \"profile_text_color\": \"666666\", \"default_profile_image\": false, \"id\": 614, \"profile_background_image_url_https\": \"https://abs.twimg.com/images/themes/theme9/bg.gif\", \"verified\": false, \"profile_location\": null, \"profile_image_url_https\": \"https://pbs.twimg.com/profile_images/465965547855679488/ONqxqGvL_normal.jpeg\", \"profile_sidebar_fill_color\": \"252429\", \"entities\": {\"url\": {\"urls\": [{\"url\": \"http://t.co/x5Vr8HWFxj\", \"indices\": [0, 22], \"expanded_url\": \"http://facebook.com/christian.harrison\", \"display_url\": \"facebook.com/christian.harr\\u2026\"}]}, \"description\": {\"urls\": []}}, \"followers_count\": 1377, \"profile_sidebar_border_color\": \"000000\", \"id_str\": \"614\", \"profile_background_color\": \"1A1B1F\", \"listed_count\": 39, \"is_translation_enabled\": false, \"utc_offset\": 12600, \"statuses_count\": 7894, \"description\": \"Urban enthusiast, professional storyteller, man of faith.\", \"friends_count\": 1931, \"location\": \"Salt Lake City, UT\", \"profile_link_color\": \"2FC2EF\", \"profile_image_url\": \"http://pbs.twimg.com/profile_images/465965547855679488/ONqxqGvL_normal.jpeg\", \"following\": false, \"geo_enabled\": true, \"profile_banner_url\": \"https://pbs.twimg.com/profile_banners/614/1365311832\", \"profile_background_image_url\": \"http://abs.twimg.com/images/themes/theme9/bg.gif\", \"name\": \"Christian Harrison\", \"lang\": \"en\", \"profile_background_tile\": false, \"favourites_count\": 83, \"screen_name\": \"dcharrison\", \"notifications\": false, \"url\": \"http://t.co/x5Vr8HWFxj\", \"created_at\": \"Thu Jul 13 20:30:05 +0000 2006\", \"contributors_enabled\": false, \"time_zone\": \"Tehran\", \"protected\": false, \"default_profile\": false, \"is_translator\": false}, \"geo\": null, \"in_reply_to_user_id_str\": null, \"possibly_sensitive\": false, \"lang\": \"en\", \"created_at\": \"Tue Aug 12 17:08:25 +0000 2014\", \"in_reply_to_status_id_str\": null, \"place\": null}, {\"contributors\": null, \"truncated\": false, \"text\": \"Brilliant. http://t.co/ULZk1RbCfh\", \"in_reply_to_status_id\": null, \"id\": 498483062557003776, \"favorite_count\": 0, \"source\": \"<a href=\\\"http://www.facebook.com/twitter\\\" rel=\\\"nofollow\\\">Facebook</a>\", \"retweeted\": false, \"coordinates\": null, \"entities\": {\"symbols\": [], \"user_mentions\": [], \"hashtags\": [], \"urls\": [{\"url\": \"http://t.co/ULZk1RbCfh\", \"indices\": [11, 33], \"expanded_url\": \"http://fb.me/3gTqkeSfZ\", \"display_url\": \"fb.me/3gTqkeSfZ\"}]}, \"in_reply_to_screen_name\": null, \"id_str\": \"498483062557003776\", \"retweet_count\": 0, \"in_reply_to_user_id\": null, \"favorited\": false, \"user\": {\"follow_request_sent\": false, \"profile_use_background_image\": false, \"profile_text_color\": \"666666\", \"default_profile_image\": false, \"id\": 614, \"profile_background_image_url_https\": \"https://abs.twimg.com/images/themes/theme9/bg.gif\", \"verified\": false, \"profile_location\": null, \"profile_image_url_https\": \"https://pbs.twimg.com/profile_images/465965547855679488/ONqxqGvL_normal.jpeg\", \"profile_sidebar_fill_color\": \"252429\", \"entities\": {\"url\": {\"urls\": [{\"url\": \"http://t.co/x5Vr8HWFxj\", \"indices\": [0, 22], \"expanded_url\": \"http://facebook.com/christian.harrison\", \"display_url\": \"facebook.com/christian.harr\\u2026\"}]}, \"description\": {\"urls\": []}}, \"followers_count\": 1377, \"profile_sidebar_border_color\": \"000000\", \"id_str\": \"614\", \"profile_background_color\": \"1A1B1F\", \"listed_count\": 39, \"is_translation_enabled\": false, \"utc_offset\": 12600, \"statuses_count\": 7894, \"description\": \"Urban enthusiast, professional storyteller, man of faith.\", \"friends_count\": 1931, \"location\": \"Salt Lake City, UT\", \"profile_link_color\": \"2FC2EF\", \"profile_image_url\": \"http://pbs.twimg.com/profile_images/465965547855679488/ONqxqGvL_normal.jpeg\", \"following\": false, \"geo_enabled\": true, \"profile_banner_url\": \"https://pbs.twimg.com/profile_banners/614/1365311832\", \"profile_background_image_url\": \"http://abs.twimg.com/images/themes/theme9/bg.gif\", \"name\": \"Christian Harrison\", \"lang\": \"en\", \"profile_background_tile\": false, \"favourites_count\": 83, \"screen_name\": \"dcharrison\", \"notifications\": false, \"url\": \"http://t.co/x5Vr8HWFxj\", \"created_at\": \"Thu Jul 13 20:30:05 +0000 2006\", \"contributors_enabled\": false, \"time_zone\": \"Tehran\", \"protected\": false, \"default_profile\": false, \"is_translator\": false}, \"geo\": null, \"in_reply_to_user_id_str\": null, \"possibly_sensitive\": false, \"lang\": \"en\", \"created_at\": \"Sun Aug 10 14:56:38 +0000 2014\", \"in_reply_to_status_id_str\": null, \"place\": null}, {\"contributors\": null, \"truncated\": false, \"text\": \"Hm \\u2026 http://t.co/xBev2INHRN\", \"in_reply_to_status_id\": null, \"id\": 498155014511013888, \"favorite_count\": 0, \"source\": \"<a href=\\\"http://www.facebook.com/twitter\\\" rel=\\\"nofollow\\\">Facebook</a>\", \"retweeted\": false, \"coordinates\": null, \"entities\": {\"symbols\": [], \"user_mentions\": [], \"hashtags\": [], \"urls\": [{\"url\": \"http://t.co/xBev2INHRN\", \"indices\": [5, 27], \"expanded_url\": \"http://fb.me/3zIYI95WB\", \"display_url\": \"fb.me/3zIYI95WB\"}]}, \"in_reply_to_screen_name\": null, \"id_str\": \"498155014511013888\", \"retweet_count\": 0, \"in_reply_to_user_id\": null, \"favorited\": false, \"user\": {\"follow_request_sent\": false, \"profile_use_background_image\": false, \"profile_text_color\": \"666666\", \"default_profile_image\": false, \"id\": 614, \"profile_background_image_url_https\": \"https://abs.twimg.com/images/themes/theme9/bg.gif\", \"verified\": false, \"profile_location\": null, \"profile_image_url_https\": \"https://pbs.twimg.com/profile_images/465965547855679488/ONqxqGvL_normal.jpeg\", \"profile_sidebar_fill_color\": \"252429\", \"entities\": {\"url\": {\"urls\": [{\"url\": \"http://t.co/x5Vr8HWFxj\", \"indices\": [0, 22], \"expanded_url\": \"http://facebook.com/christian.harrison\", \"display_url\": \"facebook.com/christian.harr\\u2026\"}]}, \"description\": {\"urls\": []}}, \"followers_count\": 1377, \"profile_sidebar_border_color\": \"000000\", \"id_str\": \"614\", \"profile_background_color\": \"1A1B1F\", \"listed_count\": 39, \"is_translation_enabled\": false, \"utc_offset\": 12600, \"statuses_count\": 7894, \"description\": \"Urban enthusiast, professional storyteller, man of faith.\", \"friends_count\": 1931, \"location\": \"Salt Lake City, UT\", \"profile_link_color\": \"2FC2EF\", \"profile_image_url\": \"http://pbs.twimg.com/profile_images/465965547855679488/ONqxqGvL_normal.jpeg\", \"following\": false, \"geo_enabled\": true, \"profile_banner_url\": \"https://pbs.twimg.com/profile_banners/614/1365311832\", \"profile_background_image_url\": \"http://abs.twimg.com/images/themes/theme9/bg.gif\", \"name\": \"Christian Harrison\", \"lang\": \"en\", \"profile_background_tile\": false, \"favourites_count\": 83, \"screen_name\": \"dcharrison\", \"notifications\": false, \"url\": \"http://t.co/x5Vr8HWFxj\", \"created_at\": \"Thu Jul 13 20:30:05 +0000 2006\", \"contributors_enabled\": false, \"time_zone\": \"Tehran\", \"protected\": false, \"default_profile\": false, \"is_translator\": false}, \"geo\": null, \"in_reply_to_user_id_str\": null, \"possibly_sensitive\": false, \"lang\": \"und\", \"created_at\": \"Sat Aug 09 17:13:05 +0000 2014\", \"in_reply_to_status_id_str\": null, \"place\": null}, {\"contributors\": null, \"truncated\": false, \"text\": \"Can't wait. http://t.co/eBGTUiJ8gY\", \"in_reply_to_status_id\": null, \"id\": 497991042122383360, \"favorite_count\": 0, \"source\": \"<a href=\\\"http://www.facebook.com/twitter\\\" rel=\\\"nofollow\\\">Facebook</a>\", \"retweeted\": false, \"coordinates\": null, \"entities\": {\"symbols\": [], \"user_mentions\": [], \"hashtags\": [], \"urls\": [{\"url\": \"http://t.co/eBGTUiJ8gY\", \"indices\": [12, 34], \"expanded_url\": \"http://fb.me/4gjRiAEwv\", \"display_url\": \"fb.me/4gjRiAEwv\"}]}, \"in_reply_to_screen_name\": null, \"id_str\": \"497991042122383360\", \"retweet_count\": 0, \"in_reply_to_user_id\": null, \"favorited\": false, \"user\": {\"follow_request_sent\": false, \"profile_use_background_image\": false, \"profile_text_color\": \"666666\", \"default_profile_image\": false, \"id\": 614, \"profile_background_image_url_https\": \"https://abs.twimg.com/images/themes/theme9/bg.gif\", \"verified\": false, \"profile_location\": null, \"profile_image_url_https\": \"https://pbs.twimg.com/profile_images/465965547855679488/ONqxqGvL_normal.jpeg\", \"profile_sidebar_fill_color\": \"252429\", \"entities\": {\"url\": {\"urls\": [{\"url\": \"http://t.co/x5Vr8HWFxj\", \"indices\": [0, 22], \"expanded_url\": \"http://facebook.com/christian.harrison\", \"display_url\": \"facebook.com/christian.harr\\u2026\"}]}, \"description\": {\"urls\": []}}, \"followers_count\": 1377, \"profile_sidebar_border_color\": \"000000\", \"id_str\": \"614\", \"profile_background_color\": \"1A1B1F\", \"listed_count\": 39, \"is_translation_enabled\": false, \"utc_offset\": 12600, \"statuses_count\": 7894, \"description\": \"Urban enthusiast, professional storyteller, man of faith.\", \"friends_count\": 1931, \"location\": \"Salt Lake City, UT\", \"profile_link_color\": \"2FC2EF\", \"profile_image_url\": \"http://pbs.twimg.com/profile_images/465965547855679488/ONqxqGvL_normal.jpeg\", \"following\": false, \"geo_enabled\": true, \"profile_banner_url\": \"https://pbs.twimg.com/profile_banners/614/1365311832\", \"profile_background_image_url\": \"http://abs.twimg.com/images/themes/theme9/bg.gif\", \"name\": \"Christian Harrison\", \"lang\": \"en\", \"profile_background_tile\": false, \"favourites_count\": 83, \"screen_name\": \"dcharrison\", \"notifications\": false, \"url\": \"http://t.co/x5Vr8HWFxj\", \"created_at\": \"Thu Jul 13 20:30:05 +0000 2006\", \"contributors_enabled\": false, \"time_zone\": \"Tehran\", \"protected\": false, \"default_profile\": false, \"is_translator\": false}, \"geo\": null, \"in_reply_to_user_id_str\": null, \"possibly_sensitive\": false, \"lang\": \"en\", \"created_at\": \"Sat Aug 09 06:21:31 +0000 2014\", \"in_reply_to_status_id_str\": null, \"place\": null}, {\"contributors\": null, \"truncated\": false, \"text\": \"RT @fellowplanner: Great idea to demonstrate the value of exercise. http://t.co/PcRiTFlMY5\", \"in_reply_to_status_id\": null, \"id\": 497964966235078656, \"favorite_count\": 0, \"source\": \"<a href=\\\"http://twitter.com/download/iphone\\\" rel=\\\"nofollow\\\">Twitter for iPhone</a>\", \"retweeted\": false, \"coordinates\": null, \"entities\": {\"symbols\": [], \"user_mentions\": [{\"id\": 117805892, \"indices\": [3, 17], \"id_str\": \"117805892\", \"screen_name\": \"fellowplanner\", \"name\": \"Bob Lehman\"}], \"hashtags\": [], \"urls\": [], \"media\": [{\"source_status_id_str\": \"497953425783791616\", \"expanded_url\": \"http://twitter.com/fellowplanner/status/497953425783791616/photo/1\", \"display_url\": \"pic.twitter.com/PcRiTFlMY5\", \"url\": \"http://t.co/PcRiTFlMY5\", \"media_url_https\": \"https://pbs.twimg.com/media/BukWAJdIAAAyAMh.jpg\", \"source_status_id\": 497953425783791616, \"id_str\": \"497953425595039744\", \"sizes\": {\"small\": {\"h\": 255, \"resize\": \"fit\", \"w\": 340}, \"large\": {\"h\": 768, \"resize\": \"fit\", \"w\": 1024}, \"medium\": {\"h\": 450, \"resize\": \"fit\", \"w\": 600}, \"thumb\": {\"h\": 150, \"resize\": \"crop\", \"w\": 150}}, \"indices\": [68, 90], \"type\": \"photo\", \"id\": 497953425595039744, \"media_url\": \"http://pbs.twimg.com/media/BukWAJdIAAAyAMh.jpg\"}]}, \"in_reply_to_screen_name\": null, \"id_str\": \"497964966235078656\", \"retweet_count\": 18, \"in_reply_to_user_id\": null, \"favorited\": false, \"retweeted_status\": {\"contributors\": null, \"truncated\": false, \"text\": \"Great idea to demonstrate the value of exercise. http://t.co/PcRiTFlMY5\", \"in_reply_to_status_id\": null, \"id\": 497953425783791616, \"favorite_count\": 12, \"source\": \"<a href=\\\"http://www.apple.com\\\" rel=\\\"nofollow\\\">iOS</a>\", \"retweeted\": false, \"coordinates\": null, \"entities\": {\"symbols\": [], \"user_mentions\": [], \"hashtags\": [], \"urls\": [], \"media\": [{\"expanded_url\": \"http://twitter.com/fellowplanner/status/497953425783791616/photo/1\", \"display_url\": \"pic.twitter.com/PcRiTFlMY5\", \"url\": \"http://t.co/PcRiTFlMY5\", \"media_url_https\": \"https://pbs.twimg.com/media/BukWAJdIAAAyAMh.jpg\", \"id_str\": \"497953425595039744\", \"sizes\": {\"small\": {\"h\": 255, \"resize\": \"fit\", \"w\": 340}, \"large\": {\"h\": 768, \"resize\": \"fit\", \"w\": 1024}, \"medium\": {\"h\": 450, \"resize\": \"fit\", \"w\": 600}, \"thumb\": {\"h\": 150, \"resize\": \"crop\", \"w\": 150}}, \"indices\": [49, 71], \"type\": \"photo\", \"id\": 497953425595039744, \"media_url\": \"http://pbs.twimg.com/media/BukWAJdIAAAyAMh.jpg\"}]}, \"in_reply_to_screen_name\": null, \"id_str\": \"497953425783791616\", \"retweet_count\": 18, \"in_reply_to_user_id\": null, \"favorited\": false, \"user\": {\"follow_request_sent\": false, \"profile_use_background_image\": true, \"profile_text_color\": \"333333\", \"default_profile_image\": false, \"id\": 117805892, \"profile_background_image_url_https\": \"https://abs.twimg.com/images/themes/theme1/bg.png\", \"verified\": false, \"profile_location\": null, \"profile_image_url_https\": \"https://pbs.twimg.com/profile_images/526434470413746177/OvvgMZdC_normal.jpeg\", \"profile_sidebar_fill_color\": \"DDEEF6\", \"entities\": {\"description\": {\"urls\": []}}, \"followers_count\": 13935, \"profile_sidebar_border_color\": \"C0DEED\", \"id_str\": \"117805892\", \"profile_background_color\": \"C0DEED\", \"listed_count\": 235, \"is_translation_enabled\": false, \"utc_offset\": -14400, \"statuses_count\": 2178, \"description\": \"Chair College of Fellows Canadian Institute of Planners 2009-2014 . Consultant, author Zoning Dictionary/Trilogy. Planning by the people is the future.\", \"friends_count\": 3383, \"location\": \"Barrie, Canada\", \"profile_link_color\": \"0084B4\", \"profile_image_url\": \"http://pbs.twimg.com/profile_images/526434470413746177/OvvgMZdC_normal.jpeg\", \"following\": false, \"geo_enabled\": true, \"profile_banner_url\": \"https://pbs.twimg.com/profile_banners/117805892/1414348422\", \"profile_background_image_url\": \"http://abs.twimg.com/images/themes/theme1/bg.png\", \"name\": \"Bob Lehman\", \"lang\": \"en\", \"profile_background_tile\": false, \"favourites_count\": 64, \"screen_name\": \"fellowplanner\", \"notifications\": false, \"url\": null, \"created_at\": \"Fri Feb 26 17:37:26 +0000 2010\", \"contributors_enabled\": false, \"time_zone\": \"Eastern Time (US & Canada)\", \"protected\": false, \"default_profile\": true, \"is_translator\": false}, \"geo\": null, \"in_reply_to_user_id_str\": null, \"possibly_sensitive\": false, \"lang\": \"en\", \"created_at\": \"Sat Aug 09 03:52:02 +0000 2014\", \"in_reply_to_status_id_str\": null, \"place\": null, \"extended_entities\": {\"media\": [{\"expanded_url\": \"http://twitter.com/fellowplanner/status/497953425783791616/photo/1\", \"display_url\": \"pic.twitter.com/PcRiTFlMY5\", \"url\": \"http://t.co/PcRiTFlMY5\", \"media_url_https\": \"https://pbs.twimg.com/media/BukWAJdIAAAyAMh.jpg\", \"id_str\": \"497953425595039744\", \"sizes\": {\"small\": {\"h\": 255, \"resize\": \"fit\", \"w\": 340}, \"large\": {\"h\": 768, \"resize\": \"fit\", \"w\": 1024}, \"medium\": {\"h\": 450, \"resize\": \"fit\", \"w\": 600}, \"thumb\": {\"h\": 150, \"resize\": \"crop\", \"w\": 150}}, \"indices\": [49, 71], \"type\": \"photo\", \"id\": 497953425595039744, \"media_url\": \"http://pbs.twimg.com/media/BukWAJdIAAAyAMh.jpg\"}]}}, \"user\": {\"follow_request_sent\": false, \"profile_use_background_image\": false, \"profile_text_color\": \"666666\", \"default_profile_image\": false, \"id\": 614, \"profile_background_image_url_https\": \"https://abs.twimg.com/images/themes/theme9/bg.gif\", \"verified\": false, \"profile_location\": null, \"profile_image_url_https\": \"https://pbs.twimg.com/profile_images/465965547855679488/ONqxqGvL_normal.jpeg\", \"profile_sidebar_fill_color\": \"252429\", \"entities\": {\"url\": {\"urls\": [{\"url\": \"http://t.co/x5Vr8HWFxj\", \"indices\": [0, 22], \"expanded_url\": \"http://facebook.com/christian.harrison\", \"display_url\": \"facebook.com/christian.harr\\u2026\"}]}, \"description\": {\"urls\": []}}, \"followers_count\": 1377, \"profile_sidebar_border_color\": \"000000\", \"id_str\": \"614\", \"profile_background_color\": \"1A1B1F\", \"listed_count\": 39, \"is_translation_enabled\": false, \"utc_offset\": 12600, \"statuses_count\": 7894, \"description\": \"Urban enthusiast, professional storyteller, man of faith.\", \"friends_count\": 1931, \"location\": \"Salt Lake City, UT\", \"profile_link_color\": \"2FC2EF\", \"profile_image_url\": \"http://pbs.twimg.com/profile_images/465965547855679488/ONqxqGvL_normal.jpeg\", \"following\": false, \"geo_enabled\": true, \"profile_banner_url\": \"https://pbs.twimg.com/profile_banners/614/1365311832\", \"profile_background_image_url\": \"http://abs.twimg.com/images/themes/theme9/bg.gif\", \"name\": \"Christian Harrison\", \"lang\": \"en\", \"profile_background_tile\": false, \"favourites_count\": 83, \"screen_name\": \"dcharrison\", \"notifications\": false, \"url\": \"http://t.co/x5Vr8HWFxj\", \"created_at\": \"Thu Jul 13 20:30:05 +0000 2006\", \"contributors_enabled\": false, \"time_zone\": \"Tehran\", \"protected\": false, \"default_profile\": false, \"is_translator\": false}, \"geo\": null, \"in_reply_to_user_id_str\": null, \"possibly_sensitive\": false, \"lang\": \"en\", \"created_at\": \"Sat Aug 09 04:37:54 +0000 2014\", \"in_reply_to_status_id_str\": null, \"place\": null, \"extended_entities\": {\"media\": [{\"source_status_id_str\": \"497953425783791616\", \"expanded_url\": \"http://twitter.com/fellowplanner/status/497953425783791616/photo/1\", \"display_url\": \"pic.twitter.com/PcRiTFlMY5\", \"url\": \"http://t.co/PcRiTFlMY5\", \"media_url_https\": \"https://pbs.twimg.com/media/BukWAJdIAAAyAMh.jpg\", \"source_status_id\": 497953425783791616, \"id_str\": \"497953425595039744\", \"sizes\": {\"small\": {\"h\": 255, \"resize\": \"fit\", \"w\": 340}, \"large\": {\"h\": 768, \"resize\": \"fit\", \"w\": 1024}, \"medium\": {\"h\": 450, \"resize\": \"fit\", \"w\": 600}, \"thumb\": {\"h\": 150, \"resize\": \"crop\", \"w\": 150}}, \"indices\": [68, 90], \"type\": \"photo\", \"id\": 497953425595039744, \"media_url\": \"http://pbs.twimg.com/media/BukWAJdIAAAyAMh.jpg\"}]}}, {\"contributors\": null, \"truncated\": false, \"text\": \"@SocialistCat \\u2014 @davideveritt is a fine public servant. We work with the framework we're given. This is an opportunity to better the system.\", \"in_reply_to_status_id\": 497827714720477184, \"id\": 497964374871773184, \"favorite_count\": 0, \"source\": \"<a href=\\\"http://twitter.com/download/iphone\\\" rel=\\\"nofollow\\\">Twitter for iPhone</a>\", \"retweeted\": false, \"coordinates\": null, \"entities\": {\"symbols\": [], \"user_mentions\": [{\"id\": 212325834, \"indices\": [0, 13], \"id_str\": \"212325834\", \"screen_name\": \"SocialistCat\", \"name\": \"Socialist Cat\"}, {\"id\": 18128541, \"indices\": [16, 29], \"id_str\": \"18128541\", \"screen_name\": \"davideveritt\", \"name\": \"David Everitt\"}], \"hashtags\": [], \"urls\": []}, \"in_reply_to_screen_name\": \"SocialistCat\", \"id_str\": \"497964374871773184\", \"retweet_count\": 0, \"in_reply_to_user_id\": 212325834, \"favorited\": false, \"user\": {\"follow_request_sent\": false, \"profile_use_background_image\": false, \"profile_text_color\": \"666666\", \"default_profile_image\": false, \"id\": 614, \"profile_background_image_url_https\": \"https://abs.twimg.com/images/themes/theme9/bg.gif\", \"verified\": false, \"profile_location\": null, \"profile_image_url_https\": \"https://pbs.twimg.com/profile_images/465965547855679488/ONqxqGvL_normal.jpeg\", \"profile_sidebar_fill_color\": \"252429\", \"entities\": {\"url\": {\"urls\": [{\"url\": \"http://t.co/x5Vr8HWFxj\", \"indices\": [0, 22], \"expanded_url\": \"http://facebook.com/christian.harrison\", \"display_url\": \"facebook.com/christian.harr\\u2026\"}]}, \"description\": {\"urls\": []}}, \"followers_count\": 1377, \"profile_sidebar_border_color\": \"000000\", \"id_str\": \"614\", \"profile_background_color\": \"1A1B1F\", \"listed_count\": 39, \"is_translation_enabled\": false, \"utc_offset\": 12600, \"statuses_count\": 7894, \"description\": \"Urban enthusiast, professional storyteller, man of faith.\", \"friends_count\": 1931, \"location\": \"Salt Lake City, UT\", \"profile_link_color\": \"2FC2EF\", \"profile_image_url\": \"http://pbs.twimg.com/profile_images/465965547855679488/ONqxqGvL_normal.jpeg\", \"following\": false, \"geo_enabled\": true, \"profile_banner_url\": \"https://pbs.twimg.com/profile_banners/614/1365311832\", \"profile_background_image_url\": \"http://abs.twimg.com/images/themes/theme9/bg.gif\", \"name\": \"Christian Harrison\", \"lang\": \"en\", \"profile_background_tile\": false, \"favourites_count\": 83, \"screen_name\": \"dcharrison\", \"notifications\": false, \"url\": \"http://t.co/x5Vr8HWFxj\", \"created_at\": \"Thu Jul 13 20:30:05 +0000 2006\", \"contributors_enabled\": false, \"time_zone\": \"Tehran\", \"protected\": false, \"default_profile\": false, \"is_translator\": false}, \"geo\": null, \"in_reply_to_user_id_str\": \"212325834\", \"lang\": \"en\", \"created_at\": \"Sat Aug 09 04:35:33 +0000 2014\", \"in_reply_to_status_id_str\": \"497827714720477184\", \"place\": null}, {\"contributors\": null, \"truncated\": false, \"text\": \"RT @JonAcuff: Somewhere is a wife who told her husband, \\\"Please tell me you're not going to try to park under than\\u2026 http://t.co/T4OVhaIrSK\", \"in_reply_to_status_id\": null, \"id\": 497904769026256896, \"favorite_count\": 0, \"source\": \"<a href=\\\"http://twitter.com/download/iphone\\\" rel=\\\"nofollow\\\">Twitter for iPhone</a>\", \"retweeted\": false, \"coordinates\": null, \"entities\": {\"symbols\": [], \"user_mentions\": [{\"id\": 14183663, \"indices\": [3, 12], \"id_str\": \"14183663\", \"screen_name\": \"JonAcuff\", \"name\": \"Jon Acuff\"}], \"hashtags\": [], \"urls\": [{\"url\": \"http://t.co/T4OVhaIrSK\", \"indices\": [116, 138], \"expanded_url\": \"http://instagram.com/p/rdR_y2jYYb/\", \"display_url\": \"instagram.com/p/rdR_y2jYYb/\"}]}, \"in_reply_to_screen_name\": null, \"id_str\": \"497904769026256896\", \"retweet_count\": 14, \"in_reply_to_user_id\": null, \"favorited\": false, \"retweeted_status\": {\"contributors\": null, \"truncated\": false, \"text\": \"Somewhere is a wife who told her husband, \\\"Please tell me you're not going to try to park under than\\u2026 http://t.co/T4OVhaIrSK\", \"in_reply_to_status_id\": null, \"id\": 497903137147994112, \"favorite_count\": 46, \"source\": \"<a href=\\\"http://instagram.com\\\" rel=\\\"nofollow\\\">Instagram</a>\", \"retweeted\": false, \"coordinates\": null, \"entities\": {\"symbols\": [], \"user_mentions\": [], \"hashtags\": [], \"urls\": [{\"url\": \"http://t.co/T4OVhaIrSK\", \"indices\": [102, 124], \"expanded_url\": \"http://instagram.com/p/rdR_y2jYYb/\", \"display_url\": \"instagram.com/p/rdR_y2jYYb/\"}]}, \"in_reply_to_screen_name\": null, \"id_str\": \"497903137147994112\", \"retweet_count\": 14, \"in_reply_to_user_id\": null, \"favorited\": false, \"user\": {\"follow_request_sent\": false, \"profile_use_background_image\": true, \"profile_text_color\": \"404040\", \"default_profile_image\": false, \"id\": 14183663, \"profile_background_image_url_https\": \"https://pbs.twimg.com/profile_background_images/502629628691759104/cXPBlexA.jpeg\", \"verified\": true, \"profile_location\": null, \"profile_image_url_https\": \"https://pbs.twimg.com/profile_images/378800000488013569/383a8b98b0f2596538b47fac21eaae71_normal.jpeg\", \"profile_sidebar_fill_color\": \"E9E8E8\", \"entities\": {\"url\": {\"urls\": [{\"url\": \"http://t.co/SPQh4ySqNe\", \"indices\": [0, 22], \"expanded_url\": \"http://www.acuff.me\", \"display_url\": \"acuff.me\"}]}, \"description\": {\"urls\": []}}, \"followers_count\": 230177, \"profile_sidebar_border_color\": \"FFFFFF\", \"id_str\": \"14183663\", \"profile_background_color\": \"D7D7D7\", \"listed_count\": 5272, \"is_translation_enabled\": true, \"utc_offset\": -18000, \"statuses_count\": 35473, \"description\": \"New York Times Bestselling Author of Start/Speaker. Married to Jenny. Dad to L.E. and McRae.\", \"friends_count\": 73973, \"location\": \"Nashville, TN\", \"profile_link_color\": \"DF2E17\", \"profile_image_url\": \"http://pbs.twimg.com/profile_images/378800000488013569/383a8b98b0f2596538b47fac21eaae71_normal.jpeg\", \"following\": false, \"geo_enabled\": false, \"profile_banner_url\": \"https://pbs.twimg.com/profile_banners/14183663/1408671248\", \"profile_background_image_url\": \"http://pbs.twimg.com/profile_background_images/502629628691759104/cXPBlexA.jpeg\", \"name\": \"Jon Acuff\", \"lang\": \"en\", \"profile_background_tile\": false, \"favourites_count\": 195, \"screen_name\": \"JonAcuff\", \"notifications\": false, \"url\": \"http://t.co/SPQh4ySqNe\", \"created_at\": \"Thu Mar 20 12:20:36 +0000 2008\", \"contributors_enabled\": false, \"time_zone\": \"Central Time (US & Canada)\", \"protected\": false, \"default_profile\": false, \"is_translator\": false}, \"geo\": null, \"in_reply_to_user_id_str\": null, \"possibly_sensitive\": false, \"lang\": \"en\", \"created_at\": \"Sat Aug 09 00:32:13 +0000 2014\", \"in_reply_to_status_id_str\": null, \"place\": null}, \"user\": {\"follow_request_sent\": false, \"profile_use_background_image\": false, \"profile_text_color\": \"666666\", \"default_profile_image\": false, \"id\": 614, \"profile_background_image_url_https\": \"https://abs.twimg.com/images/themes/theme9/bg.gif\", \"verified\": false, \"profile_location\": null, \"profile_image_url_https\": \"https://pbs.twimg.com/profile_images/465965547855679488/ONqxqGvL_normal.jpeg\", \"profile_sidebar_fill_color\": \"252429\", \"entities\": {\"url\": {\"urls\": [{\"url\": \"http://t.co/x5Vr8HWFxj\", \"indices\": [0, 22], \"expanded_url\": \"http://facebook.com/christian.harrison\", \"display_url\": \"facebook.com/christian.harr\\u2026\"}]}, \"description\": {\"urls\": []}}, \"followers_count\": 1377, \"profile_sidebar_border_color\": \"000000\", \"id_str\": \"614\", \"profile_background_color\": \"1A1B1F\", \"listed_count\": 39, \"is_translation_enabled\": false, \"utc_offset\": 12600, \"statuses_count\": 7894, \"description\": \"Urban enthusiast, professional storyteller, man of faith.\", \"friends_count\": 1931, \"location\": \"Salt Lake City, UT\", \"profile_link_color\": \"2FC2EF\", \"profile_image_url\": \"http://pbs.twimg.com/profile_images/465965547855679488/ONqxqGvL_normal.jpeg\", \"following\": false, \"geo_enabled\": true, \"profile_banner_url\": \"https://pbs.twimg.com/profile_banners/614/1365311832\", \"profile_background_image_url\": \"http://abs.twimg.com/images/themes/theme9/bg.gif\", \"name\": \"Christian Harrison\", \"lang\": \"en\", \"profile_background_tile\": false, \"favourites_count\": 83, \"screen_name\": \"dcharrison\", \"notifications\": false, \"url\": \"http://t.co/x5Vr8HWFxj\", \"created_at\": \"Thu Jul 13 20:30:05 +0000 2006\", \"contributors_enabled\": false, \"time_zone\": \"Tehran\", \"protected\": false, \"default_profile\": false, \"is_translator\": false}, \"geo\": null, \"in_reply_to_user_id_str\": null, \"possibly_sensitive\": false, \"lang\": \"en\", \"created_at\": \"Sat Aug 09 00:38:42 +0000 2014\", \"in_reply_to_status_id_str\": null, \"place\": null}, {\"contributors\": null, \"truncated\": false, \"text\": \"@davideveritt \\u2014 there is always more to the story. But I stand by my assertion: we must embrace. :-)\", \"in_reply_to_status_id\": 497485686388563968, \"id\": 497904476259614721, \"favorite_count\": 1, \"source\": \"<a href=\\\"http://twitter.com/download/iphone\\\" rel=\\\"nofollow\\\">Twitter for iPhone</a>\", \"retweeted\": false, \"coordinates\": null, \"entities\": {\"symbols\": [], \"user_mentions\": [{\"id\": 18128541, \"indices\": [0, 13], \"id_str\": \"18128541\", \"screen_name\": \"davideveritt\", \"name\": \"David Everitt\"}], \"hashtags\": [], \"urls\": []}, \"in_reply_to_screen_name\": \"davideveritt\", \"id_str\": \"497904476259614721\", \"retweet_count\": 0, \"in_reply_to_user_id\": 18128541, \"favorited\": false, \"user\": {\"follow_request_sent\": false, \"profile_use_background_image\": false, \"profile_text_color\": \"666666\", \"default_profile_image\": false, \"id\": 614, \"profile_background_image_url_https\": \"https://abs.twimg.com/images/themes/theme9/bg.gif\", \"verified\": false, \"profile_location\": null, \"profile_image_url_https\": \"https://pbs.twimg.com/profile_images/465965547855679488/ONqxqGvL_normal.jpeg\", \"profile_sidebar_fill_color\": \"252429\", \"entities\": {\"url\": {\"urls\": [{\"url\": \"http://t.co/x5Vr8HWFxj\", \"indices\": [0, 22], \"expanded_url\": \"http://facebook.com/christian.harrison\", \"display_url\": \"facebook.com/christian.harr\\u2026\"}]}, \"description\": {\"urls\": []}}, \"followers_count\": 1377, \"profile_sidebar_border_color\": \"000000\", \"id_str\": \"614\", \"profile_background_color\": \"1A1B1F\", \"listed_count\": 39, \"is_translation_enabled\": false, \"utc_offset\": 12600, \"statuses_count\": 7894, \"description\": \"Urban enthusiast, professional storyteller, man of faith.\", \"friends_count\": 1931, \"location\": \"Salt Lake City, UT\", \"profile_link_color\": \"2FC2EF\", \"profile_image_url\": \"http://pbs.twimg.com/profile_images/465965547855679488/ONqxqGvL_normal.jpeg\", \"following\": false, \"geo_enabled\": true, \"profile_banner_url\": \"https://pbs.twimg.com/profile_banners/614/1365311832\", \"profile_background_image_url\": \"http://abs.twimg.com/images/themes/theme9/bg.gif\", \"name\": \"Christian Harrison\", \"lang\": \"en\", \"profile_background_tile\": false, \"favourites_count\": 83, \"screen_name\": \"dcharrison\", \"notifications\": false, \"url\": \"http://t.co/x5Vr8HWFxj\", \"created_at\": \"Thu Jul 13 20:30:05 +0000 2006\", \"contributors_enabled\": false, \"time_zone\": \"Tehran\", \"protected\": false, \"default_profile\": false, \"is_translator\": false}, \"geo\": null, \"in_reply_to_user_id_str\": \"18128541\", \"lang\": \"en\", \"created_at\": \"Sat Aug 09 00:37:32 +0000 2014\", \"in_reply_to_status_id_str\": \"497485686388563968\", \"place\": null}, {\"contributors\": null, \"truncated\": false, \"text\": \"\\\"If we're big enough to fight a war, we should be big enough to look at it.\\\" http://t.co/9HOpGKa2PI\", \"in_reply_to_status_id\": null, \"id\": 497808091883532290, \"favorite_count\": 0, \"source\": \"<a href=\\\"http://www.facebook.com/twitter\\\" rel=\\\"nofollow\\\">Facebook</a>\", \"retweeted\": false, \"coordinates\": null, \"entities\": {\"symbols\": [], \"user_mentions\": [], \"hashtags\": [], \"urls\": [{\"url\": \"http://t.co/9HOpGKa2PI\", \"indices\": [77, 99], \"expanded_url\": \"http://fb.me/35wv1tLUq\", \"display_url\": \"fb.me/35wv1tLUq\"}]}, \"in_reply_to_screen_name\": null, \"id_str\": \"497808091883532290\", \"retweet_count\": 0, \"in_reply_to_user_id\": null, \"favorited\": false, \"user\": {\"follow_request_sent\": false, \"profile_use_background_image\": false, \"profile_text_color\": \"666666\", \"default_profile_image\": false, \"id\": 614, \"profile_background_image_url_https\": \"https://abs.twimg.com/images/themes/theme9/bg.gif\", \"verified\": false, \"profile_location\": null, \"profile_image_url_https\": \"https://pbs.twimg.com/profile_images/465965547855679488/ONqxqGvL_normal.jpeg\", \"profile_sidebar_fill_color\": \"252429\", \"entities\": {\"url\": {\"urls\": [{\"url\": \"http://t.co/x5Vr8HWFxj\", \"indices\": [0, 22], \"expanded_url\": \"http://facebook.com/christian.harrison\", \"display_url\": \"facebook.com/christian.harr\\u2026\"}]}, \"description\": {\"urls\": []}}, \"followers_count\": 1377, \"profile_sidebar_border_color\": \"000000\", \"id_str\": \"614\", \"profile_background_color\": \"1A1B1F\", \"listed_count\": 39, \"is_translation_enabled\": false, \"utc_offset\": 12600, \"statuses_count\": 7894, \"description\": \"Urban enthusiast, professional storyteller, man of faith.\", \"friends_count\": 1931, \"location\": \"Salt Lake City, UT\", \"profile_link_color\": \"2FC2EF\", \"profile_image_url\": \"http://pbs.twimg.com/profile_images/465965547855679488/ONqxqGvL_normal.jpeg\", \"following\": false, \"geo_enabled\": true, \"profile_banner_url\": \"https://pbs.twimg.com/profile_banners/614/1365311832\", \"profile_background_image_url\": \"http://abs.twimg.com/images/themes/theme9/bg.gif\", \"name\": \"Christian Harrison\", \"lang\": \"en\", \"profile_background_tile\": false, \"favourites_count\": 83, \"screen_name\": \"dcharrison\", \"notifications\": false, \"url\": \"http://t.co/x5Vr8HWFxj\", \"created_at\": \"Thu Jul 13 20:30:05 +0000 2006\", \"contributors_enabled\": false, \"time_zone\": \"Tehran\", \"protected\": false, \"default_profile\": false, \"is_translator\": false}, \"geo\": null, \"in_reply_to_user_id_str\": null, \"possibly_sensitive\": false, \"lang\": \"en\", \"created_at\": \"Fri Aug 08 18:14:32 +0000 2014\", \"in_reply_to_status_id_str\": null, \"place\": null}, {\"contributors\": null, \"truncated\": false, \"text\": \"Corporate America Hasn't Been Disrupted http://t.co/g3BiKSQMmy\", \"in_reply_to_status_id\": null, \"id\": 497744445102497792, \"favorite_count\": 0, \"source\": \"<a href=\\\"http://www.facebook.com/twitter\\\" rel=\\\"nofollow\\\">Facebook</a>\", \"retweeted\": false, \"coordinates\": null, \"entities\": {\"symbols\": [], \"user_mentions\": [], \"hashtags\": [], \"urls\": [{\"url\": \"http://t.co/g3BiKSQMmy\", \"indices\": [40, 62], \"expanded_url\": \"http://fb.me/3Fg3eOrYc\", \"display_url\": \"fb.me/3Fg3eOrYc\"}]}, \"in_reply_to_screen_name\": null, \"id_str\": \"497744445102497792\", \"retweet_count\": 0, \"in_reply_to_user_id\": null, \"favorited\": false, \"user\": {\"follow_request_sent\": false, \"profile_use_background_image\": false, \"profile_text_color\": \"666666\", \"default_profile_image\": false, \"id\": 614, \"profile_background_image_url_https\": \"https://abs.twimg.com/images/themes/theme9/bg.gif\", \"verified\": false, \"profile_location\": null, \"profile_image_url_https\": \"https://pbs.twimg.com/profile_images/465965547855679488/ONqxqGvL_normal.jpeg\", \"profile_sidebar_fill_color\": \"252429\", \"entities\": {\"url\": {\"urls\": [{\"url\": \"http://t.co/x5Vr8HWFxj\", \"indices\": [0, 22], \"expanded_url\": \"http://facebook.com/christian.harrison\", \"display_url\": \"facebook.com/christian.harr\\u2026\"}]}, \"description\": {\"urls\": []}}, \"followers_count\": 1377, \"profile_sidebar_border_color\": \"000000\", \"id_str\": \"614\", \"profile_background_color\": \"1A1B1F\", \"listed_count\": 39, \"is_translation_enabled\": false, \"utc_offset\": 12600, \"statuses_count\": 7894, \"description\": \"Urban enthusiast, professional storyteller, man of faith.\", \"friends_count\": 1931, \"location\": \"Salt Lake City, UT\", \"profile_link_color\": \"2FC2EF\", \"profile_image_url\": \"http://pbs.twimg.com/profile_images/465965547855679488/ONqxqGvL_normal.jpeg\", \"following\": false, \"geo_enabled\": true, \"profile_banner_url\": \"https://pbs.twimg.com/profile_banners/614/1365311832\", \"profile_background_image_url\": \"http://abs.twimg.com/images/themes/theme9/bg.gif\", \"name\": \"Christian Harrison\", \"lang\": \"en\", \"profile_background_tile\": false, \"favourites_count\": 83, \"screen_name\": \"dcharrison\", \"notifications\": false, \"url\": \"http://t.co/x5Vr8HWFxj\", \"created_at\": \"Thu Jul 13 20:30:05 +0000 2006\", \"contributors_enabled\": false, \"time_zone\": \"Tehran\", \"protected\": false, \"default_profile\": false, \"is_translator\": false}, \"geo\": null, \"in_reply_to_user_id_str\": null, \"possibly_sensitive\": false, \"lang\": \"en\", \"created_at\": \"Fri Aug 08 14:01:38 +0000 2014\", \"in_reply_to_status_id_str\": null, \"place\": null}, {\"contributors\": null, \"truncated\": false, \"text\": \"This isn't good. We need to embrace innovation. Look at the handful of things that worry us about the livery... http://t.co/AbU1cXZ9pc\", \"in_reply_to_status_id\": null, \"id\": 497484084952567809, \"favorite_count\": 2, \"source\": \"<a href=\\\"http://www.facebook.com/twitter\\\" rel=\\\"nofollow\\\">Facebook</a>\", \"retweeted\": false, \"coordinates\": null, \"entities\": {\"symbols\": [], \"user_mentions\": [], \"hashtags\": [], \"urls\": [{\"url\": \"http://t.co/AbU1cXZ9pc\", \"indices\": [112, 134], \"expanded_url\": \"http://fb.me/72kERlk19\", \"display_url\": \"fb.me/72kERlk19\"}]}, \"in_reply_to_screen_name\": null, \"id_str\": \"497484084952567809\", \"retweet_count\": 0, \"in_reply_to_user_id\": null, \"favorited\": false, \"user\": {\"follow_request_sent\": false, \"profile_use_background_image\": false, \"profile_text_color\": \"666666\", \"default_profile_image\": false, \"id\": 614, \"profile_background_image_url_https\": \"https://abs.twimg.com/images/themes/theme9/bg.gif\", \"verified\": false, \"profile_location\": null, \"profile_image_url_https\": \"https://pbs.twimg.com/profile_images/465965547855679488/ONqxqGvL_normal.jpeg\", \"profile_sidebar_fill_color\": \"252429\", \"entities\": {\"url\": {\"urls\": [{\"url\": \"http://t.co/x5Vr8HWFxj\", \"indices\": [0, 22], \"expanded_url\": \"http://facebook.com/christian.harrison\", \"display_url\": \"facebook.com/christian.harr\\u2026\"}]}, \"description\": {\"urls\": []}}, \"followers_count\": 1377, \"profile_sidebar_border_color\": \"000000\", \"id_str\": \"614\", \"profile_background_color\": \"1A1B1F\", \"listed_count\": 39, \"is_translation_enabled\": false, \"utc_offset\": 12600, \"statuses_count\": 7894, \"description\": \"Urban enthusiast, professional storyteller, man of faith.\", \"friends_count\": 1931, \"location\": \"Salt Lake City, UT\", \"profile_link_color\": \"2FC2EF\", \"profile_image_url\": \"http://pbs.twimg.com/profile_images/465965547855679488/ONqxqGvL_normal.jpeg\", \"following\": false, \"geo_enabled\": true, \"profile_banner_url\": \"https://pbs.twimg.com/profile_banners/614/1365311832\", \"profile_background_image_url\": \"http://abs.twimg.com/images/themes/theme9/bg.gif\", \"name\": \"Christian Harrison\", \"lang\": \"en\", \"profile_background_tile\": false, \"favourites_count\": 83, \"screen_name\": \"dcharrison\", \"notifications\": false, \"url\": \"http://t.co/x5Vr8HWFxj\", \"created_at\": \"Thu Jul 13 20:30:05 +0000 2006\", \"contributors_enabled\": false, \"time_zone\": \"Tehran\", \"protected\": false, \"default_profile\": false, \"is_translator\": false}, \"geo\": null, \"in_reply_to_user_id_str\": null, \"possibly_sensitive\": false, \"lang\": \"en\", \"created_at\": \"Thu Aug 07 20:47:03 +0000 2014\", \"in_reply_to_status_id_str\": null, \"place\": null}, {\"contributors\": null, \"truncated\": false, \"text\": \"http://t.co/CAAPI1Q2nl\", \"in_reply_to_status_id\": null, \"id\": 496903266639159296, \"favorite_count\": 0, \"source\": \"<a href=\\\"http://www.facebook.com/twitter\\\" rel=\\\"nofollow\\\">Facebook</a>\", \"retweeted\": false, \"coordinates\": null, \"entities\": {\"symbols\": [], \"user_mentions\": [], \"hashtags\": [], \"urls\": [{\"url\": \"http://t.co/CAAPI1Q2nl\", \"indices\": [0, 22], \"expanded_url\": \"http://fb.me/18tlQBgdC\", \"display_url\": \"fb.me/18tlQBgdC\"}]}, \"in_reply_to_screen_name\": null, \"id_str\": \"496903266639159296\", \"retweet_count\": 0, \"in_reply_to_user_id\": null, \"favorited\": false, \"user\": {\"follow_request_sent\": false, \"profile_use_background_image\": false, \"profile_text_color\": \"666666\", \"default_profile_image\": false, \"id\": 614, \"profile_background_image_url_https\": \"https://abs.twimg.com/images/themes/theme9/bg.gif\", \"verified\": false, \"profile_location\": null, \"profile_image_url_https\": \"https://pbs.twimg.com/profile_images/465965547855679488/ONqxqGvL_normal.jpeg\", \"profile_sidebar_fill_color\": \"252429\", \"entities\": {\"url\": {\"urls\": [{\"url\": \"http://t.co/x5Vr8HWFxj\", \"indices\": [0, 22], \"expanded_url\": \"http://facebook.com/christian.harrison\", \"display_url\": \"facebook.com/christian.harr\\u2026\"}]}, \"description\": {\"urls\": []}}, \"followers_count\": 1377, \"profile_sidebar_border_color\": \"000000\", \"id_str\": \"614\", \"profile_background_color\": \"1A1B1F\", \"listed_count\": 39, \"is_translation_enabled\": false, \"utc_offset\": 12600, \"statuses_count\": 7894, \"description\": \"Urban enthusiast, professional storyteller, man of faith.\", \"friends_count\": 1931, \"location\": \"Salt Lake City, UT\", \"profile_link_color\": \"2FC2EF\", \"profile_image_url\": \"http://pbs.twimg.com/profile_images/465965547855679488/ONqxqGvL_normal.jpeg\", \"following\": false, \"geo_enabled\": true, \"profile_banner_url\": \"https://pbs.twimg.com/profile_banners/614/1365311832\", \"profile_background_image_url\": \"http://abs.twimg.com/images/themes/theme9/bg.gif\", \"name\": \"Christian Harrison\", \"lang\": \"en\", \"profile_background_tile\": false, \"favourites_count\": 83, \"screen_name\": \"dcharrison\", \"notifications\": false, \"url\": \"http://t.co/x5Vr8HWFxj\", \"created_at\": \"Thu Jul 13 20:30:05 +0000 2006\", \"contributors_enabled\": false, \"time_zone\": \"Tehran\", \"protected\": false, \"default_profile\": false, \"is_translator\": false}, \"geo\": null, \"in_reply_to_user_id_str\": null, \"possibly_sensitive\": false, \"lang\": \"und\", \"created_at\": \"Wed Aug 06 06:19:05 +0000 2014\", \"in_reply_to_status_id_str\": null, \"place\": null}, {\"contributors\": null, \"truncated\": false, \"text\": \"Okay \\u2026 I've seen this damn photo in a few places today, so I'm going to do what I can to nip it in the bud:\\n\\nI'm... http://t.co/UthMeuBXCD\", \"in_reply_to_status_id\": null, \"id\": 496788813734486016, \"favorite_count\": 2, \"source\": \"<a href=\\\"http://www.facebook.com/twitter\\\" rel=\\\"nofollow\\\">Facebook</a>\", \"retweeted\": false, \"coordinates\": null, \"entities\": {\"symbols\": [], \"user_mentions\": [], \"hashtags\": [], \"urls\": [{\"url\": \"http://t.co/UthMeuBXCD\", \"indices\": [116, 138], \"expanded_url\": \"http://fb.me/1XPQ7nb5l\", \"display_url\": \"fb.me/1XPQ7nb5l\"}]}, \"in_reply_to_screen_name\": null, \"id_str\": \"496788813734486016\", \"retweet_count\": 0, \"in_reply_to_user_id\": null, \"favorited\": false, \"user\": {\"follow_request_sent\": false, \"profile_use_background_image\": false, \"profile_text_color\": \"666666\", \"default_profile_image\": false, \"id\": 614, \"profile_background_image_url_https\": \"https://abs.twimg.com/images/themes/theme9/bg.gif\", \"verified\": false, \"profile_location\": null, \"profile_image_url_https\": \"https://pbs.twimg.com/profile_images/465965547855679488/ONqxqGvL_normal.jpeg\", \"profile_sidebar_fill_color\": \"252429\", \"entities\": {\"url\": {\"urls\": [{\"url\": \"http://t.co/x5Vr8HWFxj\", \"indices\": [0, 22], \"expanded_url\": \"http://facebook.com/christian.harrison\", \"display_url\": \"facebook.com/christian.harr\\u2026\"}]}, \"description\": {\"urls\": []}}, \"followers_count\": 1377, \"profile_sidebar_border_color\": \"000000\", \"id_str\": \"614\", \"profile_background_color\": \"1A1B1F\", \"listed_count\": 39, \"is_translation_enabled\": false, \"utc_offset\": 12600, \"statuses_count\": 7894, \"description\": \"Urban enthusiast, professional storyteller, man of faith.\", \"friends_count\": 1931, \"location\": \"Salt Lake City, UT\", \"profile_link_color\": \"2FC2EF\", \"profile_image_url\": \"http://pbs.twimg.com/profile_images/465965547855679488/ONqxqGvL_normal.jpeg\", \"following\": false, \"geo_enabled\": true, \"profile_banner_url\": \"https://pbs.twimg.com/profile_banners/614/1365311832\", \"profile_background_image_url\": \"http://abs.twimg.com/images/themes/theme9/bg.gif\", \"name\": \"Christian Harrison\", \"lang\": \"en\", \"profile_background_tile\": false, \"favourites_count\": 83, \"screen_name\": \"dcharrison\", \"notifications\": false, \"url\": \"http://t.co/x5Vr8HWFxj\", \"created_at\": \"Thu Jul 13 20:30:05 +0000 2006\", \"contributors_enabled\": false, \"time_zone\": \"Tehran\", \"protected\": false, \"default_profile\": false, \"is_translator\": false}, \"geo\": null, \"in_reply_to_user_id_str\": null, \"possibly_sensitive\": false, \"lang\": \"en\", \"created_at\": \"Tue Aug 05 22:44:17 +0000 2014\", \"in_reply_to_status_id_str\": null, \"place\": null}, {\"contributors\": null, \"truncated\": false, \"text\": \"Business lunch at Moochie's? Yes please! http://t.co/MIphJruEmy\", \"in_reply_to_status_id\": null, \"id\": 496730483737104384, \"favorite_count\": 0, \"source\": \"<a href=\\\"http://twitter.com/download/iphone\\\" rel=\\\"nofollow\\\">Twitter for iPhone</a>\", \"retweeted\": false, \"coordinates\": null, \"entities\": {\"symbols\": [], \"user_mentions\": [], \"hashtags\": [], \"urls\": [], \"media\": [{\"expanded_url\": \"http://twitter.com/dcharrison/status/496730483737104384/photo/1\", \"display_url\": \"pic.twitter.com/MIphJruEmy\", \"url\": \"http://t.co/MIphJruEmy\", \"media_url_https\": \"https://pbs.twimg.com/media/BuS9vXYCQAAjlzU.jpg\", \"id_str\": \"496730480343924736\", \"sizes\": {\"small\": {\"h\": 255, \"resize\": \"fit\", \"w\": 340}, \"large\": {\"h\": 768, \"resize\": \"fit\", \"w\": 1024}, \"medium\": {\"h\": 450, \"resize\": \"fit\", \"w\": 600}, \"thumb\": {\"h\": 150, \"resize\": \"crop\", \"w\": 150}}, \"indices\": [41, 63], \"type\": \"photo\", \"id\": 496730480343924736, \"media_url\": \"http://pbs.twimg.com/media/BuS9vXYCQAAjlzU.jpg\"}]}, \"in_reply_to_screen_name\": null, \"id_str\": \"496730483737104384\", \"retweet_count\": 0, \"in_reply_to_user_id\": null, \"favorited\": false, \"user\": {\"follow_request_sent\": false, \"profile_use_background_image\": false, \"profile_text_color\": \"666666\", \"default_profile_image\": false, \"id\": 614, \"profile_background_image_url_https\": \"https://abs.twimg.com/images/themes/theme9/bg.gif\", \"verified\": false, \"profile_location\": null, \"profile_image_url_https\": \"https://pbs.twimg.com/profile_images/465965547855679488/ONqxqGvL_normal.jpeg\", \"profile_sidebar_fill_color\": \"252429\", \"entities\": {\"url\": {\"urls\": [{\"url\": \"http://t.co/x5Vr8HWFxj\", \"indices\": [0, 22], \"expanded_url\": \"http://facebook.com/christian.harrison\", \"display_url\": \"facebook.com/christian.harr\\u2026\"}]}, \"description\": {\"urls\": []}}, \"followers_count\": 1377, \"profile_sidebar_border_color\": \"000000\", \"id_str\": \"614\", \"profile_background_color\": \"1A1B1F\", \"listed_count\": 39, \"is_translation_enabled\": false, \"utc_offset\": 12600, \"statuses_count\": 7894, \"description\": \"Urban enthusiast, professional storyteller, man of faith.\", \"friends_count\": 1931, \"location\": \"Salt Lake City, UT\", \"profile_link_color\": \"2FC2EF\", \"profile_image_url\": \"http://pbs.twimg.com/profile_images/465965547855679488/ONqxqGvL_normal.jpeg\", \"following\": false, \"geo_enabled\": true, \"profile_banner_url\": \"https://pbs.twimg.com/profile_banners/614/1365311832\", \"profile_background_image_url\": \"http://abs.twimg.com/images/themes/theme9/bg.gif\", \"name\": \"Christian Harrison\", \"lang\": \"en\", \"profile_background_tile\": false, \"favourites_count\": 83, \"screen_name\": \"dcharrison\", \"notifications\": false, \"url\": \"http://t.co/x5Vr8HWFxj\", \"created_at\": \"Thu Jul 13 20:30:05 +0000 2006\", \"contributors_enabled\": false, \"time_zone\": \"Tehran\", \"protected\": false, \"default_profile\": false, \"is_translator\": false}, \"geo\": null, \"in_reply_to_user_id_str\": null, \"possibly_sensitive\": false, \"lang\": \"en\", \"created_at\": \"Tue Aug 05 18:52:30 +0000 2014\", \"in_reply_to_status_id_str\": null, \"place\": null, \"extended_entities\": {\"media\": [{\"expanded_url\": \"http://twitter.com/dcharrison/status/496730483737104384/photo/1\", \"display_url\": \"pic.twitter.com/MIphJruEmy\", \"url\": \"http://t.co/MIphJruEmy\", \"media_url_https\": \"https://pbs.twimg.com/media/BuS9vXYCQAAjlzU.jpg\", \"id_str\": \"496730480343924736\", \"sizes\": {\"small\": {\"h\": 255, \"resize\": \"fit\", \"w\": 340}, \"large\": {\"h\": 768, \"resize\": \"fit\", \"w\": 1024}, \"medium\": {\"h\": 450, \"resize\": \"fit\", \"w\": 600}, \"thumb\": {\"h\": 150, \"resize\": \"crop\", \"w\": 150}}, \"indices\": [41, 63], \"type\": \"photo\", \"id\": 496730480343924736, \"media_url\": \"http://pbs.twimg.com/media/BuS9vXYCQAAjlzU.jpg\"}]}}\n",
        "Total 883 users\n"
       ]
      }
     ],
     "prompt_number": 41
    },
    {
     "cell_type": "code",
     "collapsed": false,
     "input": [
      "import ast\n",
      "print len(line.split(\"][\"))\n",
      "# list_all = ast.literal_eval(line)\n",
      "print len(list_all)\n",
      "print user[1][:10], user[1][-15:]\n",
      "print user[2][:10], user[2][-15:]\n",
      "print user[3][:10], user[3][-15:]\n",
      "print user[-1][:10], user[-1][-15:]\n",
      "print user[0][:10], user[0][-15:]\n",
      "# obj = json.loads(user[0][1:] + \"]\")\n",
      "# obj = json.loads(user[1])\n",
      "# print len(obj)\n",
      "# print type(obj[0])"
     ],
     "language": "python",
     "metadata": {},
     "outputs": [
      {
       "ename": "NameError",
       "evalue": "name 'list_all' is not defined",
       "output_type": "pyerr",
       "traceback": [
        "\u001b[1;31m---------------------------------------------------------------------------\u001b[0m\n\u001b[1;31mNameError\u001b[0m                                 Traceback (most recent call last)",
        "\u001b[1;32m<ipython-input-67-8ea6d4f49428>\u001b[0m in \u001b[0;36m<module>\u001b[1;34m()\u001b[0m\n\u001b[0;32m      2\u001b[0m \u001b[1;32mprint\u001b[0m \u001b[0mlen\u001b[0m\u001b[1;33m(\u001b[0m\u001b[0mline\u001b[0m\u001b[1;33m.\u001b[0m\u001b[0msplit\u001b[0m\u001b[1;33m(\u001b[0m\u001b[1;34m\"][\"\u001b[0m\u001b[1;33m)\u001b[0m\u001b[1;33m)\u001b[0m\u001b[1;33m\u001b[0m\u001b[0m\n\u001b[0;32m      3\u001b[0m \u001b[1;31m# list_all = ast.literal_eval(line)\u001b[0m\u001b[1;33m\u001b[0m\u001b[1;33m\u001b[0m\u001b[0m\n\u001b[1;32m----> 4\u001b[1;33m \u001b[1;32mprint\u001b[0m \u001b[0mlen\u001b[0m\u001b[1;33m(\u001b[0m\u001b[0mlist_all\u001b[0m\u001b[1;33m)\u001b[0m\u001b[1;33m\u001b[0m\u001b[0m\n\u001b[0m\u001b[0;32m      5\u001b[0m \u001b[1;32mprint\u001b[0m \u001b[0muser\u001b[0m\u001b[1;33m[\u001b[0m\u001b[1;36m1\u001b[0m\u001b[1;33m]\u001b[0m\u001b[1;33m[\u001b[0m\u001b[1;33m:\u001b[0m\u001b[1;36m10\u001b[0m\u001b[1;33m]\u001b[0m\u001b[1;33m,\u001b[0m \u001b[0muser\u001b[0m\u001b[1;33m[\u001b[0m\u001b[1;36m1\u001b[0m\u001b[1;33m]\u001b[0m\u001b[1;33m[\u001b[0m\u001b[1;33m-\u001b[0m\u001b[1;36m15\u001b[0m\u001b[1;33m:\u001b[0m\u001b[1;33m]\u001b[0m\u001b[1;33m\u001b[0m\u001b[0m\n\u001b[0;32m      6\u001b[0m \u001b[1;32mprint\u001b[0m \u001b[0muser\u001b[0m\u001b[1;33m[\u001b[0m\u001b[1;36m2\u001b[0m\u001b[1;33m]\u001b[0m\u001b[1;33m[\u001b[0m\u001b[1;33m:\u001b[0m\u001b[1;36m10\u001b[0m\u001b[1;33m]\u001b[0m\u001b[1;33m,\u001b[0m \u001b[0muser\u001b[0m\u001b[1;33m[\u001b[0m\u001b[1;36m2\u001b[0m\u001b[1;33m]\u001b[0m\u001b[1;33m[\u001b[0m\u001b[1;33m-\u001b[0m\u001b[1;36m15\u001b[0m\u001b[1;33m:\u001b[0m\u001b[1;33m]\u001b[0m\u001b[1;33m\u001b[0m\u001b[0m\n",
        "\u001b[1;31mNameError\u001b[0m: name 'list_all' is not defined"
       ]
      },
      {
       "output_type": "stream",
       "stream": "stdout",
       "text": [
        "1098\n"
       ]
      }
     ],
     "prompt_number": 67
    },
    {
     "cell_type": "code",
     "collapsed": false,
     "input": [
      "for i,tweets in enumerate(user):\n",
      "#         if i == 165:\n",
      "#             print tweets[544928-5:544928+5]\n",
      "        if i == 0:\n",
      "            t = json.loads(tweets[1:] + \"]\")\n",
      "        elif i == (last-1):\n",
      "            t = json.loads(\"[\"+tweets[:-1])\n",
      "        else:\n",
      "            t = json.loads(\"[\"+tweets+\"]\")\n",
      "\n",
      "        print \"User %s, tweets %s\" % (i, len(t))\n",
      "    "
     ],
     "language": "python",
     "metadata": {},
     "outputs": [
      {
       "output_type": "stream",
       "stream": "stdout",
       "text": [
        "User 0, tweets 200\n",
        "User 1, tweets 200\n",
        "User 2, tweets 200"
       ]
      },
      {
       "output_type": "stream",
       "stream": "stdout",
       "text": [
        "\n",
        "User 3, tweets 199\n",
        "User 4, tweets 200"
       ]
      },
      {
       "output_type": "stream",
       "stream": "stdout",
       "text": [
        "\n",
        "User 5, tweets 200\n",
        "User 6, tweets 200"
       ]
      },
      {
       "output_type": "stream",
       "stream": "stdout",
       "text": [
        "\n",
        "User 7, tweets 200\n",
        "User 8, tweets 200"
       ]
      },
      {
       "output_type": "stream",
       "stream": "stdout",
       "text": [
        "\n",
        "User 9, tweets 200\n",
        "User 10, tweets 200"
       ]
      },
      {
       "output_type": "stream",
       "stream": "stdout",
       "text": [
        "\n",
        "User 11, tweets 200\n",
        "User 12, tweets 199"
       ]
      },
      {
       "output_type": "stream",
       "stream": "stdout",
       "text": [
        "\n",
        "User 13, tweets 200\n",
        "User 14, tweets 200"
       ]
      },
      {
       "output_type": "stream",
       "stream": "stdout",
       "text": [
        "\n",
        "User 15, tweets 199\n",
        "User 16, tweets 200"
       ]
      },
      {
       "output_type": "stream",
       "stream": "stdout",
       "text": [
        "\n",
        "User 17, tweets 200\n",
        "User 18, tweets 200"
       ]
      },
      {
       "output_type": "stream",
       "stream": "stdout",
       "text": [
        "\n",
        "User 19, tweets 200\n",
        "User 20, tweets 200"
       ]
      },
      {
       "output_type": "stream",
       "stream": "stdout",
       "text": [
        "\n",
        "User 21, tweets 200\n",
        "User 22, tweets 200"
       ]
      },
      {
       "output_type": "stream",
       "stream": "stdout",
       "text": [
        "\n",
        "User 23, tweets 200\n",
        "User 24, tweets 200"
       ]
      },
      {
       "output_type": "stream",
       "stream": "stdout",
       "text": [
        "\n",
        "User 25, tweets 199\n",
        "User 26, tweets 199"
       ]
      },
      {
       "output_type": "stream",
       "stream": "stdout",
       "text": [
        "\n",
        "User 27, tweets 196\n",
        "User 28, tweets 200"
       ]
      },
      {
       "output_type": "stream",
       "stream": "stdout",
       "text": [
        "\n",
        "User 29, tweets 200\n",
        "User 30, tweets 200"
       ]
      },
      {
       "output_type": "stream",
       "stream": "stdout",
       "text": [
        "\n",
        "User 31, tweets 197\n",
        "User 32, tweets 200"
       ]
      },
      {
       "output_type": "stream",
       "stream": "stdout",
       "text": [
        "\n",
        "User 33, tweets 198\n",
        "User 34, tweets 200"
       ]
      },
      {
       "output_type": "stream",
       "stream": "stdout",
       "text": [
        "\n",
        "User 35, tweets 200\n",
        "User 36, tweets 200"
       ]
      },
      {
       "output_type": "stream",
       "stream": "stdout",
       "text": [
        "\n",
        "User 37, tweets 200\n",
        "User 38, tweets 200"
       ]
      },
      {
       "output_type": "stream",
       "stream": "stdout",
       "text": [
        "\n",
        "User 39, tweets 200\n",
        "User 40, tweets 200"
       ]
      },
      {
       "output_type": "stream",
       "stream": "stdout",
       "text": [
        "\n",
        "User 41, tweets 200\n",
        "User 42, tweets 200"
       ]
      },
      {
       "output_type": "stream",
       "stream": "stdout",
       "text": [
        "\n",
        "User 43, tweets 200\n",
        "User 44, tweets 198"
       ]
      },
      {
       "output_type": "stream",
       "stream": "stdout",
       "text": [
        "\n",
        "User 45, tweets 200\n",
        "User 46, tweets 200"
       ]
      },
      {
       "output_type": "stream",
       "stream": "stdout",
       "text": [
        "\n",
        "User 47, tweets 200\n",
        "User 48, tweets 200\n",
        "User 49, tweets 200"
       ]
      },
      {
       "output_type": "stream",
       "stream": "stdout",
       "text": [
        "\n",
        "User 50, tweets 127\n",
        "User 51, tweets 200\n",
        "User 52, tweets 199"
       ]
      },
      {
       "output_type": "stream",
       "stream": "stdout",
       "text": [
        "\n",
        "User 53, tweets 200\n",
        "User 54, tweets 200"
       ]
      },
      {
       "output_type": "stream",
       "stream": "stdout",
       "text": [
        "\n",
        "User 55, tweets 200\n",
        "User 56, tweets 200"
       ]
      },
      {
       "output_type": "stream",
       "stream": "stdout",
       "text": [
        "\n",
        "User 57, tweets 200\n",
        "User 58, tweets 200"
       ]
      },
      {
       "output_type": "stream",
       "stream": "stdout",
       "text": [
        "\n",
        "User 59, tweets 200\n",
        "User 60, tweets 199"
       ]
      },
      {
       "output_type": "stream",
       "stream": "stdout",
       "text": [
        "\n",
        "User 61, tweets 200\n",
        "User 62, tweets 200\n",
        "User 63, tweets 200"
       ]
      },
      {
       "output_type": "stream",
       "stream": "stdout",
       "text": [
        "\n",
        "User 64, tweets 199\n",
        "User 65, tweets 200\n",
        "User 66, tweets 200"
       ]
      },
      {
       "output_type": "stream",
       "stream": "stdout",
       "text": [
        "\n",
        "User 67, tweets 200\n",
        "User 68, tweets 200"
       ]
      },
      {
       "output_type": "stream",
       "stream": "stdout",
       "text": [
        "\n",
        "User 69, tweets 200\n",
        "User 70, tweets 200"
       ]
      },
      {
       "output_type": "stream",
       "stream": "stdout",
       "text": [
        "\n",
        "User 71, tweets 200\n",
        "User 72, tweets 200"
       ]
      },
      {
       "output_type": "stream",
       "stream": "stdout",
       "text": [
        "\n",
        "User 73, tweets 200\n",
        "User 74, tweets 199"
       ]
      },
      {
       "output_type": "stream",
       "stream": "stdout",
       "text": [
        "\n",
        "User 75, tweets 200\n",
        "User 76, tweets 200"
       ]
      },
      {
       "output_type": "stream",
       "stream": "stdout",
       "text": [
        "\n",
        "User 77, tweets 199\n",
        "User 78, tweets 200"
       ]
      },
      {
       "output_type": "stream",
       "stream": "stdout",
       "text": [
        "\n",
        "User 79, tweets 199\n",
        "User 80, tweets 200"
       ]
      },
      {
       "output_type": "stream",
       "stream": "stdout",
       "text": [
        "\n",
        "User 81, tweets 198\n",
        "User 82, tweets 200"
       ]
      },
      {
       "output_type": "stream",
       "stream": "stdout",
       "text": [
        "\n",
        "User 83, tweets 200\n",
        "User 84, tweets 200"
       ]
      },
      {
       "output_type": "stream",
       "stream": "stdout",
       "text": [
        "\n",
        "User 85, tweets 200\n",
        "User 86, tweets 200\n",
        "User 87, tweets 200"
       ]
      },
      {
       "output_type": "stream",
       "stream": "stdout",
       "text": [
        "\n",
        "User 88, tweets 199\n",
        "User 89, tweets 200"
       ]
      },
      {
       "output_type": "stream",
       "stream": "stdout",
       "text": [
        "\n",
        "User 90, tweets 200\n",
        "User 91, tweets 200"
       ]
      },
      {
       "output_type": "stream",
       "stream": "stdout",
       "text": [
        "\n",
        "User 92, tweets 200\n",
        "User 93, tweets 199"
       ]
      },
      {
       "output_type": "stream",
       "stream": "stdout",
       "text": [
        "\n",
        "User 94, tweets 197\n",
        "User 95, tweets 200"
       ]
      },
      {
       "output_type": "stream",
       "stream": "stdout",
       "text": [
        "\n",
        "User 96, tweets 200\n",
        "User 97, tweets 200"
       ]
      },
      {
       "output_type": "stream",
       "stream": "stdout",
       "text": [
        "\n",
        "User 98, tweets 198\n",
        "User 99, tweets 200"
       ]
      },
      {
       "output_type": "stream",
       "stream": "stdout",
       "text": [
        "\n",
        "User 100, tweets 200\n",
        "User 101, tweets 200"
       ]
      },
      {
       "output_type": "stream",
       "stream": "stdout",
       "text": [
        "\n",
        "User 102, tweets 200\n",
        "User 103, tweets 200"
       ]
      },
      {
       "output_type": "stream",
       "stream": "stdout",
       "text": [
        "\n",
        "User 104, tweets 200\n",
        "User 105, tweets 199"
       ]
      },
      {
       "output_type": "stream",
       "stream": "stdout",
       "text": [
        "\n",
        "User 106, tweets 200\n",
        "User 107, tweets 200\n",
        "User 108, tweets 200"
       ]
      },
      {
       "output_type": "stream",
       "stream": "stdout",
       "text": [
        "\n",
        "User 109, tweets 200\n",
        "User 110, tweets 200"
       ]
      },
      {
       "output_type": "stream",
       "stream": "stdout",
       "text": [
        "\n",
        "User 111, tweets 198\n",
        "User 112, tweets 200"
       ]
      },
      {
       "output_type": "stream",
       "stream": "stdout",
       "text": [
        "\n",
        "User 113, tweets 198\n",
        "User 114, tweets 200"
       ]
      },
      {
       "output_type": "stream",
       "stream": "stdout",
       "text": [
        "\n",
        "User 115, tweets 200\n",
        "User 116, tweets 200"
       ]
      },
      {
       "output_type": "stream",
       "stream": "stdout",
       "text": [
        "\n",
        "User 117, tweets 200\n",
        "User 118, tweets 200"
       ]
      },
      {
       "output_type": "stream",
       "stream": "stdout",
       "text": [
        "\n",
        "User 119, tweets 200\n",
        "User 120, tweets 200"
       ]
      },
      {
       "output_type": "stream",
       "stream": "stdout",
       "text": [
        "\n",
        "User 121, tweets 200\n",
        "User 122, tweets 200"
       ]
      },
      {
       "output_type": "stream",
       "stream": "stdout",
       "text": [
        "\n",
        "User 123, tweets 200\n",
        "User 124, tweets 200"
       ]
      },
      {
       "output_type": "stream",
       "stream": "stdout",
       "text": [
        "\n",
        "User 125, tweets 200\n",
        "User 126, tweets 200"
       ]
      },
      {
       "output_type": "stream",
       "stream": "stdout",
       "text": [
        "\n",
        "User 127, tweets 199\n",
        "User 128, tweets 200"
       ]
      },
      {
       "output_type": "stream",
       "stream": "stdout",
       "text": [
        "\n",
        "User 129, tweets 200\n",
        "User 130, tweets 200"
       ]
      },
      {
       "output_type": "stream",
       "stream": "stdout",
       "text": [
        "\n",
        "User 131, tweets 200\n",
        "User 132, tweets 200"
       ]
      },
      {
       "output_type": "stream",
       "stream": "stdout",
       "text": [
        "\n",
        "User 133, tweets 199\n",
        "User 134, tweets 200"
       ]
      },
      {
       "output_type": "stream",
       "stream": "stdout",
       "text": [
        "\n",
        "User 135, tweets 199\n",
        "User 136, tweets 200"
       ]
      },
      {
       "output_type": "stream",
       "stream": "stdout",
       "text": [
        "\n",
        "User 137, tweets 200\n",
        "User 138, tweets 199"
       ]
      },
      {
       "output_type": "stream",
       "stream": "stdout",
       "text": [
        "\n",
        "User 139, tweets 200\n",
        "User 140, tweets 200"
       ]
      },
      {
       "output_type": "stream",
       "stream": "stdout",
       "text": [
        "\n",
        "User 141, tweets 182\n",
        "User 142, tweets 200"
       ]
      },
      {
       "output_type": "stream",
       "stream": "stdout",
       "text": [
        "\n",
        "User 143, tweets 200\n",
        "User 144, tweets 200\n",
        "User 145, tweets 200"
       ]
      },
      {
       "output_type": "stream",
       "stream": "stdout",
       "text": [
        "\n",
        "User 146, tweets 200\n",
        "User 147, tweets 200"
       ]
      },
      {
       "output_type": "stream",
       "stream": "stdout",
       "text": [
        "\n",
        "User 148, tweets 200\n",
        "User 149, tweets 200"
       ]
      },
      {
       "output_type": "stream",
       "stream": "stdout",
       "text": [
        "\n",
        "User 150, tweets 200\n",
        "User 151, tweets 199"
       ]
      },
      {
       "output_type": "stream",
       "stream": "stdout",
       "text": [
        "\n",
        "User 152, tweets 200\n",
        "User 153, tweets 200"
       ]
      },
      {
       "output_type": "stream",
       "stream": "stdout",
       "text": [
        "\n",
        "User 154, tweets 200\n",
        "User 155, tweets 200"
       ]
      },
      {
       "output_type": "stream",
       "stream": "stdout",
       "text": [
        "\n",
        "User 156, tweets 200\n",
        "User 157, tweets 200"
       ]
      },
      {
       "output_type": "stream",
       "stream": "stdout",
       "text": [
        "\n",
        "User 158, tweets 200\n",
        "User 159, tweets 200"
       ]
      },
      {
       "output_type": "stream",
       "stream": "stdout",
       "text": [
        "\n",
        "User 160, tweets 199\n",
        "User 161, tweets 200"
       ]
      },
      {
       "output_type": "stream",
       "stream": "stdout",
       "text": [
        "\n",
        "User 162, tweets 200\n",
        "User 163, tweets 200"
       ]
      },
      {
       "output_type": "stream",
       "stream": "stdout",
       "text": [
        "\n",
        "User 164, tweets 199\n",
        "User 165, tweets 198"
       ]
      },
      {
       "output_type": "stream",
       "stream": "stdout",
       "text": [
        "\n",
        "User 166, tweets 199\n",
        "User 167, tweets 200"
       ]
      },
      {
       "output_type": "stream",
       "stream": "stdout",
       "text": [
        "\n",
        "User 168, tweets 200\n",
        "User 169, tweets 200"
       ]
      },
      {
       "output_type": "stream",
       "stream": "stdout",
       "text": [
        "\n",
        "User 170, tweets 200\n",
        "User 171, tweets 200"
       ]
      },
      {
       "output_type": "stream",
       "stream": "stdout",
       "text": [
        "\n",
        "User 172, tweets 200\n",
        "User 173, tweets 200"
       ]
      },
      {
       "output_type": "stream",
       "stream": "stdout",
       "text": [
        "\n",
        "User 174, tweets 200\n",
        "User 175, tweets 200\n",
        "User 176, tweets 200"
       ]
      },
      {
       "output_type": "stream",
       "stream": "stdout",
       "text": [
        "\n",
        "User 177, tweets 200\n",
        "User 178, tweets 200\n",
        "User 179, tweets 200"
       ]
      },
      {
       "output_type": "stream",
       "stream": "stdout",
       "text": [
        "\n",
        "User 180, tweets 200\n",
        "User 181, tweets 200"
       ]
      },
      {
       "output_type": "stream",
       "stream": "stdout",
       "text": [
        "\n",
        "User 182, tweets 199\n",
        "User 183, tweets 200"
       ]
      },
      {
       "output_type": "stream",
       "stream": "stdout",
       "text": [
        "\n",
        "User 184, tweets 200\n",
        "User 185, tweets 197"
       ]
      },
      {
       "output_type": "stream",
       "stream": "stdout",
       "text": [
        "\n",
        "User 186, tweets 200\n",
        "User 187, tweets 200"
       ]
      },
      {
       "output_type": "stream",
       "stream": "stdout",
       "text": [
        "\n",
        "User 188, tweets 200\n",
        "User 189, tweets 200"
       ]
      },
      {
       "output_type": "stream",
       "stream": "stdout",
       "text": [
        "\n",
        "User 190, tweets 200\n",
        "User 191, tweets 200"
       ]
      },
      {
       "output_type": "stream",
       "stream": "stdout",
       "text": [
        "\n",
        "User 192, tweets 200\n",
        "User 193, tweets 200"
       ]
      },
      {
       "output_type": "stream",
       "stream": "stdout",
       "text": [
        "\n",
        "User 194, tweets 200\n",
        "User 195, tweets 200"
       ]
      },
      {
       "output_type": "stream",
       "stream": "stdout",
       "text": [
        "\n",
        "User 196, tweets 200\n",
        "User 197, tweets 200\n",
        "User 198, tweets 200"
       ]
      },
      {
       "output_type": "stream",
       "stream": "stdout",
       "text": [
        "\n",
        "User 199, tweets 199\n",
        "User 200, tweets 200"
       ]
      },
      {
       "output_type": "stream",
       "stream": "stdout",
       "text": [
        "\n",
        "User 201, tweets 200\n",
        "User 202, tweets 200"
       ]
      },
      {
       "output_type": "stream",
       "stream": "stdout",
       "text": [
        "\n",
        "User 203, tweets 200\n",
        "User 204, tweets 200"
       ]
      },
      {
       "output_type": "stream",
       "stream": "stdout",
       "text": [
        "\n",
        "User 205, tweets 200\n",
        "User 206, tweets 200"
       ]
      },
      {
       "output_type": "stream",
       "stream": "stdout",
       "text": [
        "\n",
        "User 207, tweets 199\n",
        "User 208, tweets 200"
       ]
      },
      {
       "output_type": "stream",
       "stream": "stdout",
       "text": [
        "\n",
        "User 209, tweets 200\n",
        "User 210, tweets 200"
       ]
      },
      {
       "output_type": "stream",
       "stream": "stdout",
       "text": [
        "\n",
        "User 211, tweets 200\n",
        "User 212, tweets 195"
       ]
      },
      {
       "output_type": "stream",
       "stream": "stdout",
       "text": [
        "\n",
        "User 213, tweets 200\n",
        "User 214, tweets 200"
       ]
      },
      {
       "output_type": "stream",
       "stream": "stdout",
       "text": [
        "\n",
        "User 215, tweets 200\n",
        "User 216, tweets 200"
       ]
      },
      {
       "output_type": "stream",
       "stream": "stdout",
       "text": [
        "\n",
        "User 217, tweets 200\n",
        "User 218, tweets 200"
       ]
      },
      {
       "output_type": "stream",
       "stream": "stdout",
       "text": [
        "\n",
        "User 219, tweets 199\n",
        "User 220, tweets 200\n",
        "User 221, tweets 200"
       ]
      },
      {
       "output_type": "stream",
       "stream": "stdout",
       "text": [
        "\n",
        "User 222, tweets 200\n",
        "User 223, tweets 200"
       ]
      },
      {
       "output_type": "stream",
       "stream": "stdout",
       "text": [
        "\n",
        "User 224, tweets 200\n",
        "User 225, tweets 200"
       ]
      },
      {
       "output_type": "stream",
       "stream": "stdout",
       "text": [
        "\n",
        "User 226, tweets 200\n",
        "User 227, tweets 200"
       ]
      },
      {
       "output_type": "stream",
       "stream": "stdout",
       "text": [
        "\n",
        "User 228, tweets 200\n",
        "User 229, tweets 199"
       ]
      },
      {
       "output_type": "stream",
       "stream": "stdout",
       "text": [
        "\n",
        "User 230, tweets 200\n",
        "User 231, tweets 200\n",
        "User 232, tweets 196"
       ]
      },
      {
       "output_type": "stream",
       "stream": "stdout",
       "text": [
        "\n",
        "User 233, tweets 200\n",
        "User 234, tweets 200"
       ]
      },
      {
       "output_type": "stream",
       "stream": "stdout",
       "text": [
        "\n",
        "User 235, tweets 200\n",
        "User 236, tweets 199"
       ]
      },
      {
       "output_type": "stream",
       "stream": "stdout",
       "text": [
        "\n",
        "User 237, tweets 200\n",
        "User 238, tweets 200"
       ]
      },
      {
       "output_type": "stream",
       "stream": "stdout",
       "text": [
        "\n",
        "User 239, tweets 200\n",
        "User 240, tweets 200"
       ]
      },
      {
       "output_type": "stream",
       "stream": "stdout",
       "text": [
        "\n",
        "User 241, tweets 200\n",
        "User 242, tweets 197"
       ]
      },
      {
       "output_type": "stream",
       "stream": "stdout",
       "text": [
        "\n",
        "User 243, tweets 200\n",
        "User 244, tweets 200"
       ]
      },
      {
       "output_type": "stream",
       "stream": "stdout",
       "text": [
        "\n",
        "User 245, tweets 200\n",
        "User 246, tweets 199"
       ]
      },
      {
       "output_type": "stream",
       "stream": "stdout",
       "text": [
        "\n",
        "User 247, tweets 200\n",
        "User 248, tweets 200"
       ]
      },
      {
       "output_type": "stream",
       "stream": "stdout",
       "text": [
        "\n",
        "User 249, tweets 200\n",
        "User 250, tweets 200"
       ]
      },
      {
       "output_type": "stream",
       "stream": "stdout",
       "text": [
        "\n",
        "User 251, tweets 200\n",
        "User 252, tweets 199"
       ]
      },
      {
       "output_type": "stream",
       "stream": "stdout",
       "text": [
        "\n",
        "User 253, tweets 200\n",
        "User 254, tweets 199"
       ]
      },
      {
       "output_type": "stream",
       "stream": "stdout",
       "text": [
        "\n",
        "User 255, tweets 200\n",
        "User 256, tweets 200"
       ]
      },
      {
       "output_type": "stream",
       "stream": "stdout",
       "text": [
        "\n",
        "User 257, tweets 197\n",
        "User 258, tweets 200"
       ]
      },
      {
       "output_type": "stream",
       "stream": "stdout",
       "text": [
        "\n",
        "User 259, tweets 200\n",
        "User 260, tweets 200\n",
        "User 261, tweets 200"
       ]
      },
      {
       "output_type": "stream",
       "stream": "stdout",
       "text": [
        "\n",
        "User 262, tweets 200\n",
        "User 263, tweets 200"
       ]
      },
      {
       "output_type": "stream",
       "stream": "stdout",
       "text": [
        "\n",
        "User 264, tweets 200\n",
        "User 265, tweets 200"
       ]
      },
      {
       "output_type": "stream",
       "stream": "stdout",
       "text": [
        "\n",
        "User 266, tweets 200\n",
        "User 267, tweets 196\n",
        "User 268, tweets 200"
       ]
      },
      {
       "output_type": "stream",
       "stream": "stdout",
       "text": [
        "\n",
        "User 269, tweets 200\n",
        "User 270, tweets 200\n",
        "User 271, tweets 200"
       ]
      },
      {
       "output_type": "stream",
       "stream": "stdout",
       "text": [
        "\n",
        "User 272, tweets 200\n",
        "User 273, tweets 200"
       ]
      },
      {
       "output_type": "stream",
       "stream": "stdout",
       "text": [
        "\n",
        "User 274, tweets 200\n",
        "User 275, tweets 200\n",
        "User 276, tweets 198"
       ]
      },
      {
       "output_type": "stream",
       "stream": "stdout",
       "text": [
        "\n",
        "User 277, tweets 200\n",
        "User 278, tweets 200"
       ]
      },
      {
       "output_type": "stream",
       "stream": "stdout",
       "text": [
        "\n",
        "User 279, tweets 200\n",
        "User 280, tweets 200"
       ]
      },
      {
       "output_type": "stream",
       "stream": "stdout",
       "text": [
        "\n",
        "User 281, tweets 200\n",
        "User 282, tweets 200"
       ]
      },
      {
       "output_type": "stream",
       "stream": "stdout",
       "text": [
        "\n",
        "User 283, tweets 200\n",
        "User 284, tweets 200\n",
        "User 285, tweets 200"
       ]
      },
      {
       "output_type": "stream",
       "stream": "stdout",
       "text": [
        "\n",
        "User 286, tweets 200\n",
        "User 287, tweets 200\n",
        "User 288, tweets 200"
       ]
      },
      {
       "output_type": "stream",
       "stream": "stdout",
       "text": [
        "\n",
        "User 289, tweets 200\n",
        "User 290, tweets 200\n",
        "User 291, tweets 200"
       ]
      },
      {
       "output_type": "stream",
       "stream": "stdout",
       "text": [
        "\n",
        "User 292, tweets 199\n",
        "User 293, tweets 200"
       ]
      },
      {
       "output_type": "stream",
       "stream": "stdout",
       "text": [
        "\n",
        "User 294, tweets 200\n",
        "User 295, tweets 200"
       ]
      },
      {
       "output_type": "stream",
       "stream": "stdout",
       "text": [
        "\n",
        "User 296, tweets 200\n",
        "User 297, tweets 200"
       ]
      },
      {
       "output_type": "stream",
       "stream": "stdout",
       "text": [
        "\n",
        "User 298, tweets 198\n",
        "User 299, tweets 199"
       ]
      },
      {
       "output_type": "stream",
       "stream": "stdout",
       "text": [
        "\n",
        "User 300, tweets 200\n",
        "User 301, tweets 200"
       ]
      },
      {
       "output_type": "stream",
       "stream": "stdout",
       "text": [
        "\n",
        "User 302, tweets 200\n",
        "User 303, tweets 200"
       ]
      },
      {
       "output_type": "stream",
       "stream": "stdout",
       "text": [
        "\n",
        "User 304, tweets 200\n",
        "User 305, tweets 200"
       ]
      },
      {
       "output_type": "stream",
       "stream": "stdout",
       "text": [
        "\n",
        "User 306, tweets 200\n",
        "User 307, tweets 200"
       ]
      },
      {
       "output_type": "stream",
       "stream": "stdout",
       "text": [
        "\n",
        "User 308, tweets 200\n",
        "User 309, tweets 200"
       ]
      },
      {
       "output_type": "stream",
       "stream": "stdout",
       "text": [
        "\n",
        "User 310, tweets 200\n",
        "User 311, tweets 200\n",
        "User 312, tweets 200"
       ]
      },
      {
       "output_type": "stream",
       "stream": "stdout",
       "text": [
        "\n",
        "User 313, tweets 200\n",
        "User 314, tweets 200"
       ]
      },
      {
       "output_type": "stream",
       "stream": "stdout",
       "text": [
        "\n",
        "User 315, tweets 200\n",
        "User 316, tweets 200"
       ]
      },
      {
       "output_type": "stream",
       "stream": "stdout",
       "text": [
        "\n",
        "User 317, tweets 197\n",
        "User 318, tweets 200\n",
        "User 319, tweets 200"
       ]
      },
      {
       "output_type": "stream",
       "stream": "stdout",
       "text": [
        "\n",
        "User 320, tweets 200\n",
        "User 321, tweets 200"
       ]
      },
      {
       "output_type": "stream",
       "stream": "stdout",
       "text": [
        "\n",
        "User 322, tweets 200\n",
        "User 323, tweets 200\n",
        "User 324, tweets 200"
       ]
      },
      {
       "output_type": "stream",
       "stream": "stdout",
       "text": [
        "\n",
        "User 325, tweets 199\n",
        "User 326, tweets 200\n",
        "User 327, tweets 197"
       ]
      },
      {
       "output_type": "stream",
       "stream": "stdout",
       "text": [
        "\n",
        "User 328, tweets 200\n",
        "User 329, tweets 200\n",
        "User 330, tweets 200"
       ]
      },
      {
       "output_type": "stream",
       "stream": "stdout",
       "text": [
        "\n",
        "User 331, tweets 198\n",
        "User 332, tweets 199"
       ]
      },
      {
       "output_type": "stream",
       "stream": "stdout",
       "text": [
        "\n",
        "User 333, tweets 199\n",
        "User 334, tweets 200"
       ]
      },
      {
       "output_type": "stream",
       "stream": "stdout",
       "text": [
        "\n",
        "User 335, tweets 200\n",
        "User 336, tweets 200"
       ]
      },
      {
       "output_type": "stream",
       "stream": "stdout",
       "text": [
        "\n",
        "User 337, tweets 200\n",
        "User 338, tweets 200"
       ]
      },
      {
       "output_type": "stream",
       "stream": "stdout",
       "text": [
        "\n",
        "User 339, tweets 200\n",
        "User 340, tweets 200"
       ]
      },
      {
       "output_type": "stream",
       "stream": "stdout",
       "text": [
        "\n",
        "User 341, tweets 200\n",
        "User 342, tweets 200"
       ]
      },
      {
       "output_type": "stream",
       "stream": "stdout",
       "text": [
        "\n",
        "User 343, tweets 8\n",
        "User 344, tweets 199\n",
        "User 345, tweets 200"
       ]
      },
      {
       "output_type": "stream",
       "stream": "stdout",
       "text": [
        "\n",
        "User 346, tweets 200\n",
        "User 347, tweets 200"
       ]
      },
      {
       "output_type": "stream",
       "stream": "stdout",
       "text": [
        "\n",
        "User 348, tweets 200\n",
        "User 349, tweets 200"
       ]
      },
      {
       "output_type": "stream",
       "stream": "stdout",
       "text": [
        "\n",
        "User 350, tweets 200\n",
        "User 351, tweets 200"
       ]
      },
      {
       "output_type": "stream",
       "stream": "stdout",
       "text": [
        "\n",
        "User 352, tweets 200\n",
        "User 353, tweets 198\n",
        "User 354, tweets 198"
       ]
      },
      {
       "output_type": "stream",
       "stream": "stdout",
       "text": [
        "\n",
        "User 355, tweets 199\n",
        "User 356, tweets 200"
       ]
      },
      {
       "output_type": "stream",
       "stream": "stdout",
       "text": [
        "\n",
        "User 357, tweets 199\n",
        "User 358, tweets 200"
       ]
      },
      {
       "output_type": "stream",
       "stream": "stdout",
       "text": [
        "\n",
        "User 359, tweets 200\n",
        "User 360, tweets 197"
       ]
      },
      {
       "output_type": "stream",
       "stream": "stdout",
       "text": [
        "\n",
        "User 361, tweets 200\n",
        "User 362, tweets 200\n",
        "User 363, tweets 200"
       ]
      },
      {
       "output_type": "stream",
       "stream": "stdout",
       "text": [
        "\n",
        "User 364, tweets 200\n",
        "User 365, tweets 200\n",
        "User 366, tweets 200"
       ]
      },
      {
       "output_type": "stream",
       "stream": "stdout",
       "text": [
        "\n",
        "User 367, tweets 200\n",
        "User 368, tweets 200"
       ]
      },
      {
       "output_type": "stream",
       "stream": "stdout",
       "text": [
        "\n",
        "User 369, tweets 198\n",
        "User 370, tweets 200\n",
        "User 371, tweets 200"
       ]
      },
      {
       "output_type": "stream",
       "stream": "stdout",
       "text": [
        "\n",
        "User 372, tweets 200\n",
        "User 373, tweets 200"
       ]
      },
      {
       "output_type": "stream",
       "stream": "stdout",
       "text": [
        "\n",
        "User 374, tweets 200\n",
        "User 375, tweets 200"
       ]
      },
      {
       "output_type": "stream",
       "stream": "stdout",
       "text": [
        "\n",
        "User 376, tweets 200\n",
        "User 377, tweets 198"
       ]
      },
      {
       "output_type": "stream",
       "stream": "stdout",
       "text": [
        "\n",
        "User 378, tweets 200\n",
        "User 379, tweets 200"
       ]
      },
      {
       "output_type": "stream",
       "stream": "stdout",
       "text": [
        "\n",
        "User 380, tweets 200\n",
        "User 381, tweets 200\n",
        "User 382, tweets 198"
       ]
      },
      {
       "output_type": "stream",
       "stream": "stdout",
       "text": [
        "\n",
        "User 383, tweets 200\n",
        "User 384, tweets 200\n",
        "User 385, tweets 200"
       ]
      },
      {
       "output_type": "stream",
       "stream": "stdout",
       "text": [
        "\n",
        "User 386, tweets 101\n",
        "User 387, tweets 200\n",
        "User 388, tweets 200"
       ]
      },
      {
       "output_type": "stream",
       "stream": "stdout",
       "text": [
        "\n",
        "User 389, tweets 200\n",
        "User 390, tweets 200\n",
        "User 391, tweets 200"
       ]
      },
      {
       "output_type": "stream",
       "stream": "stdout",
       "text": [
        "\n",
        "User 392, tweets 200\n",
        "User 393, tweets 200\n",
        "User 394, tweets 200"
       ]
      },
      {
       "output_type": "stream",
       "stream": "stdout",
       "text": [
        "\n",
        "User 395, tweets 200\n",
        "User 396, tweets 200"
       ]
      },
      {
       "output_type": "stream",
       "stream": "stdout",
       "text": [
        "\n",
        "User 397, tweets 200\n",
        "User 398, tweets 200"
       ]
      },
      {
       "output_type": "stream",
       "stream": "stdout",
       "text": [
        "\n",
        "User 399, tweets 200\n",
        "User 400, tweets 200\n",
        "User 401, tweets 199"
       ]
      },
      {
       "output_type": "stream",
       "stream": "stdout",
       "text": [
        "\n",
        "User 402, tweets 200\n",
        "User 403, tweets 197"
       ]
      },
      {
       "output_type": "stream",
       "stream": "stdout",
       "text": [
        "\n",
        "User 404, tweets 200\n",
        "User 405, tweets 200"
       ]
      },
      {
       "output_type": "stream",
       "stream": "stdout",
       "text": [
        "\n",
        "User 406, tweets 200\n",
        "User 407, tweets 198"
       ]
      },
      {
       "output_type": "stream",
       "stream": "stdout",
       "text": [
        "\n",
        "User 408, tweets 199\n",
        "User 409, tweets 200\n",
        "User 410, tweets 200"
       ]
      },
      {
       "output_type": "stream",
       "stream": "stdout",
       "text": [
        "\n",
        "User 411, tweets 200\n",
        "User 412, tweets 200\n",
        "User 413, tweets 200"
       ]
      },
      {
       "output_type": "stream",
       "stream": "stdout",
       "text": [
        "\n",
        "User 414, tweets 200\n",
        "User 415, tweets 199"
       ]
      },
      {
       "output_type": "stream",
       "stream": "stdout",
       "text": [
        "\n",
        "User 416, tweets 200\n",
        "User 417, tweets 200\n",
        "User 418, tweets 200"
       ]
      },
      {
       "output_type": "stream",
       "stream": "stdout",
       "text": [
        "\n",
        "User 419, tweets 200\n",
        "User 420, tweets 200"
       ]
      },
      {
       "output_type": "stream",
       "stream": "stdout",
       "text": [
        "\n",
        "User 421, tweets 200\n",
        "User 422, tweets 200\n",
        "User 423, tweets 200"
       ]
      },
      {
       "output_type": "stream",
       "stream": "stdout",
       "text": [
        "\n",
        "User 424, tweets 200\n",
        "User 425, tweets 200\n",
        "User 426, tweets 200"
       ]
      },
      {
       "output_type": "stream",
       "stream": "stdout",
       "text": [
        "\n",
        "User 427, tweets 200\n",
        "User 428, tweets 200"
       ]
      },
      {
       "output_type": "stream",
       "stream": "stdout",
       "text": [
        "\n",
        "User 429, tweets 200\n",
        "User 430, tweets 200"
       ]
      },
      {
       "output_type": "stream",
       "stream": "stdout",
       "text": [
        "\n",
        "User 431, tweets 200\n",
        "User 432, tweets 200\n",
        "User 433, tweets 200"
       ]
      },
      {
       "output_type": "stream",
       "stream": "stdout",
       "text": [
        "\n",
        "User 434, tweets 200\n",
        "User 435, tweets 200"
       ]
      },
      {
       "output_type": "stream",
       "stream": "stdout",
       "text": [
        "\n",
        "User 436, tweets 200\n",
        "User 437, tweets 200"
       ]
      },
      {
       "output_type": "stream",
       "stream": "stdout",
       "text": [
        "\n",
        "User 438, tweets 200\n",
        "User 439, tweets 200\n",
        "User 440, tweets 200"
       ]
      },
      {
       "output_type": "stream",
       "stream": "stdout",
       "text": [
        "\n",
        "User 441, tweets 200\n",
        "User 442, tweets 200\n",
        "User 443, tweets 200"
       ]
      },
      {
       "output_type": "stream",
       "stream": "stdout",
       "text": [
        "\n",
        "User 444, tweets 200\n",
        "User 445, tweets 200\n",
        "User 446, tweets 200"
       ]
      },
      {
       "output_type": "stream",
       "stream": "stdout",
       "text": [
        "\n",
        "User 447, tweets 200\n",
        "User 448, tweets 200"
       ]
      },
      {
       "output_type": "stream",
       "stream": "stdout",
       "text": [
        "\n",
        "User 449, tweets 200\n",
        "User 450, tweets 199"
       ]
      },
      {
       "output_type": "stream",
       "stream": "stdout",
       "text": [
        "\n",
        "User 451, tweets 197\n",
        "User 452, tweets 200\n",
        "User 453, tweets 200"
       ]
      },
      {
       "output_type": "stream",
       "stream": "stdout",
       "text": [
        "\n",
        "User 454, tweets 198\n",
        "User 455, tweets 200"
       ]
      },
      {
       "output_type": "stream",
       "stream": "stdout",
       "text": [
        "\n",
        "User 456, tweets 200\n",
        "User 457, tweets 200"
       ]
      },
      {
       "output_type": "stream",
       "stream": "stdout",
       "text": [
        "\n",
        "User 458, tweets 198\n",
        "User 459, tweets 200\n",
        "User 460, tweets 199"
       ]
      },
      {
       "output_type": "stream",
       "stream": "stdout",
       "text": [
        "\n",
        "User 461, tweets 200\n",
        "User 462, tweets 200"
       ]
      },
      {
       "output_type": "stream",
       "stream": "stdout",
       "text": [
        "\n",
        "User 463, tweets 200\n",
        "User 464, tweets 200"
       ]
      },
      {
       "output_type": "stream",
       "stream": "stdout",
       "text": [
        "\n",
        "User 465, tweets 200\n",
        "User 466, tweets 200"
       ]
      },
      {
       "output_type": "stream",
       "stream": "stdout",
       "text": [
        "\n",
        "User 467, tweets 200\n",
        "User 468, tweets 200\n",
        "User 469, tweets 200"
       ]
      },
      {
       "output_type": "stream",
       "stream": "stdout",
       "text": [
        "\n",
        "User 470, tweets 200\n",
        "User 471, tweets 200"
       ]
      },
      {
       "output_type": "stream",
       "stream": "stdout",
       "text": [
        "\n",
        "User 472, tweets 200\n",
        "User 473, tweets 199"
       ]
      },
      {
       "output_type": "stream",
       "stream": "stdout",
       "text": [
        "\n",
        "User 474, tweets 200\n",
        "User 475, tweets 200"
       ]
      },
      {
       "output_type": "stream",
       "stream": "stdout",
       "text": [
        "\n",
        "User 476, tweets 200\n",
        "User 477, tweets 200"
       ]
      },
      {
       "output_type": "stream",
       "stream": "stdout",
       "text": [
        "\n",
        "User 478, tweets 200\n",
        "User 479, tweets 200\n",
        "User 480, tweets 200"
       ]
      },
      {
       "output_type": "stream",
       "stream": "stdout",
       "text": [
        "\n",
        "User 481, tweets 200\n",
        "User 482, tweets 198"
       ]
      },
      {
       "output_type": "stream",
       "stream": "stdout",
       "text": [
        "\n",
        "User 483, tweets 200\n",
        "User 484, tweets 200\n",
        "User 485, tweets 198"
       ]
      },
      {
       "output_type": "stream",
       "stream": "stdout",
       "text": [
        "\n",
        "User 486, tweets 200\n",
        "User 487, tweets 200"
       ]
      },
      {
       "output_type": "stream",
       "stream": "stdout",
       "text": [
        "\n",
        "User 488, tweets 200\n",
        "User 489, tweets 194"
       ]
      },
      {
       "output_type": "stream",
       "stream": "stdout",
       "text": [
        "\n",
        "User 490, tweets 200\n",
        "User 491, tweets 200\n",
        "User 492, tweets 198"
       ]
      },
      {
       "output_type": "stream",
       "stream": "stdout",
       "text": [
        "\n",
        "User 493, tweets 200\n",
        "User 494, tweets 200"
       ]
      },
      {
       "output_type": "stream",
       "stream": "stdout",
       "text": [
        "\n",
        "User 495, tweets 199\n",
        "User 496, tweets 194"
       ]
      },
      {
       "output_type": "stream",
       "stream": "stdout",
       "text": [
        "\n",
        "User 497, tweets 200"
       ]
      },
      {
       "output_type": "stream",
       "stream": "stdout",
       "text": [
        "\n",
        "User 498, tweets 200\n",
        "User 499, tweets 200\n",
        "User 500, tweets 200"
       ]
      },
      {
       "output_type": "stream",
       "stream": "stdout",
       "text": [
        "\n",
        "User 501, tweets 200\n",
        "User 502, tweets 200"
       ]
      },
      {
       "output_type": "stream",
       "stream": "stdout",
       "text": [
        "\n",
        "User 503, tweets 199\n",
        "User 504, tweets 200"
       ]
      },
      {
       "output_type": "stream",
       "stream": "stdout",
       "text": [
        "\n",
        "User 505, tweets 200\n",
        "User 506, tweets 200\n",
        "User 507, tweets 200"
       ]
      },
      {
       "output_type": "stream",
       "stream": "stdout",
       "text": [
        "\n",
        "User 508, tweets 200\n",
        "User 509, tweets 200"
       ]
      },
      {
       "output_type": "stream",
       "stream": "stdout",
       "text": [
        "\n",
        "User 510, tweets 200\n",
        "User 511, tweets 200"
       ]
      },
      {
       "output_type": "stream",
       "stream": "stdout",
       "text": [
        "\n",
        "User 512, tweets 200\n",
        "User 513, tweets 200"
       ]
      },
      {
       "output_type": "stream",
       "stream": "stdout",
       "text": [
        "\n",
        "User 514, tweets 200\n",
        "User 515, tweets 200\n",
        "User 516, tweets 200"
       ]
      },
      {
       "output_type": "stream",
       "stream": "stdout",
       "text": [
        "\n",
        "User 517, tweets 200\n",
        "User 518, tweets 200\n",
        "User 519, tweets 196"
       ]
      },
      {
       "output_type": "stream",
       "stream": "stdout",
       "text": [
        "\n",
        "User 520, tweets 200\n",
        "User 521, tweets 199"
       ]
      },
      {
       "output_type": "stream",
       "stream": "stdout",
       "text": [
        "\n",
        "User 522, tweets 197\n",
        "User 523, tweets 200"
       ]
      },
      {
       "output_type": "stream",
       "stream": "stdout",
       "text": [
        "\n",
        "User 524, tweets 198\n",
        "User 525, tweets 200"
       ]
      },
      {
       "output_type": "stream",
       "stream": "stdout",
       "text": [
        "\n",
        "User 526, tweets 200\n",
        "User 527, tweets 200\n",
        "User 528, tweets 200"
       ]
      },
      {
       "output_type": "stream",
       "stream": "stdout",
       "text": [
        "\n",
        "User 529, tweets 200\n",
        "User 530, tweets 200\n",
        "User 531, tweets 200"
       ]
      },
      {
       "output_type": "stream",
       "stream": "stdout",
       "text": [
        "\n",
        "User 532, tweets 197\n",
        "User 533, tweets 200"
       ]
      },
      {
       "output_type": "stream",
       "stream": "stdout",
       "text": [
        "\n",
        "User 534, tweets 200\n",
        "User 535, tweets 200"
       ]
      },
      {
       "output_type": "stream",
       "stream": "stdout",
       "text": [
        "\n",
        "User 536, tweets 198\n",
        "User 537, tweets 200\n",
        "User 538, tweets 199"
       ]
      },
      {
       "output_type": "stream",
       "stream": "stdout",
       "text": [
        "\n",
        "User 539, tweets 200\n",
        "User 540, tweets 200\n",
        "User 541, tweets 200"
       ]
      },
      {
       "output_type": "stream",
       "stream": "stdout",
       "text": [
        "\n",
        "User 542, tweets 197\n",
        "User 543, tweets 200"
       ]
      },
      {
       "output_type": "stream",
       "stream": "stdout",
       "text": [
        "\n",
        "User 544, tweets 200\n",
        "User 545, tweets 200\n",
        "User 546, tweets 199"
       ]
      },
      {
       "output_type": "stream",
       "stream": "stdout",
       "text": [
        "\n",
        "User 547, tweets 199\n",
        "User 548, tweets 197"
       ]
      },
      {
       "output_type": "stream",
       "stream": "stdout",
       "text": [
        "\n",
        "User 549, tweets 200\n",
        "User 550, tweets 200"
       ]
      },
      {
       "output_type": "stream",
       "stream": "stdout",
       "text": [
        "\n",
        "User 551, tweets 200\n",
        "User 552, tweets 200"
       ]
      },
      {
       "output_type": "stream",
       "stream": "stdout",
       "text": [
        "\n",
        "User 553, tweets 200\n",
        "User 554, tweets 199\n",
        "User 555, tweets 200"
       ]
      },
      {
       "output_type": "stream",
       "stream": "stdout",
       "text": [
        "\n",
        "User 556, tweets 200\n",
        "User 557, tweets 199"
       ]
      },
      {
       "output_type": "stream",
       "stream": "stdout",
       "text": [
        "\n",
        "User 558, tweets 200\n",
        "User 559, tweets 200"
       ]
      },
      {
       "output_type": "stream",
       "stream": "stdout",
       "text": [
        "\n",
        "User 560, tweets 198\n",
        "User 561, tweets 200"
       ]
      },
      {
       "output_type": "stream",
       "stream": "stdout",
       "text": [
        "\n",
        "User 562, tweets 200\n",
        "User 563, tweets 199"
       ]
      },
      {
       "output_type": "stream",
       "stream": "stdout",
       "text": [
        "\n",
        "User 564, tweets 200\n",
        "User 565, tweets 200\n",
        "User 566, tweets 200"
       ]
      },
      {
       "output_type": "stream",
       "stream": "stdout",
       "text": [
        "\n",
        "User 567, tweets 200\n",
        "User 568, tweets 200"
       ]
      },
      {
       "output_type": "stream",
       "stream": "stdout",
       "text": [
        "\n",
        "User 569, tweets 200\n",
        "User 570, tweets 198"
       ]
      },
      {
       "output_type": "stream",
       "stream": "stdout",
       "text": [
        "\n",
        "User 571, tweets 200\n",
        "User 572, tweets 200"
       ]
      },
      {
       "output_type": "stream",
       "stream": "stdout",
       "text": [
        "\n",
        "User 573, tweets 200\n",
        "User 574, tweets 199"
       ]
      },
      {
       "output_type": "stream",
       "stream": "stdout",
       "text": [
        "\n",
        "User 575, tweets 200\n",
        "User 576, tweets 199"
       ]
      },
      {
       "output_type": "stream",
       "stream": "stdout",
       "text": [
        "\n",
        "User 577, tweets 200\n",
        "User 578, tweets 200"
       ]
      },
      {
       "output_type": "stream",
       "stream": "stdout",
       "text": [
        "\n",
        "User 579, tweets 200\n",
        "User 580, tweets 200"
       ]
      },
      {
       "output_type": "stream",
       "stream": "stdout",
       "text": [
        "\n",
        "User 581, tweets 199\n",
        "User 582, tweets 200"
       ]
      },
      {
       "output_type": "stream",
       "stream": "stdout",
       "text": [
        "\n",
        "User 583, tweets 200\n",
        "User 584, tweets 200"
       ]
      },
      {
       "output_type": "stream",
       "stream": "stdout",
       "text": [
        "\n",
        "User 585, tweets 199\n",
        "User 586, tweets 200"
       ]
      },
      {
       "output_type": "stream",
       "stream": "stdout",
       "text": [
        "\n",
        "User 587, tweets 200\n",
        "User 588, tweets 200"
       ]
      },
      {
       "output_type": "stream",
       "stream": "stdout",
       "text": [
        "\n",
        "User 589, tweets 200\n",
        "User 590, tweets 199"
       ]
      },
      {
       "output_type": "stream",
       "stream": "stdout",
       "text": [
        "\n",
        "User 591, tweets 200\n",
        "User 592, tweets 197"
       ]
      },
      {
       "output_type": "stream",
       "stream": "stdout",
       "text": [
        "\n",
        "User 593, tweets 200\n",
        "User 594, tweets 200"
       ]
      },
      {
       "output_type": "stream",
       "stream": "stdout",
       "text": [
        "\n",
        "User 595, tweets 200\n",
        "User 596, tweets 200\n",
        "User 597, tweets 200"
       ]
      },
      {
       "output_type": "stream",
       "stream": "stdout",
       "text": [
        "\n",
        "User 598, tweets 200\n",
        "User 599, tweets 200\n",
        "User 600, tweets 200"
       ]
      },
      {
       "output_type": "stream",
       "stream": "stdout",
       "text": [
        "\n",
        "User 601, tweets 200\n",
        "User 602, tweets 200"
       ]
      },
      {
       "output_type": "stream",
       "stream": "stdout",
       "text": [
        "\n",
        "User 603, tweets 198\n",
        "User 604, tweets 200\n",
        "User 605, tweets 200"
       ]
      },
      {
       "output_type": "stream",
       "stream": "stdout",
       "text": [
        "\n",
        "User 606, tweets 200\n",
        "User 607, tweets 198"
       ]
      },
      {
       "output_type": "stream",
       "stream": "stdout",
       "text": [
        "\n",
        "User 608, tweets 199\n",
        "User 609, tweets 200"
       ]
      },
      {
       "output_type": "stream",
       "stream": "stdout",
       "text": [
        "\n",
        "User 610, tweets 200\n",
        "User 611, tweets 200"
       ]
      },
      {
       "output_type": "stream",
       "stream": "stdout",
       "text": [
        "\n",
        "User 612, tweets 200\n",
        "User 613, tweets 200"
       ]
      },
      {
       "output_type": "stream",
       "stream": "stdout",
       "text": [
        "\n",
        "User 614, tweets 200\n",
        "User 615, tweets 200"
       ]
      },
      {
       "output_type": "stream",
       "stream": "stdout",
       "text": [
        "\n",
        "User 616, tweets 200\n",
        "User 617, tweets 200\n",
        "User 618, tweets 200"
       ]
      },
      {
       "output_type": "stream",
       "stream": "stdout",
       "text": [
        "\n",
        "User 619, tweets 200\n",
        "User 620, tweets 200"
       ]
      },
      {
       "output_type": "stream",
       "stream": "stdout",
       "text": [
        "\n",
        "User 621, tweets 200\n",
        "User 622, tweets 200"
       ]
      },
      {
       "output_type": "stream",
       "stream": "stdout",
       "text": [
        "\n",
        "User 623, tweets 200\n",
        "User 624, tweets 197"
       ]
      },
      {
       "output_type": "stream",
       "stream": "stdout",
       "text": [
        "\n",
        "User 625, tweets 195\n",
        "User 626, tweets 200"
       ]
      },
      {
       "output_type": "stream",
       "stream": "stdout",
       "text": [
        "\n",
        "User 627, tweets 200\n",
        "User 628, tweets 200\n",
        "User 629, tweets 199"
       ]
      },
      {
       "output_type": "stream",
       "stream": "stdout",
       "text": [
        "\n",
        "User 630, tweets 200\n",
        "User 631, tweets 200"
       ]
      },
      {
       "output_type": "stream",
       "stream": "stdout",
       "text": [
        "\n",
        "User 632, tweets 200\n",
        "User 633, tweets 200\n",
        "User 634, tweets 200"
       ]
      },
      {
       "output_type": "stream",
       "stream": "stdout",
       "text": [
        "\n",
        "User 635, tweets 200\n",
        "User 636, tweets 200"
       ]
      },
      {
       "output_type": "stream",
       "stream": "stdout",
       "text": [
        "\n",
        "User 637, tweets 200\n",
        "User 638, tweets 199"
       ]
      },
      {
       "output_type": "stream",
       "stream": "stdout",
       "text": [
        "\n",
        "User 639, tweets 200\n",
        "User 640, tweets 200\n",
        "User 641, tweets 200"
       ]
      },
      {
       "output_type": "stream",
       "stream": "stdout",
       "text": [
        "\n",
        "User 642, tweets 198\n",
        "User 643, tweets 199"
       ]
      },
      {
       "output_type": "stream",
       "stream": "stdout",
       "text": [
        "\n",
        "User 644, tweets 200\n",
        "User 645, tweets 200\n",
        "User 646, tweets 199"
       ]
      },
      {
       "output_type": "stream",
       "stream": "stdout",
       "text": [
        "\n",
        "User 647, tweets 199\n",
        "User 648, tweets 197"
       ]
      },
      {
       "output_type": "stream",
       "stream": "stdout",
       "text": [
        "\n",
        "User 649, tweets 199\n",
        "User 650, tweets 200"
       ]
      },
      {
       "output_type": "stream",
       "stream": "stdout",
       "text": [
        "\n",
        "User 651, tweets 198\n",
        "User 652, tweets 200"
       ]
      },
      {
       "output_type": "stream",
       "stream": "stdout",
       "text": [
        "\n",
        "User 653, tweets 200\n",
        "User 654, tweets 199"
       ]
      },
      {
       "output_type": "stream",
       "stream": "stdout",
       "text": [
        "\n",
        "User 655, tweets 200\n",
        "User 656, tweets 199"
       ]
      },
      {
       "output_type": "stream",
       "stream": "stdout",
       "text": [
        "\n",
        "User 657, tweets 200\n",
        "User 658, tweets 200"
       ]
      },
      {
       "output_type": "stream",
       "stream": "stdout",
       "text": [
        "\n",
        "User 659, tweets 200\n",
        "User 660, tweets 200"
       ]
      },
      {
       "output_type": "stream",
       "stream": "stdout",
       "text": [
        "\n",
        "User 661, tweets 200\n",
        "User 662, tweets 200"
       ]
      },
      {
       "output_type": "stream",
       "stream": "stdout",
       "text": [
        "\n",
        "User 663, tweets 200\n",
        "User 664, tweets 200"
       ]
      },
      {
       "output_type": "stream",
       "stream": "stdout",
       "text": [
        "\n",
        "User 665, tweets 198\n",
        "User 666, tweets 200"
       ]
      },
      {
       "output_type": "stream",
       "stream": "stdout",
       "text": [
        "\n",
        "User 667, tweets 198\n",
        "User 668, tweets 200"
       ]
      },
      {
       "output_type": "stream",
       "stream": "stdout",
       "text": [
        "\n",
        "User 669, tweets 200\n",
        "User 670, tweets 200\n",
        "User 671, tweets 200"
       ]
      },
      {
       "output_type": "stream",
       "stream": "stdout",
       "text": [
        "\n",
        "User 672, tweets 199\n",
        "User 673, tweets 200"
       ]
      },
      {
       "output_type": "stream",
       "stream": "stdout",
       "text": [
        "\n",
        "User 674, tweets 200"
       ]
      },
      {
       "output_type": "stream",
       "stream": "stdout",
       "text": [
        "\n",
        "User 675, tweets 200\n",
        "User 676, tweets 200"
       ]
      },
      {
       "output_type": "stream",
       "stream": "stdout",
       "text": [
        "\n",
        "User 677, tweets 2\n",
        "User 678, tweets 200\n",
        "User 679, tweets 196"
       ]
      },
      {
       "output_type": "stream",
       "stream": "stdout",
       "text": [
        "\n",
        "User 680, tweets 200\n",
        "User 681, tweets 200"
       ]
      },
      {
       "output_type": "stream",
       "stream": "stdout",
       "text": [
        "\n",
        "User 682, tweets 200\n",
        "User 683, tweets 200"
       ]
      },
      {
       "output_type": "stream",
       "stream": "stdout",
       "text": [
        "\n",
        "User 684, tweets 200\n",
        "User 685, tweets 200"
       ]
      },
      {
       "output_type": "stream",
       "stream": "stdout",
       "text": [
        "\n",
        "User 686, tweets 199\n",
        "User 687, tweets 199"
       ]
      },
      {
       "output_type": "stream",
       "stream": "stdout",
       "text": [
        "\n",
        "User 688, tweets 200\n",
        "User 689, tweets 200"
       ]
      },
      {
       "output_type": "stream",
       "stream": "stdout",
       "text": [
        "\n",
        "User 690, tweets 200\n",
        "User 691, tweets 200"
       ]
      },
      {
       "output_type": "stream",
       "stream": "stdout",
       "text": [
        "\n",
        "User 692, tweets 200\n",
        "User 693, tweets 200"
       ]
      },
      {
       "output_type": "stream",
       "stream": "stdout",
       "text": [
        "\n",
        "User 694, tweets 200\n",
        "User 695, tweets 199\n",
        "User 696, tweets 200"
       ]
      },
      {
       "output_type": "stream",
       "stream": "stdout",
       "text": [
        "\n",
        "User 697, tweets 196\n",
        "User 698, tweets 200"
       ]
      },
      {
       "output_type": "stream",
       "stream": "stdout",
       "text": [
        "\n",
        "User 699, tweets 200\n",
        "User 700, tweets 71\n",
        "User 701, tweets 200"
       ]
      },
      {
       "output_type": "stream",
       "stream": "stdout",
       "text": [
        "\n",
        "User 702, tweets 200\n",
        "User 703, tweets 200\n",
        "User 704, tweets 200"
       ]
      },
      {
       "output_type": "stream",
       "stream": "stdout",
       "text": [
        "\n",
        "User 705, tweets 200\n",
        "User 706, tweets 200"
       ]
      },
      {
       "output_type": "stream",
       "stream": "stdout",
       "text": [
        "\n",
        "User 707, tweets 200\n",
        "User 708, tweets 200"
       ]
      },
      {
       "output_type": "stream",
       "stream": "stdout",
       "text": [
        "\n",
        "User 709, tweets 200\n",
        "User 710, tweets 200"
       ]
      },
      {
       "output_type": "stream",
       "stream": "stdout",
       "text": [
        "\n",
        "User 711, tweets 200\n",
        "User 712, tweets 200"
       ]
      },
      {
       "output_type": "stream",
       "stream": "stdout",
       "text": [
        "\n",
        "User 713, tweets 200\n",
        "User 714, tweets 200\n",
        "User 715, tweets 197"
       ]
      },
      {
       "output_type": "stream",
       "stream": "stdout",
       "text": [
        "\n",
        "User 716, tweets 198\n",
        "User 717, tweets 200\n",
        "User 718, tweets 200"
       ]
      },
      {
       "output_type": "stream",
       "stream": "stdout",
       "text": [
        "\n",
        "User 719, tweets 200\n",
        "User 720, tweets 200"
       ]
      },
      {
       "output_type": "stream",
       "stream": "stdout",
       "text": [
        "\n",
        "User 721, tweets 197\n",
        "User 722, tweets 199"
       ]
      },
      {
       "output_type": "stream",
       "stream": "stdout",
       "text": [
        "\n",
        "User 723, tweets 200\n",
        "User 724, tweets 200"
       ]
      },
      {
       "output_type": "stream",
       "stream": "stdout",
       "text": [
        "\n",
        "User 725, tweets 200\n",
        "User 726, tweets 157\n",
        "User 727, tweets 198"
       ]
      },
      {
       "output_type": "stream",
       "stream": "stdout",
       "text": [
        "\n",
        "User 728, tweets 200\n",
        "User 729, tweets 200\n",
        "User 730, tweets 200"
       ]
      },
      {
       "output_type": "stream",
       "stream": "stdout",
       "text": [
        "\n",
        "User 731, tweets 200\n",
        "User 732, tweets 200"
       ]
      },
      {
       "output_type": "stream",
       "stream": "stdout",
       "text": [
        "\n",
        "User 733, tweets 200\n",
        "User 734, tweets 200"
       ]
      },
      {
       "output_type": "stream",
       "stream": "stdout",
       "text": [
        "\n",
        "User 735, tweets 6\n",
        "User 736, tweets 199\n",
        "User 737, tweets 200"
       ]
      },
      {
       "output_type": "stream",
       "stream": "stdout",
       "text": [
        "\n",
        "User 738, tweets 198\n",
        "User 739, tweets 200"
       ]
      },
      {
       "output_type": "stream",
       "stream": "stdout",
       "text": [
        "\n",
        "User 740, tweets 200\n",
        "User 741, tweets 200"
       ]
      },
      {
       "output_type": "stream",
       "stream": "stdout",
       "text": [
        "\n",
        "User 742, tweets 199\n",
        "User 743, tweets 200"
       ]
      },
      {
       "output_type": "stream",
       "stream": "stdout",
       "text": [
        "\n",
        "User 744, tweets 200\n",
        "User 745, tweets 199"
       ]
      },
      {
       "output_type": "stream",
       "stream": "stdout",
       "text": [
        "\n",
        "User 746, tweets 200\n",
        "User 747, tweets 200"
       ]
      },
      {
       "output_type": "stream",
       "stream": "stdout",
       "text": [
        "\n",
        "User 748, tweets 199\n",
        "User 749, tweets 200"
       ]
      },
      {
       "output_type": "stream",
       "stream": "stdout",
       "text": [
        "\n",
        "User 750, tweets 200\n",
        "User 751, tweets 200"
       ]
      },
      {
       "output_type": "stream",
       "stream": "stdout",
       "text": [
        "\n",
        "User 752, tweets 200\n",
        "User 753, tweets 198\n",
        "User 754, tweets 200"
       ]
      },
      {
       "output_type": "stream",
       "stream": "stdout",
       "text": [
        "\n",
        "User 755, tweets 200\n",
        "User 756, tweets 200\n",
        "User 757, tweets 200"
       ]
      },
      {
       "output_type": "stream",
       "stream": "stdout",
       "text": [
        "\n",
        "User 758, tweets 200\n",
        "User 759, tweets 200"
       ]
      },
      {
       "output_type": "stream",
       "stream": "stdout",
       "text": [
        "\n",
        "User 760, tweets 200\n",
        "User 761, tweets 200"
       ]
      },
      {
       "output_type": "stream",
       "stream": "stdout",
       "text": [
        "\n",
        "User 762, tweets 200\n",
        "User 763, tweets 198"
       ]
      },
      {
       "output_type": "stream",
       "stream": "stdout",
       "text": [
        "\n",
        "User 764, tweets 200\n",
        "User 765, tweets 200"
       ]
      },
      {
       "output_type": "stream",
       "stream": "stdout",
       "text": [
        "\n",
        "User 766, tweets 200\n",
        "User 767, tweets 200\n",
        "User 768, tweets 200"
       ]
      },
      {
       "output_type": "stream",
       "stream": "stdout",
       "text": [
        "\n",
        "User 769, tweets 200\n",
        "User 770, tweets 192\n",
        "User 771, tweets 200"
       ]
      },
      {
       "output_type": "stream",
       "stream": "stdout",
       "text": [
        "\n",
        "User 772, tweets 200\n",
        "User 773, tweets 200"
       ]
      },
      {
       "output_type": "stream",
       "stream": "stdout",
       "text": [
        "\n",
        "User 774, tweets 200\n",
        "User 775, tweets 200"
       ]
      },
      {
       "output_type": "stream",
       "stream": "stdout",
       "text": [
        "\n",
        "User 776, tweets 200\n",
        "User 777, tweets 200"
       ]
      },
      {
       "output_type": "stream",
       "stream": "stdout",
       "text": [
        "\n",
        "User 778, tweets 200\n",
        "User 779, tweets 200"
       ]
      },
      {
       "output_type": "stream",
       "stream": "stdout",
       "text": [
        "\n",
        "User 780, tweets 200\n",
        "User 781, tweets 200"
       ]
      },
      {
       "output_type": "stream",
       "stream": "stdout",
       "text": [
        "\n",
        "User 782, tweets 200\n",
        "User 783, tweets 198"
       ]
      },
      {
       "output_type": "stream",
       "stream": "stdout",
       "text": [
        "\n",
        "User 784, tweets 199\n",
        "User 785, tweets 200"
       ]
      },
      {
       "output_type": "stream",
       "stream": "stdout",
       "text": [
        "\n",
        "User 786, tweets 200\n",
        "User 787, tweets 200"
       ]
      },
      {
       "output_type": "stream",
       "stream": "stdout",
       "text": [
        "\n",
        "User 788, tweets 200\n",
        "User 789, tweets 200"
       ]
      },
      {
       "output_type": "stream",
       "stream": "stdout",
       "text": [
        "\n",
        "User 790, tweets 200\n",
        "User 791, tweets 200"
       ]
      },
      {
       "output_type": "stream",
       "stream": "stdout",
       "text": [
        "\n",
        "User 792, tweets 200\n",
        "User 793, tweets 200"
       ]
      },
      {
       "output_type": "stream",
       "stream": "stdout",
       "text": [
        "\n",
        "User 794, tweets 200\n",
        "User 795, tweets 193"
       ]
      },
      {
       "output_type": "stream",
       "stream": "stdout",
       "text": [
        "\n",
        "User 796, tweets 200\n",
        "User 797, tweets 200"
       ]
      },
      {
       "output_type": "stream",
       "stream": "stdout",
       "text": [
        "\n",
        "User 798, tweets 200\n",
        "User 799, tweets 200"
       ]
      },
      {
       "output_type": "stream",
       "stream": "stdout",
       "text": [
        "\n",
        "User 800, tweets 200\n",
        "User 801, tweets 200"
       ]
      },
      {
       "output_type": "stream",
       "stream": "stdout",
       "text": [
        "\n",
        "User 802, tweets 200\n",
        "User 803, tweets 200"
       ]
      },
      {
       "output_type": "stream",
       "stream": "stdout",
       "text": [
        "\n",
        "User 804, tweets 199\n",
        "User 805, tweets 200"
       ]
      },
      {
       "output_type": "stream",
       "stream": "stdout",
       "text": [
        "\n",
        "User 806, tweets 199\n",
        "User 807, tweets 200"
       ]
      },
      {
       "output_type": "stream",
       "stream": "stdout",
       "text": [
        "\n",
        "User 808, tweets 199\n",
        "User 809, tweets 200"
       ]
      },
      {
       "output_type": "stream",
       "stream": "stdout",
       "text": [
        "\n",
        "User 810, tweets 200\n",
        "User 811, tweets 200"
       ]
      },
      {
       "output_type": "stream",
       "stream": "stdout",
       "text": [
        "\n",
        "User 812, tweets 200\n",
        "User 813, tweets 200"
       ]
      },
      {
       "output_type": "stream",
       "stream": "stdout",
       "text": [
        "\n",
        "User 814, tweets 200\n",
        "User 815, tweets 200"
       ]
      },
      {
       "output_type": "stream",
       "stream": "stdout",
       "text": [
        "\n",
        "User 816, tweets 200\n",
        "User 817, tweets 199"
       ]
      },
      {
       "output_type": "stream",
       "stream": "stdout",
       "text": [
        "\n",
        "User 818, tweets 200\n",
        "User 819, tweets 199"
       ]
      },
      {
       "output_type": "stream",
       "stream": "stdout",
       "text": [
        "\n",
        "User 820, tweets 200\n",
        "User 821, tweets 200"
       ]
      },
      {
       "output_type": "stream",
       "stream": "stdout",
       "text": [
        "\n",
        "User 822, tweets 199\n",
        "User 823, tweets 200"
       ]
      },
      {
       "output_type": "stream",
       "stream": "stdout",
       "text": [
        "\n",
        "User 824, tweets 200"
       ]
      },
      {
       "output_type": "stream",
       "stream": "stdout",
       "text": [
        "\n",
        "User 825, tweets 200\n",
        "User 826, tweets 192\n",
        "User 827, tweets 200"
       ]
      },
      {
       "output_type": "stream",
       "stream": "stdout",
       "text": [
        "\n",
        "User 828, tweets 200\n",
        "User 829, tweets 200"
       ]
      },
      {
       "output_type": "stream",
       "stream": "stdout",
       "text": [
        "\n",
        "User 830, tweets 200\n",
        "User 831, tweets 200"
       ]
      },
      {
       "output_type": "stream",
       "stream": "stdout",
       "text": [
        "\n",
        "User 832, tweets 200\n",
        "User 833, tweets 200"
       ]
      },
      {
       "output_type": "stream",
       "stream": "stdout",
       "text": [
        "\n",
        "User 834, tweets 200\n",
        "User 835, tweets 200"
       ]
      },
      {
       "output_type": "stream",
       "stream": "stdout",
       "text": [
        "\n",
        "User 836, tweets 200\n",
        "User 837, tweets 200\n",
        "User 838, tweets 200"
       ]
      },
      {
       "output_type": "stream",
       "stream": "stdout",
       "text": [
        "\n",
        "User 839, tweets 200\n",
        "User 840, tweets 200"
       ]
      },
      {
       "output_type": "stream",
       "stream": "stdout",
       "text": [
        "\n",
        "User 841, tweets 200\n",
        "User 842, tweets 200\n",
        "User 843, tweets 200"
       ]
      },
      {
       "output_type": "stream",
       "stream": "stdout",
       "text": [
        "\n",
        "User 844, tweets 200\n",
        "User 845, tweets 195"
       ]
      },
      {
       "output_type": "stream",
       "stream": "stdout",
       "text": [
        "\n",
        "User 846, tweets 200\n",
        "User 847, tweets 200\n",
        "User 848, tweets 200"
       ]
      },
      {
       "output_type": "stream",
       "stream": "stdout",
       "text": [
        "\n",
        "User 849, tweets 200\n",
        "User 850, tweets 200"
       ]
      },
      {
       "output_type": "stream",
       "stream": "stdout",
       "text": [
        "\n",
        "User 851, tweets 200"
       ]
      },
      {
       "output_type": "stream",
       "stream": "stdout",
       "text": [
        "\n",
        "User 852, tweets 200\n",
        "User 853, tweets 198"
       ]
      },
      {
       "output_type": "stream",
       "stream": "stdout",
       "text": [
        "\n",
        "User 854, tweets 200\n",
        "User 855, tweets 199"
       ]
      },
      {
       "output_type": "stream",
       "stream": "stdout",
       "text": [
        "\n",
        "User 856, tweets 200\n",
        "User 857, tweets 200\n",
        "User 858, tweets 200"
       ]
      },
      {
       "output_type": "stream",
       "stream": "stdout",
       "text": [
        "\n",
        "User 859, tweets 200\n",
        "User 860, tweets 200\n",
        "User 861, tweets 198"
       ]
      },
      {
       "output_type": "stream",
       "stream": "stdout",
       "text": [
        "\n",
        "User 862, tweets 200\n",
        "User 863, tweets 200"
       ]
      },
      {
       "output_type": "stream",
       "stream": "stdout",
       "text": [
        "\n",
        "User 864, tweets 200\n",
        "User 865, tweets 199\n",
        "User 866, tweets 200"
       ]
      },
      {
       "output_type": "stream",
       "stream": "stdout",
       "text": [
        "\n",
        "User 867, tweets 200\n",
        "User 868, tweets 200"
       ]
      },
      {
       "output_type": "stream",
       "stream": "stdout",
       "text": [
        "\n",
        "User 869, tweets 200\n",
        "User 870, tweets 200"
       ]
      },
      {
       "output_type": "stream",
       "stream": "stdout",
       "text": [
        "\n",
        "User 871, tweets 199\n",
        "User 872, tweets 200"
       ]
      },
      {
       "output_type": "stream",
       "stream": "stdout",
       "text": [
        "\n",
        "User 873, tweets 200\n",
        "User 874, tweets 200\n",
        "User 875, tweets 198"
       ]
      },
      {
       "output_type": "stream",
       "stream": "stdout",
       "text": [
        "\n",
        "User 876, tweets 200"
       ]
      },
      {
       "output_type": "stream",
       "stream": "stdout",
       "text": [
        "\n",
        "User 877, tweets 200\n",
        "User 878, tweets 200"
       ]
      },
      {
       "output_type": "stream",
       "stream": "stdout",
       "text": [
        "\n",
        "User 879, tweets 200\n",
        "User 880, tweets 200"
       ]
      },
      {
       "output_type": "stream",
       "stream": "stdout",
       "text": [
        "\n",
        "User 881, tweets 200\n",
        "User 882, tweets 200\n"
       ]
      }
     ],
     "prompt_number": 68
    },
    {
     "cell_type": "code",
     "collapsed": false,
     "input": [
      "f2 = open(data_path + \"/bots.json\")\n",
      "for line2 in f2:\n",
      "    bots = line2.split(\"]][[\")\n",
      "#     print bots[0]\n",
      "    last = len(bots)\n",
      "\n",
      "print \"Total %s users\" % last\n",
      " "
     ],
     "language": "python",
     "metadata": {},
     "outputs": [
      {
       "output_type": "stream",
       "stream": "stdout",
       "text": [
        "Total 898 users\n"
       ]
      }
     ],
     "prompt_number": 73
    },
    {
     "cell_type": "code",
     "collapsed": false,
     "input": [
      "from collections import Counter\n",
      "\n",
      "bts = Counter()\n",
      "for i,tweets in enumerate(bots):\n",
      "    if i == 0:\n",
      "        t = json.loads(tweets[1:] + \"]\")\n",
      "    elif i == (last-1):\n",
      "        t = json.loads(\"[\"+tweets[:-1])\n",
      "    else:\n",
      "        t = json.loads(\"[\"+tweets+\"]\")\n",
      "    bts.update([len(t)])\n",
      "#         print \"User %s, tweets %s\" % (i, len(t))\n"
     ],
     "language": "python",
     "metadata": {},
     "outputs": [],
     "prompt_number": 76
    },
    {
     "cell_type": "code",
     "collapsed": false,
     "input": [
      "import numpy as np\n",
      "print bts.most_common(4)"
     ],
     "language": "python",
     "metadata": {},
     "outputs": [
      {
       "output_type": "stream",
       "stream": "stdout",
       "text": [
        "[(200, 728), (199, 61), (198, 14), (197, 13)]\n"
       ]
      }
     ],
     "prompt_number": 77
    },
    {
     "cell_type": "code",
     "collapsed": false,
     "input": [
      "import numpy as np\n",
      "\n",
      "print sum(bts)\n",
      "print np.mean(np.array(bts.values()) * np.array(bts.keys()))"
     ],
     "language": "python",
     "metadata": {},
     "outputs": [
      {
       "output_type": "stream",
       "stream": "stdout",
       "text": [
        "6617\n",
        "2605.18181818\n"
       ]
      }
     ],
     "prompt_number": 84
    },
    {
     "cell_type": "code",
     "collapsed": false,
     "input": [
      "print np.array(bts.keys()) "
     ],
     "language": "python",
     "metadata": {},
     "outputs": [
      {
       "output_type": "stream",
       "stream": "stdout",
       "text": [
        "[192   3   5   6 135 136   9  12  14  15  16 147 148  21 150  25  69  31\n",
        " 161  34  35   1  70  65  40 169  43  46 176  49  51 180 182  55  56 186\n",
        " 187 190 191  64 193 195 196 197 198 199 200  74  76  77  79  80  86 101\n",
        "  58  94 165 134 102 104  63 106 110 116 123 126]\n"
       ]
      }
     ],
     "prompt_number": 86
    },
    {
     "cell_type": "code",
     "collapsed": false,
     "input": [],
     "language": "python",
     "metadata": {},
     "outputs": []
    }
   ],
   "metadata": {}
  }
 ]
}