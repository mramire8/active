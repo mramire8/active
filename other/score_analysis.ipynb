{
 "metadata": {
  "name": ""
 },
 "nbformat": 3,
 "nbformat_minor": 0,
 "worksheets": [
  {
   "cells": [
    {
     "cell_type": "code",
     "collapsed": false,
     "input": [
      "import numpy as np\n",
      "import matplotlib.pyplot as plt\n",
      "import matplotlib as mpl\n",
      "\n",
      "mpl.style.use('bmh')\n",
      "\n",
      "path = \"C:/Users/mramire8/Google Drive/AAL-Experiments/aal_python/sr-oracle-test/results-calibrated/zscores/score-analysis\"\n",
      "trial = \"trial0-student5k.txt\"\n",
      "\n",
      "def load_trial(filename):\n",
      "    data = np.loadtxt(path+\"/\"+filename, skiprows=1)\n",
      "    return data\n",
      "\n",
      "def read_data(filename):\n",
      "    f = open(path+\"/\"+filename)\n",
      "    with f:\n",
      "        lines = f.readlines() \n",
      "    return np.array([l.strip().split(\"\\t\") for l in lines[1:]]), lines[0]\n",
      "\n",
      "t,headers = read_data(trial)\n",
      "t0 = load_trial(trial)    \n",
      "    "
     ],
     "language": "python",
     "metadata": {},
     "outputs": [],
     "prompt_number": 51
    },
    {
     "cell_type": "code",
     "collapsed": false,
     "input": [
      "print \"Number of sentences\", len(t)\n",
      "print \"Number of Documents\", len(np.unique(t[:,1]))\n",
      "print \"Headers\", headers"
     ],
     "language": "python",
     "metadata": {},
     "outputs": [
      {
       "output_type": "stream",
       "stream": "stdout",
       "text": [
        "Number of sentences 3117\n",
        "Number of Documents 250\n",
        "Headers SENTID\tDOCID\tSCORE\tRANK\tCALSCORE\tCALRANK\tORAPRED\tTRUELABEL\tPy0\tSTUDENTLABEL\tCorrectlyLabeled?\tStudentCorrect?\tRankDiff\n",
        "\n"
       ]
      }
     ],
     "prompt_number": 11
    },
    {
     "cell_type": "code",
     "collapsed": false,
     "input": [
      "def get_doc(data, docid):\n",
      "    return np.array([d for d in data if d[1] == docid])\n",
      "#     return data[data[1]==docid,:]\n",
      "RANK=3\n",
      "CRANK=5\n"
     ],
     "language": "python",
     "metadata": {},
     "outputs": [],
     "prompt_number": 34
    },
    {
     "cell_type": "code",
     "collapsed": false,
     "input": [
      "from scipy.stats import pearsonr\n",
      "def get_pearson_doc(data):\n",
      "    result = dict()\n",
      "    for did in np.unique(data[:,1]):\n",
      "        doc =get_doc(data,did)\n",
      "        result[did]=pearsonr(doc[:,RANK], doc[:,CRANK])[0]\n",
      "    return result"
     ],
     "language": "python",
     "metadata": {},
     "outputs": [],
     "prompt_number": 38
    },
    {
     "cell_type": "code",
     "collapsed": false,
     "input": [
      "corr = sorted(get_pearson_doc(t0).items(),key=lambda x: x[1], reverse=True)\n",
      "\n",
      "print \"\\n\".join([\"docid:{}\\tcorrel:{}\".format(d,p) for d,p in corr[:10]])\n"
     ],
     "language": "python",
     "metadata": {},
     "outputs": [
      {
       "output_type": "stream",
       "stream": "stdout",
       "text": [
        "docid:3.0\tcorrel:1.0\n",
        "docid:5127.0\tcorrel:1.0\n",
        "docid:10251.0\tcorrel:1.0\n",
        "docid:8195.0\tcorrel:1.0\n",
        "docid:539.0\tcorrel:1.0\n",
        "docid:7200.0\tcorrel:1.0\n",
        "docid:2593.0\tcorrel:1.0\n",
        "docid:3619.0\tcorrel:1.0\n",
        "docid:10401.0\tcorrel:1.0\n",
        "docid:2603.0\tcorrel:1.0\n"
       ]
      }
     ],
     "prompt_number": 60
    },
    {
     "cell_type": "code",
     "collapsed": false,
     "input": [
      "from collections import Counter\n",
      "corr_dist = Counter([c[1] for c in corr])\n",
      "plt.hist(corr_dist.keys(),weights=corr_dist.values(), bins=np.arange(.8,1.001,.01))\n",
      "plt.title(\"Correlation Distribution Ranks - (mean: {0:.3f})\".format(np.mean([c[1] for c in corr])))\n",
      "plt.xlabel(\"Pearson Correlation\")\n",
      "plt.ylabel(\"Frequency\")\n"
     ],
     "language": "python",
     "metadata": {},
     "outputs": [
      {
       "metadata": {},
       "output_type": "pyout",
       "prompt_number": 67,
       "text": [
        "<matplotlib.text.Text at 0x167bd9b0>"
       ]
      },
      {
       "metadata": {},
       "output_type": "display_data",
       "png": "[encoded data removed]",
       "text": [
        "<matplotlib.figure.Figure at 0x16a57710>"
       ]
      }
     ],
     "prompt_number": 67
    },
    {
     "cell_type": "code",
     "collapsed": false,
     "input": [
      "t0="
     ],
     "language": "python",
     "metadata": {},
     "outputs": [
      {
       "metadata": {},
       "output_type": "pyout",
       "prompt_number": 64,
       "text": [
        "array([ 0.1,  0.2,  0.3,  0.4,  0.5,  0.6,  0.7,  0.8,  0.9])"
       ]
      }
     ],
     "prompt_number": 64
    },
    {
     "cell_type": "code",
     "collapsed": false,
     "input": [],
     "language": "python",
     "metadata": {},
     "outputs": []
    }
   ],
   "metadata": {}
  }
 ]
}